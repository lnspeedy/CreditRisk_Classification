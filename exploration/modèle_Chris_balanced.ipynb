{
 "cells": [
  {
   "cell_type": "markdown",
   "metadata": {
    "id": "ykBSVDUGDkGp"
   },
   "source": [
    "# 1- Importation des librairies pour tester les différents modèles"
   ]
  },
  {
   "cell_type": "code",
   "execution_count": null,
   "metadata": {
    "id": "1A5N_6lXI5i6"
   },
   "outputs": [],
   "source": [
    "pip install lazypredict"
   ]
  },
  {
   "cell_type": "code",
   "execution_count": 2,
   "metadata": {},
   "outputs": [
    {
     "name": "stdout",
     "output_type": "stream",
     "text": [
      "Collecting imbalanced-learn\n",
      "  Downloading imbalanced_learn-0.8.0-py3-none-any.whl (206 kB)\n",
      "Requirement already satisfied, skipping upgrade: numpy>=1.13.3 in c:\\users\\hp\\anaconda3\\lib\\site-packages (from imbalanced-learn) (1.19.2)\n",
      "Requirement already satisfied, skipping upgrade: joblib>=0.11 in c:\\users\\hp\\anaconda3\\lib\\site-packages (from imbalanced-learn) (0.17.0)\n",
      "Note: you may need to restart the kernel to use updated packages.Requirement already satisfied, skipping upgrade: scipy>=0.19.1 in c:\\users\\hp\\anaconda3\\lib\\site-packages (from imbalanced-learn) (1.5.2)\n",
      "\n"
     ]
    },
    {
     "name": "stderr",
     "output_type": "stream",
     "text": [
      "ERROR: Could not install packages due to an EnvironmentError: [WinError 5] Accès refusé: 'C:\\\\Users\\\\HP\\\\anaconda3\\\\Lib\\\\site-packages\\\\~klearn\\\\cluster\\\\_dbscan_inner.cp38-win_amd64.pyd'\n",
      "Consider using the `--user` option or check the permissions.\n",
      "\n"
     ]
    },
    {
     "name": "stdout",
     "output_type": "stream",
     "text": [
      "Collecting scikit-learn>=0.24\n",
      "  Downloading scikit_learn-0.24.2-cp38-cp38-win_amd64.whl (6.9 MB)\n",
      "Requirement already satisfied, skipping upgrade: threadpoolctl>=2.0.0 in c:\\users\\hp\\anaconda3\\lib\\site-packages (from scikit-learn>=0.24->imbalanced-learn) (2.1.0)\n",
      "Installing collected packages: scikit-learn, imbalanced-learn\n",
      "  Attempting uninstall: scikit-learn\n",
      "    Found existing installation: scikit-learn 0.23.2\n",
      "    Uninstalling scikit-learn-0.23.2:\n",
      "      Successfully uninstalled scikit-learn-0.23.2\n"
     ]
    }
   ],
   "source": [
    "pip install -U imbalanced-learn"
   ]
  },
  {
   "cell_type": "code",
   "execution_count": 108,
   "metadata": {
    "id": "M1ArjOFnDkGy"
   },
   "outputs": [],
   "source": [
    "import numpy as np\n",
    "import pandas as pd\n",
    "import seaborn as sns\n",
    "#from lazypredict.Supervised import LazyClassifier\n",
    "from sklearn.linear_model import LogisticRegression\n",
    "from sklearn.model_selection import train_test_split\n",
    "from sklearn.naive_bayes import GaussianNB, BernoulliNB\n",
    "from sklearn.neighbors import KNeighborsClassifier\n",
    "from sklearn.ensemble import RandomForestClassifier\n",
    "from sklearn.neural_network import MLPClassifier, BernoulliRBM\n",
    "from xgboost import XGBClassifier\n",
    "from sklearn.svm import NuSVC\n",
    "from sklearn.svm import SVC\n",
    "import sklearn.metrics as metrics\n",
    "from sklearn.metrics import accuracy_score\n",
    "from sklearn.metrics import classification_report, confusion_matrix\n",
    "import matplotlib.pyplot as plt\n",
    "import timeit, time\n",
    "from sklearn.model_selection import learning_curve\n",
    "from sklearn.pipeline import make_pipeline\n",
    "from sklearn.feature_selection import SelectKBest, f_classif, chi2\n",
    "from sklearn.preprocessing import PolynomialFeatures\n",
    "from imblearn.over_sampling import SMOTE\n",
    "import warnings\n",
    "warnings.filterwarnings(\"ignore\")"
   ]
  },
  {
   "cell_type": "code",
   "execution_count": 182,
   "metadata": {
    "id": "P4Zz01fzDkG1"
   },
   "outputs": [],
   "source": [
    "train = pd.read_csv('train_final.csv')"
   ]
  },
  {
   "cell_type": "code",
   "execution_count": 183,
   "metadata": {
    "id": "-4zUl7MkDkG2"
   },
   "outputs": [],
   "source": [
    "train.set_index('id', inplace = True)"
   ]
  },
  {
   "cell_type": "code",
   "execution_count": 184,
   "metadata": {
    "colab": {
     "base_uri": "https://localhost:8080/",
     "height": 485
    },
    "id": "ZIVHZmMaDkG3",
    "outputId": "eef17265-1c03-4d85-e7b9-d725f6c150ae"
   },
   "outputs": [
    {
     "data": {
      "text/html": [
       "<div>\n",
       "<style scoped>\n",
       "    .dataframe tbody tr th:only-of-type {\n",
       "        vertical-align: middle;\n",
       "    }\n",
       "\n",
       "    .dataframe tbody tr th {\n",
       "        vertical-align: top;\n",
       "    }\n",
       "\n",
       "    .dataframe thead th {\n",
       "        text-align: right;\n",
       "    }\n",
       "</style>\n",
       "<table border=\"1\" class=\"dataframe\">\n",
       "  <thead>\n",
       "    <tr style=\"text-align: right;\">\n",
       "      <th></th>\n",
       "      <th>duration</th>\n",
       "      <th>credit_amount</th>\n",
       "      <th>installment_commitment</th>\n",
       "      <th>residence_since</th>\n",
       "      <th>age</th>\n",
       "      <th>existing_credits</th>\n",
       "      <th>num_dependents</th>\n",
       "      <th>checking_status</th>\n",
       "      <th>employment</th>\n",
       "      <th>savings_status</th>\n",
       "      <th>...</th>\n",
       "      <th>other_payment_plans_bank</th>\n",
       "      <th>other_payment_plans_none</th>\n",
       "      <th>other_payment_plans_stores</th>\n",
       "      <th>housing_for free</th>\n",
       "      <th>housing_own</th>\n",
       "      <th>housing_rent</th>\n",
       "      <th>job_high qualif/self emp/mgmt</th>\n",
       "      <th>job_skilled</th>\n",
       "      <th>job_unemp/unskilled non res</th>\n",
       "      <th>job_unskilled resident</th>\n",
       "    </tr>\n",
       "    <tr>\n",
       "      <th>id</th>\n",
       "      <th></th>\n",
       "      <th></th>\n",
       "      <th></th>\n",
       "      <th></th>\n",
       "      <th></th>\n",
       "      <th></th>\n",
       "      <th></th>\n",
       "      <th></th>\n",
       "      <th></th>\n",
       "      <th></th>\n",
       "      <th></th>\n",
       "      <th></th>\n",
       "      <th></th>\n",
       "      <th></th>\n",
       "      <th></th>\n",
       "      <th></th>\n",
       "      <th></th>\n",
       "      <th></th>\n",
       "      <th></th>\n",
       "      <th></th>\n",
       "      <th></th>\n",
       "    </tr>\n",
       "  </thead>\n",
       "  <tbody>\n",
       "    <tr>\n",
       "      <th>786</th>\n",
       "      <td>0.004720</td>\n",
       "      <td>0.145779</td>\n",
       "      <td>-0.887544</td>\n",
       "      <td>0.126188</td>\n",
       "      <td>-0.763359</td>\n",
       "      <td>1.048759</td>\n",
       "      <td>-0.436436</td>\n",
       "      <td>2</td>\n",
       "      <td>3</td>\n",
       "      <td>1</td>\n",
       "      <td>...</td>\n",
       "      <td>0</td>\n",
       "      <td>1</td>\n",
       "      <td>0</td>\n",
       "      <td>0</td>\n",
       "      <td>1</td>\n",
       "      <td>0</td>\n",
       "      <td>0</td>\n",
       "      <td>1</td>\n",
       "      <td>0</td>\n",
       "      <td>0</td>\n",
       "    </tr>\n",
       "    <tr>\n",
       "      <th>874</th>\n",
       "      <td>0.254628</td>\n",
       "      <td>-0.365745</td>\n",
       "      <td>0.917630</td>\n",
       "      <td>1.042068</td>\n",
       "      <td>1.439486</td>\n",
       "      <td>1.048759</td>\n",
       "      <td>-0.436436</td>\n",
       "      <td>0</td>\n",
       "      <td>4</td>\n",
       "      <td>2</td>\n",
       "      <td>...</td>\n",
       "      <td>1</td>\n",
       "      <td>0</td>\n",
       "      <td>0</td>\n",
       "      <td>0</td>\n",
       "      <td>1</td>\n",
       "      <td>0</td>\n",
       "      <td>0</td>\n",
       "      <td>1</td>\n",
       "      <td>0</td>\n",
       "      <td>0</td>\n",
       "    </tr>\n",
       "    <tr>\n",
       "      <th>66</th>\n",
       "      <td>-0.745002</td>\n",
       "      <td>-0.699364</td>\n",
       "      <td>0.917630</td>\n",
       "      <td>-0.789692</td>\n",
       "      <td>-0.058449</td>\n",
       "      <td>1.048759</td>\n",
       "      <td>-0.436436</td>\n",
       "      <td>0</td>\n",
       "      <td>2</td>\n",
       "      <td>1</td>\n",
       "      <td>...</td>\n",
       "      <td>0</td>\n",
       "      <td>1</td>\n",
       "      <td>0</td>\n",
       "      <td>0</td>\n",
       "      <td>1</td>\n",
       "      <td>0</td>\n",
       "      <td>0</td>\n",
       "      <td>1</td>\n",
       "      <td>0</td>\n",
       "      <td>0</td>\n",
       "    </tr>\n",
       "    <tr>\n",
       "      <th>903</th>\n",
       "      <td>0.254628</td>\n",
       "      <td>-0.311335</td>\n",
       "      <td>0.917630</td>\n",
       "      <td>-0.789692</td>\n",
       "      <td>0.734575</td>\n",
       "      <td>1.048759</td>\n",
       "      <td>2.291288</td>\n",
       "      <td>0</td>\n",
       "      <td>2</td>\n",
       "      <td>3</td>\n",
       "      <td>...</td>\n",
       "      <td>0</td>\n",
       "      <td>1</td>\n",
       "      <td>0</td>\n",
       "      <td>0</td>\n",
       "      <td>1</td>\n",
       "      <td>0</td>\n",
       "      <td>0</td>\n",
       "      <td>1</td>\n",
       "      <td>0</td>\n",
       "      <td>0</td>\n",
       "    </tr>\n",
       "    <tr>\n",
       "      <th>318</th>\n",
       "      <td>1.254257</td>\n",
       "      <td>0.433221</td>\n",
       "      <td>-0.887544</td>\n",
       "      <td>-0.789692</td>\n",
       "      <td>-0.499018</td>\n",
       "      <td>1.048759</td>\n",
       "      <td>-0.436436</td>\n",
       "      <td>2</td>\n",
       "      <td>2</td>\n",
       "      <td>1</td>\n",
       "      <td>...</td>\n",
       "      <td>0</td>\n",
       "      <td>0</td>\n",
       "      <td>1</td>\n",
       "      <td>0</td>\n",
       "      <td>1</td>\n",
       "      <td>0</td>\n",
       "      <td>1</td>\n",
       "      <td>0</td>\n",
       "      <td>0</td>\n",
       "      <td>0</td>\n",
       "    </tr>\n",
       "    <tr>\n",
       "      <th>...</th>\n",
       "      <td>...</td>\n",
       "      <td>...</td>\n",
       "      <td>...</td>\n",
       "      <td>...</td>\n",
       "      <td>...</td>\n",
       "      <td>...</td>\n",
       "      <td>...</td>\n",
       "      <td>...</td>\n",
       "      <td>...</td>\n",
       "      <td>...</td>\n",
       "      <td>...</td>\n",
       "      <td>...</td>\n",
       "      <td>...</td>\n",
       "      <td>...</td>\n",
       "      <td>...</td>\n",
       "      <td>...</td>\n",
       "      <td>...</td>\n",
       "      <td>...</td>\n",
       "      <td>...</td>\n",
       "      <td>...</td>\n",
       "      <td>...</td>\n",
       "    </tr>\n",
       "    <tr>\n",
       "      <th>836</th>\n",
       "      <td>-0.745002</td>\n",
       "      <td>-0.766660</td>\n",
       "      <td>0.917630</td>\n",
       "      <td>0.126188</td>\n",
       "      <td>-0.587132</td>\n",
       "      <td>1.048759</td>\n",
       "      <td>-0.436436</td>\n",
       "      <td>2</td>\n",
       "      <td>3</td>\n",
       "      <td>1</td>\n",
       "      <td>...</td>\n",
       "      <td>0</td>\n",
       "      <td>1</td>\n",
       "      <td>0</td>\n",
       "      <td>0</td>\n",
       "      <td>1</td>\n",
       "      <td>0</td>\n",
       "      <td>0</td>\n",
       "      <td>1</td>\n",
       "      <td>0</td>\n",
       "      <td>0</td>\n",
       "    </tr>\n",
       "    <tr>\n",
       "      <th>193</th>\n",
       "      <td>-0.911606</td>\n",
       "      <td>-0.705091</td>\n",
       "      <td>0.917630</td>\n",
       "      <td>-0.789692</td>\n",
       "      <td>-1.115814</td>\n",
       "      <td>-0.705670</td>\n",
       "      <td>-0.436436</td>\n",
       "      <td>3</td>\n",
       "      <td>1</td>\n",
       "      <td>1</td>\n",
       "      <td>...</td>\n",
       "      <td>0</td>\n",
       "      <td>1</td>\n",
       "      <td>0</td>\n",
       "      <td>0</td>\n",
       "      <td>1</td>\n",
       "      <td>0</td>\n",
       "      <td>0</td>\n",
       "      <td>1</td>\n",
       "      <td>0</td>\n",
       "      <td>0</td>\n",
       "    </tr>\n",
       "    <tr>\n",
       "      <th>630</th>\n",
       "      <td>-1.411421</td>\n",
       "      <td>-0.626698</td>\n",
       "      <td>-1.790132</td>\n",
       "      <td>-0.789692</td>\n",
       "      <td>-0.587132</td>\n",
       "      <td>-0.705670</td>\n",
       "      <td>2.291288</td>\n",
       "      <td>3</td>\n",
       "      <td>1</td>\n",
       "      <td>0</td>\n",
       "      <td>...</td>\n",
       "      <td>0</td>\n",
       "      <td>1</td>\n",
       "      <td>0</td>\n",
       "      <td>0</td>\n",
       "      <td>1</td>\n",
       "      <td>0</td>\n",
       "      <td>0</td>\n",
       "      <td>0</td>\n",
       "      <td>0</td>\n",
       "      <td>1</td>\n",
       "    </tr>\n",
       "    <tr>\n",
       "      <th>560</th>\n",
       "      <td>-0.411792</td>\n",
       "      <td>-0.740887</td>\n",
       "      <td>-0.887544</td>\n",
       "      <td>0.126188</td>\n",
       "      <td>2.849307</td>\n",
       "      <td>2.803188</td>\n",
       "      <td>-0.436436</td>\n",
       "      <td>2</td>\n",
       "      <td>0</td>\n",
       "      <td>1</td>\n",
       "      <td>...</td>\n",
       "      <td>0</td>\n",
       "      <td>1</td>\n",
       "      <td>0</td>\n",
       "      <td>1</td>\n",
       "      <td>0</td>\n",
       "      <td>0</td>\n",
       "      <td>0</td>\n",
       "      <td>0</td>\n",
       "      <td>1</td>\n",
       "      <td>0</td>\n",
       "    </tr>\n",
       "    <tr>\n",
       "      <th>685</th>\n",
       "      <td>0.587838</td>\n",
       "      <td>-0.179606</td>\n",
       "      <td>0.917630</td>\n",
       "      <td>-0.789692</td>\n",
       "      <td>-0.587132</td>\n",
       "      <td>1.048759</td>\n",
       "      <td>-0.436436</td>\n",
       "      <td>0</td>\n",
       "      <td>4</td>\n",
       "      <td>1</td>\n",
       "      <td>...</td>\n",
       "      <td>0</td>\n",
       "      <td>1</td>\n",
       "      <td>0</td>\n",
       "      <td>0</td>\n",
       "      <td>1</td>\n",
       "      <td>0</td>\n",
       "      <td>0</td>\n",
       "      <td>1</td>\n",
       "      <td>0</td>\n",
       "      <td>0</td>\n",
       "    </tr>\n",
       "  </tbody>\n",
       "</table>\n",
       "<p>900 rows × 48 columns</p>\n",
       "</div>"
      ],
      "text/plain": [
       "     duration  credit_amount  installment_commitment  residence_since  \\\n",
       "id                                                                      \n",
       "786  0.004720       0.145779               -0.887544         0.126188   \n",
       "874  0.254628      -0.365745                0.917630         1.042068   \n",
       "66  -0.745002      -0.699364                0.917630        -0.789692   \n",
       "903  0.254628      -0.311335                0.917630        -0.789692   \n",
       "318  1.254257       0.433221               -0.887544        -0.789692   \n",
       "..        ...            ...                     ...              ...   \n",
       "836 -0.745002      -0.766660                0.917630         0.126188   \n",
       "193 -0.911606      -0.705091                0.917630        -0.789692   \n",
       "630 -1.411421      -0.626698               -1.790132        -0.789692   \n",
       "560 -0.411792      -0.740887               -0.887544         0.126188   \n",
       "685  0.587838      -0.179606                0.917630        -0.789692   \n",
       "\n",
       "          age  existing_credits  num_dependents  checking_status  employment  \\\n",
       "id                                                                             \n",
       "786 -0.763359          1.048759       -0.436436                2           3   \n",
       "874  1.439486          1.048759       -0.436436                0           4   \n",
       "66  -0.058449          1.048759       -0.436436                0           2   \n",
       "903  0.734575          1.048759        2.291288                0           2   \n",
       "318 -0.499018          1.048759       -0.436436                2           2   \n",
       "..        ...               ...             ...              ...         ...   \n",
       "836 -0.587132          1.048759       -0.436436                2           3   \n",
       "193 -1.115814         -0.705670       -0.436436                3           1   \n",
       "630 -0.587132         -0.705670        2.291288                3           1   \n",
       "560  2.849307          2.803188       -0.436436                2           0   \n",
       "685 -0.587132          1.048759       -0.436436                0           4   \n",
       "\n",
       "     savings_status  ...  other_payment_plans_bank  other_payment_plans_none  \\\n",
       "id                   ...                                                       \n",
       "786               1  ...                         0                         1   \n",
       "874               2  ...                         1                         0   \n",
       "66                1  ...                         0                         1   \n",
       "903               3  ...                         0                         1   \n",
       "318               1  ...                         0                         0   \n",
       "..              ...  ...                       ...                       ...   \n",
       "836               1  ...                         0                         1   \n",
       "193               1  ...                         0                         1   \n",
       "630               0  ...                         0                         1   \n",
       "560               1  ...                         0                         1   \n",
       "685               1  ...                         0                         1   \n",
       "\n",
       "     other_payment_plans_stores  housing_for free  housing_own  housing_rent  \\\n",
       "id                                                                             \n",
       "786                           0                 0            1             0   \n",
       "874                           0                 0            1             0   \n",
       "66                            0                 0            1             0   \n",
       "903                           0                 0            1             0   \n",
       "318                           1                 0            1             0   \n",
       "..                          ...               ...          ...           ...   \n",
       "836                           0                 0            1             0   \n",
       "193                           0                 0            1             0   \n",
       "630                           0                 0            1             0   \n",
       "560                           0                 1            0             0   \n",
       "685                           0                 0            1             0   \n",
       "\n",
       "     job_high qualif/self emp/mgmt  job_skilled  job_unemp/unskilled non res  \\\n",
       "id                                                                             \n",
       "786                              0            1                            0   \n",
       "874                              0            1                            0   \n",
       "66                               0            1                            0   \n",
       "903                              0            1                            0   \n",
       "318                              1            0                            0   \n",
       "..                             ...          ...                          ...   \n",
       "836                              0            1                            0   \n",
       "193                              0            1                            0   \n",
       "630                              0            0                            0   \n",
       "560                              0            0                            1   \n",
       "685                              0            1                            0   \n",
       "\n",
       "     job_unskilled resident  \n",
       "id                           \n",
       "786                       0  \n",
       "874                       0  \n",
       "66                        0  \n",
       "903                       0  \n",
       "318                       0  \n",
       "..                      ...  \n",
       "836                       0  \n",
       "193                       0  \n",
       "630                       1  \n",
       "560                       0  \n",
       "685                       0  \n",
       "\n",
       "[900 rows x 48 columns]"
      ]
     },
     "execution_count": 184,
     "metadata": {},
     "output_type": "execute_result"
    }
   ],
   "source": [
    "train"
   ]
  },
  {
   "cell_type": "markdown",
   "metadata": {
    "id": "VTSlNjwFDkG3"
   },
   "source": [
    "# 2- Determination de la target value et split du dataset"
   ]
  },
  {
   "cell_type": "code",
   "execution_count": 185,
   "metadata": {
    "id": "l6x0mI-IDkG4"
   },
   "outputs": [],
   "source": [
    "y= train['class']\n",
    "del train['class']\n",
    "X = train"
   ]
  },
  {
   "cell_type": "code",
   "execution_count": 186,
   "metadata": {
    "id": "ugZOfW_6DkG5"
   },
   "outputs": [],
   "source": [
    "X_train, X_test, y_train, y_test = train_test_split(X, y, test_size=0.2, random_state = 0)"
   ]
  },
  {
   "cell_type": "code",
   "execution_count": 187,
   "metadata": {
    "colab": {
     "base_uri": "https://localhost:8080/"
    },
    "id": "GAKAy8gQDkG5",
    "outputId": "834170ee-6ec6-4692-e924-85c181896eab"
   },
   "outputs": [
    {
     "data": {
      "text/plain": [
       "(720, 47)"
      ]
     },
     "execution_count": 187,
     "metadata": {},
     "output_type": "execute_result"
    }
   ],
   "source": [
    "X_train.shape"
   ]
  },
  {
   "cell_type": "code",
   "execution_count": 188,
   "metadata": {
    "colab": {
     "base_uri": "https://localhost:8080/"
    },
    "id": "VGphkK_bDkG6",
    "outputId": "522f004c-593b-4db9-e560-678f30973bc5"
   },
   "outputs": [
    {
     "data": {
      "text/plain": [
       "(720,)"
      ]
     },
     "execution_count": 188,
     "metadata": {},
     "output_type": "execute_result"
    }
   ],
   "source": [
    "y_train.shape"
   ]
  },
  {
   "cell_type": "code",
   "execution_count": 189,
   "metadata": {
    "colab": {
     "base_uri": "https://localhost:8080/"
    },
    "id": "mjFr9hXmDkG6",
    "outputId": "ea407c2a-8d1e-4a2d-bb6d-4964d88dd13c"
   },
   "outputs": [
    {
     "data": {
      "text/plain": [
       "(180, 47)"
      ]
     },
     "execution_count": 189,
     "metadata": {},
     "output_type": "execute_result"
    }
   ],
   "source": [
    "X_test.shape"
   ]
  },
  {
   "cell_type": "code",
   "execution_count": 190,
   "metadata": {
    "colab": {
     "base_uri": "https://localhost:8080/"
    },
    "id": "2InP--lbDkG7",
    "outputId": "421feb2f-48e5-4d2d-867f-ce0f1af0b0b4"
   },
   "outputs": [
    {
     "data": {
      "text/plain": [
       "(180,)"
      ]
     },
     "execution_count": 190,
     "metadata": {},
     "output_type": "execute_result"
    }
   ],
   "source": [
    "y_test.shape"
   ]
  },
  {
   "cell_type": "code",
   "execution_count": 191,
   "metadata": {},
   "outputs": [
    {
     "data": {
      "text/plain": [
       "1    503\n",
       "0    217\n",
       "Name: class, dtype: int64"
      ]
     },
     "execution_count": 191,
     "metadata": {},
     "output_type": "execute_result"
    }
   ],
   "source": [
    "y_train.value_counts()"
   ]
  },
  {
   "cell_type": "markdown",
   "metadata": {},
   "source": [
    "# Equilibre des classes Good et Bad par la méthode du suréchantillonage ou oversampling"
   ]
  },
  {
   "cell_type": "code",
   "execution_count": 192,
   "metadata": {},
   "outputs": [],
   "source": [
    "sm = SMOTE(sampling_strategy = 'minority', k_neighbors = 2, random_state = 0)\n",
    "X_train_res, y_train_res = sm.fit_sample(X_train, y_train.ravel())"
   ]
  },
  {
   "cell_type": "code",
   "execution_count": 193,
   "metadata": {},
   "outputs": [
    {
     "name": "stdout",
     "output_type": "stream",
     "text": [
      "After Undersampling, counts of label '1': 503\n",
      "After Undersampling, counts of label '0': 503\n"
     ]
    }
   ],
   "source": [
    "print(\"After Undersampling, counts of label '1': {}\".format(sum(y_train_res == 1)))\n",
    "print(\"After Undersampling, counts of label '0': {}\".format(sum(y_train_res == 0)))"
   ]
  },
  {
   "cell_type": "markdown",
   "metadata": {
    "id": "JykGfAWxDkG8"
   },
   "source": [
    "# 3- Teste des diiférents algorithmes de façon native et visualisation des cas d'overfitting"
   ]
  },
  {
   "cell_type": "markdown",
   "metadata": {},
   "source": [
    "Regression Logistique"
   ]
  },
  {
   "cell_type": "code",
   "execution_count": 121,
   "metadata": {
    "colab": {
     "base_uri": "https://localhost:8080/",
     "height": 893
    },
    "id": "9SxV3T57DkG8",
    "outputId": "ed21605b-51f5-4b00-cf6f-0c45db83dcc4"
   },
   "outputs": [
    {
     "name": "stdout",
     "output_type": "stream",
     "text": [
      "Train Score Regression Logistique: 0.8290258449304175\n",
      "Test Score Regression Logistique: 0.7222222222222222\n"
     ]
    },
    {
     "data": {
      "text/plain": [
       "[<matplotlib.lines.Line2D at 0x22e68602ac0>]"
      ]
     },
     "execution_count": 121,
     "metadata": {},
     "output_type": "execute_result"
    },
    {
     "data": {
      "image/png": "[encoded data removed]",
      "text/plain": [
       "<Figure size 864x576 with 1 Axes>"
      ]
     },
     "metadata": {
      "needs_background": "light"
     },
     "output_type": "display_data"
    }
   ],
   "source": [
    "log = LogisticRegression()\n",
    "log.fit(X_train_res, y_train_res.ravel())\n",
    "print('Train Score Regression Logistique:', log.score(X_train_res, y_train_res))\n",
    "print('Test Score Regression Logistique:', log.score(X_test, y_test))\n",
    "\n",
    "\n",
    "N, train_score, val_score = learning_curve(log, X_train_res, y_train_res, scoring = 'accuracy',cv = 5,\n",
    "                                           train_sizes = np.linspace(0.1, 1, 10))\n",
    "plt.figure(figsize=(12,8))\n",
    "plt.plot(N, train_score.mean(axis = 1), label = 'train score')\n",
    "plt.plot(N, val_score.mean(axis = 1), label = 'validation score')"
   ]
  },
  {
   "cell_type": "markdown",
   "metadata": {},
   "source": [
    "KNN"
   ]
  },
  {
   "cell_type": "code",
   "execution_count": 122,
   "metadata": {},
   "outputs": [
    {
     "name": "stdout",
     "output_type": "stream",
     "text": [
      "Train Score KNN: 0.8429423459244533\n",
      "Test ScoreKNN: 0.5833333333333334\n"
     ]
    },
    {
     "data": {
      "text/plain": [
       "[<matplotlib.lines.Line2D at 0x22e68296460>]"
      ]
     },
     "execution_count": 122,
     "metadata": {},
     "output_type": "execute_result"
    },
    {
     "data": {
      "image/png": "[encoded data removed]",
      "text/plain": [
       "<Figure size 864x576 with 1 Axes>"
      ]
     },
     "metadata": {
      "needs_background": "light"
     },
     "output_type": "display_data"
    }
   ],
   "source": [
    "kn = KNeighborsClassifier()\n",
    "kn.fit(X_train_res, y_train_res)\n",
    "print('Train Score KNN:', kn.score(X_train_res, y_train_res))\n",
    "print('Test ScoreKNN:', kn.score(X_test, y_test))\n",
    "\n",
    "N, train_score, val_score = learning_curve(kn, X_train_res, y_train_res, scoring = 'accuracy',cv = 5,\n",
    "                                           train_sizes = np.linspace(0.1, 1, 10))\n",
    "plt.figure(figsize=(12,8))\n",
    "plt.plot(N, train_score.mean(axis = 1), label = 'train score')\n",
    "plt.plot(N, val_score.mean(axis = 1), label = 'validation score')"
   ]
  },
  {
   "cell_type": "markdown",
   "metadata": {},
   "source": [
    "Naive Bayes"
   ]
  },
  {
   "cell_type": "code",
   "execution_count": 123,
   "metadata": {
    "scrolled": true
   },
   "outputs": [
    {
     "name": "stdout",
     "output_type": "stream",
     "text": [
      "Train Score Naive Bayes: 0.7594433399602386\n",
      "Test Score Naive Bayes: 0.6833333333333333\n"
     ]
    },
    {
     "data": {
      "text/plain": [
       "[<matplotlib.lines.Line2D at 0x22e6836d640>]"
      ]
     },
     "execution_count": 123,
     "metadata": {},
     "output_type": "execute_result"
    },
    {
     "data": {
      "image/png": "[encoded data removed]",
      "text/plain": [
       "<Figure size 864x576 with 1 Axes>"
      ]
     },
     "metadata": {
      "needs_background": "light"
     },
     "output_type": "display_data"
    }
   ],
   "source": [
    "nb = BernoulliNB()\n",
    "nb.fit(X_train_res, y_train_res)\n",
    "print('Train Score Naive Bayes:', nb.score(X_train_res, y_train_res))\n",
    "print('Test Score Naive Bayes:', nb.score(X_test, y_test))\n",
    "\n",
    "N, train_score, val_score = learning_curve(nb, X_train_res, y_train_res, scoring = 'accuracy',cv = 5,\n",
    "                                           train_sizes = np.linspace(0.1, 1, 10))\n",
    "plt.figure(figsize=(12,8))\n",
    "plt.plot(N, train_score.mean(axis = 1), label = 'train score')\n",
    "plt.plot(N, val_score.mean(axis = 1), label = 'validation score')"
   ]
  },
  {
   "cell_type": "markdown",
   "metadata": {},
   "source": [
    "SVC"
   ]
  },
  {
   "cell_type": "code",
   "execution_count": 124,
   "metadata": {},
   "outputs": [
    {
     "name": "stdout",
     "output_type": "stream",
     "text": [
      "Train Score SVC: 0.8936381709741551\n",
      "Test Score SVC: 0.7111111111111111\n"
     ]
    },
    {
     "data": {
      "text/plain": [
       "[<matplotlib.lines.Line2D at 0x22e6838dca0>]"
      ]
     },
     "execution_count": 124,
     "metadata": {},
     "output_type": "execute_result"
    },
    {
     "data": {
      "image/png": "[encoded data removed]",
      "text/plain": [
       "<Figure size 864x576 with 1 Axes>"
      ]
     },
     "metadata": {
      "needs_background": "light"
     },
     "output_type": "display_data"
    }
   ],
   "source": [
    "svc = SVC()\n",
    "svc.fit(X_train_res, y_train_res)\n",
    "print('Train Score SVC:', svc.score(X_train_res, y_train_res))\n",
    "print('Test Score SVC:', svc.score(X_test, y_test))\n",
    "\n",
    "\n",
    "N, train_score, val_score = learning_curve(svc, X_train_res, y_train_res, scoring = 'accuracy',cv = 5,\n",
    "                                           train_sizes = np.linspace(0.1, 1, 10))\n",
    "plt.figure(figsize=(12,8))\n",
    "plt.plot(N, train_score.mean(axis = 1), label = 'train score')\n",
    "plt.plot(N, val_score.mean(axis = 1), label = 'validation score')"
   ]
  },
  {
   "cell_type": "markdown",
   "metadata": {},
   "source": [
    "Random Forest"
   ]
  },
  {
   "cell_type": "code",
   "execution_count": 195,
   "metadata": {},
   "outputs": [
    {
     "name": "stdout",
     "output_type": "stream",
     "text": [
      "Train Score random forest: 1.0\n",
      "Test Score random forest: 0.7444444444444445\n"
     ]
    },
    {
     "data": {
      "text/plain": [
       "[<matplotlib.lines.Line2D at 0x22e02308430>]"
      ]
     },
     "execution_count": 195,
     "metadata": {},
     "output_type": "execute_result"
    },
    {
     "data": {
      "image/png": "[encoded data removed]",
      "text/plain": [
       "<Figure size 864x576 with 1 Axes>"
      ]
     },
     "metadata": {
      "needs_background": "light"
     },
     "output_type": "display_data"
    }
   ],
   "source": [
    "rf = RandomForestClassifier()\n",
    "rf.fit(X_train_res, y_train_res)\n",
    "print('Train Score random forest:', rf.score(X_train_res, y_train_res))\n",
    "print('Test Score random forest:', rf.score(X_test, y_test))\n",
    "\n",
    "\n",
    "N, train_score, val_score = learning_curve(rf, X_train_res, y_train_res, scoring = 'accuracy',cv = 5,\n",
    "                                           train_sizes = np.linspace(0.1, 1, 10))\n",
    "plt.figure(figsize=(12,8))\n",
    "plt.plot(N, train_score.mean(axis = 1), label = 'train score')\n",
    "plt.plot(N, val_score.mean(axis = 1), label = 'validation score')"
   ]
  },
  {
   "cell_type": "code",
   "execution_count": 198,
   "metadata": {},
   "outputs": [
    {
     "data": {
      "image/png": "[encoded data removed]",
      "text/plain": [
       "<Figure size 864x864 with 1 Axes>"
      ]
     },
     "metadata": {
      "needs_background": "light"
     },
     "output_type": "display_data"
    }
   ],
   "source": [
    "feat_names = X_train.columns.values\n",
    "importances = RF.feature_importances_\n",
    "std = np.std([tree.feature_importances_ for tree in RF.estimators_], axis=0)\n",
    "indices = np.argsort(importances)[::-1][:20]\n",
    "\n",
    "plt.figure(figsize=(12,12))\n",
    "plt.title(\"Feature importances\")\n",
    "plt.bar(range(len(indices)), importances[indices], color=\"y\", yerr=std[indices], align=\"center\")\n",
    "plt.xticks(range(len(indices)), feat_names[indices], rotation='vertical')\n",
    "plt.xlim([-1, len(indices)])\n",
    "plt.show()"
   ]
  },
  {
   "cell_type": "code",
   "execution_count": null,
   "metadata": {},
   "outputs": [],
   "source": []
  },
  {
   "cell_type": "markdown",
   "metadata": {
    "id": "8n1Xghz5DkHB"
   },
   "source": [
    "# 4- Application du GridSearch pour trouver les hyperparamètres optimaux pour les modèles "
   ]
  },
  {
   "cell_type": "code",
   "execution_count": 129,
   "metadata": {
    "id": "7oPcM_YkDkHB"
   },
   "outputs": [],
   "source": [
    "from sklearn.model_selection import GridSearchCV\n",
    "from sklearn.metrics import confusion_matrix, accuracy_score, auc, f1_score, recall_score,roc_auc_score, roc_curve\n"
   ]
  },
  {
   "cell_type": "code",
   "execution_count": 130,
   "metadata": {
    "colab": {
     "base_uri": "https://localhost:8080/"
    },
    "id": "5TOQCi3wWa01",
    "outputId": "52ee0844-a45d-4f64-c078-44c7b8b0fcee"
   },
   "outputs": [
    {
     "data": {
      "text/plain": [
       "GridSearchCV(cv=5, estimator=LogisticRegression(),\n",
       "             param_grid={'C': range(0, 10),\n",
       "                         'penalty': ['l1', 'l2', 'elasticnet', 'none'],\n",
       "                         'solver': ['newton-cg', 'lbfgs', 'liblinear', 'sag',\n",
       "                                    'saga']})"
      ]
     },
     "execution_count": 130,
     "metadata": {},
     "output_type": "execute_result"
    }
   ],
   "source": [
    "# Pour la RL\n",
    "\n",
    "paramRL = {\n",
    "    'penalty': ['l1','l2','elasticnet','none'],\n",
    "    'C' : range(0, 10),\n",
    "    'solver': ['newton-cg','lbfgs','liblinear','sag','saga']\n",
    "}\n",
    "\n",
    "gridRL = GridSearchCV(LogisticRegression(), paramRL, cv = 5)\n",
    "gridRL.fit(X_train_res, y_train_res)"
   ]
  },
  {
   "cell_type": "code",
   "execution_count": 131,
   "metadata": {
    "colab": {
     "base_uri": "https://localhost:8080/"
    },
    "id": "gWxxELjyXe2M",
    "outputId": "0a0f3c23-abdf-4115-de22-bedcd38b89dc"
   },
   "outputs": [
    {
     "data": {
      "text/plain": [
       "0.7844588936505591"
      ]
     },
     "execution_count": 131,
     "metadata": {},
     "output_type": "execute_result"
    }
   ],
   "source": [
    "gridRL.best_score_"
   ]
  },
  {
   "cell_type": "code",
   "execution_count": 132,
   "metadata": {
    "colab": {
     "base_uri": "https://localhost:8080/"
    },
    "id": "O9rXTzkhXkOW",
    "outputId": "7aaff40e-62b4-4021-a881-002308a7daec"
   },
   "outputs": [
    {
     "data": {
      "text/plain": [
       "{'C': 0, 'penalty': 'none', 'solver': 'newton-cg'}"
      ]
     },
     "execution_count": 132,
     "metadata": {},
     "output_type": "execute_result"
    }
   ],
   "source": [
    "gridRL.best_params_"
   ]
  },
  {
   "cell_type": "code",
   "execution_count": 133,
   "metadata": {
    "colab": {
     "base_uri": "https://localhost:8080/"
    },
    "id": "vMABV_0wX7UU",
    "outputId": "b2972c77-b98e-4065-eab4-9177fc31963a"
   },
   "outputs": [
    {
     "name": "stdout",
     "output_type": "stream",
     "text": [
      "Le temps dexecution est de :0.0035851000002367073\n",
      "train: 0.8349900596421471\n",
      "test: 0.7111111111111111\n"
     ]
    }
   ],
   "source": [
    "start = timeit.default_timer()\n",
    "\n",
    "modelRL = gridRL.best_estimator_\n",
    "modelRL.score(X_test, y_test)\n",
    "\n",
    "stop = timeit.default_timer()\n",
    "execution_time = stop - start\n",
    "print(\"Le temps dexecution est de :\" +str(execution_time))\n",
    "print(\"train:\",modelRL.score(X_train_res, y_train_res))\n",
    "print(\"test:\",modelRL.score(X_test, y_test))"
   ]
  },
  {
   "cell_type": "code",
   "execution_count": 135,
   "metadata": {
    "colab": {
     "base_uri": "https://localhost:8080/"
    },
    "id": "PvQtK65hYP5F",
    "outputId": "dc8f3545-3698-45bf-b277-bc7288d081a3"
   },
   "outputs": [
    {
     "name": "stdout",
     "output_type": "stream",
     "text": [
      "0.7222222222222222\n",
      "[[ 23  33]\n",
      " [ 17 107]]\n",
      "              precision    recall  f1-score   support\n",
      "\n",
      "           0       0.57      0.41      0.48        56\n",
      "           1       0.76      0.86      0.81       124\n",
      "\n",
      "    accuracy                           0.72       180\n",
      "   macro avg       0.67      0.64      0.64       180\n",
      "weighted avg       0.71      0.72      0.71       180\n",
      "\n"
     ]
    },
    {
     "data": {
      "text/plain": [
       "[<matplotlib.lines.Line2D at 0x22e01d1e220>]"
      ]
     },
     "execution_count": 135,
     "metadata": {},
     "output_type": "execute_result"
    },
    {
     "data": {
      "image/png": "[encoded data removed]",
      "text/plain": [
       "<Figure size 864x576 with 1 Axes>"
      ]
     },
     "metadata": {
      "needs_background": "light"
     },
     "output_type": "display_data"
    }
   ],
   "source": [
    "RL = LogisticRegression(C=1, penalty = \"l1\", solver = \"saga\")\n",
    "RL.fit(X_train_res, y_train_res)\n",
    "y_pred_RL = RL.predict(X_test)\n",
    "print(accuracy_score(y_pred_RL, y_test))\n",
    "print(confusion_matrix(y_test, y_pred_RL))\n",
    "print(classification_report(y_test, y_pred_RL))\n",
    "\n",
    "N, train_score, val_score = learning_curve(RL, X_train_res, y_train_res, scoring = 'accuracy',cv = 5,\n",
    "                                           train_sizes = np.linspace(0.1, 1, 10))\n",
    "plt.figure(figsize=(12,8))\n",
    "plt.plot(N, train_score.mean(axis = 1), label = 'train score')\n",
    "plt.plot(N, val_score.mean(axis = 1), label = 'validation score')"
   ]
  },
  {
   "cell_type": "markdown",
   "metadata": {
    "id": "LVULAEEEDkHB"
   },
   "source": [
    "# a- Pour le KNN"
   ]
  },
  {
   "cell_type": "code",
   "execution_count": 136,
   "metadata": {
    "colab": {
     "base_uri": "https://localhost:8080/"
    },
    "id": "zrYz15wRDkHC",
    "outputId": "481b0814-6f3c-46e3-e989-07e2d6032bd0"
   },
   "outputs": [
    {
     "data": {
      "text/plain": [
       "GridSearchCV(cv=5, estimator=KNeighborsClassifier(),\n",
       "             param_grid={'algorithm': ['ball_tree', 'kd_tree', 'brute', 'auto'],\n",
       "                         'metric': ['euclidean', 'manhattan', 'minkowski'],\n",
       "                         'n_neighbors': range(1, 50),\n",
       "                         'weights': ['uniform', 'distance']})"
      ]
     },
     "execution_count": 136,
     "metadata": {},
     "output_type": "execute_result"
    }
   ],
   "source": [
    "paramKNN = {'n_neighbors': range(1, 50),\n",
    "            'weights': ['uniform','distance'],\n",
    "            'algorithm': ['ball_tree', 'kd_tree', 'brute', 'auto'],\n",
    "            'metric': ['euclidean','manhattan', 'minkowski']}\n",
    "gridKNN = GridSearchCV(KNeighborsClassifier(), paramKNN, cv=5)\n",
    "gridKNN.fit(X_train_res, y_train_res)"
   ]
  },
  {
   "cell_type": "code",
   "execution_count": 137,
   "metadata": {
    "colab": {
     "base_uri": "https://localhost:8080/"
    },
    "id": "iC3di1aGDkHC",
    "outputId": "7a6dfec7-6d9c-4122-d67f-cce6520b8a7a"
   },
   "outputs": [
    {
     "data": {
      "text/plain": [
       "0.8191222107285355"
      ]
     },
     "execution_count": 137,
     "metadata": {},
     "output_type": "execute_result"
    }
   ],
   "source": [
    "gridKNN.best_score_"
   ]
  },
  {
   "cell_type": "code",
   "execution_count": 138,
   "metadata": {
    "colab": {
     "base_uri": "https://localhost:8080/"
    },
    "id": "Xq0zDJxdDkHC",
    "outputId": "98b927c8-a60d-4613-cfc6-5fccd5d14a49"
   },
   "outputs": [
    {
     "data": {
      "text/plain": [
       "{'algorithm': 'ball_tree',\n",
       " 'metric': 'euclidean',\n",
       " 'n_neighbors': 1,\n",
       " 'weights': 'uniform'}"
      ]
     },
     "execution_count": 138,
     "metadata": {},
     "output_type": "execute_result"
    }
   ],
   "source": [
    "gridKNN.best_params_"
   ]
  },
  {
   "cell_type": "code",
   "execution_count": 139,
   "metadata": {
    "colab": {
     "base_uri": "https://localhost:8080/"
    },
    "id": "d9bZ_A7RDkHD",
    "outputId": "a0c8b269-97d0-4746-c75b-b19cd9c45aef"
   },
   "outputs": [
    {
     "name": "stdout",
     "output_type": "stream",
     "text": [
      "Le temps dexecution est de :0.03234710000015184\n",
      "train: 1.0\n",
      "test: 0.6055555555555555\n"
     ]
    }
   ],
   "source": [
    "start = timeit.default_timer()\n",
    "\n",
    "modelKNN = gridKNN.best_estimator_\n",
    "modelKNN.score(X_test, y_test)\n",
    "\n",
    "stop = timeit.default_timer()\n",
    "execution_time = stop - start\n",
    "print(\"Le temps dexecution est de :\" +str(execution_time))\n",
    "print(\"train:\",modelKNN.score(X_train_res, y_train_res))\n",
    "print(\"test:\", modelKNN.score(X_test, y_test))\n"
   ]
  },
  {
   "cell_type": "code",
   "execution_count": 146,
   "metadata": {
    "colab": {
     "base_uri": "https://localhost:8080/"
    },
    "id": "ef_Q653Pvfci",
    "outputId": "c40ea9e4-7f53-4ea6-997f-212e91d8d36d"
   },
   "outputs": [
    {
     "name": "stdout",
     "output_type": "stream",
     "text": [
      "0.6055555555555555\n",
      "[[32 24]\n",
      " [47 77]]\n",
      "              precision    recall  f1-score   support\n",
      "\n",
      "           0       0.41      0.57      0.47        56\n",
      "           1       0.76      0.62      0.68       124\n",
      "\n",
      "    accuracy                           0.61       180\n",
      "   macro avg       0.58      0.60      0.58       180\n",
      "weighted avg       0.65      0.61      0.62       180\n",
      "\n"
     ]
    }
   ],
   "source": [
    "KNN = KNeighborsClassifier(algorithm= 'ball_tree',\n",
    " metric = 'euclidean',\n",
    " n_neighbors=  1,\n",
    " weights= 'uniform')\n",
    "\n",
    "KNN.fit(X_train_res, y_train_res)\n",
    "y_pred_KNN = KNN.predict(X_test)\n",
    "print(accuracy_score(y_pred_KNN, y_test))\n",
    "print(confusion_matrix(y_test, y_pred_KNN))\n",
    "print(classification_report(y_test, y_pred_KNN))"
   ]
  },
  {
   "cell_type": "code",
   "execution_count": 141,
   "metadata": {},
   "outputs": [],
   "source": [
    "#pd.DataFrame(KNN.feature_importances_, index = X_train.columns)"
   ]
  },
  {
   "cell_type": "code",
   "execution_count": 147,
   "metadata": {},
   "outputs": [
    {
     "data": {
      "text/plain": [
       "[<matplotlib.lines.Line2D at 0x22e02435790>]"
      ]
     },
     "execution_count": 147,
     "metadata": {},
     "output_type": "execute_result"
    },
    {
     "data": {
      "image/png": "[encoded data removed]",
      "text/plain": [
       "<Figure size 864x576 with 1 Axes>"
      ]
     },
     "metadata": {
      "needs_background": "light"
     },
     "output_type": "display_data"
    }
   ],
   "source": [
    "N, train_score, val_score = learning_curve(KNN, X_train_res, y_train_res, scoring = 'accuracy',cv = 5,\n",
    "                                           train_sizes = np.linspace(0.1, 1, 10))\n",
    "plt.figure(figsize=(12,8))\n",
    "plt.plot(N, train_score.mean(axis = 1), label = 'train score')\n",
    "plt.plot(N, val_score.mean(axis = 1), label = 'validation score')"
   ]
  },
  {
   "cell_type": "markdown",
   "metadata": {
    "id": "vSyZt1tzDkHG"
   },
   "source": [
    "# b- Pour Naive-Bayes"
   ]
  },
  {
   "cell_type": "code",
   "execution_count": 148,
   "metadata": {
    "colab": {
     "base_uri": "https://localhost:8080/"
    },
    "id": "T-pzckPTDkHG",
    "outputId": "a930ef17-b4ab-4bd6-a5e3-fb671af77611"
   },
   "outputs": [
    {
     "data": {
      "text/plain": [
       "GridSearchCV(cv=5, estimator=BernoulliNB(),\n",
       "             param_grid={'alpha': array([1.0000e-03, 1.0010e+00, 2.0010e+00, 3.0010e+00, 4.0010e+00,\n",
       "       5.0010e+00, 6.0010e+00, 7.0010e+00, 8.0010e+00, 9.0010e+00,\n",
       "       1.0001e+01, 1.1001e+01, 1.2001e+01])})"
      ]
     },
     "execution_count": 148,
     "metadata": {},
     "output_type": "execute_result"
    }
   ],
   "source": [
    "paramNB = {'alpha' : np.arange(1e-3, 13),\n",
    "           \n",
    "           }\n",
    "gridNB = GridSearchCV(BernoulliNB(), paramNB, cv=5)\n",
    "gridNB.fit(X_train_res, y_train_res)"
   ]
  },
  {
   "cell_type": "code",
   "execution_count": 149,
   "metadata": {
    "colab": {
     "base_uri": "https://localhost:8080/"
    },
    "id": "-FD1f_GQDkHG",
    "outputId": "b7c3ca9e-bf25-44f9-e2de-7689dff6b87e"
   },
   "outputs": [
    {
     "data": {
      "text/plain": [
       "0.7426038126200679"
      ]
     },
     "execution_count": 149,
     "metadata": {},
     "output_type": "execute_result"
    }
   ],
   "source": [
    "gridNB.best_score_"
   ]
  },
  {
   "cell_type": "code",
   "execution_count": 150,
   "metadata": {
    "colab": {
     "base_uri": "https://localhost:8080/"
    },
    "id": "e9kyny62DkHH",
    "outputId": "5f79e569-8588-4080-8528-2e0dcc897097"
   },
   "outputs": [
    {
     "data": {
      "text/plain": [
       "{'alpha': 10.000999999999998}"
      ]
     },
     "execution_count": 150,
     "metadata": {},
     "output_type": "execute_result"
    }
   ],
   "source": [
    "gridNB.best_params_"
   ]
  },
  {
   "cell_type": "code",
   "execution_count": 151,
   "metadata": {
    "colab": {
     "base_uri": "https://localhost:8080/"
    },
    "id": "R1T1hNvzDkHH",
    "outputId": "8b695126-392f-41bf-f91b-385c099de29b"
   },
   "outputs": [
    {
     "name": "stdout",
     "output_type": "stream",
     "text": [
      "Le temps dexecution est de :0.003939899999750196\n",
      "train: 0.7584493041749503\n",
      "test: 0.6944444444444444\n"
     ]
    }
   ],
   "source": [
    "start = timeit.default_timer()\n",
    "\n",
    "modelNB = gridNB.best_estimator_\n",
    "modelNB.score(X_test, y_test)\n",
    "\n",
    "stop = timeit.default_timer()\n",
    "execution_time = stop - start\n",
    "print(\"Le temps dexecution est de :\" +str(execution_time))\n",
    "print(\"train:\",modelNB.score(X_train_res, y_train_res))\n",
    "print(\"test:\",modelNB.score(X_test, y_test))\n"
   ]
  },
  {
   "cell_type": "code",
   "execution_count": 152,
   "metadata": {
    "colab": {
     "base_uri": "https://localhost:8080/"
    },
    "id": "nXQq87rmQLFi",
    "outputId": "95bc0cc4-8932-4a53-c4f3-37745a33ea2d"
   },
   "outputs": [
    {
     "name": "stdout",
     "output_type": "stream",
     "text": [
      "0.6944444444444444\n",
      "[[32 24]\n",
      " [31 93]]\n",
      "              precision    recall  f1-score   support\n",
      "\n",
      "           0       0.51      0.57      0.54        56\n",
      "           1       0.79      0.75      0.77       124\n",
      "\n",
      "    accuracy                           0.69       180\n",
      "   macro avg       0.65      0.66      0.65       180\n",
      "weighted avg       0.71      0.69      0.70       180\n",
      "\n"
     ]
    },
    {
     "data": {
      "text/plain": [
       "[<matplotlib.lines.Line2D at 0x22e0212b0d0>]"
      ]
     },
     "execution_count": 152,
     "metadata": {},
     "output_type": "execute_result"
    },
    {
     "data": {
      "image/png": "[encoded data removed]",
      "text/plain": [
       "<Figure size 864x576 with 1 Axes>"
      ]
     },
     "metadata": {
      "needs_background": "light"
     },
     "output_type": "display_data"
    }
   ],
   "source": [
    "NB = BernoulliNB(alpha = 10.00099)\n",
    "\n",
    "NB.fit(X_train_res, y_train_res)\n",
    "y_pred_NB = NB.predict(X_test)\n",
    "print(accuracy_score(y_pred_NB, y_test))\n",
    "print(confusion_matrix(y_test, y_pred_NB))\n",
    "print(classification_report(y_test, y_pred_NB))\n",
    "\n",
    "N, train_score, val_score = learning_curve(NB, X_train_res, y_train_res, scoring = 'accuracy',cv = 5,\n",
    "                                           train_sizes = np.linspace(0.1, 1, 10))\n",
    "plt.figure(figsize=(12,8))\n",
    "plt.plot(N, train_score.mean(axis = 1), label = 'train score')\n",
    "plt.plot(N, val_score.mean(axis = 1), label = 'validation score')"
   ]
  },
  {
   "cell_type": "markdown",
   "metadata": {
    "id": "xLhsjYv-DkHI"
   },
   "source": [
    "## c- Pour SVC"
   ]
  },
  {
   "cell_type": "code",
   "execution_count": 153,
   "metadata": {
    "colab": {
     "base_uri": "https://localhost:8080/"
    },
    "id": "TR_c-AS4DkHI",
    "outputId": "436c71c3-a70a-422f-f589-10067395d94f"
   },
   "outputs": [
    {
     "data": {
      "text/plain": [
       "GridSearchCV(cv=5, estimator=SVC(),\n",
       "             param_grid={'C': array([10, 11, 12, 13, 14, 15, 16, 17, 18, 19, 20, 21, 22]),\n",
       "                         'decision_function_shape': ['ovo', 'ovr'],\n",
       "                         'gamma': ['scale', 'auto'],\n",
       "                         'kernel': ['linear', 'poly', 'rbf', 'sigmoid']})"
      ]
     },
     "execution_count": 153,
     "metadata": {},
     "output_type": "execute_result"
    }
   ],
   "source": [
    "from sklearn.svm import SVC\n",
    "paramSVC = {'C' : np.arange(10, 23),\n",
    "           'kernel' : ['linear', 'poly','rbf', 'sigmoid'],\n",
    "            'gamma' : ['scale', 'auto'],\n",
    "            'decision_function_shape': ['ovo', 'ovr']\n",
    "           }\n",
    "gridSVC = GridSearchCV(SVC(), paramSVC, cv=5)\n",
    "gridSVC.fit(X_train_res, y_train_res)\n"
   ]
  },
  {
   "cell_type": "code",
   "execution_count": 154,
   "metadata": {
    "colab": {
     "base_uri": "https://localhost:8080/"
    },
    "id": "8Xc0WYJMDkHI",
    "outputId": "21fa4389-ac13-4821-b2f3-a96b5a37c28d"
   },
   "outputs": [
    {
     "data": {
      "text/plain": [
       "0.8013152061474804"
      ]
     },
     "execution_count": 154,
     "metadata": {},
     "output_type": "execute_result"
    }
   ],
   "source": [
    "gridSVC.best_score_"
   ]
  },
  {
   "cell_type": "code",
   "execution_count": 155,
   "metadata": {
    "colab": {
     "base_uri": "https://localhost:8080/"
    },
    "id": "1FnajJXZDkHJ",
    "outputId": "133cd44b-5b42-4a0b-9ad0-8da562d7105f"
   },
   "outputs": [
    {
     "data": {
      "text/plain": [
       "{'C': 17, 'decision_function_shape': 'ovo', 'gamma': 'auto', 'kernel': 'rbf'}"
      ]
     },
     "execution_count": 155,
     "metadata": {},
     "output_type": "execute_result"
    }
   ],
   "source": [
    "gridSVC.best_params_"
   ]
  },
  {
   "cell_type": "code",
   "execution_count": 156,
   "metadata": {
    "colab": {
     "base_uri": "https://localhost:8080/"
    },
    "id": "qawD30dcDkHJ",
    "outputId": "6559ad6a-689d-4738-fb82-9465cab5cc89"
   },
   "outputs": [
    {
     "name": "stdout",
     "output_type": "stream",
     "text": [
      "Le temps dexecution est de :0.009481099999902654\n",
      "train: 0.9532803180914513\n",
      "test: 0.7277777777777777\n"
     ]
    }
   ],
   "source": [
    "start = timeit.default_timer()\n",
    "\n",
    "modelSVC = gridSVC.best_estimator_\n",
    "modelSVC.score(X_test, y_test)\n",
    "\n",
    "stop = timeit.default_timer()\n",
    "execution_time = stop - start\n",
    "print(\"Le temps dexecution est de :\" +str(execution_time))\n",
    "print(\"train:\",modelSVC.score(X_train_res, y_train_res))\n",
    "print(\"test:\", modelSVC.score(X_test, y_test))\n"
   ]
  },
  {
   "cell_type": "code",
   "execution_count": 157,
   "metadata": {
    "colab": {
     "base_uri": "https://localhost:8080/"
    },
    "id": "bLFyix8SPu_B",
    "outputId": "76730f15-f3a9-4fb8-da6f-b386144b403b"
   },
   "outputs": [
    {
     "name": "stdout",
     "output_type": "stream",
     "text": [
      "0.7333333333333333\n",
      "[[ 28  28]\n",
      " [ 20 104]]\n",
      "              precision    recall  f1-score   support\n",
      "\n",
      "           0       0.58      0.50      0.54        56\n",
      "           1       0.79      0.84      0.81       124\n",
      "\n",
      "    accuracy                           0.73       180\n",
      "   macro avg       0.69      0.67      0.68       180\n",
      "weighted avg       0.72      0.73      0.73       180\n",
      "\n"
     ]
    },
    {
     "data": {
      "text/plain": [
       "[<matplotlib.lines.Line2D at 0x22e023cce20>]"
      ]
     },
     "execution_count": 157,
     "metadata": {},
     "output_type": "execute_result"
    },
    {
     "data": {
      "image/png": "[encoded data removed]",
      "text/plain": [
       "<Figure size 864x576 with 1 Axes>"
      ]
     },
     "metadata": {
      "needs_background": "light"
     },
     "output_type": "display_data"
    }
   ],
   "source": [
    "SVC = SVC(C= 16, decision_function_shape = \"ovo\", gamma = \"auto\", kernel = \"rbf\")\n",
    "\n",
    "SVC.fit(X_train_res, y_train_res)\n",
    "y_pred_SVC = SVC.predict(X_test)\n",
    "print(accuracy_score(y_pred_SVC, y_test))\n",
    "print(confusion_matrix(y_test, y_pred_SVC))\n",
    "print(classification_report(y_test, y_pred_SVC))\n",
    "\n",
    "N, train_score, val_score = learning_curve(SVC, X_train_res, y_train_res, scoring = 'accuracy',cv = 5,\n",
    "                                           train_sizes = np.linspace(0.1, 1, 10))\n",
    "plt.figure(figsize=(12,8))\n",
    "plt.plot(N, train_score.mean(axis = 1), label = 'train score')\n",
    "plt.plot(N, val_score.mean(axis = 1), label = 'validation score')"
   ]
  },
  {
   "cell_type": "markdown",
   "metadata": {
    "id": "ALzj7KAfDkHK"
   },
   "source": [
    "## d- Pour la foret aléatoire"
   ]
  },
  {
   "cell_type": "code",
   "execution_count": 158,
   "metadata": {
    "colab": {
     "base_uri": "https://localhost:8080/"
    },
    "id": "KfyL9tGUDkHK",
    "outputId": "8bdd44c5-c223-440c-ce58-f7ffbaf99476"
   },
   "outputs": [
    {
     "data": {
      "text/plain": [
       "GridSearchCV(cv=5, estimator=RandomForestClassifier(),\n",
       "             param_grid={'criterion': ['gini', 'entropy'],\n",
       "                         'max_depth': array([11, 12, 13, 14, 15]),\n",
       "                         'max_features': ['auto', 'sqrt', 'log2'],\n",
       "                         'n_estimators': array([37, 38, 39, 40])})"
      ]
     },
     "execution_count": 158,
     "metadata": {},
     "output_type": "execute_result"
    }
   ],
   "source": [
    "from sklearn.ensemble import RandomForestClassifier\n",
    "\n",
    "paramRF = {'n_estimators' : np.arange(37, 41),\n",
    "           'criterion' : ['gini', 'entropy'],\n",
    "            'max_depth' : np.arange(11, 16),  \n",
    "            'max_features': ['auto', 'sqrt', 'log2']\n",
    "           }\n",
    "gridRF = GridSearchCV(RandomForestClassifier(), paramRF, cv=5)\n",
    "gridRF.fit(X_train_res, y_train_res)"
   ]
  },
  {
   "cell_type": "code",
   "execution_count": 159,
   "metadata": {
    "colab": {
     "base_uri": "https://localhost:8080/"
    },
    "id": "hUxKS-E3DkHK",
    "outputId": "e8a906aa-0621-4b56-8a1d-28b4fe2cd24d"
   },
   "outputs": [
    {
     "data": {
      "text/plain": [
       "0.836077040539875"
      ]
     },
     "execution_count": 159,
     "metadata": {},
     "output_type": "execute_result"
    }
   ],
   "source": [
    "gridRF.best_score_"
   ]
  },
  {
   "cell_type": "code",
   "execution_count": 160,
   "metadata": {
    "colab": {
     "base_uri": "https://localhost:8080/"
    },
    "id": "8Z7wzr2TDkHK",
    "outputId": "fa611c23-25d3-466b-c665-a1e77192c471"
   },
   "outputs": [
    {
     "data": {
      "text/plain": [
       "{'criterion': 'gini',\n",
       " 'max_depth': 13,\n",
       " 'max_features': 'auto',\n",
       " 'n_estimators': 39}"
      ]
     },
     "execution_count": 160,
     "metadata": {},
     "output_type": "execute_result"
    }
   ],
   "source": [
    "gridRF.best_params_"
   ]
  },
  {
   "cell_type": "code",
   "execution_count": 161,
   "metadata": {
    "colab": {
     "base_uri": "https://localhost:8080/"
    },
    "id": "E7zHV_J0DkHL",
    "outputId": "b5e3c181-ae3a-4662-908d-239be7f5d9d2"
   },
   "outputs": [
    {
     "name": "stdout",
     "output_type": "stream",
     "text": [
      "Le temps dexecution est de :0.01900610000029701\n",
      "0.7055555555555556\n"
     ]
    }
   ],
   "source": [
    "start = timeit.default_timer()\n",
    "\n",
    "modelRF = gridRF.best_estimator_\n",
    "modelRF.score(X_test, y_test)\n",
    "\n",
    "stop = timeit.default_timer()\n",
    "execution_time = stop - start\n",
    "print(\"Le temps dexecution est de :\" +str(execution_time))\n",
    "print(modelRF.score(X_test, y_test))\n"
   ]
  },
  {
   "cell_type": "code",
   "execution_count": 180,
   "metadata": {
    "colab": {
     "base_uri": "https://localhost:8080/"
    },
    "id": "J6leriyHO6dP",
    "outputId": "99c225ff-9870-4a86-c7d7-799cc06eb079"
   },
   "outputs": [
    {
     "name": "stdout",
     "output_type": "stream",
     "text": [
      "0.7333333333333333\n",
      "[[ 30  26]\n",
      " [ 22 102]]\n",
      "              precision    recall  f1-score   support\n",
      "\n",
      "           0       0.58      0.54      0.56        56\n",
      "           1       0.80      0.82      0.81       124\n",
      "\n",
      "    accuracy                           0.73       180\n",
      "   macro avg       0.69      0.68      0.68       180\n",
      "weighted avg       0.73      0.73      0.73       180\n",
      "\n"
     ]
    }
   ],
   "source": [
    "RF = RandomForestClassifier(criterion = 'gini',\n",
    " max_depth = 13,\n",
    " max_features = 'auto',\n",
    " n_estimators = 39)\n",
    "\n",
    "RF.fit(X_train_res, y_train_res)\n",
    "y_pred_RF = RF.predict(X_test)\n",
    "print(accuracy_score(y_pred_RF, y_test))\n",
    "print(confusion_matrix(y_test, y_pred_RF))\n",
    "print(classification_report(y_test, y_pred_RF))"
   ]
  },
  {
   "cell_type": "code",
   "execution_count": 181,
   "metadata": {},
   "outputs": [
    {
     "data": {
      "text/plain": [
       "[<matplotlib.lines.Line2D at 0x22e023b0370>]"
      ]
     },
     "execution_count": 181,
     "metadata": {},
     "output_type": "execute_result"
    },
    {
     "data": {
      "image/png": "[encoded data removed]",
      "text/plain": [
       "<Figure size 864x576 with 1 Axes>"
      ]
     },
     "metadata": {
      "needs_background": "light"
     },
     "output_type": "display_data"
    }
   ],
   "source": [
    "N, train_score, val_score = learning_curve(RF, X_train_res, y_train_res, scoring = 'accuracy',cv = 5,\n",
    "                                           train_sizes = np.linspace(0.1, 1, 10))\n",
    "plt.figure(figsize=(12,8))\n",
    "plt.plot(N, train_score.mean(axis = 1), label = 'train score')\n",
    "plt.plot(N, val_score.mean(axis = 1), label = 'validation score')"
   ]
  },
  {
   "cell_type": "markdown",
   "metadata": {
    "id": "Rzdc_gYSDkHL"
   },
   "source": [
    "## e- Pour le Bagging Classifier"
   ]
  },
  {
   "cell_type": "markdown",
   "metadata": {
    "id": "BV840oJwDkHL"
   },
   "source": [
    "from sklearn.ensemble import BaggingClassifier\n",
    "\n",
    "paramBG = {\n",
    "    'n_estimators' : np.arange(7, 15),\n",
    "    'max_samples' : np.arange(0.01, 5),\n",
    "    'max_features' : np.arange(0.01, 5),\n",
    "    'verbose' : np.arange(1, 5)\n",
    "}\n",
    "\n",
    "gridBG = GridSearchCV(BaggingClassifier(), paramBG, cv = 5)\n",
    "gridBG.fit(X_train, y_train)"
   ]
  },
  {
   "cell_type": "markdown",
   "metadata": {
    "colab": {
     "base_uri": "https://localhost:8080/"
    },
    "id": "6gTbuFg-DkHM",
    "outputId": "81eae927-7761-4cef-c31b-d5c30aaf6003"
   },
   "source": [
    "gridBG.best_score_"
   ]
  },
  {
   "cell_type": "markdown",
   "metadata": {
    "colab": {
     "base_uri": "https://localhost:8080/"
    },
    "id": "7Rs18ZvxDkHM",
    "outputId": "24dc81c5-06a0-4d40-ec05-e654f203f75f"
   },
   "source": [
    "gridBG.best_params_"
   ]
  },
  {
   "cell_type": "markdown",
   "metadata": {
    "colab": {
     "base_uri": "https://localhost:8080/"
    },
    "id": "7rWLd7GbDkHN",
    "outputId": "37701cb6-25be-4bcd-ace3-48085173a230"
   },
   "source": [
    "start = timeit.default_timer()\n",
    "\n",
    "modelBG = gridBG.best_estimator_\n",
    "modelBG.score(X_test, y_test)\n",
    "\n",
    "stop = timeit.default_timer()\n",
    "execution_time = stop - start\n",
    "print(\"Le temps dexecution est de :\" +str(execution_time))\n",
    "print(\"train:\",modelBG.score(X_train, y_train))\n",
    "print(\"test:\", modelBG.score(X_test, y_test))\n",
    "\n"
   ]
  },
  {
   "cell_type": "markdown",
   "metadata": {
    "colab": {
     "base_uri": "https://localhost:8080/"
    },
    "id": "QVgoZO0NCD7M",
    "outputId": "c3a39261-8590-4719-fd5d-696f2e917afb",
    "scrolled": false
   },
   "source": [
    "BG = BaggingClassifier(base_estimator =KNeighborsClassifier(algorithm= 'ball_tree',\n",
    " metric = 'euclidean',\n",
    " n_neighbors=  32,\n",
    " weights= 'distance'),\n",
    "n_estimators = 13)\n",
    "BG.fit(X_train, y_train)\n",
    "y_pred_BG = BG.predict(X_test)\n",
    "print(accuracy_score(y_pred_BG, y_test))\n",
    "print(confusion_matrix(y_test, y_pred_BG))\n",
    "print(classification_report(y_test, y_pred_BG))"
   ]
  },
  {
   "cell_type": "markdown",
   "metadata": {
    "id": "9ueLqeRbZ47F"
   },
   "source": [
    "# f- Pour NuSVC"
   ]
  },
  {
   "cell_type": "code",
   "execution_count": 168,
   "metadata": {
    "colab": {
     "base_uri": "https://localhost:8080/"
    },
    "id": "u1at_AWjaWMg",
    "outputId": "0abc083e-84d1-4611-eb24-f73ffab11899"
   },
   "outputs": [
    {
     "data": {
      "text/plain": [
       "GridSearchCV(cv=5, estimator=NuSVC(),\n",
       "             param_grid={'decision_function_shape': ['ovo', 'ovr'],\n",
       "                         'gamma': ['scale', 'auto'],\n",
       "                         'kernel': ['linear', 'poly', 'rbf', 'sigmoid']})"
      ]
     },
     "execution_count": 168,
     "metadata": {},
     "output_type": "execute_result"
    }
   ],
   "source": [
    "from sklearn.svm import NuSVC\n",
    "paramNuSVC = {\n",
    "           'kernel' : ['linear', 'poly','rbf', 'sigmoid'],\n",
    "            'gamma' : ['scale', 'auto'],\n",
    "            'decision_function_shape': ['ovo', 'ovr']\n",
    "           }\n",
    "gridNuSVC = GridSearchCV(NuSVC(), paramNuSVC, cv=5)\n",
    "gridNuSVC.fit(X_train_res, y_train_res)"
   ]
  },
  {
   "cell_type": "code",
   "execution_count": 169,
   "metadata": {
    "colab": {
     "base_uri": "https://localhost:8080/"
    },
    "id": "N1C3mw-rdjiN",
    "outputId": "d177df98-0aaf-416d-ee5c-32b7849d084f"
   },
   "outputs": [
    {
     "data": {
      "text/plain": [
       "0.7973400325107138"
      ]
     },
     "execution_count": 169,
     "metadata": {},
     "output_type": "execute_result"
    }
   ],
   "source": [
    "gridNuSVC.best_score_"
   ]
  },
  {
   "cell_type": "code",
   "execution_count": 170,
   "metadata": {
    "colab": {
     "base_uri": "https://localhost:8080/"
    },
    "id": "uCy9T8etdrO_",
    "outputId": "ff2e878e-b80c-4e5f-c0dc-f1ee38228ddc"
   },
   "outputs": [
    {
     "data": {
      "text/plain": [
       "{'decision_function_shape': 'ovo', 'gamma': 'scale', 'kernel': 'rbf'}"
      ]
     },
     "execution_count": 170,
     "metadata": {},
     "output_type": "execute_result"
    }
   ],
   "source": [
    "gridNuSVC.best_params_"
   ]
  },
  {
   "cell_type": "code",
   "execution_count": 172,
   "metadata": {
    "colab": {
     "base_uri": "https://localhost:8080/"
    },
    "id": "b4OiYXCYdzKt",
    "outputId": "5fffca54-af8b-4894-c864-be2305bddcc4"
   },
   "outputs": [
    {
     "name": "stdout",
     "output_type": "stream",
     "text": [
      "Le temps dexecution est de :0.010418800000479678\n",
      "train: 0.9294234592445328\n",
      "test: 0.7222222222222222\n"
     ]
    }
   ],
   "source": [
    "start = timeit.default_timer()\n",
    "\n",
    "modelNuSVC = gridNuSVC.best_estimator_\n",
    "modelNuSVC.score(X_test, y_test)\n",
    "\n",
    "stop = timeit.default_timer()\n",
    "execution_time = stop - start\n",
    "print(\"Le temps dexecution est de :\" +str(execution_time))\n",
    "print(\"train:\",modelNuSVC.score(X_train_res, y_train_res))\n",
    "print(\"test:\", modelNuSVC.score(X_test, y_test))\n"
   ]
  },
  {
   "cell_type": "code",
   "execution_count": 173,
   "metadata": {
    "colab": {
     "base_uri": "https://localhost:8080/"
    },
    "id": "knoD3a_wNvJG",
    "outputId": "089544c0-30db-4922-afe5-8e4b0d39d17f"
   },
   "outputs": [
    {
     "name": "stdout",
     "output_type": "stream",
     "text": [
      "0.7222222222222222\n",
      "[[ 24  32]\n",
      " [ 18 106]]\n",
      "              precision    recall  f1-score   support\n",
      "\n",
      "           0       0.57      0.43      0.49        56\n",
      "           1       0.77      0.85      0.81       124\n",
      "\n",
      "    accuracy                           0.72       180\n",
      "   macro avg       0.67      0.64      0.65       180\n",
      "weighted avg       0.71      0.72      0.71       180\n",
      "\n"
     ]
    }
   ],
   "source": [
    "NuSVC = NuSVC(decision_function_shape ='ovo', gamma= 'scale', kernel= 'rbf')\n",
    "\n",
    "NuSVC.fit(X_train_res, y_train_res)\n",
    "y_pred_NuSVC = NuSVC.predict(X_test)\n",
    "print(accuracy_score(y_pred_NuSVC, y_test))\n",
    "print(confusion_matrix(y_test, y_pred_NuSVC))\n",
    "print(classification_report(y_test, y_pred_NuSVC))"
   ]
  },
  {
   "cell_type": "code",
   "execution_count": null,
   "metadata": {
    "id": "8OAK2IlFrocy"
   },
   "outputs": [],
   "source": []
  },
  {
   "cell_type": "markdown",
   "metadata": {
    "id": "wuEltNcTepcW"
   },
   "source": [
    "# g- Pour XGBClassifier"
   ]
  },
  {
   "cell_type": "code",
   "execution_count": 174,
   "metadata": {
    "colab": {
     "base_uri": "https://localhost:8080/"
    },
    "id": "LYUe9ayzexSb",
    "outputId": "496eb989-5bcd-48c9-c901-c936701f1fce",
    "scrolled": true
   },
   "outputs": [
    {
     "name": "stdout",
     "output_type": "stream",
     "text": [
      "[11:13:37] WARNING: ..\\src\\learner.cc:1061: Starting in XGBoost 1.3.0, the default evaluation metric used with the objective 'binary:logistic' was changed from 'error' to 'logloss'. Explicitly set eval_metric if you'd like to restore the old behavior.\n",
      "[11:13:38] WARNING: ..\\src\\learner.cc:1061: Starting in XGBoost 1.3.0, the default evaluation metric used with the objective 'binary:logistic' was changed from 'error' to 'logloss'. Explicitly set eval_metric if you'd like to restore the old behavior.\n",
      "[11:13:38] WARNING: ..\\src\\learner.cc:1061: Starting in XGBoost 1.3.0, the default evaluation metric used with the objective 'binary:logistic' was changed from 'error' to 'logloss'. Explicitly set eval_metric if you'd like to restore the old behavior.\n",
      "[11:13:38] WARNING: ..\\src\\learner.cc:1061: Starting in XGBoost 1.3.0, the default evaluation metric used with the objective 'binary:logistic' was changed from 'error' to 'logloss'. Explicitly set eval_metric if you'd like to restore the old behavior.\n",
      "[11:13:38] WARNING: ..\\src\\learner.cc:1061: Starting in XGBoost 1.3.0, the default evaluation metric used with the objective 'binary:logistic' was changed from 'error' to 'logloss'. Explicitly set eval_metric if you'd like to restore the old behavior.\n",
      "[11:13:39] WARNING: ..\\src\\learner.cc:1061: Starting in XGBoost 1.3.0, the default evaluation metric used with the objective 'binary:logistic' was changed from 'error' to 'logloss'. Explicitly set eval_metric if you'd like to restore the old behavior.\n",
      "[11:13:39] WARNING: ..\\src\\learner.cc:1061: Starting in XGBoost 1.3.0, the default evaluation metric used with the objective 'binary:logistic' was changed from 'error' to 'logloss'. Explicitly set eval_metric if you'd like to restore the old behavior.\n",
      "[11:13:39] WARNING: ..\\src\\learner.cc:1061: Starting in XGBoost 1.3.0, the default evaluation metric used with the objective 'binary:logistic' was changed from 'error' to 'logloss'. Explicitly set eval_metric if you'd like to restore the old behavior.\n",
      "[11:13:39] WARNING: ..\\src\\learner.cc:1061: Starting in XGBoost 1.3.0, the default evaluation metric used with the objective 'binary:logistic' was changed from 'error' to 'logloss'. Explicitly set eval_metric if you'd like to restore the old behavior.\n",
      "[11:13:40] WARNING: ..\\src\\learner.cc:1061: Starting in XGBoost 1.3.0, the default evaluation metric used with the objective 'binary:logistic' was changed from 'error' to 'logloss'. Explicitly set eval_metric if you'd like to restore the old behavior.\n",
      "[11:13:40] WARNING: ..\\src\\learner.cc:1061: Starting in XGBoost 1.3.0, the default evaluation metric used with the objective 'binary:logistic' was changed from 'error' to 'logloss'. Explicitly set eval_metric if you'd like to restore the old behavior.\n",
      "[11:13:40] WARNING: ..\\src\\learner.cc:1061: Starting in XGBoost 1.3.0, the default evaluation metric used with the objective 'binary:logistic' was changed from 'error' to 'logloss'. Explicitly set eval_metric if you'd like to restore the old behavior.\n",
      "[11:13:40] WARNING: ..\\src\\learner.cc:1061: Starting in XGBoost 1.3.0, the default evaluation metric used with the objective 'binary:logistic' was changed from 'error' to 'logloss'. Explicitly set eval_metric if you'd like to restore the old behavior.\n",
      "[11:13:41] WARNING: ..\\src\\learner.cc:1061: Starting in XGBoost 1.3.0, the default evaluation metric used with the objective 'binary:logistic' was changed from 'error' to 'logloss'. Explicitly set eval_metric if you'd like to restore the old behavior.\n",
      "[11:13:41] WARNING: ..\\src\\learner.cc:1061: Starting in XGBoost 1.3.0, the default evaluation metric used with the objective 'binary:logistic' was changed from 'error' to 'logloss'. Explicitly set eval_metric if you'd like to restore the old behavior.\n",
      "[11:13:41] WARNING: ..\\src\\learner.cc:1061: Starting in XGBoost 1.3.0, the default evaluation metric used with the objective 'binary:logistic' was changed from 'error' to 'logloss'. Explicitly set eval_metric if you'd like to restore the old behavior.\n",
      "[11:13:41] WARNING: ..\\src\\learner.cc:1061: Starting in XGBoost 1.3.0, the default evaluation metric used with the objective 'binary:logistic' was changed from 'error' to 'logloss'. Explicitly set eval_metric if you'd like to restore the old behavior.\n",
      "[11:13:41] WARNING: ..\\src\\learner.cc:1061: Starting in XGBoost 1.3.0, the default evaluation metric used with the objective 'binary:logistic' was changed from 'error' to 'logloss'. Explicitly set eval_metric if you'd like to restore the old behavior.\n",
      "[11:13:42] WARNING: ..\\src\\learner.cc:1061: Starting in XGBoost 1.3.0, the default evaluation metric used with the objective 'binary:logistic' was changed from 'error' to 'logloss'. Explicitly set eval_metric if you'd like to restore the old behavior.\n",
      "[11:13:42] WARNING: ..\\src\\learner.cc:1061: Starting in XGBoost 1.3.0, the default evaluation metric used with the objective 'binary:logistic' was changed from 'error' to 'logloss'. Explicitly set eval_metric if you'd like to restore the old behavior.\n",
      "[11:13:42] WARNING: ..\\src\\learner.cc:1061: Starting in XGBoost 1.3.0, the default evaluation metric used with the objective 'binary:logistic' was changed from 'error' to 'logloss'. Explicitly set eval_metric if you'd like to restore the old behavior.\n",
      "[11:13:42] WARNING: ..\\src\\learner.cc:1061: Starting in XGBoost 1.3.0, the default evaluation metric used with the objective 'binary:logistic' was changed from 'error' to 'logloss'. Explicitly set eval_metric if you'd like to restore the old behavior.\n",
      "[11:13:43] WARNING: ..\\src\\learner.cc:1061: Starting in XGBoost 1.3.0, the default evaluation metric used with the objective 'binary:logistic' was changed from 'error' to 'logloss'. Explicitly set eval_metric if you'd like to restore the old behavior.\n",
      "[11:13:43] WARNING: ..\\src\\learner.cc:1061: Starting in XGBoost 1.3.0, the default evaluation metric used with the objective 'binary:logistic' was changed from 'error' to 'logloss'. Explicitly set eval_metric if you'd like to restore the old behavior.\n",
      "[11:13:43] WARNING: ..\\src\\learner.cc:1061: Starting in XGBoost 1.3.0, the default evaluation metric used with the objective 'binary:logistic' was changed from 'error' to 'logloss'. Explicitly set eval_metric if you'd like to restore the old behavior.\n",
      "[11:13:44] WARNING: ..\\src\\learner.cc:1061: Starting in XGBoost 1.3.0, the default evaluation metric used with the objective 'binary:logistic' was changed from 'error' to 'logloss'. Explicitly set eval_metric if you'd like to restore the old behavior.\n",
      "[11:13:44] WARNING: ..\\src\\learner.cc:1061: Starting in XGBoost 1.3.0, the default evaluation metric used with the objective 'binary:logistic' was changed from 'error' to 'logloss'. Explicitly set eval_metric if you'd like to restore the old behavior.\n",
      "[11:13:44] WARNING: ..\\src\\learner.cc:1061: Starting in XGBoost 1.3.0, the default evaluation metric used with the objective 'binary:logistic' was changed from 'error' to 'logloss'. Explicitly set eval_metric if you'd like to restore the old behavior.\n",
      "[11:13:45] WARNING: ..\\src\\learner.cc:1061: Starting in XGBoost 1.3.0, the default evaluation metric used with the objective 'binary:logistic' was changed from 'error' to 'logloss'. Explicitly set eval_metric if you'd like to restore the old behavior.\n",
      "[11:13:45] WARNING: ..\\src\\learner.cc:1061: Starting in XGBoost 1.3.0, the default evaluation metric used with the objective 'binary:logistic' was changed from 'error' to 'logloss'. Explicitly set eval_metric if you'd like to restore the old behavior.\n",
      "[11:13:45] WARNING: ..\\src\\learner.cc:1061: Starting in XGBoost 1.3.0, the default evaluation metric used with the objective 'binary:logistic' was changed from 'error' to 'logloss'. Explicitly set eval_metric if you'd like to restore the old behavior.\n",
      "[11:13:45] WARNING: ..\\src\\learner.cc:1061: Starting in XGBoost 1.3.0, the default evaluation metric used with the objective 'binary:logistic' was changed from 'error' to 'logloss'. Explicitly set eval_metric if you'd like to restore the old behavior.\n",
      "[11:13:46] WARNING: ..\\src\\learner.cc:1061: Starting in XGBoost 1.3.0, the default evaluation metric used with the objective 'binary:logistic' was changed from 'error' to 'logloss'. Explicitly set eval_metric if you'd like to restore the old behavior.\n"
     ]
    },
    {
     "name": "stdout",
     "output_type": "stream",
     "text": [
      "[11:13:46] WARNING: ..\\src\\learner.cc:1061: Starting in XGBoost 1.3.0, the default evaluation metric used with the objective 'binary:logistic' was changed from 'error' to 'logloss'. Explicitly set eval_metric if you'd like to restore the old behavior.\n",
      "[11:13:46] WARNING: ..\\src\\learner.cc:1061: Starting in XGBoost 1.3.0, the default evaluation metric used with the objective 'binary:logistic' was changed from 'error' to 'logloss'. Explicitly set eval_metric if you'd like to restore the old behavior.\n",
      "[11:13:47] WARNING: ..\\src\\learner.cc:1061: Starting in XGBoost 1.3.0, the default evaluation metric used with the objective 'binary:logistic' was changed from 'error' to 'logloss'. Explicitly set eval_metric if you'd like to restore the old behavior.\n",
      "[11:13:47] WARNING: ..\\src\\learner.cc:1061: Starting in XGBoost 1.3.0, the default evaluation metric used with the objective 'binary:logistic' was changed from 'error' to 'logloss'. Explicitly set eval_metric if you'd like to restore the old behavior.\n",
      "[11:13:47] WARNING: ..\\src\\learner.cc:1061: Starting in XGBoost 1.3.0, the default evaluation metric used with the objective 'binary:logistic' was changed from 'error' to 'logloss'. Explicitly set eval_metric if you'd like to restore the old behavior.\n",
      "[11:13:47] WARNING: ..\\src\\learner.cc:1061: Starting in XGBoost 1.3.0, the default evaluation metric used with the objective 'binary:logistic' was changed from 'error' to 'logloss'. Explicitly set eval_metric if you'd like to restore the old behavior.\n",
      "[11:13:48] WARNING: ..\\src\\learner.cc:1061: Starting in XGBoost 1.3.0, the default evaluation metric used with the objective 'binary:logistic' was changed from 'error' to 'logloss'. Explicitly set eval_metric if you'd like to restore the old behavior.\n",
      "[11:13:48] WARNING: ..\\src\\learner.cc:1061: Starting in XGBoost 1.3.0, the default evaluation metric used with the objective 'binary:logistic' was changed from 'error' to 'logloss'. Explicitly set eval_metric if you'd like to restore the old behavior.\n",
      "[11:13:48] WARNING: ..\\src\\learner.cc:1061: Starting in XGBoost 1.3.0, the default evaluation metric used with the objective 'binary:logistic' was changed from 'error' to 'logloss'. Explicitly set eval_metric if you'd like to restore the old behavior.\n",
      "[11:13:48] WARNING: ..\\src\\learner.cc:1061: Starting in XGBoost 1.3.0, the default evaluation metric used with the objective 'binary:logistic' was changed from 'error' to 'logloss'. Explicitly set eval_metric if you'd like to restore the old behavior.\n",
      "[11:13:49] WARNING: ..\\src\\learner.cc:1061: Starting in XGBoost 1.3.0, the default evaluation metric used with the objective 'binary:logistic' was changed from 'error' to 'logloss'. Explicitly set eval_metric if you'd like to restore the old behavior.\n",
      "[11:13:49] WARNING: ..\\src\\learner.cc:1061: Starting in XGBoost 1.3.0, the default evaluation metric used with the objective 'binary:logistic' was changed from 'error' to 'logloss'. Explicitly set eval_metric if you'd like to restore the old behavior.\n",
      "[11:13:49] WARNING: ..\\src\\learner.cc:1061: Starting in XGBoost 1.3.0, the default evaluation metric used with the objective 'binary:logistic' was changed from 'error' to 'logloss'. Explicitly set eval_metric if you'd like to restore the old behavior.\n",
      "[11:13:49] WARNING: ..\\src\\learner.cc:1061: Starting in XGBoost 1.3.0, the default evaluation metric used with the objective 'binary:logistic' was changed from 'error' to 'logloss'. Explicitly set eval_metric if you'd like to restore the old behavior.\n",
      "[11:13:50] WARNING: ..\\src\\learner.cc:1061: Starting in XGBoost 1.3.0, the default evaluation metric used with the objective 'binary:logistic' was changed from 'error' to 'logloss'. Explicitly set eval_metric if you'd like to restore the old behavior.\n",
      "[11:13:50] WARNING: ..\\src\\learner.cc:1061: Starting in XGBoost 1.3.0, the default evaluation metric used with the objective 'binary:logistic' was changed from 'error' to 'logloss'. Explicitly set eval_metric if you'd like to restore the old behavior.\n",
      "[11:13:50] WARNING: ..\\src\\learner.cc:1061: Starting in XGBoost 1.3.0, the default evaluation metric used with the objective 'binary:logistic' was changed from 'error' to 'logloss'. Explicitly set eval_metric if you'd like to restore the old behavior.\n",
      "[11:13:50] WARNING: ..\\src\\learner.cc:1061: Starting in XGBoost 1.3.0, the default evaluation metric used with the objective 'binary:logistic' was changed from 'error' to 'logloss'. Explicitly set eval_metric if you'd like to restore the old behavior.\n",
      "[11:13:51] WARNING: ..\\src\\learner.cc:1061: Starting in XGBoost 1.3.0, the default evaluation metric used with the objective 'binary:logistic' was changed from 'error' to 'logloss'. Explicitly set eval_metric if you'd like to restore the old behavior.\n",
      "[11:13:51] WARNING: ..\\src\\learner.cc:1061: Starting in XGBoost 1.3.0, the default evaluation metric used with the objective 'binary:logistic' was changed from 'error' to 'logloss'. Explicitly set eval_metric if you'd like to restore the old behavior.\n",
      "[11:13:51] WARNING: ..\\src\\learner.cc:1061: Starting in XGBoost 1.3.0, the default evaluation metric used with the objective 'binary:logistic' was changed from 'error' to 'logloss'. Explicitly set eval_metric if you'd like to restore the old behavior.\n",
      "[11:13:51] WARNING: ..\\src\\learner.cc:1061: Starting in XGBoost 1.3.0, the default evaluation metric used with the objective 'binary:logistic' was changed from 'error' to 'logloss'. Explicitly set eval_metric if you'd like to restore the old behavior.\n",
      "[11:13:51] WARNING: ..\\src\\learner.cc:1061: Starting in XGBoost 1.3.0, the default evaluation metric used with the objective 'binary:logistic' was changed from 'error' to 'logloss'. Explicitly set eval_metric if you'd like to restore the old behavior.\n",
      "[11:13:52] WARNING: ..\\src\\learner.cc:1061: Starting in XGBoost 1.3.0, the default evaluation metric used with the objective 'binary:logistic' was changed from 'error' to 'logloss'. Explicitly set eval_metric if you'd like to restore the old behavior.\n",
      "[11:13:52] WARNING: ..\\src\\learner.cc:1061: Starting in XGBoost 1.3.0, the default evaluation metric used with the objective 'binary:logistic' was changed from 'error' to 'logloss'. Explicitly set eval_metric if you'd like to restore the old behavior.\n",
      "[11:13:52] WARNING: ..\\src\\learner.cc:1061: Starting in XGBoost 1.3.0, the default evaluation metric used with the objective 'binary:logistic' was changed from 'error' to 'logloss'. Explicitly set eval_metric if you'd like to restore the old behavior.\n",
      "[11:13:52] WARNING: ..\\src\\learner.cc:1061: Starting in XGBoost 1.3.0, the default evaluation metric used with the objective 'binary:logistic' was changed from 'error' to 'logloss'. Explicitly set eval_metric if you'd like to restore the old behavior.\n",
      "[11:13:52] WARNING: ..\\src\\learner.cc:1061: Starting in XGBoost 1.3.0, the default evaluation metric used with the objective 'binary:logistic' was changed from 'error' to 'logloss'. Explicitly set eval_metric if you'd like to restore the old behavior.\n",
      "[11:13:52] WARNING: ..\\src\\learner.cc:1061: Starting in XGBoost 1.3.0, the default evaluation metric used with the objective 'binary:logistic' was changed from 'error' to 'logloss'. Explicitly set eval_metric if you'd like to restore the old behavior.\n",
      "[11:13:52] WARNING: ..\\src\\learner.cc:1061: Starting in XGBoost 1.3.0, the default evaluation metric used with the objective 'binary:logistic' was changed from 'error' to 'logloss'. Explicitly set eval_metric if you'd like to restore the old behavior.\n",
      "[11:13:52] WARNING: ..\\src\\learner.cc:1061: Starting in XGBoost 1.3.0, the default evaluation metric used with the objective 'binary:logistic' was changed from 'error' to 'logloss'. Explicitly set eval_metric if you'd like to restore the old behavior.\n",
      "[11:13:52] WARNING: ..\\src\\learner.cc:1061: Starting in XGBoost 1.3.0, the default evaluation metric used with the objective 'binary:logistic' was changed from 'error' to 'logloss'. Explicitly set eval_metric if you'd like to restore the old behavior.\n"
     ]
    },
    {
     "name": "stdout",
     "output_type": "stream",
     "text": [
      "[11:13:52] WARNING: ..\\src\\learner.cc:1061: Starting in XGBoost 1.3.0, the default evaluation metric used with the objective 'binary:logistic' was changed from 'error' to 'logloss'. Explicitly set eval_metric if you'd like to restore the old behavior.\n",
      "[11:13:52] WARNING: ..\\src\\learner.cc:1061: Starting in XGBoost 1.3.0, the default evaluation metric used with the objective 'binary:logistic' was changed from 'error' to 'logloss'. Explicitly set eval_metric if you'd like to restore the old behavior.\n",
      "[11:13:52] WARNING: ..\\src\\learner.cc:1061: Starting in XGBoost 1.3.0, the default evaluation metric used with the objective 'binary:logistic' was changed from 'error' to 'logloss'. Explicitly set eval_metric if you'd like to restore the old behavior.\n",
      "[11:13:52] WARNING: ..\\src\\learner.cc:1061: Starting in XGBoost 1.3.0, the default evaluation metric used with the objective 'binary:logistic' was changed from 'error' to 'logloss'. Explicitly set eval_metric if you'd like to restore the old behavior.\n",
      "[11:13:52] WARNING: ..\\src\\learner.cc:1061: Starting in XGBoost 1.3.0, the default evaluation metric used with the objective 'binary:logistic' was changed from 'error' to 'logloss'. Explicitly set eval_metric if you'd like to restore the old behavior.\n",
      "[11:13:52] WARNING: ..\\src\\learner.cc:1061: Starting in XGBoost 1.3.0, the default evaluation metric used with the objective 'binary:logistic' was changed from 'error' to 'logloss'. Explicitly set eval_metric if you'd like to restore the old behavior.\n",
      "[11:13:52] WARNING: ..\\src\\learner.cc:1061: Starting in XGBoost 1.3.0, the default evaluation metric used with the objective 'binary:logistic' was changed from 'error' to 'logloss'. Explicitly set eval_metric if you'd like to restore the old behavior.\n",
      "[11:13:53] WARNING: ..\\src\\learner.cc:1061: Starting in XGBoost 1.3.0, the default evaluation metric used with the objective 'binary:logistic' was changed from 'error' to 'logloss'. Explicitly set eval_metric if you'd like to restore the old behavior.\n",
      "[11:13:53] WARNING: ..\\src\\learner.cc:1061: Starting in XGBoost 1.3.0, the default evaluation metric used with the objective 'binary:logistic' was changed from 'error' to 'logloss'. Explicitly set eval_metric if you'd like to restore the old behavior.\n",
      "[11:13:53] WARNING: ..\\src\\learner.cc:1061: Starting in XGBoost 1.3.0, the default evaluation metric used with the objective 'binary:logistic' was changed from 'error' to 'logloss'. Explicitly set eval_metric if you'd like to restore the old behavior.\n",
      "[11:13:53] WARNING: ..\\src\\learner.cc:1061: Starting in XGBoost 1.3.0, the default evaluation metric used with the objective 'binary:logistic' was changed from 'error' to 'logloss'. Explicitly set eval_metric if you'd like to restore the old behavior.\n",
      "[11:13:53] WARNING: ..\\src\\learner.cc:1061: Starting in XGBoost 1.3.0, the default evaluation metric used with the objective 'binary:logistic' was changed from 'error' to 'logloss'. Explicitly set eval_metric if you'd like to restore the old behavior.\n",
      "[11:13:53] WARNING: ..\\src\\learner.cc:1061: Starting in XGBoost 1.3.0, the default evaluation metric used with the objective 'binary:logistic' was changed from 'error' to 'logloss'. Explicitly set eval_metric if you'd like to restore the old behavior.\n",
      "[11:13:53] WARNING: ..\\src\\learner.cc:1061: Starting in XGBoost 1.3.0, the default evaluation metric used with the objective 'binary:logistic' was changed from 'error' to 'logloss'. Explicitly set eval_metric if you'd like to restore the old behavior.\n",
      "[11:13:53] WARNING: ..\\src\\learner.cc:1061: Starting in XGBoost 1.3.0, the default evaluation metric used with the objective 'binary:logistic' was changed from 'error' to 'logloss'. Explicitly set eval_metric if you'd like to restore the old behavior.\n",
      "[11:13:53] WARNING: ..\\src\\learner.cc:1061: Starting in XGBoost 1.3.0, the default evaluation metric used with the objective 'binary:logistic' was changed from 'error' to 'logloss'. Explicitly set eval_metric if you'd like to restore the old behavior.\n",
      "[11:13:53] WARNING: ..\\src\\learner.cc:1061: Starting in XGBoost 1.3.0, the default evaluation metric used with the objective 'binary:logistic' was changed from 'error' to 'logloss'. Explicitly set eval_metric if you'd like to restore the old behavior.\n",
      "[11:13:53] WARNING: ..\\src\\learner.cc:1061: Starting in XGBoost 1.3.0, the default evaluation metric used with the objective 'binary:logistic' was changed from 'error' to 'logloss'. Explicitly set eval_metric if you'd like to restore the old behavior.\n",
      "[11:13:53] WARNING: ..\\src\\learner.cc:1061: Starting in XGBoost 1.3.0, the default evaluation metric used with the objective 'binary:logistic' was changed from 'error' to 'logloss'. Explicitly set eval_metric if you'd like to restore the old behavior.\n",
      "[11:13:53] WARNING: ..\\src\\learner.cc:1061: Starting in XGBoost 1.3.0, the default evaluation metric used with the objective 'binary:logistic' was changed from 'error' to 'logloss'. Explicitly set eval_metric if you'd like to restore the old behavior.\n",
      "[11:13:53] WARNING: ..\\src\\learner.cc:1061: Starting in XGBoost 1.3.0, the default evaluation metric used with the objective 'binary:logistic' was changed from 'error' to 'logloss'. Explicitly set eval_metric if you'd like to restore the old behavior.\n",
      "[11:13:53] WARNING: ..\\src\\learner.cc:1061: Starting in XGBoost 1.3.0, the default evaluation metric used with the objective 'binary:logistic' was changed from 'error' to 'logloss'. Explicitly set eval_metric if you'd like to restore the old behavior.\n",
      "[11:13:54] WARNING: ..\\src\\learner.cc:1061: Starting in XGBoost 1.3.0, the default evaluation metric used with the objective 'binary:logistic' was changed from 'error' to 'logloss'. Explicitly set eval_metric if you'd like to restore the old behavior.\n",
      "[11:13:54] WARNING: ..\\src\\learner.cc:1061: Starting in XGBoost 1.3.0, the default evaluation metric used with the objective 'binary:logistic' was changed from 'error' to 'logloss'. Explicitly set eval_metric if you'd like to restore the old behavior.\n",
      "[11:13:54] WARNING: ..\\src\\learner.cc:1061: Starting in XGBoost 1.3.0, the default evaluation metric used with the objective 'binary:logistic' was changed from 'error' to 'logloss'. Explicitly set eval_metric if you'd like to restore the old behavior.\n",
      "[11:13:54] WARNING: ..\\src\\learner.cc:1061: Starting in XGBoost 1.3.0, the default evaluation metric used with the objective 'binary:logistic' was changed from 'error' to 'logloss'. Explicitly set eval_metric if you'd like to restore the old behavior.\n",
      "[11:13:54] WARNING: ..\\src\\learner.cc:1061: Starting in XGBoost 1.3.0, the default evaluation metric used with the objective 'binary:logistic' was changed from 'error' to 'logloss'. Explicitly set eval_metric if you'd like to restore the old behavior.\n",
      "[11:13:54] WARNING: ..\\src\\learner.cc:1061: Starting in XGBoost 1.3.0, the default evaluation metric used with the objective 'binary:logistic' was changed from 'error' to 'logloss'. Explicitly set eval_metric if you'd like to restore the old behavior.\n",
      "[11:13:54] WARNING: ..\\src\\learner.cc:1061: Starting in XGBoost 1.3.0, the default evaluation metric used with the objective 'binary:logistic' was changed from 'error' to 'logloss'. Explicitly set eval_metric if you'd like to restore the old behavior.\n",
      "[11:13:54] WARNING: ..\\src\\learner.cc:1061: Starting in XGBoost 1.3.0, the default evaluation metric used with the objective 'binary:logistic' was changed from 'error' to 'logloss'. Explicitly set eval_metric if you'd like to restore the old behavior.\n",
      "[11:13:54] WARNING: ..\\src\\learner.cc:1061: Starting in XGBoost 1.3.0, the default evaluation metric used with the objective 'binary:logistic' was changed from 'error' to 'logloss'. Explicitly set eval_metric if you'd like to restore the old behavior.\n",
      "[11:13:54] WARNING: ..\\src\\learner.cc:1061: Starting in XGBoost 1.3.0, the default evaluation metric used with the objective 'binary:logistic' was changed from 'error' to 'logloss'. Explicitly set eval_metric if you'd like to restore the old behavior.\n",
      "[11:13:54] WARNING: ..\\src\\learner.cc:1061: Starting in XGBoost 1.3.0, the default evaluation metric used with the objective 'binary:logistic' was changed from 'error' to 'logloss'. Explicitly set eval_metric if you'd like to restore the old behavior.\n",
      "[11:13:54] WARNING: ..\\src\\learner.cc:1061: Starting in XGBoost 1.3.0, the default evaluation metric used with the objective 'binary:logistic' was changed from 'error' to 'logloss'. Explicitly set eval_metric if you'd like to restore the old behavior.\n"
     ]
    },
    {
     "name": "stdout",
     "output_type": "stream",
     "text": [
      "[11:13:54] WARNING: ..\\src\\learner.cc:1061: Starting in XGBoost 1.3.0, the default evaluation metric used with the objective 'binary:logistic' was changed from 'error' to 'logloss'. Explicitly set eval_metric if you'd like to restore the old behavior.\n",
      "[11:13:54] WARNING: ..\\src\\learner.cc:1061: Starting in XGBoost 1.3.0, the default evaluation metric used with the objective 'binary:logistic' was changed from 'error' to 'logloss'. Explicitly set eval_metric if you'd like to restore the old behavior.\n",
      "[11:13:54] WARNING: ..\\src\\learner.cc:1061: Starting in XGBoost 1.3.0, the default evaluation metric used with the objective 'binary:logistic' was changed from 'error' to 'logloss'. Explicitly set eval_metric if you'd like to restore the old behavior.\n",
      "[11:13:55] WARNING: ..\\src\\learner.cc:1061: Starting in XGBoost 1.3.0, the default evaluation metric used with the objective 'binary:logistic' was changed from 'error' to 'logloss'. Explicitly set eval_metric if you'd like to restore the old behavior.\n",
      "[11:13:55] WARNING: ..\\src\\learner.cc:1061: Starting in XGBoost 1.3.0, the default evaluation metric used with the objective 'binary:logistic' was changed from 'error' to 'logloss'. Explicitly set eval_metric if you'd like to restore the old behavior.\n",
      "[11:13:55] WARNING: ..\\src\\learner.cc:1061: Starting in XGBoost 1.3.0, the default evaluation metric used with the objective 'binary:logistic' was changed from 'error' to 'logloss'. Explicitly set eval_metric if you'd like to restore the old behavior.\n",
      "[11:13:55] WARNING: ..\\src\\learner.cc:1061: Starting in XGBoost 1.3.0, the default evaluation metric used with the objective 'binary:logistic' was changed from 'error' to 'logloss'. Explicitly set eval_metric if you'd like to restore the old behavior.\n",
      "[11:13:55] WARNING: ..\\src\\learner.cc:1061: Starting in XGBoost 1.3.0, the default evaluation metric used with the objective 'binary:logistic' was changed from 'error' to 'logloss'. Explicitly set eval_metric if you'd like to restore the old behavior.\n",
      "[11:13:55] WARNING: ..\\src\\learner.cc:1061: Starting in XGBoost 1.3.0, the default evaluation metric used with the objective 'binary:logistic' was changed from 'error' to 'logloss'. Explicitly set eval_metric if you'd like to restore the old behavior.\n",
      "[11:13:55] WARNING: ..\\src\\learner.cc:1061: Starting in XGBoost 1.3.0, the default evaluation metric used with the objective 'binary:logistic' was changed from 'error' to 'logloss'. Explicitly set eval_metric if you'd like to restore the old behavior.\n",
      "[11:13:55] WARNING: ..\\src\\learner.cc:1061: Starting in XGBoost 1.3.0, the default evaluation metric used with the objective 'binary:logistic' was changed from 'error' to 'logloss'. Explicitly set eval_metric if you'd like to restore the old behavior.\n",
      "[11:13:55] WARNING: ..\\src\\learner.cc:1061: Starting in XGBoost 1.3.0, the default evaluation metric used with the objective 'binary:logistic' was changed from 'error' to 'logloss'. Explicitly set eval_metric if you'd like to restore the old behavior.\n"
     ]
    },
    {
     "data": {
      "text/plain": [
       "GridSearchCV(cv=5,\n",
       "             estimator=XGBClassifier(base_score=None, booster=None,\n",
       "                                     colsample_bylevel=None,\n",
       "                                     colsample_bynode=None,\n",
       "                                     colsample_bytree=None, gamma=None,\n",
       "                                     gpu_id=None, importance_type='gain',\n",
       "                                     interaction_constraints=None,\n",
       "                                     learning_rate=None, max_delta_step=None,\n",
       "                                     max_depth=None, min_child_weight=None,\n",
       "                                     missing=nan, monotone_constraints=None,\n",
       "                                     n_estimators=100, n_jobs=None,\n",
       "                                     num_parallel_tree=None, random_state=None,\n",
       "                                     reg_alpha=None, reg_lambda=None,\n",
       "                                     scale_pos_weight=None, subsample=None,\n",
       "                                     tree_method=None, validate_parameters=None,\n",
       "                                     verbosity=None),\n",
       "             param_grid={'booster': ['gbtree', 'gblinear'],\n",
       "                         'eta': [0.01, 0.02, 0.03, 0.04, 0.05, 0.06, 0.07, 0.08,\n",
       "                                 0.09, 0.1, 0.2]})"
      ]
     },
     "execution_count": 174,
     "metadata": {},
     "output_type": "execute_result"
    }
   ],
   "source": [
    "from xgboost import XGBClassifier\n",
    "\n",
    "paramXGB = { \n",
    "    'booster': ['gbtree','gblinear'],\n",
    "    'eta' : [0.01, 0.02, 0.03, 0.04, 0.05, 0.06, 0.07, 0.08, 0.09, 0.1, 0.2],\n",
    "}\n",
    "gridXGB = GridSearchCV(XGBClassifier(), paramXGB, cv=5)\n",
    "gridXGB.fit(X_train_res, y_train_res)"
   ]
  },
  {
   "cell_type": "code",
   "execution_count": 175,
   "metadata": {
    "colab": {
     "base_uri": "https://localhost:8080/"
    },
    "id": "XInyP6qPe-xr",
    "outputId": "db2e3a9f-5cdb-49b2-af25-a582f4a46e4a"
   },
   "outputs": [
    {
     "data": {
      "text/plain": [
       "0.8201664942613665"
      ]
     },
     "execution_count": 175,
     "metadata": {},
     "output_type": "execute_result"
    }
   ],
   "source": [
    "gridXGB.best_score_"
   ]
  },
  {
   "cell_type": "code",
   "execution_count": 176,
   "metadata": {
    "colab": {
     "base_uri": "https://localhost:8080/"
    },
    "id": "e4cnuVVShQg8",
    "outputId": "c49452c0-5356-49fa-882e-e421ce6195d5"
   },
   "outputs": [
    {
     "data": {
      "text/plain": [
       "{'booster': 'gbtree', 'eta': 0.1}"
      ]
     },
     "execution_count": 176,
     "metadata": {},
     "output_type": "execute_result"
    }
   ],
   "source": [
    "gridXGB.best_params_"
   ]
  },
  {
   "cell_type": "code",
   "execution_count": 177,
   "metadata": {
    "colab": {
     "base_uri": "https://localhost:8080/"
    },
    "id": "AsSOfpnThXXN",
    "outputId": "83b237c9-fc0e-479c-8c24-bab1a45bc1d4"
   },
   "outputs": [
    {
     "name": "stdout",
     "output_type": "stream",
     "text": [
      "Le temps dexecution est de :0.0053517999995165155\n",
      "train: 0.9972222222222222\n",
      "test: 0.7611111111111111\n"
     ]
    }
   ],
   "source": [
    "start = timeit.default_timer()\n",
    "\n",
    "modelXGB = gridXGB.best_estimator_\n",
    "modelXGB.score(X_test, y_test)\n",
    "\n",
    "stop = timeit.default_timer()\n",
    "execution_time = stop - start\n",
    "print(\"Le temps dexecution est de :\" +str(execution_time))\n",
    "print(\"train:\",modelXGB.score(X_train, y_train))\n",
    "print(\"test:\", modelXGB.score(X_test, y_test))\n"
   ]
  },
  {
   "cell_type": "code",
   "execution_count": 179,
   "metadata": {
    "colab": {
     "base_uri": "https://localhost:8080/"
    },
    "id": "qGNAqGz9Cb61",
    "outputId": "b734addb-2bad-4c41-d552-2b0823b7c71d"
   },
   "outputs": [
    {
     "name": "stdout",
     "output_type": "stream",
     "text": [
      "[11:14:22] WARNING: ..\\src\\learner.cc:1061: Starting in XGBoost 1.3.0, the default evaluation metric used with the objective 'binary:logistic' was changed from 'error' to 'logloss'. Explicitly set eval_metric if you'd like to restore the old behavior.\n",
      "0.7611111111111111\n",
      "[[ 29  27]\n",
      " [ 16 108]]\n",
      "              precision    recall  f1-score   support\n",
      "\n",
      "           0       0.64      0.52      0.57        56\n",
      "           1       0.80      0.87      0.83       124\n",
      "\n",
      "    accuracy                           0.76       180\n",
      "   macro avg       0.72      0.69      0.70       180\n",
      "weighted avg       0.75      0.76      0.75       180\n",
      "\n"
     ]
    }
   ],
   "source": [
    "XGB = XGBClassifier(booster = \"gbtree\", eta= 0.1)\n",
    "\n",
    "XGB.fit(X_train_res, y_train_res)\n",
    "y_pred_XGB = XGB.predict(X_test)\n",
    "print(accuracy_score(y_pred_XGB, y_test))\n",
    "print(confusion_matrix(y_test, y_pred_XGB))\n",
    "print(classification_report(y_test, y_pred_XGB))"
   ]
  },
  {
   "cell_type": "markdown",
   "metadata": {
    "id": "HaKSHQ5yh1FO"
   },
   "source": [
    "## h- Pour AdaBoostClassifier"
   ]
  },
  {
   "cell_type": "code",
   "execution_count": null,
   "metadata": {
    "id": "gwPnmOdMTZiJ"
   },
   "outputs": [],
   "source": []
  },
  {
   "cell_type": "code",
   "execution_count": null,
   "metadata": {
    "colab": {
     "base_uri": "https://localhost:8080/"
    },
    "id": "GxDc3RFSh52U",
    "outputId": "3a3b67e5-dd46-4686-ad68-7b162ef1023c"
   },
   "outputs": [],
   "source": [
    "from sklearn.ensemble import AdaBoostClassifier\n",
    "\n",
    "paramAda = { \n",
    "    'n_estimators': np.arange(85, 102),\n",
    "    'algorithm' : ['SAMME', 'SAMME.R'],\n",
    "    'random_state': np.arange(1, 10)\n",
    "}\n",
    "gridAda = GridSearchCV(AdaBoostClassifier(), paramAda, cv=5, scoring=\"accuracy\")\n",
    "gridAda.fit(X_train, y_train)"
   ]
  },
  {
   "cell_type": "code",
   "execution_count": null,
   "metadata": {
    "colab": {
     "base_uri": "https://localhost:8080/"
    },
    "id": "c0cX2Ui1jxF-",
    "outputId": "9c248c0c-01c5-42d1-dfbe-a7a7425eb2de"
   },
   "outputs": [],
   "source": [
    "gridAda.best_score_"
   ]
  },
  {
   "cell_type": "code",
   "execution_count": null,
   "metadata": {
    "colab": {
     "base_uri": "https://localhost:8080/"
    },
    "id": "pnrauq7Uj6Ko",
    "outputId": "bc2291b7-15e1-43c7-95a8-427ec0169810"
   },
   "outputs": [],
   "source": [
    "gridAda.best_params_"
   ]
  },
  {
   "cell_type": "code",
   "execution_count": null,
   "metadata": {
    "colab": {
     "base_uri": "https://localhost:8080/"
    },
    "id": "ro8Nyy5ikBmG",
    "outputId": "16d694b1-bcd8-402d-c4f4-9bc28b0ea348"
   },
   "outputs": [],
   "source": [
    "start = timeit.default_timer()\n",
    "\n",
    "modelAda = gridAda.best_estimator_\n",
    "modelAda.score(X_test, y_test)\n",
    "\n",
    "stop = timeit.default_timer()\n",
    "execution_time = stop - start\n",
    "print(\"Le temps dexecution est de :\" +str(execution_time))\n",
    "print(\"train:\",modelAda.score(X_train, y_train))\n",
    "print(\"test:\", modelAda.score(X_test, y_test))\n"
   ]
  },
  {
   "cell_type": "code",
   "execution_count": null,
   "metadata": {
    "colab": {
     "base_uri": "https://localhost:8080/"
    },
    "id": "Iu8uvCY5Les5",
    "outputId": "579c4983-671b-4d30-cec0-7ab386c5ed1e"
   },
   "outputs": [],
   "source": [
    "Ada = AdaBoostClassifier()\n",
    "\n",
    "Ada.fit(X_train, y_train)\n",
    "y_pred_Ada = Ada.predict(X_test)\n",
    "print(accuracy_score(y_pred_Ada, y_test))\n",
    "print(confusion_matrix(y_test, y_pred_Ada))\n",
    "print(classification_report(y_test, y_pred_Ada))"
   ]
  },
  {
   "cell_type": "markdown",
   "metadata": {
    "id": "kzSnNd16kgkL"
   },
   "source": [
    "# 5- Comparatif des différents modèles et choix du meilleur modèle"
   ]
  },
  {
   "attachments": {
    "Compare.PNG": {
     "image/png": "[encoded data removed]"
    }
   },
   "cell_type": "markdown",
   "metadata": {},
   "source": [
    "![Compare.PNG](attachment:Compare.PNG)"
   ]
  },
  {
   "cell_type": "markdown",
   "metadata": {},
   "source": [
    "Après la visualisation de ce tableau comparatif, nous pouvons dire que le meilleur modèle est le le XGBClassifier car il a un meilleur accuracy score qui est de 0.7611 avec un temps d'exécution qui est de 0.0050 secondes\n",
    "\n",
    "Le modèle le plus rapide est le RandomForest avec un temps d'execution de 0.0036 secondes"
   ]
  },
  {
   "cell_type": "markdown",
   "metadata": {},
   "source": [
    "# 6- Utilisation des méthodes d'ensemble"
   ]
  },
  {
   "cell_type": "markdown",
   "metadata": {},
   "source": [
    "# a- Voting Classifier"
   ]
  },
  {
   "cell_type": "code",
   "execution_count": 66,
   "metadata": {},
   "outputs": [],
   "source": [
    "#from sklearn.ensemble import VotingClassifier"
   ]
  },
  {
   "cell_type": "markdown",
   "metadata": {},
   "source": [
    "model_1 = KNeighborsClassifier(algorithm= 'ball_tree',\n",
    " metric = 'euclidean',\n",
    " n_neighbors=  32,\n",
    " weights= 'distance')\n",
    "\n",
    "model_2 =  RandomForestClassifier()\n",
    "\n",
    "model_3 = SVC(C = 15, decision_function_shape = \"ovo\", gamma = \"auto\", kernel = \"rbf\")\n",
    "model_4 = VotingClassifier([('KNN', model_1),\n",
    "                            ('RandomForest', model_2),\n",
    "                            ('SVC', model_3)],\n",
    "                          voting = 'hard')\n",
    "\n",
    "for model in (model_1, model_2, model_3, model_4):\n",
    "    model.fit(X_train, y_train)\n",
    "    print(model.__class__.__name__, model.score(X_test, y_test))"
   ]
  },
  {
   "cell_type": "markdown",
   "metadata": {},
   "source": [
    "# b- Bagging"
   ]
  },
  {
   "cell_type": "markdown",
   "metadata": {},
   "source": [
    "model = BaggingClassifier(base_estimator =KNeighborsClassifier(algorithm= 'ball_tree',\n",
    " metric = 'euclidean',\n",
    " n_neighbors=  32,\n",
    " weights= 'distance'),\n",
    "n_estimators = 13)\n",
    "\n",
    "model.fit(X_train, y_train)\n",
    "model.score(X_test, y_test)"
   ]
  },
  {
   "cell_type": "markdown",
   "metadata": {},
   "source": [
    "# c- Stacking"
   ]
  },
  {
   "cell_type": "code",
   "execution_count": 320,
   "metadata": {},
   "outputs": [],
   "source": [
    "#from sklearn.ensemble import StackingClassifier"
   ]
  },
  {
   "cell_type": "markdown",
   "metadata": {
    "scrolled": true
   },
   "source": [
    "model_4 = StackingClassifier([('KNN', model_1),\n",
    "                            ('RandomForest', model_2),\n",
    "                            ('SVC', model_3)],\n",
    "                          final_estimator = RandomForestClassifier(criterion = 'gini',\n",
    " max_depth = 12,\n",
    " max_features = 'sqrt',\n",
    " n_estimators = 37))\n",
    "\n",
    "model.fit(X_train, y_train)\n",
    "model.score(X_test, y_test)"
   ]
  },
  {
   "cell_type": "code",
   "execution_count": 70,
   "metadata": {},
   "outputs": [],
   "source": [
    "from tpot import TPOTClassifier"
   ]
  },
  {
   "cell_type": "code",
   "execution_count": 71,
   "metadata": {
    "scrolled": true
   },
   "outputs": [
    {
     "data": {
      "application/vnd.jupyter.widget-view+json": {
       "model_id": "",
       "version_major": 2,
       "version_minor": 0
      },
      "text/plain": [
       "HBox(children=(HTML(value='Optimization Progress'), FloatProgress(value=0.0, max=11536.0), HTML(value='')))"
      ]
     },
     "metadata": {},
     "output_type": "display_data"
    },
    {
     "name": "stdout",
     "output_type": "stream",
     "text": [
      "\n",
      "Generation 1 - Current best internal CV score: 0.7625\n",
      "\n",
      "Generation 2 - Current best internal CV score: 0.7625\n",
      "\n",
      "Generation 3 - Current best internal CV score: 0.7625000000000001\n",
      "\n",
      "Generation 4 - Current best internal CV score: 0.7625000000000001\n",
      "\n",
      "Generation 5 - Current best internal CV score: 0.7777777777777779\n",
      "\n",
      "Generation 6 - Current best internal CV score: 0.7777777777777779\n",
      "\n",
      "Generation 7 - Current best internal CV score: 0.7777777777777779\n",
      "\n",
      "Generation 8 - Current best internal CV score: 0.7777777777777779\n",
      "\n",
      "Generation 9 - Current best internal CV score: 0.7777777777777779\n",
      "\n",
      "Generation 10 - Current best internal CV score: 0.7777777777777779\n",
      "\n",
      "Generation 11 - Current best internal CV score: 0.7777777777777779\n",
      "\n",
      "Generation 12 - Current best internal CV score: 0.7777777777777779\n",
      "\n",
      "Generation 13 - Current best internal CV score: 0.7777777777777779\n",
      "\n",
      "Generation 14 - Current best internal CV score: 0.7777777777777779\n",
      "\n",
      "Generation 15 - Current best internal CV score: 0.7777777777777779\n",
      "\n",
      "Best pipeline: ExtraTreesClassifier(SelectFromModel(SGDClassifier(input_matrix, alpha=0.01, eta0=0.1, fit_intercept=False, l1_ratio=0.5, learning_rate=invscaling, loss=log, penalty=elasticnet, power_t=0.5), criterion=entropy, max_features=0.5, n_estimators=100, threshold=0.0), bootstrap=False, criterion=gini, max_features=0.5, min_samples_leaf=14, min_samples_split=14, n_estimators=100)\n"
     ]
    },
    {
     "data": {
      "text/plain": [
       "TPOTClassifier(generations=15, n_jobs=-1, population_size=721, verbosity=2)"
      ]
     },
     "execution_count": 71,
     "metadata": {},
     "output_type": "execute_result"
    }
   ],
   "source": [
    "tpot = TPOTClassifier(generations = 15, verbosity = 2, population_size = 721, n_jobs = -1)\n",
    "tpot.fit(X_train, y_train)"
   ]
  },
  {
   "cell_type": "code",
   "execution_count": 72,
   "metadata": {},
   "outputs": [
    {
     "data": {
      "text/plain": [
       "Pipeline(steps=[('stackingestimator',\n",
       "                 StackingEstimator(estimator=SGDClassifier(alpha=0.01, eta0=0.1,\n",
       "                                                           fit_intercept=False,\n",
       "                                                           l1_ratio=0.5,\n",
       "                                                           learning_rate='invscaling',\n",
       "                                                           loss='log',\n",
       "                                                           penalty='elasticnet'))),\n",
       "                ('selectfrommodel',\n",
       "                 SelectFromModel(estimator=ExtraTreesClassifier(criterion='entropy',\n",
       "                                                                max_features=0.5),\n",
       "                                 threshold=0.0)),\n",
       "                ('extratreesclassifier',\n",
       "                 ExtraTreesClassifier(max_features=0.5, min_samples_leaf=14,\n",
       "                                      min_samples_split=14))])"
      ]
     },
     "execution_count": 72,
     "metadata": {},
     "output_type": "execute_result"
    }
   ],
   "source": [
    "tpot.fitted_pipeline_"
   ]
  },
  {
   "cell_type": "code",
   "execution_count": 73,
   "metadata": {},
   "outputs": [
    {
     "data": {
      "text/plain": [
       "0.7388888888888889"
      ]
     },
     "execution_count": 73,
     "metadata": {},
     "output_type": "execute_result"
    }
   ],
   "source": [
    "tpot.score(X_test, y_test)"
   ]
  },
  {
   "cell_type": "code",
   "execution_count": null,
   "metadata": {},
   "outputs": [],
   "source": []
  }
 ],
 "metadata": {
  "colab": {
   "collapsed_sections": [],
   "name": "modèle.ipynb",
   "provenance": []
  },
  "kernelspec": {
   "display_name": "Python 3",
   "language": "python",
   "name": "python3"
  },
  "language_info": {
   "codemirror_mode": {
    "name": "ipython",
    "version": 3
   },
   "file_extension": ".py",
   "mimetype": "text/x-python",
   "name": "python",
   "nbconvert_exporter": "python",
   "pygments_lexer": "ipython3",
   "version": "3.8.5"
  }
 },
 "nbformat": 4,
 "nbformat_minor": 1
}
