{
 "cells": [
  {
   "cell_type": "markdown",
   "metadata": {
    "id": "ykBSVDUGDkGp"
   },
   "source": [
    "# 1- Importation des librairies pour tester les différents modèles"
   ]
  },
  {
   "cell_type": "code",
   "execution_count": null,
   "metadata": {
    "id": "1A5N_6lXI5i6"
   },
   "outputs": [],
   "source": [
    "pip install lazypredict"
   ]
  },
  {
   "cell_type": "code",
   "execution_count": 74,
   "metadata": {
    "id": "M1ArjOFnDkGy"
   },
   "outputs": [],
   "source": [
    "import numpy as np\n",
    "import pandas as pd\n",
    "import seaborn as sns\n",
    "#from lazypredict.Supervised import LazyClassifier\n",
    "from sklearn.linear_model import LogisticRegression\n",
    "from sklearn.model_selection import train_test_split, learning_curve\n",
    "from sklearn.naive_bayes import GaussianNB, BernoulliNB\n",
    "from sklearn.neighbors import KNeighborsClassifier\n",
    "from sklearn.ensemble import RandomForestClassifier, BaggingClassifier\n",
    "from sklearn.neural_network import MLPClassifier, BernoulliRBM\n",
    "from xgboost import XGBClassifier\n",
    "from sklearn.svm import NuSVC,SVC\n",
    "import sklearn.metrics as metrics\n",
    "from sklearn.metrics import accuracy_score, classification_report, confusion_matrix\n",
    "import matplotlib.pyplot as plt\n",
    "import timeit, time \n",
    "from sklearn.pipeline import make_pipeline\n",
    "from sklearn.feature_selection import SelectKBest, VarianceThreshold, f_classif, chi2, SelectFromModel, RFE, RFECV\n",
    "from sklearn.preprocessing import PolynomialFeatures\n",
    "import os\n",
    "import warnings\n",
    "warnings.filterwarnings(\"ignore\")"
   ]
  },
  {
   "cell_type": "code",
   "execution_count": 3,
   "metadata": {
    "id": "P4Zz01fzDkG1"
   },
   "outputs": [],
   "source": [
    "train = pd.read_csv('train_final.csv')"
   ]
  },
  {
   "cell_type": "code",
   "execution_count": 4,
   "metadata": {
    "id": "-4zUl7MkDkG2"
   },
   "outputs": [],
   "source": [
    "train.set_index('id', inplace = True)"
   ]
  },
  {
   "cell_type": "code",
   "execution_count": 5,
   "metadata": {
    "colab": {
     "base_uri": "https://localhost:8080/",
     "height": 485
    },
    "id": "ZIVHZmMaDkG3",
    "outputId": "eef17265-1c03-4d85-e7b9-d725f6c150ae"
   },
   "outputs": [
    {
     "data": {
      "text/html": [
       "<div>\n",
       "<style scoped>\n",
       "    .dataframe tbody tr th:only-of-type {\n",
       "        vertical-align: middle;\n",
       "    }\n",
       "\n",
       "    .dataframe tbody tr th {\n",
       "        vertical-align: top;\n",
       "    }\n",
       "\n",
       "    .dataframe thead th {\n",
       "        text-align: right;\n",
       "    }\n",
       "</style>\n",
       "<table border=\"1\" class=\"dataframe\">\n",
       "  <thead>\n",
       "    <tr style=\"text-align: right;\">\n",
       "      <th></th>\n",
       "      <th>duration</th>\n",
       "      <th>credit_amount</th>\n",
       "      <th>installment_commitment</th>\n",
       "      <th>residence_since</th>\n",
       "      <th>age</th>\n",
       "      <th>existing_credits</th>\n",
       "      <th>num_dependents</th>\n",
       "      <th>checking_status</th>\n",
       "      <th>employment</th>\n",
       "      <th>savings_status</th>\n",
       "      <th>...</th>\n",
       "      <th>other_payment_plans_bank</th>\n",
       "      <th>other_payment_plans_none</th>\n",
       "      <th>other_payment_plans_stores</th>\n",
       "      <th>housing_for free</th>\n",
       "      <th>housing_own</th>\n",
       "      <th>housing_rent</th>\n",
       "      <th>job_high qualif/self emp/mgmt</th>\n",
       "      <th>job_skilled</th>\n",
       "      <th>job_unemp/unskilled non res</th>\n",
       "      <th>job_unskilled resident</th>\n",
       "    </tr>\n",
       "    <tr>\n",
       "      <th>id</th>\n",
       "      <th></th>\n",
       "      <th></th>\n",
       "      <th></th>\n",
       "      <th></th>\n",
       "      <th></th>\n",
       "      <th></th>\n",
       "      <th></th>\n",
       "      <th></th>\n",
       "      <th></th>\n",
       "      <th></th>\n",
       "      <th></th>\n",
       "      <th></th>\n",
       "      <th></th>\n",
       "      <th></th>\n",
       "      <th></th>\n",
       "      <th></th>\n",
       "      <th></th>\n",
       "      <th></th>\n",
       "      <th></th>\n",
       "      <th></th>\n",
       "      <th></th>\n",
       "    </tr>\n",
       "  </thead>\n",
       "  <tbody>\n",
       "    <tr>\n",
       "      <th>786</th>\n",
       "      <td>0.250000</td>\n",
       "      <td>0.517723</td>\n",
       "      <td>-0.5</td>\n",
       "      <td>0.0</td>\n",
       "      <td>-0.400000</td>\n",
       "      <td>1.0</td>\n",
       "      <td>0.0</td>\n",
       "      <td>2</td>\n",
       "      <td>3</td>\n",
       "      <td>1</td>\n",
       "      <td>...</td>\n",
       "      <td>0</td>\n",
       "      <td>1</td>\n",
       "      <td>0</td>\n",
       "      <td>0</td>\n",
       "      <td>1</td>\n",
       "      <td>0</td>\n",
       "      <td>0</td>\n",
       "      <td>1</td>\n",
       "      <td>0</td>\n",
       "      <td>0</td>\n",
       "    </tr>\n",
       "    <tr>\n",
       "      <th>874</th>\n",
       "      <td>0.500000</td>\n",
       "      <td>-0.025468</td>\n",
       "      <td>0.5</td>\n",
       "      <td>0.5</td>\n",
       "      <td>1.266667</td>\n",
       "      <td>1.0</td>\n",
       "      <td>0.0</td>\n",
       "      <td>0</td>\n",
       "      <td>4</td>\n",
       "      <td>2</td>\n",
       "      <td>...</td>\n",
       "      <td>1</td>\n",
       "      <td>0</td>\n",
       "      <td>0</td>\n",
       "      <td>0</td>\n",
       "      <td>1</td>\n",
       "      <td>0</td>\n",
       "      <td>0</td>\n",
       "      <td>1</td>\n",
       "      <td>0</td>\n",
       "      <td>0</td>\n",
       "    </tr>\n",
       "    <tr>\n",
       "      <th>66</th>\n",
       "      <td>-0.500000</td>\n",
       "      <td>-0.379740</td>\n",
       "      <td>0.5</td>\n",
       "      <td>-0.5</td>\n",
       "      <td>0.133333</td>\n",
       "      <td>1.0</td>\n",
       "      <td>0.0</td>\n",
       "      <td>0</td>\n",
       "      <td>2</td>\n",
       "      <td>1</td>\n",
       "      <td>...</td>\n",
       "      <td>0</td>\n",
       "      <td>1</td>\n",
       "      <td>0</td>\n",
       "      <td>0</td>\n",
       "      <td>1</td>\n",
       "      <td>0</td>\n",
       "      <td>0</td>\n",
       "      <td>1</td>\n",
       "      <td>0</td>\n",
       "      <td>0</td>\n",
       "    </tr>\n",
       "    <tr>\n",
       "      <th>903</th>\n",
       "      <td>0.500000</td>\n",
       "      <td>0.032310</td>\n",
       "      <td>0.5</td>\n",
       "      <td>-0.5</td>\n",
       "      <td>0.733333</td>\n",
       "      <td>1.0</td>\n",
       "      <td>1.0</td>\n",
       "      <td>0</td>\n",
       "      <td>2</td>\n",
       "      <td>3</td>\n",
       "      <td>...</td>\n",
       "      <td>0</td>\n",
       "      <td>1</td>\n",
       "      <td>0</td>\n",
       "      <td>0</td>\n",
       "      <td>1</td>\n",
       "      <td>0</td>\n",
       "      <td>0</td>\n",
       "      <td>1</td>\n",
       "      <td>0</td>\n",
       "      <td>0</td>\n",
       "    </tr>\n",
       "    <tr>\n",
       "      <th>318</th>\n",
       "      <td>1.500000</td>\n",
       "      <td>0.822959</td>\n",
       "      <td>-0.5</td>\n",
       "      <td>-0.5</td>\n",
       "      <td>-0.200000</td>\n",
       "      <td>1.0</td>\n",
       "      <td>0.0</td>\n",
       "      <td>2</td>\n",
       "      <td>2</td>\n",
       "      <td>1</td>\n",
       "      <td>...</td>\n",
       "      <td>0</td>\n",
       "      <td>0</td>\n",
       "      <td>1</td>\n",
       "      <td>0</td>\n",
       "      <td>1</td>\n",
       "      <td>0</td>\n",
       "      <td>1</td>\n",
       "      <td>0</td>\n",
       "      <td>0</td>\n",
       "      <td>0</td>\n",
       "    </tr>\n",
       "    <tr>\n",
       "      <th>...</th>\n",
       "      <td>...</td>\n",
       "      <td>...</td>\n",
       "      <td>...</td>\n",
       "      <td>...</td>\n",
       "      <td>...</td>\n",
       "      <td>...</td>\n",
       "      <td>...</td>\n",
       "      <td>...</td>\n",
       "      <td>...</td>\n",
       "      <td>...</td>\n",
       "      <td>...</td>\n",
       "      <td>...</td>\n",
       "      <td>...</td>\n",
       "      <td>...</td>\n",
       "      <td>...</td>\n",
       "      <td>...</td>\n",
       "      <td>...</td>\n",
       "      <td>...</td>\n",
       "      <td>...</td>\n",
       "      <td>...</td>\n",
       "      <td>...</td>\n",
       "    </tr>\n",
       "    <tr>\n",
       "      <th>836</th>\n",
       "      <td>-0.500000</td>\n",
       "      <td>-0.451202</td>\n",
       "      <td>0.5</td>\n",
       "      <td>0.0</td>\n",
       "      <td>-0.266667</td>\n",
       "      <td>1.0</td>\n",
       "      <td>0.0</td>\n",
       "      <td>2</td>\n",
       "      <td>3</td>\n",
       "      <td>1</td>\n",
       "      <td>...</td>\n",
       "      <td>0</td>\n",
       "      <td>1</td>\n",
       "      <td>0</td>\n",
       "      <td>0</td>\n",
       "      <td>1</td>\n",
       "      <td>0</td>\n",
       "      <td>0</td>\n",
       "      <td>1</td>\n",
       "      <td>0</td>\n",
       "      <td>0</td>\n",
       "    </tr>\n",
       "    <tr>\n",
       "      <th>193</th>\n",
       "      <td>-0.666667</td>\n",
       "      <td>-0.385822</td>\n",
       "      <td>0.5</td>\n",
       "      <td>-0.5</td>\n",
       "      <td>-0.666667</td>\n",
       "      <td>0.0</td>\n",
       "      <td>0.0</td>\n",
       "      <td>3</td>\n",
       "      <td>1</td>\n",
       "      <td>1</td>\n",
       "      <td>...</td>\n",
       "      <td>0</td>\n",
       "      <td>1</td>\n",
       "      <td>0</td>\n",
       "      <td>0</td>\n",
       "      <td>1</td>\n",
       "      <td>0</td>\n",
       "      <td>0</td>\n",
       "      <td>1</td>\n",
       "      <td>0</td>\n",
       "      <td>0</td>\n",
       "    </tr>\n",
       "    <tr>\n",
       "      <th>630</th>\n",
       "      <td>-1.166667</td>\n",
       "      <td>-0.302575</td>\n",
       "      <td>-1.0</td>\n",
       "      <td>-0.5</td>\n",
       "      <td>-0.266667</td>\n",
       "      <td>0.0</td>\n",
       "      <td>1.0</td>\n",
       "      <td>3</td>\n",
       "      <td>1</td>\n",
       "      <td>0</td>\n",
       "      <td>...</td>\n",
       "      <td>0</td>\n",
       "      <td>1</td>\n",
       "      <td>0</td>\n",
       "      <td>0</td>\n",
       "      <td>1</td>\n",
       "      <td>0</td>\n",
       "      <td>0</td>\n",
       "      <td>0</td>\n",
       "      <td>0</td>\n",
       "      <td>1</td>\n",
       "    </tr>\n",
       "    <tr>\n",
       "      <th>560</th>\n",
       "      <td>-0.166667</td>\n",
       "      <td>-0.423834</td>\n",
       "      <td>-0.5</td>\n",
       "      <td>0.0</td>\n",
       "      <td>2.333333</td>\n",
       "      <td>2.0</td>\n",
       "      <td>0.0</td>\n",
       "      <td>2</td>\n",
       "      <td>0</td>\n",
       "      <td>1</td>\n",
       "      <td>...</td>\n",
       "      <td>0</td>\n",
       "      <td>1</td>\n",
       "      <td>0</td>\n",
       "      <td>1</td>\n",
       "      <td>0</td>\n",
       "      <td>0</td>\n",
       "      <td>0</td>\n",
       "      <td>0</td>\n",
       "      <td>1</td>\n",
       "      <td>0</td>\n",
       "    </tr>\n",
       "    <tr>\n",
       "      <th>685</th>\n",
       "      <td>0.833333</td>\n",
       "      <td>0.172194</td>\n",
       "      <td>0.5</td>\n",
       "      <td>-0.5</td>\n",
       "      <td>-0.266667</td>\n",
       "      <td>1.0</td>\n",
       "      <td>0.0</td>\n",
       "      <td>0</td>\n",
       "      <td>4</td>\n",
       "      <td>1</td>\n",
       "      <td>...</td>\n",
       "      <td>0</td>\n",
       "      <td>1</td>\n",
       "      <td>0</td>\n",
       "      <td>0</td>\n",
       "      <td>1</td>\n",
       "      <td>0</td>\n",
       "      <td>0</td>\n",
       "      <td>1</td>\n",
       "      <td>0</td>\n",
       "      <td>0</td>\n",
       "    </tr>\n",
       "  </tbody>\n",
       "</table>\n",
       "<p>900 rows × 48 columns</p>\n",
       "</div>"
      ],
      "text/plain": [
       "     duration  credit_amount  installment_commitment  residence_since  \\\n",
       "id                                                                      \n",
       "786  0.250000       0.517723                    -0.5              0.0   \n",
       "874  0.500000      -0.025468                     0.5              0.5   \n",
       "66  -0.500000      -0.379740                     0.5             -0.5   \n",
       "903  0.500000       0.032310                     0.5             -0.5   \n",
       "318  1.500000       0.822959                    -0.5             -0.5   \n",
       "..        ...            ...                     ...              ...   \n",
       "836 -0.500000      -0.451202                     0.5              0.0   \n",
       "193 -0.666667      -0.385822                     0.5             -0.5   \n",
       "630 -1.166667      -0.302575                    -1.0             -0.5   \n",
       "560 -0.166667      -0.423834                    -0.5              0.0   \n",
       "685  0.833333       0.172194                     0.5             -0.5   \n",
       "\n",
       "          age  existing_credits  num_dependents  checking_status  employment  \\\n",
       "id                                                                             \n",
       "786 -0.400000               1.0             0.0                2           3   \n",
       "874  1.266667               1.0             0.0                0           4   \n",
       "66   0.133333               1.0             0.0                0           2   \n",
       "903  0.733333               1.0             1.0                0           2   \n",
       "318 -0.200000               1.0             0.0                2           2   \n",
       "..        ...               ...             ...              ...         ...   \n",
       "836 -0.266667               1.0             0.0                2           3   \n",
       "193 -0.666667               0.0             0.0                3           1   \n",
       "630 -0.266667               0.0             1.0                3           1   \n",
       "560  2.333333               2.0             0.0                2           0   \n",
       "685 -0.266667               1.0             0.0                0           4   \n",
       "\n",
       "     savings_status  ...  other_payment_plans_bank  other_payment_plans_none  \\\n",
       "id                   ...                                                       \n",
       "786               1  ...                         0                         1   \n",
       "874               2  ...                         1                         0   \n",
       "66                1  ...                         0                         1   \n",
       "903               3  ...                         0                         1   \n",
       "318               1  ...                         0                         0   \n",
       "..              ...  ...                       ...                       ...   \n",
       "836               1  ...                         0                         1   \n",
       "193               1  ...                         0                         1   \n",
       "630               0  ...                         0                         1   \n",
       "560               1  ...                         0                         1   \n",
       "685               1  ...                         0                         1   \n",
       "\n",
       "     other_payment_plans_stores  housing_for free  housing_own  housing_rent  \\\n",
       "id                                                                             \n",
       "786                           0                 0            1             0   \n",
       "874                           0                 0            1             0   \n",
       "66                            0                 0            1             0   \n",
       "903                           0                 0            1             0   \n",
       "318                           1                 0            1             0   \n",
       "..                          ...               ...          ...           ...   \n",
       "836                           0                 0            1             0   \n",
       "193                           0                 0            1             0   \n",
       "630                           0                 0            1             0   \n",
       "560                           0                 1            0             0   \n",
       "685                           0                 0            1             0   \n",
       "\n",
       "     job_high qualif/self emp/mgmt  job_skilled  job_unemp/unskilled non res  \\\n",
       "id                                                                             \n",
       "786                              0            1                            0   \n",
       "874                              0            1                            0   \n",
       "66                               0            1                            0   \n",
       "903                              0            1                            0   \n",
       "318                              1            0                            0   \n",
       "..                             ...          ...                          ...   \n",
       "836                              0            1                            0   \n",
       "193                              0            1                            0   \n",
       "630                              0            0                            0   \n",
       "560                              0            0                            1   \n",
       "685                              0            1                            0   \n",
       "\n",
       "     job_unskilled resident  \n",
       "id                           \n",
       "786                       0  \n",
       "874                       0  \n",
       "66                        0  \n",
       "903                       0  \n",
       "318                       0  \n",
       "..                      ...  \n",
       "836                       0  \n",
       "193                       0  \n",
       "630                       1  \n",
       "560                       0  \n",
       "685                       0  \n",
       "\n",
       "[900 rows x 48 columns]"
      ]
     },
     "execution_count": 5,
     "metadata": {},
     "output_type": "execute_result"
    }
   ],
   "source": [
    "train"
   ]
  },
  {
   "cell_type": "markdown",
   "metadata": {
    "id": "VTSlNjwFDkG3"
   },
   "source": [
    "# 2- Determination de la target value et split du dataset"
   ]
  },
  {
   "cell_type": "code",
   "execution_count": 6,
   "metadata": {
    "id": "l6x0mI-IDkG4"
   },
   "outputs": [],
   "source": [
    "y= train['class']\n",
    "del train['class']\n",
    "X = train"
   ]
  },
  {
   "cell_type": "code",
   "execution_count": 7,
   "metadata": {
    "id": "ugZOfW_6DkG5"
   },
   "outputs": [],
   "source": [
    "X_train, X_test, y_train, y_test = train_test_split(X, y, test_size=0.2, random_state = 0)"
   ]
  },
  {
   "cell_type": "code",
   "execution_count": 8,
   "metadata": {
    "colab": {
     "base_uri": "https://localhost:8080/"
    },
    "id": "GAKAy8gQDkG5",
    "outputId": "834170ee-6ec6-4692-e924-85c181896eab"
   },
   "outputs": [
    {
     "data": {
      "text/plain": [
       "(720, 47)"
      ]
     },
     "execution_count": 8,
     "metadata": {},
     "output_type": "execute_result"
    }
   ],
   "source": [
    "X_train.shape"
   ]
  },
  {
   "cell_type": "code",
   "execution_count": 9,
   "metadata": {
    "colab": {
     "base_uri": "https://localhost:8080/"
    },
    "id": "VGphkK_bDkG6",
    "outputId": "522f004c-593b-4db9-e560-678f30973bc5"
   },
   "outputs": [
    {
     "data": {
      "text/plain": [
       "(720,)"
      ]
     },
     "execution_count": 9,
     "metadata": {},
     "output_type": "execute_result"
    }
   ],
   "source": [
    "y_train.shape"
   ]
  },
  {
   "cell_type": "code",
   "execution_count": 10,
   "metadata": {
    "colab": {
     "base_uri": "https://localhost:8080/"
    },
    "id": "mjFr9hXmDkG6",
    "outputId": "ea407c2a-8d1e-4a2d-bb6d-4964d88dd13c"
   },
   "outputs": [
    {
     "data": {
      "text/plain": [
       "(180, 47)"
      ]
     },
     "execution_count": 10,
     "metadata": {},
     "output_type": "execute_result"
    }
   ],
   "source": [
    "X_test.shape"
   ]
  },
  {
   "cell_type": "code",
   "execution_count": 11,
   "metadata": {
    "colab": {
     "base_uri": "https://localhost:8080/"
    },
    "id": "2InP--lbDkG7",
    "outputId": "421feb2f-48e5-4d2d-867f-ce0f1af0b0b4"
   },
   "outputs": [
    {
     "data": {
      "text/plain": [
       "(180,)"
      ]
     },
     "execution_count": 11,
     "metadata": {},
     "output_type": "execute_result"
    }
   ],
   "source": [
    "y_test.shape"
   ]
  },
  {
   "cell_type": "code",
   "execution_count": 12,
   "metadata": {},
   "outputs": [
    {
     "data": {
      "text/plain": [
       "1    503\n",
       "0    217\n",
       "Name: class, dtype: int64"
      ]
     },
     "execution_count": 12,
     "metadata": {},
     "output_type": "execute_result"
    }
   ],
   "source": [
    "y_train.value_counts()"
   ]
  },
  {
   "cell_type": "code",
   "execution_count": 13,
   "metadata": {},
   "outputs": [],
   "source": [
    "from sklearn.decomposition import PCA\n",
    "\n",
    "pca = PCA(n_components = 20)\n",
    "X_train_pca = pd.DataFrame(pca.fit_transform(X_train), index=X_train.index)"
   ]
  },
  {
   "cell_type": "code",
   "execution_count": 14,
   "metadata": {},
   "outputs": [
    {
     "name": "stdout",
     "output_type": "stream",
     "text": [
      "           0         1         2         3         4         5         6   \\\n",
      "id                                                                          \n",
      "626 -0.661888 -1.406258 -0.303342 -0.400987  1.221422 -0.289209  0.421285   \n",
      "551 -1.460380  0.033475  0.273316 -1.138120 -0.097835 -0.874790 -0.939408   \n",
      "953  3.235173 -0.469225 -0.028679 -0.326383  2.445767  2.478378 -1.854601   \n",
      "874  0.552764 -2.349977  0.036513  0.935651  0.599238 -0.404983  0.504368   \n",
      "247  0.448573 -0.812952 -0.880333 -0.893923 -1.814526  1.318563 -0.136226   \n",
      "..        ...       ...       ...       ...       ...       ...       ...   \n",
      "937  2.425140 -1.167623 -0.614989  0.725586  0.314049 -0.325080  0.651575   \n",
      "747 -0.263631  1.106602 -1.619699  0.305875 -0.303645 -1.512277  0.085460   \n",
      "62   1.347672 -0.998447 -1.421861 -0.137390 -0.840518  0.998295 -0.376949   \n",
      "196 -0.559514 -1.352219  1.902452 -1.560895  0.117228  2.156656 -0.611734   \n",
      "526 -1.257103  1.767371  0.230748 -0.413076  1.525920 -0.952216  0.876345   \n",
      "\n",
      "           7         8         9         10        11        12        13  \\\n",
      "id                                                                          \n",
      "626 -0.112615  0.233810 -0.380187  0.526474  0.715731  0.497657 -0.606931   \n",
      "551  0.302666 -0.239893  0.455809  0.987590 -0.409231  0.785578  0.033635   \n",
      "953  1.944515 -0.846838 -0.675750 -0.039050  0.310910  0.148521  0.920207   \n",
      "874 -0.535679 -0.032694  0.014454  0.486253  0.809686 -0.099537  0.379114   \n",
      "247 -0.000976  0.493554  0.532423  0.228028 -0.537832 -0.193178 -0.016489   \n",
      "..        ...       ...       ...       ...       ...       ...       ...   \n",
      "937  0.304361 -0.163537 -0.212547 -1.115769 -0.267223 -0.088799 -0.658860   \n",
      "747 -0.092353  0.035472 -0.568334  0.006667 -0.601827 -0.155411  0.018482   \n",
      "62  -0.769946 -1.489290  0.914869 -0.113093 -0.387421 -0.273056 -0.328754   \n",
      "196 -0.265310  0.044346  0.641390 -0.219622 -0.163013 -0.703273  0.271733   \n",
      "526  0.017730  0.020421 -0.947161 -1.021406 -0.407689  0.502660 -0.397550   \n",
      "\n",
      "           14        15        16        17        18        19  \n",
      "id                                                               \n",
      "626 -0.263849  0.695494  0.774718  0.335963  0.225967  0.046208  \n",
      "551  0.540509  0.234289  1.362559 -0.052541 -0.028169  0.197668  \n",
      "953  0.000163  0.003777  0.446003  0.549673 -0.918730  0.929343  \n",
      "874  0.714521 -0.566651  0.070773  0.804232 -0.310999  0.462719  \n",
      "247 -0.019452  0.356233 -0.584800 -0.197641  0.005062  0.200089  \n",
      "..        ...       ...       ...       ...       ...       ...  \n",
      "937 -0.367872  0.738031  0.460232  0.168974 -0.345973  0.077217  \n",
      "747  0.064820 -0.655614  0.247009  0.181941  0.110584  0.225479  \n",
      "62   0.504730  0.361454 -0.720998  0.263082 -0.029718 -0.563409  \n",
      "196 -0.881313 -0.316117 -0.025945  0.257485  0.257094 -1.224109  \n",
      "526  0.114932 -0.042219  0.365113 -0.421646 -0.036065 -0.197348  \n",
      "\n",
      "[720 rows x 20 columns]\n"
     ]
    }
   ],
   "source": [
    "print(X_train_pca)"
   ]
  },
  {
   "cell_type": "code",
   "execution_count": 15,
   "metadata": {},
   "outputs": [
    {
     "data": {
      "text/plain": [
       "(720, 20)"
      ]
     },
     "execution_count": 15,
     "metadata": {},
     "output_type": "execute_result"
    }
   ],
   "source": [
    "X_train_pca.shape"
   ]
  },
  {
   "cell_type": "code",
   "execution_count": null,
   "metadata": {},
   "outputs": [],
   "source": []
  },
  {
   "cell_type": "markdown",
   "metadata": {
    "id": "JykGfAWxDkG8"
   },
   "source": [
    "# 3- Teste des diiférents algorithmes de façon native et visualisation des cas d'overfitting"
   ]
  },
  {
   "cell_type": "markdown",
   "metadata": {},
   "source": [
    "Regression Logistique"
   ]
  },
  {
   "cell_type": "code",
   "execution_count": 17,
   "metadata": {
    "colab": {
     "base_uri": "https://localhost:8080/",
     "height": 893
    },
    "id": "9SxV3T57DkG8",
    "outputId": "ed21605b-51f5-4b00-cf6f-0c45db83dcc4"
   },
   "outputs": [
    {
     "name": "stdout",
     "output_type": "stream",
     "text": [
      "Train Score Regression Logistique: 0.7625\n",
      "Test Score Regression Logistique: 0.7166666666666667\n"
     ]
    },
    {
     "data": {
      "text/plain": [
       "[<matplotlib.lines.Line2D at 0x2827c273f70>]"
      ]
     },
     "execution_count": 17,
     "metadata": {},
     "output_type": "execute_result"
    },
    {
     "data": {
      "image/png": "[encoded data removed]",
      "text/plain": [
       "<Figure size 864x576 with 1 Axes>"
      ]
     },
     "metadata": {
      "needs_background": "light"
     },
     "output_type": "display_data"
    }
   ],
   "source": [
    "log = LogisticRegression()\n",
    "log.fit(X_train, y_train)\n",
    "print('Train Score Regression Logistique:', log.score(X_train, y_train))\n",
    "print('Test Score Regression Logistique:', log.score(X_test, y_test))\n",
    "\n",
    "N, train_score, val_score = learning_curve(log, X_train, y_train, scoring = 'accuracy',cv = 5,\n",
    "                                           train_sizes = np.linspace(0.1, 1, 10))\n",
    "plt.figure(figsize=(12,8))\n",
    "plt.plot(N, train_score.mean(axis = 1), label = 'train score')\n",
    "plt.plot(N, val_score.mean(axis = 1), label = 'validation score')"
   ]
  },
  {
   "cell_type": "markdown",
   "metadata": {},
   "source": [
    "KNN"
   ]
  },
  {
   "cell_type": "code",
   "execution_count": 18,
   "metadata": {},
   "outputs": [
    {
     "name": "stdout",
     "output_type": "stream",
     "text": [
      "Train Score KNN: 0.8041666666666667\n",
      "Test ScoreKNN: 0.7055555555555556\n"
     ]
    },
    {
     "data": {
      "text/plain": [
       "[<matplotlib.lines.Line2D at 0x2827c2d9460>]"
      ]
     },
     "execution_count": 18,
     "metadata": {},
     "output_type": "execute_result"
    },
    {
     "data": {
      "image/png": "[encoded data removed]",
      "text/plain": [
       "<Figure size 864x576 with 1 Axes>"
      ]
     },
     "metadata": {
      "needs_background": "light"
     },
     "output_type": "display_data"
    }
   ],
   "source": [
    "kn = KNeighborsClassifier()\n",
    "kn.fit(X_train, y_train)\n",
    "print('Train Score KNN:', kn.score(X_train, y_train))\n",
    "print('Test ScoreKNN:', kn.score(X_test, y_test))\n",
    "\n",
    "\n",
    "N, train_score, val_score = learning_curve(kn, X_train, y_train, scoring = 'accuracy',cv = 5,\n",
    "                                           train_sizes = np.linspace(0.1, 1, 10))\n",
    "plt.figure(figsize=(12,8))\n",
    "plt.plot(N, train_score.mean(axis = 1), label = 'train score')\n",
    "plt.plot(N, val_score.mean(axis = 1), label = 'validation score')"
   ]
  },
  {
   "cell_type": "markdown",
   "metadata": {},
   "source": [
    "Naive Bayes"
   ]
  },
  {
   "cell_type": "code",
   "execution_count": 19,
   "metadata": {
    "scrolled": true
   },
   "outputs": [
    {
     "name": "stdout",
     "output_type": "stream",
     "text": [
      "Train Score Naive Bayes: 0.7416666666666667\n",
      "Test Score Naive Bayes: 0.6888888888888889\n"
     ]
    },
    {
     "data": {
      "text/plain": [
       "[<matplotlib.lines.Line2D at 0x2827c643580>]"
      ]
     },
     "execution_count": 19,
     "metadata": {},
     "output_type": "execute_result"
    },
    {
     "data": {
      "image/png": "[encoded data removed]",
      "text/plain": [
       "<Figure size 864x576 with 1 Axes>"
      ]
     },
     "metadata": {
      "needs_background": "light"
     },
     "output_type": "display_data"
    }
   ],
   "source": [
    "nb = BernoulliNB()\n",
    "nb.fit(X_train, y_train)\n",
    "print('Train Score Naive Bayes:', nb.score(X_train, y_train))\n",
    "print('Test Score Naive Bayes:', nb.score(X_test, y_test))\n",
    "\n",
    "\n",
    "N, train_score, val_score = learning_curve(nb, X_train, y_train, scoring = 'accuracy',cv = 5,\n",
    "                                           train_sizes = np.linspace(0.1, 1, 10))\n",
    "plt.figure(figsize=(12,8))\n",
    "plt.plot(N, train_score.mean(axis = 1), label = 'train score')\n",
    "plt.plot(N, val_score.mean(axis = 1), label = 'validation score')"
   ]
  },
  {
   "cell_type": "markdown",
   "metadata": {},
   "source": [
    "SVC"
   ]
  },
  {
   "cell_type": "code",
   "execution_count": 20,
   "metadata": {},
   "outputs": [
    {
     "name": "stdout",
     "output_type": "stream",
     "text": [
      "Train Score SVC: 0.8236111111111111\n",
      "Test Score SVC: 0.75\n"
     ]
    },
    {
     "data": {
      "text/plain": [
       "[<matplotlib.lines.Line2D at 0x2827c69ee20>]"
      ]
     },
     "execution_count": 20,
     "metadata": {},
     "output_type": "execute_result"
    },
    {
     "data": {
      "image/png": "[encoded data removed]",
      "text/plain": [
       "<Figure size 864x576 with 1 Axes>"
      ]
     },
     "metadata": {
      "needs_background": "light"
     },
     "output_type": "display_data"
    }
   ],
   "source": [
    "svc = SVC()\n",
    "svc.fit(X_train, y_train)\n",
    "print('Train Score SVC:', svc.score(X_train, y_train))\n",
    "print('Test Score SVC:', svc.score(X_test, y_test))\n",
    "\n",
    "\n",
    "N, train_score, val_score = learning_curve(svc, X_train, y_train, scoring = 'accuracy',cv = 5,\n",
    "                                           train_sizes = np.linspace(0.1, 1, 10))\n",
    "plt.figure(figsize=(12,8))\n",
    "plt.plot(N, train_score.mean(axis = 1), label = 'train score')\n",
    "plt.plot(N, val_score.mean(axis = 1), label = 'validation score')"
   ]
  },
  {
   "cell_type": "markdown",
   "metadata": {},
   "source": [
    "Random Forest"
   ]
  },
  {
   "cell_type": "code",
   "execution_count": 21,
   "metadata": {},
   "outputs": [
    {
     "name": "stdout",
     "output_type": "stream",
     "text": [
      "Train Score random forest: 1.0\n",
      "Test Score random forest: 0.7611111111111111\n"
     ]
    },
    {
     "data": {
      "text/plain": [
       "[<matplotlib.lines.Line2D at 0x2827c72b460>]"
      ]
     },
     "execution_count": 21,
     "metadata": {},
     "output_type": "execute_result"
    },
    {
     "data": {
      "image/png": "[encoded data removed]",
      "text/plain": [
       "<Figure size 864x576 with 1 Axes>"
      ]
     },
     "metadata": {
      "needs_background": "light"
     },
     "output_type": "display_data"
    }
   ],
   "source": [
    "rf = RandomForestClassifier()\n",
    "rf.fit(X_train, y_train)\n",
    "print('Train Score random forest:', rf.score(X_train, y_train))\n",
    "print('Test Score random forest:', rf.score(X_test, y_test))\n",
    "\n",
    "\n",
    "N, train_score, val_score = learning_curve(rf, X_train, y_train, scoring = 'accuracy',cv = 5,\n",
    "                                           train_sizes = np.linspace(0.1, 1, 10))\n",
    "plt.figure(figsize=(12,8))\n",
    "plt.plot(N, train_score.mean(axis = 1), label = 'train score')\n",
    "plt.plot(N, val_score.mean(axis = 1), label = 'validation score')"
   ]
  },
  {
   "cell_type": "markdown",
   "metadata": {
    "id": "8n1Xghz5DkHB"
   },
   "source": [
    "# 4- Application du GridSearch pour trouver les hyperparamètres optimaux pour les modèles "
   ]
  },
  {
   "cell_type": "code",
   "execution_count": 22,
   "metadata": {
    "id": "7oPcM_YkDkHB"
   },
   "outputs": [],
   "source": [
    "from sklearn.model_selection import GridSearchCV\n",
    "from sklearn.metrics import confusion_matrix, accuracy_score, auc, f1_score, recall_score,roc_auc_score, roc_curve\n"
   ]
  },
  {
   "cell_type": "code",
   "execution_count": 23,
   "metadata": {
    "colab": {
     "base_uri": "https://localhost:8080/"
    },
    "id": "5TOQCi3wWa01",
    "outputId": "52ee0844-a45d-4f64-c078-44c7b8b0fcee"
   },
   "outputs": [
    {
     "data": {
      "text/plain": [
       "GridSearchCV(cv=5, estimator=LogisticRegression(),\n",
       "             param_grid={'C': [0.01, 0.02, 0.03, 1, 1.01, 1.02, 2.01, 2.02,\n",
       "                               2.03, 2.04, 3.01],\n",
       "                         'penalty': ['l1', 'l2', 'elasticnet', 'none'],\n",
       "                         'solver': ['newton-cg', 'lbfgs', 'liblinear', 'sag',\n",
       "                                    'saga']})"
      ]
     },
     "execution_count": 23,
     "metadata": {},
     "output_type": "execute_result"
    }
   ],
   "source": [
    "# Pour la RL\n",
    "\n",
    "paramRL = {\n",
    "    'penalty': ['l1','l2','elasticnet','none'],\n",
    "    'C' : [0.01, 0.02, 0.03, 1, 1.01, 1.02, 2.01, 2.02,2.03,2.04, 3.01],\n",
    "    'solver': ['newton-cg','lbfgs','liblinear','sag','saga']\n",
    "}\n",
    "\n",
    "gridRL = GridSearchCV(LogisticRegression(), paramRL, cv = 5)\n",
    "gridRL.fit(X_train, y_train)"
   ]
  },
  {
   "cell_type": "code",
   "execution_count": 24,
   "metadata": {
    "colab": {
     "base_uri": "https://localhost:8080/"
    },
    "id": "gWxxELjyXe2M",
    "outputId": "0a0f3c23-abdf-4115-de22-bedcd38b89dc"
   },
   "outputs": [
    {
     "data": {
      "text/plain": [
       "0.7375"
      ]
     },
     "execution_count": 24,
     "metadata": {},
     "output_type": "execute_result"
    }
   ],
   "source": [
    "gridRL.best_score_"
   ]
  },
  {
   "cell_type": "code",
   "execution_count": 25,
   "metadata": {
    "colab": {
     "base_uri": "https://localhost:8080/"
    },
    "id": "O9rXTzkhXkOW",
    "outputId": "7aaff40e-62b4-4021-a881-002308a7daec"
   },
   "outputs": [
    {
     "data": {
      "text/plain": [
       "{'C': 1, 'penalty': 'l1', 'solver': 'saga'}"
      ]
     },
     "execution_count": 25,
     "metadata": {},
     "output_type": "execute_result"
    }
   ],
   "source": [
    "gridRL.best_params_"
   ]
  },
  {
   "cell_type": "code",
   "execution_count": 26,
   "metadata": {
    "colab": {
     "base_uri": "https://localhost:8080/"
    },
    "id": "vMABV_0wX7UU",
    "outputId": "b2972c77-b98e-4065-eab4-9177fc31963a"
   },
   "outputs": [
    {
     "name": "stdout",
     "output_type": "stream",
     "text": [
      "Le temps dexecution est de :0.0020065999997314066\n",
      "train: 0.7583333333333333\n",
      "test: 0.7166666666666667\n"
     ]
    }
   ],
   "source": [
    "start = timeit.default_timer()\n",
    "\n",
    "modelRL = gridRL.best_estimator_\n",
    "modelRL.score(X_test, y_test)\n",
    "\n",
    "stop = timeit.default_timer()\n",
    "execution_time = stop - start\n",
    "print(\"Le temps dexecution est de :\" +str(execution_time))\n",
    "print(\"train:\",modelRL.score(X_train, y_train))\n",
    "print(\"test:\",modelRL.score(X_test, y_test))"
   ]
  },
  {
   "cell_type": "code",
   "execution_count": 27,
   "metadata": {
    "colab": {
     "base_uri": "https://localhost:8080/"
    },
    "id": "PvQtK65hYP5F",
    "outputId": "dc8f3545-3698-45bf-b277-bc7288d081a3"
   },
   "outputs": [
    {
     "name": "stdout",
     "output_type": "stream",
     "text": [
      "0.7166666666666667\n",
      "[[ 18  38]\n",
      " [ 13 111]]\n",
      "              precision    recall  f1-score   support\n",
      "\n",
      "           0       0.58      0.32      0.41        56\n",
      "           1       0.74      0.90      0.81       124\n",
      "\n",
      "    accuracy                           0.72       180\n",
      "   macro avg       0.66      0.61      0.61       180\n",
      "weighted avg       0.69      0.72      0.69       180\n",
      "\n"
     ]
    },
    {
     "data": {
      "text/plain": [
       "[<matplotlib.lines.Line2D at 0x2827c867ca0>]"
      ]
     },
     "execution_count": 27,
     "metadata": {},
     "output_type": "execute_result"
    },
    {
     "data": {
      "image/png": "[encoded data removed]",
      "text/plain": [
       "<Figure size 864x576 with 1 Axes>"
      ]
     },
     "metadata": {
      "needs_background": "light"
     },
     "output_type": "display_data"
    }
   ],
   "source": [
    "RL = LogisticRegression()\n",
    "RL.fit(X_train, y_train)\n",
    "y_pred_RL = RL.predict(X_test)\n",
    "print(accuracy_score(y_pred_RL, y_test))\n",
    "print(confusion_matrix(y_test, y_pred_RL))\n",
    "print(classification_report(y_test, y_pred_RL))\n",
    "\n",
    "N, train_score, val_score = learning_curve(RL, X_train, y_train, scoring = 'accuracy',cv = 5,\n",
    "                                           train_sizes = np.linspace(0.1, 1, 10))\n",
    "plt.figure(figsize=(12,8))\n",
    "plt.plot(N, train_score.mean(axis = 1), label = 'train score')\n",
    "plt.plot(N, val_score.mean(axis = 1), label = 'validation score')"
   ]
  },
  {
   "cell_type": "markdown",
   "metadata": {
    "id": "LVULAEEEDkHB"
   },
   "source": [
    "# a- Pour le KNN"
   ]
  },
  {
   "cell_type": "code",
   "execution_count": 28,
   "metadata": {
    "colab": {
     "base_uri": "https://localhost:8080/"
    },
    "id": "zrYz15wRDkHC",
    "outputId": "481b0814-6f3c-46e3-e989-07e2d6032bd0"
   },
   "outputs": [
    {
     "data": {
      "text/plain": [
       "GridSearchCV(cv=5, estimator=KNeighborsClassifier(),\n",
       "             param_grid={'algorithm': ['ball_tree', 'kd_tree', 'brute', 'auto'],\n",
       "                         'metric': ['euclidean', 'manhattan', 'minkowski'],\n",
       "                         'n_neighbors': array([ 2,  3,  4,  5,  6,  7,  8,  9, 10, 11, 12, 13, 14, 15, 16, 17, 18,\n",
       "       19, 20, 21, 22, 23, 24, 25, 26, 27, 28, 29, 30, 31, 32, 33]),\n",
       "                         'weights': ['uniform', 'distance']})"
      ]
     },
     "execution_count": 28,
     "metadata": {},
     "output_type": "execute_result"
    }
   ],
   "source": [
    "paramKNN = {'n_neighbors': np.arange(2, 34),\n",
    "            'weights': ['uniform','distance'],\n",
    "            'algorithm': ['ball_tree', 'kd_tree', 'brute', 'auto'],\n",
    "            'metric': ['euclidean','manhattan', 'minkowski']}\n",
    "gridKNN = GridSearchCV(KNeighborsClassifier(), paramKNN, cv=5)\n",
    "gridKNN.fit(X_train, y_train)"
   ]
  },
  {
   "cell_type": "code",
   "execution_count": 29,
   "metadata": {
    "colab": {
     "base_uri": "https://localhost:8080/"
    },
    "id": "iC3di1aGDkHC",
    "outputId": "7a6dfec7-6d9c-4122-d67f-cce6520b8a7a"
   },
   "outputs": [
    {
     "data": {
      "text/plain": [
       "0.7333333333333334"
      ]
     },
     "execution_count": 29,
     "metadata": {},
     "output_type": "execute_result"
    }
   ],
   "source": [
    "gridKNN.best_score_"
   ]
  },
  {
   "cell_type": "code",
   "execution_count": 30,
   "metadata": {
    "colab": {
     "base_uri": "https://localhost:8080/"
    },
    "id": "Xq0zDJxdDkHC",
    "outputId": "98b927c8-a60d-4613-cfc6-5fccd5d14a49"
   },
   "outputs": [
    {
     "data": {
      "text/plain": [
       "{'algorithm': 'ball_tree',\n",
       " 'metric': 'euclidean',\n",
       " 'n_neighbors': 16,\n",
       " 'weights': 'uniform'}"
      ]
     },
     "execution_count": 30,
     "metadata": {},
     "output_type": "execute_result"
    }
   ],
   "source": [
    "gridKNN.best_params_"
   ]
  },
  {
   "cell_type": "code",
   "execution_count": 31,
   "metadata": {
    "colab": {
     "base_uri": "https://localhost:8080/"
    },
    "id": "d9bZ_A7RDkHD",
    "outputId": "a0c8b269-97d0-4746-c75b-b19cd9c45aef"
   },
   "outputs": [
    {
     "name": "stdout",
     "output_type": "stream",
     "text": [
      "Le temps dexecution est de :0.025817100002313964\n",
      "train: 0.7791666666666667\n",
      "test: 0.7\n"
     ]
    }
   ],
   "source": [
    "start = timeit.default_timer()\n",
    "\n",
    "modelKNN = gridKNN.best_estimator_\n",
    "modelKNN.score(X_test, y_test)\n",
    "\n",
    "stop = timeit.default_timer()\n",
    "execution_time = stop - start\n",
    "print(\"Le temps dexecution est de :\" +str(execution_time))\n",
    "print(\"train:\",modelKNN.score(X_train, y_train))\n",
    "print(\"test:\", modelKNN.score(X_test, y_test))\n"
   ]
  },
  {
   "cell_type": "code",
   "execution_count": 32,
   "metadata": {
    "colab": {
     "base_uri": "https://localhost:8080/"
    },
    "id": "ef_Q653Pvfci",
    "outputId": "c40ea9e4-7f53-4ea6-997f-212e91d8d36d"
   },
   "outputs": [
    {
     "name": "stdout",
     "output_type": "stream",
     "text": [
      "0.7\n",
      "[[ 17  39]\n",
      " [ 15 109]]\n",
      "              precision    recall  f1-score   support\n",
      "\n",
      "           0       0.53      0.30      0.39        56\n",
      "           1       0.74      0.88      0.80       124\n",
      "\n",
      "    accuracy                           0.70       180\n",
      "   macro avg       0.63      0.59      0.59       180\n",
      "weighted avg       0.67      0.70      0.67       180\n",
      "\n"
     ]
    }
   ],
   "source": [
    "KNN = KNeighborsClassifier(algorithm= 'ball_tree',\n",
    " metric = 'euclidean',\n",
    " n_neighbors=  16,\n",
    " weights= 'uniform')\n",
    "\n",
    "KNN.fit(X_train, y_train)\n",
    "y_pred_KNN = KNN.predict(X_test)\n",
    "print(accuracy_score(y_pred_KNN, y_test))\n",
    "print(confusion_matrix(y_test, y_pred_KNN))\n",
    "print(classification_report(y_test, y_pred_KNN))"
   ]
  },
  {
   "cell_type": "code",
   "execution_count": 33,
   "metadata": {},
   "outputs": [],
   "source": [
    "#pd.DataFrame(KNN.feature_importances_, index = X_train.columns)"
   ]
  },
  {
   "cell_type": "code",
   "execution_count": 34,
   "metadata": {},
   "outputs": [
    {
     "data": {
      "text/plain": [
       "[<matplotlib.lines.Line2D at 0x2827c95fe20>]"
      ]
     },
     "execution_count": 34,
     "metadata": {},
     "output_type": "execute_result"
    },
    {
     "data": {
      "image/png": "[encoded data removed]",
      "text/plain": [
       "<Figure size 864x576 with 1 Axes>"
      ]
     },
     "metadata": {
      "needs_background": "light"
     },
     "output_type": "display_data"
    }
   ],
   "source": [
    "N, train_score, val_score = learning_curve(KNN, X_train, y_train, scoring = 'accuracy',cv = 5,\n",
    "                                           train_sizes = np.linspace(0.1, 1, 10))\n",
    "plt.figure(figsize=(12,8))\n",
    "plt.plot(N, train_score.mean(axis = 1), label = 'train score')\n",
    "plt.plot(N, val_score.mean(axis = 1), label = 'validation score')"
   ]
  },
  {
   "cell_type": "markdown",
   "metadata": {
    "id": "vSyZt1tzDkHG"
   },
   "source": [
    "# b- Pour Naive-Bayes"
   ]
  },
  {
   "cell_type": "code",
   "execution_count": 35,
   "metadata": {
    "colab": {
     "base_uri": "https://localhost:8080/"
    },
    "id": "T-pzckPTDkHG",
    "outputId": "a930ef17-b4ab-4bd6-a5e3-fb671af77611"
   },
   "outputs": [
    {
     "data": {
      "text/plain": [
       "GridSearchCV(cv=5, estimator=BernoulliNB(),\n",
       "             param_grid={'alpha': array([1.0000e-03, 1.0010e+00, 2.0010e+00, 3.0010e+00, 4.0010e+00,\n",
       "       5.0010e+00, 6.0010e+00, 7.0010e+00, 8.0010e+00, 9.0010e+00,\n",
       "       1.0001e+01, 1.1001e+01, 1.2001e+01])})"
      ]
     },
     "execution_count": 35,
     "metadata": {},
     "output_type": "execute_result"
    }
   ],
   "source": [
    "paramNB = {'alpha' : np.arange(1e-3, 13),\n",
    "           \n",
    "           }\n",
    "gridNB = GridSearchCV(BernoulliNB(), paramNB, cv=5)\n",
    "gridNB.fit(X_train, y_train)"
   ]
  },
  {
   "cell_type": "code",
   "execution_count": 36,
   "metadata": {
    "colab": {
     "base_uri": "https://localhost:8080/"
    },
    "id": "-FD1f_GQDkHG",
    "outputId": "b7c3ca9e-bf25-44f9-e2de-7689dff6b87e"
   },
   "outputs": [
    {
     "data": {
      "text/plain": [
       "0.7416666666666668"
      ]
     },
     "execution_count": 36,
     "metadata": {},
     "output_type": "execute_result"
    }
   ],
   "source": [
    "gridNB.best_score_"
   ]
  },
  {
   "cell_type": "code",
   "execution_count": 37,
   "metadata": {
    "colab": {
     "base_uri": "https://localhost:8080/"
    },
    "id": "e9kyny62DkHH",
    "outputId": "5f79e569-8588-4080-8528-2e0dcc897097"
   },
   "outputs": [
    {
     "data": {
      "text/plain": [
       "{'alpha': 10.000999999999998}"
      ]
     },
     "execution_count": 37,
     "metadata": {},
     "output_type": "execute_result"
    }
   ],
   "source": [
    "gridNB.best_params_"
   ]
  },
  {
   "cell_type": "code",
   "execution_count": 38,
   "metadata": {
    "colab": {
     "base_uri": "https://localhost:8080/"
    },
    "id": "R1T1hNvzDkHH",
    "outputId": "8b695126-392f-41bf-f91b-385c099de29b"
   },
   "outputs": [
    {
     "name": "stdout",
     "output_type": "stream",
     "text": [
      "Le temps dexecution est de :0.011732799997844268\n",
      "train: 0.75\n",
      "test: 0.6944444444444444\n"
     ]
    }
   ],
   "source": [
    "start = timeit.default_timer()\n",
    "\n",
    "modelNB = gridNB.best_estimator_\n",
    "modelNB.score(X_test, y_test)\n",
    "\n",
    "stop = timeit.default_timer()\n",
    "execution_time = stop - start\n",
    "print(\"Le temps dexecution est de :\" +str(execution_time))\n",
    "print(\"train:\",modelNB.score(X_train, y_train))\n",
    "print(\"test:\",modelNB.score(X_test, y_test))\n"
   ]
  },
  {
   "cell_type": "code",
   "execution_count": 39,
   "metadata": {
    "colab": {
     "base_uri": "https://localhost:8080/"
    },
    "id": "nXQq87rmQLFi",
    "outputId": "95bc0cc4-8932-4a53-c4f3-37745a33ea2d"
   },
   "outputs": [
    {
     "name": "stdout",
     "output_type": "stream",
     "text": [
      "0.6888888888888889\n",
      "[[ 24  32]\n",
      " [ 24 100]]\n",
      "              precision    recall  f1-score   support\n",
      "\n",
      "           0       0.50      0.43      0.46        56\n",
      "           1       0.76      0.81      0.78       124\n",
      "\n",
      "    accuracy                           0.69       180\n",
      "   macro avg       0.63      0.62      0.62       180\n",
      "weighted avg       0.68      0.69      0.68       180\n",
      "\n"
     ]
    },
    {
     "data": {
      "text/plain": [
       "[<matplotlib.lines.Line2D at 0x2827c983f70>]"
      ]
     },
     "execution_count": 39,
     "metadata": {},
     "output_type": "execute_result"
    },
    {
     "data": {
      "image/png": "[encoded data removed]",
      "text/plain": [
       "<Figure size 864x576 with 1 Axes>"
      ]
     },
     "metadata": {
      "needs_background": "light"
     },
     "output_type": "display_data"
    }
   ],
   "source": [
    "NB = BernoulliNB()\n",
    "\n",
    "NB.fit(X_train, y_train)\n",
    "y_pred_NB = NB.predict(X_test)\n",
    "print(accuracy_score(y_pred_NB, y_test))\n",
    "print(confusion_matrix(y_test, y_pred_NB))\n",
    "print(classification_report(y_test, y_pred_NB))\n",
    "\n",
    "N, train_score, val_score = learning_curve(NB, X_train, y_train, scoring = 'accuracy',cv = 5,\n",
    "                                           train_sizes = np.linspace(0.1, 1, 10))\n",
    "plt.figure(figsize=(12,8))\n",
    "plt.plot(N, train_score.mean(axis = 1), label = 'train score')\n",
    "plt.plot(N, val_score.mean(axis = 1), label = 'validation score')"
   ]
  },
  {
   "cell_type": "markdown",
   "metadata": {
    "id": "xLhsjYv-DkHI"
   },
   "source": [
    "## c- Pour SVC"
   ]
  },
  {
   "cell_type": "code",
   "execution_count": 40,
   "metadata": {
    "colab": {
     "base_uri": "https://localhost:8080/"
    },
    "id": "TR_c-AS4DkHI",
    "outputId": "436c71c3-a70a-422f-f589-10067395d94f"
   },
   "outputs": [
    {
     "data": {
      "text/plain": [
       "GridSearchCV(cv=5, estimator=SVC(),\n",
       "             param_grid={'C': array([10, 11, 12, 13, 14, 15, 16, 17, 18, 19, 20, 21, 22]),\n",
       "                         'decision_function_shape': ['ovo', 'ovr'],\n",
       "                         'gamma': ['scale', 'auto'],\n",
       "                         'kernel': ['linear', 'poly', 'rbf', 'sigmoid']})"
      ]
     },
     "execution_count": 40,
     "metadata": {},
     "output_type": "execute_result"
    }
   ],
   "source": [
    "from sklearn.svm import SVC\n",
    "paramSVC = {'C' : np.arange(10, 23),\n",
    "           'kernel' : ['linear', 'poly','rbf', 'sigmoid'],\n",
    "            'gamma' : ['scale', 'auto'],\n",
    "            'decision_function_shape': ['ovo', 'ovr']\n",
    "           }\n",
    "gridSVC = GridSearchCV(SVC(), paramSVC, cv=5)\n",
    "gridSVC.fit(X_train, y_train)\n"
   ]
  },
  {
   "cell_type": "code",
   "execution_count": 41,
   "metadata": {
    "colab": {
     "base_uri": "https://localhost:8080/"
    },
    "id": "8Xc0WYJMDkHI",
    "outputId": "21fa4389-ac13-4821-b2f3-a96b5a37c28d"
   },
   "outputs": [
    {
     "data": {
      "text/plain": [
       "0.75"
      ]
     },
     "execution_count": 41,
     "metadata": {},
     "output_type": "execute_result"
    }
   ],
   "source": [
    "gridSVC.best_score_"
   ]
  },
  {
   "cell_type": "code",
   "execution_count": 42,
   "metadata": {
    "colab": {
     "base_uri": "https://localhost:8080/"
    },
    "id": "1FnajJXZDkHJ",
    "outputId": "133cd44b-5b42-4a0b-9ad0-8da562d7105f"
   },
   "outputs": [
    {
     "data": {
      "text/plain": [
       "{'C': 10, 'decision_function_shape': 'ovo', 'gamma': 'auto', 'kernel': 'rbf'}"
      ]
     },
     "execution_count": 42,
     "metadata": {},
     "output_type": "execute_result"
    }
   ],
   "source": [
    "gridSVC.best_params_"
   ]
  },
  {
   "cell_type": "code",
   "execution_count": 43,
   "metadata": {
    "colab": {
     "base_uri": "https://localhost:8080/"
    },
    "id": "qawD30dcDkHJ",
    "outputId": "6559ad6a-689d-4738-fb82-9465cab5cc89"
   },
   "outputs": [
    {
     "name": "stdout",
     "output_type": "stream",
     "text": [
      "Le temps dexecution est de :0.018889699997089338\n",
      "train: 0.8777777777777778\n",
      "test: 0.7388888888888889\n"
     ]
    }
   ],
   "source": [
    "start = timeit.default_timer()\n",
    "\n",
    "modelSVC = gridSVC.best_estimator_\n",
    "modelSVC.score(X_test, y_test)\n",
    "\n",
    "stop = timeit.default_timer()\n",
    "execution_time = stop - start\n",
    "print(\"Le temps dexecution est de :\" +str(execution_time))\n",
    "print(\"train:\",modelSVC.score(X_train, y_train))\n",
    "print(\"test:\", modelSVC.score(X_test, y_test))\n"
   ]
  },
  {
   "cell_type": "code",
   "execution_count": 44,
   "metadata": {
    "colab": {
     "base_uri": "https://localhost:8080/"
    },
    "id": "bLFyix8SPu_B",
    "outputId": "76730f15-f3a9-4fb8-da6f-b386144b403b"
   },
   "outputs": [
    {
     "name": "stdout",
     "output_type": "stream",
     "text": [
      "0.7444444444444445\n",
      "[[ 26  30]\n",
      " [ 16 108]]\n",
      "              precision    recall  f1-score   support\n",
      "\n",
      "           0       0.62      0.46      0.53        56\n",
      "           1       0.78      0.87      0.82       124\n",
      "\n",
      "    accuracy                           0.74       180\n",
      "   macro avg       0.70      0.67      0.68       180\n",
      "weighted avg       0.73      0.74      0.73       180\n",
      "\n"
     ]
    },
    {
     "data": {
      "text/plain": [
       "[<matplotlib.lines.Line2D at 0x2827f28d130>]"
      ]
     },
     "execution_count": 44,
     "metadata": {},
     "output_type": "execute_result"
    },
    {
     "data": {
      "image/png": "[encoded data removed]",
      "text/plain": [
       "<Figure size 864x576 with 1 Axes>"
      ]
     },
     "metadata": {
      "needs_background": "light"
     },
     "output_type": "display_data"
    }
   ],
   "source": [
    "SVC = SVC(C= 16, decision_function_shape = \"ovo\", gamma = \"auto\", kernel = \"rbf\")\n",
    "\n",
    "SVC.fit(X_train, y_train)\n",
    "y_pred_SVC = SVC.predict(X_test)\n",
    "print(accuracy_score(y_pred_SVC, y_test))\n",
    "print(confusion_matrix(y_test, y_pred_SVC))\n",
    "print(classification_report(y_test, y_pred_SVC))\n",
    "\n",
    "N, train_score, val_score = learning_curve(SVC, X_train, y_train, scoring = 'accuracy',cv = 5,\n",
    "                                           train_sizes = np.linspace(0.1, 1, 10))\n",
    "plt.figure(figsize=(12,8))\n",
    "plt.plot(N, train_score.mean(axis = 1), label = 'train score')\n",
    "plt.plot(N, val_score.mean(axis = 1), label = 'validation score')"
   ]
  },
  {
   "cell_type": "markdown",
   "metadata": {
    "id": "ALzj7KAfDkHK"
   },
   "source": [
    "## d- Pour la foret aléatoire"
   ]
  },
  {
   "cell_type": "code",
   "execution_count": 45,
   "metadata": {
    "colab": {
     "base_uri": "https://localhost:8080/"
    },
    "id": "KfyL9tGUDkHK",
    "outputId": "8bdd44c5-c223-440c-ce58-f7ffbaf99476"
   },
   "outputs": [
    {
     "data": {
      "text/plain": [
       "GridSearchCV(cv=5, estimator=RandomForestClassifier(),\n",
       "             param_grid={'criterion': ['gini', 'entropy'],\n",
       "                         'max_depth': array([11, 12, 13, 14, 15]),\n",
       "                         'max_features': ['auto', 'sqrt', 'log2'],\n",
       "                         'n_estimators': array([37, 38, 39, 40])})"
      ]
     },
     "execution_count": 45,
     "metadata": {},
     "output_type": "execute_result"
    }
   ],
   "source": [
    "from sklearn.ensemble import RandomForestClassifier\n",
    "\n",
    "paramRF = {'n_estimators' : np.arange(37, 41),\n",
    "           'criterion' : ['gini', 'entropy'],\n",
    "            'max_depth' : np.arange(11, 16),  \n",
    "            'max_features': ['auto', 'sqrt', 'log2']\n",
    "           }\n",
    "gridRF = GridSearchCV(RandomForestClassifier(), paramRF, cv=5)\n",
    "gridRF.fit(X_train, y_train)"
   ]
  },
  {
   "cell_type": "code",
   "execution_count": 46,
   "metadata": {
    "colab": {
     "base_uri": "https://localhost:8080/"
    },
    "id": "hUxKS-E3DkHK",
    "outputId": "e8a906aa-0621-4b56-8a1d-28b4fe2cd24d"
   },
   "outputs": [
    {
     "data": {
      "text/plain": [
       "0.7583333333333333"
      ]
     },
     "execution_count": 46,
     "metadata": {},
     "output_type": "execute_result"
    }
   ],
   "source": [
    "gridRF.best_score_"
   ]
  },
  {
   "cell_type": "code",
   "execution_count": 47,
   "metadata": {
    "colab": {
     "base_uri": "https://localhost:8080/"
    },
    "id": "8Z7wzr2TDkHK",
    "outputId": "fa611c23-25d3-466b-c665-a1e77192c471"
   },
   "outputs": [
    {
     "data": {
      "text/plain": [
       "{'criterion': 'entropy',\n",
       " 'max_depth': 15,\n",
       " 'max_features': 'auto',\n",
       " 'n_estimators': 37}"
      ]
     },
     "execution_count": 47,
     "metadata": {},
     "output_type": "execute_result"
    }
   ],
   "source": [
    "gridRF.best_params_"
   ]
  },
  {
   "cell_type": "code",
   "execution_count": 48,
   "metadata": {
    "colab": {
     "base_uri": "https://localhost:8080/"
    },
    "id": "E7zHV_J0DkHL",
    "outputId": "b5e3c181-ae3a-4662-908d-239be7f5d9d2"
   },
   "outputs": [
    {
     "name": "stdout",
     "output_type": "stream",
     "text": [
      "Le temps dexecution est de :0.007437600004777778\n",
      "0.7555555555555555\n"
     ]
    }
   ],
   "source": [
    "start = timeit.default_timer()\n",
    "\n",
    "modelRF = gridRF.best_estimator_\n",
    "modelRF.score(X_test, y_test)\n",
    "\n",
    "stop = timeit.default_timer()\n",
    "execution_time = stop - start\n",
    "print(\"Le temps dexecution est de :\" +str(execution_time))\n",
    "print(modelRF.score(X_test, y_test))\n"
   ]
  },
  {
   "cell_type": "code",
   "execution_count": 49,
   "metadata": {
    "colab": {
     "base_uri": "https://localhost:8080/"
    },
    "id": "J6leriyHO6dP",
    "outputId": "99c225ff-9870-4a86-c7d7-799cc06eb079"
   },
   "outputs": [
    {
     "name": "stdout",
     "output_type": "stream",
     "text": [
      "0.75\n",
      "[[ 25  31]\n",
      " [ 14 110]]\n",
      "              precision    recall  f1-score   support\n",
      "\n",
      "           0       0.64      0.45      0.53        56\n",
      "           1       0.78      0.89      0.83       124\n",
      "\n",
      "    accuracy                           0.75       180\n",
      "   macro avg       0.71      0.67      0.68       180\n",
      "weighted avg       0.74      0.75      0.74       180\n",
      "\n"
     ]
    }
   ],
   "source": [
    "RF = make_pipeline(PolynomialFeatures(2),SelectKBest(f_classif, k = 15),RandomForestClassifier(criterion = 'gini',\n",
    " max_depth = 12,\n",
    " max_features = 'sqrt',\n",
    " n_estimators = 37))\n",
    "\n",
    "RF.fit(X_train, y_train)\n",
    "y_pred_RF = RF.predict(X_test)\n",
    "print(accuracy_score(y_pred_RF, y_test))\n",
    "print(confusion_matrix(y_test, y_pred_RF))\n",
    "print(classification_report(y_test, y_pred_RF))"
   ]
  },
  {
   "cell_type": "code",
   "execution_count": 50,
   "metadata": {},
   "outputs": [
    {
     "data": {
      "text/plain": [
       "[<matplotlib.lines.Line2D at 0x2827f189ac0>]"
      ]
     },
     "execution_count": 50,
     "metadata": {},
     "output_type": "execute_result"
    },
    {
     "data": {
      "image/png": "[encoded data removed]",
      "text/plain": [
       "<Figure size 864x576 with 1 Axes>"
      ]
     },
     "metadata": {
      "needs_background": "light"
     },
     "output_type": "display_data"
    }
   ],
   "source": [
    "N, train_score, val_score = learning_curve(RF, X_train, y_train, scoring = 'accuracy',cv = 5,\n",
    "                                           train_sizes = np.linspace(0.1, 1, 10))\n",
    "plt.figure(figsize=(12,8))\n",
    "plt.plot(N, train_score.mean(axis = 1), label = 'train score')\n",
    "plt.plot(N, val_score.mean(axis = 1), label = 'validation score')"
   ]
  },
  {
   "cell_type": "markdown",
   "metadata": {
    "id": "Rzdc_gYSDkHL"
   },
   "source": [
    "## e- Pour le Bagging Classifier"
   ]
  },
  {
   "cell_type": "code",
   "execution_count": 79,
   "metadata": {
    "id": "BV840oJwDkHL"
   },
   "outputs": [
    {
     "name": "stderr",
     "output_type": "stream",
     "text": [
      "[Parallel(n_jobs=1)]: Using backend SequentialBackend with 1 concurrent workers.\n",
      "[Parallel(n_jobs=1)]: Done   1 out of   1 | elapsed:    0.0s finished\n",
      "[Parallel(n_jobs=1)]: Using backend SequentialBackend with 1 concurrent workers.\n",
      "[Parallel(n_jobs=1)]: Done   1 out of   1 | elapsed:    0.0s finished\n",
      "[Parallel(n_jobs=1)]: Using backend SequentialBackend with 1 concurrent workers.\n",
      "[Parallel(n_jobs=1)]: Done   1 out of   1 | elapsed:    0.0s finished\n",
      "[Parallel(n_jobs=1)]: Using backend SequentialBackend with 1 concurrent workers.\n",
      "[Parallel(n_jobs=1)]: Done   1 out of   1 | elapsed:    0.0s finished\n",
      "[Parallel(n_jobs=1)]: Using backend SequentialBackend with 1 concurrent workers.\n",
      "[Parallel(n_jobs=1)]: Done   1 out of   1 | elapsed:    0.0s finished\n",
      "[Parallel(n_jobs=1)]: Using backend SequentialBackend with 1 concurrent workers.\n",
      "[Parallel(n_jobs=1)]: Done   1 out of   1 | elapsed:    0.0s finished\n",
      "[Parallel(n_jobs=1)]: Using backend SequentialBackend with 1 concurrent workers.\n",
      "[Parallel(n_jobs=1)]: Done   1 out of   1 | elapsed:    0.0s finished\n",
      "[Parallel(n_jobs=1)]: Using backend SequentialBackend with 1 concurrent workers.\n",
      "[Parallel(n_jobs=1)]: Done   1 out of   1 | elapsed:    0.0s finished\n",
      "[Parallel(n_jobs=1)]: Using backend SequentialBackend with 1 concurrent workers.\n",
      "[Parallel(n_jobs=1)]: Done   1 out of   1 | elapsed:    0.0s finished\n",
      "[Parallel(n_jobs=1)]: Using backend SequentialBackend with 1 concurrent workers.\n",
      "[Parallel(n_jobs=1)]: Done   1 out of   1 | elapsed:    0.0s finished\n",
      "[Parallel(n_jobs=1)]: Using backend SequentialBackend with 1 concurrent workers.\n",
      "[Parallel(n_jobs=1)]: Done   1 out of   1 | elapsed:    0.0s remaining:    0.0s\n",
      "[Parallel(n_jobs=1)]: Done   1 out of   1 | elapsed:    0.0s finished\n",
      "[Parallel(n_jobs=1)]: Using backend SequentialBackend with 1 concurrent workers.\n",
      "[Parallel(n_jobs=1)]: Done   1 out of   1 | elapsed:    0.0s remaining:    0.0s\n",
      "[Parallel(n_jobs=1)]: Done   1 out of   1 | elapsed:    0.0s finished\n",
      "[Parallel(n_jobs=1)]: Using backend SequentialBackend with 1 concurrent workers.\n",
      "[Parallel(n_jobs=1)]: Done   1 out of   1 | elapsed:    0.0s remaining:    0.0s\n",
      "[Parallel(n_jobs=1)]: Done   1 out of   1 | elapsed:    0.0s finished\n",
      "[Parallel(n_jobs=1)]: Using backend SequentialBackend with 1 concurrent workers.\n",
      "[Parallel(n_jobs=1)]: Done   1 out of   1 | elapsed:    0.0s remaining:    0.0s\n",
      "[Parallel(n_jobs=1)]: Done   1 out of   1 | elapsed:    0.0s finished\n",
      "[Parallel(n_jobs=1)]: Using backend SequentialBackend with 1 concurrent workers.\n",
      "[Parallel(n_jobs=1)]: Done   1 out of   1 | elapsed:    0.0s remaining:    0.0s\n",
      "[Parallel(n_jobs=1)]: Done   1 out of   1 | elapsed:    0.0s finished\n",
      "[Parallel(n_jobs=1)]: Using backend SequentialBackend with 1 concurrent workers.\n",
      "[Parallel(n_jobs=1)]: Done   1 out of   1 | elapsed:    0.0s remaining:    0.0s\n",
      "[Parallel(n_jobs=1)]: Done   1 out of   1 | elapsed:    0.0s finished\n",
      "[Parallel(n_jobs=1)]: Using backend SequentialBackend with 1 concurrent workers.\n",
      "[Parallel(n_jobs=1)]: Done   1 out of   1 | elapsed:    0.0s remaining:    0.0s\n",
      "[Parallel(n_jobs=1)]: Done   1 out of   1 | elapsed:    0.0s finished\n",
      "[Parallel(n_jobs=1)]: Using backend SequentialBackend with 1 concurrent workers.\n",
      "[Parallel(n_jobs=1)]: Done   1 out of   1 | elapsed:    0.0s remaining:    0.0s\n",
      "[Parallel(n_jobs=1)]: Done   1 out of   1 | elapsed:    0.0s finished\n",
      "[Parallel(n_jobs=1)]: Using backend SequentialBackend with 1 concurrent workers.\n",
      "[Parallel(n_jobs=1)]: Done   1 out of   1 | elapsed:    0.0s remaining:    0.0s\n",
      "[Parallel(n_jobs=1)]: Done   1 out of   1 | elapsed:    0.0s finished\n",
      "[Parallel(n_jobs=1)]: Using backend SequentialBackend with 1 concurrent workers.\n",
      "[Parallel(n_jobs=1)]: Done   1 out of   1 | elapsed:    0.0s remaining:    0.0s\n",
      "[Parallel(n_jobs=1)]: Done   1 out of   1 | elapsed:    0.0s finished\n",
      "[Parallel(n_jobs=1)]: Using backend SequentialBackend with 1 concurrent workers.\n"
     ]
    },
    {
     "name": "stdout",
     "output_type": "stream",
     "text": [
      "Building estimator 1 of 7 for this parallel run (total 7)...\n",
      "Building estimator 2 of 7 for this parallel run (total 7)...\n",
      "Building estimator 3 of 7 for this parallel run (total 7)...\n",
      "Building estimator 4 of 7 for this parallel run (total 7)...\n",
      "Building estimator 5 of 7 for this parallel run (total 7)...\n",
      "Building estimator 6 of 7 for this parallel run (total 7)...\n",
      "Building estimator 7 of 7 for this parallel run (total 7)...\n",
      "Building estimator 1 of 7 for this parallel run (total 7)...\n",
      "Building estimator 2 of 7 for this parallel run (total 7)...\n",
      "Building estimator 3 of 7 for this parallel run (total 7)...\n",
      "Building estimator 4 of 7 for this parallel run (total 7)...\n",
      "Building estimator 5 of 7 for this parallel run (total 7)...\n",
      "Building estimator 6 of 7 for this parallel run (total 7)...\n",
      "Building estimator 7 of 7 for this parallel run (total 7)...\n",
      "Building estimator 1 of 7 for this parallel run (total 7)...\n",
      "Building estimator 2 of 7 for this parallel run (total 7)...\n",
      "Building estimator 3 of 7 for this parallel run (total 7)...\n",
      "Building estimator 4 of 7 for this parallel run (total 7)...\n",
      "Building estimator 5 of 7 for this parallel run (total 7)...\n",
      "Building estimator 6 of 7 for this parallel run (total 7)...\n",
      "Building estimator 7 of 7 for this parallel run (total 7)...\n",
      "Building estimator 1 of 7 for this parallel run (total 7)...\n",
      "Building estimator 2 of 7 for this parallel run (total 7)...\n",
      "Building estimator 3 of 7 for this parallel run (total 7)...\n",
      "Building estimator 4 of 7 for this parallel run (total 7)...\n",
      "Building estimator 5 of 7 for this parallel run (total 7)...\n",
      "Building estimator 6 of 7 for this parallel run (total 7)...\n",
      "Building estimator 7 of 7 for this parallel run (total 7)...\n",
      "Building estimator 1 of 7 for this parallel run (total 7)...\n",
      "Building estimator 2 of 7 for this parallel run (total 7)...\n",
      "Building estimator 3 of 7 for this parallel run (total 7)...\n",
      "Building estimator 4 of 7 for this parallel run (total 7)...\n",
      "Building estimator 5 of 7 for this parallel run (total 7)...\n",
      "Building estimator 6 of 7 for this parallel run (total 7)...\n",
      "Building estimator 7 of 7 for this parallel run (total 7)...\n",
      "Building estimator 1 of 7 for this parallel run (total 7)...\n",
      "Building estimator 2 of 7 for this parallel run (total 7)...\n",
      "Building estimator 3 of 7 for this parallel run (total 7)...\n",
      "Building estimator 4 of 7 for this parallel run (total 7)...\n",
      "Building estimator 5 of 7 for this parallel run (total 7)...\n",
      "Building estimator 6 of 7 for this parallel run (total 7)...\n",
      "Building estimator 7 of 7 for this parallel run (total 7)...\n",
      "Building estimator 1 of 7 for this parallel run (total 7)...\n",
      "Building estimator 2 of 7 for this parallel run (total 7)...\n",
      "Building estimator 3 of 7 for this parallel run (total 7)...\n",
      "Building estimator 4 of 7 for this parallel run (total 7)...\n",
      "Building estimator 5 of 7 for this parallel run (total 7)...\n",
      "Building estimator 6 of 7 for this parallel run (total 7)...\n",
      "Building estimator 7 of 7 for this parallel run (total 7)...\n",
      "Building estimator 1 of 7 for this parallel run (total 7)...\n",
      "Building estimator 2 of 7 for this parallel run (total 7)...\n",
      "Building estimator 3 of 7 for this parallel run (total 7)...\n",
      "Building estimator 4 of 7 for this parallel run (total 7)...\n",
      "Building estimator 5 of 7 for this parallel run (total 7)...\n",
      "Building estimator 6 of 7 for this parallel run (total 7)...\n",
      "Building estimator 7 of 7 for this parallel run (total 7)...\n",
      "Building estimator 1 of 7 for this parallel run (total 7)...\n",
      "Building estimator 2 of 7 for this parallel run (total 7)...\n",
      "Building estimator 3 of 7 for this parallel run (total 7)...\n",
      "Building estimator 4 of 7 for this parallel run (total 7)...\n",
      "Building estimator 5 of 7 for this parallel run (total 7)...\n",
      "Building estimator 6 of 7 for this parallel run (total 7)...\n",
      "Building estimator 7 of 7 for this parallel run (total 7)...\n",
      "Building estimator 1 of 7 for this parallel run (total 7)...\n",
      "Building estimator 2 of 7 for this parallel run (total 7)...\n",
      "Building estimator 3 of 7 for this parallel run (total 7)...\n",
      "Building estimator 4 of 7 for this parallel run (total 7)...\n",
      "Building estimator 5 of 7 for this parallel run (total 7)...\n",
      "Building estimator 6 of 7 for this parallel run (total 7)...\n",
      "Building estimator 7 of 7 for this parallel run (total 7)...\n",
      "Building estimator 1 of 7 for this parallel run (total 7)...\n",
      "Building estimator 2 of 7 for this parallel run (total 7)...\n",
      "Building estimator 3 of 7 for this parallel run (total 7)...\n",
      "Building estimator 4 of 7 for this parallel run (total 7)...\n",
      "Building estimator 5 of 7 for this parallel run (total 7)...\n",
      "Building estimator 6 of 7 for this parallel run (total 7)...\n",
      "Building estimator 7 of 7 for this parallel run (total 7)...\n",
      "Building estimator 1 of 7 for this parallel run (total 7)...\n",
      "Building estimator 2 of 7 for this parallel run (total 7)...\n"
     ]
    },
    {
     "name": "stderr",
     "output_type": "stream",
     "text": [
      "[Parallel(n_jobs=1)]: Done   1 out of   1 | elapsed:    0.0s remaining:    0.0s\n",
      "[Parallel(n_jobs=1)]: Done   1 out of   1 | elapsed:    0.0s finished\n",
      "[Parallel(n_jobs=1)]: Using backend SequentialBackend with 1 concurrent workers.\n",
      "[Parallel(n_jobs=1)]: Done   1 out of   1 | elapsed:    0.0s remaining:    0.0s\n",
      "[Parallel(n_jobs=1)]: Done   1 out of   1 | elapsed:    0.0s finished\n",
      "[Parallel(n_jobs=1)]: Using backend SequentialBackend with 1 concurrent workers.\n",
      "[Parallel(n_jobs=1)]: Done   1 out of   1 | elapsed:    0.0s remaining:    0.0s\n",
      "[Parallel(n_jobs=1)]: Done   1 out of   1 | elapsed:    0.0s finished\n",
      "[Parallel(n_jobs=1)]: Using backend SequentialBackend with 1 concurrent workers.\n",
      "[Parallel(n_jobs=1)]: Done   1 out of   1 | elapsed:    0.0s remaining:    0.0s\n",
      "[Parallel(n_jobs=1)]: Done   1 out of   1 | elapsed:    0.0s finished\n",
      "[Parallel(n_jobs=1)]: Using backend SequentialBackend with 1 concurrent workers.\n",
      "[Parallel(n_jobs=1)]: Done   1 out of   1 | elapsed:    0.0s remaining:    0.0s\n",
      "[Parallel(n_jobs=1)]: Done   1 out of   1 | elapsed:    0.0s finished\n",
      "[Parallel(n_jobs=1)]: Using backend SequentialBackend with 1 concurrent workers.\n",
      "[Parallel(n_jobs=1)]: Done   1 out of   1 | elapsed:    0.0s remaining:    0.0s\n",
      "[Parallel(n_jobs=1)]: Done   1 out of   1 | elapsed:    0.0s finished\n",
      "[Parallel(n_jobs=1)]: Using backend SequentialBackend with 1 concurrent workers.\n",
      "[Parallel(n_jobs=1)]: Done   1 out of   1 | elapsed:    0.0s remaining:    0.0s\n",
      "[Parallel(n_jobs=1)]: Done   1 out of   1 | elapsed:    0.0s finished\n",
      "[Parallel(n_jobs=1)]: Using backend SequentialBackend with 1 concurrent workers.\n",
      "[Parallel(n_jobs=1)]: Done   1 out of   1 | elapsed:    0.0s remaining:    0.0s\n",
      "[Parallel(n_jobs=1)]: Done   1 out of   1 | elapsed:    0.0s finished\n",
      "[Parallel(n_jobs=1)]: Using backend SequentialBackend with 1 concurrent workers.\n",
      "[Parallel(n_jobs=1)]: Done   1 out of   1 | elapsed:    0.0s remaining:    0.0s\n",
      "[Parallel(n_jobs=1)]: Done   1 out of   1 | elapsed:    0.0s finished\n",
      "[Parallel(n_jobs=1)]: Using backend SequentialBackend with 1 concurrent workers.\n",
      "[Parallel(n_jobs=1)]: Done   1 out of   1 | elapsed:    0.0s remaining:    0.0s\n",
      "[Parallel(n_jobs=1)]: Done   1 out of   1 | elapsed:    0.0s finished\n",
      "[Parallel(n_jobs=1)]: Using backend SequentialBackend with 1 concurrent workers.\n",
      "[Parallel(n_jobs=1)]: Done   1 out of   1 | elapsed:    0.0s remaining:    0.0s\n",
      "[Parallel(n_jobs=1)]: Done   1 out of   1 | elapsed:    0.0s finished\n",
      "[Parallel(n_jobs=1)]: Using backend SequentialBackend with 1 concurrent workers.\n",
      "[Parallel(n_jobs=1)]: Done   1 out of   1 | elapsed:    0.0s remaining:    0.0s\n",
      "[Parallel(n_jobs=1)]: Done   1 out of   1 | elapsed:    0.0s finished\n",
      "[Parallel(n_jobs=1)]: Using backend SequentialBackend with 1 concurrent workers.\n",
      "[Parallel(n_jobs=1)]: Done   1 out of   1 | elapsed:    0.0s remaining:    0.0s\n",
      "[Parallel(n_jobs=1)]: Done   1 out of   1 | elapsed:    0.0s finished\n",
      "[Parallel(n_jobs=1)]: Using backend SequentialBackend with 1 concurrent workers.\n",
      "[Parallel(n_jobs=1)]: Done   1 out of   1 | elapsed:    0.0s remaining:    0.0s\n",
      "[Parallel(n_jobs=1)]: Done   1 out of   1 | elapsed:    0.0s finished\n",
      "[Parallel(n_jobs=1)]: Using backend SequentialBackend with 1 concurrent workers.\n",
      "[Parallel(n_jobs=1)]: Done   1 out of   1 | elapsed:    0.0s remaining:    0.0s\n",
      "[Parallel(n_jobs=1)]: Done   1 out of   1 | elapsed:    0.0s finished\n",
      "[Parallel(n_jobs=1)]: Using backend SequentialBackend with 1 concurrent workers.\n",
      "[Parallel(n_jobs=1)]: Done   1 out of   1 | elapsed:    0.0s remaining:    0.0s\n",
      "[Parallel(n_jobs=1)]: Done   1 out of   1 | elapsed:    0.0s finished\n",
      "[Parallel(n_jobs=1)]: Using backend SequentialBackend with 1 concurrent workers.\n",
      "[Parallel(n_jobs=1)]: Done   1 out of   1 | elapsed:    0.0s remaining:    0.0s\n",
      "[Parallel(n_jobs=1)]: Done   1 out of   1 | elapsed:    0.0s finished\n",
      "[Parallel(n_jobs=1)]: Using backend SequentialBackend with 1 concurrent workers.\n",
      "[Parallel(n_jobs=1)]: Done   1 out of   1 | elapsed:    0.0s remaining:    0.0s\n",
      "[Parallel(n_jobs=1)]: Done   1 out of   1 | elapsed:    0.0s finished\n",
      "[Parallel(n_jobs=1)]: Using backend SequentialBackend with 1 concurrent workers.\n",
      "[Parallel(n_jobs=1)]: Done   1 out of   1 | elapsed:    0.0s remaining:    0.0s\n",
      "[Parallel(n_jobs=1)]: Done   1 out of   1 | elapsed:    0.0s finished\n",
      "[Parallel(n_jobs=1)]: Using backend SequentialBackend with 1 concurrent workers.\n",
      "[Parallel(n_jobs=1)]: Done   1 out of   1 | elapsed:    0.0s remaining:    0.0s\n",
      "[Parallel(n_jobs=1)]: Done   1 out of   1 | elapsed:    0.0s finished\n",
      "[Parallel(n_jobs=1)]: Using backend SequentialBackend with 1 concurrent workers.\n",
      "[Parallel(n_jobs=1)]: Done   1 out of   1 | elapsed:    0.0s finished\n",
      "[Parallel(n_jobs=1)]: Using backend SequentialBackend with 1 concurrent workers.\n",
      "[Parallel(n_jobs=1)]: Done   1 out of   1 | elapsed:    0.0s finished\n",
      "[Parallel(n_jobs=1)]: Using backend SequentialBackend with 1 concurrent workers.\n"
     ]
    },
    {
     "name": "stdout",
     "output_type": "stream",
     "text": [
      "Building estimator 3 of 7 for this parallel run (total 7)...\n",
      "Building estimator 4 of 7 for this parallel run (total 7)...\n",
      "Building estimator 5 of 7 for this parallel run (total 7)...\n",
      "Building estimator 6 of 7 for this parallel run (total 7)...\n",
      "Building estimator 7 of 7 for this parallel run (total 7)...\n",
      "Building estimator 1 of 7 for this parallel run (total 7)...\n",
      "Building estimator 2 of 7 for this parallel run (total 7)...\n",
      "Building estimator 3 of 7 for this parallel run (total 7)...\n",
      "Building estimator 4 of 7 for this parallel run (total 7)...\n",
      "Building estimator 5 of 7 for this parallel run (total 7)...\n",
      "Building estimator 6 of 7 for this parallel run (total 7)...\n",
      "Building estimator 7 of 7 for this parallel run (total 7)...\n",
      "Building estimator 1 of 7 for this parallel run (total 7)...\n",
      "Building estimator 2 of 7 for this parallel run (total 7)...\n",
      "Building estimator 3 of 7 for this parallel run (total 7)...\n",
      "Building estimator 4 of 7 for this parallel run (total 7)...\n",
      "Building estimator 5 of 7 for this parallel run (total 7)...\n",
      "Building estimator 6 of 7 for this parallel run (total 7)...\n",
      "Building estimator 7 of 7 for this parallel run (total 7)...\n",
      "Building estimator 1 of 7 for this parallel run (total 7)...\n",
      "Building estimator 2 of 7 for this parallel run (total 7)...\n",
      "Building estimator 3 of 7 for this parallel run (total 7)...\n",
      "Building estimator 4 of 7 for this parallel run (total 7)...\n",
      "Building estimator 5 of 7 for this parallel run (total 7)...\n",
      "Building estimator 6 of 7 for this parallel run (total 7)...\n",
      "Building estimator 7 of 7 for this parallel run (total 7)...\n",
      "Building estimator 1 of 8 for this parallel run (total 8)...\n",
      "Building estimator 2 of 8 for this parallel run (total 8)...\n",
      "Building estimator 3 of 8 for this parallel run (total 8)...\n",
      "Building estimator 4 of 8 for this parallel run (total 8)...\n",
      "Building estimator 5 of 8 for this parallel run (total 8)...\n",
      "Building estimator 6 of 8 for this parallel run (total 8)...\n",
      "Building estimator 7 of 8 for this parallel run (total 8)...\n",
      "Building estimator 8 of 8 for this parallel run (total 8)...\n",
      "Building estimator 1 of 8 for this parallel run (total 8)...\n",
      "Building estimator 2 of 8 for this parallel run (total 8)..."
     ]
    },
    {
     "name": "stderr",
     "output_type": "stream",
     "text": [
      "[Parallel(n_jobs=1)]: Done   1 out of   1 | elapsed:    0.0s finished\n",
      "[Parallel(n_jobs=1)]: Using backend SequentialBackend with 1 concurrent workers.\n",
      "[Parallel(n_jobs=1)]: Done   1 out of   1 | elapsed:    0.0s finished\n",
      "[Parallel(n_jobs=1)]: Using backend SequentialBackend with 1 concurrent workers.\n",
      "[Parallel(n_jobs=1)]: Done   1 out of   1 | elapsed:    0.0s finished\n",
      "[Parallel(n_jobs=1)]: Using backend SequentialBackend with 1 concurrent workers.\n",
      "[Parallel(n_jobs=1)]: Done   1 out of   1 | elapsed:    0.0s finished\n",
      "[Parallel(n_jobs=1)]: Using backend SequentialBackend with 1 concurrent workers.\n",
      "[Parallel(n_jobs=1)]: Done   1 out of   1 | elapsed:    0.0s finished\n",
      "[Parallel(n_jobs=1)]: Using backend SequentialBackend with 1 concurrent workers.\n",
      "[Parallel(n_jobs=1)]: Done   1 out of   1 | elapsed:    0.0s finished\n",
      "[Parallel(n_jobs=1)]: Using backend SequentialBackend with 1 concurrent workers.\n",
      "[Parallel(n_jobs=1)]: Done   1 out of   1 | elapsed:    0.0s finished\n",
      "[Parallel(n_jobs=1)]: Using backend SequentialBackend with 1 concurrent workers.\n",
      "[Parallel(n_jobs=1)]: Done   1 out of   1 | elapsed:    0.0s finished\n",
      "[Parallel(n_jobs=1)]: Using backend SequentialBackend with 1 concurrent workers.\n",
      "[Parallel(n_jobs=1)]: Done   1 out of   1 | elapsed:    0.0s remaining:    0.0s\n",
      "[Parallel(n_jobs=1)]: Done   1 out of   1 | elapsed:    0.0s finished\n",
      "[Parallel(n_jobs=1)]: Using backend SequentialBackend with 1 concurrent workers.\n",
      "[Parallel(n_jobs=1)]: Done   1 out of   1 | elapsed:    0.0s remaining:    0.0s\n",
      "[Parallel(n_jobs=1)]: Done   1 out of   1 | elapsed:    0.0s finished\n",
      "[Parallel(n_jobs=1)]: Using backend SequentialBackend with 1 concurrent workers.\n",
      "[Parallel(n_jobs=1)]: Done   1 out of   1 | elapsed:    0.0s remaining:    0.0s\n",
      "[Parallel(n_jobs=1)]: Done   1 out of   1 | elapsed:    0.0s finished\n",
      "[Parallel(n_jobs=1)]: Using backend SequentialBackend with 1 concurrent workers.\n",
      "[Parallel(n_jobs=1)]: Done   1 out of   1 | elapsed:    0.0s remaining:    0.0s\n",
      "[Parallel(n_jobs=1)]: Done   1 out of   1 | elapsed:    0.0s finished\n",
      "[Parallel(n_jobs=1)]: Using backend SequentialBackend with 1 concurrent workers.\n",
      "[Parallel(n_jobs=1)]: Done   1 out of   1 | elapsed:    0.0s remaining:    0.0s\n",
      "[Parallel(n_jobs=1)]: Done   1 out of   1 | elapsed:    0.0s finished\n",
      "[Parallel(n_jobs=1)]: Using backend SequentialBackend with 1 concurrent workers.\n",
      "[Parallel(n_jobs=1)]: Done   1 out of   1 | elapsed:    0.0s remaining:    0.0s\n",
      "[Parallel(n_jobs=1)]: Done   1 out of   1 | elapsed:    0.0s finished\n",
      "[Parallel(n_jobs=1)]: Using backend SequentialBackend with 1 concurrent workers.\n",
      "[Parallel(n_jobs=1)]: Done   1 out of   1 | elapsed:    0.0s remaining:    0.0s\n",
      "[Parallel(n_jobs=1)]: Done   1 out of   1 | elapsed:    0.0s finished\n",
      "[Parallel(n_jobs=1)]: Using backend SequentialBackend with 1 concurrent workers.\n",
      "[Parallel(n_jobs=1)]: Done   1 out of   1 | elapsed:    0.0s remaining:    0.0s\n",
      "[Parallel(n_jobs=1)]: Done   1 out of   1 | elapsed:    0.0s finished\n",
      "[Parallel(n_jobs=1)]: Using backend SequentialBackend with 1 concurrent workers.\n",
      "[Parallel(n_jobs=1)]: Done   1 out of   1 | elapsed:    0.0s remaining:    0.0s\n",
      "[Parallel(n_jobs=1)]: Done   1 out of   1 | elapsed:    0.0s finished\n",
      "[Parallel(n_jobs=1)]: Using backend SequentialBackend with 1 concurrent workers.\n",
      "[Parallel(n_jobs=1)]: Done   1 out of   1 | elapsed:    0.0s remaining:    0.0s\n",
      "[Parallel(n_jobs=1)]: Done   1 out of   1 | elapsed:    0.0s finished\n",
      "[Parallel(n_jobs=1)]: Using backend SequentialBackend with 1 concurrent workers.\n",
      "[Parallel(n_jobs=1)]: Done   1 out of   1 | elapsed:    0.0s remaining:    0.0s\n",
      "[Parallel(n_jobs=1)]: Done   1 out of   1 | elapsed:    0.0s finished\n",
      "[Parallel(n_jobs=1)]: Using backend SequentialBackend with 1 concurrent workers.\n",
      "[Parallel(n_jobs=1)]: Done   1 out of   1 | elapsed:    0.0s remaining:    0.0s\n",
      "[Parallel(n_jobs=1)]: Done   1 out of   1 | elapsed:    0.0s finished\n",
      "[Parallel(n_jobs=1)]: Using backend SequentialBackend with 1 concurrent workers.\n"
     ]
    },
    {
     "name": "stdout",
     "output_type": "stream",
     "text": [
      "\n",
      "Building estimator 3 of 8 for this parallel run (total 8)...\n",
      "Building estimator 4 of 8 for this parallel run (total 8)...\n",
      "Building estimator 5 of 8 for this parallel run (total 8)...\n",
      "Building estimator 6 of 8 for this parallel run (total 8)...\n",
      "Building estimator 7 of 8 for this parallel run (total 8)...\n",
      "Building estimator 8 of 8 for this parallel run (total 8)...\n",
      "Building estimator 1 of 8 for this parallel run (total 8)...\n",
      "Building estimator 2 of 8 for this parallel run (total 8)...\n",
      "Building estimator 3 of 8 for this parallel run (total 8)...\n",
      "Building estimator 4 of 8 for this parallel run (total 8)...\n",
      "Building estimator 5 of 8 for this parallel run (total 8)...\n",
      "Building estimator 6 of 8 for this parallel run (total 8)...\n",
      "Building estimator 7 of 8 for this parallel run (total 8)...\n",
      "Building estimator 8 of 8 for this parallel run (total 8)...\n",
      "Building estimator 1 of 8 for this parallel run (total 8)...\n",
      "Building estimator 2 of 8 for this parallel run (total 8)...\n",
      "Building estimator 3 of 8 for this parallel run (total 8)...\n",
      "Building estimator 4 of 8 for this parallel run (total 8)...\n",
      "Building estimator 5 of 8 for this parallel run (total 8)...\n",
      "Building estimator 6 of 8 for this parallel run (total 8)...\n",
      "Building estimator 7 of 8 for this parallel run (total 8)...\n",
      "Building estimator 8 of 8 for this parallel run (total 8)...\n",
      "Building estimator 1 of 8 for this parallel run (total 8)...\n",
      "Building estimator 2 of 8 for this parallel run (total 8)...\n",
      "Building estimator 3 of 8 for this parallel run (total 8)...\n",
      "Building estimator 4 of 8 for this parallel run (total 8)...\n",
      "Building estimator 5 of 8 for this parallel run (total 8)...\n",
      "Building estimator 6 of 8 for this parallel run (total 8)...\n",
      "Building estimator 7 of 8 for this parallel run (total 8)...\n",
      "Building estimator 8 of 8 for this parallel run (total 8)...\n",
      "Building estimator 1 of 8 for this parallel run (total 8)...\n",
      "Building estimator 2 of 8 for this parallel run (total 8)...\n",
      "Building estimator 3 of 8 for this parallel run (total 8)...\n",
      "Building estimator 4 of 8 for this parallel run (total 8)...\n",
      "Building estimator 5 of 8 for this parallel run (total 8)...\n",
      "Building estimator 6 of 8 for this parallel run (total 8)...\n",
      "Building estimator 7 of 8 for this parallel run (total 8)...\n",
      "Building estimator 8 of 8 for this parallel run (total 8)...\n",
      "Building estimator 1 of 8 for this parallel run (total 8)...\n",
      "Building estimator 2 of 8 for this parallel run (total 8)...\n",
      "Building estimator 3 of 8 for this parallel run (total 8)...\n",
      "Building estimator 4 of 8 for this parallel run (total 8)...\n",
      "Building estimator 5 of 8 for this parallel run (total 8)...\n",
      "Building estimator 6 of 8 for this parallel run (total 8)...\n",
      "Building estimator 7 of 8 for this parallel run (total 8)...\n",
      "Building estimator 8 of 8 for this parallel run (total 8)...\n",
      "Building estimator 1 of 8 for this parallel run (total 8)...\n",
      "Building estimator 2 of 8 for this parallel run (total 8)...\n",
      "Building estimator 3 of 8 for this parallel run (total 8)...\n",
      "Building estimator 4 of 8 for this parallel run (total 8)...\n",
      "Building estimator 5 of 8 for this parallel run (total 8)...\n",
      "Building estimator 6 of 8 for this parallel run (total 8)...\n",
      "Building estimator 7 of 8 for this parallel run (total 8)...\n",
      "Building estimator 8 of 8 for this parallel run (total 8)...\n",
      "Building estimator 1 of 8 for this parallel run (total 8)...\n",
      "Building estimator 2 of 8 for this parallel run (total 8)...\n",
      "Building estimator 3 of 8 for this parallel run (total 8)...\n",
      "Building estimator 4 of 8 for this parallel run (total 8)...\n",
      "Building estimator 5 of 8 for this parallel run (total 8)...\n",
      "Building estimator 6 of 8 for this parallel run (total 8)...\n",
      "Building estimator 7 of 8 for this parallel run (total 8)...\n",
      "Building estimator 8 of 8 for this parallel run (total 8)...\n",
      "Building estimator 1 of 8 for this parallel run (total 8)...\n",
      "Building estimator 2 of 8 for this parallel run (total 8)...\n",
      "Building estimator 3 of 8 for this parallel run (total 8)...\n",
      "Building estimator 4 of 8 for this parallel run (total 8)...\n",
      "Building estimator 5 of 8 for this parallel run (total 8)...\n",
      "Building estimator 6 of 8 for this parallel run (total 8)...\n",
      "Building estimator 7 of 8 for this parallel run (total 8)...\n",
      "Building estimator 8 of 8 for this parallel run (total 8)...\n",
      "Building estimator 1 of 8 for this parallel run (total 8)...\n",
      "Building estimator 2 of 8 for this parallel run (total 8)...\n",
      "Building estimator 3 of 8 for this parallel run (total 8)...\n",
      "Building estimator 4 of 8 for this parallel run (total 8)...\n",
      "Building estimator 5 of 8 for this parallel run (total 8)...\n",
      "Building estimator 6 of 8 for this parallel run (total 8)...\n",
      "Building estimator 7 of 8 for this parallel run (total 8)...\n",
      "Building estimator 8 of 8 for this parallel run (total 8)...\n",
      "Building estimator 1 of 8 for this parallel run (total 8)...\n",
      "Building estimator 2 of 8 for this parallel run (total 8)...\n",
      "Building estimator 3 of 8 for this parallel run (total 8)...\n",
      "Building estimator 4 of 8 for this parallel run (total 8)...\n",
      "Building estimator 5 of 8 for this parallel run (total 8)...\n"
     ]
    },
    {
     "name": "stderr",
     "output_type": "stream",
     "text": [
      "[Parallel(n_jobs=1)]: Done   1 out of   1 | elapsed:    0.0s remaining:    0.0s\n",
      "[Parallel(n_jobs=1)]: Done   1 out of   1 | elapsed:    0.0s finished\n",
      "[Parallel(n_jobs=1)]: Using backend SequentialBackend with 1 concurrent workers.\n",
      "[Parallel(n_jobs=1)]: Done   1 out of   1 | elapsed:    0.0s remaining:    0.0s\n",
      "[Parallel(n_jobs=1)]: Done   1 out of   1 | elapsed:    0.0s finished\n",
      "[Parallel(n_jobs=1)]: Using backend SequentialBackend with 1 concurrent workers.\n",
      "[Parallel(n_jobs=1)]: Done   1 out of   1 | elapsed:    0.0s remaining:    0.0s\n",
      "[Parallel(n_jobs=1)]: Done   1 out of   1 | elapsed:    0.0s finished\n",
      "[Parallel(n_jobs=1)]: Using backend SequentialBackend with 1 concurrent workers.\n",
      "[Parallel(n_jobs=1)]: Done   1 out of   1 | elapsed:    0.0s remaining:    0.0s\n",
      "[Parallel(n_jobs=1)]: Done   1 out of   1 | elapsed:    0.0s finished\n",
      "[Parallel(n_jobs=1)]: Using backend SequentialBackend with 1 concurrent workers.\n",
      "[Parallel(n_jobs=1)]: Done   1 out of   1 | elapsed:    0.0s remaining:    0.0s\n",
      "[Parallel(n_jobs=1)]: Done   1 out of   1 | elapsed:    0.0s finished\n",
      "[Parallel(n_jobs=1)]: Using backend SequentialBackend with 1 concurrent workers.\n",
      "[Parallel(n_jobs=1)]: Done   1 out of   1 | elapsed:    0.0s remaining:    0.0s\n",
      "[Parallel(n_jobs=1)]: Done   1 out of   1 | elapsed:    0.0s finished\n",
      "[Parallel(n_jobs=1)]: Using backend SequentialBackend with 1 concurrent workers.\n",
      "[Parallel(n_jobs=1)]: Done   1 out of   1 | elapsed:    0.0s remaining:    0.0s\n",
      "[Parallel(n_jobs=1)]: Done   1 out of   1 | elapsed:    0.0s finished\n",
      "[Parallel(n_jobs=1)]: Using backend SequentialBackend with 1 concurrent workers.\n",
      "[Parallel(n_jobs=1)]: Done   1 out of   1 | elapsed:    0.0s remaining:    0.0s\n",
      "[Parallel(n_jobs=1)]: Done   1 out of   1 | elapsed:    0.0s finished\n",
      "[Parallel(n_jobs=1)]: Using backend SequentialBackend with 1 concurrent workers.\n",
      "[Parallel(n_jobs=1)]: Done   1 out of   1 | elapsed:    0.0s remaining:    0.0s\n",
      "[Parallel(n_jobs=1)]: Done   1 out of   1 | elapsed:    0.0s finished\n",
      "[Parallel(n_jobs=1)]: Using backend SequentialBackend with 1 concurrent workers.\n",
      "[Parallel(n_jobs=1)]: Done   1 out of   1 | elapsed:    0.0s remaining:    0.0s\n",
      "[Parallel(n_jobs=1)]: Done   1 out of   1 | elapsed:    0.0s finished\n",
      "[Parallel(n_jobs=1)]: Using backend SequentialBackend with 1 concurrent workers.\n",
      "[Parallel(n_jobs=1)]: Done   1 out of   1 | elapsed:    0.0s remaining:    0.0s\n",
      "[Parallel(n_jobs=1)]: Done   1 out of   1 | elapsed:    0.0s finished\n",
      "[Parallel(n_jobs=1)]: Using backend SequentialBackend with 1 concurrent workers.\n",
      "[Parallel(n_jobs=1)]: Done   1 out of   1 | elapsed:    0.0s remaining:    0.0s\n",
      "[Parallel(n_jobs=1)]: Done   1 out of   1 | elapsed:    0.0s finished\n",
      "[Parallel(n_jobs=1)]: Using backend SequentialBackend with 1 concurrent workers.\n",
      "[Parallel(n_jobs=1)]: Done   1 out of   1 | elapsed:    0.0s remaining:    0.0s\n",
      "[Parallel(n_jobs=1)]: Done   1 out of   1 | elapsed:    0.0s finished\n",
      "[Parallel(n_jobs=1)]: Using backend SequentialBackend with 1 concurrent workers.\n",
      "[Parallel(n_jobs=1)]: Done   1 out of   1 | elapsed:    0.0s remaining:    0.0s\n",
      "[Parallel(n_jobs=1)]: Done   1 out of   1 | elapsed:    0.0s finished\n",
      "[Parallel(n_jobs=1)]: Using backend SequentialBackend with 1 concurrent workers.\n",
      "[Parallel(n_jobs=1)]: Done   1 out of   1 | elapsed:    0.0s remaining:    0.0s\n",
      "[Parallel(n_jobs=1)]: Done   1 out of   1 | elapsed:    0.0s finished\n",
      "[Parallel(n_jobs=1)]: Using backend SequentialBackend with 1 concurrent workers.\n",
      "[Parallel(n_jobs=1)]: Done   1 out of   1 | elapsed:    0.0s remaining:    0.0s\n",
      "[Parallel(n_jobs=1)]: Done   1 out of   1 | elapsed:    0.0s finished\n",
      "[Parallel(n_jobs=1)]: Using backend SequentialBackend with 1 concurrent workers.\n",
      "[Parallel(n_jobs=1)]: Done   1 out of   1 | elapsed:    0.0s remaining:    0.0s\n",
      "[Parallel(n_jobs=1)]: Done   1 out of   1 | elapsed:    0.0s finished\n",
      "[Parallel(n_jobs=1)]: Using backend SequentialBackend with 1 concurrent workers.\n",
      "[Parallel(n_jobs=1)]: Done   1 out of   1 | elapsed:    0.0s remaining:    0.0s\n",
      "[Parallel(n_jobs=1)]: Done   1 out of   1 | elapsed:    0.0s finished\n",
      "[Parallel(n_jobs=1)]: Using backend SequentialBackend with 1 concurrent workers.\n",
      "[Parallel(n_jobs=1)]: Done   1 out of   1 | elapsed:    0.0s finished\n",
      "[Parallel(n_jobs=1)]: Using backend SequentialBackend with 1 concurrent workers.\n"
     ]
    },
    {
     "name": "stdout",
     "output_type": "stream",
     "text": [
      "Building estimator 6 of 8 for this parallel run (total 8)...\n",
      "Building estimator 7 of 8 for this parallel run (total 8)...\n",
      "Building estimator 8 of 8 for this parallel run (total 8)...\n",
      "Building estimator 1 of 8 for this parallel run (total 8)...\n",
      "Building estimator 2 of 8 for this parallel run (total 8)...\n",
      "Building estimator 3 of 8 for this parallel run (total 8)...\n",
      "Building estimator 4 of 8 for this parallel run (total 8)...\n",
      "Building estimator 5 of 8 for this parallel run (total 8)...\n",
      "Building estimator 6 of 8 for this parallel run (total 8)...\n",
      "Building estimator 7 of 8 for this parallel run (total 8)...\n",
      "Building estimator 8 of 8 for this parallel run (total 8)...\n",
      "Building estimator 1 of 8 for this parallel run (total 8)...\n",
      "Building estimator 2 of 8 for this parallel run (total 8)...\n",
      "Building estimator 3 of 8 for this parallel run (total 8)...\n",
      "Building estimator 4 of 8 for this parallel run (total 8)...\n",
      "Building estimator 5 of 8 for this parallel run (total 8)...\n",
      "Building estimator 6 of 8 for this parallel run (total 8)...\n",
      "Building estimator 7 of 8 for this parallel run (total 8)...\n",
      "Building estimator 8 of 8 for this parallel run (total 8)...\n",
      "Building estimator 1 of 8 for this parallel run (total 8)...\n",
      "Building estimator 2 of 8 for this parallel run (total 8)...\n",
      "Building estimator 3 of 8 for this parallel run (total 8)...\n",
      "Building estimator 4 of 8 for this parallel run (total 8)...\n",
      "Building estimator 5 of 8 for this parallel run (total 8)...\n",
      "Building estimator 6 of 8 for this parallel run (total 8)...\n",
      "Building estimator 7 of 8 for this parallel run (total 8)...\n",
      "Building estimator 8 of 8 for this parallel run (total 8)...\n"
     ]
    },
    {
     "name": "stderr",
     "output_type": "stream",
     "text": [
      "[Parallel(n_jobs=1)]: Done   1 out of   1 | elapsed:    0.0s finished\n",
      "[Parallel(n_jobs=1)]: Using backend SequentialBackend with 1 concurrent workers.\n",
      "[Parallel(n_jobs=1)]: Done   1 out of   1 | elapsed:    0.0s finished\n",
      "[Parallel(n_jobs=1)]: Using backend SequentialBackend with 1 concurrent workers.\n",
      "[Parallel(n_jobs=1)]: Done   1 out of   1 | elapsed:    0.0s finished\n",
      "[Parallel(n_jobs=1)]: Using backend SequentialBackend with 1 concurrent workers.\n",
      "[Parallel(n_jobs=1)]: Done   1 out of   1 | elapsed:    0.0s finished\n",
      "[Parallel(n_jobs=1)]: Using backend SequentialBackend with 1 concurrent workers.\n",
      "[Parallel(n_jobs=1)]: Done   1 out of   1 | elapsed:    0.0s finished\n",
      "[Parallel(n_jobs=1)]: Using backend SequentialBackend with 1 concurrent workers.\n",
      "[Parallel(n_jobs=1)]: Done   1 out of   1 | elapsed:    0.0s finished\n",
      "[Parallel(n_jobs=1)]: Using backend SequentialBackend with 1 concurrent workers.\n",
      "[Parallel(n_jobs=1)]: Done   1 out of   1 | elapsed:    0.0s finished\n",
      "[Parallel(n_jobs=1)]: Using backend SequentialBackend with 1 concurrent workers.\n",
      "[Parallel(n_jobs=1)]: Done   1 out of   1 | elapsed:    0.0s finished\n",
      "[Parallel(n_jobs=1)]: Using backend SequentialBackend with 1 concurrent workers.\n",
      "[Parallel(n_jobs=1)]: Done   1 out of   1 | elapsed:    0.0s finished\n",
      "[Parallel(n_jobs=1)]: Using backend SequentialBackend with 1 concurrent workers.\n",
      "[Parallel(n_jobs=1)]: Done   1 out of   1 | elapsed:    0.0s remaining:    0.0s\n",
      "[Parallel(n_jobs=1)]: Done   1 out of   1 | elapsed:    0.0s finished\n",
      "[Parallel(n_jobs=1)]: Using backend SequentialBackend with 1 concurrent workers.\n",
      "[Parallel(n_jobs=1)]: Done   1 out of   1 | elapsed:    0.0s remaining:    0.0s\n",
      "[Parallel(n_jobs=1)]: Done   1 out of   1 | elapsed:    0.0s finished\n",
      "[Parallel(n_jobs=1)]: Using backend SequentialBackend with 1 concurrent workers.\n",
      "[Parallel(n_jobs=1)]: Done   1 out of   1 | elapsed:    0.0s remaining:    0.0s\n",
      "[Parallel(n_jobs=1)]: Done   1 out of   1 | elapsed:    0.0s finished\n",
      "[Parallel(n_jobs=1)]: Using backend SequentialBackend with 1 concurrent workers.\n",
      "[Parallel(n_jobs=1)]: Done   1 out of   1 | elapsed:    0.0s remaining:    0.0s\n",
      "[Parallel(n_jobs=1)]: Done   1 out of   1 | elapsed:    0.0s finished\n",
      "[Parallel(n_jobs=1)]: Using backend SequentialBackend with 1 concurrent workers.\n",
      "[Parallel(n_jobs=1)]: Done   1 out of   1 | elapsed:    0.0s remaining:    0.0s\n",
      "[Parallel(n_jobs=1)]: Done   1 out of   1 | elapsed:    0.0s finished\n",
      "[Parallel(n_jobs=1)]: Using backend SequentialBackend with 1 concurrent workers.\n",
      "[Parallel(n_jobs=1)]: Done   1 out of   1 | elapsed:    0.0s remaining:    0.0s\n",
      "[Parallel(n_jobs=1)]: Done   1 out of   1 | elapsed:    0.0s finished\n",
      "[Parallel(n_jobs=1)]: Using backend SequentialBackend with 1 concurrent workers.\n",
      "[Parallel(n_jobs=1)]: Done   1 out of   1 | elapsed:    0.0s remaining:    0.0s\n",
      "[Parallel(n_jobs=1)]: Done   1 out of   1 | elapsed:    0.0s finished\n",
      "[Parallel(n_jobs=1)]: Using backend SequentialBackend with 1 concurrent workers.\n",
      "[Parallel(n_jobs=1)]: Done   1 out of   1 | elapsed:    0.0s remaining:    0.0s\n",
      "[Parallel(n_jobs=1)]: Done   1 out of   1 | elapsed:    0.0s finished\n",
      "[Parallel(n_jobs=1)]: Using backend SequentialBackend with 1 concurrent workers.\n"
     ]
    },
    {
     "name": "stdout",
     "output_type": "stream",
     "text": [
      "Building estimator 1 of 9 for this parallel run (total 9)...\n",
      "Building estimator 2 of 9 for this parallel run (total 9)...\n",
      "Building estimator 3 of 9 for this parallel run (total 9)...\n",
      "Building estimator 4 of 9 for this parallel run (total 9)...\n",
      "Building estimator 5 of 9 for this parallel run (total 9)...\n",
      "Building estimator 6 of 9 for this parallel run (total 9)...\n",
      "Building estimator 7 of 9 for this parallel run (total 9)...\n",
      "Building estimator 8 of 9 for this parallel run (total 9)...\n",
      "Building estimator 9 of 9 for this parallel run (total 9)...\n",
      "Building estimator 1 of 9 for this parallel run (total 9)...\n",
      "Building estimator 2 of 9 for this parallel run (total 9)...\n",
      "Building estimator 3 of 9 for this parallel run (total 9)...\n",
      "Building estimator 4 of 9 for this parallel run (total 9)...\n",
      "Building estimator 5 of 9 for this parallel run (total 9)...\n",
      "Building estimator 6 of 9 for this parallel run (total 9)...\n",
      "Building estimator 7 of 9 for this parallel run (total 9)...\n",
      "Building estimator 8 of 9 for this parallel run (total 9)...\n",
      "Building estimator 9 of 9 for this parallel run (total 9)...\n",
      "Building estimator 1 of 9 for this parallel run (total 9)...\n",
      "Building estimator 2 of 9 for this parallel run (total 9)...\n",
      "Building estimator 3 of 9 for this parallel run (total 9)...\n",
      "Building estimator 4 of 9 for this parallel run (total 9)...\n",
      "Building estimator 5 of 9 for this parallel run (total 9)...\n",
      "Building estimator 6 of 9 for this parallel run (total 9)...\n",
      "Building estimator 7 of 9 for this parallel run (total 9)...\n",
      "Building estimator 8 of 9 for this parallel run (total 9)...\n",
      "Building estimator 9 of 9 for this parallel run (total 9)...\n",
      "Building estimator 1 of 9 for this parallel run (total 9)...\n",
      "Building estimator 2 of 9 for this parallel run (total 9)...\n",
      "Building estimator 3 of 9 for this parallel run (total 9)...\n",
      "Building estimator 4 of 9 for this parallel run (total 9)...\n",
      "Building estimator 5 of 9 for this parallel run (total 9)...\n",
      "Building estimator 6 of 9 for this parallel run (total 9)...\n",
      "Building estimator 7 of 9 for this parallel run (total 9)...\n",
      "Building estimator 8 of 9 for this parallel run (total 9)...\n",
      "Building estimator 9 of 9 for this parallel run (total 9)...\n",
      "Building estimator 1 of 9 for this parallel run (total 9)...\n",
      "Building estimator 2 of 9 for this parallel run (total 9)...\n",
      "Building estimator 3 of 9 for this parallel run (total 9)...\n",
      "Building estimator 4 of 9 for this parallel run (total 9)...\n",
      "Building estimator 5 of 9 for this parallel run (total 9)...\n",
      "Building estimator 6 of 9 for this parallel run (total 9)...\n",
      "Building estimator 7 of 9 for this parallel run (total 9)...\n",
      "Building estimator 8 of 9 for this parallel run (total 9)...\n",
      "Building estimator 9 of 9 for this parallel run (total 9)...\n",
      "Building estimator 1 of 9 for this parallel run (total 9)...\n",
      "Building estimator 2 of 9 for this parallel run (total 9)...\n",
      "Building estimator 3 of 9 for this parallel run (total 9)...\n",
      "Building estimator 4 of 9 for this parallel run (total 9)...\n",
      "Building estimator 5 of 9 for this parallel run (total 9)...\n",
      "Building estimator 6 of 9 for this parallel run (total 9)...\n",
      "Building estimator 7 of 9 for this parallel run (total 9)...\n",
      "Building estimator 8 of 9 for this parallel run (total 9)...\n",
      "Building estimator 9 of 9 for this parallel run (total 9)...\n",
      "Building estimator 1 of 9 for this parallel run (total 9)...\n",
      "Building estimator 2 of 9 for this parallel run (total 9)...\n",
      "Building estimator 3 of 9 for this parallel run (total 9)...\n",
      "Building estimator 4 of 9 for this parallel run (total 9)...\n",
      "Building estimator 5 of 9 for this parallel run (total 9)...\n",
      "Building estimator 6 of 9 for this parallel run (total 9)...\n",
      "Building estimator 7 of 9 for this parallel run (total 9)...\n",
      "Building estimator 8 of 9 for this parallel run (total 9)...\n",
      "Building estimator 9 of 9 for this parallel run (total 9)...\n",
      "Building estimator 1 of 9 for this parallel run (total 9)...\n",
      "Building estimator 2 of 9 for this parallel run (total 9)...\n",
      "Building estimator 3 of 9 for this parallel run (total 9)...\n",
      "Building estimator 4 of 9 for this parallel run (total 9)...\n",
      "Building estimator 5 of 9 for this parallel run (total 9)...\n",
      "Building estimator 6 of 9 for this parallel run (total 9)...\n",
      "Building estimator 7 of 9 for this parallel run (total 9)...\n",
      "Building estimator 8 of 9 for this parallel run (total 9)...\n",
      "Building estimator 9 of 9 for this parallel run (total 9)...\n",
      "Building estimator 1 of 9 for this parallel run (total 9)...\n",
      "Building estimator 2 of 9 for this parallel run (total 9)...\n",
      "Building estimator 3 of 9 for this parallel run (total 9)...\n",
      "Building estimator 4 of 9 for this parallel run (total 9)...\n",
      "Building estimator 5 of 9 for this parallel run (total 9)...\n",
      "Building estimator 6 of 9 for this parallel run (total 9)...\n",
      "Building estimator 7 of 9 for this parallel run (total 9)...\n",
      "Building estimator 8 of 9 for this parallel run (total 9)...\n",
      "Building estimator 9 of 9 for this parallel run (total 9)...\n",
      "Building estimator 1 of 9 for this parallel run (total 9)...\n",
      "Building estimator 2 of 9 for this parallel run (total 9)...\n",
      "Building estimator 3 of 9 for this parallel run (total 9)...\n"
     ]
    },
    {
     "name": "stderr",
     "output_type": "stream",
     "text": [
      "[Parallel(n_jobs=1)]: Done   1 out of   1 | elapsed:    0.0s remaining:    0.0s\n",
      "[Parallel(n_jobs=1)]: Done   1 out of   1 | elapsed:    0.0s finished\n",
      "[Parallel(n_jobs=1)]: Using backend SequentialBackend with 1 concurrent workers.\n",
      "[Parallel(n_jobs=1)]: Done   1 out of   1 | elapsed:    0.0s remaining:    0.0s\n",
      "[Parallel(n_jobs=1)]: Done   1 out of   1 | elapsed:    0.0s finished\n",
      "[Parallel(n_jobs=1)]: Using backend SequentialBackend with 1 concurrent workers.\n",
      "[Parallel(n_jobs=1)]: Done   1 out of   1 | elapsed:    0.0s remaining:    0.0s\n",
      "[Parallel(n_jobs=1)]: Done   1 out of   1 | elapsed:    0.0s finished\n",
      "[Parallel(n_jobs=1)]: Using backend SequentialBackend with 1 concurrent workers.\n",
      "[Parallel(n_jobs=1)]: Done   1 out of   1 | elapsed:    0.0s remaining:    0.0s\n",
      "[Parallel(n_jobs=1)]: Done   1 out of   1 | elapsed:    0.0s finished\n",
      "[Parallel(n_jobs=1)]: Using backend SequentialBackend with 1 concurrent workers.\n",
      "[Parallel(n_jobs=1)]: Done   1 out of   1 | elapsed:    0.0s remaining:    0.0s\n",
      "[Parallel(n_jobs=1)]: Done   1 out of   1 | elapsed:    0.0s finished\n",
      "[Parallel(n_jobs=1)]: Using backend SequentialBackend with 1 concurrent workers.\n",
      "[Parallel(n_jobs=1)]: Done   1 out of   1 | elapsed:    0.0s remaining:    0.0s\n",
      "[Parallel(n_jobs=1)]: Done   1 out of   1 | elapsed:    0.0s finished\n",
      "[Parallel(n_jobs=1)]: Using backend SequentialBackend with 1 concurrent workers.\n",
      "[Parallel(n_jobs=1)]: Done   1 out of   1 | elapsed:    0.0s remaining:    0.0s\n",
      "[Parallel(n_jobs=1)]: Done   1 out of   1 | elapsed:    0.0s finished\n",
      "[Parallel(n_jobs=1)]: Using backend SequentialBackend with 1 concurrent workers.\n",
      "[Parallel(n_jobs=1)]: Done   1 out of   1 | elapsed:    0.0s remaining:    0.0s\n",
      "[Parallel(n_jobs=1)]: Done   1 out of   1 | elapsed:    0.0s finished\n",
      "[Parallel(n_jobs=1)]: Using backend SequentialBackend with 1 concurrent workers.\n",
      "[Parallel(n_jobs=1)]: Done   1 out of   1 | elapsed:    0.0s remaining:    0.0s\n",
      "[Parallel(n_jobs=1)]: Done   1 out of   1 | elapsed:    0.0s finished\n",
      "[Parallel(n_jobs=1)]: Using backend SequentialBackend with 1 concurrent workers.\n",
      "[Parallel(n_jobs=1)]: Done   1 out of   1 | elapsed:    0.0s remaining:    0.0s\n",
      "[Parallel(n_jobs=1)]: Done   1 out of   1 | elapsed:    0.0s finished\n",
      "[Parallel(n_jobs=1)]: Using backend SequentialBackend with 1 concurrent workers.\n",
      "[Parallel(n_jobs=1)]: Done   1 out of   1 | elapsed:    0.0s remaining:    0.0s\n",
      "[Parallel(n_jobs=1)]: Done   1 out of   1 | elapsed:    0.0s finished\n",
      "[Parallel(n_jobs=1)]: Using backend SequentialBackend with 1 concurrent workers.\n",
      "[Parallel(n_jobs=1)]: Done   1 out of   1 | elapsed:    0.0s remaining:    0.0s\n",
      "[Parallel(n_jobs=1)]: Done   1 out of   1 | elapsed:    0.0s finished\n",
      "[Parallel(n_jobs=1)]: Using backend SequentialBackend with 1 concurrent workers.\n",
      "[Parallel(n_jobs=1)]: Done   1 out of   1 | elapsed:    0.0s remaining:    0.0s\n",
      "[Parallel(n_jobs=1)]: Done   1 out of   1 | elapsed:    0.0s finished\n",
      "[Parallel(n_jobs=1)]: Using backend SequentialBackend with 1 concurrent workers.\n",
      "[Parallel(n_jobs=1)]: Done   1 out of   1 | elapsed:    0.0s remaining:    0.0s\n",
      "[Parallel(n_jobs=1)]: Done   1 out of   1 | elapsed:    0.0s finished\n",
      "[Parallel(n_jobs=1)]: Using backend SequentialBackend with 1 concurrent workers.\n",
      "[Parallel(n_jobs=1)]: Done   1 out of   1 | elapsed:    0.0s remaining:    0.0s\n",
      "[Parallel(n_jobs=1)]: Done   1 out of   1 | elapsed:    0.0s finished\n",
      "[Parallel(n_jobs=1)]: Using backend SequentialBackend with 1 concurrent workers.\n",
      "[Parallel(n_jobs=1)]: Done   1 out of   1 | elapsed:    0.0s remaining:    0.0s\n",
      "[Parallel(n_jobs=1)]: Done   1 out of   1 | elapsed:    0.0s finished\n",
      "[Parallel(n_jobs=1)]: Using backend SequentialBackend with 1 concurrent workers.\n",
      "[Parallel(n_jobs=1)]: Done   1 out of   1 | elapsed:    0.0s remaining:    0.0s\n",
      "[Parallel(n_jobs=1)]: Done   1 out of   1 | elapsed:    0.0s finished\n",
      "[Parallel(n_jobs=1)]: Using backend SequentialBackend with 1 concurrent workers.\n",
      "[Parallel(n_jobs=1)]: Done   1 out of   1 | elapsed:    0.0s remaining:    0.0s\n",
      "[Parallel(n_jobs=1)]: Done   1 out of   1 | elapsed:    0.0s finished\n",
      "[Parallel(n_jobs=1)]: Using backend SequentialBackend with 1 concurrent workers.\n"
     ]
    },
    {
     "name": "stdout",
     "output_type": "stream",
     "text": [
      "Building estimator 4 of 9 for this parallel run (total 9)...\n",
      "Building estimator 5 of 9 for this parallel run (total 9)...\n",
      "Building estimator 6 of 9 for this parallel run (total 9)...\n",
      "Building estimator 7 of 9 for this parallel run (total 9)...\n",
      "Building estimator 8 of 9 for this parallel run (total 9)...\n",
      "Building estimator 9 of 9 for this parallel run (total 9)...\n",
      "Building estimator 1 of 9 for this parallel run (total 9)...\n",
      "Building estimator 2 of 9 for this parallel run (total 9)...\n",
      "Building estimator 3 of 9 for this parallel run (total 9)...\n",
      "Building estimator 4 of 9 for this parallel run (total 9)...\n",
      "Building estimator 5 of 9 for this parallel run (total 9)...\n",
      "Building estimator 6 of 9 for this parallel run (total 9)...\n",
      "Building estimator 7 of 9 for this parallel run (total 9)...\n",
      "Building estimator 8 of 9 for this parallel run (total 9)...\n",
      "Building estimator 9 of 9 for this parallel run (total 9)...\n",
      "Building estimator 1 of 9 for this parallel run (total 9)...\n",
      "Building estimator 2 of 9 for this parallel run (total 9)...\n",
      "Building estimator 3 of 9 for this parallel run (total 9)...\n",
      "Building estimator 4 of 9 for this parallel run (total 9)...\n",
      "Building estimator 5 of 9 for this parallel run (total 9)...\n",
      "Building estimator 6 of 9 for this parallel run (total 9)...\n",
      "Building estimator 7 of 9 for this parallel run (total 9)...\n",
      "Building estimator 8 of 9 for this parallel run (total 9)...\n",
      "Building estimator 9 of 9 for this parallel run (total 9)...\n",
      "Building estimator 1 of 9 for this parallel run (total 9)...\n",
      "Building estimator 2 of 9 for this parallel run (total 9)...\n",
      "Building estimator 3 of 9 for this parallel run (total 9)...\n",
      "Building estimator 4 of 9 for this parallel run (total 9)...\n",
      "Building estimator 5 of 9 for this parallel run (total 9)...\n",
      "Building estimator 6 of 9 for this parallel run (total 9)...\n",
      "Building estimator 7 of 9 for this parallel run (total 9)...\n",
      "Building estimator 8 of 9 for this parallel run (total 9)...\n",
      "Building estimator 9 of 9 for this parallel run (total 9)...\n",
      "Building estimator 1 of 9 for this parallel run (total 9)...\n",
      "Building estimator 2 of 9 for this parallel run (total 9)...\n",
      "Building estimator 3 of 9 for this parallel run (total 9)...\n",
      "Building estimator 4 of 9 for this parallel run (total 9)...\n",
      "Building estimator 5 of 9 for this parallel run (total 9)...\n",
      "Building estimator 6 of 9 for this parallel run (total 9)...\n",
      "Building estimator 7 of 9 for this parallel run (total 9)...\n",
      "Building estimator 8 of 9 for this parallel run (total 9)...\n",
      "Building estimator 9 of 9 for this parallel run (total 9)...\n",
      "Building estimator 1 of 9 for this parallel run (total 9)...\n",
      "Building estimator 2 of 9 for this parallel run (total 9)...\n",
      "Building estimator 3 of 9 for this parallel run (total 9)...\n",
      "Building estimator 4 of 9 for this parallel run (total 9)...\n",
      "Building estimator 5 of 9 for this parallel run (total 9)...\n",
      "Building estimator 6 of 9 for this parallel run (total 9)...\n",
      "Building estimator 7 of 9 for this parallel run (total 9)...\n",
      "Building estimator 8 of 9 for this parallel run (total 9)...\n",
      "Building estimator 9 of 9 for this parallel run (total 9)...\n"
     ]
    },
    {
     "name": "stderr",
     "output_type": "stream",
     "text": [
      "[Parallel(n_jobs=1)]: Done   1 out of   1 | elapsed:    0.0s remaining:    0.0s\n",
      "[Parallel(n_jobs=1)]: Done   1 out of   1 | elapsed:    0.0s finished\n",
      "[Parallel(n_jobs=1)]: Using backend SequentialBackend with 1 concurrent workers.\n",
      "[Parallel(n_jobs=1)]: Done   1 out of   1 | elapsed:    0.0s remaining:    0.0s\n",
      "[Parallel(n_jobs=1)]: Done   1 out of   1 | elapsed:    0.0s finished\n",
      "[Parallel(n_jobs=1)]: Using backend SequentialBackend with 1 concurrent workers.\n",
      "[Parallel(n_jobs=1)]: Done   1 out of   1 | elapsed:    0.0s remaining:    0.0s\n",
      "[Parallel(n_jobs=1)]: Done   1 out of   1 | elapsed:    0.0s finished\n",
      "[Parallel(n_jobs=1)]: Using backend SequentialBackend with 1 concurrent workers.\n",
      "[Parallel(n_jobs=1)]: Done   1 out of   1 | elapsed:    0.0s remaining:    0.0s\n",
      "[Parallel(n_jobs=1)]: Done   1 out of   1 | elapsed:    0.0s finished\n",
      "[Parallel(n_jobs=1)]: Using backend SequentialBackend with 1 concurrent workers.\n",
      "[Parallel(n_jobs=1)]: Done   1 out of   1 | elapsed:    0.0s finished\n",
      "[Parallel(n_jobs=1)]: Using backend SequentialBackend with 1 concurrent workers.\n",
      "[Parallel(n_jobs=1)]: Done   1 out of   1 | elapsed:    0.0s finished\n",
      "[Parallel(n_jobs=1)]: Using backend SequentialBackend with 1 concurrent workers.\n",
      "[Parallel(n_jobs=1)]: Done   1 out of   1 | elapsed:    0.0s finished\n",
      "[Parallel(n_jobs=1)]: Using backend SequentialBackend with 1 concurrent workers.\n",
      "[Parallel(n_jobs=1)]: Done   1 out of   1 | elapsed:    0.0s finished\n",
      "[Parallel(n_jobs=1)]: Using backend SequentialBackend with 1 concurrent workers.\n",
      "[Parallel(n_jobs=1)]: Done   1 out of   1 | elapsed:    0.0s finished\n",
      "[Parallel(n_jobs=1)]: Using backend SequentialBackend with 1 concurrent workers.\n",
      "[Parallel(n_jobs=1)]: Done   1 out of   1 | elapsed:    0.0s finished\n",
      "[Parallel(n_jobs=1)]: Using backend SequentialBackend with 1 concurrent workers.\n",
      "[Parallel(n_jobs=1)]: Done   1 out of   1 | elapsed:    0.0s finished\n",
      "[Parallel(n_jobs=1)]: Using backend SequentialBackend with 1 concurrent workers.\n",
      "[Parallel(n_jobs=1)]: Done   1 out of   1 | elapsed:    0.0s finished\n",
      "[Parallel(n_jobs=1)]: Using backend SequentialBackend with 1 concurrent workers.\n",
      "[Parallel(n_jobs=1)]: Done   1 out of   1 | elapsed:    0.0s finished\n",
      "[Parallel(n_jobs=1)]: Using backend SequentialBackend with 1 concurrent workers.\n",
      "[Parallel(n_jobs=1)]: Done   1 out of   1 | elapsed:    0.0s finished\n",
      "[Parallel(n_jobs=1)]: Using backend SequentialBackend with 1 concurrent workers.\n",
      "[Parallel(n_jobs=1)]: Done   1 out of   1 | elapsed:    0.0s remaining:    0.0s\n",
      "[Parallel(n_jobs=1)]: Done   1 out of   1 | elapsed:    0.0s finished\n",
      "[Parallel(n_jobs=1)]: Using backend SequentialBackend with 1 concurrent workers.\n",
      "[Parallel(n_jobs=1)]: Done   1 out of   1 | elapsed:    0.0s remaining:    0.0s\n",
      "[Parallel(n_jobs=1)]: Done   1 out of   1 | elapsed:    0.0s finished\n",
      "[Parallel(n_jobs=1)]: Using backend SequentialBackend with 1 concurrent workers.\n",
      "[Parallel(n_jobs=1)]: Done   1 out of   1 | elapsed:    0.0s remaining:    0.0s\n",
      "[Parallel(n_jobs=1)]: Done   1 out of   1 | elapsed:    0.0s finished\n",
      "[Parallel(n_jobs=1)]: Using backend SequentialBackend with 1 concurrent workers.\n",
      "[Parallel(n_jobs=1)]: Done   1 out of   1 | elapsed:    0.0s remaining:    0.0s\n",
      "[Parallel(n_jobs=1)]: Done   1 out of   1 | elapsed:    0.0s finished\n",
      "[Parallel(n_jobs=1)]: Using backend SequentialBackend with 1 concurrent workers.\n"
     ]
    },
    {
     "name": "stdout",
     "output_type": "stream",
     "text": [
      "Building estimator 1 of 10 for this parallel run (total 10)...\n",
      "Building estimator 2 of 10 for this parallel run (total 10)...\n",
      "Building estimator 3 of 10 for this parallel run (total 10)...\n",
      "Building estimator 4 of 10 for this parallel run (total 10)...\n",
      "Building estimator 5 of 10 for this parallel run (total 10)...\n",
      "Building estimator 6 of 10 for this parallel run (total 10)...\n",
      "Building estimator 7 of 10 for this parallel run (total 10)...\n",
      "Building estimator 8 of 10 for this parallel run (total 10)...\n",
      "Building estimator 9 of 10 for this parallel run (total 10)...\n",
      "Building estimator 10 of 10 for this parallel run (total 10)...\n",
      "Building estimator 1 of 10 for this parallel run (total 10)...\n",
      "Building estimator 2 of 10 for this parallel run (total 10)...\n",
      "Building estimator 3 of 10 for this parallel run (total 10)...\n",
      "Building estimator 4 of 10 for this parallel run (total 10)...\n",
      "Building estimator 5 of 10 for this parallel run (total 10)...\n",
      "Building estimator 6 of 10 for this parallel run (total 10)...\n",
      "Building estimator 7 of 10 for this parallel run (total 10)...\n",
      "Building estimator 8 of 10 for this parallel run (total 10)...\n",
      "Building estimator 9 of 10 for this parallel run (total 10)...\n",
      "Building estimator 10 of 10 for this parallel run (total 10)...\n",
      "Building estimator 1 of 10 for this parallel run (total 10)...\n",
      "Building estimator 2 of 10 for this parallel run (total 10)...\n",
      "Building estimator 3 of 10 for this parallel run (total 10)...\n",
      "Building estimator 4 of 10 for this parallel run (total 10)...\n",
      "Building estimator 5 of 10 for this parallel run (total 10)...\n",
      "Building estimator 6 of 10 for this parallel run (total 10)...\n",
      "Building estimator 7 of 10 for this parallel run (total 10)...\n",
      "Building estimator 8 of 10 for this parallel run (total 10)...\n",
      "Building estimator 9 of 10 for this parallel run (total 10)...\n",
      "Building estimator 10 of 10 for this parallel run (total 10)...\n",
      "Building estimator 1 of 10 for this parallel run (total 10)...\n",
      "Building estimator 2 of 10 for this parallel run (total 10)...\n",
      "Building estimator 3 of 10 for this parallel run (total 10)...\n",
      "Building estimator 4 of 10 for this parallel run (total 10)...\n",
      "Building estimator 5 of 10 for this parallel run (total 10)...\n",
      "Building estimator 6 of 10 for this parallel run (total 10)...\n",
      "Building estimator 7 of 10 for this parallel run (total 10)...\n",
      "Building estimator 8 of 10 for this parallel run (total 10)...\n",
      "Building estimator 9 of 10 for this parallel run (total 10)...\n",
      "Building estimator 10 of 10 for this parallel run (total 10)...\n",
      "Building estimator 1 of 10 for this parallel run (total 10)...\n",
      "Building estimator 2 of 10 for this parallel run (total 10)...\n",
      "Building estimator 3 of 10 for this parallel run (total 10)...\n",
      "Building estimator 4 of 10 for this parallel run (total 10)...\n",
      "Building estimator 5 of 10 for this parallel run (total 10)...\n",
      "Building estimator 6 of 10 for this parallel run (total 10)...\n",
      "Building estimator 7 of 10 for this parallel run (total 10)...\n",
      "Building estimator 8 of 10 for this parallel run (total 10)...\n",
      "Building estimator 9 of 10 for this parallel run (total 10)...\n",
      "Building estimator 10 of 10 for this parallel run (total 10)...\n",
      "Building estimator 1 of 10 for this parallel run (total 10)...\n",
      "Building estimator 2 of 10 for this parallel run (total 10)...\n",
      "Building estimator 3 of 10 for this parallel run (total 10)...\n",
      "Building estimator 4 of 10 for this parallel run (total 10)...\n",
      "Building estimator 5 of 10 for this parallel run (total 10)...\n",
      "Building estimator 6 of 10 for this parallel run (total 10)...\n",
      "Building estimator 7 of 10 for this parallel run (total 10)...\n",
      "Building estimator 8 of 10 for this parallel run (total 10)...\n",
      "Building estimator 9 of 10 for this parallel run (total 10)...\n",
      "Building estimator 10 of 10 for this parallel run (total 10)...\n",
      "Building estimator 1 of 10 for this parallel run (total 10)...\n",
      "Building estimator 2 of 10 for this parallel run (total 10)...\n",
      "Building estimator 3 of 10 for this parallel run (total 10)...\n",
      "Building estimator 4 of 10 for this parallel run (total 10)...\n",
      "Building estimator 5 of 10 for this parallel run (total 10)...\n",
      "Building estimator 6 of 10 for this parallel run (total 10)...\n",
      "Building estimator 7 of 10 for this parallel run (total 10)...\n",
      "Building estimator 8 of 10 for this parallel run (total 10)...\n",
      "Building estimator 9 of 10 for this parallel run (total 10)...\n",
      "Building estimator 10 of 10 for this parallel run (total 10)...\n",
      "Building estimator 1 of 10 for this parallel run (total 10)...\n",
      "Building estimator 2 of 10 for this parallel run (total 10)...\n",
      "Building estimator 3 of 10 for this parallel run (total 10)...\n",
      "Building estimator 4 of 10 for this parallel run (total 10)...\n",
      "Building estimator 5 of 10 for this parallel run (total 10)...\n",
      "Building estimator 6 of 10 for this parallel run (total 10)...\n",
      "Building estimator 7 of 10 for this parallel run (total 10)...\n",
      "Building estimator 8 of 10 for this parallel run (total 10)...\n",
      "Building estimator 9 of 10 for this parallel run (total 10)...\n",
      "Building estimator 10 of 10 for this parallel run (total 10)...\n",
      "Building estimator 1 of 10 for this parallel run (total 10)...\n",
      "Building estimator 2 of 10 for this parallel run (total 10)...\n",
      "Building estimator 3 of 10 for this parallel run (total 10)...\n",
      "Building estimator 4 of 10 for this parallel run (total 10)...\n",
      "Building estimator 5 of 10 for this parallel run (total 10)..."
     ]
    },
    {
     "name": "stderr",
     "output_type": "stream",
     "text": [
      "[Parallel(n_jobs=1)]: Done   1 out of   1 | elapsed:    0.0s remaining:    0.0s\n",
      "[Parallel(n_jobs=1)]: Done   1 out of   1 | elapsed:    0.0s finished\n",
      "[Parallel(n_jobs=1)]: Using backend SequentialBackend with 1 concurrent workers.\n",
      "[Parallel(n_jobs=1)]: Done   1 out of   1 | elapsed:    0.0s remaining:    0.0s\n",
      "[Parallel(n_jobs=1)]: Done   1 out of   1 | elapsed:    0.0s finished\n",
      "[Parallel(n_jobs=1)]: Using backend SequentialBackend with 1 concurrent workers.\n",
      "[Parallel(n_jobs=1)]: Done   1 out of   1 | elapsed:    0.0s remaining:    0.0s\n",
      "[Parallel(n_jobs=1)]: Done   1 out of   1 | elapsed:    0.0s finished\n",
      "[Parallel(n_jobs=1)]: Using backend SequentialBackend with 1 concurrent workers.\n",
      "[Parallel(n_jobs=1)]: Done   1 out of   1 | elapsed:    0.0s remaining:    0.0s\n",
      "[Parallel(n_jobs=1)]: Done   1 out of   1 | elapsed:    0.0s finished\n",
      "[Parallel(n_jobs=1)]: Using backend SequentialBackend with 1 concurrent workers.\n",
      "[Parallel(n_jobs=1)]: Done   1 out of   1 | elapsed:    0.0s remaining:    0.0s\n",
      "[Parallel(n_jobs=1)]: Done   1 out of   1 | elapsed:    0.0s finished\n",
      "[Parallel(n_jobs=1)]: Using backend SequentialBackend with 1 concurrent workers.\n",
      "[Parallel(n_jobs=1)]: Done   1 out of   1 | elapsed:    0.0s remaining:    0.0s\n",
      "[Parallel(n_jobs=1)]: Done   1 out of   1 | elapsed:    0.0s finished\n",
      "[Parallel(n_jobs=1)]: Using backend SequentialBackend with 1 concurrent workers.\n",
      "[Parallel(n_jobs=1)]: Done   1 out of   1 | elapsed:    0.0s remaining:    0.0s\n",
      "[Parallel(n_jobs=1)]: Done   1 out of   1 | elapsed:    0.0s finished\n",
      "[Parallel(n_jobs=1)]: Using backend SequentialBackend with 1 concurrent workers.\n",
      "[Parallel(n_jobs=1)]: Done   1 out of   1 | elapsed:    0.0s remaining:    0.0s\n",
      "[Parallel(n_jobs=1)]: Done   1 out of   1 | elapsed:    0.0s finished\n",
      "[Parallel(n_jobs=1)]: Using backend SequentialBackend with 1 concurrent workers.\n",
      "[Parallel(n_jobs=1)]: Done   1 out of   1 | elapsed:    0.0s remaining:    0.0s\n",
      "[Parallel(n_jobs=1)]: Done   1 out of   1 | elapsed:    0.0s finished\n",
      "[Parallel(n_jobs=1)]: Using backend SequentialBackend with 1 concurrent workers.\n",
      "[Parallel(n_jobs=1)]: Done   1 out of   1 | elapsed:    0.0s remaining:    0.0s\n",
      "[Parallel(n_jobs=1)]: Done   1 out of   1 | elapsed:    0.0s finished\n",
      "[Parallel(n_jobs=1)]: Using backend SequentialBackend with 1 concurrent workers.\n",
      "[Parallel(n_jobs=1)]: Done   1 out of   1 | elapsed:    0.0s remaining:    0.0s\n",
      "[Parallel(n_jobs=1)]: Done   1 out of   1 | elapsed:    0.0s finished\n",
      "[Parallel(n_jobs=1)]: Using backend SequentialBackend with 1 concurrent workers.\n",
      "[Parallel(n_jobs=1)]: Done   1 out of   1 | elapsed:    0.0s remaining:    0.0s\n",
      "[Parallel(n_jobs=1)]: Done   1 out of   1 | elapsed:    0.0s finished\n",
      "[Parallel(n_jobs=1)]: Using backend SequentialBackend with 1 concurrent workers.\n",
      "[Parallel(n_jobs=1)]: Done   1 out of   1 | elapsed:    0.0s remaining:    0.0s\n",
      "[Parallel(n_jobs=1)]: Done   1 out of   1 | elapsed:    0.0s finished\n",
      "[Parallel(n_jobs=1)]: Using backend SequentialBackend with 1 concurrent workers.\n",
      "[Parallel(n_jobs=1)]: Done   1 out of   1 | elapsed:    0.0s remaining:    0.0s\n",
      "[Parallel(n_jobs=1)]: Done   1 out of   1 | elapsed:    0.0s finished\n",
      "[Parallel(n_jobs=1)]: Using backend SequentialBackend with 1 concurrent workers.\n",
      "[Parallel(n_jobs=1)]: Done   1 out of   1 | elapsed:    0.0s remaining:    0.0s\n",
      "[Parallel(n_jobs=1)]: Done   1 out of   1 | elapsed:    0.0s finished\n",
      "[Parallel(n_jobs=1)]: Using backend SequentialBackend with 1 concurrent workers.\n",
      "[Parallel(n_jobs=1)]: Done   1 out of   1 | elapsed:    0.0s remaining:    0.0s\n",
      "[Parallel(n_jobs=1)]: Done   1 out of   1 | elapsed:    0.0s finished\n",
      "[Parallel(n_jobs=1)]: Using backend SequentialBackend with 1 concurrent workers.\n"
     ]
    },
    {
     "name": "stdout",
     "output_type": "stream",
     "text": [
      "\n",
      "Building estimator 6 of 10 for this parallel run (total 10)...\n",
      "Building estimator 7 of 10 for this parallel run (total 10)...\n",
      "Building estimator 8 of 10 for this parallel run (total 10)...\n",
      "Building estimator 9 of 10 for this parallel run (total 10)...\n",
      "Building estimator 10 of 10 for this parallel run (total 10)...\n",
      "Building estimator 1 of 10 for this parallel run (total 10)...\n",
      "Building estimator 2 of 10 for this parallel run (total 10)...\n",
      "Building estimator 3 of 10 for this parallel run (total 10)...\n",
      "Building estimator 4 of 10 for this parallel run (total 10)...\n",
      "Building estimator 5 of 10 for this parallel run (total 10)...\n",
      "Building estimator 6 of 10 for this parallel run (total 10)...\n",
      "Building estimator 7 of 10 for this parallel run (total 10)...\n",
      "Building estimator 8 of 10 for this parallel run (total 10)...\n",
      "Building estimator 9 of 10 for this parallel run (total 10)...\n",
      "Building estimator 10 of 10 for this parallel run (total 10)...\n",
      "Building estimator 1 of 10 for this parallel run (total 10)...\n",
      "Building estimator 2 of 10 for this parallel run (total 10)...\n",
      "Building estimator 3 of 10 for this parallel run (total 10)...\n",
      "Building estimator 4 of 10 for this parallel run (total 10)...\n",
      "Building estimator 5 of 10 for this parallel run (total 10)...\n",
      "Building estimator 6 of 10 for this parallel run (total 10)...\n",
      "Building estimator 7 of 10 for this parallel run (total 10)...\n",
      "Building estimator 8 of 10 for this parallel run (total 10)...\n",
      "Building estimator 9 of 10 for this parallel run (total 10)...\n",
      "Building estimator 10 of 10 for this parallel run (total 10)...\n",
      "Building estimator 1 of 10 for this parallel run (total 10)...\n",
      "Building estimator 2 of 10 for this parallel run (total 10)...\n",
      "Building estimator 3 of 10 for this parallel run (total 10)...\n",
      "Building estimator 4 of 10 for this parallel run (total 10)...\n",
      "Building estimator 5 of 10 for this parallel run (total 10)...\n",
      "Building estimator 6 of 10 for this parallel run (total 10)...\n",
      "Building estimator 7 of 10 for this parallel run (total 10)...\n",
      "Building estimator 8 of 10 for this parallel run (total 10)...\n",
      "Building estimator 9 of 10 for this parallel run (total 10)...\n",
      "Building estimator 10 of 10 for this parallel run (total 10)...\n",
      "Building estimator 1 of 10 for this parallel run (total 10)...\n",
      "Building estimator 2 of 10 for this parallel run (total 10)...\n",
      "Building estimator 3 of 10 for this parallel run (total 10)...\n",
      "Building estimator 4 of 10 for this parallel run (total 10)...\n",
      "Building estimator 5 of 10 for this parallel run (total 10)...\n",
      "Building estimator 6 of 10 for this parallel run (total 10)...\n",
      "Building estimator 7 of 10 for this parallel run (total 10)...\n",
      "Building estimator 8 of 10 for this parallel run (total 10)...\n",
      "Building estimator 9 of 10 for this parallel run (total 10)...\n",
      "Building estimator 10 of 10 for this parallel run (total 10)...\n",
      "Building estimator 1 of 10 for this parallel run (total 10)...\n",
      "Building estimator 2 of 10 for this parallel run (total 10)...\n",
      "Building estimator 3 of 10 for this parallel run (total 10)...\n",
      "Building estimator 4 of 10 for this parallel run (total 10)...\n",
      "Building estimator 5 of 10 for this parallel run (total 10)...\n",
      "Building estimator 6 of 10 for this parallel run (total 10)...\n",
      "Building estimator 7 of 10 for this parallel run (total 10)...\n",
      "Building estimator 8 of 10 for this parallel run (total 10)...\n",
      "Building estimator 9 of 10 for this parallel run (total 10)...\n",
      "Building estimator 10 of 10 for this parallel run (total 10)...\n",
      "Building estimator 1 of 10 for this parallel run (total 10)...\n",
      "Building estimator 2 of 10 for this parallel run (total 10)...\n",
      "Building estimator 3 of 10 for this parallel run (total 10)...\n",
      "Building estimator 4 of 10 for this parallel run (total 10)...\n",
      "Building estimator 5 of 10 for this parallel run (total 10)...\n",
      "Building estimator 6 of 10 for this parallel run (total 10)...\n",
      "Building estimator 7 of 10 for this parallel run (total 10)...\n",
      "Building estimator 8 of 10 for this parallel run (total 10)...\n",
      "Building estimator 9 of 10 for this parallel run (total 10)...\n",
      "Building estimator 10 of 10 for this parallel run (total 10)...\n"
     ]
    },
    {
     "name": "stderr",
     "output_type": "stream",
     "text": [
      "[Parallel(n_jobs=1)]: Done   1 out of   1 | elapsed:    0.0s remaining:    0.0s\n",
      "[Parallel(n_jobs=1)]: Done   1 out of   1 | elapsed:    0.0s finished\n",
      "[Parallel(n_jobs=1)]: Using backend SequentialBackend with 1 concurrent workers.\n",
      "[Parallel(n_jobs=1)]: Done   1 out of   1 | elapsed:    0.0s remaining:    0.0s\n",
      "[Parallel(n_jobs=1)]: Done   1 out of   1 | elapsed:    0.0s finished\n",
      "[Parallel(n_jobs=1)]: Using backend SequentialBackend with 1 concurrent workers.\n",
      "[Parallel(n_jobs=1)]: Done   1 out of   1 | elapsed:    0.0s remaining:    0.0s\n",
      "[Parallel(n_jobs=1)]: Done   1 out of   1 | elapsed:    0.0s finished\n",
      "[Parallel(n_jobs=1)]: Using backend SequentialBackend with 1 concurrent workers.\n",
      "[Parallel(n_jobs=1)]: Done   1 out of   1 | elapsed:    0.0s remaining:    0.0s\n",
      "[Parallel(n_jobs=1)]: Done   1 out of   1 | elapsed:    0.0s finished\n",
      "[Parallel(n_jobs=1)]: Using backend SequentialBackend with 1 concurrent workers.\n",
      "[Parallel(n_jobs=1)]: Done   1 out of   1 | elapsed:    0.0s remaining:    0.0s\n",
      "[Parallel(n_jobs=1)]: Done   1 out of   1 | elapsed:    0.0s finished\n",
      "[Parallel(n_jobs=1)]: Using backend SequentialBackend with 1 concurrent workers.\n",
      "[Parallel(n_jobs=1)]: Done   1 out of   1 | elapsed:    0.0s remaining:    0.0s\n",
      "[Parallel(n_jobs=1)]: Done   1 out of   1 | elapsed:    0.0s finished\n",
      "[Parallel(n_jobs=1)]: Using backend SequentialBackend with 1 concurrent workers.\n",
      "[Parallel(n_jobs=1)]: Done   1 out of   1 | elapsed:    0.0s remaining:    0.0s\n",
      "[Parallel(n_jobs=1)]: Done   1 out of   1 | elapsed:    0.0s finished\n",
      "[Parallel(n_jobs=1)]: Using backend SequentialBackend with 1 concurrent workers.\n",
      "[Parallel(n_jobs=1)]: Done   1 out of   1 | elapsed:    0.0s remaining:    0.0s\n",
      "[Parallel(n_jobs=1)]: Done   1 out of   1 | elapsed:    0.0s finished\n",
      "[Parallel(n_jobs=1)]: Using backend SequentialBackend with 1 concurrent workers.\n",
      "[Parallel(n_jobs=1)]: Done   1 out of   1 | elapsed:    0.0s remaining:    0.0s\n",
      "[Parallel(n_jobs=1)]: Done   1 out of   1 | elapsed:    0.0s finished\n",
      "[Parallel(n_jobs=1)]: Using backend SequentialBackend with 1 concurrent workers.\n",
      "[Parallel(n_jobs=1)]: Done   1 out of   1 | elapsed:    0.0s remaining:    0.0s\n",
      "[Parallel(n_jobs=1)]: Done   1 out of   1 | elapsed:    0.0s finished\n",
      "[Parallel(n_jobs=1)]: Using backend SequentialBackend with 1 concurrent workers.\n",
      "[Parallel(n_jobs=1)]: Done   1 out of   1 | elapsed:    0.0s finished\n",
      "[Parallel(n_jobs=1)]: Using backend SequentialBackend with 1 concurrent workers.\n",
      "[Parallel(n_jobs=1)]: Done   1 out of   1 | elapsed:    0.0s finished\n",
      "[Parallel(n_jobs=1)]: Using backend SequentialBackend with 1 concurrent workers.\n",
      "[Parallel(n_jobs=1)]: Done   1 out of   1 | elapsed:    0.0s finished\n",
      "[Parallel(n_jobs=1)]: Using backend SequentialBackend with 1 concurrent workers.\n",
      "[Parallel(n_jobs=1)]: Done   1 out of   1 | elapsed:    0.0s finished\n",
      "[Parallel(n_jobs=1)]: Using backend SequentialBackend with 1 concurrent workers.\n",
      "[Parallel(n_jobs=1)]: Done   1 out of   1 | elapsed:    0.0s finished\n",
      "[Parallel(n_jobs=1)]: Using backend SequentialBackend with 1 concurrent workers.\n",
      "[Parallel(n_jobs=1)]: Done   1 out of   1 | elapsed:    0.0s finished\n",
      "[Parallel(n_jobs=1)]: Using backend SequentialBackend with 1 concurrent workers.\n",
      "[Parallel(n_jobs=1)]: Done   1 out of   1 | elapsed:    0.0s finished\n",
      "[Parallel(n_jobs=1)]: Using backend SequentialBackend with 1 concurrent workers.\n",
      "[Parallel(n_jobs=1)]: Done   1 out of   1 | elapsed:    0.0s finished\n",
      "[Parallel(n_jobs=1)]: Using backend SequentialBackend with 1 concurrent workers.\n",
      "[Parallel(n_jobs=1)]: Done   1 out of   1 | elapsed:    0.0s finished\n",
      "[Parallel(n_jobs=1)]: Using backend SequentialBackend with 1 concurrent workers.\n",
      "[Parallel(n_jobs=1)]: Done   1 out of   1 | elapsed:    0.0s finished\n",
      "[Parallel(n_jobs=1)]: Using backend SequentialBackend with 1 concurrent workers.\n",
      "[Parallel(n_jobs=1)]: Done   1 out of   1 | elapsed:    0.0s remaining:    0.0s\n",
      "[Parallel(n_jobs=1)]: Done   1 out of   1 | elapsed:    0.0s finished\n",
      "[Parallel(n_jobs=1)]: Using backend SequentialBackend with 1 concurrent workers.\n",
      "[Parallel(n_jobs=1)]: Done   1 out of   1 | elapsed:    0.0s remaining:    0.0s\n",
      "[Parallel(n_jobs=1)]: Done   1 out of   1 | elapsed:    0.0s finished\n",
      "[Parallel(n_jobs=1)]: Using backend SequentialBackend with 1 concurrent workers.\n",
      "[Parallel(n_jobs=1)]: Done   1 out of   1 | elapsed:    0.0s remaining:    0.0s\n",
      "[Parallel(n_jobs=1)]: Done   1 out of   1 | elapsed:    0.0s finished\n",
      "[Parallel(n_jobs=1)]: Using backend SequentialBackend with 1 concurrent workers.\n",
      "[Parallel(n_jobs=1)]: Done   1 out of   1 | elapsed:    0.0s remaining:    0.0s\n",
      "[Parallel(n_jobs=1)]: Done   1 out of   1 | elapsed:    0.0s finished\n",
      "[Parallel(n_jobs=1)]: Using backend SequentialBackend with 1 concurrent workers.\n",
      "[Parallel(n_jobs=1)]: Done   1 out of   1 | elapsed:    0.0s remaining:    0.0s\n",
      "[Parallel(n_jobs=1)]: Done   1 out of   1 | elapsed:    0.0s finished\n",
      "[Parallel(n_jobs=1)]: Using backend SequentialBackend with 1 concurrent workers.\n",
      "[Parallel(n_jobs=1)]: Done   1 out of   1 | elapsed:    0.0s remaining:    0.0s\n",
      "[Parallel(n_jobs=1)]: Done   1 out of   1 | elapsed:    0.0s finished\n",
      "[Parallel(n_jobs=1)]: Using backend SequentialBackend with 1 concurrent workers.\n",
      "[Parallel(n_jobs=1)]: Done   1 out of   1 | elapsed:    0.0s remaining:    0.0s\n",
      "[Parallel(n_jobs=1)]: Done   1 out of   1 | elapsed:    0.0s finished\n",
      "[Parallel(n_jobs=1)]: Using backend SequentialBackend with 1 concurrent workers.\n",
      "[Parallel(n_jobs=1)]: Done   1 out of   1 | elapsed:    0.0s remaining:    0.0s\n",
      "[Parallel(n_jobs=1)]: Done   1 out of   1 | elapsed:    0.0s finished\n",
      "[Parallel(n_jobs=1)]: Using backend SequentialBackend with 1 concurrent workers.\n",
      "[Parallel(n_jobs=1)]: Done   1 out of   1 | elapsed:    0.0s remaining:    0.0s\n",
      "[Parallel(n_jobs=1)]: Done   1 out of   1 | elapsed:    0.0s finished\n",
      "[Parallel(n_jobs=1)]: Using backend SequentialBackend with 1 concurrent workers.\n",
      "[Parallel(n_jobs=1)]: Done   1 out of   1 | elapsed:    0.0s remaining:    0.0s\n",
      "[Parallel(n_jobs=1)]: Done   1 out of   1 | elapsed:    0.0s finished\n",
      "[Parallel(n_jobs=1)]: Using backend SequentialBackend with 1 concurrent workers.\n"
     ]
    },
    {
     "name": "stdout",
     "output_type": "stream",
     "text": [
      "Building estimator 1 of 11 for this parallel run (total 11)...\n",
      "Building estimator 2 of 11 for this parallel run (total 11)...\n",
      "Building estimator 3 of 11 for this parallel run (total 11)...\n",
      "Building estimator 4 of 11 for this parallel run (total 11)...\n",
      "Building estimator 5 of 11 for this parallel run (total 11)...\n",
      "Building estimator 6 of 11 for this parallel run (total 11)...\n",
      "Building estimator 7 of 11 for this parallel run (total 11)...\n",
      "Building estimator 8 of 11 for this parallel run (total 11)...\n",
      "Building estimator 9 of 11 for this parallel run (total 11)...\n",
      "Building estimator 10 of 11 for this parallel run (total 11)...\n",
      "Building estimator 11 of 11 for this parallel run (total 11)...\n",
      "Building estimator 1 of 11 for this parallel run (total 11)...\n",
      "Building estimator 2 of 11 for this parallel run (total 11)...\n",
      "Building estimator 3 of 11 for this parallel run (total 11)...\n",
      "Building estimator 4 of 11 for this parallel run (total 11)...\n",
      "Building estimator 5 of 11 for this parallel run (total 11)...\n",
      "Building estimator 6 of 11 for this parallel run (total 11)...\n",
      "Building estimator 7 of 11 for this parallel run (total 11)...\n",
      "Building estimator 8 of 11 for this parallel run (total 11)...\n",
      "Building estimator 9 of 11 for this parallel run (total 11)...\n",
      "Building estimator 10 of 11 for this parallel run (total 11)...\n",
      "Building estimator 11 of 11 for this parallel run (total 11)...\n",
      "Building estimator 1 of 11 for this parallel run (total 11)...\n",
      "Building estimator 2 of 11 for this parallel run (total 11)...\n",
      "Building estimator 3 of 11 for this parallel run (total 11)...\n",
      "Building estimator 4 of 11 for this parallel run (total 11)...\n",
      "Building estimator 5 of 11 for this parallel run (total 11)...\n",
      "Building estimator 6 of 11 for this parallel run (total 11)...\n",
      "Building estimator 7 of 11 for this parallel run (total 11)...\n",
      "Building estimator 8 of 11 for this parallel run (total 11)...\n",
      "Building estimator 9 of 11 for this parallel run (total 11)...\n",
      "Building estimator 10 of 11 for this parallel run (total 11)...\n",
      "Building estimator 11 of 11 for this parallel run (total 11)...\n",
      "Building estimator 1 of 11 for this parallel run (total 11)...\n",
      "Building estimator 2 of 11 for this parallel run (total 11)...\n",
      "Building estimator 3 of 11 for this parallel run (total 11)...\n",
      "Building estimator 4 of 11 for this parallel run (total 11)...\n",
      "Building estimator 5 of 11 for this parallel run (total 11)...\n",
      "Building estimator 6 of 11 for this parallel run (total 11)...\n",
      "Building estimator 7 of 11 for this parallel run (total 11)...\n",
      "Building estimator 8 of 11 for this parallel run (total 11)...\n",
      "Building estimator 9 of 11 for this parallel run (total 11)...\n",
      "Building estimator 10 of 11 for this parallel run (total 11)...\n",
      "Building estimator 11 of 11 for this parallel run (total 11)...\n",
      "Building estimator 1 of 11 for this parallel run (total 11)...\n",
      "Building estimator 2 of 11 for this parallel run (total 11)...\n",
      "Building estimator 3 of 11 for this parallel run (total 11)...\n",
      "Building estimator 4 of 11 for this parallel run (total 11)...\n",
      "Building estimator 5 of 11 for this parallel run (total 11)...\n",
      "Building estimator 6 of 11 for this parallel run (total 11)...\n",
      "Building estimator 7 of 11 for this parallel run (total 11)...\n",
      "Building estimator 8 of 11 for this parallel run (total 11)...\n",
      "Building estimator 9 of 11 for this parallel run (total 11)...\n",
      "Building estimator 10 of 11 for this parallel run (total 11)...\n",
      "Building estimator 11 of 11 for this parallel run (total 11)...\n",
      "Building estimator 1 of 11 for this parallel run (total 11)...\n",
      "Building estimator 2 of 11 for this parallel run (total 11)...\n",
      "Building estimator 3 of 11 for this parallel run (total 11)...\n",
      "Building estimator 4 of 11 for this parallel run (total 11)...\n",
      "Building estimator 5 of 11 for this parallel run (total 11)...\n",
      "Building estimator 6 of 11 for this parallel run (total 11)...\n",
      "Building estimator 7 of 11 for this parallel run (total 11)...\n",
      "Building estimator 8 of 11 for this parallel run (total 11)...\n",
      "Building estimator 9 of 11 for this parallel run (total 11)...\n",
      "Building estimator 10 of 11 for this parallel run (total 11)...\n",
      "Building estimator 11 of 11 for this parallel run (total 11)...\n",
      "Building estimator 1 of 11 for this parallel run (total 11)...\n",
      "Building estimator 2 of 11 for this parallel run (total 11)...\n",
      "Building estimator 3 of 11 for this parallel run (total 11)...\n",
      "Building estimator 4 of 11 for this parallel run (total 11)...\n",
      "Building estimator 5 of 11 for this parallel run (total 11)...\n",
      "Building estimator 6 of 11 for this parallel run (total 11)...\n",
      "Building estimator 7 of 11 for this parallel run (total 11)...\n",
      "Building estimator 8 of 11 for this parallel run (total 11)...\n",
      "Building estimator 9 of 11 for this parallel run (total 11)...\n",
      "Building estimator 10 of 11 for this parallel run (total 11)...\n",
      "Building estimator 11 of 11 for this parallel run (total 11)...\n",
      "Building estimator 1 of 11 for this parallel run (total 11)...\n",
      "Building estimator 2 of 11 for this parallel run (total 11)...\n",
      "Building estimator 3 of 11 for this parallel run (total 11)...\n"
     ]
    },
    {
     "name": "stderr",
     "output_type": "stream",
     "text": [
      "[Parallel(n_jobs=1)]: Done   1 out of   1 | elapsed:    0.0s remaining:    0.0s\n",
      "[Parallel(n_jobs=1)]: Done   1 out of   1 | elapsed:    0.0s finished\n",
      "[Parallel(n_jobs=1)]: Using backend SequentialBackend with 1 concurrent workers.\n",
      "[Parallel(n_jobs=1)]: Done   1 out of   1 | elapsed:    0.0s remaining:    0.0s\n",
      "[Parallel(n_jobs=1)]: Done   1 out of   1 | elapsed:    0.0s finished\n",
      "[Parallel(n_jobs=1)]: Using backend SequentialBackend with 1 concurrent workers.\n",
      "[Parallel(n_jobs=1)]: Done   1 out of   1 | elapsed:    0.0s remaining:    0.0s\n",
      "[Parallel(n_jobs=1)]: Done   1 out of   1 | elapsed:    0.0s finished\n",
      "[Parallel(n_jobs=1)]: Using backend SequentialBackend with 1 concurrent workers.\n",
      "[Parallel(n_jobs=1)]: Done   1 out of   1 | elapsed:    0.0s remaining:    0.0s\n",
      "[Parallel(n_jobs=1)]: Done   1 out of   1 | elapsed:    0.0s finished\n",
      "[Parallel(n_jobs=1)]: Using backend SequentialBackend with 1 concurrent workers.\n",
      "[Parallel(n_jobs=1)]: Done   1 out of   1 | elapsed:    0.0s remaining:    0.0s\n",
      "[Parallel(n_jobs=1)]: Done   1 out of   1 | elapsed:    0.0s finished\n",
      "[Parallel(n_jobs=1)]: Using backend SequentialBackend with 1 concurrent workers.\n",
      "[Parallel(n_jobs=1)]: Done   1 out of   1 | elapsed:    0.0s remaining:    0.0s\n",
      "[Parallel(n_jobs=1)]: Done   1 out of   1 | elapsed:    0.0s finished\n",
      "[Parallel(n_jobs=1)]: Using backend SequentialBackend with 1 concurrent workers.\n",
      "[Parallel(n_jobs=1)]: Done   1 out of   1 | elapsed:    0.0s remaining:    0.0s\n",
      "[Parallel(n_jobs=1)]: Done   1 out of   1 | elapsed:    0.0s finished\n",
      "[Parallel(n_jobs=1)]: Using backend SequentialBackend with 1 concurrent workers.\n",
      "[Parallel(n_jobs=1)]: Done   1 out of   1 | elapsed:    0.0s remaining:    0.0s\n",
      "[Parallel(n_jobs=1)]: Done   1 out of   1 | elapsed:    0.0s finished\n",
      "[Parallel(n_jobs=1)]: Using backend SequentialBackend with 1 concurrent workers.\n",
      "[Parallel(n_jobs=1)]: Done   1 out of   1 | elapsed:    0.0s remaining:    0.0s\n",
      "[Parallel(n_jobs=1)]: Done   1 out of   1 | elapsed:    0.0s finished\n",
      "[Parallel(n_jobs=1)]: Using backend SequentialBackend with 1 concurrent workers.\n",
      "[Parallel(n_jobs=1)]: Done   1 out of   1 | elapsed:    0.0s remaining:    0.0s\n",
      "[Parallel(n_jobs=1)]: Done   1 out of   1 | elapsed:    0.0s finished\n",
      "[Parallel(n_jobs=1)]: Using backend SequentialBackend with 1 concurrent workers.\n",
      "[Parallel(n_jobs=1)]: Done   1 out of   1 | elapsed:    0.0s remaining:    0.0s\n",
      "[Parallel(n_jobs=1)]: Done   1 out of   1 | elapsed:    0.0s finished\n",
      "[Parallel(n_jobs=1)]: Using backend SequentialBackend with 1 concurrent workers.\n",
      "[Parallel(n_jobs=1)]: Done   1 out of   1 | elapsed:    0.0s remaining:    0.0s\n",
      "[Parallel(n_jobs=1)]: Done   1 out of   1 | elapsed:    0.0s finished\n",
      "[Parallel(n_jobs=1)]: Using backend SequentialBackend with 1 concurrent workers.\n",
      "[Parallel(n_jobs=1)]: Done   1 out of   1 | elapsed:    0.0s remaining:    0.0s\n",
      "[Parallel(n_jobs=1)]: Done   1 out of   1 | elapsed:    0.0s finished\n",
      "[Parallel(n_jobs=1)]: Using backend SequentialBackend with 1 concurrent workers.\n",
      "[Parallel(n_jobs=1)]: Done   1 out of   1 | elapsed:    0.0s remaining:    0.0s\n",
      "[Parallel(n_jobs=1)]: Done   1 out of   1 | elapsed:    0.0s finished\n",
      "[Parallel(n_jobs=1)]: Using backend SequentialBackend with 1 concurrent workers.\n",
      "[Parallel(n_jobs=1)]: Done   1 out of   1 | elapsed:    0.0s remaining:    0.0s\n",
      "[Parallel(n_jobs=1)]: Done   1 out of   1 | elapsed:    0.0s finished\n",
      "[Parallel(n_jobs=1)]: Using backend SequentialBackend with 1 concurrent workers.\n",
      "[Parallel(n_jobs=1)]: Done   1 out of   1 | elapsed:    0.0s remaining:    0.0s\n",
      "[Parallel(n_jobs=1)]: Done   1 out of   1 | elapsed:    0.0s finished\n",
      "[Parallel(n_jobs=1)]: Using backend SequentialBackend with 1 concurrent workers.\n"
     ]
    },
    {
     "name": "stdout",
     "output_type": "stream",
     "text": [
      "Building estimator 4 of 11 for this parallel run (total 11)...\n",
      "Building estimator 5 of 11 for this parallel run (total 11)...\n",
      "Building estimator 6 of 11 for this parallel run (total 11)...\n",
      "Building estimator 7 of 11 for this parallel run (total 11)...\n",
      "Building estimator 8 of 11 for this parallel run (total 11)...\n",
      "Building estimator 9 of 11 for this parallel run (total 11)...\n",
      "Building estimator 10 of 11 for this parallel run (total 11)...\n",
      "Building estimator 11 of 11 for this parallel run (total 11)...\n",
      "Building estimator 1 of 11 for this parallel run (total 11)...\n",
      "Building estimator 2 of 11 for this parallel run (total 11)...\n",
      "Building estimator 3 of 11 for this parallel run (total 11)...\n",
      "Building estimator 4 of 11 for this parallel run (total 11)...\n",
      "Building estimator 5 of 11 for this parallel run (total 11)...\n",
      "Building estimator 6 of 11 for this parallel run (total 11)...\n",
      "Building estimator 7 of 11 for this parallel run (total 11)...\n",
      "Building estimator 8 of 11 for this parallel run (total 11)...\n",
      "Building estimator 9 of 11 for this parallel run (total 11)...\n",
      "Building estimator 10 of 11 for this parallel run (total 11)...\n",
      "Building estimator 11 of 11 for this parallel run (total 11)...\n",
      "Building estimator 1 of 11 for this parallel run (total 11)...\n",
      "Building estimator 2 of 11 for this parallel run (total 11)...\n",
      "Building estimator 3 of 11 for this parallel run (total 11)...\n",
      "Building estimator 4 of 11 for this parallel run (total 11)...\n",
      "Building estimator 5 of 11 for this parallel run (total 11)...\n",
      "Building estimator 6 of 11 for this parallel run (total 11)...\n",
      "Building estimator 7 of 11 for this parallel run (total 11)...\n",
      "Building estimator 8 of 11 for this parallel run (total 11)...\n",
      "Building estimator 9 of 11 for this parallel run (total 11)...\n",
      "Building estimator 10 of 11 for this parallel run (total 11)...\n",
      "Building estimator 11 of 11 for this parallel run (total 11)...\n",
      "Building estimator 1 of 11 for this parallel run (total 11)...\n",
      "Building estimator 2 of 11 for this parallel run (total 11)...\n",
      "Building estimator 3 of 11 for this parallel run (total 11)...\n",
      "Building estimator 4 of 11 for this parallel run (total 11)...\n",
      "Building estimator 5 of 11 for this parallel run (total 11)...\n",
      "Building estimator 6 of 11 for this parallel run (total 11)...\n",
      "Building estimator 7 of 11 for this parallel run (total 11)...\n",
      "Building estimator 8 of 11 for this parallel run (total 11)...\n",
      "Building estimator 9 of 11 for this parallel run (total 11)...\n",
      "Building estimator 10 of 11 for this parallel run (total 11)...\n",
      "Building estimator 11 of 11 for this parallel run (total 11)...\n",
      "Building estimator 1 of 11 for this parallel run (total 11)...\n",
      "Building estimator 2 of 11 for this parallel run (total 11)...\n",
      "Building estimator 3 of 11 for this parallel run (total 11)...\n",
      "Building estimator 4 of 11 for this parallel run (total 11)...\n",
      "Building estimator 5 of 11 for this parallel run (total 11)...\n",
      "Building estimator 6 of 11 for this parallel run (total 11)...\n",
      "Building estimator 7 of 11 for this parallel run (total 11)...\n",
      "Building estimator 8 of 11 for this parallel run (total 11)...\n",
      "Building estimator 9 of 11 for this parallel run (total 11)...\n",
      "Building estimator 10 of 11 for this parallel run (total 11)...\n",
      "Building estimator 11 of 11 for this parallel run (total 11)...\n",
      "Building estimator 1 of 11 for this parallel run (total 11)...\n",
      "Building estimator 2 of 11 for this parallel run (total 11)...\n",
      "Building estimator 3 of 11 for this parallel run (total 11)...\n",
      "Building estimator 4 of 11 for this parallel run (total 11)...\n",
      "Building estimator 5 of 11 for this parallel run (total 11)...\n",
      "Building estimator 6 of 11 for this parallel run (total 11)...\n",
      "Building estimator 7 of 11 for this parallel run (total 11)...\n",
      "Building estimator 8 of 11 for this parallel run (total 11)...\n",
      "Building estimator 9 of 11 for this parallel run (total 11)...\n",
      "Building estimator 10 of 11 for this parallel run (total 11)...\n",
      "Building estimator 11 of 11 for this parallel run (total 11)...\n",
      "Building estimator 1 of 11 for this parallel run (total 11)...\n",
      "Building estimator 2 of 11 for this parallel run (total 11)...\n",
      "Building estimator 3 of 11 for this parallel run (total 11)...\n",
      "Building estimator 4 of 11 for this parallel run (total 11)...\n",
      "Building estimator 5 of 11 for this parallel run (total 11)...\n",
      "Building estimator 6 of 11 for this parallel run (total 11)...\n",
      "Building estimator 7 of 11 for this parallel run (total 11)...\n",
      "Building estimator 8 of 11 for this parallel run (total 11)...\n",
      "Building estimator 9 of 11 for this parallel run (total 11)...\n",
      "Building estimator 10 of 11 for this parallel run (total 11)...\n",
      "Building estimator 11 of 11 for this parallel run (total 11)...\n",
      "Building estimator 1 of 11 for this parallel run (total 11)...\n",
      "Building estimator 2 of 11 for this parallel run (total 11)...\n",
      "Building estimator 3 of 11 for this parallel run (total 11)...\n",
      "Building estimator 4 of 11 for this parallel run (total 11)...\n",
      "Building estimator 5 of 11 for this parallel run (total 11)...\n",
      "Building estimator 6 of 11 for this parallel run (total 11)...\n",
      "Building estimator 7 of 11 for this parallel run (total 11)...\n",
      "Building estimator 8 of 11 for this parallel run (total 11)...\n",
      "Building estimator 9 of 11 for this parallel run (total 11)...\n",
      "Building estimator 10 of 11 for this parallel run (total 11)...\n",
      "Building estimator 11 of 11 for this parallel run (total 11)...\n"
     ]
    },
    {
     "name": "stderr",
     "output_type": "stream",
     "text": [
      "[Parallel(n_jobs=1)]: Done   1 out of   1 | elapsed:    0.0s remaining:    0.0s\n",
      "[Parallel(n_jobs=1)]: Done   1 out of   1 | elapsed:    0.0s finished\n",
      "[Parallel(n_jobs=1)]: Using backend SequentialBackend with 1 concurrent workers.\n",
      "[Parallel(n_jobs=1)]: Done   1 out of   1 | elapsed:    0.0s remaining:    0.0s\n",
      "[Parallel(n_jobs=1)]: Done   1 out of   1 | elapsed:    0.0s finished\n",
      "[Parallel(n_jobs=1)]: Using backend SequentialBackend with 1 concurrent workers.\n",
      "[Parallel(n_jobs=1)]: Done   1 out of   1 | elapsed:    0.0s remaining:    0.0s\n",
      "[Parallel(n_jobs=1)]: Done   1 out of   1 | elapsed:    0.0s finished\n",
      "[Parallel(n_jobs=1)]: Using backend SequentialBackend with 1 concurrent workers.\n",
      "[Parallel(n_jobs=1)]: Done   1 out of   1 | elapsed:    0.0s remaining:    0.0s\n",
      "[Parallel(n_jobs=1)]: Done   1 out of   1 | elapsed:    0.0s finished\n",
      "[Parallel(n_jobs=1)]: Using backend SequentialBackend with 1 concurrent workers.\n",
      "[Parallel(n_jobs=1)]: Done   1 out of   1 | elapsed:    0.0s finished\n",
      "[Parallel(n_jobs=1)]: Using backend SequentialBackend with 1 concurrent workers.\n",
      "[Parallel(n_jobs=1)]: Done   1 out of   1 | elapsed:    0.0s finished\n",
      "[Parallel(n_jobs=1)]: Using backend SequentialBackend with 1 concurrent workers.\n",
      "[Parallel(n_jobs=1)]: Done   1 out of   1 | elapsed:    0.0s finished\n",
      "[Parallel(n_jobs=1)]: Using backend SequentialBackend with 1 concurrent workers.\n",
      "[Parallel(n_jobs=1)]: Done   1 out of   1 | elapsed:    0.0s finished\n",
      "[Parallel(n_jobs=1)]: Using backend SequentialBackend with 1 concurrent workers.\n",
      "[Parallel(n_jobs=1)]: Done   1 out of   1 | elapsed:    0.0s finished\n",
      "[Parallel(n_jobs=1)]: Using backend SequentialBackend with 1 concurrent workers.\n",
      "[Parallel(n_jobs=1)]: Done   1 out of   1 | elapsed:    0.0s finished\n",
      "[Parallel(n_jobs=1)]: Using backend SequentialBackend with 1 concurrent workers.\n",
      "[Parallel(n_jobs=1)]: Done   1 out of   1 | elapsed:    0.0s finished\n",
      "[Parallel(n_jobs=1)]: Using backend SequentialBackend with 1 concurrent workers.\n",
      "[Parallel(n_jobs=1)]: Done   1 out of   1 | elapsed:    0.0s finished\n",
      "[Parallel(n_jobs=1)]: Using backend SequentialBackend with 1 concurrent workers.\n",
      "[Parallel(n_jobs=1)]: Done   1 out of   1 | elapsed:    0.0s finished\n",
      "[Parallel(n_jobs=1)]: Using backend SequentialBackend with 1 concurrent workers.\n",
      "[Parallel(n_jobs=1)]: Done   1 out of   1 | elapsed:    0.0s finished\n",
      "[Parallel(n_jobs=1)]: Using backend SequentialBackend with 1 concurrent workers.\n",
      "[Parallel(n_jobs=1)]: Done   1 out of   1 | elapsed:    0.0s remaining:    0.0s\n",
      "[Parallel(n_jobs=1)]: Done   1 out of   1 | elapsed:    0.0s finished\n",
      "[Parallel(n_jobs=1)]: Using backend SequentialBackend with 1 concurrent workers.\n",
      "[Parallel(n_jobs=1)]: Done   1 out of   1 | elapsed:    0.0s remaining:    0.0s\n",
      "[Parallel(n_jobs=1)]: Done   1 out of   1 | elapsed:    0.0s finished\n",
      "[Parallel(n_jobs=1)]: Using backend SequentialBackend with 1 concurrent workers.\n"
     ]
    },
    {
     "name": "stdout",
     "output_type": "stream",
     "text": [
      "Building estimator 1 of 12 for this parallel run (total 12)...\n",
      "Building estimator 2 of 12 for this parallel run (total 12)...\n",
      "Building estimator 3 of 12 for this parallel run (total 12)...\n",
      "Building estimator 4 of 12 for this parallel run (total 12)...\n",
      "Building estimator 5 of 12 for this parallel run (total 12)...\n",
      "Building estimator 6 of 12 for this parallel run (total 12)...\n",
      "Building estimator 7 of 12 for this parallel run (total 12)...\n",
      "Building estimator 8 of 12 for this parallel run (total 12)...\n",
      "Building estimator 9 of 12 for this parallel run (total 12)...\n",
      "Building estimator 10 of 12 for this parallel run (total 12)...\n",
      "Building estimator 11 of 12 for this parallel run (total 12)...\n",
      "Building estimator 12 of 12 for this parallel run (total 12)...\n",
      "Building estimator 1 of 12 for this parallel run (total 12)...\n",
      "Building estimator 2 of 12 for this parallel run (total 12)...\n",
      "Building estimator 3 of 12 for this parallel run (total 12)...\n",
      "Building estimator 4 of 12 for this parallel run (total 12)...\n",
      "Building estimator 5 of 12 for this parallel run (total 12)...\n",
      "Building estimator 6 of 12 for this parallel run (total 12)...\n",
      "Building estimator 7 of 12 for this parallel run (total 12)...\n",
      "Building estimator 8 of 12 for this parallel run (total 12)...\n",
      "Building estimator 9 of 12 for this parallel run (total 12)...\n",
      "Building estimator 10 of 12 for this parallel run (total 12)...\n",
      "Building estimator 11 of 12 for this parallel run (total 12)...\n",
      "Building estimator 12 of 12 for this parallel run (total 12)...\n",
      "Building estimator 1 of 12 for this parallel run (total 12)...\n",
      "Building estimator 2 of 12 for this parallel run (total 12)...\n",
      "Building estimator 3 of 12 for this parallel run (total 12)...\n",
      "Building estimator 4 of 12 for this parallel run (total 12)...\n",
      "Building estimator 5 of 12 for this parallel run (total 12)...\n",
      "Building estimator 6 of 12 for this parallel run (total 12)...\n",
      "Building estimator 7 of 12 for this parallel run (total 12)...\n",
      "Building estimator 8 of 12 for this parallel run (total 12)...\n",
      "Building estimator 9 of 12 for this parallel run (total 12)...\n",
      "Building estimator 10 of 12 for this parallel run (total 12)...\n",
      "Building estimator 11 of 12 for this parallel run (total 12)...\n",
      "Building estimator 12 of 12 for this parallel run (total 12)...\n",
      "Building estimator 1 of 12 for this parallel run (total 12)...\n",
      "Building estimator 2 of 12 for this parallel run (total 12)...\n",
      "Building estimator 3 of 12 for this parallel run (total 12)...\n",
      "Building estimator 4 of 12 for this parallel run (total 12)...\n",
      "Building estimator 5 of 12 for this parallel run (total 12)...\n",
      "Building estimator 6 of 12 for this parallel run (total 12)...\n",
      "Building estimator 7 of 12 for this parallel run (total 12)...\n",
      "Building estimator 8 of 12 for this parallel run (total 12)...\n",
      "Building estimator 9 of 12 for this parallel run (total 12)...\n",
      "Building estimator 10 of 12 for this parallel run (total 12)...\n",
      "Building estimator 11 of 12 for this parallel run (total 12)...\n",
      "Building estimator 12 of 12 for this parallel run (total 12)...\n",
      "Building estimator 1 of 12 for this parallel run (total 12)...\n",
      "Building estimator 2 of 12 for this parallel run (total 12)...\n",
      "Building estimator 3 of 12 for this parallel run (total 12)...\n",
      "Building estimator 4 of 12 for this parallel run (total 12)...\n",
      "Building estimator 5 of 12 for this parallel run (total 12)...\n",
      "Building estimator 6 of 12 for this parallel run (total 12)...\n",
      "Building estimator 7 of 12 for this parallel run (total 12)...\n",
      "Building estimator 8 of 12 for this parallel run (total 12)...\n",
      "Building estimator 9 of 12 for this parallel run (total 12)...\n",
      "Building estimator 10 of 12 for this parallel run (total 12)...\n",
      "Building estimator 11 of 12 for this parallel run (total 12)...\n",
      "Building estimator 12 of 12 for this parallel run (total 12)...\n",
      "Building estimator 1 of 12 for this parallel run (total 12)...\n",
      "Building estimator 2 of 12 for this parallel run (total 12)...\n",
      "Building estimator 3 of 12 for this parallel run (total 12)...\n",
      "Building estimator 4 of 12 for this parallel run (total 12)...\n",
      "Building estimator 5 of 12 for this parallel run (total 12)...\n",
      "Building estimator 6 of 12 for this parallel run (total 12)...\n",
      "Building estimator 7 of 12 for this parallel run (total 12)...\n",
      "Building estimator 8 of 12 for this parallel run (total 12)...\n",
      "Building estimator 9 of 12 for this parallel run (total 12)...\n",
      "Building estimator 10 of 12 for this parallel run (total 12)...\n",
      "Building estimator 11 of 12 for this parallel run (total 12)...\n",
      "Building estimator 12 of 12 for this parallel run (total 12)...\n",
      "Building estimator 1 of 12 for this parallel run (total 12)...\n",
      "Building estimator 2 of 12 for this parallel run (total 12)...\n",
      "Building estimator 3 of 12 for this parallel run (total 12)...\n",
      "Building estimator 4 of 12 for this parallel run (total 12)...\n",
      "Building estimator 5 of 12 for this parallel run (total 12)...\n",
      "Building estimator 6 of 12 for this parallel run (total 12)...\n",
      "Building estimator 7 of 12 for this parallel run (total 12)...\n",
      "Building estimator 8 of 12 for this parallel run (total 12)...\n",
      "Building estimator 9 of 12 for this parallel run (total 12)...\n"
     ]
    },
    {
     "name": "stderr",
     "output_type": "stream",
     "text": [
      "[Parallel(n_jobs=1)]: Done   1 out of   1 | elapsed:    0.0s remaining:    0.0s\n",
      "[Parallel(n_jobs=1)]: Done   1 out of   1 | elapsed:    0.0s finished\n",
      "[Parallel(n_jobs=1)]: Using backend SequentialBackend with 1 concurrent workers.\n",
      "[Parallel(n_jobs=1)]: Done   1 out of   1 | elapsed:    0.0s remaining:    0.0s\n",
      "[Parallel(n_jobs=1)]: Done   1 out of   1 | elapsed:    0.0s finished\n",
      "[Parallel(n_jobs=1)]: Using backend SequentialBackend with 1 concurrent workers.\n",
      "[Parallel(n_jobs=1)]: Done   1 out of   1 | elapsed:    0.0s remaining:    0.0s\n",
      "[Parallel(n_jobs=1)]: Done   1 out of   1 | elapsed:    0.0s finished\n",
      "[Parallel(n_jobs=1)]: Using backend SequentialBackend with 1 concurrent workers.\n",
      "[Parallel(n_jobs=1)]: Done   1 out of   1 | elapsed:    0.0s remaining:    0.0s\n",
      "[Parallel(n_jobs=1)]: Done   1 out of   1 | elapsed:    0.0s finished\n",
      "[Parallel(n_jobs=1)]: Using backend SequentialBackend with 1 concurrent workers.\n",
      "[Parallel(n_jobs=1)]: Done   1 out of   1 | elapsed:    0.0s remaining:    0.0s\n",
      "[Parallel(n_jobs=1)]: Done   1 out of   1 | elapsed:    0.0s finished\n",
      "[Parallel(n_jobs=1)]: Using backend SequentialBackend with 1 concurrent workers.\n",
      "[Parallel(n_jobs=1)]: Done   1 out of   1 | elapsed:    0.0s remaining:    0.0s\n",
      "[Parallel(n_jobs=1)]: Done   1 out of   1 | elapsed:    0.0s finished\n",
      "[Parallel(n_jobs=1)]: Using backend SequentialBackend with 1 concurrent workers.\n",
      "[Parallel(n_jobs=1)]: Done   1 out of   1 | elapsed:    0.0s remaining:    0.0s\n",
      "[Parallel(n_jobs=1)]: Done   1 out of   1 | elapsed:    0.0s finished\n",
      "[Parallel(n_jobs=1)]: Using backend SequentialBackend with 1 concurrent workers.\n",
      "[Parallel(n_jobs=1)]: Done   1 out of   1 | elapsed:    0.0s remaining:    0.0s\n",
      "[Parallel(n_jobs=1)]: Done   1 out of   1 | elapsed:    0.0s finished\n",
      "[Parallel(n_jobs=1)]: Using backend SequentialBackend with 1 concurrent workers.\n",
      "[Parallel(n_jobs=1)]: Done   1 out of   1 | elapsed:    0.0s remaining:    0.0s\n",
      "[Parallel(n_jobs=1)]: Done   1 out of   1 | elapsed:    0.0s finished\n",
      "[Parallel(n_jobs=1)]: Using backend SequentialBackend with 1 concurrent workers.\n",
      "[Parallel(n_jobs=1)]: Done   1 out of   1 | elapsed:    0.0s remaining:    0.0s\n",
      "[Parallel(n_jobs=1)]: Done   1 out of   1 | elapsed:    0.0s finished\n",
      "[Parallel(n_jobs=1)]: Using backend SequentialBackend with 1 concurrent workers.\n",
      "[Parallel(n_jobs=1)]: Done   1 out of   1 | elapsed:    0.0s remaining:    0.0s\n",
      "[Parallel(n_jobs=1)]: Done   1 out of   1 | elapsed:    0.0s finished\n",
      "[Parallel(n_jobs=1)]: Using backend SequentialBackend with 1 concurrent workers.\n",
      "[Parallel(n_jobs=1)]: Done   1 out of   1 | elapsed:    0.0s remaining:    0.0s\n",
      "[Parallel(n_jobs=1)]: Done   1 out of   1 | elapsed:    0.0s finished\n",
      "[Parallel(n_jobs=1)]: Using backend SequentialBackend with 1 concurrent workers.\n"
     ]
    },
    {
     "name": "stdout",
     "output_type": "stream",
     "text": [
      "Building estimator 10 of 12 for this parallel run (total 12)...\n",
      "Building estimator 11 of 12 for this parallel run (total 12)...\n",
      "Building estimator 12 of 12 for this parallel run (total 12)...\n",
      "Building estimator 1 of 12 for this parallel run (total 12)...\n",
      "Building estimator 2 of 12 for this parallel run (total 12)...\n",
      "Building estimator 3 of 12 for this parallel run (total 12)...\n",
      "Building estimator 4 of 12 for this parallel run (total 12)...\n",
      "Building estimator 5 of 12 for this parallel run (total 12)...\n",
      "Building estimator 6 of 12 for this parallel run (total 12)...\n",
      "Building estimator 7 of 12 for this parallel run (total 12)...\n",
      "Building estimator 8 of 12 for this parallel run (total 12)...\n",
      "Building estimator 9 of 12 for this parallel run (total 12)...\n",
      "Building estimator 10 of 12 for this parallel run (total 12)...\n",
      "Building estimator 11 of 12 for this parallel run (total 12)...\n",
      "Building estimator 12 of 12 for this parallel run (total 12)...\n",
      "Building estimator 1 of 12 for this parallel run (total 12)...\n",
      "Building estimator 2 of 12 for this parallel run (total 12)...\n",
      "Building estimator 3 of 12 for this parallel run (total 12)...\n",
      "Building estimator 4 of 12 for this parallel run (total 12)...\n",
      "Building estimator 5 of 12 for this parallel run (total 12)...\n",
      "Building estimator 6 of 12 for this parallel run (total 12)...\n",
      "Building estimator 7 of 12 for this parallel run (total 12)...\n",
      "Building estimator 8 of 12 for this parallel run (total 12)...\n",
      "Building estimator 9 of 12 for this parallel run (total 12)...\n",
      "Building estimator 10 of 12 for this parallel run (total 12)...\n",
      "Building estimator 11 of 12 for this parallel run (total 12)...\n",
      "Building estimator 12 of 12 for this parallel run (total 12)...\n",
      "Building estimator 1 of 12 for this parallel run (total 12)...\n",
      "Building estimator 2 of 12 for this parallel run (total 12)...\n",
      "Building estimator 3 of 12 for this parallel run (total 12)...\n",
      "Building estimator 4 of 12 for this parallel run (total 12)...\n",
      "Building estimator 5 of 12 for this parallel run (total 12)...\n",
      "Building estimator 6 of 12 for this parallel run (total 12)...\n",
      "Building estimator 7 of 12 for this parallel run (total 12)...\n",
      "Building estimator 8 of 12 for this parallel run (total 12)...\n",
      "Building estimator 9 of 12 for this parallel run (total 12)...\n",
      "Building estimator 10 of 12 for this parallel run (total 12)...\n",
      "Building estimator 11 of 12 for this parallel run (total 12)...\n",
      "Building estimator 12 of 12 for this parallel run (total 12)...\n",
      "Building estimator 1 of 12 for this parallel run (total 12)...\n",
      "Building estimator 2 of 12 for this parallel run (total 12)...\n",
      "Building estimator 3 of 12 for this parallel run (total 12)...\n",
      "Building estimator 4 of 12 for this parallel run (total 12)...\n",
      "Building estimator 5 of 12 for this parallel run (total 12)...\n",
      "Building estimator 6 of 12 for this parallel run (total 12)...\n",
      "Building estimator 7 of 12 for this parallel run (total 12)...\n",
      "Building estimator 8 of 12 for this parallel run (total 12)...\n",
      "Building estimator 9 of 12 for this parallel run (total 12)...\n",
      "Building estimator 10 of 12 for this parallel run (total 12)...\n",
      "Building estimator 11 of 12 for this parallel run (total 12)...\n",
      "Building estimator 12 of 12 for this parallel run (total 12)...\n",
      "Building estimator 1 of 12 for this parallel run (total 12)...\n",
      "Building estimator 2 of 12 for this parallel run (total 12)...\n",
      "Building estimator 3 of 12 for this parallel run (total 12)...\n",
      "Building estimator 4 of 12 for this parallel run (total 12)...\n",
      "Building estimator 5 of 12 for this parallel run (total 12)...\n",
      "Building estimator 6 of 12 for this parallel run (total 12)...\n",
      "Building estimator 7 of 12 for this parallel run (total 12)...\n",
      "Building estimator 8 of 12 for this parallel run (total 12)...\n",
      "Building estimator 9 of 12 for this parallel run (total 12)...\n",
      "Building estimator 10 of 12 for this parallel run (total 12)...\n",
      "Building estimator 11 of 12 for this parallel run (total 12)...\n",
      "Building estimator 12 of 12 for this parallel run (total 12)...\n",
      "Building estimator 1 of 12 for this parallel run (total 12)...\n",
      "Building estimator 2 of 12 for this parallel run (total 12)...\n",
      "Building estimator 3 of 12 for this parallel run (total 12)...\n",
      "Building estimator 4 of 12 for this parallel run (total 12)...\n",
      "Building estimator 5 of 12 for this parallel run (total 12)...\n",
      "Building estimator 6 of 12 for this parallel run (total 12)...\n"
     ]
    },
    {
     "name": "stderr",
     "output_type": "stream",
     "text": [
      "[Parallel(n_jobs=1)]: Done   1 out of   1 | elapsed:    0.0s remaining:    0.0s\n",
      "[Parallel(n_jobs=1)]: Done   1 out of   1 | elapsed:    0.0s finished\n",
      "[Parallel(n_jobs=1)]: Using backend SequentialBackend with 1 concurrent workers.\n",
      "[Parallel(n_jobs=1)]: Done   1 out of   1 | elapsed:    0.0s remaining:    0.0s\n",
      "[Parallel(n_jobs=1)]: Done   1 out of   1 | elapsed:    0.0s finished\n",
      "[Parallel(n_jobs=1)]: Using backend SequentialBackend with 1 concurrent workers.\n",
      "[Parallel(n_jobs=1)]: Done   1 out of   1 | elapsed:    0.0s remaining:    0.0s\n",
      "[Parallel(n_jobs=1)]: Done   1 out of   1 | elapsed:    0.0s finished\n",
      "[Parallel(n_jobs=1)]: Using backend SequentialBackend with 1 concurrent workers.\n",
      "[Parallel(n_jobs=1)]: Done   1 out of   1 | elapsed:    0.0s remaining:    0.0s\n",
      "[Parallel(n_jobs=1)]: Done   1 out of   1 | elapsed:    0.0s finished\n",
      "[Parallel(n_jobs=1)]: Using backend SequentialBackend with 1 concurrent workers.\n",
      "[Parallel(n_jobs=1)]: Done   1 out of   1 | elapsed:    0.0s remaining:    0.0s\n",
      "[Parallel(n_jobs=1)]: Done   1 out of   1 | elapsed:    0.0s finished\n",
      "[Parallel(n_jobs=1)]: Using backend SequentialBackend with 1 concurrent workers.\n",
      "[Parallel(n_jobs=1)]: Done   1 out of   1 | elapsed:    0.0s remaining:    0.0s\n",
      "[Parallel(n_jobs=1)]: Done   1 out of   1 | elapsed:    0.0s finished\n",
      "[Parallel(n_jobs=1)]: Using backend SequentialBackend with 1 concurrent workers.\n",
      "[Parallel(n_jobs=1)]: Done   1 out of   1 | elapsed:    0.0s remaining:    0.0s\n",
      "[Parallel(n_jobs=1)]: Done   1 out of   1 | elapsed:    0.0s finished\n",
      "[Parallel(n_jobs=1)]: Using backend SequentialBackend with 1 concurrent workers.\n",
      "[Parallel(n_jobs=1)]: Done   1 out of   1 | elapsed:    0.0s remaining:    0.0s\n",
      "[Parallel(n_jobs=1)]: Done   1 out of   1 | elapsed:    0.0s finished\n",
      "[Parallel(n_jobs=1)]: Using backend SequentialBackend with 1 concurrent workers.\n",
      "[Parallel(n_jobs=1)]: Done   1 out of   1 | elapsed:    0.0s remaining:    0.0s\n",
      "[Parallel(n_jobs=1)]: Done   1 out of   1 | elapsed:    0.0s finished\n",
      "[Parallel(n_jobs=1)]: Using backend SequentialBackend with 1 concurrent workers.\n",
      "[Parallel(n_jobs=1)]: Done   1 out of   1 | elapsed:    0.0s remaining:    0.0s\n",
      "[Parallel(n_jobs=1)]: Done   1 out of   1 | elapsed:    0.0s finished\n",
      "[Parallel(n_jobs=1)]: Using backend SequentialBackend with 1 concurrent workers.\n",
      "[Parallel(n_jobs=1)]: Done   1 out of   1 | elapsed:    0.0s remaining:    0.0s\n",
      "[Parallel(n_jobs=1)]: Done   1 out of   1 | elapsed:    0.0s finished\n",
      "[Parallel(n_jobs=1)]: Using backend SequentialBackend with 1 concurrent workers.\n",
      "[Parallel(n_jobs=1)]: Done   1 out of   1 | elapsed:    0.0s remaining:    0.0s\n",
      "[Parallel(n_jobs=1)]: Done   1 out of   1 | elapsed:    0.0s finished\n",
      "[Parallel(n_jobs=1)]: Using backend SequentialBackend with 1 concurrent workers.\n",
      "[Parallel(n_jobs=1)]: Done   1 out of   1 | elapsed:    0.0s remaining:    0.0s\n",
      "[Parallel(n_jobs=1)]: Done   1 out of   1 | elapsed:    0.0s finished\n",
      "[Parallel(n_jobs=1)]: Using backend SequentialBackend with 1 concurrent workers.\n",
      "[Parallel(n_jobs=1)]: Done   1 out of   1 | elapsed:    0.0s remaining:    0.0s\n"
     ]
    },
    {
     "name": "stdout",
     "output_type": "stream",
     "text": [
      "Building estimator 7 of 12 for this parallel run (total 12)...\n",
      "Building estimator 8 of 12 for this parallel run (total 12)...\n",
      "Building estimator 9 of 12 for this parallel run (total 12)...\n",
      "Building estimator 10 of 12 for this parallel run (total 12)...\n",
      "Building estimator 11 of 12 for this parallel run (total 12)...\n",
      "Building estimator 12 of 12 for this parallel run (total 12)...\n",
      "Building estimator 1 of 12 for this parallel run (total 12)...\n",
      "Building estimator 2 of 12 for this parallel run (total 12)...\n",
      "Building estimator 3 of 12 for this parallel run (total 12)...\n",
      "Building estimator 4 of 12 for this parallel run (total 12)...\n",
      "Building estimator 5 of 12 for this parallel run (total 12)...\n",
      "Building estimator 6 of 12 for this parallel run (total 12)...\n",
      "Building estimator 7 of 12 for this parallel run (total 12)...\n",
      "Building estimator 8 of 12 for this parallel run (total 12)...\n",
      "Building estimator 9 of 12 for this parallel run (total 12)...\n",
      "Building estimator 10 of 12 for this parallel run (total 12)...\n",
      "Building estimator 11 of 12 for this parallel run (total 12)...\n",
      "Building estimator 12 of 12 for this parallel run (total 12)...\n",
      "Building estimator 1 of 12 for this parallel run (total 12)...\n",
      "Building estimator 2 of 12 for this parallel run (total 12)...\n",
      "Building estimator 3 of 12 for this parallel run (total 12)...\n",
      "Building estimator 4 of 12 for this parallel run (total 12)...\n",
      "Building estimator 5 of 12 for this parallel run (total 12)...\n",
      "Building estimator 6 of 12 for this parallel run (total 12)...\n",
      "Building estimator 7 of 12 for this parallel run (total 12)...\n",
      "Building estimator 8 of 12 for this parallel run (total 12)...\n",
      "Building estimator 9 of 12 for this parallel run (total 12)...\n",
      "Building estimator 10 of 12 for this parallel run (total 12)...\n",
      "Building estimator 11 of 12 for this parallel run (total 12)...\n",
      "Building estimator 12 of 12 for this parallel run (total 12)...\n"
     ]
    },
    {
     "name": "stderr",
     "output_type": "stream",
     "text": [
      "[Parallel(n_jobs=1)]: Done   1 out of   1 | elapsed:    0.0s finished\n",
      "[Parallel(n_jobs=1)]: Using backend SequentialBackend with 1 concurrent workers.\n",
      "[Parallel(n_jobs=1)]: Done   1 out of   1 | elapsed:    0.0s remaining:    0.0s\n",
      "[Parallel(n_jobs=1)]: Done   1 out of   1 | elapsed:    0.0s finished\n",
      "[Parallel(n_jobs=1)]: Using backend SequentialBackend with 1 concurrent workers.\n",
      "[Parallel(n_jobs=1)]: Done   1 out of   1 | elapsed:    0.0s remaining:    0.0s\n",
      "[Parallel(n_jobs=1)]: Done   1 out of   1 | elapsed:    0.0s finished\n",
      "[Parallel(n_jobs=1)]: Using backend SequentialBackend with 1 concurrent workers.\n",
      "[Parallel(n_jobs=1)]: Done   1 out of   1 | elapsed:    0.0s finished\n",
      "[Parallel(n_jobs=1)]: Using backend SequentialBackend with 1 concurrent workers.\n",
      "[Parallel(n_jobs=1)]: Done   1 out of   1 | elapsed:    0.0s finished\n",
      "[Parallel(n_jobs=1)]: Using backend SequentialBackend with 1 concurrent workers.\n",
      "[Parallel(n_jobs=1)]: Done   1 out of   1 | elapsed:    0.0s finished\n",
      "[Parallel(n_jobs=1)]: Using backend SequentialBackend with 1 concurrent workers.\n",
      "[Parallel(n_jobs=1)]: Done   1 out of   1 | elapsed:    0.0s finished\n",
      "[Parallel(n_jobs=1)]: Using backend SequentialBackend with 1 concurrent workers.\n",
      "[Parallel(n_jobs=1)]: Done   1 out of   1 | elapsed:    0.0s finished\n",
      "[Parallel(n_jobs=1)]: Using backend SequentialBackend with 1 concurrent workers.\n",
      "[Parallel(n_jobs=1)]: Done   1 out of   1 | elapsed:    0.0s finished\n",
      "[Parallel(n_jobs=1)]: Using backend SequentialBackend with 1 concurrent workers.\n",
      "[Parallel(n_jobs=1)]: Done   1 out of   1 | elapsed:    0.0s finished\n",
      "[Parallel(n_jobs=1)]: Using backend SequentialBackend with 1 concurrent workers.\n",
      "[Parallel(n_jobs=1)]: Done   1 out of   1 | elapsed:    0.0s finished\n",
      "[Parallel(n_jobs=1)]: Using backend SequentialBackend with 1 concurrent workers.\n",
      "[Parallel(n_jobs=1)]: Done   1 out of   1 | elapsed:    0.0s finished\n",
      "[Parallel(n_jobs=1)]: Using backend SequentialBackend with 1 concurrent workers.\n",
      "[Parallel(n_jobs=1)]: Done   1 out of   1 | elapsed:    0.0s finished\n",
      "[Parallel(n_jobs=1)]: Using backend SequentialBackend with 1 concurrent workers.\n",
      "[Parallel(n_jobs=1)]: Done   1 out of   1 | elapsed:    0.0s remaining:    0.0s\n",
      "[Parallel(n_jobs=1)]: Done   1 out of   1 | elapsed:    0.0s finished\n",
      "[Parallel(n_jobs=1)]: Using backend SequentialBackend with 1 concurrent workers.\n",
      "[Parallel(n_jobs=1)]: Done   1 out of   1 | elapsed:    0.0s remaining:    0.0s\n",
      "[Parallel(n_jobs=1)]: Done   1 out of   1 | elapsed:    0.0s finished\n",
      "[Parallel(n_jobs=1)]: Using backend SequentialBackend with 1 concurrent workers.\n",
      "[Parallel(n_jobs=1)]: Done   1 out of   1 | elapsed:    0.0s remaining:    0.0s\n",
      "[Parallel(n_jobs=1)]: Done   1 out of   1 | elapsed:    0.0s finished\n",
      "[Parallel(n_jobs=1)]: Using backend SequentialBackend with 1 concurrent workers.\n",
      "[Parallel(n_jobs=1)]: Done   1 out of   1 | elapsed:    0.0s remaining:    0.0s\n",
      "[Parallel(n_jobs=1)]: Done   1 out of   1 | elapsed:    0.0s finished\n",
      "[Parallel(n_jobs=1)]: Using backend SequentialBackend with 1 concurrent workers.\n",
      "[Parallel(n_jobs=1)]: Done   1 out of   1 | elapsed:    0.0s remaining:    0.0s\n",
      "[Parallel(n_jobs=1)]: Done   1 out of   1 | elapsed:    0.0s finished\n",
      "[Parallel(n_jobs=1)]: Using backend SequentialBackend with 1 concurrent workers.\n",
      "[Parallel(n_jobs=1)]: Done   1 out of   1 | elapsed:    0.0s remaining:    0.0s\n",
      "[Parallel(n_jobs=1)]: Done   1 out of   1 | elapsed:    0.0s finished\n",
      "[Parallel(n_jobs=1)]: Using backend SequentialBackend with 1 concurrent workers.\n",
      "[Parallel(n_jobs=1)]: Done   1 out of   1 | elapsed:    0.0s remaining:    0.0s\n",
      "[Parallel(n_jobs=1)]: Done   1 out of   1 | elapsed:    0.0s finished\n",
      "[Parallel(n_jobs=1)]: Using backend SequentialBackend with 1 concurrent workers.\n",
      "[Parallel(n_jobs=1)]: Done   1 out of   1 | elapsed:    0.0s remaining:    0.0s\n",
      "[Parallel(n_jobs=1)]: Done   1 out of   1 | elapsed:    0.0s finished\n",
      "[Parallel(n_jobs=1)]: Using backend SequentialBackend with 1 concurrent workers.\n",
      "[Parallel(n_jobs=1)]: Done   1 out of   1 | elapsed:    0.0s remaining:    0.0s\n",
      "[Parallel(n_jobs=1)]: Done   1 out of   1 | elapsed:    0.0s finished\n",
      "[Parallel(n_jobs=1)]: Using backend SequentialBackend with 1 concurrent workers.\n",
      "[Parallel(n_jobs=1)]: Done   1 out of   1 | elapsed:    0.0s remaining:    0.0s\n",
      "[Parallel(n_jobs=1)]: Done   1 out of   1 | elapsed:    0.0s finished\n",
      "[Parallel(n_jobs=1)]: Using backend SequentialBackend with 1 concurrent workers.\n",
      "[Parallel(n_jobs=1)]: Done   1 out of   1 | elapsed:    0.0s remaining:    0.0s\n",
      "[Parallel(n_jobs=1)]: Done   1 out of   1 | elapsed:    0.0s finished\n",
      "[Parallel(n_jobs=1)]: Using backend SequentialBackend with 1 concurrent workers.\n",
      "[Parallel(n_jobs=1)]: Done   1 out of   1 | elapsed:    0.0s remaining:    0.0s\n",
      "[Parallel(n_jobs=1)]: Done   1 out of   1 | elapsed:    0.0s finished\n",
      "[Parallel(n_jobs=1)]: Using backend SequentialBackend with 1 concurrent workers.\n"
     ]
    },
    {
     "name": "stdout",
     "output_type": "stream",
     "text": [
      "Building estimator 1 of 13 for this parallel run (total 13)...\n",
      "Building estimator 2 of 13 for this parallel run (total 13)...\n",
      "Building estimator 3 of 13 for this parallel run (total 13)...\n",
      "Building estimator 4 of 13 for this parallel run (total 13)...\n",
      "Building estimator 5 of 13 for this parallel run (total 13)...\n",
      "Building estimator 6 of 13 for this parallel run (total 13)...\n",
      "Building estimator 7 of 13 for this parallel run (total 13)...\n",
      "Building estimator 8 of 13 for this parallel run (total 13)...\n",
      "Building estimator 9 of 13 for this parallel run (total 13)...\n",
      "Building estimator 10 of 13 for this parallel run (total 13)...\n",
      "Building estimator 11 of 13 for this parallel run (total 13)...\n",
      "Building estimator 12 of 13 for this parallel run (total 13)...\n",
      "Building estimator 13 of 13 for this parallel run (total 13)...\n",
      "Building estimator 1 of 13 for this parallel run (total 13)...\n",
      "Building estimator 2 of 13 for this parallel run (total 13)...\n",
      "Building estimator 3 of 13 for this parallel run (total 13)...\n",
      "Building estimator 4 of 13 for this parallel run (total 13)...\n",
      "Building estimator 5 of 13 for this parallel run (total 13)...\n",
      "Building estimator 6 of 13 for this parallel run (total 13)...\n",
      "Building estimator 7 of 13 for this parallel run (total 13)...\n",
      "Building estimator 8 of 13 for this parallel run (total 13)...\n",
      "Building estimator 9 of 13 for this parallel run (total 13)...\n",
      "Building estimator 10 of 13 for this parallel run (total 13)...\n",
      "Building estimator 11 of 13 for this parallel run (total 13)...\n",
      "Building estimator 12 of 13 for this parallel run (total 13)...\n",
      "Building estimator 13 of 13 for this parallel run (total 13)...\n",
      "Building estimator 1 of 13 for this parallel run (total 13)...\n",
      "Building estimator 2 of 13 for this parallel run (total 13)...\n",
      "Building estimator 3 of 13 for this parallel run (total 13)...\n",
      "Building estimator 4 of 13 for this parallel run (total 13)...\n",
      "Building estimator 5 of 13 for this parallel run (total 13)...\n",
      "Building estimator 6 of 13 for this parallel run (total 13)...\n",
      "Building estimator 7 of 13 for this parallel run (total 13)...\n",
      "Building estimator 8 of 13 for this parallel run (total 13)...\n",
      "Building estimator 9 of 13 for this parallel run (total 13)...\n",
      "Building estimator 10 of 13 for this parallel run (total 13)...\n",
      "Building estimator 11 of 13 for this parallel run (total 13)...\n",
      "Building estimator 12 of 13 for this parallel run (total 13)...\n",
      "Building estimator 13 of 13 for this parallel run (total 13)...\n",
      "Building estimator 1 of 13 for this parallel run (total 13)...\n",
      "Building estimator 2 of 13 for this parallel run (total 13)...\n",
      "Building estimator 3 of 13 for this parallel run (total 13)...\n",
      "Building estimator 4 of 13 for this parallel run (total 13)...\n",
      "Building estimator 5 of 13 for this parallel run (total 13)...\n",
      "Building estimator 6 of 13 for this parallel run (total 13)...\n",
      "Building estimator 7 of 13 for this parallel run (total 13)...\n",
      "Building estimator 8 of 13 for this parallel run (total 13)...\n",
      "Building estimator 9 of 13 for this parallel run (total 13)...\n",
      "Building estimator 10 of 13 for this parallel run (total 13)...\n",
      "Building estimator 11 of 13 for this parallel run (total 13)...\n",
      "Building estimator 12 of 13 for this parallel run (total 13)...\n",
      "Building estimator 13 of 13 for this parallel run (total 13)...\n",
      "Building estimator 1 of 13 for this parallel run (total 13)...\n",
      "Building estimator 2 of 13 for this parallel run (total 13)...\n",
      "Building estimator 3 of 13 for this parallel run (total 13)...\n",
      "Building estimator 4 of 13 for this parallel run (total 13)...\n",
      "Building estimator 5 of 13 for this parallel run (total 13)...\n",
      "Building estimator 6 of 13 for this parallel run (total 13)...\n",
      "Building estimator 7 of 13 for this parallel run (total 13)...\n",
      "Building estimator 8 of 13 for this parallel run (total 13)...\n",
      "Building estimator 9 of 13 for this parallel run (total 13)...\n",
      "Building estimator 10 of 13 for this parallel run (total 13)...\n",
      "Building estimator 11 of 13 for this parallel run (total 13)...\n",
      "Building estimator 12 of 13 for this parallel run (total 13)...\n",
      "Building estimator 13 of 13 for this parallel run (total 13)...\n",
      "Building estimator 1 of 13 for this parallel run (total 13)...\n",
      "Building estimator 2 of 13 for this parallel run (total 13)...\n",
      "Building estimator 3 of 13 for this parallel run (total 13)...\n",
      "Building estimator 4 of 13 for this parallel run (total 13)...\n",
      "Building estimator 5 of 13 for this parallel run (total 13)...\n",
      "Building estimator 6 of 13 for this parallel run (total 13)...\n",
      "Building estimator 7 of 13 for this parallel run (total 13)...\n",
      "Building estimator 8 of 13 for this parallel run (total 13)...\n",
      "Building estimator 9 of 13 for this parallel run (total 13)...\n",
      "Building estimator 10 of 13 for this parallel run (total 13)...\n",
      "Building estimator 11 of 13 for this parallel run (total 13)...\n",
      "Building estimator 12 of 13 for this parallel run (total 13)...\n",
      "Building estimator 13 of 13 for this parallel run (total 13)...\n",
      "Building estimator 1 of 13 for this parallel run (total 13)...\n",
      "Building estimator 2 of 13 for this parallel run (total 13)...\n",
      "Building estimator 3 of 13 for this parallel run (total 13)...\n",
      "Building estimator 4 of 13 for this parallel run (total 13)...\n",
      "Building estimator 5 of 13 for this parallel run (total 13)...\n",
      "Building estimator 6 of 13 for this parallel run (total 13)...\n",
      "Building estimator 7 of 13 for this parallel run (total 13)...\n",
      "Building estimator 8 of 13 for this parallel run (total 13)...\n",
      "Building estimator 9 of 13 for this parallel run (total 13)...\n",
      "Building estimator 10 of 13 for this parallel run (total 13)...\n",
      "Building estimator 11 of 13 for this parallel run (total 13)...\n",
      "Building estimator 12 of 13 for this parallel run (total 13)...\n",
      "Building estimator 13 of 13 for this parallel run (total 13)...\n"
     ]
    },
    {
     "name": "stderr",
     "output_type": "stream",
     "text": [
      "[Parallel(n_jobs=1)]: Done   1 out of   1 | elapsed:    0.0s remaining:    0.0s\n",
      "[Parallel(n_jobs=1)]: Done   1 out of   1 | elapsed:    0.0s finished\n",
      "[Parallel(n_jobs=1)]: Using backend SequentialBackend with 1 concurrent workers.\n",
      "[Parallel(n_jobs=1)]: Done   1 out of   1 | elapsed:    0.0s remaining:    0.0s\n",
      "[Parallel(n_jobs=1)]: Done   1 out of   1 | elapsed:    0.0s finished\n",
      "[Parallel(n_jobs=1)]: Using backend SequentialBackend with 1 concurrent workers.\n",
      "[Parallel(n_jobs=1)]: Done   1 out of   1 | elapsed:    0.0s remaining:    0.0s\n",
      "[Parallel(n_jobs=1)]: Done   1 out of   1 | elapsed:    0.0s finished\n",
      "[Parallel(n_jobs=1)]: Using backend SequentialBackend with 1 concurrent workers.\n",
      "[Parallel(n_jobs=1)]: Done   1 out of   1 | elapsed:    0.0s remaining:    0.0s\n",
      "[Parallel(n_jobs=1)]: Done   1 out of   1 | elapsed:    0.0s finished\n",
      "[Parallel(n_jobs=1)]: Using backend SequentialBackend with 1 concurrent workers.\n",
      "[Parallel(n_jobs=1)]: Done   1 out of   1 | elapsed:    0.0s remaining:    0.0s\n",
      "[Parallel(n_jobs=1)]: Done   1 out of   1 | elapsed:    0.0s finished\n",
      "[Parallel(n_jobs=1)]: Using backend SequentialBackend with 1 concurrent workers.\n",
      "[Parallel(n_jobs=1)]: Done   1 out of   1 | elapsed:    0.0s remaining:    0.0s\n",
      "[Parallel(n_jobs=1)]: Done   1 out of   1 | elapsed:    0.0s finished\n",
      "[Parallel(n_jobs=1)]: Using backend SequentialBackend with 1 concurrent workers.\n",
      "[Parallel(n_jobs=1)]: Done   1 out of   1 | elapsed:    0.0s remaining:    0.0s\n",
      "[Parallel(n_jobs=1)]: Done   1 out of   1 | elapsed:    0.0s finished\n",
      "[Parallel(n_jobs=1)]: Using backend SequentialBackend with 1 concurrent workers.\n",
      "[Parallel(n_jobs=1)]: Done   1 out of   1 | elapsed:    0.0s remaining:    0.0s\n",
      "[Parallel(n_jobs=1)]: Done   1 out of   1 | elapsed:    0.0s finished\n",
      "[Parallel(n_jobs=1)]: Using backend SequentialBackend with 1 concurrent workers.\n",
      "[Parallel(n_jobs=1)]: Done   1 out of   1 | elapsed:    0.0s remaining:    0.0s\n",
      "[Parallel(n_jobs=1)]: Done   1 out of   1 | elapsed:    0.0s finished\n",
      "[Parallel(n_jobs=1)]: Using backend SequentialBackend with 1 concurrent workers.\n",
      "[Parallel(n_jobs=1)]: Done   1 out of   1 | elapsed:    0.0s remaining:    0.0s\n",
      "[Parallel(n_jobs=1)]: Done   1 out of   1 | elapsed:    0.0s finished\n",
      "[Parallel(n_jobs=1)]: Using backend SequentialBackend with 1 concurrent workers.\n",
      "[Parallel(n_jobs=1)]: Done   1 out of   1 | elapsed:    0.0s remaining:    0.0s\n",
      "[Parallel(n_jobs=1)]: Done   1 out of   1 | elapsed:    0.0s finished\n",
      "[Parallel(n_jobs=1)]: Using backend SequentialBackend with 1 concurrent workers.\n",
      "[Parallel(n_jobs=1)]: Done   1 out of   1 | elapsed:    0.0s remaining:    0.0s\n",
      "[Parallel(n_jobs=1)]: Done   1 out of   1 | elapsed:    0.0s finished\n",
      "[Parallel(n_jobs=1)]: Using backend SequentialBackend with 1 concurrent workers.\n"
     ]
    },
    {
     "name": "stdout",
     "output_type": "stream",
     "text": [
      "Building estimator 1 of 13 for this parallel run (total 13)...\n",
      "Building estimator 2 of 13 for this parallel run (total 13)...\n",
      "Building estimator 3 of 13 for this parallel run (total 13)...\n",
      "Building estimator 4 of 13 for this parallel run (total 13)...\n",
      "Building estimator 5 of 13 for this parallel run (total 13)...\n",
      "Building estimator 6 of 13 for this parallel run (total 13)...\n",
      "Building estimator 7 of 13 for this parallel run (total 13)...\n",
      "Building estimator 8 of 13 for this parallel run (total 13)...\n",
      "Building estimator 9 of 13 for this parallel run (total 13)...\n",
      "Building estimator 10 of 13 for this parallel run (total 13)...\n",
      "Building estimator 11 of 13 for this parallel run (total 13)...\n",
      "Building estimator 12 of 13 for this parallel run (total 13)...\n",
      "Building estimator 13 of 13 for this parallel run (total 13)...\n",
      "Building estimator 1 of 13 for this parallel run (total 13)...\n",
      "Building estimator 2 of 13 for this parallel run (total 13)...\n",
      "Building estimator 3 of 13 for this parallel run (total 13)...\n",
      "Building estimator 4 of 13 for this parallel run (total 13)...\n",
      "Building estimator 5 of 13 for this parallel run (total 13)...\n",
      "Building estimator 6 of 13 for this parallel run (total 13)...\n",
      "Building estimator 7 of 13 for this parallel run (total 13)...\n",
      "Building estimator 8 of 13 for this parallel run (total 13)...\n",
      "Building estimator 9 of 13 for this parallel run (total 13)...\n",
      "Building estimator 10 of 13 for this parallel run (total 13)...\n",
      "Building estimator 11 of 13 for this parallel run (total 13)...\n",
      "Building estimator 12 of 13 for this parallel run (total 13)...\n",
      "Building estimator 13 of 13 for this parallel run (total 13)...\n",
      "Building estimator 1 of 13 for this parallel run (total 13)...\n",
      "Building estimator 2 of 13 for this parallel run (total 13)...\n",
      "Building estimator 3 of 13 for this parallel run (total 13)...\n",
      "Building estimator 4 of 13 for this parallel run (total 13)...\n",
      "Building estimator 5 of 13 for this parallel run (total 13)...\n",
      "Building estimator 6 of 13 for this parallel run (total 13)...\n",
      "Building estimator 7 of 13 for this parallel run (total 13)...\n",
      "Building estimator 8 of 13 for this parallel run (total 13)...\n",
      "Building estimator 9 of 13 for this parallel run (total 13)...\n",
      "Building estimator 10 of 13 for this parallel run (total 13)...\n",
      "Building estimator 11 of 13 for this parallel run (total 13)...\n",
      "Building estimator 12 of 13 for this parallel run (total 13)...\n",
      "Building estimator 13 of 13 for this parallel run (total 13)...\n",
      "Building estimator 1 of 13 for this parallel run (total 13)...\n",
      "Building estimator 2 of 13 for this parallel run (total 13)...\n",
      "Building estimator 3 of 13 for this parallel run (total 13)...\n",
      "Building estimator 4 of 13 for this parallel run (total 13)...\n",
      "Building estimator 5 of 13 for this parallel run (total 13)...\n",
      "Building estimator 6 of 13 for this parallel run (total 13)...\n",
      "Building estimator 7 of 13 for this parallel run (total 13)...\n",
      "Building estimator 8 of 13 for this parallel run (total 13)...\n",
      "Building estimator 9 of 13 for this parallel run (total 13)...\n",
      "Building estimator 10 of 13 for this parallel run (total 13)...\n",
      "Building estimator 11 of 13 for this parallel run (total 13)...\n",
      "Building estimator 12 of 13 for this parallel run (total 13)...\n",
      "Building estimator 13 of 13 for this parallel run (total 13)...\n",
      "Building estimator 1 of 13 for this parallel run (total 13)...\n",
      "Building estimator 2 of 13 for this parallel run (total 13)...\n",
      "Building estimator 3 of 13 for this parallel run (total 13)...\n",
      "Building estimator 4 of 13 for this parallel run (total 13)...\n",
      "Building estimator 5 of 13 for this parallel run (total 13)...\n",
      "Building estimator 6 of 13 for this parallel run (total 13)...\n",
      "Building estimator 7 of 13 for this parallel run (total 13)...\n",
      "Building estimator 8 of 13 for this parallel run (total 13)...\n",
      "Building estimator 9 of 13 for this parallel run (total 13)...\n",
      "Building estimator 10 of 13 for this parallel run (total 13)...\n",
      "Building estimator 11 of 13 for this parallel run (total 13)...\n",
      "Building estimator 12 of 13 for this parallel run (total 13)...\n",
      "Building estimator 13 of 13 for this parallel run (total 13)...\n",
      "Building estimator 1 of 13 for this parallel run (total 13)...\n",
      "Building estimator 2 of 13 for this parallel run (total 13)...\n",
      "Building estimator 3 of 13 for this parallel run (total 13)...\n",
      "Building estimator 4 of 13 for this parallel run (total 13)...\n",
      "Building estimator 5 of 13 for this parallel run (total 13)...\n",
      "Building estimator 6 of 13 for this parallel run (total 13)...\n",
      "Building estimator 7 of 13 for this parallel run (total 13)...\n",
      "Building estimator 8 of 13 for this parallel run (total 13)...\n",
      "Building estimator 9 of 13 for this parallel run (total 13)...\n",
      "Building estimator 10 of 13 for this parallel run (total 13)...\n",
      "Building estimator 11 of 13 for this parallel run (total 13)...\n",
      "Building estimator 12 of 13 for this parallel run (total 13)...\n",
      "Building estimator 13 of 13 for this parallel run (total 13)...\n"
     ]
    },
    {
     "name": "stderr",
     "output_type": "stream",
     "text": [
      "[Parallel(n_jobs=1)]: Done   1 out of   1 | elapsed:    0.0s remaining:    0.0s\n",
      "[Parallel(n_jobs=1)]: Done   1 out of   1 | elapsed:    0.0s finished\n",
      "[Parallel(n_jobs=1)]: Using backend SequentialBackend with 1 concurrent workers.\n",
      "[Parallel(n_jobs=1)]: Done   1 out of   1 | elapsed:    0.0s remaining:    0.0s\n",
      "[Parallel(n_jobs=1)]: Done   1 out of   1 | elapsed:    0.0s finished\n",
      "[Parallel(n_jobs=1)]: Using backend SequentialBackend with 1 concurrent workers.\n",
      "[Parallel(n_jobs=1)]: Done   1 out of   1 | elapsed:    0.0s remaining:    0.0s\n",
      "[Parallel(n_jobs=1)]: Done   1 out of   1 | elapsed:    0.0s finished\n",
      "[Parallel(n_jobs=1)]: Using backend SequentialBackend with 1 concurrent workers.\n",
      "[Parallel(n_jobs=1)]: Done   1 out of   1 | elapsed:    0.0s remaining:    0.0s\n",
      "[Parallel(n_jobs=1)]: Done   1 out of   1 | elapsed:    0.0s finished\n",
      "[Parallel(n_jobs=1)]: Using backend SequentialBackend with 1 concurrent workers.\n",
      "[Parallel(n_jobs=1)]: Done   1 out of   1 | elapsed:    0.0s remaining:    0.0s\n",
      "[Parallel(n_jobs=1)]: Done   1 out of   1 | elapsed:    0.0s finished\n",
      "[Parallel(n_jobs=1)]: Using backend SequentialBackend with 1 concurrent workers.\n",
      "[Parallel(n_jobs=1)]: Done   1 out of   1 | elapsed:    0.0s remaining:    0.0s\n",
      "[Parallel(n_jobs=1)]: Done   1 out of   1 | elapsed:    0.0s finished\n",
      "[Parallel(n_jobs=1)]: Using backend SequentialBackend with 1 concurrent workers.\n",
      "[Parallel(n_jobs=1)]: Done   1 out of   1 | elapsed:    0.0s finished\n",
      "[Parallel(n_jobs=1)]: Using backend SequentialBackend with 1 concurrent workers.\n",
      "[Parallel(n_jobs=1)]: Done   1 out of   1 | elapsed:    0.0s finished\n",
      "[Parallel(n_jobs=1)]: Using backend SequentialBackend with 1 concurrent workers.\n",
      "[Parallel(n_jobs=1)]: Done   1 out of   1 | elapsed:    0.0s finished\n",
      "[Parallel(n_jobs=1)]: Using backend SequentialBackend with 1 concurrent workers.\n",
      "[Parallel(n_jobs=1)]: Done   1 out of   1 | elapsed:    0.0s finished\n",
      "[Parallel(n_jobs=1)]: Using backend SequentialBackend with 1 concurrent workers.\n",
      "[Parallel(n_jobs=1)]: Done   1 out of   1 | elapsed:    0.0s finished\n",
      "[Parallel(n_jobs=1)]: Using backend SequentialBackend with 1 concurrent workers.\n",
      "[Parallel(n_jobs=1)]: Done   1 out of   1 | elapsed:    0.0s finished\n",
      "[Parallel(n_jobs=1)]: Using backend SequentialBackend with 1 concurrent workers.\n",
      "[Parallel(n_jobs=1)]: Done   1 out of   1 | elapsed:    0.0s finished\n",
      "[Parallel(n_jobs=1)]: Using backend SequentialBackend with 1 concurrent workers.\n"
     ]
    },
    {
     "name": "stdout",
     "output_type": "stream",
     "text": [
      "Building estimator 1 of 13 for this parallel run (total 13)...\n",
      "Building estimator 2 of 13 for this parallel run (total 13)...\n",
      "Building estimator 3 of 13 for this parallel run (total 13)...\n",
      "Building estimator 4 of 13 for this parallel run (total 13)...\n",
      "Building estimator 5 of 13 for this parallel run (total 13)...\n",
      "Building estimator 6 of 13 for this parallel run (total 13)...\n",
      "Building estimator 7 of 13 for this parallel run (total 13)...\n",
      "Building estimator 8 of 13 for this parallel run (total 13)...\n",
      "Building estimator 9 of 13 for this parallel run (total 13)...\n",
      "Building estimator 10 of 13 for this parallel run (total 13)...\n",
      "Building estimator 11 of 13 for this parallel run (total 13)...\n",
      "Building estimator 12 of 13 for this parallel run (total 13)...\n",
      "Building estimator 13 of 13 for this parallel run (total 13)...\n",
      "Building estimator 1 of 13 for this parallel run (total 13)...\n",
      "Building estimator 2 of 13 for this parallel run (total 13)...\n",
      "Building estimator 3 of 13 for this parallel run (total 13)...\n",
      "Building estimator 4 of 13 for this parallel run (total 13)...\n",
      "Building estimator 5 of 13 for this parallel run (total 13)...\n",
      "Building estimator 6 of 13 for this parallel run (total 13)...\n",
      "Building estimator 7 of 13 for this parallel run (total 13)...\n",
      "Building estimator 8 of 13 for this parallel run (total 13)...\n",
      "Building estimator 9 of 13 for this parallel run (total 13)...\n",
      "Building estimator 10 of 13 for this parallel run (total 13)...\n",
      "Building estimator 11 of 13 for this parallel run (total 13)...\n",
      "Building estimator 12 of 13 for this parallel run (total 13)...\n",
      "Building estimator 13 of 13 for this parallel run (total 13)...\n"
     ]
    },
    {
     "name": "stderr",
     "output_type": "stream",
     "text": [
      "[Parallel(n_jobs=1)]: Done   1 out of   1 | elapsed:    0.0s finished\n",
      "[Parallel(n_jobs=1)]: Using backend SequentialBackend with 1 concurrent workers.\n",
      "[Parallel(n_jobs=1)]: Done   1 out of   1 | elapsed:    0.0s finished\n",
      "[Parallel(n_jobs=1)]: Using backend SequentialBackend with 1 concurrent workers.\n",
      "[Parallel(n_jobs=1)]: Done   1 out of   1 | elapsed:    0.0s finished\n",
      "[Parallel(n_jobs=1)]: Using backend SequentialBackend with 1 concurrent workers.\n",
      "[Parallel(n_jobs=1)]: Done   1 out of   1 | elapsed:    0.0s remaining:    0.0s\n",
      "[Parallel(n_jobs=1)]: Done   1 out of   1 | elapsed:    0.0s finished\n",
      "[Parallel(n_jobs=1)]: Using backend SequentialBackend with 1 concurrent workers.\n",
      "[Parallel(n_jobs=1)]: Done   1 out of   1 | elapsed:    0.0s remaining:    0.0s\n",
      "[Parallel(n_jobs=1)]: Done   1 out of   1 | elapsed:    0.0s finished\n",
      "[Parallel(n_jobs=1)]: Using backend SequentialBackend with 1 concurrent workers.\n",
      "[Parallel(n_jobs=1)]: Done   1 out of   1 | elapsed:    0.0s remaining:    0.0s\n",
      "[Parallel(n_jobs=1)]: Done   1 out of   1 | elapsed:    0.0s finished\n",
      "[Parallel(n_jobs=1)]: Using backend SequentialBackend with 1 concurrent workers.\n",
      "[Parallel(n_jobs=1)]: Done   1 out of   1 | elapsed:    0.0s remaining:    0.0s\n",
      "[Parallel(n_jobs=1)]: Done   1 out of   1 | elapsed:    0.0s finished\n",
      "[Parallel(n_jobs=1)]: Using backend SequentialBackend with 1 concurrent workers.\n",
      "[Parallel(n_jobs=1)]: Done   1 out of   1 | elapsed:    0.0s remaining:    0.0s\n",
      "[Parallel(n_jobs=1)]: Done   1 out of   1 | elapsed:    0.0s finished\n",
      "[Parallel(n_jobs=1)]: Using backend SequentialBackend with 1 concurrent workers.\n",
      "[Parallel(n_jobs=1)]: Done   1 out of   1 | elapsed:    0.0s remaining:    0.0s\n",
      "[Parallel(n_jobs=1)]: Done   1 out of   1 | elapsed:    0.0s finished\n",
      "[Parallel(n_jobs=1)]: Using backend SequentialBackend with 1 concurrent workers.\n",
      "[Parallel(n_jobs=1)]: Done   1 out of   1 | elapsed:    0.0s remaining:    0.0s\n",
      "[Parallel(n_jobs=1)]: Done   1 out of   1 | elapsed:    0.0s finished\n",
      "[Parallel(n_jobs=1)]: Using backend SequentialBackend with 1 concurrent workers.\n",
      "[Parallel(n_jobs=1)]: Done   1 out of   1 | elapsed:    0.0s remaining:    0.0s\n",
      "[Parallel(n_jobs=1)]: Done   1 out of   1 | elapsed:    0.0s finished\n",
      "[Parallel(n_jobs=1)]: Using backend SequentialBackend with 1 concurrent workers.\n",
      "[Parallel(n_jobs=1)]: Done   1 out of   1 | elapsed:    0.0s remaining:    0.0s\n",
      "[Parallel(n_jobs=1)]: Done   1 out of   1 | elapsed:    0.0s finished\n",
      "[Parallel(n_jobs=1)]: Using backend SequentialBackend with 1 concurrent workers.\n",
      "[Parallel(n_jobs=1)]: Done   1 out of   1 | elapsed:    0.0s remaining:    0.0s\n",
      "[Parallel(n_jobs=1)]: Done   1 out of   1 | elapsed:    0.0s finished\n",
      "[Parallel(n_jobs=1)]: Using backend SequentialBackend with 1 concurrent workers.\n"
     ]
    },
    {
     "name": "stdout",
     "output_type": "stream",
     "text": [
      "Building estimator 1 of 14 for this parallel run (total 14)...\n",
      "Building estimator 2 of 14 for this parallel run (total 14)...\n",
      "Building estimator 3 of 14 for this parallel run (total 14)...\n",
      "Building estimator 4 of 14 for this parallel run (total 14)...\n",
      "Building estimator 5 of 14 for this parallel run (total 14)...\n",
      "Building estimator 6 of 14 for this parallel run (total 14)...\n",
      "Building estimator 7 of 14 for this parallel run (total 14)...\n",
      "Building estimator 8 of 14 for this parallel run (total 14)...\n",
      "Building estimator 9 of 14 for this parallel run (total 14)...\n",
      "Building estimator 10 of 14 for this parallel run (total 14)...\n",
      "Building estimator 11 of 14 for this parallel run (total 14)...\n",
      "Building estimator 12 of 14 for this parallel run (total 14)...\n",
      "Building estimator 13 of 14 for this parallel run (total 14)...\n",
      "Building estimator 14 of 14 for this parallel run (total 14)...\n",
      "Building estimator 1 of 14 for this parallel run (total 14)...\n",
      "Building estimator 2 of 14 for this parallel run (total 14)...\n",
      "Building estimator 3 of 14 for this parallel run (total 14)...\n",
      "Building estimator 4 of 14 for this parallel run (total 14)...\n",
      "Building estimator 5 of 14 for this parallel run (total 14)...\n",
      "Building estimator 6 of 14 for this parallel run (total 14)...\n",
      "Building estimator 7 of 14 for this parallel run (total 14)...\n",
      "Building estimator 8 of 14 for this parallel run (total 14)...\n",
      "Building estimator 9 of 14 for this parallel run (total 14)...\n",
      "Building estimator 10 of 14 for this parallel run (total 14)...\n",
      "Building estimator 11 of 14 for this parallel run (total 14)...\n",
      "Building estimator 12 of 14 for this parallel run (total 14)...\n",
      "Building estimator 13 of 14 for this parallel run (total 14)...\n",
      "Building estimator 14 of 14 for this parallel run (total 14)...\n",
      "Building estimator 1 of 14 for this parallel run (total 14)...\n",
      "Building estimator 2 of 14 for this parallel run (total 14)...\n",
      "Building estimator 3 of 14 for this parallel run (total 14)...\n",
      "Building estimator 4 of 14 for this parallel run (total 14)...\n",
      "Building estimator 5 of 14 for this parallel run (total 14)...\n",
      "Building estimator 6 of 14 for this parallel run (total 14)...\n",
      "Building estimator 7 of 14 for this parallel run (total 14)...\n",
      "Building estimator 8 of 14 for this parallel run (total 14)...\n",
      "Building estimator 9 of 14 for this parallel run (total 14)...\n",
      "Building estimator 10 of 14 for this parallel run (total 14)...\n",
      "Building estimator 11 of 14 for this parallel run (total 14)...\n",
      "Building estimator 12 of 14 for this parallel run (total 14)...\n",
      "Building estimator 13 of 14 for this parallel run (total 14)...\n",
      "Building estimator 14 of 14 for this parallel run (total 14)...\n",
      "Building estimator 1 of 14 for this parallel run (total 14)...\n",
      "Building estimator 2 of 14 for this parallel run (total 14)...\n",
      "Building estimator 3 of 14 for this parallel run (total 14)...\n",
      "Building estimator 4 of 14 for this parallel run (total 14)...\n",
      "Building estimator 5 of 14 for this parallel run (total 14)...\n",
      "Building estimator 6 of 14 for this parallel run (total 14)...\n",
      "Building estimator 7 of 14 for this parallel run (total 14)...\n",
      "Building estimator 8 of 14 for this parallel run (total 14)...\n",
      "Building estimator 9 of 14 for this parallel run (total 14)...\n",
      "Building estimator 10 of 14 for this parallel run (total 14)...\n",
      "Building estimator 11 of 14 for this parallel run (total 14)...\n",
      "Building estimator 12 of 14 for this parallel run (total 14)...\n",
      "Building estimator 13 of 14 for this parallel run (total 14)...\n",
      "Building estimator 14 of 14 for this parallel run (total 14)...\n",
      "Building estimator 1 of 14 for this parallel run (total 14)...\n",
      "Building estimator 2 of 14 for this parallel run (total 14)...\n",
      "Building estimator 3 of 14 for this parallel run (total 14)...\n",
      "Building estimator 4 of 14 for this parallel run (total 14)...\n",
      "Building estimator 5 of 14 for this parallel run (total 14)...\n",
      "Building estimator 6 of 14 for this parallel run (total 14)...\n",
      "Building estimator 7 of 14 for this parallel run (total 14)...\n",
      "Building estimator 8 of 14 for this parallel run (total 14)...\n",
      "Building estimator 9 of 14 for this parallel run (total 14)...\n",
      "Building estimator 10 of 14 for this parallel run (total 14)...\n",
      "Building estimator 11 of 14 for this parallel run (total 14)...\n",
      "Building estimator 12 of 14 for this parallel run (total 14)...\n",
      "Building estimator 13 of 14 for this parallel run (total 14)...\n",
      "Building estimator 14 of 14 for this parallel run (total 14)...\n",
      "Building estimator 1 of 14 for this parallel run (total 14)...\n",
      "Building estimator 2 of 14 for this parallel run (total 14)...\n",
      "Building estimator 3 of 14 for this parallel run (total 14)...\n",
      "Building estimator 4 of 14 for this parallel run (total 14)...\n",
      "Building estimator 5 of 14 for this parallel run (total 14)...\n",
      "Building estimator 6 of 14 for this parallel run (total 14)...\n",
      "Building estimator 7 of 14 for this parallel run (total 14)...\n",
      "Building estimator 8 of 14 for this parallel run (total 14)...\n",
      "Building estimator 9 of 14 for this parallel run (total 14)...\n",
      "Building estimator 10 of 14 for this parallel run (total 14)...\n",
      "Building estimator 11 of 14 for this parallel run (total 14)...\n",
      "Building estimator 12 of 14 for this parallel run (total 14)...\n",
      "Building estimator 13 of 14 for this parallel run (total 14)...\n",
      "Building estimator 14 of 14 for this parallel run (total 14)...\n",
      "Building estimator 1 of 14 for this parallel run (total 14)...\n"
     ]
    },
    {
     "name": "stderr",
     "output_type": "stream",
     "text": [
      "[Parallel(n_jobs=1)]: Done   1 out of   1 | elapsed:    0.0s remaining:    0.0s\n",
      "[Parallel(n_jobs=1)]: Done   1 out of   1 | elapsed:    0.0s finished\n",
      "[Parallel(n_jobs=1)]: Using backend SequentialBackend with 1 concurrent workers.\n",
      "[Parallel(n_jobs=1)]: Done   1 out of   1 | elapsed:    0.0s remaining:    0.0s\n",
      "[Parallel(n_jobs=1)]: Done   1 out of   1 | elapsed:    0.0s finished\n",
      "[Parallel(n_jobs=1)]: Using backend SequentialBackend with 1 concurrent workers.\n",
      "[Parallel(n_jobs=1)]: Done   1 out of   1 | elapsed:    0.0s remaining:    0.0s\n",
      "[Parallel(n_jobs=1)]: Done   1 out of   1 | elapsed:    0.0s finished\n",
      "[Parallel(n_jobs=1)]: Using backend SequentialBackend with 1 concurrent workers.\n",
      "[Parallel(n_jobs=1)]: Done   1 out of   1 | elapsed:    0.0s remaining:    0.0s\n",
      "[Parallel(n_jobs=1)]: Done   1 out of   1 | elapsed:    0.0s finished\n",
      "[Parallel(n_jobs=1)]: Using backend SequentialBackend with 1 concurrent workers.\n",
      "[Parallel(n_jobs=1)]: Done   1 out of   1 | elapsed:    0.0s remaining:    0.0s\n",
      "[Parallel(n_jobs=1)]: Done   1 out of   1 | elapsed:    0.0s finished\n",
      "[Parallel(n_jobs=1)]: Using backend SequentialBackend with 1 concurrent workers.\n",
      "[Parallel(n_jobs=1)]: Done   1 out of   1 | elapsed:    0.0s remaining:    0.0s\n",
      "[Parallel(n_jobs=1)]: Done   1 out of   1 | elapsed:    0.0s finished\n",
      "[Parallel(n_jobs=1)]: Using backend SequentialBackend with 1 concurrent workers.\n",
      "[Parallel(n_jobs=1)]: Done   1 out of   1 | elapsed:    0.0s remaining:    0.0s\n",
      "[Parallel(n_jobs=1)]: Done   1 out of   1 | elapsed:    0.0s finished\n",
      "[Parallel(n_jobs=1)]: Using backend SequentialBackend with 1 concurrent workers.\n",
      "[Parallel(n_jobs=1)]: Done   1 out of   1 | elapsed:    0.0s remaining:    0.0s\n",
      "[Parallel(n_jobs=1)]: Done   1 out of   1 | elapsed:    0.0s finished\n",
      "[Parallel(n_jobs=1)]: Using backend SequentialBackend with 1 concurrent workers.\n",
      "[Parallel(n_jobs=1)]: Done   1 out of   1 | elapsed:    0.0s remaining:    0.0s\n",
      "[Parallel(n_jobs=1)]: Done   1 out of   1 | elapsed:    0.0s finished\n",
      "[Parallel(n_jobs=1)]: Using backend SequentialBackend with 1 concurrent workers.\n",
      "[Parallel(n_jobs=1)]: Done   1 out of   1 | elapsed:    0.0s remaining:    0.0s\n",
      "[Parallel(n_jobs=1)]: Done   1 out of   1 | elapsed:    0.0s finished\n",
      "[Parallel(n_jobs=1)]: Using backend SequentialBackend with 1 concurrent workers.\n",
      "[Parallel(n_jobs=1)]: Done   1 out of   1 | elapsed:    0.0s remaining:    0.0s\n",
      "[Parallel(n_jobs=1)]: Done   1 out of   1 | elapsed:    0.0s finished\n",
      "[Parallel(n_jobs=1)]: Using backend SequentialBackend with 1 concurrent workers.\n",
      "[Parallel(n_jobs=1)]: Done   1 out of   1 | elapsed:    0.0s remaining:    0.0s\n",
      "[Parallel(n_jobs=1)]: Done   1 out of   1 | elapsed:    0.0s finished\n",
      "[Parallel(n_jobs=1)]: Using backend SequentialBackend with 1 concurrent workers.\n",
      "[Parallel(n_jobs=1)]: Done   1 out of   1 | elapsed:    0.0s remaining:    0.0s\n"
     ]
    },
    {
     "name": "stdout",
     "output_type": "stream",
     "text": [
      "Building estimator 2 of 14 for this parallel run (total 14)...\n",
      "Building estimator 3 of 14 for this parallel run (total 14)...\n",
      "Building estimator 4 of 14 for this parallel run (total 14)...\n",
      "Building estimator 5 of 14 for this parallel run (total 14)...\n",
      "Building estimator 6 of 14 for this parallel run (total 14)...\n",
      "Building estimator 7 of 14 for this parallel run (total 14)...\n",
      "Building estimator 8 of 14 for this parallel run (total 14)...\n",
      "Building estimator 9 of 14 for this parallel run (total 14)...\n",
      "Building estimator 10 of 14 for this parallel run (total 14)...\n",
      "Building estimator 11 of 14 for this parallel run (total 14)...\n",
      "Building estimator 12 of 14 for this parallel run (total 14)...\n",
      "Building estimator 13 of 14 for this parallel run (total 14)...\n",
      "Building estimator 14 of 14 for this parallel run (total 14)...\n",
      "Building estimator 1 of 14 for this parallel run (total 14)...\n",
      "Building estimator 2 of 14 for this parallel run (total 14)...\n",
      "Building estimator 3 of 14 for this parallel run (total 14)...\n",
      "Building estimator 4 of 14 for this parallel run (total 14)...\n",
      "Building estimator 5 of 14 for this parallel run (total 14)...\n",
      "Building estimator 6 of 14 for this parallel run (total 14)...\n",
      "Building estimator 7 of 14 for this parallel run (total 14)...\n",
      "Building estimator 8 of 14 for this parallel run (total 14)...\n",
      "Building estimator 9 of 14 for this parallel run (total 14)...\n",
      "Building estimator 10 of 14 for this parallel run (total 14)...\n",
      "Building estimator 11 of 14 for this parallel run (total 14)...\n",
      "Building estimator 12 of 14 for this parallel run (total 14)...\n",
      "Building estimator 13 of 14 for this parallel run (total 14)...\n",
      "Building estimator 14 of 14 for this parallel run (total 14)...\n",
      "Building estimator 1 of 14 for this parallel run (total 14)...\n",
      "Building estimator 2 of 14 for this parallel run (total 14)...\n",
      "Building estimator 3 of 14 for this parallel run (total 14)...\n",
      "Building estimator 4 of 14 for this parallel run (total 14)...\n",
      "Building estimator 5 of 14 for this parallel run (total 14)...\n",
      "Building estimator 6 of 14 for this parallel run (total 14)...\n",
      "Building estimator 7 of 14 for this parallel run (total 14)...\n",
      "Building estimator 8 of 14 for this parallel run (total 14)...\n",
      "Building estimator 9 of 14 for this parallel run (total 14)...\n",
      "Building estimator 10 of 14 for this parallel run (total 14)...\n",
      "Building estimator 11 of 14 for this parallel run (total 14)...\n",
      "Building estimator 12 of 14 for this parallel run (total 14)...\n",
      "Building estimator 13 of 14 for this parallel run (total 14)...\n",
      "Building estimator 14 of 14 for this parallel run (total 14)...\n",
      "Building estimator 1 of 14 for this parallel run (total 14)...\n",
      "Building estimator 2 of 14 for this parallel run (total 14)...\n",
      "Building estimator 3 of 14 for this parallel run (total 14)...\n",
      "Building estimator 4 of 14 for this parallel run (total 14)...\n",
      "Building estimator 5 of 14 for this parallel run (total 14)...\n",
      "Building estimator 6 of 14 for this parallel run (total 14)...\n",
      "Building estimator 7 of 14 for this parallel run (total 14)...\n",
      "Building estimator 8 of 14 for this parallel run (total 14)...\n",
      "Building estimator 9 of 14 for this parallel run (total 14)...\n",
      "Building estimator 10 of 14 for this parallel run (total 14)...\n",
      "Building estimator 11 of 14 for this parallel run (total 14)...\n",
      "Building estimator 12 of 14 for this parallel run (total 14)...\n",
      "Building estimator 13 of 14 for this parallel run (total 14)...\n",
      "Building estimator 14 of 14 for this parallel run (total 14)...\n",
      "Building estimator 1 of 14 for this parallel run (total 14)...\n",
      "Building estimator 2 of 14 for this parallel run (total 14)...\n",
      "Building estimator 3 of 14 for this parallel run (total 14)...\n",
      "Building estimator 4 of 14 for this parallel run (total 14)...\n",
      "Building estimator 5 of 14 for this parallel run (total 14)...\n",
      "Building estimator 6 of 14 for this parallel run (total 14)...\n",
      "Building estimator 7 of 14 for this parallel run (total 14)...\n",
      "Building estimator 8 of 14 for this parallel run (total 14)...\n",
      "Building estimator 9 of 14 for this parallel run (total 14)...\n",
      "Building estimator 10 of 14 for this parallel run (total 14)...\n",
      "Building estimator 11 of 14 for this parallel run (total 14)...\n",
      "Building estimator 12 of 14 for this parallel run (total 14)...\n",
      "Building estimator 13 of 14 for this parallel run (total 14)...\n",
      "Building estimator 14 of 14 for this parallel run (total 14)...\n",
      "Building estimator 1 of 14 for this parallel run (total 14)...\n",
      "Building estimator 2 of 14 for this parallel run (total 14)...\n",
      "Building estimator 3 of 14 for this parallel run (total 14)...\n",
      "Building estimator 4 of 14 for this parallel run (total 14)...\n",
      "Building estimator 5 of 14 for this parallel run (total 14)...\n",
      "Building estimator 6 of 14 for this parallel run (total 14)...\n",
      "Building estimator 7 of 14 for this parallel run (total 14)...\n",
      "Building estimator 8 of 14 for this parallel run (total 14)...\n",
      "Building estimator 9 of 14 for this parallel run (total 14)...\n",
      "Building estimator 10 of 14 for this parallel run (total 14)...\n",
      "Building estimator 11 of 14 for this parallel run (total 14)...\n",
      "Building estimator 12 of 14 for this parallel run (total 14)...\n",
      "Building estimator 13 of 14 for this parallel run (total 14)...\n",
      "Building estimator 14 of 14 for this parallel run (total 14)...\n",
      "Building estimator 1 of 14 for this parallel run (total 14)...\n",
      "Building estimator 2 of 14 for this parallel run (total 14)...\n",
      "Building estimator 3 of 14 for this parallel run (total 14)...\n",
      "Building estimator 4 of 14 for this parallel run (total 14)...\n"
     ]
    },
    {
     "name": "stderr",
     "output_type": "stream",
     "text": [
      "[Parallel(n_jobs=1)]: Done   1 out of   1 | elapsed:    0.0s finished\n",
      "[Parallel(n_jobs=1)]: Using backend SequentialBackend with 1 concurrent workers.\n",
      "[Parallel(n_jobs=1)]: Done   1 out of   1 | elapsed:    0.0s remaining:    0.0s\n",
      "[Parallel(n_jobs=1)]: Done   1 out of   1 | elapsed:    0.0s finished\n",
      "[Parallel(n_jobs=1)]: Using backend SequentialBackend with 1 concurrent workers.\n",
      "[Parallel(n_jobs=1)]: Done   1 out of   1 | elapsed:    0.0s remaining:    0.0s\n",
      "[Parallel(n_jobs=1)]: Done   1 out of   1 | elapsed:    0.0s finished\n",
      "[Parallel(n_jobs=1)]: Using backend SequentialBackend with 1 concurrent workers.\n",
      "[Parallel(n_jobs=1)]: Done   1 out of   1 | elapsed:    0.0s remaining:    0.0s\n",
      "[Parallel(n_jobs=1)]: Done   1 out of   1 | elapsed:    0.0s finished\n",
      "[Parallel(n_jobs=1)]: Using backend SequentialBackend with 1 concurrent workers.\n",
      "[Parallel(n_jobs=1)]: Done   1 out of   1 | elapsed:    0.0s remaining:    0.0s\n",
      "[Parallel(n_jobs=1)]: Done   1 out of   1 | elapsed:    0.0s finished\n",
      "[Parallel(n_jobs=1)]: Using backend SequentialBackend with 1 concurrent workers.\n",
      "[Parallel(n_jobs=1)]: Done   1 out of   1 | elapsed:    0.0s remaining:    0.0s\n",
      "[Parallel(n_jobs=1)]: Done   1 out of   1 | elapsed:    0.0s finished\n",
      "[Parallel(n_jobs=1)]: Using backend SequentialBackend with 1 concurrent workers.\n",
      "[Parallel(n_jobs=1)]: Done   1 out of   1 | elapsed:    0.0s remaining:    0.0s\n",
      "[Parallel(n_jobs=1)]: Done   1 out of   1 | elapsed:    0.0s finished\n",
      "[Parallel(n_jobs=1)]: Using backend SequentialBackend with 1 concurrent workers.\n",
      "[Parallel(n_jobs=1)]: Done   1 out of   1 | elapsed:    0.0s remaining:    0.0s\n",
      "[Parallel(n_jobs=1)]: Done   1 out of   1 | elapsed:    0.0s finished\n"
     ]
    },
    {
     "name": "stdout",
     "output_type": "stream",
     "text": [
      "Building estimator 5 of 14 for this parallel run (total 14)...\n",
      "Building estimator 6 of 14 for this parallel run (total 14)...\n",
      "Building estimator 7 of 14 for this parallel run (total 14)...\n",
      "Building estimator 8 of 14 for this parallel run (total 14)...\n",
      "Building estimator 9 of 14 for this parallel run (total 14)...\n",
      "Building estimator 10 of 14 for this parallel run (total 14)...\n",
      "Building estimator 11 of 14 for this parallel run (total 14)...\n",
      "Building estimator 12 of 14 for this parallel run (total 14)...\n",
      "Building estimator 13 of 14 for this parallel run (total 14)...\n",
      "Building estimator 14 of 14 for this parallel run (total 14)...\n",
      "Building estimator 1 of 14 for this parallel run (total 14)...\n",
      "Building estimator 2 of 14 for this parallel run (total 14)...\n",
      "Building estimator 3 of 14 for this parallel run (total 14)...\n",
      "Building estimator 4 of 14 for this parallel run (total 14)...\n",
      "Building estimator 5 of 14 for this parallel run (total 14)...\n",
      "Building estimator 6 of 14 for this parallel run (total 14)...\n",
      "Building estimator 7 of 14 for this parallel run (total 14)...\n",
      "Building estimator 8 of 14 for this parallel run (total 14)...\n",
      "Building estimator 9 of 14 for this parallel run (total 14)...\n",
      "Building estimator 10 of 14 for this parallel run (total 14)...\n",
      "Building estimator 11 of 14 for this parallel run (total 14)...\n",
      "Building estimator 12 of 14 for this parallel run (total 14)...\n",
      "Building estimator 13 of 14 for this parallel run (total 14)...\n",
      "Building estimator 14 of 14 for this parallel run (total 14)...\n",
      "Building estimator 1 of 14 for this parallel run (total 14)...\n",
      "Building estimator 2 of 14 for this parallel run (total 14)...\n",
      "Building estimator 3 of 14 for this parallel run (total 14)...\n",
      "Building estimator 4 of 14 for this parallel run (total 14)...\n",
      "Building estimator 5 of 14 for this parallel run (total 14)...\n",
      "Building estimator 6 of 14 for this parallel run (total 14)...\n",
      "Building estimator 7 of 14 for this parallel run (total 14)...\n",
      "Building estimator 8 of 14 for this parallel run (total 14)...\n",
      "Building estimator 9 of 14 for this parallel run (total 14)...\n",
      "Building estimator 10 of 14 for this parallel run (total 14)...\n",
      "Building estimator 11 of 14 for this parallel run (total 14)...\n",
      "Building estimator 12 of 14 for this parallel run (total 14)...\n",
      "Building estimator 13 of 14 for this parallel run (total 14)...\n",
      "Building estimator 14 of 14 for this parallel run (total 14)...\n",
      "Building estimator 1 of 11 for this parallel run (total 11)...\n",
      "Building estimator 2 of 11 for this parallel run (total 11)...\n",
      "Building estimator 3 of 11 for this parallel run (total 11)...\n",
      "Building estimator 4 of 11 for this parallel run (total 11)...\n",
      "Building estimator 5 of 11 for this parallel run (total 11)...\n",
      "Building estimator 6 of 11 for this parallel run (total 11)...\n",
      "Building estimator 7 of 11 for this parallel run (total 11)...\n",
      "Building estimator 8 of 11 for this parallel run (total 11)...\n",
      "Building estimator 9 of 11 for this parallel run (total 11)...\n",
      "Building estimator 10 of 11 for this parallel run (total 11)...\n",
      "Building estimator 11 of 11 for this parallel run (total 11)...\n"
     ]
    },
    {
     "name": "stderr",
     "output_type": "stream",
     "text": [
      "[Parallel(n_jobs=1)]: Using backend SequentialBackend with 1 concurrent workers.\n",
      "[Parallel(n_jobs=1)]: Done   1 out of   1 | elapsed:    0.0s remaining:    0.0s\n",
      "[Parallel(n_jobs=1)]: Done   1 out of   1 | elapsed:    0.0s finished\n"
     ]
    },
    {
     "data": {
      "text/plain": [
       "GridSearchCV(cv=5, estimator=BaggingClassifier(),\n",
       "             param_grid={'max_features': array([0.01, 1.01, 2.01, 3.01, 4.01]),\n",
       "                         'max_samples': array([0.01, 1.01, 2.01, 3.01, 4.01]),\n",
       "                         'n_estimators': array([ 7,  8,  9, 10, 11, 12, 13, 14]),\n",
       "                         'verbose': array([1, 2, 3, 4])})"
      ]
     },
     "execution_count": 79,
     "metadata": {},
     "output_type": "execute_result"
    }
   ],
   "source": [
    "from sklearn.ensemble import BaggingClassifier\n",
    "\n",
    "paramBG = {\n",
    "    'n_estimators' : np.arange(7, 15),\n",
    "    'max_samples' : np.arange(0.01, 5),\n",
    "    'max_features' : np.arange(0.01, 5),\n",
    "    'verbose' : np.arange(1, 5)\n",
    "}\n",
    "\n",
    "gridBG = GridSearchCV(BaggingClassifier(), paramBG, cv = 5)\n",
    "gridBG.fit(X_train, y_train)"
   ]
  },
  {
   "cell_type": "code",
   "execution_count": 80,
   "metadata": {
    "colab": {
     "base_uri": "https://localhost:8080/"
    },
    "id": "6gTbuFg-DkHM",
    "outputId": "81eae927-7761-4cef-c31b-d5c30aaf6003"
   },
   "outputs": [
    {
     "data": {
      "text/plain": [
       "0.7027777777777777"
      ]
     },
     "execution_count": 80,
     "metadata": {},
     "output_type": "execute_result"
    }
   ],
   "source": [
    "gridBG.best_score_"
   ]
  },
  {
   "cell_type": "code",
   "execution_count": 81,
   "metadata": {
    "colab": {
     "base_uri": "https://localhost:8080/"
    },
    "id": "7Rs18ZvxDkHM",
    "outputId": "24dc81c5-06a0-4d40-ec05-e654f203f75f"
   },
   "outputs": [
    {
     "data": {
      "text/plain": [
       "{'max_features': 0.01, 'max_samples': 0.01, 'n_estimators': 11, 'verbose': 2}"
      ]
     },
     "execution_count": 81,
     "metadata": {},
     "output_type": "execute_result"
    }
   ],
   "source": [
    "gridBG.best_params_"
   ]
  },
  {
   "cell_type": "code",
   "execution_count": 82,
   "metadata": {
    "colab": {
     "base_uri": "https://localhost:8080/"
    },
    "id": "7rWLd7GbDkHN",
    "outputId": "37701cb6-25be-4bcd-ace3-48085173a230"
   },
   "outputs": [
    {
     "name": "stdout",
     "output_type": "stream",
     "text": [
      "Le temps dexecution est de :0.0072422999946866184\n",
      "train: 0.6986111111111111\n",
      "test: 0.6888888888888889\n"
     ]
    },
    {
     "name": "stderr",
     "output_type": "stream",
     "text": [
      "[Parallel(n_jobs=1)]: Using backend SequentialBackend with 1 concurrent workers.\n",
      "[Parallel(n_jobs=1)]: Done   1 out of   1 | elapsed:    0.0s remaining:    0.0s\n",
      "[Parallel(n_jobs=1)]: Done   1 out of   1 | elapsed:    0.0s finished\n",
      "[Parallel(n_jobs=1)]: Using backend SequentialBackend with 1 concurrent workers.\n",
      "[Parallel(n_jobs=1)]: Done   1 out of   1 | elapsed:    0.0s remaining:    0.0s\n",
      "[Parallel(n_jobs=1)]: Done   1 out of   1 | elapsed:    0.0s finished\n",
      "[Parallel(n_jobs=1)]: Using backend SequentialBackend with 1 concurrent workers.\n",
      "[Parallel(n_jobs=1)]: Done   1 out of   1 | elapsed:    0.0s remaining:    0.0s\n",
      "[Parallel(n_jobs=1)]: Done   1 out of   1 | elapsed:    0.0s finished\n"
     ]
    }
   ],
   "source": [
    "start = timeit.default_timer()\n",
    "\n",
    "modelBG = gridBG.best_estimator_\n",
    "modelBG.score(X_test, y_test)\n",
    "\n",
    "stop = timeit.default_timer()\n",
    "execution_time = stop - start\n",
    "print(\"Le temps dexecution est de :\" +str(execution_time))\n",
    "print(\"train:\",modelBG.score(X_train, y_train))\n",
    "print(\"test:\", modelBG.score(X_test, y_test))\n",
    "\n"
   ]
  },
  {
   "cell_type": "code",
   "execution_count": 83,
   "metadata": {
    "colab": {
     "base_uri": "https://localhost:8080/"
    },
    "id": "QVgoZO0NCD7M",
    "outputId": "c3a39261-8590-4719-fd5d-696f2e917afb"
   },
   "outputs": [
    {
     "name": "stdout",
     "output_type": "stream",
     "text": [
      "0.7388888888888889\n",
      "[[ 13  43]\n",
      " [  4 120]]\n",
      "              precision    recall  f1-score   support\n",
      "\n",
      "           0       0.76      0.23      0.36        56\n",
      "           1       0.74      0.97      0.84       124\n",
      "\n",
      "    accuracy                           0.74       180\n",
      "   macro avg       0.75      0.60      0.60       180\n",
      "weighted avg       0.75      0.74      0.69       180\n",
      "\n"
     ]
    }
   ],
   "source": [
    "BG = BaggingClassifier(base_estimator =KNeighborsClassifier(algorithm= 'ball_tree',\n",
    " metric = 'euclidean',\n",
    " n_neighbors=  32,\n",
    " weights= 'distance'),\n",
    "n_estimators = 13)\n",
    "BG.fit(X_train, y_train)\n",
    "y_pred_BG = BG.predict(X_test)\n",
    "print(accuracy_score(y_pred_BG, y_test))\n",
    "print(confusion_matrix(y_test, y_pred_BG))\n",
    "print(classification_report(y_test, y_pred_BG))"
   ]
  },
  {
   "cell_type": "markdown",
   "metadata": {
    "id": "9ueLqeRbZ47F"
   },
   "source": [
    "# f- Pour NuSVC"
   ]
  },
  {
   "cell_type": "code",
   "execution_count": 51,
   "metadata": {
    "colab": {
     "base_uri": "https://localhost:8080/"
    },
    "id": "u1at_AWjaWMg",
    "outputId": "0abc083e-84d1-4611-eb24-f73ffab11899"
   },
   "outputs": [
    {
     "data": {
      "text/plain": [
       "GridSearchCV(cv=5, estimator=NuSVC(),\n",
       "             param_grid={'decision_function_shape': ['ovo', 'ovr'],\n",
       "                         'gamma': ['scale', 'auto'],\n",
       "                         'kernel': ['linear', 'poly', 'rbf', 'sigmoid']})"
      ]
     },
     "execution_count": 51,
     "metadata": {},
     "output_type": "execute_result"
    }
   ],
   "source": [
    "from sklearn.svm import NuSVC\n",
    "paramNuSVC = {\n",
    "           'kernel' : ['linear', 'poly','rbf', 'sigmoid'],\n",
    "            'gamma' : ['scale', 'auto'],\n",
    "            'decision_function_shape': ['ovo', 'ovr']\n",
    "           }\n",
    "gridNuSVC = GridSearchCV(NuSVC(), paramNuSVC, cv=5)\n",
    "gridNuSVC.fit(X_train, y_train)"
   ]
  },
  {
   "cell_type": "code",
   "execution_count": 52,
   "metadata": {
    "colab": {
     "base_uri": "https://localhost:8080/"
    },
    "id": "N1C3mw-rdjiN",
    "outputId": "d177df98-0aaf-416d-ee5c-32b7849d084f"
   },
   "outputs": [
    {
     "data": {
      "text/plain": [
       "0.7513888888888889"
      ]
     },
     "execution_count": 52,
     "metadata": {},
     "output_type": "execute_result"
    }
   ],
   "source": [
    "gridNuSVC.best_score_"
   ]
  },
  {
   "cell_type": "code",
   "execution_count": 53,
   "metadata": {
    "colab": {
     "base_uri": "https://localhost:8080/"
    },
    "id": "uCy9T8etdrO_",
    "outputId": "ff2e878e-b80c-4e5f-c0dc-f1ee38228ddc"
   },
   "outputs": [
    {
     "data": {
      "text/plain": [
       "{'decision_function_shape': 'ovo', 'gamma': 'auto', 'kernel': 'rbf'}"
      ]
     },
     "execution_count": 53,
     "metadata": {},
     "output_type": "execute_result"
    }
   ],
   "source": [
    "gridNuSVC.best_params_"
   ]
  },
  {
   "cell_type": "code",
   "execution_count": 54,
   "metadata": {
    "colab": {
     "base_uri": "https://localhost:8080/"
    },
    "id": "b4OiYXCYdzKt",
    "outputId": "5fffca54-af8b-4894-c864-be2305bddcc4"
   },
   "outputs": [
    {
     "name": "stdout",
     "output_type": "stream",
     "text": [
      "Le temps dexecution est de :0.04400280000118073\n",
      "train: 0.8625\n",
      "test: 0.7444444444444445\n"
     ]
    }
   ],
   "source": [
    "start = timeit.default_timer()\n",
    "\n",
    "modelNuSVC = gridNuSVC.best_estimator_\n",
    "modelNuSVC.score(X_test, y_test)\n",
    "\n",
    "stop = timeit.default_timer()\n",
    "execution_time = stop - start\n",
    "print(\"Le temps dexecution est de :\" +str(execution_time))\n",
    "print(\"train:\",modelNuSVC.score(X_train, y_train))\n",
    "print(\"test:\", modelNuSVC.score(X_test, y_test))\n"
   ]
  },
  {
   "cell_type": "code",
   "execution_count": 55,
   "metadata": {
    "colab": {
     "base_uri": "https://localhost:8080/"
    },
    "id": "knoD3a_wNvJG",
    "outputId": "089544c0-30db-4922-afe5-8e4b0d39d17f"
   },
   "outputs": [
    {
     "name": "stdout",
     "output_type": "stream",
     "text": [
      "0.7611111111111111\n",
      "[[ 26  30]\n",
      " [ 13 111]]\n",
      "              precision    recall  f1-score   support\n",
      "\n",
      "           0       0.67      0.46      0.55        56\n",
      "           1       0.79      0.90      0.84       124\n",
      "\n",
      "    accuracy                           0.76       180\n",
      "   macro avg       0.73      0.68      0.69       180\n",
      "weighted avg       0.75      0.76      0.75       180\n",
      "\n"
     ]
    }
   ],
   "source": [
    "NuSVC = NuSVC(decision_function_shape ='ovo', gamma= 'scale', kernel= 'rbf')\n",
    "\n",
    "NuSVC.fit(X_train, y_train)\n",
    "y_pred_NuSVC = NuSVC.predict(X_test)\n",
    "print(accuracy_score(y_pred_NuSVC, y_test))\n",
    "print(confusion_matrix(y_test, y_pred_NuSVC))\n",
    "print(classification_report(y_test, y_pred_NuSVC))"
   ]
  },
  {
   "cell_type": "code",
   "execution_count": null,
   "metadata": {
    "id": "8OAK2IlFrocy"
   },
   "outputs": [],
   "source": []
  },
  {
   "cell_type": "markdown",
   "metadata": {
    "id": "wuEltNcTepcW"
   },
   "source": [
    "# g- Pour XGBClassifier"
   ]
  },
  {
   "cell_type": "code",
   "execution_count": 56,
   "metadata": {
    "colab": {
     "base_uri": "https://localhost:8080/"
    },
    "id": "LYUe9ayzexSb",
    "outputId": "496eb989-5bcd-48c9-c901-c936701f1fce",
    "scrolled": true
   },
   "outputs": [
    {
     "name": "stdout",
     "output_type": "stream",
     "text": [
      "[10:57:34] WARNING: ..\\src\\learner.cc:1061: Starting in XGBoost 1.3.0, the default evaluation metric used with the objective 'binary:logistic' was changed from 'error' to 'logloss'. Explicitly set eval_metric if you'd like to restore the old behavior.\n",
      "[10:57:34] WARNING: ..\\src\\learner.cc:1061: Starting in XGBoost 1.3.0, the default evaluation metric used with the objective 'binary:logistic' was changed from 'error' to 'logloss'. Explicitly set eval_metric if you'd like to restore the old behavior.\n",
      "[10:57:34] WARNING: ..\\src\\learner.cc:1061: Starting in XGBoost 1.3.0, the default evaluation metric used with the objective 'binary:logistic' was changed from 'error' to 'logloss'. Explicitly set eval_metric if you'd like to restore the old behavior.\n",
      "[10:57:35] WARNING: ..\\src\\learner.cc:1061: Starting in XGBoost 1.3.0, the default evaluation metric used with the objective 'binary:logistic' was changed from 'error' to 'logloss'. Explicitly set eval_metric if you'd like to restore the old behavior.\n",
      "[10:57:35] WARNING: ..\\src\\learner.cc:1061: Starting in XGBoost 1.3.0, the default evaluation metric used with the objective 'binary:logistic' was changed from 'error' to 'logloss'. Explicitly set eval_metric if you'd like to restore the old behavior.\n",
      "[10:57:35] WARNING: ..\\src\\learner.cc:1061: Starting in XGBoost 1.3.0, the default evaluation metric used with the objective 'binary:logistic' was changed from 'error' to 'logloss'. Explicitly set eval_metric if you'd like to restore the old behavior.\n",
      "[10:57:35] WARNING: ..\\src\\learner.cc:1061: Starting in XGBoost 1.3.0, the default evaluation metric used with the objective 'binary:logistic' was changed from 'error' to 'logloss'. Explicitly set eval_metric if you'd like to restore the old behavior.\n",
      "[10:57:36] WARNING: ..\\src\\learner.cc:1061: Starting in XGBoost 1.3.0, the default evaluation metric used with the objective 'binary:logistic' was changed from 'error' to 'logloss'. Explicitly set eval_metric if you'd like to restore the old behavior.\n",
      "[10:57:36] WARNING: ..\\src\\learner.cc:1061: Starting in XGBoost 1.3.0, the default evaluation metric used with the objective 'binary:logistic' was changed from 'error' to 'logloss'. Explicitly set eval_metric if you'd like to restore the old behavior.\n",
      "[10:57:36] WARNING: ..\\src\\learner.cc:1061: Starting in XGBoost 1.3.0, the default evaluation metric used with the objective 'binary:logistic' was changed from 'error' to 'logloss'. Explicitly set eval_metric if you'd like to restore the old behavior.\n",
      "[10:57:36] WARNING: ..\\src\\learner.cc:1061: Starting in XGBoost 1.3.0, the default evaluation metric used with the objective 'binary:logistic' was changed from 'error' to 'logloss'. Explicitly set eval_metric if you'd like to restore the old behavior.\n",
      "[10:57:37] WARNING: ..\\src\\learner.cc:1061: Starting in XGBoost 1.3.0, the default evaluation metric used with the objective 'binary:logistic' was changed from 'error' to 'logloss'. Explicitly set eval_metric if you'd like to restore the old behavior.\n",
      "[10:57:37] WARNING: ..\\src\\learner.cc:1061: Starting in XGBoost 1.3.0, the default evaluation metric used with the objective 'binary:logistic' was changed from 'error' to 'logloss'. Explicitly set eval_metric if you'd like to restore the old behavior.\n",
      "[10:57:37] WARNING: ..\\src\\learner.cc:1061: Starting in XGBoost 1.3.0, the default evaluation metric used with the objective 'binary:logistic' was changed from 'error' to 'logloss'. Explicitly set eval_metric if you'd like to restore the old behavior.\n",
      "[10:57:37] WARNING: ..\\src\\learner.cc:1061: Starting in XGBoost 1.3.0, the default evaluation metric used with the objective 'binary:logistic' was changed from 'error' to 'logloss'. Explicitly set eval_metric if you'd like to restore the old behavior.\n",
      "[10:57:37] WARNING: ..\\src\\learner.cc:1061: Starting in XGBoost 1.3.0, the default evaluation metric used with the objective 'binary:logistic' was changed from 'error' to 'logloss'. Explicitly set eval_metric if you'd like to restore the old behavior.\n",
      "[10:57:38] WARNING: ..\\src\\learner.cc:1061: Starting in XGBoost 1.3.0, the default evaluation metric used with the objective 'binary:logistic' was changed from 'error' to 'logloss'. Explicitly set eval_metric if you'd like to restore the old behavior.\n",
      "[10:57:38] WARNING: ..\\src\\learner.cc:1061: Starting in XGBoost 1.3.0, the default evaluation metric used with the objective 'binary:logistic' was changed from 'error' to 'logloss'. Explicitly set eval_metric if you'd like to restore the old behavior.\n",
      "[10:57:38] WARNING: ..\\src\\learner.cc:1061: Starting in XGBoost 1.3.0, the default evaluation metric used with the objective 'binary:logistic' was changed from 'error' to 'logloss'. Explicitly set eval_metric if you'd like to restore the old behavior.\n",
      "[10:57:38] WARNING: ..\\src\\learner.cc:1061: Starting in XGBoost 1.3.0, the default evaluation metric used with the objective 'binary:logistic' was changed from 'error' to 'logloss'. Explicitly set eval_metric if you'd like to restore the old behavior.\n",
      "[10:57:39] WARNING: ..\\src\\learner.cc:1061: Starting in XGBoost 1.3.0, the default evaluation metric used with the objective 'binary:logistic' was changed from 'error' to 'logloss'. Explicitly set eval_metric if you'd like to restore the old behavior.\n",
      "[10:57:39] WARNING: ..\\src\\learner.cc:1061: Starting in XGBoost 1.3.0, the default evaluation metric used with the objective 'binary:logistic' was changed from 'error' to 'logloss'. Explicitly set eval_metric if you'd like to restore the old behavior.\n",
      "[10:57:39] WARNING: ..\\src\\learner.cc:1061: Starting in XGBoost 1.3.0, the default evaluation metric used with the objective 'binary:logistic' was changed from 'error' to 'logloss'. Explicitly set eval_metric if you'd like to restore the old behavior.\n",
      "[10:57:39] WARNING: ..\\src\\learner.cc:1061: Starting in XGBoost 1.3.0, the default evaluation metric used with the objective 'binary:logistic' was changed from 'error' to 'logloss'. Explicitly set eval_metric if you'd like to restore the old behavior.\n",
      "[10:57:39] WARNING: ..\\src\\learner.cc:1061: Starting in XGBoost 1.3.0, the default evaluation metric used with the objective 'binary:logistic' was changed from 'error' to 'logloss'. Explicitly set eval_metric if you'd like to restore the old behavior.\n",
      "[10:57:40] WARNING: ..\\src\\learner.cc:1061: Starting in XGBoost 1.3.0, the default evaluation metric used with the objective 'binary:logistic' was changed from 'error' to 'logloss'. Explicitly set eval_metric if you'd like to restore the old behavior.\n",
      "[10:57:40] WARNING: ..\\src\\learner.cc:1061: Starting in XGBoost 1.3.0, the default evaluation metric used with the objective 'binary:logistic' was changed from 'error' to 'logloss'. Explicitly set eval_metric if you'd like to restore the old behavior.\n",
      "[10:57:40] WARNING: ..\\src\\learner.cc:1061: Starting in XGBoost 1.3.0, the default evaluation metric used with the objective 'binary:logistic' was changed from 'error' to 'logloss'. Explicitly set eval_metric if you'd like to restore the old behavior.\n",
      "[10:57:40] WARNING: ..\\src\\learner.cc:1061: Starting in XGBoost 1.3.0, the default evaluation metric used with the objective 'binary:logistic' was changed from 'error' to 'logloss'. Explicitly set eval_metric if you'd like to restore the old behavior.\n",
      "[10:57:41] WARNING: ..\\src\\learner.cc:1061: Starting in XGBoost 1.3.0, the default evaluation metric used with the objective 'binary:logistic' was changed from 'error' to 'logloss'. Explicitly set eval_metric if you'd like to restore the old behavior.\n",
      "[10:57:41] WARNING: ..\\src\\learner.cc:1061: Starting in XGBoost 1.3.0, the default evaluation metric used with the objective 'binary:logistic' was changed from 'error' to 'logloss'. Explicitly set eval_metric if you'd like to restore the old behavior.\n",
      "[10:57:41] WARNING: ..\\src\\learner.cc:1061: Starting in XGBoost 1.3.0, the default evaluation metric used with the objective 'binary:logistic' was changed from 'error' to 'logloss'. Explicitly set eval_metric if you'd like to restore the old behavior.\n",
      "[10:57:41] WARNING: ..\\src\\learner.cc:1061: Starting in XGBoost 1.3.0, the default evaluation metric used with the objective 'binary:logistic' was changed from 'error' to 'logloss'. Explicitly set eval_metric if you'd like to restore the old behavior.\n"
     ]
    },
    {
     "name": "stdout",
     "output_type": "stream",
     "text": [
      "[10:57:41] WARNING: ..\\src\\learner.cc:1061: Starting in XGBoost 1.3.0, the default evaluation metric used with the objective 'binary:logistic' was changed from 'error' to 'logloss'. Explicitly set eval_metric if you'd like to restore the old behavior.\n",
      "[10:57:42] WARNING: ..\\src\\learner.cc:1061: Starting in XGBoost 1.3.0, the default evaluation metric used with the objective 'binary:logistic' was changed from 'error' to 'logloss'. Explicitly set eval_metric if you'd like to restore the old behavior.\n",
      "[10:57:42] WARNING: ..\\src\\learner.cc:1061: Starting in XGBoost 1.3.0, the default evaluation metric used with the objective 'binary:logistic' was changed from 'error' to 'logloss'. Explicitly set eval_metric if you'd like to restore the old behavior.\n",
      "[10:57:42] WARNING: ..\\src\\learner.cc:1061: Starting in XGBoost 1.3.0, the default evaluation metric used with the objective 'binary:logistic' was changed from 'error' to 'logloss'. Explicitly set eval_metric if you'd like to restore the old behavior.\n",
      "[10:57:42] WARNING: ..\\src\\learner.cc:1061: Starting in XGBoost 1.3.0, the default evaluation metric used with the objective 'binary:logistic' was changed from 'error' to 'logloss'. Explicitly set eval_metric if you'd like to restore the old behavior.\n",
      "[10:57:43] WARNING: ..\\src\\learner.cc:1061: Starting in XGBoost 1.3.0, the default evaluation metric used with the objective 'binary:logistic' was changed from 'error' to 'logloss'. Explicitly set eval_metric if you'd like to restore the old behavior.\n",
      "[10:57:43] WARNING: ..\\src\\learner.cc:1061: Starting in XGBoost 1.3.0, the default evaluation metric used with the objective 'binary:logistic' was changed from 'error' to 'logloss'. Explicitly set eval_metric if you'd like to restore the old behavior.\n",
      "[10:57:43] WARNING: ..\\src\\learner.cc:1061: Starting in XGBoost 1.3.0, the default evaluation metric used with the objective 'binary:logistic' was changed from 'error' to 'logloss'. Explicitly set eval_metric if you'd like to restore the old behavior.\n",
      "[10:57:43] WARNING: ..\\src\\learner.cc:1061: Starting in XGBoost 1.3.0, the default evaluation metric used with the objective 'binary:logistic' was changed from 'error' to 'logloss'. Explicitly set eval_metric if you'd like to restore the old behavior.\n",
      "[10:57:43] WARNING: ..\\src\\learner.cc:1061: Starting in XGBoost 1.3.0, the default evaluation metric used with the objective 'binary:logistic' was changed from 'error' to 'logloss'. Explicitly set eval_metric if you'd like to restore the old behavior.\n",
      "[10:57:44] WARNING: ..\\src\\learner.cc:1061: Starting in XGBoost 1.3.0, the default evaluation metric used with the objective 'binary:logistic' was changed from 'error' to 'logloss'. Explicitly set eval_metric if you'd like to restore the old behavior.\n",
      "[10:57:44] WARNING: ..\\src\\learner.cc:1061: Starting in XGBoost 1.3.0, the default evaluation metric used with the objective 'binary:logistic' was changed from 'error' to 'logloss'. Explicitly set eval_metric if you'd like to restore the old behavior.\n",
      "[10:57:44] WARNING: ..\\src\\learner.cc:1061: Starting in XGBoost 1.3.0, the default evaluation metric used with the objective 'binary:logistic' was changed from 'error' to 'logloss'. Explicitly set eval_metric if you'd like to restore the old behavior.\n",
      "[10:57:44] WARNING: ..\\src\\learner.cc:1061: Starting in XGBoost 1.3.0, the default evaluation metric used with the objective 'binary:logistic' was changed from 'error' to 'logloss'. Explicitly set eval_metric if you'd like to restore the old behavior.\n",
      "[10:57:45] WARNING: ..\\src\\learner.cc:1061: Starting in XGBoost 1.3.0, the default evaluation metric used with the objective 'binary:logistic' was changed from 'error' to 'logloss'. Explicitly set eval_metric if you'd like to restore the old behavior.\n",
      "[10:57:45] WARNING: ..\\src\\learner.cc:1061: Starting in XGBoost 1.3.0, the default evaluation metric used with the objective 'binary:logistic' was changed from 'error' to 'logloss'. Explicitly set eval_metric if you'd like to restore the old behavior.\n",
      "[10:57:45] WARNING: ..\\src\\learner.cc:1061: Starting in XGBoost 1.3.0, the default evaluation metric used with the objective 'binary:logistic' was changed from 'error' to 'logloss'. Explicitly set eval_metric if you'd like to restore the old behavior.\n",
      "[10:57:45] WARNING: ..\\src\\learner.cc:1061: Starting in XGBoost 1.3.0, the default evaluation metric used with the objective 'binary:logistic' was changed from 'error' to 'logloss'. Explicitly set eval_metric if you'd like to restore the old behavior.\n",
      "[10:57:45] WARNING: ..\\src\\learner.cc:1061: Starting in XGBoost 1.3.0, the default evaluation metric used with the objective 'binary:logistic' was changed from 'error' to 'logloss'. Explicitly set eval_metric if you'd like to restore the old behavior.\n",
      "[10:57:46] WARNING: ..\\src\\learner.cc:1061: Starting in XGBoost 1.3.0, the default evaluation metric used with the objective 'binary:logistic' was changed from 'error' to 'logloss'. Explicitly set eval_metric if you'd like to restore the old behavior.\n",
      "[10:57:46] WARNING: ..\\src\\learner.cc:1061: Starting in XGBoost 1.3.0, the default evaluation metric used with the objective 'binary:logistic' was changed from 'error' to 'logloss'. Explicitly set eval_metric if you'd like to restore the old behavior.\n",
      "[10:57:46] WARNING: ..\\src\\learner.cc:1061: Starting in XGBoost 1.3.0, the default evaluation metric used with the objective 'binary:logistic' was changed from 'error' to 'logloss'. Explicitly set eval_metric if you'd like to restore the old behavior.\n",
      "[10:57:46] WARNING: ..\\src\\learner.cc:1061: Starting in XGBoost 1.3.0, the default evaluation metric used with the objective 'binary:logistic' was changed from 'error' to 'logloss'. Explicitly set eval_metric if you'd like to restore the old behavior.\n",
      "[10:57:46] WARNING: ..\\src\\learner.cc:1061: Starting in XGBoost 1.3.0, the default evaluation metric used with the objective 'binary:logistic' was changed from 'error' to 'logloss'. Explicitly set eval_metric if you'd like to restore the old behavior.\n",
      "[10:57:46] WARNING: ..\\src\\learner.cc:1061: Starting in XGBoost 1.3.0, the default evaluation metric used with the objective 'binary:logistic' was changed from 'error' to 'logloss'. Explicitly set eval_metric if you'd like to restore the old behavior.\n",
      "[10:57:46] WARNING: ..\\src\\learner.cc:1061: Starting in XGBoost 1.3.0, the default evaluation metric used with the objective 'binary:logistic' was changed from 'error' to 'logloss'. Explicitly set eval_metric if you'd like to restore the old behavior.\n",
      "[10:57:47] WARNING: ..\\src\\learner.cc:1061: Starting in XGBoost 1.3.0, the default evaluation metric used with the objective 'binary:logistic' was changed from 'error' to 'logloss'. Explicitly set eval_metric if you'd like to restore the old behavior.\n",
      "[10:57:47] WARNING: ..\\src\\learner.cc:1061: Starting in XGBoost 1.3.0, the default evaluation metric used with the objective 'binary:logistic' was changed from 'error' to 'logloss'. Explicitly set eval_metric if you'd like to restore the old behavior.\n",
      "[10:57:47] WARNING: ..\\src\\learner.cc:1061: Starting in XGBoost 1.3.0, the default evaluation metric used with the objective 'binary:logistic' was changed from 'error' to 'logloss'. Explicitly set eval_metric if you'd like to restore the old behavior.\n",
      "[10:57:47] WARNING: ..\\src\\learner.cc:1061: Starting in XGBoost 1.3.0, the default evaluation metric used with the objective 'binary:logistic' was changed from 'error' to 'logloss'. Explicitly set eval_metric if you'd like to restore the old behavior.\n",
      "[10:57:47] WARNING: ..\\src\\learner.cc:1061: Starting in XGBoost 1.3.0, the default evaluation metric used with the objective 'binary:logistic' was changed from 'error' to 'logloss'. Explicitly set eval_metric if you'd like to restore the old behavior.\n",
      "[10:57:47] WARNING: ..\\src\\learner.cc:1061: Starting in XGBoost 1.3.0, the default evaluation metric used with the objective 'binary:logistic' was changed from 'error' to 'logloss'. Explicitly set eval_metric if you'd like to restore the old behavior.\n",
      "[10:57:47] WARNING: ..\\src\\learner.cc:1061: Starting in XGBoost 1.3.0, the default evaluation metric used with the objective 'binary:logistic' was changed from 'error' to 'logloss'. Explicitly set eval_metric if you'd like to restore the old behavior.\n",
      "[10:57:47] WARNING: ..\\src\\learner.cc:1061: Starting in XGBoost 1.3.0, the default evaluation metric used with the objective 'binary:logistic' was changed from 'error' to 'logloss'. Explicitly set eval_metric if you'd like to restore the old behavior.\n"
     ]
    },
    {
     "name": "stdout",
     "output_type": "stream",
     "text": [
      "[10:57:47] WARNING: ..\\src\\learner.cc:1061: Starting in XGBoost 1.3.0, the default evaluation metric used with the objective 'binary:logistic' was changed from 'error' to 'logloss'. Explicitly set eval_metric if you'd like to restore the old behavior.\n",
      "[10:57:47] WARNING: ..\\src\\learner.cc:1061: Starting in XGBoost 1.3.0, the default evaluation metric used with the objective 'binary:logistic' was changed from 'error' to 'logloss'. Explicitly set eval_metric if you'd like to restore the old behavior.\n",
      "[10:57:47] WARNING: ..\\src\\learner.cc:1061: Starting in XGBoost 1.3.0, the default evaluation metric used with the objective 'binary:logistic' was changed from 'error' to 'logloss'. Explicitly set eval_metric if you'd like to restore the old behavior.\n",
      "[10:57:47] WARNING: ..\\src\\learner.cc:1061: Starting in XGBoost 1.3.0, the default evaluation metric used with the objective 'binary:logistic' was changed from 'error' to 'logloss'. Explicitly set eval_metric if you'd like to restore the old behavior.\n",
      "[10:57:47] WARNING: ..\\src\\learner.cc:1061: Starting in XGBoost 1.3.0, the default evaluation metric used with the objective 'binary:logistic' was changed from 'error' to 'logloss'. Explicitly set eval_metric if you'd like to restore the old behavior.\n",
      "[10:57:47] WARNING: ..\\src\\learner.cc:1061: Starting in XGBoost 1.3.0, the default evaluation metric used with the objective 'binary:logistic' was changed from 'error' to 'logloss'. Explicitly set eval_metric if you'd like to restore the old behavior.\n",
      "[10:57:47] WARNING: ..\\src\\learner.cc:1061: Starting in XGBoost 1.3.0, the default evaluation metric used with the objective 'binary:logistic' was changed from 'error' to 'logloss'. Explicitly set eval_metric if you'd like to restore the old behavior.\n",
      "[10:57:47] WARNING: ..\\src\\learner.cc:1061: Starting in XGBoost 1.3.0, the default evaluation metric used with the objective 'binary:logistic' was changed from 'error' to 'logloss'. Explicitly set eval_metric if you'd like to restore the old behavior.\n",
      "[10:57:48] WARNING: ..\\src\\learner.cc:1061: Starting in XGBoost 1.3.0, the default evaluation metric used with the objective 'binary:logistic' was changed from 'error' to 'logloss'. Explicitly set eval_metric if you'd like to restore the old behavior.\n",
      "[10:57:48] WARNING: ..\\src\\learner.cc:1061: Starting in XGBoost 1.3.0, the default evaluation metric used with the objective 'binary:logistic' was changed from 'error' to 'logloss'. Explicitly set eval_metric if you'd like to restore the old behavior.\n",
      "[10:57:48] WARNING: ..\\src\\learner.cc:1061: Starting in XGBoost 1.3.0, the default evaluation metric used with the objective 'binary:logistic' was changed from 'error' to 'logloss'. Explicitly set eval_metric if you'd like to restore the old behavior.\n",
      "[10:57:48] WARNING: ..\\src\\learner.cc:1061: Starting in XGBoost 1.3.0, the default evaluation metric used with the objective 'binary:logistic' was changed from 'error' to 'logloss'. Explicitly set eval_metric if you'd like to restore the old behavior.\n",
      "[10:57:48] WARNING: ..\\src\\learner.cc:1061: Starting in XGBoost 1.3.0, the default evaluation metric used with the objective 'binary:logistic' was changed from 'error' to 'logloss'. Explicitly set eval_metric if you'd like to restore the old behavior.\n",
      "[10:57:48] WARNING: ..\\src\\learner.cc:1061: Starting in XGBoost 1.3.0, the default evaluation metric used with the objective 'binary:logistic' was changed from 'error' to 'logloss'. Explicitly set eval_metric if you'd like to restore the old behavior.\n",
      "[10:57:48] WARNING: ..\\src\\learner.cc:1061: Starting in XGBoost 1.3.0, the default evaluation metric used with the objective 'binary:logistic' was changed from 'error' to 'logloss'. Explicitly set eval_metric if you'd like to restore the old behavior.\n",
      "[10:57:48] WARNING: ..\\src\\learner.cc:1061: Starting in XGBoost 1.3.0, the default evaluation metric used with the objective 'binary:logistic' was changed from 'error' to 'logloss'. Explicitly set eval_metric if you'd like to restore the old behavior.\n",
      "[10:57:48] WARNING: ..\\src\\learner.cc:1061: Starting in XGBoost 1.3.0, the default evaluation metric used with the objective 'binary:logistic' was changed from 'error' to 'logloss'. Explicitly set eval_metric if you'd like to restore the old behavior.\n",
      "[10:57:48] WARNING: ..\\src\\learner.cc:1061: Starting in XGBoost 1.3.0, the default evaluation metric used with the objective 'binary:logistic' was changed from 'error' to 'logloss'. Explicitly set eval_metric if you'd like to restore the old behavior.\n",
      "[10:57:48] WARNING: ..\\src\\learner.cc:1061: Starting in XGBoost 1.3.0, the default evaluation metric used with the objective 'binary:logistic' was changed from 'error' to 'logloss'. Explicitly set eval_metric if you'd like to restore the old behavior.\n",
      "[10:57:48] WARNING: ..\\src\\learner.cc:1061: Starting in XGBoost 1.3.0, the default evaluation metric used with the objective 'binary:logistic' was changed from 'error' to 'logloss'. Explicitly set eval_metric if you'd like to restore the old behavior.\n",
      "[10:57:48] WARNING: ..\\src\\learner.cc:1061: Starting in XGBoost 1.3.0, the default evaluation metric used with the objective 'binary:logistic' was changed from 'error' to 'logloss'. Explicitly set eval_metric if you'd like to restore the old behavior.\n",
      "[10:57:48] WARNING: ..\\src\\learner.cc:1061: Starting in XGBoost 1.3.0, the default evaluation metric used with the objective 'binary:logistic' was changed from 'error' to 'logloss'. Explicitly set eval_metric if you'd like to restore the old behavior.\n",
      "[10:57:48] WARNING: ..\\src\\learner.cc:1061: Starting in XGBoost 1.3.0, the default evaluation metric used with the objective 'binary:logistic' was changed from 'error' to 'logloss'. Explicitly set eval_metric if you'd like to restore the old behavior.\n",
      "[10:57:48] WARNING: ..\\src\\learner.cc:1061: Starting in XGBoost 1.3.0, the default evaluation metric used with the objective 'binary:logistic' was changed from 'error' to 'logloss'. Explicitly set eval_metric if you'd like to restore the old behavior.\n",
      "[10:57:48] WARNING: ..\\src\\learner.cc:1061: Starting in XGBoost 1.3.0, the default evaluation metric used with the objective 'binary:logistic' was changed from 'error' to 'logloss'. Explicitly set eval_metric if you'd like to restore the old behavior.\n",
      "[10:57:49] WARNING: ..\\src\\learner.cc:1061: Starting in XGBoost 1.3.0, the default evaluation metric used with the objective 'binary:logistic' was changed from 'error' to 'logloss'. Explicitly set eval_metric if you'd like to restore the old behavior.\n",
      "[10:57:49] WARNING: ..\\src\\learner.cc:1061: Starting in XGBoost 1.3.0, the default evaluation metric used with the objective 'binary:logistic' was changed from 'error' to 'logloss'. Explicitly set eval_metric if you'd like to restore the old behavior.\n",
      "[10:57:49] WARNING: ..\\src\\learner.cc:1061: Starting in XGBoost 1.3.0, the default evaluation metric used with the objective 'binary:logistic' was changed from 'error' to 'logloss'. Explicitly set eval_metric if you'd like to restore the old behavior.\n",
      "[10:57:49] WARNING: ..\\src\\learner.cc:1061: Starting in XGBoost 1.3.0, the default evaluation metric used with the objective 'binary:logistic' was changed from 'error' to 'logloss'. Explicitly set eval_metric if you'd like to restore the old behavior.\n",
      "[10:57:49] WARNING: ..\\src\\learner.cc:1061: Starting in XGBoost 1.3.0, the default evaluation metric used with the objective 'binary:logistic' was changed from 'error' to 'logloss'. Explicitly set eval_metric if you'd like to restore the old behavior.\n",
      "[10:57:49] WARNING: ..\\src\\learner.cc:1061: Starting in XGBoost 1.3.0, the default evaluation metric used with the objective 'binary:logistic' was changed from 'error' to 'logloss'. Explicitly set eval_metric if you'd like to restore the old behavior.\n",
      "[10:57:49] WARNING: ..\\src\\learner.cc:1061: Starting in XGBoost 1.3.0, the default evaluation metric used with the objective 'binary:logistic' was changed from 'error' to 'logloss'. Explicitly set eval_metric if you'd like to restore the old behavior.\n",
      "[10:57:49] WARNING: ..\\src\\learner.cc:1061: Starting in XGBoost 1.3.0, the default evaluation metric used with the objective 'binary:logistic' was changed from 'error' to 'logloss'. Explicitly set eval_metric if you'd like to restore the old behavior.\n"
     ]
    },
    {
     "name": "stdout",
     "output_type": "stream",
     "text": [
      "[10:57:49] WARNING: ..\\src\\learner.cc:1061: Starting in XGBoost 1.3.0, the default evaluation metric used with the objective 'binary:logistic' was changed from 'error' to 'logloss'. Explicitly set eval_metric if you'd like to restore the old behavior.\n",
      "[10:57:49] WARNING: ..\\src\\learner.cc:1061: Starting in XGBoost 1.3.0, the default evaluation metric used with the objective 'binary:logistic' was changed from 'error' to 'logloss'. Explicitly set eval_metric if you'd like to restore the old behavior.\n",
      "[10:57:49] WARNING: ..\\src\\learner.cc:1061: Starting in XGBoost 1.3.0, the default evaluation metric used with the objective 'binary:logistic' was changed from 'error' to 'logloss'. Explicitly set eval_metric if you'd like to restore the old behavior.\n",
      "[10:57:49] WARNING: ..\\src\\learner.cc:1061: Starting in XGBoost 1.3.0, the default evaluation metric used with the objective 'binary:logistic' was changed from 'error' to 'logloss'. Explicitly set eval_metric if you'd like to restore the old behavior.\n",
      "[10:57:49] WARNING: ..\\src\\learner.cc:1061: Starting in XGBoost 1.3.0, the default evaluation metric used with the objective 'binary:logistic' was changed from 'error' to 'logloss'. Explicitly set eval_metric if you'd like to restore the old behavior.\n",
      "[10:57:49] WARNING: ..\\src\\learner.cc:1061: Starting in XGBoost 1.3.0, the default evaluation metric used with the objective 'binary:logistic' was changed from 'error' to 'logloss'. Explicitly set eval_metric if you'd like to restore the old behavior.\n",
      "[10:57:49] WARNING: ..\\src\\learner.cc:1061: Starting in XGBoost 1.3.0, the default evaluation metric used with the objective 'binary:logistic' was changed from 'error' to 'logloss'. Explicitly set eval_metric if you'd like to restore the old behavior.\n",
      "[10:57:49] WARNING: ..\\src\\learner.cc:1061: Starting in XGBoost 1.3.0, the default evaluation metric used with the objective 'binary:logistic' was changed from 'error' to 'logloss'. Explicitly set eval_metric if you'd like to restore the old behavior.\n",
      "[10:57:49] WARNING: ..\\src\\learner.cc:1061: Starting in XGBoost 1.3.0, the default evaluation metric used with the objective 'binary:logistic' was changed from 'error' to 'logloss'. Explicitly set eval_metric if you'd like to restore the old behavior.\n",
      "[10:57:50] WARNING: ..\\src\\learner.cc:1061: Starting in XGBoost 1.3.0, the default evaluation metric used with the objective 'binary:logistic' was changed from 'error' to 'logloss'. Explicitly set eval_metric if you'd like to restore the old behavior.\n",
      "[10:57:50] WARNING: ..\\src\\learner.cc:1061: Starting in XGBoost 1.3.0, the default evaluation metric used with the objective 'binary:logistic' was changed from 'error' to 'logloss'. Explicitly set eval_metric if you'd like to restore the old behavior.\n"
     ]
    },
    {
     "data": {
      "text/plain": [
       "GridSearchCV(cv=5,\n",
       "             estimator=XGBClassifier(base_score=None, booster=None,\n",
       "                                     colsample_bylevel=None,\n",
       "                                     colsample_bynode=None,\n",
       "                                     colsample_bytree=None, gamma=None,\n",
       "                                     gpu_id=None, importance_type='gain',\n",
       "                                     interaction_constraints=None,\n",
       "                                     learning_rate=None, max_delta_step=None,\n",
       "                                     max_depth=None, min_child_weight=None,\n",
       "                                     missing=nan, monotone_constraints=None,\n",
       "                                     n_estimators=100, n_jobs=None,\n",
       "                                     num_parallel_tree=None, random_state=None,\n",
       "                                     reg_alpha=None, reg_lambda=None,\n",
       "                                     scale_pos_weight=None, subsample=None,\n",
       "                                     tree_method=None, validate_parameters=None,\n",
       "                                     verbosity=None),\n",
       "             param_grid={'booster': ['gbtree', 'gblinear'],\n",
       "                         'eta': [0.01, 0.02, 0.03, 0.04, 0.05, 0.06, 0.07, 0.08,\n",
       "                                 0.09, 0.1, 0.2]})"
      ]
     },
     "execution_count": 56,
     "metadata": {},
     "output_type": "execute_result"
    }
   ],
   "source": [
    "from xgboost import XGBClassifier\n",
    "\n",
    "paramXGB = { \n",
    "    'booster': ['gbtree','gblinear'],\n",
    "    'eta' : [0.01, 0.02, 0.03, 0.04, 0.05, 0.06, 0.07, 0.08, 0.09, 0.1, 0.2],\n",
    "}\n",
    "gridXGB = GridSearchCV(XGBClassifier(), paramXGB, cv=5)\n",
    "gridXGB.fit(X_train, y_train)"
   ]
  },
  {
   "cell_type": "code",
   "execution_count": 57,
   "metadata": {
    "colab": {
     "base_uri": "https://localhost:8080/"
    },
    "id": "XInyP6qPe-xr",
    "outputId": "db2e3a9f-5cdb-49b2-af25-a582f4a46e4a"
   },
   "outputs": [
    {
     "data": {
      "text/plain": [
       "0.7541666666666667"
      ]
     },
     "execution_count": 57,
     "metadata": {},
     "output_type": "execute_result"
    }
   ],
   "source": [
    "gridXGB.best_score_"
   ]
  },
  {
   "cell_type": "code",
   "execution_count": 58,
   "metadata": {
    "colab": {
     "base_uri": "https://localhost:8080/"
    },
    "id": "e4cnuVVShQg8",
    "outputId": "c49452c0-5356-49fa-882e-e421ce6195d5"
   },
   "outputs": [
    {
     "data": {
      "text/plain": [
       "{'booster': 'gbtree', 'eta': 0.04}"
      ]
     },
     "execution_count": 58,
     "metadata": {},
     "output_type": "execute_result"
    }
   ],
   "source": [
    "gridXGB.best_params_"
   ]
  },
  {
   "cell_type": "code",
   "execution_count": 59,
   "metadata": {
    "colab": {
     "base_uri": "https://localhost:8080/"
    },
    "id": "AsSOfpnThXXN",
    "outputId": "83b237c9-fc0e-479c-8c24-bab1a45bc1d4"
   },
   "outputs": [
    {
     "name": "stdout",
     "output_type": "stream",
     "text": [
      "Le temps dexecution est de :0.016134200006490573\n",
      "train: 0.9430555555555555\n",
      "test: 0.75\n"
     ]
    }
   ],
   "source": [
    "start = timeit.default_timer()\n",
    "\n",
    "modelXGB = gridXGB.best_estimator_\n",
    "modelXGB.score(X_test, y_test)\n",
    "\n",
    "stop = timeit.default_timer()\n",
    "execution_time = stop - start\n",
    "print(\"Le temps dexecution est de :\" +str(execution_time))\n",
    "print(\"train:\",modelXGB.score(X_train, y_train))\n",
    "print(\"test:\", modelXGB.score(X_test, y_test))\n"
   ]
  },
  {
   "cell_type": "code",
   "execution_count": 60,
   "metadata": {
    "colab": {
     "base_uri": "https://localhost:8080/"
    },
    "id": "qGNAqGz9Cb61",
    "outputId": "b734addb-2bad-4c41-d552-2b0823b7c71d"
   },
   "outputs": [
    {
     "name": "stdout",
     "output_type": "stream",
     "text": [
      "[10:57:50] WARNING: ..\\src\\learner.cc:1061: Starting in XGBoost 1.3.0, the default evaluation metric used with the objective 'binary:logistic' was changed from 'error' to 'logloss'. Explicitly set eval_metric if you'd like to restore the old behavior.\n",
      "0.75\n",
      "[[ 26  30]\n",
      " [ 15 109]]\n",
      "              precision    recall  f1-score   support\n",
      "\n",
      "           0       0.63      0.46      0.54        56\n",
      "           1       0.78      0.88      0.83       124\n",
      "\n",
      "    accuracy                           0.75       180\n",
      "   macro avg       0.71      0.67      0.68       180\n",
      "weighted avg       0.74      0.75      0.74       180\n",
      "\n"
     ]
    }
   ],
   "source": [
    "XGB = XGBClassifier(booster = \"gbtree\", eta= 0.04)\n",
    "\n",
    "XGB.fit(X_train, y_train)\n",
    "y_pred_XGB = XGB.predict(X_test)\n",
    "print(accuracy_score(y_pred_XGB, y_test))\n",
    "print(confusion_matrix(y_test, y_pred_XGB))\n",
    "print(classification_report(y_test, y_pred_XGB))"
   ]
  },
  {
   "cell_type": "markdown",
   "metadata": {
    "id": "HaKSHQ5yh1FO"
   },
   "source": [
    "## h- Pour AdaBoostClassifier"
   ]
  },
  {
   "cell_type": "code",
   "execution_count": null,
   "metadata": {
    "id": "gwPnmOdMTZiJ"
   },
   "outputs": [],
   "source": []
  },
  {
   "cell_type": "code",
   "execution_count": 84,
   "metadata": {
    "colab": {
     "base_uri": "https://localhost:8080/"
    },
    "id": "GxDc3RFSh52U",
    "outputId": "3a3b67e5-dd46-4686-ad68-7b162ef1023c"
   },
   "outputs": [
    {
     "data": {
      "text/plain": [
       "GridSearchCV(cv=5, estimator=AdaBoostClassifier(),\n",
       "             param_grid={'algorithm': ['SAMME', 'SAMME.R'],\n",
       "                         'n_estimators': array([ 85,  86,  87,  88,  89,  90,  91,  92,  93,  94,  95,  96,  97,\n",
       "        98,  99, 100, 101]),\n",
       "                         'random_state': array([1, 2, 3, 4, 5, 6, 7, 8, 9])},\n",
       "             scoring='accuracy')"
      ]
     },
     "execution_count": 84,
     "metadata": {},
     "output_type": "execute_result"
    }
   ],
   "source": [
    "from sklearn.ensemble import AdaBoostClassifier\n",
    "\n",
    "paramAda = { \n",
    "    'n_estimators': np.arange(85, 102),\n",
    "    'algorithm' : ['SAMME', 'SAMME.R'],\n",
    "    'random_state': np.arange(1, 10)\n",
    "}\n",
    "gridAda = GridSearchCV(AdaBoostClassifier(), paramAda, cv=5, scoring=\"accuracy\")\n",
    "gridAda.fit(X_train, y_train)"
   ]
  },
  {
   "cell_type": "code",
   "execution_count": 85,
   "metadata": {
    "colab": {
     "base_uri": "https://localhost:8080/"
    },
    "id": "c0cX2Ui1jxF-",
    "outputId": "9c248c0c-01c5-42d1-dfbe-a7a7425eb2de"
   },
   "outputs": [
    {
     "data": {
      "text/plain": [
       "0.7430555555555556"
      ]
     },
     "execution_count": 85,
     "metadata": {},
     "output_type": "execute_result"
    }
   ],
   "source": [
    "gridAda.best_score_"
   ]
  },
  {
   "cell_type": "code",
   "execution_count": 86,
   "metadata": {
    "colab": {
     "base_uri": "https://localhost:8080/"
    },
    "id": "pnrauq7Uj6Ko",
    "outputId": "bc2291b7-15e1-43c7-95a8-427ec0169810"
   },
   "outputs": [
    {
     "data": {
      "text/plain": [
       "{'algorithm': 'SAMME', 'n_estimators': 92, 'random_state': 1}"
      ]
     },
     "execution_count": 86,
     "metadata": {},
     "output_type": "execute_result"
    }
   ],
   "source": [
    "gridAda.best_params_"
   ]
  },
  {
   "cell_type": "code",
   "execution_count": 87,
   "metadata": {
    "colab": {
     "base_uri": "https://localhost:8080/"
    },
    "id": "ro8Nyy5ikBmG",
    "outputId": "16d694b1-bcd8-402d-c4f4-9bc28b0ea348"
   },
   "outputs": [
    {
     "name": "stdout",
     "output_type": "stream",
     "text": [
      "Le temps dexecution est de :0.016509299995959736\n",
      "train: 0.7833333333333333\n",
      "test: 0.7555555555555555\n"
     ]
    }
   ],
   "source": [
    "start = timeit.default_timer()\n",
    "\n",
    "modelAda = gridAda.best_estimator_\n",
    "modelAda.score(X_test, y_test)\n",
    "\n",
    "stop = timeit.default_timer()\n",
    "execution_time = stop - start\n",
    "print(\"Le temps dexecution est de :\" +str(execution_time))\n",
    "print(\"train:\",modelAda.score(X_train, y_train))\n",
    "print(\"test:\", modelAda.score(X_test, y_test))\n"
   ]
  },
  {
   "cell_type": "code",
   "execution_count": 88,
   "metadata": {
    "colab": {
     "base_uri": "https://localhost:8080/"
    },
    "id": "Iu8uvCY5Les5",
    "outputId": "579c4983-671b-4d30-cec0-7ab386c5ed1e"
   },
   "outputs": [
    {
     "name": "stdout",
     "output_type": "stream",
     "text": [
      "0.7611111111111111\n",
      "[[ 23  33]\n",
      " [ 10 114]]\n",
      "              precision    recall  f1-score   support\n",
      "\n",
      "           0       0.70      0.41      0.52        56\n",
      "           1       0.78      0.92      0.84       124\n",
      "\n",
      "    accuracy                           0.76       180\n",
      "   macro avg       0.74      0.67      0.68       180\n",
      "weighted avg       0.75      0.76      0.74       180\n",
      "\n"
     ]
    }
   ],
   "source": [
    "Ada = AdaBoostClassifier()\n",
    "\n",
    "Ada.fit(X_train, y_train)\n",
    "y_pred_Ada = Ada.predict(X_test)\n",
    "print(accuracy_score(y_pred_Ada, y_test))\n",
    "print(confusion_matrix(y_test, y_pred_Ada))\n",
    "print(classification_report(y_test, y_pred_Ada))"
   ]
  },
  {
   "cell_type": "markdown",
   "metadata": {
    "id": "kzSnNd16kgkL"
   },
   "source": [
    "# 5- Comparatif des différents modèles et choix du meilleur modèle"
   ]
  },
  {
   "attachments": {
    "Compare.PNG": {
     "image/png": "[encoded data removed]"
    }
   },
   "cell_type": "markdown",
   "metadata": {},
   "source": [
    "![Compare.PNG](attachment:Compare.PNG)"
   ]
  },
  {
   "cell_type": "markdown",
   "metadata": {},
   "source": [
    "Après la visualisation de ce tableau comparatif, nous pouvons dire que le meilleur modèle est le leNuSVC car il a un meilleur accuracy score qui est de 0.761 avec un temps d'exécution qui est de 0.044 secondes\n",
    "\n",
    "Le modèle le plus rapide est la regression Logistique avec un temps d'execution de 0.0020 secondes"
   ]
  },
  {
   "cell_type": "markdown",
   "metadata": {},
   "source": [
    "# 6- Utilisation des méthodes d'ensemble"
   ]
  },
  {
   "cell_type": "markdown",
   "metadata": {},
   "source": [
    "# a- Voting Classifier"
   ]
  },
  {
   "cell_type": "code",
   "execution_count": 70,
   "metadata": {},
   "outputs": [],
   "source": [
    "from sklearn.ensemble import VotingClassifier"
   ]
  },
  {
   "cell_type": "code",
   "execution_count": 72,
   "metadata": {},
   "outputs": [
    {
     "name": "stdout",
     "output_type": "stream",
     "text": [
      "KNeighborsClassifier 0.7277777777777777\n",
      "RandomForestClassifier 0.7555555555555555\n",
      "SVC 0.7444444444444445\n",
      "VotingClassifier 0.7722222222222223\n"
     ]
    }
   ],
   "source": [
    "model_1 = KNeighborsClassifier(algorithm= 'ball_tree',\n",
    " metric = 'euclidean',\n",
    " n_neighbors=  32,\n",
    " weights= 'distance')\n",
    "\n",
    "model_2 =  RandomForestClassifier()\n",
    "\n",
    "model_3 = SVC(C = 15, decision_function_shape = \"ovo\", gamma = \"auto\", kernel = \"rbf\")\n",
    "model_4 = VotingClassifier([('KNN', model_1),\n",
    "                            ('RandomForest', model_2),\n",
    "                            ('SVC', model_3)],\n",
    "                          voting = 'hard')\n",
    "\n",
    "for model in (model_1, model_2, model_3, model_4):\n",
    "    model.fit(X_train, y_train)\n",
    "    print(model.__class__.__name__, model.score(X_test, y_test))"
   ]
  },
  {
   "cell_type": "markdown",
   "metadata": {},
   "source": [
    "# b- Bagging"
   ]
  },
  {
   "cell_type": "code",
   "execution_count": 78,
   "metadata": {},
   "outputs": [
    {
     "data": {
      "text/plain": [
       "0.7333333333333333"
      ]
     },
     "execution_count": 78,
     "metadata": {},
     "output_type": "execute_result"
    }
   ],
   "source": [
    "model = BaggingClassifier(base_estimator =KNeighborsClassifier(algorithm= 'ball_tree',\n",
    " metric = 'euclidean',\n",
    " n_neighbors=  32,\n",
    " weights= 'distance'),\n",
    "n_estimators = 13)\n",
    "\n",
    "model.fit(X_train, y_train)\n",
    "model.score(X_test, y_test)"
   ]
  },
  {
   "cell_type": "markdown",
   "metadata": {},
   "source": [
    "# c- Stacking"
   ]
  },
  {
   "cell_type": "code",
   "execution_count": 62,
   "metadata": {},
   "outputs": [],
   "source": [
    "#from sklearn.ensemble import StackingClassifier"
   ]
  },
  {
   "cell_type": "markdown",
   "metadata": {
    "scrolled": true
   },
   "source": [
    "model_4 = StackingClassifier([('KNN', model_1),\n",
    "                            ('RandomForest', model_2),\n",
    "                            ('SVC', model_3)],\n",
    "                          final_estimator = RandomForestClassifier(criterion = 'gini',\n",
    " max_depth = 12,\n",
    " max_features = 'sqrt',\n",
    " n_estimators = 37))\n",
    "\n",
    "model.fit(X_train, y_train)\n",
    "model.score(X_test, y_test)"
   ]
  },
  {
   "cell_type": "code",
   "execution_count": 63,
   "metadata": {},
   "outputs": [],
   "source": [
    "from tpot import TPOTClassifier"
   ]
  },
  {
   "cell_type": "code",
   "execution_count": 206,
   "metadata": {
    "scrolled": true
   },
   "outputs": [
    {
     "data": {
      "application/vnd.jupyter.widget-view+json": {
       "model_id": "",
       "version_major": 2,
       "version_minor": 0
      },
      "text/plain": [
       "HBox(children=(HTML(value='Optimization Progress'), FloatProgress(value=0.0, max=1600.0), HTML(value='')))"
      ]
     },
     "metadata": {},
     "output_type": "display_data"
    },
    {
     "name": "stdout",
     "output_type": "stream",
     "text": [
      "\n",
      "Generation 1 - Current best internal CV score: 0.7555555555555555\n",
      "\n",
      "Generation 2 - Current best internal CV score: 0.7569444444444444\n",
      "\n",
      "Generation 3 - Current best internal CV score: 0.7597222222222222\n",
      "\n",
      "Generation 4 - Current best internal CV score: 0.7597222222222222\n",
      "\n",
      "Generation 5 - Current best internal CV score: 0.7625\n",
      "\n",
      "Generation 6 - Current best internal CV score: 0.7625\n",
      "\n",
      "Generation 7 - Current best internal CV score: 0.7625000000000001\n",
      "\n",
      "Generation 8 - Current best internal CV score: 0.763888888888889\n",
      "\n",
      "Generation 9 - Current best internal CV score: 0.763888888888889\n",
      "\n",
      "Generation 10 - Current best internal CV score: 0.763888888888889\n",
      "\n",
      "Generation 11 - Current best internal CV score: 0.7680555555555555\n",
      "\n",
      "Generation 12 - Current best internal CV score: 0.7680555555555555\n",
      "\n",
      "Generation 13 - Current best internal CV score: 0.7680555555555555\n",
      "\n",
      "Generation 14 - Current best internal CV score: 0.7680555555555555\n",
      "\n",
      "Generation 15 - Current best internal CV score: 0.7680555555555555\n",
      "\n",
      "Best pipeline: GradientBoostingClassifier(input_matrix, learning_rate=0.1, max_depth=6, max_features=0.1, min_samples_leaf=4, min_samples_split=12, n_estimators=100, subsample=0.9000000000000001)\n"
     ]
    },
    {
     "data": {
      "text/plain": [
       "TPOTClassifier(generations=15, n_jobs=-1, verbosity=2)"
      ]
     },
     "execution_count": 206,
     "metadata": {},
     "output_type": "execute_result"
    }
   ],
   "source": [
    "tpot = TPOTClassifier(generations = 15, verbosity = 2, population_size = 100, n_jobs = -1)\n",
    "tpot.fit(X_train, y_train)"
   ]
  },
  {
   "cell_type": "code",
   "execution_count": 207,
   "metadata": {},
   "outputs": [
    {
     "data": {
      "text/plain": [
       "Pipeline(steps=[('gradientboostingclassifier',\n",
       "                 GradientBoostingClassifier(max_depth=6, max_features=0.1,\n",
       "                                            min_samples_leaf=4,\n",
       "                                            min_samples_split=12,\n",
       "                                            subsample=0.9000000000000001))])"
      ]
     },
     "execution_count": 207,
     "metadata": {},
     "output_type": "execute_result"
    }
   ],
   "source": [
    "tpot.fitted_pipeline_"
   ]
  },
  {
   "cell_type": "code",
   "execution_count": 208,
   "metadata": {},
   "outputs": [
    {
     "data": {
      "text/plain": [
       "0.7722222222222223"
      ]
     },
     "execution_count": 208,
     "metadata": {},
     "output_type": "execute_result"
    }
   ],
   "source": [
    "tpot.score(X_test, y_test)"
   ]
  },
  {
   "cell_type": "code",
   "execution_count": 64,
   "metadata": {},
   "outputs": [],
   "source": [
    "from sklearn.ensemble import GradientBoostingClassifier"
   ]
  },
  {
   "cell_type": "code",
   "execution_count": 66,
   "metadata": {},
   "outputs": [
    {
     "name": "stdout",
     "output_type": "stream",
     "text": [
      "0.7\n",
      "[[ 17  39]\n",
      " [ 15 109]]\n",
      "              precision    recall  f1-score   support\n",
      "\n",
      "           0       0.53      0.30      0.39        56\n",
      "           1       0.74      0.88      0.80       124\n",
      "\n",
      "    accuracy                           0.70       180\n",
      "   macro avg       0.63      0.59      0.59       180\n",
      "weighted avg       0.67      0.70      0.67       180\n",
      "\n"
     ]
    }
   ],
   "source": [
    "grad = GradientBoostingClassifier(max_depth = 6, min_samples_leaf = 4, min_samples_split = 4,subsample = 0.9)\n",
    "\n",
    "grad.fit(X_train, y_train)\n",
    "y_pred_grad = KNN.predict(X_test)\n",
    "print(accuracy_score(y_pred_grad, y_test))\n",
    "print(confusion_matrix(y_test, y_pred_grad))\n",
    "print(classification_report(y_test, y_pred_grad))"
   ]
  },
  {
   "cell_type": "code",
   "execution_count": null,
   "metadata": {},
   "outputs": [],
   "source": []
  }
 ],
 "metadata": {
  "colab": {
   "collapsed_sections": [],
   "name": "modèle.ipynb",
   "provenance": []
  },
  "kernelspec": {
   "display_name": "Python 3",
   "language": "python",
   "name": "python3"
  },
  "language_info": {
   "codemirror_mode": {
    "name": "ipython",
    "version": 3
   },
   "file_extension": ".py",
   "mimetype": "text/x-python",
   "name": "python",
   "nbconvert_exporter": "python",
   "pygments_lexer": "ipython3",
   "version": "3.8.5"
  }
 },
 "nbformat": 4,
 "nbformat_minor": 1
}
