{
 "cells": [
  {
   "cell_type": "markdown",
   "metadata": {},
   "source": [
    "# 1- Importation des librairies pour tester les différents modèles"
   ]
  },
  {
   "cell_type": "code",
   "execution_count": 214,
   "metadata": {},
   "outputs": [],
   "source": [
    "import numpy as np\n",
    "import pandas as pd\n",
    "import seaborn as sns\n",
    "from sklearn.linear_model import LogisticRegression\n",
    "from sklearn.model_selection import train_test_split\n",
    "import sklearn.metrics as metrics\n",
    "from sklearn.metrics import accuracy_score\n",
    "from sklearn.metrics import classification_report, confusion_matrix\n",
    "import matplotlib.pyplot as plt\n",
    "import os"
   ]
  },
  {
   "cell_type": "code",
   "execution_count": 171,
   "metadata": {},
   "outputs": [],
   "source": [
    "train = pd.read_csv('train_final.csv')"
   ]
  },
  {
   "cell_type": "code",
   "execution_count": 172,
   "metadata": {},
   "outputs": [],
   "source": [
    "train.set_index('id', inplace = True)"
   ]
  },
  {
   "cell_type": "code",
   "execution_count": 196,
   "metadata": {},
   "outputs": [
    {
     "data": {
      "text/html": [
       "<div>\n",
       "<style scoped>\n",
       "    .dataframe tbody tr th:only-of-type {\n",
       "        vertical-align: middle;\n",
       "    }\n",
       "\n",
       "    .dataframe tbody tr th {\n",
       "        vertical-align: top;\n",
       "    }\n",
       "\n",
       "    .dataframe thead th {\n",
       "        text-align: right;\n",
       "    }\n",
       "</style>\n",
       "<table border=\"1\" class=\"dataframe\">\n",
       "  <thead>\n",
       "    <tr style=\"text-align: right;\">\n",
       "      <th></th>\n",
       "      <th>duration</th>\n",
       "      <th>credit_amount</th>\n",
       "      <th>installment_commitment</th>\n",
       "      <th>residence_since</th>\n",
       "      <th>age</th>\n",
       "      <th>existing_credits</th>\n",
       "      <th>num_dependents</th>\n",
       "      <th>checking_status</th>\n",
       "      <th>employment</th>\n",
       "      <th>savings_status</th>\n",
       "      <th>...</th>\n",
       "      <th>other_payment_plans_bank</th>\n",
       "      <th>other_payment_plans_none</th>\n",
       "      <th>other_payment_plans_stores</th>\n",
       "      <th>housing_for free</th>\n",
       "      <th>housing_own</th>\n",
       "      <th>housing_rent</th>\n",
       "      <th>job_high qualif/self emp/mgmt</th>\n",
       "      <th>job_skilled</th>\n",
       "      <th>job_unemp/unskilled non res</th>\n",
       "      <th>job_unskilled resident</th>\n",
       "    </tr>\n",
       "    <tr>\n",
       "      <th>id</th>\n",
       "      <th></th>\n",
       "      <th></th>\n",
       "      <th></th>\n",
       "      <th></th>\n",
       "      <th></th>\n",
       "      <th></th>\n",
       "      <th></th>\n",
       "      <th></th>\n",
       "      <th></th>\n",
       "      <th></th>\n",
       "      <th></th>\n",
       "      <th></th>\n",
       "      <th></th>\n",
       "      <th></th>\n",
       "      <th></th>\n",
       "      <th></th>\n",
       "      <th></th>\n",
       "      <th></th>\n",
       "      <th></th>\n",
       "      <th></th>\n",
       "      <th></th>\n",
       "    </tr>\n",
       "  </thead>\n",
       "  <tbody>\n",
       "    <tr>\n",
       "      <th>30</th>\n",
       "      <td>0.622518</td>\n",
       "      <td>2.010778</td>\n",
       "      <td>-1.754567</td>\n",
       "      <td>-0.727127</td>\n",
       "      <td>-0.437229</td>\n",
       "      <td>-0.698918</td>\n",
       "      <td>-0.432410</td>\n",
       "      <td>1</td>\n",
       "      <td>1</td>\n",
       "      <td>0</td>\n",
       "      <td>...</td>\n",
       "      <td>0</td>\n",
       "      <td>1</td>\n",
       "      <td>0</td>\n",
       "      <td>0</td>\n",
       "      <td>1</td>\n",
       "      <td>0</td>\n",
       "      <td>0</td>\n",
       "      <td>1</td>\n",
       "      <td>0</td>\n",
       "      <td>0</td>\n",
       "    </tr>\n",
       "    <tr>\n",
       "      <th>536</th>\n",
       "      <td>1.988249</td>\n",
       "      <td>1.031710</td>\n",
       "      <td>0.017446</td>\n",
       "      <td>-0.727127</td>\n",
       "      <td>-0.641078</td>\n",
       "      <td>1.075834</td>\n",
       "      <td>-0.432410</td>\n",
       "      <td>1</td>\n",
       "      <td>2</td>\n",
       "      <td>1</td>\n",
       "      <td>...</td>\n",
       "      <td>0</td>\n",
       "      <td>1</td>\n",
       "      <td>0</td>\n",
       "      <td>0</td>\n",
       "      <td>1</td>\n",
       "      <td>0</td>\n",
       "      <td>0</td>\n",
       "      <td>1</td>\n",
       "      <td>0</td>\n",
       "      <td>0</td>\n",
       "    </tr>\n",
       "    <tr>\n",
       "      <th>696</th>\n",
       "      <td>-1.312267</td>\n",
       "      <td>-0.132756</td>\n",
       "      <td>-0.868560</td>\n",
       "      <td>-0.727127</td>\n",
       "      <td>0.072394</td>\n",
       "      <td>-0.698918</td>\n",
       "      <td>-0.432410</td>\n",
       "      <td>2</td>\n",
       "      <td>2</td>\n",
       "      <td>1</td>\n",
       "      <td>...</td>\n",
       "      <td>0</td>\n",
       "      <td>1</td>\n",
       "      <td>0</td>\n",
       "      <td>0</td>\n",
       "      <td>1</td>\n",
       "      <td>0</td>\n",
       "      <td>0</td>\n",
       "      <td>1</td>\n",
       "      <td>0</td>\n",
       "      <td>0</td>\n",
       "    </tr>\n",
       "    <tr>\n",
       "      <th>558</th>\n",
       "      <td>-0.060347</td>\n",
       "      <td>-0.837685</td>\n",
       "      <td>0.903452</td>\n",
       "      <td>1.109417</td>\n",
       "      <td>0.174318</td>\n",
       "      <td>-0.698918</td>\n",
       "      <td>2.312621</td>\n",
       "      <td>2</td>\n",
       "      <td>4</td>\n",
       "      <td>1</td>\n",
       "      <td>...</td>\n",
       "      <td>1</td>\n",
       "      <td>0</td>\n",
       "      <td>0</td>\n",
       "      <td>0</td>\n",
       "      <td>1</td>\n",
       "      <td>0</td>\n",
       "      <td>0</td>\n",
       "      <td>1</td>\n",
       "      <td>0</td>\n",
       "      <td>0</td>\n",
       "    </tr>\n",
       "    <tr>\n",
       "      <th>837</th>\n",
       "      <td>-0.060347</td>\n",
       "      <td>-0.456057</td>\n",
       "      <td>0.903452</td>\n",
       "      <td>-0.727127</td>\n",
       "      <td>-1.048776</td>\n",
       "      <td>1.075834</td>\n",
       "      <td>-0.432410</td>\n",
       "      <td>0</td>\n",
       "      <td>2</td>\n",
       "      <td>1</td>\n",
       "      <td>...</td>\n",
       "      <td>0</td>\n",
       "      <td>1</td>\n",
       "      <td>0</td>\n",
       "      <td>0</td>\n",
       "      <td>1</td>\n",
       "      <td>0</td>\n",
       "      <td>0</td>\n",
       "      <td>1</td>\n",
       "      <td>0</td>\n",
       "      <td>0</td>\n",
       "    </tr>\n",
       "    <tr>\n",
       "      <th>...</th>\n",
       "      <td>...</td>\n",
       "      <td>...</td>\n",
       "      <td>...</td>\n",
       "      <td>...</td>\n",
       "      <td>...</td>\n",
       "      <td>...</td>\n",
       "      <td>...</td>\n",
       "      <td>...</td>\n",
       "      <td>...</td>\n",
       "      <td>...</td>\n",
       "      <td>...</td>\n",
       "      <td>...</td>\n",
       "      <td>...</td>\n",
       "      <td>...</td>\n",
       "      <td>...</td>\n",
       "      <td>...</td>\n",
       "      <td>...</td>\n",
       "      <td>...</td>\n",
       "      <td>...</td>\n",
       "      <td>...</td>\n",
       "      <td>...</td>\n",
       "    </tr>\n",
       "    <tr>\n",
       "      <th>107</th>\n",
       "      <td>1.305384</td>\n",
       "      <td>-0.203582</td>\n",
       "      <td>0.903452</td>\n",
       "      <td>1.109417</td>\n",
       "      <td>-1.150701</td>\n",
       "      <td>-0.698918</td>\n",
       "      <td>-0.432410</td>\n",
       "      <td>1</td>\n",
       "      <td>3</td>\n",
       "      <td>1</td>\n",
       "      <td>...</td>\n",
       "      <td>0</td>\n",
       "      <td>1</td>\n",
       "      <td>0</td>\n",
       "      <td>0</td>\n",
       "      <td>0</td>\n",
       "      <td>1</td>\n",
       "      <td>0</td>\n",
       "      <td>1</td>\n",
       "      <td>0</td>\n",
       "      <td>0</td>\n",
       "    </tr>\n",
       "    <tr>\n",
       "      <th>271</th>\n",
       "      <td>0.622518</td>\n",
       "      <td>-0.189834</td>\n",
       "      <td>0.903452</td>\n",
       "      <td>1.109417</td>\n",
       "      <td>0.072394</td>\n",
       "      <td>-0.698918</td>\n",
       "      <td>-0.432410</td>\n",
       "      <td>1</td>\n",
       "      <td>1</td>\n",
       "      <td>1</td>\n",
       "      <td>...</td>\n",
       "      <td>0</td>\n",
       "      <td>1</td>\n",
       "      <td>0</td>\n",
       "      <td>0</td>\n",
       "      <td>1</td>\n",
       "      <td>0</td>\n",
       "      <td>0</td>\n",
       "      <td>1</td>\n",
       "      <td>0</td>\n",
       "      <td>0</td>\n",
       "    </tr>\n",
       "    <tr>\n",
       "      <th>861</th>\n",
       "      <td>-0.629401</td>\n",
       "      <td>-0.457307</td>\n",
       "      <td>0.017446</td>\n",
       "      <td>-1.645399</td>\n",
       "      <td>-0.641078</td>\n",
       "      <td>1.075834</td>\n",
       "      <td>-0.432410</td>\n",
       "      <td>1</td>\n",
       "      <td>1</td>\n",
       "      <td>1</td>\n",
       "      <td>...</td>\n",
       "      <td>1</td>\n",
       "      <td>0</td>\n",
       "      <td>0</td>\n",
       "      <td>0</td>\n",
       "      <td>1</td>\n",
       "      <td>0</td>\n",
       "      <td>0</td>\n",
       "      <td>0</td>\n",
       "      <td>0</td>\n",
       "      <td>1</td>\n",
       "    </tr>\n",
       "    <tr>\n",
       "      <th>436</th>\n",
       "      <td>-0.743212</td>\n",
       "      <td>0.050559</td>\n",
       "      <td>0.017446</td>\n",
       "      <td>-1.645399</td>\n",
       "      <td>-1.048776</td>\n",
       "      <td>-0.698918</td>\n",
       "      <td>-0.432410</td>\n",
       "      <td>3</td>\n",
       "      <td>2</td>\n",
       "      <td>1</td>\n",
       "      <td>...</td>\n",
       "      <td>0</td>\n",
       "      <td>1</td>\n",
       "      <td>0</td>\n",
       "      <td>0</td>\n",
       "      <td>1</td>\n",
       "      <td>0</td>\n",
       "      <td>0</td>\n",
       "      <td>1</td>\n",
       "      <td>0</td>\n",
       "      <td>0</td>\n",
       "    </tr>\n",
       "    <tr>\n",
       "      <th>103</th>\n",
       "      <td>-0.401780</td>\n",
       "      <td>-0.598126</td>\n",
       "      <td>0.903452</td>\n",
       "      <td>-0.727127</td>\n",
       "      <td>0.887790</td>\n",
       "      <td>-0.698918</td>\n",
       "      <td>-0.432410</td>\n",
       "      <td>0</td>\n",
       "      <td>2</td>\n",
       "      <td>1</td>\n",
       "      <td>...</td>\n",
       "      <td>0</td>\n",
       "      <td>1</td>\n",
       "      <td>0</td>\n",
       "      <td>0</td>\n",
       "      <td>1</td>\n",
       "      <td>0</td>\n",
       "      <td>0</td>\n",
       "      <td>0</td>\n",
       "      <td>0</td>\n",
       "      <td>1</td>\n",
       "    </tr>\n",
       "  </tbody>\n",
       "</table>\n",
       "<p>711 rows × 48 columns</p>\n",
       "</div>"
      ],
      "text/plain": [
       "     duration  credit_amount  installment_commitment  residence_since  \\\n",
       "id                                                                      \n",
       "30   0.622518       2.010778               -1.754567        -0.727127   \n",
       "536  1.988249       1.031710                0.017446        -0.727127   \n",
       "696 -1.312267      -0.132756               -0.868560        -0.727127   \n",
       "558 -0.060347      -0.837685                0.903452         1.109417   \n",
       "837 -0.060347      -0.456057                0.903452        -0.727127   \n",
       "..        ...            ...                     ...              ...   \n",
       "107  1.305384      -0.203582                0.903452         1.109417   \n",
       "271  0.622518      -0.189834                0.903452         1.109417   \n",
       "861 -0.629401      -0.457307                0.017446        -1.645399   \n",
       "436 -0.743212       0.050559                0.017446        -1.645399   \n",
       "103 -0.401780      -0.598126                0.903452        -0.727127   \n",
       "\n",
       "          age  existing_credits  num_dependents  checking_status  employment  \\\n",
       "id                                                                             \n",
       "30  -0.437229         -0.698918       -0.432410                1           1   \n",
       "536 -0.641078          1.075834       -0.432410                1           2   \n",
       "696  0.072394         -0.698918       -0.432410                2           2   \n",
       "558  0.174318         -0.698918        2.312621                2           4   \n",
       "837 -1.048776          1.075834       -0.432410                0           2   \n",
       "..        ...               ...             ...              ...         ...   \n",
       "107 -1.150701         -0.698918       -0.432410                1           3   \n",
       "271  0.072394         -0.698918       -0.432410                1           1   \n",
       "861 -0.641078          1.075834       -0.432410                1           1   \n",
       "436 -1.048776         -0.698918       -0.432410                3           2   \n",
       "103  0.887790         -0.698918       -0.432410                0           2   \n",
       "\n",
       "     savings_status  ...  other_payment_plans_bank  other_payment_plans_none  \\\n",
       "id                   ...                                                       \n",
       "30                0  ...                         0                         1   \n",
       "536               1  ...                         0                         1   \n",
       "696               1  ...                         0                         1   \n",
       "558               1  ...                         1                         0   \n",
       "837               1  ...                         0                         1   \n",
       "..              ...  ...                       ...                       ...   \n",
       "107               1  ...                         0                         1   \n",
       "271               1  ...                         0                         1   \n",
       "861               1  ...                         1                         0   \n",
       "436               1  ...                         0                         1   \n",
       "103               1  ...                         0                         1   \n",
       "\n",
       "     other_payment_plans_stores  housing_for free  housing_own  housing_rent  \\\n",
       "id                                                                             \n",
       "30                            0                 0            1             0   \n",
       "536                           0                 0            1             0   \n",
       "696                           0                 0            1             0   \n",
       "558                           0                 0            1             0   \n",
       "837                           0                 0            1             0   \n",
       "..                          ...               ...          ...           ...   \n",
       "107                           0                 0            0             1   \n",
       "271                           0                 0            1             0   \n",
       "861                           0                 0            1             0   \n",
       "436                           0                 0            1             0   \n",
       "103                           0                 0            1             0   \n",
       "\n",
       "     job_high qualif/self emp/mgmt  job_skilled  job_unemp/unskilled non res  \\\n",
       "id                                                                             \n",
       "30                               0            1                            0   \n",
       "536                              0            1                            0   \n",
       "696                              0            1                            0   \n",
       "558                              0            1                            0   \n",
       "837                              0            1                            0   \n",
       "..                             ...          ...                          ...   \n",
       "107                              0            1                            0   \n",
       "271                              0            1                            0   \n",
       "861                              0            0                            0   \n",
       "436                              0            1                            0   \n",
       "103                              0            0                            0   \n",
       "\n",
       "     job_unskilled resident  \n",
       "id                           \n",
       "30                        0  \n",
       "536                       0  \n",
       "696                       0  \n",
       "558                       0  \n",
       "837                       0  \n",
       "..                      ...  \n",
       "107                       0  \n",
       "271                       0  \n",
       "861                       1  \n",
       "436                       0  \n",
       "103                       1  \n",
       "\n",
       "[711 rows x 48 columns]"
      ]
     },
     "execution_count": 196,
     "metadata": {},
     "output_type": "execute_result"
    }
   ],
   "source": [
    "train"
   ]
  },
  {
   "cell_type": "markdown",
   "metadata": {},
   "source": [
    "# 2- Determination de la target value et split du dataset"
   ]
  },
  {
   "cell_type": "code",
   "execution_count": 197,
   "metadata": {},
   "outputs": [],
   "source": [
    "y= train['class']\n",
    "del train['class']\n",
    "X = train"
   ]
  },
  {
   "cell_type": "code",
   "execution_count": 198,
   "metadata": {},
   "outputs": [],
   "source": [
    "X_train, X_test, y_train, y_test = train_test_split(X, y, test_size=0.2, random_state = 40)"
   ]
  },
  {
   "cell_type": "code",
   "execution_count": 199,
   "metadata": {},
   "outputs": [
    {
     "data": {
      "text/plain": [
       "(568, 47)"
      ]
     },
     "execution_count": 199,
     "metadata": {},
     "output_type": "execute_result"
    }
   ],
   "source": [
    "X_train.shape"
   ]
  },
  {
   "cell_type": "code",
   "execution_count": 200,
   "metadata": {},
   "outputs": [
    {
     "data": {
      "text/plain": [
       "(568,)"
      ]
     },
     "execution_count": 200,
     "metadata": {},
     "output_type": "execute_result"
    }
   ],
   "source": [
    "y_train.shape"
   ]
  },
  {
   "cell_type": "code",
   "execution_count": 201,
   "metadata": {},
   "outputs": [
    {
     "data": {
      "text/plain": [
       "(143, 47)"
      ]
     },
     "execution_count": 201,
     "metadata": {},
     "output_type": "execute_result"
    }
   ],
   "source": [
    "X_test.shape"
   ]
  },
  {
   "cell_type": "code",
   "execution_count": 202,
   "metadata": {},
   "outputs": [
    {
     "data": {
      "text/plain": [
       "(143,)"
      ]
     },
     "execution_count": 202,
     "metadata": {},
     "output_type": "execute_result"
    }
   ],
   "source": [
    "y_test.shape"
   ]
  },
  {
   "cell_type": "markdown",
   "metadata": {},
   "source": [
    "# 3- Application de la regression logistique"
   ]
  },
  {
   "cell_type": "code",
   "execution_count": 308,
   "metadata": {},
   "outputs": [
    {
     "name": "stdout",
     "output_type": "stream",
     "text": [
      "0.6993006993006993\n",
      "[[15 22]\n",
      " [21 85]]\n",
      "              precision    recall  f1-score   support\n",
      "\n",
      "           0       0.42      0.41      0.41        37\n",
      "           1       0.79      0.80      0.80       106\n",
      "\n",
      "    accuracy                           0.70       143\n",
      "   macro avg       0.61      0.60      0.60       143\n",
      "weighted avg       0.70      0.70      0.70       143\n",
      "\n"
     ]
    }
   ],
   "source": [
    "log = LogisticRegression()\n",
    "log.fit(X_train, y_train)\n",
    "y_pred_log = log.predict(X_test)\n",
    "print(accuracy_score(y_pred_log, y_test))\n",
    "print(confusion_matrix(y_test, y_pred_log))\n",
    "print(classification_report(y_test, y_pred_log))"
   ]
  },
  {
   "cell_type": "markdown",
   "metadata": {},
   "source": [
    "# 5- Application du KNN"
   ]
  },
  {
   "cell_type": "code",
   "execution_count": 316,
   "metadata": {},
   "outputs": [
    {
     "name": "stdout",
     "output_type": "stream",
     "text": [
      "0.7272727272727273\n",
      "[[12 25]\n",
      " [14 92]]\n",
      "              precision    recall  f1-score   support\n",
      "\n",
      "           0       0.46      0.32      0.38        37\n",
      "           1       0.79      0.87      0.83       106\n",
      "\n",
      "    accuracy                           0.73       143\n",
      "   macro avg       0.62      0.60      0.60       143\n",
      "weighted avg       0.70      0.73      0.71       143\n",
      "\n"
     ]
    }
   ],
   "source": [
    "from sklearn.neighbors import KNeighborsClassifier\n",
    "\n",
    "knn = KNeighborsClassifier(n_neighbors = 7)\n",
    "knn.fit(X_train, y_train)\n",
    "y_pred_knn = knn.predict(X_test)\n",
    "print(accuracy_score(y_pred_knn, y_test))\n",
    "print(confusion_matrix(y_test, y_pred_knn))\n",
    "print(classification_report(y_test, y_pred_knn))"
   ]
  },
  {
   "cell_type": "markdown",
   "metadata": {},
   "source": [
    "# 6- Application de Naive-Bayes"
   ]
  },
  {
   "cell_type": "code",
   "execution_count": 391,
   "metadata": {},
   "outputs": [
    {
     "name": "stdout",
     "output_type": "stream",
     "text": [
      "0.6363636363636364\n",
      "[[16 21]\n",
      " [31 75]]\n",
      "              precision    recall  f1-score   support\n",
      "\n",
      "           0       0.34      0.43      0.38        37\n",
      "           1       0.78      0.71      0.74       106\n",
      "\n",
      "    accuracy                           0.64       143\n",
      "   macro avg       0.56      0.57      0.56       143\n",
      "weighted avg       0.67      0.64      0.65       143\n",
      "\n"
     ]
    }
   ],
   "source": [
    "from sklearn.naive_bayes import GaussianNB\n",
    "\n",
    "nb = GaussianNB()\n",
    "nb.fit(X_train, y_train)\n",
    "y_pred_nb = nb.predict(X_test)\n",
    "print(accuracy_score(y_pred_nb, y_test))\n",
    "print(confusion_matrix(y_test, y_pred_nb))\n",
    "print(classification_report(y_test, y_pred_nb))"
   ]
  },
  {
   "cell_type": "markdown",
   "metadata": {},
   "source": [
    "# 7- Application du SVM"
   ]
  },
  {
   "cell_type": "code",
   "execution_count": 332,
   "metadata": {},
   "outputs": [
    {
     "name": "stdout",
     "output_type": "stream",
     "text": [
      "0.7412587412587412\n",
      "[[  0  37]\n",
      " [  0 106]]\n",
      "              precision    recall  f1-score   support\n",
      "\n",
      "           0       0.00      0.00      0.00        37\n",
      "           1       0.74      1.00      0.85       106\n",
      "\n",
      "    accuracy                           0.74       143\n",
      "   macro avg       0.37      0.50      0.43       143\n",
      "weighted avg       0.55      0.74      0.63       143\n",
      "\n"
     ]
    },
    {
     "name": "stderr",
     "output_type": "stream",
     "text": [
      "C:\\Users\\HP\\anaconda3\\lib\\site-packages\\sklearn\\metrics\\_classification.py:1221: UndefinedMetricWarning: Precision and F-score are ill-defined and being set to 0.0 in labels with no predicted samples. Use `zero_division` parameter to control this behavior.\n",
      "  _warn_prf(average, modifier, msg_start, len(result))\n"
     ]
    }
   ],
   "source": [
    "from sklearn.svm import SVC\n",
    "\n",
    "\n",
    "svc = SVC(kernel='sigmoid', gamma='auto', C= 1)\n",
    "svc.fit(X_train, y_train)\n",
    "y_pred_svc = svc.predict(X_test)\n",
    "print(accuracy_score(y_pred_svc, y_test))\n",
    "print(confusion_matrix(y_test, y_pred_svc))\n",
    "print(classification_report(y_test, y_pred_svc))"
   ]
  },
  {
   "cell_type": "markdown",
   "metadata": {},
   "source": [
    "# 8- Application de la forêt aléatoire"
   ]
  },
  {
   "cell_type": "code",
   "execution_count": 388,
   "metadata": {},
   "outputs": [
    {
     "name": "stdout",
     "output_type": "stream",
     "text": [
      "0.7342657342657343\n",
      "[[11 26]\n",
      " [12 94]]\n",
      "              precision    recall  f1-score   support\n",
      "\n",
      "           0       0.48      0.30      0.37        37\n",
      "           1       0.78      0.89      0.83       106\n",
      "\n",
      "    accuracy                           0.73       143\n",
      "   macro avg       0.63      0.59      0.60       143\n",
      "weighted avg       0.70      0.73      0.71       143\n",
      "\n"
     ]
    }
   ],
   "source": [
    "from sklearn.ensemble import RandomForestClassifier\n",
    "\n",
    "\n",
    "rf = RandomForestClassifier(max_depth=9, max_features=15, min_samples_leaf=2, n_estimators=25)\n",
    "rf.fit(X_train, y_train)\n",
    "y_pred_rf = rf.predict(X_test)\n",
    "print(accuracy_score(y_pred_rf, y_test))\n",
    "print(confusion_matrix(y_test, y_pred_rf))\n",
    "print(classification_report(y_test, y_pred_rf))"
   ]
  },
  {
   "cell_type": "markdown",
   "metadata": {},
   "source": [
    "# 9- Application du XGBoost"
   ]
  },
  {
   "cell_type": "code",
   "execution_count": 394,
   "metadata": {},
   "outputs": [
    {
     "name": "stderr",
     "output_type": "stream",
     "text": [
      "C:\\Users\\HP\\anaconda3\\lib\\site-packages\\xgboost\\sklearn.py:888: UserWarning: The use of label encoder in XGBClassifier is deprecated and will be removed in a future release. To remove this warning, do the following: 1) Pass option use_label_encoder=False when constructing XGBClassifier object; and 2) Encode your labels (y) as integers starting with 0, i.e. 0, 1, 2, ..., [num_class - 1].\n",
      "  warnings.warn(label_encoder_deprecation_msg, UserWarning)\n"
     ]
    },
    {
     "name": "stdout",
     "output_type": "stream",
     "text": [
      "[09:41:06] WARNING: ..\\src\\learner.cc:1061: Starting in XGBoost 1.3.0, the default evaluation metric used with the objective 'binary:logistic' was changed from 'error' to 'logloss'. Explicitly set eval_metric if you'd like to restore the old behavior.\n",
      "0.7272727272727273\n",
      "[[15 22]\n",
      " [17 89]]\n",
      "              precision    recall  f1-score   support\n",
      "\n",
      "           0       0.47      0.41      0.43        37\n",
      "           1       0.80      0.84      0.82       106\n",
      "\n",
      "    accuracy                           0.73       143\n",
      "   macro avg       0.64      0.62      0.63       143\n",
      "weighted avg       0.72      0.73      0.72       143\n",
      "\n"
     ]
    }
   ],
   "source": [
    "from xgboost import XGBClassifier\n",
    "\n",
    "xgb = XGBClassifier(eta=0.19, max_depth=8, n_estimators=150, subsample=0.8, colsample_bytree=1)\n",
    "xgb.fit(X_train, y_train)\n",
    "y_pred_xgb = xgb.predict(X_test)\n",
    "print(accuracy_score(y_pred_xgb, y_test))\n",
    "print(confusion_matrix(y_test, y_pred_xgb))\n",
    "print(classification_report(y_test, y_pred_xgb))"
   ]
  },
  {
   "cell_type": "markdown",
   "metadata": {},
   "source": [
    "# 10- Application des réseaux de neurones"
   ]
  },
  {
   "cell_type": "code",
   "execution_count": 395,
   "metadata": {},
   "outputs": [],
   "source": [
    "from sklearn.neural_network import MLPClassifier"
   ]
  },
  {
   "cell_type": "code",
   "execution_count": 399,
   "metadata": {},
   "outputs": [
    {
     "name": "stdout",
     "output_type": "stream",
     "text": [
      "0.6783216783216783\n",
      "[[13 24]\n",
      " [22 84]]\n",
      "              precision    recall  f1-score   support\n",
      "\n",
      "           0       0.37      0.35      0.36        37\n",
      "           1       0.78      0.79      0.79       106\n",
      "\n",
      "    accuracy                           0.68       143\n",
      "   macro avg       0.57      0.57      0.57       143\n",
      "weighted avg       0.67      0.68      0.68       143\n",
      "\n"
     ]
    }
   ],
   "source": [
    "rn = MLPClassifier(solver = 'lbfgs', alpha = 1e-5, hidden_layer_sizes = (15,), random_state = 1)\n",
    "rn.fit(X_train, y_train)\n",
    "y_pred_rn = rn.predict(X_test)\n",
    "print(accuracy_score(y_pred_rn, y_test))\n",
    "print(confusion_matrix(y_test, y_pred_rn))\n",
    "print(classification_report(y_test, y_pred_rn))"
   ]
  },
  {
   "cell_type": "code",
   "execution_count": null,
   "metadata": {},
   "outputs": [],
   "source": []
  }
 ],
 "metadata": {
  "kernelspec": {
   "display_name": "Python 3",
   "language": "python",
   "name": "python3"
  },
  "language_info": {
   "codemirror_mode": {
    "name": "ipython",
    "version": 3
   },
   "file_extension": ".py",
   "mimetype": "text/x-python",
   "name": "python",
   "nbconvert_exporter": "python",
   "pygments_lexer": "ipython3",
   "version": "3.8.5"
  }
 },
 "nbformat": 4,
 "nbformat_minor": 4
}
