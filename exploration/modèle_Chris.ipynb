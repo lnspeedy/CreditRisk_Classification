{
 "cells": [
  {
   "cell_type": "markdown",
   "metadata": {
    "id": "ykBSVDUGDkGp"
   },
   "source": [
    "# 1- Importation des librairies pour tester les différents modèles"
   ]
  },
  {
   "cell_type": "code",
   "execution_count": null,
   "metadata": {
    "id": "1A5N_6lXI5i6"
   },
   "outputs": [],
   "source": [
    "pip install lazypredict"
   ]
  },
  {
   "cell_type": "code",
   "execution_count": 316,
   "metadata": {
    "id": "M1ArjOFnDkGy"
   },
   "outputs": [],
   "source": [
    "import numpy as np\n",
    "import pandas as pd\n",
    "import seaborn as sns\n",
    "#from lazypredict.Supervised import LazyClassifier\n",
    "from sklearn.linear_model import LogisticRegression\n",
    "from sklearn.model_selection import train_test_split\n",
    "from sklearn.naive_bayes import GaussianNB, BernoulliNB\n",
    "from sklearn.neighbors import KNeighborsClassifier\n",
    "from sklearn.ensemble import RandomForestClassifier\n",
    "from sklearn.neural_network import MLPClassifier, BernoulliRBM\n",
    "from xgboost import XGBClassifier\n",
    "from sklearn.svm import NuSVC\n",
    "from sklearn.svm import SVC\n",
    "import sklearn.metrics as metrics\n",
    "from sklearn.metrics import accuracy_score\n",
    "from sklearn.metrics import classification_report, confusion_matrix\n",
    "import matplotlib.pyplot as plt\n",
    "import timeit, time\n",
    "import os\n",
    "import warnings\n",
    "warnings.filterwarnings(\"ignore\")"
   ]
  },
  {
   "cell_type": "code",
   "execution_count": 16,
   "metadata": {
    "id": "P4Zz01fzDkG1"
   },
   "outputs": [],
   "source": [
    "train = pd.read_csv('train_final.csv')"
   ]
  },
  {
   "cell_type": "code",
   "execution_count": 17,
   "metadata": {
    "id": "-4zUl7MkDkG2"
   },
   "outputs": [],
   "source": [
    "train.set_index('id', inplace = True)"
   ]
  },
  {
   "cell_type": "code",
   "execution_count": 18,
   "metadata": {
    "colab": {
     "base_uri": "https://localhost:8080/",
     "height": 485
    },
    "id": "ZIVHZmMaDkG3",
    "outputId": "eef17265-1c03-4d85-e7b9-d725f6c150ae"
   },
   "outputs": [
    {
     "data": {
      "text/html": [
       "<div>\n",
       "<style scoped>\n",
       "    .dataframe tbody tr th:only-of-type {\n",
       "        vertical-align: middle;\n",
       "    }\n",
       "\n",
       "    .dataframe tbody tr th {\n",
       "        vertical-align: top;\n",
       "    }\n",
       "\n",
       "    .dataframe thead th {\n",
       "        text-align: right;\n",
       "    }\n",
       "</style>\n",
       "<table border=\"1\" class=\"dataframe\">\n",
       "  <thead>\n",
       "    <tr style=\"text-align: right;\">\n",
       "      <th></th>\n",
       "      <th>duration</th>\n",
       "      <th>credit_amount</th>\n",
       "      <th>installment_commitment</th>\n",
       "      <th>residence_since</th>\n",
       "      <th>age</th>\n",
       "      <th>existing_credits</th>\n",
       "      <th>num_dependents</th>\n",
       "      <th>checking_status</th>\n",
       "      <th>employment</th>\n",
       "      <th>savings_status</th>\n",
       "      <th>...</th>\n",
       "      <th>other_payment_plans_bank</th>\n",
       "      <th>other_payment_plans_none</th>\n",
       "      <th>other_payment_plans_stores</th>\n",
       "      <th>housing_for free</th>\n",
       "      <th>housing_own</th>\n",
       "      <th>housing_rent</th>\n",
       "      <th>job_high qualif/self emp/mgmt</th>\n",
       "      <th>job_skilled</th>\n",
       "      <th>job_unemp/unskilled non res</th>\n",
       "      <th>job_unskilled resident</th>\n",
       "    </tr>\n",
       "    <tr>\n",
       "      <th>id</th>\n",
       "      <th></th>\n",
       "      <th></th>\n",
       "      <th></th>\n",
       "      <th></th>\n",
       "      <th></th>\n",
       "      <th></th>\n",
       "      <th></th>\n",
       "      <th></th>\n",
       "      <th></th>\n",
       "      <th></th>\n",
       "      <th></th>\n",
       "      <th></th>\n",
       "      <th></th>\n",
       "      <th></th>\n",
       "      <th></th>\n",
       "      <th></th>\n",
       "      <th></th>\n",
       "      <th></th>\n",
       "      <th></th>\n",
       "      <th></th>\n",
       "      <th></th>\n",
       "    </tr>\n",
       "  </thead>\n",
       "  <tbody>\n",
       "    <tr>\n",
       "      <th>30</th>\n",
       "      <td>0.622518</td>\n",
       "      <td>2.010778</td>\n",
       "      <td>-1.754567</td>\n",
       "      <td>-0.727127</td>\n",
       "      <td>-0.437229</td>\n",
       "      <td>-0.698918</td>\n",
       "      <td>-0.432410</td>\n",
       "      <td>1</td>\n",
       "      <td>1</td>\n",
       "      <td>0</td>\n",
       "      <td>...</td>\n",
       "      <td>0</td>\n",
       "      <td>1</td>\n",
       "      <td>0</td>\n",
       "      <td>0</td>\n",
       "      <td>1</td>\n",
       "      <td>0</td>\n",
       "      <td>0</td>\n",
       "      <td>1</td>\n",
       "      <td>0</td>\n",
       "      <td>0</td>\n",
       "    </tr>\n",
       "    <tr>\n",
       "      <th>536</th>\n",
       "      <td>1.988249</td>\n",
       "      <td>1.031710</td>\n",
       "      <td>0.017446</td>\n",
       "      <td>-0.727127</td>\n",
       "      <td>-0.641078</td>\n",
       "      <td>1.075834</td>\n",
       "      <td>-0.432410</td>\n",
       "      <td>1</td>\n",
       "      <td>2</td>\n",
       "      <td>1</td>\n",
       "      <td>...</td>\n",
       "      <td>0</td>\n",
       "      <td>1</td>\n",
       "      <td>0</td>\n",
       "      <td>0</td>\n",
       "      <td>1</td>\n",
       "      <td>0</td>\n",
       "      <td>0</td>\n",
       "      <td>1</td>\n",
       "      <td>0</td>\n",
       "      <td>0</td>\n",
       "    </tr>\n",
       "    <tr>\n",
       "      <th>696</th>\n",
       "      <td>-1.312267</td>\n",
       "      <td>-0.132756</td>\n",
       "      <td>-0.868560</td>\n",
       "      <td>-0.727127</td>\n",
       "      <td>0.072394</td>\n",
       "      <td>-0.698918</td>\n",
       "      <td>-0.432410</td>\n",
       "      <td>2</td>\n",
       "      <td>2</td>\n",
       "      <td>1</td>\n",
       "      <td>...</td>\n",
       "      <td>0</td>\n",
       "      <td>1</td>\n",
       "      <td>0</td>\n",
       "      <td>0</td>\n",
       "      <td>1</td>\n",
       "      <td>0</td>\n",
       "      <td>0</td>\n",
       "      <td>1</td>\n",
       "      <td>0</td>\n",
       "      <td>0</td>\n",
       "    </tr>\n",
       "    <tr>\n",
       "      <th>558</th>\n",
       "      <td>-0.060347</td>\n",
       "      <td>-0.837685</td>\n",
       "      <td>0.903452</td>\n",
       "      <td>1.109417</td>\n",
       "      <td>0.174318</td>\n",
       "      <td>-0.698918</td>\n",
       "      <td>2.312621</td>\n",
       "      <td>2</td>\n",
       "      <td>4</td>\n",
       "      <td>1</td>\n",
       "      <td>...</td>\n",
       "      <td>1</td>\n",
       "      <td>0</td>\n",
       "      <td>0</td>\n",
       "      <td>0</td>\n",
       "      <td>1</td>\n",
       "      <td>0</td>\n",
       "      <td>0</td>\n",
       "      <td>1</td>\n",
       "      <td>0</td>\n",
       "      <td>0</td>\n",
       "    </tr>\n",
       "    <tr>\n",
       "      <th>837</th>\n",
       "      <td>-0.060347</td>\n",
       "      <td>-0.456057</td>\n",
       "      <td>0.903452</td>\n",
       "      <td>-0.727127</td>\n",
       "      <td>-1.048776</td>\n",
       "      <td>1.075834</td>\n",
       "      <td>-0.432410</td>\n",
       "      <td>0</td>\n",
       "      <td>2</td>\n",
       "      <td>1</td>\n",
       "      <td>...</td>\n",
       "      <td>0</td>\n",
       "      <td>1</td>\n",
       "      <td>0</td>\n",
       "      <td>0</td>\n",
       "      <td>1</td>\n",
       "      <td>0</td>\n",
       "      <td>0</td>\n",
       "      <td>1</td>\n",
       "      <td>0</td>\n",
       "      <td>0</td>\n",
       "    </tr>\n",
       "    <tr>\n",
       "      <th>...</th>\n",
       "      <td>...</td>\n",
       "      <td>...</td>\n",
       "      <td>...</td>\n",
       "      <td>...</td>\n",
       "      <td>...</td>\n",
       "      <td>...</td>\n",
       "      <td>...</td>\n",
       "      <td>...</td>\n",
       "      <td>...</td>\n",
       "      <td>...</td>\n",
       "      <td>...</td>\n",
       "      <td>...</td>\n",
       "      <td>...</td>\n",
       "      <td>...</td>\n",
       "      <td>...</td>\n",
       "      <td>...</td>\n",
       "      <td>...</td>\n",
       "      <td>...</td>\n",
       "      <td>...</td>\n",
       "      <td>...</td>\n",
       "      <td>...</td>\n",
       "    </tr>\n",
       "    <tr>\n",
       "      <th>107</th>\n",
       "      <td>1.305384</td>\n",
       "      <td>-0.203582</td>\n",
       "      <td>0.903452</td>\n",
       "      <td>1.109417</td>\n",
       "      <td>-1.150701</td>\n",
       "      <td>-0.698918</td>\n",
       "      <td>-0.432410</td>\n",
       "      <td>1</td>\n",
       "      <td>3</td>\n",
       "      <td>1</td>\n",
       "      <td>...</td>\n",
       "      <td>0</td>\n",
       "      <td>1</td>\n",
       "      <td>0</td>\n",
       "      <td>0</td>\n",
       "      <td>0</td>\n",
       "      <td>1</td>\n",
       "      <td>0</td>\n",
       "      <td>1</td>\n",
       "      <td>0</td>\n",
       "      <td>0</td>\n",
       "    </tr>\n",
       "    <tr>\n",
       "      <th>271</th>\n",
       "      <td>0.622518</td>\n",
       "      <td>-0.189834</td>\n",
       "      <td>0.903452</td>\n",
       "      <td>1.109417</td>\n",
       "      <td>0.072394</td>\n",
       "      <td>-0.698918</td>\n",
       "      <td>-0.432410</td>\n",
       "      <td>1</td>\n",
       "      <td>1</td>\n",
       "      <td>1</td>\n",
       "      <td>...</td>\n",
       "      <td>0</td>\n",
       "      <td>1</td>\n",
       "      <td>0</td>\n",
       "      <td>0</td>\n",
       "      <td>1</td>\n",
       "      <td>0</td>\n",
       "      <td>0</td>\n",
       "      <td>1</td>\n",
       "      <td>0</td>\n",
       "      <td>0</td>\n",
       "    </tr>\n",
       "    <tr>\n",
       "      <th>861</th>\n",
       "      <td>-0.629401</td>\n",
       "      <td>-0.457307</td>\n",
       "      <td>0.017446</td>\n",
       "      <td>-1.645399</td>\n",
       "      <td>-0.641078</td>\n",
       "      <td>1.075834</td>\n",
       "      <td>-0.432410</td>\n",
       "      <td>1</td>\n",
       "      <td>1</td>\n",
       "      <td>1</td>\n",
       "      <td>...</td>\n",
       "      <td>1</td>\n",
       "      <td>0</td>\n",
       "      <td>0</td>\n",
       "      <td>0</td>\n",
       "      <td>1</td>\n",
       "      <td>0</td>\n",
       "      <td>0</td>\n",
       "      <td>0</td>\n",
       "      <td>0</td>\n",
       "      <td>1</td>\n",
       "    </tr>\n",
       "    <tr>\n",
       "      <th>436</th>\n",
       "      <td>-0.743212</td>\n",
       "      <td>0.050559</td>\n",
       "      <td>0.017446</td>\n",
       "      <td>-1.645399</td>\n",
       "      <td>-1.048776</td>\n",
       "      <td>-0.698918</td>\n",
       "      <td>-0.432410</td>\n",
       "      <td>3</td>\n",
       "      <td>2</td>\n",
       "      <td>1</td>\n",
       "      <td>...</td>\n",
       "      <td>0</td>\n",
       "      <td>1</td>\n",
       "      <td>0</td>\n",
       "      <td>0</td>\n",
       "      <td>1</td>\n",
       "      <td>0</td>\n",
       "      <td>0</td>\n",
       "      <td>1</td>\n",
       "      <td>0</td>\n",
       "      <td>0</td>\n",
       "    </tr>\n",
       "    <tr>\n",
       "      <th>103</th>\n",
       "      <td>-0.401780</td>\n",
       "      <td>-0.598126</td>\n",
       "      <td>0.903452</td>\n",
       "      <td>-0.727127</td>\n",
       "      <td>0.887790</td>\n",
       "      <td>-0.698918</td>\n",
       "      <td>-0.432410</td>\n",
       "      <td>0</td>\n",
       "      <td>2</td>\n",
       "      <td>1</td>\n",
       "      <td>...</td>\n",
       "      <td>0</td>\n",
       "      <td>1</td>\n",
       "      <td>0</td>\n",
       "      <td>0</td>\n",
       "      <td>1</td>\n",
       "      <td>0</td>\n",
       "      <td>0</td>\n",
       "      <td>0</td>\n",
       "      <td>0</td>\n",
       "      <td>1</td>\n",
       "    </tr>\n",
       "  </tbody>\n",
       "</table>\n",
       "<p>711 rows × 48 columns</p>\n",
       "</div>"
      ],
      "text/plain": [
       "     duration  credit_amount  installment_commitment  residence_since  \\\n",
       "id                                                                      \n",
       "30   0.622518       2.010778               -1.754567        -0.727127   \n",
       "536  1.988249       1.031710                0.017446        -0.727127   \n",
       "696 -1.312267      -0.132756               -0.868560        -0.727127   \n",
       "558 -0.060347      -0.837685                0.903452         1.109417   \n",
       "837 -0.060347      -0.456057                0.903452        -0.727127   \n",
       "..        ...            ...                     ...              ...   \n",
       "107  1.305384      -0.203582                0.903452         1.109417   \n",
       "271  0.622518      -0.189834                0.903452         1.109417   \n",
       "861 -0.629401      -0.457307                0.017446        -1.645399   \n",
       "436 -0.743212       0.050559                0.017446        -1.645399   \n",
       "103 -0.401780      -0.598126                0.903452        -0.727127   \n",
       "\n",
       "          age  existing_credits  num_dependents  checking_status  employment  \\\n",
       "id                                                                             \n",
       "30  -0.437229         -0.698918       -0.432410                1           1   \n",
       "536 -0.641078          1.075834       -0.432410                1           2   \n",
       "696  0.072394         -0.698918       -0.432410                2           2   \n",
       "558  0.174318         -0.698918        2.312621                2           4   \n",
       "837 -1.048776          1.075834       -0.432410                0           2   \n",
       "..        ...               ...             ...              ...         ...   \n",
       "107 -1.150701         -0.698918       -0.432410                1           3   \n",
       "271  0.072394         -0.698918       -0.432410                1           1   \n",
       "861 -0.641078          1.075834       -0.432410                1           1   \n",
       "436 -1.048776         -0.698918       -0.432410                3           2   \n",
       "103  0.887790         -0.698918       -0.432410                0           2   \n",
       "\n",
       "     savings_status  ...  other_payment_plans_bank  other_payment_plans_none  \\\n",
       "id                   ...                                                       \n",
       "30                0  ...                         0                         1   \n",
       "536               1  ...                         0                         1   \n",
       "696               1  ...                         0                         1   \n",
       "558               1  ...                         1                         0   \n",
       "837               1  ...                         0                         1   \n",
       "..              ...  ...                       ...                       ...   \n",
       "107               1  ...                         0                         1   \n",
       "271               1  ...                         0                         1   \n",
       "861               1  ...                         1                         0   \n",
       "436               1  ...                         0                         1   \n",
       "103               1  ...                         0                         1   \n",
       "\n",
       "     other_payment_plans_stores  housing_for free  housing_own  housing_rent  \\\n",
       "id                                                                             \n",
       "30                            0                 0            1             0   \n",
       "536                           0                 0            1             0   \n",
       "696                           0                 0            1             0   \n",
       "558                           0                 0            1             0   \n",
       "837                           0                 0            1             0   \n",
       "..                          ...               ...          ...           ...   \n",
       "107                           0                 0            0             1   \n",
       "271                           0                 0            1             0   \n",
       "861                           0                 0            1             0   \n",
       "436                           0                 0            1             0   \n",
       "103                           0                 0            1             0   \n",
       "\n",
       "     job_high qualif/self emp/mgmt  job_skilled  job_unemp/unskilled non res  \\\n",
       "id                                                                             \n",
       "30                               0            1                            0   \n",
       "536                              0            1                            0   \n",
       "696                              0            1                            0   \n",
       "558                              0            1                            0   \n",
       "837                              0            1                            0   \n",
       "..                             ...          ...                          ...   \n",
       "107                              0            1                            0   \n",
       "271                              0            1                            0   \n",
       "861                              0            0                            0   \n",
       "436                              0            1                            0   \n",
       "103                              0            0                            0   \n",
       "\n",
       "     job_unskilled resident  \n",
       "id                           \n",
       "30                        0  \n",
       "536                       0  \n",
       "696                       0  \n",
       "558                       0  \n",
       "837                       0  \n",
       "..                      ...  \n",
       "107                       0  \n",
       "271                       0  \n",
       "861                       1  \n",
       "436                       0  \n",
       "103                       1  \n",
       "\n",
       "[711 rows x 48 columns]"
      ]
     },
     "execution_count": 18,
     "metadata": {},
     "output_type": "execute_result"
    }
   ],
   "source": [
    "train"
   ]
  },
  {
   "cell_type": "markdown",
   "metadata": {
    "id": "VTSlNjwFDkG3"
   },
   "source": [
    "# 2- Determination de la target value et split du dataset"
   ]
  },
  {
   "cell_type": "code",
   "execution_count": 19,
   "metadata": {
    "id": "l6x0mI-IDkG4"
   },
   "outputs": [],
   "source": [
    "y= train['class']\n",
    "del train['class']\n",
    "X = train"
   ]
  },
  {
   "cell_type": "code",
   "execution_count": 20,
   "metadata": {
    "id": "ugZOfW_6DkG5"
   },
   "outputs": [],
   "source": [
    "X_train, X_test, y_train, y_test = train_test_split(X, y, test_size=0.2, random_state = 40)"
   ]
  },
  {
   "cell_type": "code",
   "execution_count": 21,
   "metadata": {
    "colab": {
     "base_uri": "https://localhost:8080/"
    },
    "id": "GAKAy8gQDkG5",
    "outputId": "834170ee-6ec6-4692-e924-85c181896eab"
   },
   "outputs": [
    {
     "data": {
      "text/plain": [
       "(568, 47)"
      ]
     },
     "execution_count": 21,
     "metadata": {},
     "output_type": "execute_result"
    }
   ],
   "source": [
    "X_train.shape"
   ]
  },
  {
   "cell_type": "code",
   "execution_count": 22,
   "metadata": {
    "colab": {
     "base_uri": "https://localhost:8080/"
    },
    "id": "VGphkK_bDkG6",
    "outputId": "522f004c-593b-4db9-e560-678f30973bc5"
   },
   "outputs": [
    {
     "data": {
      "text/plain": [
       "(568,)"
      ]
     },
     "execution_count": 22,
     "metadata": {},
     "output_type": "execute_result"
    }
   ],
   "source": [
    "y_train.shape"
   ]
  },
  {
   "cell_type": "code",
   "execution_count": 23,
   "metadata": {
    "colab": {
     "base_uri": "https://localhost:8080/"
    },
    "id": "mjFr9hXmDkG6",
    "outputId": "ea407c2a-8d1e-4a2d-bb6d-4964d88dd13c"
   },
   "outputs": [
    {
     "data": {
      "text/plain": [
       "(143, 47)"
      ]
     },
     "execution_count": 23,
     "metadata": {},
     "output_type": "execute_result"
    }
   ],
   "source": [
    "X_test.shape"
   ]
  },
  {
   "cell_type": "code",
   "execution_count": 24,
   "metadata": {
    "colab": {
     "base_uri": "https://localhost:8080/"
    },
    "id": "2InP--lbDkG7",
    "outputId": "421feb2f-48e5-4d2d-867f-ce0f1af0b0b4"
   },
   "outputs": [
    {
     "data": {
      "text/plain": [
       "(143,)"
      ]
     },
     "execution_count": 24,
     "metadata": {},
     "output_type": "execute_result"
    }
   ],
   "source": [
    "y_test.shape"
   ]
  },
  {
   "cell_type": "markdown",
   "metadata": {
    "id": "JykGfAWxDkG8"
   },
   "source": [
    "# 3- Teste des diiférents algorithmes de façon native et visualisation des cas d'overfitting"
   ]
  },
  {
   "cell_type": "code",
   "execution_count": 157,
   "metadata": {
    "colab": {
     "base_uri": "https://localhost:8080/",
     "height": 893
    },
    "id": "9SxV3T57DkG8",
    "outputId": "ed21605b-51f5-4b00-cf6f-0c45db83dcc4"
   },
   "outputs": [
    {
     "name": "stdout",
     "output_type": "stream",
     "text": [
      "Train Score Regression Logistique: 0.7711267605633803\n",
      "Test Score Regression Logistique: 0.6993006993006993\n"
     ]
    }
   ],
   "source": [
    "log = LogisticRegression()\n",
    "log.fit(X_train, y_train)\n",
    "print('Train Score Regression Logistique:', log.score(X_train, y_train))\n",
    "print('Test Score Regression Logistique:', log.score(X_test, y_test))"
   ]
  },
  {
   "cell_type": "code",
   "execution_count": 162,
   "metadata": {},
   "outputs": [
    {
     "name": "stdout",
     "output_type": "stream",
     "text": [
      "Train Score KNN: 0.7992957746478874\n",
      "Test ScoreKNN: 0.7552447552447552\n"
     ]
    }
   ],
   "source": [
    "kn = KNeighborsClassifier()\n",
    "kn.fit(X_train, y_train)\n",
    "print('Train Score KNN:', kn.score(X_train, y_train))\n",
    "print('Test ScoreKNN:', kn.score(X_test, y_test))"
   ]
  },
  {
   "cell_type": "code",
   "execution_count": 160,
   "metadata": {},
   "outputs": [
    {
     "name": "stdout",
     "output_type": "stream",
     "text": [
      "Train Score Naive Bayes: 0.7535211267605634\n",
      "Test Score Naive Bayes: 0.6713286713286714\n"
     ]
    }
   ],
   "source": [
    "nb = BernoulliNB()\n",
    "nb.fit(X_train, y_train)\n",
    "print('Train Score Naive Bayes:', nb.score(X_train, y_train))\n",
    "print('Test Score Naive Bayes:', nb.score(X_test, y_test))"
   ]
  },
  {
   "cell_type": "code",
   "execution_count": 175,
   "metadata": {},
   "outputs": [
    {
     "name": "stdout",
     "output_type": "stream",
     "text": [
      "Train Score SVC: 0.8063380281690141\n",
      "Test Score SVC: 0.7342657342657343\n"
     ]
    }
   ],
   "source": [
    "svc = SVC()\n",
    "svc.fit(X_train, y_train)\n",
    "print('Train Score SVC:', svc.score(X_train, y_train))\n",
    "print('Test Score SVC:', svc.score(X_test, y_test))"
   ]
  },
  {
   "cell_type": "code",
   "execution_count": 172,
   "metadata": {},
   "outputs": [
    {
     "name": "stdout",
     "output_type": "stream",
     "text": [
      "Train Score random forest: 1.0\n",
      "Test Score random forest: 0.7342657342657343\n"
     ]
    }
   ],
   "source": [
    "rf = RandomForestClassifier()\n",
    "rf.fit(X_train, y_train)\n",
    "print('Train Score random forest:', rf.score(X_train, y_train))\n",
    "print('Test Score random forest:', rf.score(X_test, y_test))"
   ]
  },
  {
   "cell_type": "code",
   "execution_count": 177,
   "metadata": {},
   "outputs": [
    {
     "name": "stdout",
     "output_type": "stream",
     "text": [
      "[08:31:00] WARNING: ..\\src\\learner.cc:1061: Starting in XGBoost 1.3.0, the default evaluation metric used with the objective 'binary:logistic' was changed from 'error' to 'logloss'. Explicitly set eval_metric if you'd like to restore the old behavior.\n",
      "Train Score XGBoost: 1.0\n",
      "Test Score XGBoost : 0.7342657342657343\n"
     ]
    }
   ],
   "source": [
    "xb = XGBClassifier()\n",
    "xb.fit(X_train, y_train)\n",
    "print('Train Score XGBoost:', xb.score(X_train, y_train))\n",
    "print('Test Score XGBoost :', xb.score(X_test, y_test))"
   ]
  },
  {
   "cell_type": "markdown",
   "metadata": {},
   "source": [
    "L'overfitting est un phén"
   ]
  },
  {
   "cell_type": "markdown",
   "metadata": {
    "id": "8n1Xghz5DkHB"
   },
   "source": [
    "# 4- Application du GridSearch pour trouver les hyperparamètres optimaux pour les modèles "
   ]
  },
  {
   "cell_type": "code",
   "execution_count": 26,
   "metadata": {
    "id": "7oPcM_YkDkHB"
   },
   "outputs": [],
   "source": [
    "from sklearn.model_selection import GridSearchCV\n",
    "from sklearn.metrics import confusion_matrix, accuracy_score, auc, f1_score, recall_score,roc_auc_score, roc_curve\n"
   ]
  },
  {
   "cell_type": "code",
   "execution_count": 27,
   "metadata": {
    "colab": {
     "base_uri": "https://localhost:8080/"
    },
    "id": "5TOQCi3wWa01",
    "outputId": "52ee0844-a45d-4f64-c078-44c7b8b0fcee"
   },
   "outputs": [
    {
     "data": {
      "text/plain": [
       "GridSearchCV(cv=5, estimator=LogisticRegression(),\n",
       "             param_grid={'C': [0.01, 0.02, 0.03, 1, 1.01, 1.02, 2.01, 2.02],\n",
       "                         'penalty': ['l1', 'l2', 'elasticnet', 'none'],\n",
       "                         'solver': ['newton-cg', 'lbfgs', 'liblinear', 'sag',\n",
       "                                    'saga']})"
      ]
     },
     "execution_count": 27,
     "metadata": {},
     "output_type": "execute_result"
    }
   ],
   "source": [
    "# Pour la RL\n",
    "\n",
    "paramRL = {\n",
    "    'penalty': ['l1','l2','elasticnet','none'],\n",
    "    'C' : [0.01, 0.02, 0.03, 1, 1.01, 1.02, 2.01, 2.02],\n",
    "    'solver': ['newton-cg','lbfgs','liblinear','sag','saga']\n",
    "}\n",
    "\n",
    "gridRL = GridSearchCV(LogisticRegression(), paramRL, cv = 5)\n",
    "gridRL.fit(X_train, y_train)"
   ]
  },
  {
   "cell_type": "code",
   "execution_count": 135,
   "metadata": {
    "colab": {
     "base_uri": "https://localhost:8080/"
    },
    "id": "gWxxELjyXe2M",
    "outputId": "0a0f3c23-abdf-4115-de22-bedcd38b89dc"
   },
   "outputs": [
    {
     "data": {
      "text/plain": [
       "0.7359416239714329"
      ]
     },
     "execution_count": 135,
     "metadata": {
      "tags": []
     },
     "output_type": "execute_result"
    }
   ],
   "source": [
    "gridRL.best_score_"
   ]
  },
  {
   "cell_type": "code",
   "execution_count": 136,
   "metadata": {
    "colab": {
     "base_uri": "https://localhost:8080/"
    },
    "id": "O9rXTzkhXkOW",
    "outputId": "7aaff40e-62b4-4021-a881-002308a7daec"
   },
   "outputs": [
    {
     "data": {
      "text/plain": [
       "{'C': 1, 'penalty': 'l1', 'solver': 'saga'}"
      ]
     },
     "execution_count": 136,
     "metadata": {
      "tags": []
     },
     "output_type": "execute_result"
    }
   ],
   "source": [
    "gridRL.best_params_"
   ]
  },
  {
   "cell_type": "code",
   "execution_count": 31,
   "metadata": {
    "colab": {
     "base_uri": "https://localhost:8080/"
    },
    "id": "vMABV_0wX7UU",
    "outputId": "b2972c77-b98e-4065-eab4-9177fc31963a"
   },
   "outputs": [
    {
     "name": "stdout",
     "output_type": "stream",
     "text": [
      "Le temps dexecution est de :0.0036723000000051798\n",
      "0.7132867132867133\n"
     ]
    }
   ],
   "source": [
    "start = timeit.default_timer()\n",
    "\n",
    "modelRL = gridRL.best_estimator_\n",
    "modelRL.score(X_test, y_test)\n",
    "\n",
    "stop = timeit.default_timer()\n",
    "execution_time = stop - start\n",
    "print(\"Le temps dexecution est de :\" +str(execution_time))\n",
    "print(modelRL.score(X_test, y_test))"
   ]
  },
  {
   "cell_type": "code",
   "execution_count": 97,
   "metadata": {
    "colab": {
     "base_uri": "https://localhost:8080/"
    },
    "id": "PvQtK65hYP5F",
    "outputId": "dc8f3545-3698-45bf-b277-bc7288d081a3"
   },
   "outputs": [
    {
     "name": "stdout",
     "output_type": "stream",
     "text": [
      "0.7132867132867133\n",
      "[[15 22]\n",
      " [19 87]]\n",
      "              precision    recall  f1-score   support\n",
      "\n",
      "           0       0.44      0.41      0.42        37\n",
      "           1       0.80      0.82      0.81       106\n",
      "\n",
      "    accuracy                           0.71       143\n",
      "   macro avg       0.62      0.61      0.62       143\n",
      "weighted avg       0.71      0.71      0.71       143\n",
      "\n"
     ]
    }
   ],
   "source": [
    "RL = LogisticRegression(C = 1, penalty= 'l1', solver='saga')\n",
    "RL.fit(X_train, y_train)\n",
    "y_pred_RL = RL.predict(X_test)\n",
    "print(accuracy_score(y_pred_RL, y_test))\n",
    "print(confusion_matrix(y_test, y_pred_RL))\n",
    "print(classification_report(y_test, y_pred_RL))"
   ]
  },
  {
   "cell_type": "markdown",
   "metadata": {
    "id": "LVULAEEEDkHB"
   },
   "source": [
    "# a- Pour le KNN"
   ]
  },
  {
   "cell_type": "code",
   "execution_count": 35,
   "metadata": {
    "colab": {
     "base_uri": "https://localhost:8080/"
    },
    "id": "zrYz15wRDkHC",
    "outputId": "481b0814-6f3c-46e3-e989-07e2d6032bd0"
   },
   "outputs": [
    {
     "data": {
      "text/plain": [
       "GridSearchCV(cv=5, estimator=KNeighborsClassifier(),\n",
       "             param_grid={'algorithm': ['ball_tree', 'kd_tree', 'brute', 'auto'],\n",
       "                         'metric': ['euclidean', 'manhattan', 'minkowski'],\n",
       "                         'n_neighbors': array([ 2,  3,  4,  5,  6,  7,  8,  9, 10, 11, 12, 13, 14, 15, 16, 17, 18,\n",
       "       19, 20, 21, 22, 23, 24, 25, 26, 27, 28, 29, 30, 31, 32]),\n",
       "                         'weights': ['uniform', 'distance']})"
      ]
     },
     "execution_count": 35,
     "metadata": {},
     "output_type": "execute_result"
    }
   ],
   "source": [
    "paramKNN = {'n_neighbors': np.arange(2, 33),\n",
    "            'weights': ['uniform','distance'],\n",
    "            'algorithm': ['ball_tree', 'kd_tree', 'brute', 'auto'],\n",
    "            'metric': ['euclidean','manhattan', 'minkowski']}\n",
    "gridKNN = GridSearchCV(KNeighborsClassifier(), paramKNN, cv=5)\n",
    "gridKNN.fit(X_train, y_train)"
   ]
  },
  {
   "cell_type": "code",
   "execution_count": 36,
   "metadata": {
    "colab": {
     "base_uri": "https://localhost:8080/"
    },
    "id": "iC3di1aGDkHC",
    "outputId": "7a6dfec7-6d9c-4122-d67f-cce6520b8a7a"
   },
   "outputs": [
    {
     "data": {
      "text/plain": [
       "0.7412047818661699"
      ]
     },
     "execution_count": 36,
     "metadata": {},
     "output_type": "execute_result"
    }
   ],
   "source": [
    "gridKNN.best_score_"
   ]
  },
  {
   "cell_type": "code",
   "execution_count": 37,
   "metadata": {
    "colab": {
     "base_uri": "https://localhost:8080/"
    },
    "id": "Xq0zDJxdDkHC",
    "outputId": "98b927c8-a60d-4613-cfc6-5fccd5d14a49"
   },
   "outputs": [
    {
     "data": {
      "text/plain": [
       "{'algorithm': 'ball_tree',\n",
       " 'metric': 'euclidean',\n",
       " 'n_neighbors': 28,\n",
       " 'weights': 'distance'}"
      ]
     },
     "execution_count": 37,
     "metadata": {},
     "output_type": "execute_result"
    }
   ],
   "source": [
    "gridKNN.best_params_"
   ]
  },
  {
   "cell_type": "code",
   "execution_count": 38,
   "metadata": {
    "colab": {
     "base_uri": "https://localhost:8080/"
    },
    "id": "d9bZ_A7RDkHD",
    "outputId": "a0c8b269-97d0-4746-c75b-b19cd9c45aef"
   },
   "outputs": [
    {
     "name": "stdout",
     "output_type": "stream",
     "text": [
      "Le temps dexecution est de :0.013026600000102917\n",
      "0.7622377622377622\n"
     ]
    }
   ],
   "source": [
    "start = timeit.default_timer()\n",
    "\n",
    "modelKNN = gridKNN.best_estimator_\n",
    "modelKNN.score(X_test, y_test)\n",
    "\n",
    "stop = timeit.default_timer()\n",
    "execution_time = stop - start\n",
    "print(\"Le temps dexecution est de :\" +str(execution_time))\n",
    "print(modelKNN.score(X_test, y_test))\n"
   ]
  },
  {
   "cell_type": "code",
   "execution_count": 39,
   "metadata": {
    "colab": {
     "base_uri": "https://localhost:8080/"
    },
    "id": "ef_Q653Pvfci",
    "outputId": "c40ea9e4-7f53-4ea6-997f-212e91d8d36d"
   },
   "outputs": [
    {
     "name": "stdout",
     "output_type": "stream",
     "text": [
      "0.7622377622377622\n",
      "[[11 26]\n",
      " [ 8 98]]\n",
      "              precision    recall  f1-score   support\n",
      "\n",
      "           0       0.58      0.30      0.39        37\n",
      "           1       0.79      0.92      0.85       106\n",
      "\n",
      "    accuracy                           0.76       143\n",
      "   macro avg       0.68      0.61      0.62       143\n",
      "weighted avg       0.74      0.76      0.73       143\n",
      "\n"
     ]
    }
   ],
   "source": [
    "KNN = KNeighborsClassifier(algorithm= 'ball_tree',\n",
    " metric = 'euclidean',\n",
    " n_neighbors=  28,\n",
    " weights= 'distance')\n",
    "\n",
    "KNN.fit(X_train, y_train)\n",
    "y_pred_KNN = KNN.predict(X_test)\n",
    "print(accuracy_score(y_pred_KNN, y_test))\n",
    "print(confusion_matrix(y_test, y_pred_KNN))\n",
    "print(classification_report(y_test, y_pred_KNN))"
   ]
  },
  {
   "cell_type": "markdown",
   "metadata": {
    "id": "vSyZt1tzDkHG"
   },
   "source": [
    "# b- Pour Naive-Bayes"
   ]
  },
  {
   "cell_type": "code",
   "execution_count": 40,
   "metadata": {
    "colab": {
     "base_uri": "https://localhost:8080/"
    },
    "id": "T-pzckPTDkHG",
    "outputId": "a930ef17-b4ab-4bd6-a5e3-fb671af77611"
   },
   "outputs": [
    {
     "data": {
      "text/plain": [
       "GridSearchCV(cv=5, estimator=BernoulliNB(),\n",
       "             param_grid={'alpha': array([1.0000e-03, 1.0010e+00, 2.0010e+00, 3.0010e+00, 4.0010e+00,\n",
       "       5.0010e+00, 6.0010e+00, 7.0010e+00, 8.0010e+00, 9.0010e+00,\n",
       "       1.0001e+01, 1.1001e+01, 1.2001e+01])})"
      ]
     },
     "execution_count": 40,
     "metadata": {},
     "output_type": "execute_result"
    }
   ],
   "source": [
    "paramNB = {'alpha' : np.arange(1e-3, 13),\n",
    "           \n",
    "           }\n",
    "gridNB = GridSearchCV(BernoulliNB(), paramNB, cv=5)\n",
    "gridNB.fit(X_train, y_train)"
   ]
  },
  {
   "cell_type": "code",
   "execution_count": 46,
   "metadata": {
    "colab": {
     "base_uri": "https://localhost:8080/"
    },
    "id": "-FD1f_GQDkHG",
    "outputId": "b7c3ca9e-bf25-44f9-e2de-7689dff6b87e"
   },
   "outputs": [
    {
     "data": {
      "text/plain": [
       "0.7342648657040833"
      ]
     },
     "execution_count": 46,
     "metadata": {},
     "output_type": "execute_result"
    }
   ],
   "source": [
    "gridNB.best_score_"
   ]
  },
  {
   "cell_type": "code",
   "execution_count": 47,
   "metadata": {
    "colab": {
     "base_uri": "https://localhost:8080/"
    },
    "id": "e9kyny62DkHH",
    "outputId": "5f79e569-8588-4080-8528-2e0dcc897097"
   },
   "outputs": [
    {
     "data": {
      "text/plain": [
       "{'alpha': 11.000999999999998}"
      ]
     },
     "execution_count": 47,
     "metadata": {},
     "output_type": "execute_result"
    }
   ],
   "source": [
    "gridNB.best_params_"
   ]
  },
  {
   "cell_type": "code",
   "execution_count": 48,
   "metadata": {
    "colab": {
     "base_uri": "https://localhost:8080/"
    },
    "id": "R1T1hNvzDkHH",
    "outputId": "8b695126-392f-41bf-f91b-385c099de29b"
   },
   "outputs": [
    {
     "name": "stdout",
     "output_type": "stream",
     "text": [
      "Le temps dexecution est de :0.004497799999967356\n",
      "0.7132867132867133\n"
     ]
    }
   ],
   "source": [
    "start = timeit.default_timer()\n",
    "\n",
    "modelNB = gridNB.best_estimator_\n",
    "modelNB.score(X_test, y_test)\n",
    "\n",
    "stop = timeit.default_timer()\n",
    "execution_time = stop - start\n",
    "print(\"Le temps dexecution est de :\" +str(execution_time))\n",
    "print(modelNB.score(X_test, y_test))\n"
   ]
  },
  {
   "cell_type": "code",
   "execution_count": 133,
   "metadata": {
    "colab": {
     "base_uri": "https://localhost:8080/"
    },
    "id": "nXQq87rmQLFi",
    "outputId": "95bc0cc4-8932-4a53-c4f3-37745a33ea2d"
   },
   "outputs": [
    {
     "name": "stdout",
     "output_type": "stream",
     "text": [
      "0.7132867132867133\n",
      "[[12 25]\n",
      " [16 90]]\n",
      "              precision    recall  f1-score   support\n",
      "\n",
      "           0       0.43      0.32      0.37        37\n",
      "           1       0.78      0.85      0.81       106\n",
      "\n",
      "    accuracy                           0.71       143\n",
      "   macro avg       0.61      0.59      0.59       143\n",
      "weighted avg       0.69      0.71      0.70       143\n",
      "\n"
     ]
    }
   ],
   "source": [
    "NB = BernoulliNB(alpha = 11.000999999999998)\n",
    "\n",
    "NB.fit(X_train, y_train)\n",
    "y_pred_NB = NB.predict(X_test)\n",
    "print(accuracy_score(y_pred_NB, y_test))\n",
    "print(confusion_matrix(y_test, y_pred_NB))\n",
    "print(classification_report(y_test, y_pred_NB))"
   ]
  },
  {
   "cell_type": "markdown",
   "metadata": {
    "id": "xLhsjYv-DkHI"
   },
   "source": [
    "## c- Pour SVC"
   ]
  },
  {
   "cell_type": "code",
   "execution_count": 45,
   "metadata": {
    "colab": {
     "base_uri": "https://localhost:8080/"
    },
    "id": "TR_c-AS4DkHI",
    "outputId": "436c71c3-a70a-422f-f589-10067395d94f"
   },
   "outputs": [
    {
     "data": {
      "text/plain": [
       "GridSearchCV(cv=5, estimator=SVC(),\n",
       "             param_grid={'C': array([15, 16, 17, 18, 19, 20, 21, 22]),\n",
       "                         'decision_function_shape': ['ovo', 'ovr'],\n",
       "                         'gamma': ['scale', 'auto'],\n",
       "                         'kernel': ['linear', 'poly', 'rbf', 'sigmoid']})"
      ]
     },
     "execution_count": 45,
     "metadata": {},
     "output_type": "execute_result"
    }
   ],
   "source": [
    "from sklearn.svm import SVC\n",
    "paramSVC = {'C' : np.arange(15, 23),\n",
    "           'kernel' : ['linear', 'poly','rbf', 'sigmoid'],\n",
    "            'gamma' : ['scale', 'auto'],\n",
    "            'decision_function_shape': ['ovo', 'ovr']\n",
    "           }\n",
    "gridSVC = GridSearchCV(SVC(), paramSVC, cv=5)\n",
    "gridSVC.fit(X_train, y_train)\n"
   ]
  },
  {
   "cell_type": "code",
   "execution_count": 50,
   "metadata": {
    "colab": {
     "base_uri": "https://localhost:8080/"
    },
    "id": "8Xc0WYJMDkHI",
    "outputId": "21fa4389-ac13-4821-b2f3-a96b5a37c28d"
   },
   "outputs": [
    {
     "data": {
      "text/plain": [
       "0.764089427107592"
      ]
     },
     "execution_count": 50,
     "metadata": {},
     "output_type": "execute_result"
    }
   ],
   "source": [
    "gridSVC.best_score_"
   ]
  },
  {
   "cell_type": "code",
   "execution_count": 51,
   "metadata": {
    "colab": {
     "base_uri": "https://localhost:8080/"
    },
    "id": "1FnajJXZDkHJ",
    "outputId": "133cd44b-5b42-4a0b-9ad0-8da562d7105f"
   },
   "outputs": [
    {
     "data": {
      "text/plain": [
       "{'C': 17, 'decision_function_shape': 'ovo', 'gamma': 'auto', 'kernel': 'rbf'}"
      ]
     },
     "execution_count": 51,
     "metadata": {},
     "output_type": "execute_result"
    }
   ],
   "source": [
    "gridSVC.best_params_"
   ]
  },
  {
   "cell_type": "code",
   "execution_count": 52,
   "metadata": {
    "colab": {
     "base_uri": "https://localhost:8080/"
    },
    "id": "qawD30dcDkHJ",
    "outputId": "6559ad6a-689d-4738-fb82-9465cab5cc89"
   },
   "outputs": [
    {
     "name": "stdout",
     "output_type": "stream",
     "text": [
      "Le temps dexecution est de :0.006716600000117978\n",
      "0.6923076923076923\n"
     ]
    }
   ],
   "source": [
    "start = timeit.default_timer()\n",
    "\n",
    "modelSVC = gridSVC.best_estimator_\n",
    "modelSVC.score(X_test, y_test)\n",
    "\n",
    "stop = timeit.default_timer()\n",
    "execution_time = stop - start\n",
    "print(\"Le temps dexecution est de :\" +str(execution_time))\n",
    "print(modelSVC.score(X_test, y_test))\n"
   ]
  },
  {
   "cell_type": "code",
   "execution_count": 53,
   "metadata": {
    "colab": {
     "base_uri": "https://localhost:8080/"
    },
    "id": "bLFyix8SPu_B",
    "outputId": "76730f15-f3a9-4fb8-da6f-b386144b403b"
   },
   "outputs": [
    {
     "name": "stdout",
     "output_type": "stream",
     "text": [
      "0.7342657342657343\n",
      "[[ 6 31]\n",
      " [ 7 99]]\n",
      "              precision    recall  f1-score   support\n",
      "\n",
      "           0       0.46      0.16      0.24        37\n",
      "           1       0.76      0.93      0.84       106\n",
      "\n",
      "    accuracy                           0.73       143\n",
      "   macro avg       0.61      0.55      0.54       143\n",
      "weighted avg       0.68      0.73      0.68       143\n",
      "\n"
     ]
    }
   ],
   "source": [
    "SVC = SVC()\n",
    "\n",
    "SVC.fit(X_train, y_train)\n",
    "y_pred_SVC = SVC.predict(X_test)\n",
    "print(accuracy_score(y_pred_SVC, y_test))\n",
    "print(confusion_matrix(y_test, y_pred_SVC))\n",
    "print(classification_report(y_test, y_pred_SVC))"
   ]
  },
  {
   "cell_type": "markdown",
   "metadata": {
    "id": "ALzj7KAfDkHK"
   },
   "source": [
    "## d- Pour la foret aléatoire"
   ]
  },
  {
   "cell_type": "code",
   "execution_count": 64,
   "metadata": {
    "colab": {
     "base_uri": "https://localhost:8080/"
    },
    "id": "KfyL9tGUDkHK",
    "outputId": "8bdd44c5-c223-440c-ce58-f7ffbaf99476"
   },
   "outputs": [
    {
     "data": {
      "text/plain": [
       "GridSearchCV(cv=5, estimator=RandomForestClassifier(),\n",
       "             param_grid={'criterion': ['gini', 'entropy'],\n",
       "                         'max_depth': array([11, 12, 13, 14, 15]),\n",
       "                         'max_features': ['auto', 'sqrt', 'log2'],\n",
       "                         'n_estimators': array([37, 38, 39, 40])})"
      ]
     },
     "execution_count": 64,
     "metadata": {},
     "output_type": "execute_result"
    }
   ],
   "source": [
    "from sklearn.ensemble import RandomForestClassifier\n",
    "\n",
    "paramRF = {'n_estimators' : np.arange(37, 41),\n",
    "           'criterion' : ['gini', 'entropy'],\n",
    "            'max_depth' : np.arange(11, 16),  \n",
    "            'max_features': ['auto', 'sqrt', 'log2']\n",
    "           }\n",
    "gridRF = GridSearchCV(RandomForestClassifier(), paramRF, cv=5)\n",
    "gridRF.fit(X_train, y_train)"
   ]
  },
  {
   "cell_type": "code",
   "execution_count": 65,
   "metadata": {
    "colab": {
     "base_uri": "https://localhost:8080/"
    },
    "id": "hUxKS-E3DkHK",
    "outputId": "e8a906aa-0621-4b56-8a1d-28b4fe2cd24d"
   },
   "outputs": [
    {
     "data": {
      "text/plain": [
       "0.7729234590902034"
      ]
     },
     "execution_count": 65,
     "metadata": {},
     "output_type": "execute_result"
    }
   ],
   "source": [
    "gridRF.best_score_"
   ]
  },
  {
   "cell_type": "code",
   "execution_count": 66,
   "metadata": {
    "colab": {
     "base_uri": "https://localhost:8080/"
    },
    "id": "8Z7wzr2TDkHK",
    "outputId": "fa611c23-25d3-466b-c665-a1e77192c471"
   },
   "outputs": [
    {
     "data": {
      "text/plain": [
       "{'criterion': 'entropy',\n",
       " 'max_depth': 12,\n",
       " 'max_features': 'sqrt',\n",
       " 'n_estimators': 37}"
      ]
     },
     "execution_count": 66,
     "metadata": {},
     "output_type": "execute_result"
    }
   ],
   "source": [
    "gridRF.best_params_"
   ]
  },
  {
   "cell_type": "code",
   "execution_count": 67,
   "metadata": {
    "colab": {
     "base_uri": "https://localhost:8080/"
    },
    "id": "E7zHV_J0DkHL",
    "outputId": "b5e3c181-ae3a-4662-908d-239be7f5d9d2"
   },
   "outputs": [
    {
     "name": "stdout",
     "output_type": "stream",
     "text": [
      "Le temps dexecution est de :0.011423100000001796\n",
      "0.7342657342657343\n"
     ]
    }
   ],
   "source": [
    "start = timeit.default_timer()\n",
    "\n",
    "modelRF = gridRF.best_estimator_\n",
    "modelRF.score(X_test, y_test)\n",
    "\n",
    "stop = timeit.default_timer()\n",
    "execution_time = stop - start\n",
    "print(\"Le temps dexecution est de :\" +str(execution_time))\n",
    "print(modelRF.score(X_test, y_test))\n"
   ]
  },
  {
   "cell_type": "code",
   "execution_count": 131,
   "metadata": {
    "colab": {
     "base_uri": "https://localhost:8080/"
    },
    "id": "J6leriyHO6dP",
    "outputId": "99c225ff-9870-4a86-c7d7-799cc06eb079"
   },
   "outputs": [
    {
     "name": "stdout",
     "output_type": "stream",
     "text": [
      "0.7342657342657343\n",
      "[[ 8 29]\n",
      " [ 9 97]]\n",
      "              precision    recall  f1-score   support\n",
      "\n",
      "           0       0.47      0.22      0.30        37\n",
      "           1       0.77      0.92      0.84       106\n",
      "\n",
      "    accuracy                           0.73       143\n",
      "   macro avg       0.62      0.57      0.57       143\n",
      "weighted avg       0.69      0.73      0.70       143\n",
      "\n"
     ]
    }
   ],
   "source": [
    "RF = RandomForestClassifier(criterion = 'entropy',\n",
    " max_depth = 12,\n",
    " max_features = 'sqrt',\n",
    " n_estimators = 37)\n",
    "\n",
    "RF.fit(X_train, y_train)\n",
    "y_pred_RF = RF.predict(X_test)\n",
    "print(accuracy_score(y_pred_RF, y_test))\n",
    "print(confusion_matrix(y_test, y_pred_RF))\n",
    "print(classification_report(y_test, y_pred_RF))"
   ]
  },
  {
   "cell_type": "markdown",
   "metadata": {
    "id": "Rzdc_gYSDkHL"
   },
   "source": [
    "## e- Pour le Bagging Classifier"
   ]
  },
  {
   "cell_type": "code",
   "execution_count": 71,
   "metadata": {
    "collapsed": true,
    "id": "BV840oJwDkHL"
   },
   "outputs": [
    {
     "name": "stderr",
     "output_type": "stream",
     "text": [
      "[Parallel(n_jobs=1)]: Using backend SequentialBackend with 1 concurrent workers.\n",
      "[Parallel(n_jobs=1)]: Done   1 out of   1 | elapsed:    0.0s finished\n",
      "[Parallel(n_jobs=1)]: Using backend SequentialBackend with 1 concurrent workers.\n",
      "[Parallel(n_jobs=1)]: Done   1 out of   1 | elapsed:    0.0s finished\n",
      "[Parallel(n_jobs=1)]: Using backend SequentialBackend with 1 concurrent workers.\n",
      "[Parallel(n_jobs=1)]: Done   1 out of   1 | elapsed:    0.0s finished\n",
      "[Parallel(n_jobs=1)]: Using backend SequentialBackend with 1 concurrent workers.\n",
      "[Parallel(n_jobs=1)]: Done   1 out of   1 | elapsed:    0.0s finished\n",
      "[Parallel(n_jobs=1)]: Using backend SequentialBackend with 1 concurrent workers.\n",
      "[Parallel(n_jobs=1)]: Done   1 out of   1 | elapsed:    0.0s finished\n",
      "[Parallel(n_jobs=1)]: Using backend SequentialBackend with 1 concurrent workers.\n",
      "[Parallel(n_jobs=1)]: Done   1 out of   1 | elapsed:    0.0s finished\n",
      "[Parallel(n_jobs=1)]: Using backend SequentialBackend with 1 concurrent workers.\n",
      "[Parallel(n_jobs=1)]: Done   1 out of   1 | elapsed:    0.0s finished\n",
      "[Parallel(n_jobs=1)]: Using backend SequentialBackend with 1 concurrent workers.\n",
      "[Parallel(n_jobs=1)]: Done   1 out of   1 | elapsed:    0.0s finished\n",
      "[Parallel(n_jobs=1)]: Using backend SequentialBackend with 1 concurrent workers.\n",
      "[Parallel(n_jobs=1)]: Done   1 out of   1 | elapsed:    0.0s finished\n",
      "[Parallel(n_jobs=1)]: Using backend SequentialBackend with 1 concurrent workers.\n",
      "[Parallel(n_jobs=1)]: Done   1 out of   1 | elapsed:    0.0s finished\n",
      "[Parallel(n_jobs=1)]: Using backend SequentialBackend with 1 concurrent workers.\n",
      "[Parallel(n_jobs=1)]: Done   1 out of   1 | elapsed:    0.0s remaining:    0.0s\n",
      "[Parallel(n_jobs=1)]: Done   1 out of   1 | elapsed:    0.0s finished\n",
      "[Parallel(n_jobs=1)]: Using backend SequentialBackend with 1 concurrent workers.\n",
      "[Parallel(n_jobs=1)]: Done   1 out of   1 | elapsed:    0.0s remaining:    0.0s\n",
      "[Parallel(n_jobs=1)]: Done   1 out of   1 | elapsed:    0.0s finished\n",
      "[Parallel(n_jobs=1)]: Using backend SequentialBackend with 1 concurrent workers.\n",
      "[Parallel(n_jobs=1)]: Done   1 out of   1 | elapsed:    0.0s remaining:    0.0s\n",
      "[Parallel(n_jobs=1)]: Done   1 out of   1 | elapsed:    0.0s finished\n",
      "[Parallel(n_jobs=1)]: Using backend SequentialBackend with 1 concurrent workers.\n",
      "[Parallel(n_jobs=1)]: Done   1 out of   1 | elapsed:    0.0s remaining:    0.0s\n",
      "[Parallel(n_jobs=1)]: Done   1 out of   1 | elapsed:    0.0s finished\n",
      "[Parallel(n_jobs=1)]: Using backend SequentialBackend with 1 concurrent workers.\n",
      "[Parallel(n_jobs=1)]: Done   1 out of   1 | elapsed:    0.0s remaining:    0.0s\n",
      "[Parallel(n_jobs=1)]: Done   1 out of   1 | elapsed:    0.0s finished\n",
      "[Parallel(n_jobs=1)]: Using backend SequentialBackend with 1 concurrent workers.\n",
      "[Parallel(n_jobs=1)]: Done   1 out of   1 | elapsed:    0.0s remaining:    0.0s\n",
      "[Parallel(n_jobs=1)]: Done   1 out of   1 | elapsed:    0.0s finished\n",
      "[Parallel(n_jobs=1)]: Using backend SequentialBackend with 1 concurrent workers.\n",
      "[Parallel(n_jobs=1)]: Done   1 out of   1 | elapsed:    0.0s remaining:    0.0s\n",
      "[Parallel(n_jobs=1)]: Done   1 out of   1 | elapsed:    0.0s finished\n",
      "[Parallel(n_jobs=1)]: Using backend SequentialBackend with 1 concurrent workers.\n",
      "[Parallel(n_jobs=1)]: Done   1 out of   1 | elapsed:    0.0s remaining:    0.0s\n",
      "[Parallel(n_jobs=1)]: Done   1 out of   1 | elapsed:    0.0s finished\n",
      "[Parallel(n_jobs=1)]: Using backend SequentialBackend with 1 concurrent workers.\n",
      "[Parallel(n_jobs=1)]: Done   1 out of   1 | elapsed:    0.0s remaining:    0.0s\n",
      "[Parallel(n_jobs=1)]: Done   1 out of   1 | elapsed:    0.0s finished\n",
      "[Parallel(n_jobs=1)]: Using backend SequentialBackend with 1 concurrent workers.\n",
      "[Parallel(n_jobs=1)]: Done   1 out of   1 | elapsed:    0.0s remaining:    0.0s\n",
      "[Parallel(n_jobs=1)]: Done   1 out of   1 | elapsed:    0.0s finished\n",
      "[Parallel(n_jobs=1)]: Using backend SequentialBackend with 1 concurrent workers.\n"
     ]
    },
    {
     "name": "stdout",
     "output_type": "stream",
     "text": [
      "Building estimator 1 of 7 for this parallel run (total 7)...\n",
      "Building estimator 2 of 7 for this parallel run (total 7)...\n",
      "Building estimator 3 of 7 for this parallel run (total 7)...\n",
      "Building estimator 4 of 7 for this parallel run (total 7)...\n",
      "Building estimator 5 of 7 for this parallel run (total 7)...\n",
      "Building estimator 6 of 7 for this parallel run (total 7)...\n",
      "Building estimator 7 of 7 for this parallel run (total 7)...\n",
      "Building estimator 1 of 7 for this parallel run (total 7)...\n",
      "Building estimator 2 of 7 for this parallel run (total 7)...\n",
      "Building estimator 3 of 7 for this parallel run (total 7)...\n",
      "Building estimator 4 of 7 for this parallel run (total 7)...\n",
      "Building estimator 5 of 7 for this parallel run (total 7)...\n",
      "Building estimator 6 of 7 for this parallel run (total 7)...\n",
      "Building estimator 7 of 7 for this parallel run (total 7)...\n",
      "Building estimator 1 of 7 for this parallel run (total 7)...\n",
      "Building estimator 2 of 7 for this parallel run (total 7)...\n",
      "Building estimator 3 of 7 for this parallel run (total 7)...\n",
      "Building estimator 4 of 7 for this parallel run (total 7)...\n",
      "Building estimator 5 of 7 for this parallel run (total 7)...\n",
      "Building estimator 6 of 7 for this parallel run (total 7)...\n",
      "Building estimator 7 of 7 for this parallel run (total 7)...\n",
      "Building estimator 1 of 7 for this parallel run (total 7)...\n",
      "Building estimator 2 of 7 for this parallel run (total 7)...\n",
      "Building estimator 3 of 7 for this parallel run (total 7)...\n",
      "Building estimator 4 of 7 for this parallel run (total 7)...\n",
      "Building estimator 5 of 7 for this parallel run (total 7)...\n",
      "Building estimator 6 of 7 for this parallel run (total 7)...\n",
      "Building estimator 7 of 7 for this parallel run (total 7)...\n",
      "Building estimator 1 of 7 for this parallel run (total 7)...\n",
      "Building estimator 2 of 7 for this parallel run (total 7)...\n",
      "Building estimator 3 of 7 for this parallel run (total 7)...\n",
      "Building estimator 4 of 7 for this parallel run (total 7)...\n",
      "Building estimator 5 of 7 for this parallel run (total 7)...\n",
      "Building estimator 6 of 7 for this parallel run (total 7)...\n",
      "Building estimator 7 of 7 for this parallel run (total 7)...\n",
      "Building estimator 1 of 7 for this parallel run (total 7)...\n",
      "Building estimator 2 of 7 for this parallel run (total 7)...\n",
      "Building estimator 3 of 7 for this parallel run (total 7)...\n",
      "Building estimator 4 of 7 for this parallel run (total 7)...\n",
      "Building estimator 5 of 7 for this parallel run (total 7)...\n",
      "Building estimator 6 of 7 for this parallel run (total 7)...\n",
      "Building estimator 7 of 7 for this parallel run (total 7)...\n",
      "Building estimator 1 of 7 for this parallel run (total 7)...\n",
      "Building estimator 2 of 7 for this parallel run (total 7)...\n",
      "Building estimator 3 of 7 for this parallel run (total 7)...\n",
      "Building estimator 4 of 7 for this parallel run (total 7)...\n",
      "Building estimator 5 of 7 for this parallel run (total 7)...\n",
      "Building estimator 6 of 7 for this parallel run (total 7)...\n",
      "Building estimator 7 of 7 for this parallel run (total 7)...\n",
      "Building estimator 1 of 7 for this parallel run (total 7)...\n",
      "Building estimator 2 of 7 for this parallel run (total 7)...\n",
      "Building estimator 3 of 7 for this parallel run (total 7)...\n",
      "Building estimator 4 of 7 for this parallel run (total 7)...\n",
      "Building estimator 5 of 7 for this parallel run (total 7)...\n",
      "Building estimator 6 of 7 for this parallel run (total 7)...\n",
      "Building estimator 7 of 7 for this parallel run (total 7)...\n",
      "Building estimator 1 of 7 for this parallel run (total 7)...\n",
      "Building estimator 2 of 7 for this parallel run (total 7)...\n",
      "Building estimator 3 of 7 for this parallel run (total 7)...\n",
      "Building estimator 4 of 7 for this parallel run (total 7)...\n",
      "Building estimator 5 of 7 for this parallel run (total 7)...\n",
      "Building estimator 6 of 7 for this parallel run (total 7)...\n",
      "Building estimator 7 of 7 for this parallel run (total 7)...\n",
      "Building estimator 1 of 7 for this parallel run (total 7)...\n",
      "Building estimator 2 of 7 for this parallel run (total 7)...\n",
      "Building estimator 3 of 7 for this parallel run (total 7)...\n",
      "Building estimator 4 of 7 for this parallel run (total 7)...\n",
      "Building estimator 5 of 7 for this parallel run (total 7)...\n",
      "Building estimator 6 of 7 for this parallel run (total 7)...\n",
      "Building estimator 7 of 7 for this parallel run (total 7)...\n",
      "Building estimator 1 of 7 for this parallel run (total 7)...\n",
      "Building estimator 2 of 7 for this parallel run (total 7)...\n",
      "Building estimator 3 of 7 for this parallel run (total 7)...\n",
      "Building estimator 4 of 7 for this parallel run (total 7)...\n",
      "Building estimator 5 of 7 for this parallel run (total 7)...\n",
      "Building estimator 6 of 7 for this parallel run (total 7)...\n",
      "Building estimator 7 of 7 for this parallel run (total 7)..."
     ]
    },
    {
     "name": "stderr",
     "output_type": "stream",
     "text": [
      "[Parallel(n_jobs=1)]: Done   1 out of   1 | elapsed:    0.0s remaining:    0.0s\n",
      "[Parallel(n_jobs=1)]: Done   1 out of   1 | elapsed:    0.0s finished\n",
      "[Parallel(n_jobs=1)]: Using backend SequentialBackend with 1 concurrent workers.\n",
      "[Parallel(n_jobs=1)]: Done   1 out of   1 | elapsed:    0.0s remaining:    0.0s\n",
      "[Parallel(n_jobs=1)]: Done   1 out of   1 | elapsed:    0.0s finished\n",
      "[Parallel(n_jobs=1)]: Using backend SequentialBackend with 1 concurrent workers.\n",
      "[Parallel(n_jobs=1)]: Done   1 out of   1 | elapsed:    0.0s remaining:    0.0s\n",
      "[Parallel(n_jobs=1)]: Done   1 out of   1 | elapsed:    0.0s finished\n",
      "[Parallel(n_jobs=1)]: Using backend SequentialBackend with 1 concurrent workers.\n",
      "[Parallel(n_jobs=1)]: Done   1 out of   1 | elapsed:    0.0s remaining:    0.0s\n",
      "[Parallel(n_jobs=1)]: Done   1 out of   1 | elapsed:    0.0s finished\n",
      "[Parallel(n_jobs=1)]: Using backend SequentialBackend with 1 concurrent workers.\n",
      "[Parallel(n_jobs=1)]: Done   1 out of   1 | elapsed:    0.0s remaining:    0.0s\n",
      "[Parallel(n_jobs=1)]: Done   1 out of   1 | elapsed:    0.0s finished\n",
      "[Parallel(n_jobs=1)]: Using backend SequentialBackend with 1 concurrent workers.\n",
      "[Parallel(n_jobs=1)]: Done   1 out of   1 | elapsed:    0.0s remaining:    0.0s\n",
      "[Parallel(n_jobs=1)]: Done   1 out of   1 | elapsed:    0.0s finished\n",
      "[Parallel(n_jobs=1)]: Using backend SequentialBackend with 1 concurrent workers.\n",
      "[Parallel(n_jobs=1)]: Done   1 out of   1 | elapsed:    0.0s remaining:    0.0s\n",
      "[Parallel(n_jobs=1)]: Done   1 out of   1 | elapsed:    0.0s finished\n",
      "[Parallel(n_jobs=1)]: Using backend SequentialBackend with 1 concurrent workers.\n",
      "[Parallel(n_jobs=1)]: Done   1 out of   1 | elapsed:    0.0s remaining:    0.0s\n",
      "[Parallel(n_jobs=1)]: Done   1 out of   1 | elapsed:    0.0s finished\n",
      "[Parallel(n_jobs=1)]: Using backend SequentialBackend with 1 concurrent workers.\n",
      "[Parallel(n_jobs=1)]: Done   1 out of   1 | elapsed:    0.0s remaining:    0.0s\n",
      "[Parallel(n_jobs=1)]: Done   1 out of   1 | elapsed:    0.0s finished\n",
      "[Parallel(n_jobs=1)]: Using backend SequentialBackend with 1 concurrent workers.\n",
      "[Parallel(n_jobs=1)]: Done   1 out of   1 | elapsed:    0.0s remaining:    0.0s\n",
      "[Parallel(n_jobs=1)]: Done   1 out of   1 | elapsed:    0.0s finished\n",
      "[Parallel(n_jobs=1)]: Using backend SequentialBackend with 1 concurrent workers.\n",
      "[Parallel(n_jobs=1)]: Done   1 out of   1 | elapsed:    0.0s remaining:    0.0s\n",
      "[Parallel(n_jobs=1)]: Done   1 out of   1 | elapsed:    0.0s finished\n",
      "[Parallel(n_jobs=1)]: Using backend SequentialBackend with 1 concurrent workers.\n",
      "[Parallel(n_jobs=1)]: Done   1 out of   1 | elapsed:    0.0s remaining:    0.0s\n",
      "[Parallel(n_jobs=1)]: Done   1 out of   1 | elapsed:    0.0s finished\n",
      "[Parallel(n_jobs=1)]: Using backend SequentialBackend with 1 concurrent workers.\n",
      "[Parallel(n_jobs=1)]: Done   1 out of   1 | elapsed:    0.0s remaining:    0.0s\n",
      "[Parallel(n_jobs=1)]: Done   1 out of   1 | elapsed:    0.0s finished\n",
      "[Parallel(n_jobs=1)]: Using backend SequentialBackend with 1 concurrent workers.\n",
      "[Parallel(n_jobs=1)]: Done   1 out of   1 | elapsed:    0.0s remaining:    0.0s\n",
      "[Parallel(n_jobs=1)]: Done   1 out of   1 | elapsed:    0.0s finished\n",
      "[Parallel(n_jobs=1)]: Using backend SequentialBackend with 1 concurrent workers.\n",
      "[Parallel(n_jobs=1)]: Done   1 out of   1 | elapsed:    0.0s remaining:    0.0s\n",
      "[Parallel(n_jobs=1)]: Done   1 out of   1 | elapsed:    0.0s finished\n",
      "[Parallel(n_jobs=1)]: Using backend SequentialBackend with 1 concurrent workers.\n",
      "[Parallel(n_jobs=1)]: Done   1 out of   1 | elapsed:    0.0s remaining:    0.0s\n",
      "[Parallel(n_jobs=1)]: Done   1 out of   1 | elapsed:    0.0s finished\n",
      "[Parallel(n_jobs=1)]: Using backend SequentialBackend with 1 concurrent workers.\n",
      "[Parallel(n_jobs=1)]: Done   1 out of   1 | elapsed:    0.0s remaining:    0.0s\n",
      "[Parallel(n_jobs=1)]: Done   1 out of   1 | elapsed:    0.0s finished\n",
      "[Parallel(n_jobs=1)]: Using backend SequentialBackend with 1 concurrent workers.\n",
      "[Parallel(n_jobs=1)]: Done   1 out of   1 | elapsed:    0.0s remaining:    0.0s\n",
      "[Parallel(n_jobs=1)]: Done   1 out of   1 | elapsed:    0.0s finished\n",
      "[Parallel(n_jobs=1)]: Using backend SequentialBackend with 1 concurrent workers.\n",
      "[Parallel(n_jobs=1)]: Done   1 out of   1 | elapsed:    0.0s remaining:    0.0s\n",
      "[Parallel(n_jobs=1)]: Done   1 out of   1 | elapsed:    0.0s finished\n",
      "[Parallel(n_jobs=1)]: Using backend SequentialBackend with 1 concurrent workers.\n",
      "[Parallel(n_jobs=1)]: Done   1 out of   1 | elapsed:    0.0s remaining:    0.0s\n",
      "[Parallel(n_jobs=1)]: Done   1 out of   1 | elapsed:    0.0s finished\n",
      "[Parallel(n_jobs=1)]: Using backend SequentialBackend with 1 concurrent workers.\n",
      "[Parallel(n_jobs=1)]: Done   1 out of   1 | elapsed:    0.0s finished\n",
      "[Parallel(n_jobs=1)]: Using backend SequentialBackend with 1 concurrent workers.\n",
      "[Parallel(n_jobs=1)]: Done   1 out of   1 | elapsed:    0.0s finished\n",
      "[Parallel(n_jobs=1)]: Using backend SequentialBackend with 1 concurrent workers.\n",
      "[Parallel(n_jobs=1)]: Done   1 out of   1 | elapsed:    0.0s finished\n",
      "[Parallel(n_jobs=1)]: Using backend SequentialBackend with 1 concurrent workers.\n",
      "[Parallel(n_jobs=1)]: Done   1 out of   1 | elapsed:    0.0s finished\n"
     ]
    },
    {
     "name": "stdout",
     "output_type": "stream",
     "text": [
      "\n",
      "Building estimator 1 of 7 for this parallel run (total 7)...\n",
      "Building estimator 2 of 7 for this parallel run (total 7)...\n",
      "Building estimator 3 of 7 for this parallel run (total 7)...\n",
      "Building estimator 4 of 7 for this parallel run (total 7)...\n",
      "Building estimator 5 of 7 for this parallel run (total 7)...\n",
      "Building estimator 6 of 7 for this parallel run (total 7)...\n",
      "Building estimator 7 of 7 for this parallel run (total 7)...\n",
      "Building estimator 1 of 7 for this parallel run (total 7)...\n",
      "Building estimator 2 of 7 for this parallel run (total 7)...\n",
      "Building estimator 3 of 7 for this parallel run (total 7)...\n",
      "Building estimator 4 of 7 for this parallel run (total 7)...\n",
      "Building estimator 5 of 7 for this parallel run (total 7)...\n",
      "Building estimator 6 of 7 for this parallel run (total 7)...\n",
      "Building estimator 7 of 7 for this parallel run (total 7)...\n",
      "Building estimator 1 of 7 for this parallel run (total 7)...\n",
      "Building estimator 2 of 7 for this parallel run (total 7)...\n",
      "Building estimator 3 of 7 for this parallel run (total 7)...\n",
      "Building estimator 4 of 7 for this parallel run (total 7)...\n",
      "Building estimator 5 of 7 for this parallel run (total 7)...\n",
      "Building estimator 6 of 7 for this parallel run (total 7)...\n",
      "Building estimator 7 of 7 for this parallel run (total 7)...\n",
      "Building estimator 1 of 7 for this parallel run (total 7)...\n",
      "Building estimator 2 of 7 for this parallel run (total 7)...\n",
      "Building estimator 3 of 7 for this parallel run (total 7)...\n",
      "Building estimator 4 of 7 for this parallel run (total 7)...\n",
      "Building estimator 5 of 7 for this parallel run (total 7)...\n",
      "Building estimator 6 of 7 for this parallel run (total 7)...\n",
      "Building estimator 7 of 7 for this parallel run (total 7)...\n",
      "Building estimator 1 of 8 for this parallel run (total 8)...\n",
      "Building estimator 2 of 8 for this parallel run (total 8)...\n",
      "Building estimator 3 of 8 for this parallel run (total 8)...\n",
      "Building estimator 4 of 8 for this parallel run (total 8)...\n",
      "Building estimator 5 of 8 for this parallel run (total 8)...\n",
      "Building estimator 6 of 8 for this parallel run (total 8)...\n",
      "Building estimator 7 of 8 for this parallel run (total 8)...\n",
      "Building estimator 8 of 8 for this parallel run (total 8)...\n",
      "Building estimator 1 of 8 for this parallel run (total 8)...\n",
      "Building estimator 2 of 8 for this parallel run (total 8)...\n",
      "Building estimator 3 of 8 for this parallel run (total 8)...\n",
      "Building estimator 4 of 8 for this parallel run (total 8)...\n",
      "Building estimator 5 of 8 for this parallel run (total 8)...\n"
     ]
    },
    {
     "name": "stderr",
     "output_type": "stream",
     "text": [
      "[Parallel(n_jobs=1)]: Using backend SequentialBackend with 1 concurrent workers.\n",
      "[Parallel(n_jobs=1)]: Done   1 out of   1 | elapsed:    0.0s finished\n",
      "[Parallel(n_jobs=1)]: Using backend SequentialBackend with 1 concurrent workers.\n",
      "[Parallel(n_jobs=1)]: Done   1 out of   1 | elapsed:    0.0s finished\n",
      "[Parallel(n_jobs=1)]: Using backend SequentialBackend with 1 concurrent workers.\n",
      "[Parallel(n_jobs=1)]: Done   1 out of   1 | elapsed:    0.0s finished\n",
      "[Parallel(n_jobs=1)]: Using backend SequentialBackend with 1 concurrent workers.\n",
      "[Parallel(n_jobs=1)]: Done   1 out of   1 | elapsed:    0.0s finished\n",
      "[Parallel(n_jobs=1)]: Using backend SequentialBackend with 1 concurrent workers.\n",
      "[Parallel(n_jobs=1)]: Done   1 out of   1 | elapsed:    0.0s finished\n",
      "[Parallel(n_jobs=1)]: Using backend SequentialBackend with 1 concurrent workers.\n",
      "[Parallel(n_jobs=1)]: Done   1 out of   1 | elapsed:    0.0s finished\n",
      "[Parallel(n_jobs=1)]: Using backend SequentialBackend with 1 concurrent workers.\n",
      "[Parallel(n_jobs=1)]: Done   1 out of   1 | elapsed:    0.0s remaining:    0.0s\n",
      "[Parallel(n_jobs=1)]: Done   1 out of   1 | elapsed:    0.0s finished\n",
      "[Parallel(n_jobs=1)]: Using backend SequentialBackend with 1 concurrent workers.\n",
      "[Parallel(n_jobs=1)]: Done   1 out of   1 | elapsed:    0.0s remaining:    0.0s\n",
      "[Parallel(n_jobs=1)]: Done   1 out of   1 | elapsed:    0.0s finished\n",
      "[Parallel(n_jobs=1)]: Using backend SequentialBackend with 1 concurrent workers.\n",
      "[Parallel(n_jobs=1)]: Done   1 out of   1 | elapsed:    0.0s remaining:    0.0s\n",
      "[Parallel(n_jobs=1)]: Done   1 out of   1 | elapsed:    0.0s finished\n",
      "[Parallel(n_jobs=1)]: Using backend SequentialBackend with 1 concurrent workers.\n",
      "[Parallel(n_jobs=1)]: Done   1 out of   1 | elapsed:    0.0s remaining:    0.0s\n",
      "[Parallel(n_jobs=1)]: Done   1 out of   1 | elapsed:    0.0s finished\n",
      "[Parallel(n_jobs=1)]: Using backend SequentialBackend with 1 concurrent workers.\n",
      "[Parallel(n_jobs=1)]: Done   1 out of   1 | elapsed:    0.0s remaining:    0.0s\n",
      "[Parallel(n_jobs=1)]: Done   1 out of   1 | elapsed:    0.0s finished\n",
      "[Parallel(n_jobs=1)]: Using backend SequentialBackend with 1 concurrent workers.\n",
      "[Parallel(n_jobs=1)]: Done   1 out of   1 | elapsed:    0.0s remaining:    0.0s\n",
      "[Parallel(n_jobs=1)]: Done   1 out of   1 | elapsed:    0.0s finished\n",
      "[Parallel(n_jobs=1)]: Using backend SequentialBackend with 1 concurrent workers.\n",
      "[Parallel(n_jobs=1)]: Done   1 out of   1 | elapsed:    0.0s remaining:    0.0s\n",
      "[Parallel(n_jobs=1)]: Done   1 out of   1 | elapsed:    0.0s finished\n",
      "[Parallel(n_jobs=1)]: Using backend SequentialBackend with 1 concurrent workers.\n",
      "[Parallel(n_jobs=1)]: Done   1 out of   1 | elapsed:    0.0s remaining:    0.0s\n",
      "[Parallel(n_jobs=1)]: Done   1 out of   1 | elapsed:    0.0s finished\n",
      "[Parallel(n_jobs=1)]: Using backend SequentialBackend with 1 concurrent workers.\n",
      "[Parallel(n_jobs=1)]: Done   1 out of   1 | elapsed:    0.0s remaining:    0.0s\n",
      "[Parallel(n_jobs=1)]: Done   1 out of   1 | elapsed:    0.0s finished\n",
      "[Parallel(n_jobs=1)]: Using backend SequentialBackend with 1 concurrent workers.\n",
      "[Parallel(n_jobs=1)]: Done   1 out of   1 | elapsed:    0.0s remaining:    0.0s\n",
      "[Parallel(n_jobs=1)]: Done   1 out of   1 | elapsed:    0.0s finished\n",
      "[Parallel(n_jobs=1)]: Using backend SequentialBackend with 1 concurrent workers.\n",
      "[Parallel(n_jobs=1)]: Done   1 out of   1 | elapsed:    0.0s remaining:    0.0s\n",
      "[Parallel(n_jobs=1)]: Done   1 out of   1 | elapsed:    0.0s finished\n",
      "[Parallel(n_jobs=1)]: Using backend SequentialBackend with 1 concurrent workers.\n",
      "[Parallel(n_jobs=1)]: Done   1 out of   1 | elapsed:    0.0s remaining:    0.0s\n",
      "[Parallel(n_jobs=1)]: Done   1 out of   1 | elapsed:    0.0s finished\n",
      "[Parallel(n_jobs=1)]: Using backend SequentialBackend with 1 concurrent workers.\n",
      "[Parallel(n_jobs=1)]: Done   1 out of   1 | elapsed:    0.0s remaining:    0.0s\n",
      "[Parallel(n_jobs=1)]: Done   1 out of   1 | elapsed:    0.0s finished\n",
      "[Parallel(n_jobs=1)]: Using backend SequentialBackend with 1 concurrent workers.\n"
     ]
    },
    {
     "name": "stdout",
     "output_type": "stream",
     "text": [
      "Building estimator 6 of 8 for this parallel run (total 8)...\n",
      "Building estimator 7 of 8 for this parallel run (total 8)...\n",
      "Building estimator 8 of 8 for this parallel run (total 8)...\n",
      "Building estimator 1 of 8 for this parallel run (total 8)...\n",
      "Building estimator 2 of 8 for this parallel run (total 8)...\n",
      "Building estimator 3 of 8 for this parallel run (total 8)...\n",
      "Building estimator 4 of 8 for this parallel run (total 8)...\n",
      "Building estimator 5 of 8 for this parallel run (total 8)...\n",
      "Building estimator 6 of 8 for this parallel run (total 8)...\n",
      "Building estimator 7 of 8 for this parallel run (total 8)...\n",
      "Building estimator 8 of 8 for this parallel run (total 8)...\n",
      "Building estimator 1 of 8 for this parallel run (total 8)...\n",
      "Building estimator 2 of 8 for this parallel run (total 8)...\n",
      "Building estimator 3 of 8 for this parallel run (total 8)...\n",
      "Building estimator 4 of 8 for this parallel run (total 8)...\n",
      "Building estimator 5 of 8 for this parallel run (total 8)...\n",
      "Building estimator 6 of 8 for this parallel run (total 8)...\n",
      "Building estimator 7 of 8 for this parallel run (total 8)...\n",
      "Building estimator 8 of 8 for this parallel run (total 8)...\n",
      "Building estimator 1 of 8 for this parallel run (total 8)...\n",
      "Building estimator 2 of 8 for this parallel run (total 8)...\n",
      "Building estimator 3 of 8 for this parallel run (total 8)...\n",
      "Building estimator 4 of 8 for this parallel run (total 8)...\n",
      "Building estimator 5 of 8 for this parallel run (total 8)...\n",
      "Building estimator 6 of 8 for this parallel run (total 8)...\n",
      "Building estimator 7 of 8 for this parallel run (total 8)...\n",
      "Building estimator 8 of 8 for this parallel run (total 8)...\n",
      "Building estimator 1 of 8 for this parallel run (total 8)...\n",
      "Building estimator 2 of 8 for this parallel run (total 8)...\n",
      "Building estimator 3 of 8 for this parallel run (total 8)...\n",
      "Building estimator 4 of 8 for this parallel run (total 8)...\n",
      "Building estimator 5 of 8 for this parallel run (total 8)...\n",
      "Building estimator 6 of 8 for this parallel run (total 8)...\n",
      "Building estimator 7 of 8 for this parallel run (total 8)...\n",
      "Building estimator 8 of 8 for this parallel run (total 8)...\n",
      "Building estimator 1 of 8 for this parallel run (total 8)...\n",
      "Building estimator 2 of 8 for this parallel run (total 8)...\n",
      "Building estimator 3 of 8 for this parallel run (total 8)...\n",
      "Building estimator 4 of 8 for this parallel run (total 8)...\n",
      "Building estimator 5 of 8 for this parallel run (total 8)...\n",
      "Building estimator 6 of 8 for this parallel run (total 8)...\n",
      "Building estimator 7 of 8 for this parallel run (total 8)...\n",
      "Building estimator 8 of 8 for this parallel run (total 8)...\n",
      "Building estimator 1 of 8 for this parallel run (total 8)...\n",
      "Building estimator 2 of 8 for this parallel run (total 8)...\n",
      "Building estimator 3 of 8 for this parallel run (total 8)...\n",
      "Building estimator 4 of 8 for this parallel run (total 8)...\n",
      "Building estimator 5 of 8 for this parallel run (total 8)...\n",
      "Building estimator 6 of 8 for this parallel run (total 8)...\n",
      "Building estimator 7 of 8 for this parallel run (total 8)...\n",
      "Building estimator 8 of 8 for this parallel run (total 8)...\n",
      "Building estimator 1 of 8 for this parallel run (total 8)...\n",
      "Building estimator 2 of 8 for this parallel run (total 8)...\n",
      "Building estimator 3 of 8 for this parallel run (total 8)...\n",
      "Building estimator 4 of 8 for this parallel run (total 8)...\n",
      "Building estimator 5 of 8 for this parallel run (total 8)...\n",
      "Building estimator 6 of 8 for this parallel run (total 8)...\n",
      "Building estimator 7 of 8 for this parallel run (total 8)...\n",
      "Building estimator 8 of 8 for this parallel run (total 8)...\n",
      "Building estimator 1 of 8 for this parallel run (total 8)...\n",
      "Building estimator 2 of 8 for this parallel run (total 8)...\n",
      "Building estimator 3 of 8 for this parallel run (total 8)...\n",
      "Building estimator 4 of 8 for this parallel run (total 8)...\n",
      "Building estimator 5 of 8 for this parallel run (total 8)...\n",
      "Building estimator 6 of 8 for this parallel run (total 8)...\n",
      "Building estimator 7 of 8 for this parallel run (total 8)...\n",
      "Building estimator 8 of 8 for this parallel run (total 8)...\n"
     ]
    },
    {
     "name": "stderr",
     "output_type": "stream",
     "text": [
      "[Parallel(n_jobs=1)]: Done   1 out of   1 | elapsed:    0.0s remaining:    0.0s\n",
      "[Parallel(n_jobs=1)]: Done   1 out of   1 | elapsed:    0.0s finished\n",
      "[Parallel(n_jobs=1)]: Using backend SequentialBackend with 1 concurrent workers.\n",
      "[Parallel(n_jobs=1)]: Done   1 out of   1 | elapsed:    0.0s remaining:    0.0s\n",
      "[Parallel(n_jobs=1)]: Done   1 out of   1 | elapsed:    0.0s finished\n",
      "[Parallel(n_jobs=1)]: Using backend SequentialBackend with 1 concurrent workers.\n",
      "[Parallel(n_jobs=1)]: Done   1 out of   1 | elapsed:    0.0s remaining:    0.0s\n",
      "[Parallel(n_jobs=1)]: Done   1 out of   1 | elapsed:    0.0s finished\n",
      "[Parallel(n_jobs=1)]: Using backend SequentialBackend with 1 concurrent workers.\n",
      "[Parallel(n_jobs=1)]: Done   1 out of   1 | elapsed:    0.0s remaining:    0.0s\n",
      "[Parallel(n_jobs=1)]: Done   1 out of   1 | elapsed:    0.0s finished\n",
      "[Parallel(n_jobs=1)]: Using backend SequentialBackend with 1 concurrent workers.\n",
      "[Parallel(n_jobs=1)]: Done   1 out of   1 | elapsed:    0.0s remaining:    0.0s\n",
      "[Parallel(n_jobs=1)]: Done   1 out of   1 | elapsed:    0.0s finished\n",
      "[Parallel(n_jobs=1)]: Using backend SequentialBackend with 1 concurrent workers.\n",
      "[Parallel(n_jobs=1)]: Done   1 out of   1 | elapsed:    0.0s remaining:    0.0s\n",
      "[Parallel(n_jobs=1)]: Done   1 out of   1 | elapsed:    0.0s finished\n",
      "[Parallel(n_jobs=1)]: Using backend SequentialBackend with 1 concurrent workers.\n",
      "[Parallel(n_jobs=1)]: Done   1 out of   1 | elapsed:    0.0s remaining:    0.0s\n",
      "[Parallel(n_jobs=1)]: Done   1 out of   1 | elapsed:    0.0s finished\n",
      "[Parallel(n_jobs=1)]: Using backend SequentialBackend with 1 concurrent workers.\n",
      "[Parallel(n_jobs=1)]: Done   1 out of   1 | elapsed:    0.0s remaining:    0.0s\n",
      "[Parallel(n_jobs=1)]: Done   1 out of   1 | elapsed:    0.0s finished\n",
      "[Parallel(n_jobs=1)]: Using backend SequentialBackend with 1 concurrent workers.\n",
      "[Parallel(n_jobs=1)]: Done   1 out of   1 | elapsed:    0.0s remaining:    0.0s\n",
      "[Parallel(n_jobs=1)]: Done   1 out of   1 | elapsed:    0.0s finished\n",
      "[Parallel(n_jobs=1)]: Using backend SequentialBackend with 1 concurrent workers.\n",
      "[Parallel(n_jobs=1)]: Done   1 out of   1 | elapsed:    0.0s remaining:    0.0s\n",
      "[Parallel(n_jobs=1)]: Done   1 out of   1 | elapsed:    0.0s finished\n",
      "[Parallel(n_jobs=1)]: Using backend SequentialBackend with 1 concurrent workers.\n",
      "[Parallel(n_jobs=1)]: Done   1 out of   1 | elapsed:    0.0s remaining:    0.0s\n",
      "[Parallel(n_jobs=1)]: Done   1 out of   1 | elapsed:    0.0s finished\n",
      "[Parallel(n_jobs=1)]: Using backend SequentialBackend with 1 concurrent workers.\n",
      "[Parallel(n_jobs=1)]: Done   1 out of   1 | elapsed:    0.0s remaining:    0.0s\n",
      "[Parallel(n_jobs=1)]: Done   1 out of   1 | elapsed:    0.0s finished\n",
      "[Parallel(n_jobs=1)]: Using backend SequentialBackend with 1 concurrent workers.\n",
      "[Parallel(n_jobs=1)]: Done   1 out of   1 | elapsed:    0.0s remaining:    0.0s\n",
      "[Parallel(n_jobs=1)]: Done   1 out of   1 | elapsed:    0.0s finished\n",
      "[Parallel(n_jobs=1)]: Using backend SequentialBackend with 1 concurrent workers.\n",
      "[Parallel(n_jobs=1)]: Done   1 out of   1 | elapsed:    0.0s remaining:    0.0s\n",
      "[Parallel(n_jobs=1)]: Done   1 out of   1 | elapsed:    0.0s finished\n",
      "[Parallel(n_jobs=1)]: Using backend SequentialBackend with 1 concurrent workers.\n",
      "[Parallel(n_jobs=1)]: Done   1 out of   1 | elapsed:    0.0s remaining:    0.0s\n",
      "[Parallel(n_jobs=1)]: Done   1 out of   1 | elapsed:    0.0s finished\n",
      "[Parallel(n_jobs=1)]: Using backend SequentialBackend with 1 concurrent workers.\n",
      "[Parallel(n_jobs=1)]: Done   1 out of   1 | elapsed:    0.0s remaining:    0.0s\n",
      "[Parallel(n_jobs=1)]: Done   1 out of   1 | elapsed:    0.0s finished\n",
      "[Parallel(n_jobs=1)]: Using backend SequentialBackend with 1 concurrent workers.\n",
      "[Parallel(n_jobs=1)]: Done   1 out of   1 | elapsed:    0.0s remaining:    0.0s\n",
      "[Parallel(n_jobs=1)]: Done   1 out of   1 | elapsed:    0.0s finished\n",
      "[Parallel(n_jobs=1)]: Using backend SequentialBackend with 1 concurrent workers.\n",
      "[Parallel(n_jobs=1)]: Done   1 out of   1 | elapsed:    0.0s finished\n",
      "[Parallel(n_jobs=1)]: Using backend SequentialBackend with 1 concurrent workers.\n",
      "[Parallel(n_jobs=1)]: Done   1 out of   1 | elapsed:    0.0s finished\n"
     ]
    },
    {
     "name": "stdout",
     "output_type": "stream",
     "text": [
      "Building estimator 1 of 8 for this parallel run (total 8)...\n",
      "Building estimator 2 of 8 for this parallel run (total 8)...\n",
      "Building estimator 3 of 8 for this parallel run (total 8)...\n",
      "Building estimator 4 of 8 for this parallel run (total 8)...\n",
      "Building estimator 5 of 8 for this parallel run (total 8)...\n",
      "Building estimator 6 of 8 for this parallel run (total 8)...\n",
      "Building estimator 7 of 8 for this parallel run (total 8)...\n",
      "Building estimator 8 of 8 for this parallel run (total 8)...\n",
      "Building estimator 1 of 8 for this parallel run (total 8)...\n",
      "Building estimator 2 of 8 for this parallel run (total 8)...\n",
      "Building estimator 3 of 8 for this parallel run (total 8)...\n",
      "Building estimator 4 of 8 for this parallel run (total 8)...\n",
      "Building estimator 5 of 8 for this parallel run (total 8)...\n",
      "Building estimator 6 of 8 for this parallel run (total 8)...\n",
      "Building estimator 7 of 8 for this parallel run (total 8)...\n",
      "Building estimator 8 of 8 for this parallel run (total 8)...\n",
      "Building estimator 1 of 8 for this parallel run (total 8)...\n",
      "Building estimator 2 of 8 for this parallel run (total 8)...\n",
      "Building estimator 3 of 8 for this parallel run (total 8)...\n",
      "Building estimator 4 of 8 for this parallel run (total 8)...\n",
      "Building estimator 5 of 8 for this parallel run (total 8)...\n",
      "Building estimator 6 of 8 for this parallel run (total 8)...\n",
      "Building estimator 7 of 8 for this parallel run (total 8)...\n",
      "Building estimator 8 of 8 for this parallel run (total 8)...\n",
      "Building estimator 1 of 8 for this parallel run (total 8)...\n",
      "Building estimator 2 of 8 for this parallel run (total 8)...\n",
      "Building estimator 3 of 8 for this parallel run (total 8)...\n",
      "Building estimator 4 of 8 for this parallel run (total 8)...\n",
      "Building estimator 5 of 8 for this parallel run (total 8)...\n",
      "Building estimator 6 of 8 for this parallel run (total 8)...\n",
      "Building estimator 7 of 8 for this parallel run (total 8)...\n",
      "Building estimator 8 of 8 for this parallel run (total 8)...\n",
      "Building estimator 1 of 8 for this parallel run (total 8)...\n",
      "Building estimator 2 of 8 for this parallel run (total 8)...\n",
      "Building estimator 3 of 8 for this parallel run (total 8)...\n",
      "Building estimator 4 of 8 for this parallel run (total 8)...\n",
      "Building estimator 5 of 8 for this parallel run (total 8)...\n",
      "Building estimator 6 of 8 for this parallel run (total 8)...\n",
      "Building estimator 7 of 8 for this parallel run (total 8)...\n",
      "Building estimator 8 of 8 for this parallel run (total 8)...\n"
     ]
    },
    {
     "name": "stderr",
     "output_type": "stream",
     "text": [
      "[Parallel(n_jobs=1)]: Using backend SequentialBackend with 1 concurrent workers.\n",
      "[Parallel(n_jobs=1)]: Done   1 out of   1 | elapsed:    0.0s finished\n",
      "[Parallel(n_jobs=1)]: Using backend SequentialBackend with 1 concurrent workers.\n",
      "[Parallel(n_jobs=1)]: Done   1 out of   1 | elapsed:    0.0s finished\n",
      "[Parallel(n_jobs=1)]: Using backend SequentialBackend with 1 concurrent workers.\n",
      "[Parallel(n_jobs=1)]: Done   1 out of   1 | elapsed:    0.0s finished\n",
      "[Parallel(n_jobs=1)]: Using backend SequentialBackend with 1 concurrent workers.\n",
      "[Parallel(n_jobs=1)]: Done   1 out of   1 | elapsed:    0.0s finished\n",
      "[Parallel(n_jobs=1)]: Using backend SequentialBackend with 1 concurrent workers.\n",
      "[Parallel(n_jobs=1)]: Done   1 out of   1 | elapsed:    0.0s finished\n",
      "[Parallel(n_jobs=1)]: Using backend SequentialBackend with 1 concurrent workers.\n",
      "[Parallel(n_jobs=1)]: Done   1 out of   1 | elapsed:    0.0s finished\n",
      "[Parallel(n_jobs=1)]: Using backend SequentialBackend with 1 concurrent workers.\n",
      "[Parallel(n_jobs=1)]: Done   1 out of   1 | elapsed:    0.0s finished\n",
      "[Parallel(n_jobs=1)]: Using backend SequentialBackend with 1 concurrent workers.\n",
      "[Parallel(n_jobs=1)]: Done   1 out of   1 | elapsed:    0.0s finished\n",
      "[Parallel(n_jobs=1)]: Using backend SequentialBackend with 1 concurrent workers.\n",
      "[Parallel(n_jobs=1)]: Done   1 out of   1 | elapsed:    0.0s remaining:    0.0s\n",
      "[Parallel(n_jobs=1)]: Done   1 out of   1 | elapsed:    0.0s finished\n",
      "[Parallel(n_jobs=1)]: Using backend SequentialBackend with 1 concurrent workers.\n",
      "[Parallel(n_jobs=1)]: Done   1 out of   1 | elapsed:    0.0s remaining:    0.0s\n",
      "[Parallel(n_jobs=1)]: Done   1 out of   1 | elapsed:    0.0s finished\n",
      "[Parallel(n_jobs=1)]: Using backend SequentialBackend with 1 concurrent workers.\n",
      "[Parallel(n_jobs=1)]: Done   1 out of   1 | elapsed:    0.0s remaining:    0.0s\n",
      "[Parallel(n_jobs=1)]: Done   1 out of   1 | elapsed:    0.0s finished\n",
      "[Parallel(n_jobs=1)]: Using backend SequentialBackend with 1 concurrent workers.\n",
      "[Parallel(n_jobs=1)]: Done   1 out of   1 | elapsed:    0.0s remaining:    0.0s\n",
      "[Parallel(n_jobs=1)]: Done   1 out of   1 | elapsed:    0.0s finished\n",
      "[Parallel(n_jobs=1)]: Using backend SequentialBackend with 1 concurrent workers.\n",
      "[Parallel(n_jobs=1)]: Done   1 out of   1 | elapsed:    0.0s remaining:    0.0s\n",
      "[Parallel(n_jobs=1)]: Done   1 out of   1 | elapsed:    0.0s finished\n",
      "[Parallel(n_jobs=1)]: Using backend SequentialBackend with 1 concurrent workers.\n",
      "[Parallel(n_jobs=1)]: Done   1 out of   1 | elapsed:    0.0s remaining:    0.0s\n",
      "[Parallel(n_jobs=1)]: Done   1 out of   1 | elapsed:    0.0s finished\n",
      "[Parallel(n_jobs=1)]: Using backend SequentialBackend with 1 concurrent workers.\n",
      "[Parallel(n_jobs=1)]: Done   1 out of   1 | elapsed:    0.0s remaining:    0.0s\n",
      "[Parallel(n_jobs=1)]: Done   1 out of   1 | elapsed:    0.0s finished\n",
      "[Parallel(n_jobs=1)]: Using backend SequentialBackend with 1 concurrent workers.\n",
      "[Parallel(n_jobs=1)]: Done   1 out of   1 | elapsed:    0.0s remaining:    0.0s\n",
      "[Parallel(n_jobs=1)]: Done   1 out of   1 | elapsed:    0.0s finished\n",
      "[Parallel(n_jobs=1)]: Using backend SequentialBackend with 1 concurrent workers.\n",
      "[Parallel(n_jobs=1)]: Done   1 out of   1 | elapsed:    0.0s remaining:    0.0s\n",
      "[Parallel(n_jobs=1)]: Done   1 out of   1 | elapsed:    0.0s finished\n",
      "[Parallel(n_jobs=1)]: Using backend SequentialBackend with 1 concurrent workers.\n",
      "[Parallel(n_jobs=1)]: Done   1 out of   1 | elapsed:    0.0s remaining:    0.0s\n",
      "[Parallel(n_jobs=1)]: Done   1 out of   1 | elapsed:    0.0s finished\n",
      "[Parallel(n_jobs=1)]: Using backend SequentialBackend with 1 concurrent workers.\n"
     ]
    },
    {
     "name": "stdout",
     "output_type": "stream",
     "text": [
      "Building estimator 1 of 9 for this parallel run (total 9)...\n",
      "Building estimator 2 of 9 for this parallel run (total 9)...\n",
      "Building estimator 3 of 9 for this parallel run (total 9)...\n",
      "Building estimator 4 of 9 for this parallel run (total 9)...\n",
      "Building estimator 5 of 9 for this parallel run (total 9)...\n",
      "Building estimator 6 of 9 for this parallel run (total 9)...\n",
      "Building estimator 7 of 9 for this parallel run (total 9)...\n",
      "Building estimator 8 of 9 for this parallel run (total 9)...\n",
      "Building estimator 9 of 9 for this parallel run (total 9)...\n",
      "Building estimator 1 of 9 for this parallel run (total 9)...\n",
      "Building estimator 2 of 9 for this parallel run (total 9)...\n",
      "Building estimator 3 of 9 for this parallel run (total 9)...\n",
      "Building estimator 4 of 9 for this parallel run (total 9)...\n",
      "Building estimator 5 of 9 for this parallel run (total 9)...\n",
      "Building estimator 6 of 9 for this parallel run (total 9)...\n",
      "Building estimator 7 of 9 for this parallel run (total 9)...\n",
      "Building estimator 8 of 9 for this parallel run (total 9)...\n",
      "Building estimator 9 of 9 for this parallel run (total 9)...\n",
      "Building estimator 1 of 9 for this parallel run (total 9)...\n",
      "Building estimator 2 of 9 for this parallel run (total 9)...\n",
      "Building estimator 3 of 9 for this parallel run (total 9)...\n",
      "Building estimator 4 of 9 for this parallel run (total 9)...\n",
      "Building estimator 5 of 9 for this parallel run (total 9)...\n",
      "Building estimator 6 of 9 for this parallel run (total 9)...\n",
      "Building estimator 7 of 9 for this parallel run (total 9)...\n",
      "Building estimator 8 of 9 for this parallel run (total 9)...\n",
      "Building estimator 9 of 9 for this parallel run (total 9)...\n",
      "Building estimator 1 of 9 for this parallel run (total 9)...\n",
      "Building estimator 2 of 9 for this parallel run (total 9)...\n",
      "Building estimator 3 of 9 for this parallel run (total 9)...\n",
      "Building estimator 4 of 9 for this parallel run (total 9)...\n",
      "Building estimator 5 of 9 for this parallel run (total 9)...\n",
      "Building estimator 6 of 9 for this parallel run (total 9)...\n",
      "Building estimator 7 of 9 for this parallel run (total 9)...\n",
      "Building estimator 8 of 9 for this parallel run (total 9)...\n",
      "Building estimator 9 of 9 for this parallel run (total 9)...\n",
      "Building estimator 1 of 9 for this parallel run (total 9)...\n",
      "Building estimator 2 of 9 for this parallel run (total 9)...\n",
      "Building estimator 3 of 9 for this parallel run (total 9)...\n",
      "Building estimator 4 of 9 for this parallel run (total 9)...\n",
      "Building estimator 5 of 9 for this parallel run (total 9)...\n",
      "Building estimator 6 of 9 for this parallel run (total 9)...\n",
      "Building estimator 7 of 9 for this parallel run (total 9)...\n",
      "Building estimator 8 of 9 for this parallel run (total 9)...\n",
      "Building estimator 9 of 9 for this parallel run (total 9)...\n",
      "Building estimator 1 of 9 for this parallel run (total 9)...\n",
      "Building estimator 2 of 9 for this parallel run (total 9)...\n",
      "Building estimator 3 of 9 for this parallel run (total 9)...\n",
      "Building estimator 4 of 9 for this parallel run (total 9)...\n",
      "Building estimator 5 of 9 for this parallel run (total 9)...\n",
      "Building estimator 6 of 9 for this parallel run (total 9)...\n",
      "Building estimator 7 of 9 for this parallel run (total 9)...\n",
      "Building estimator 8 of 9 for this parallel run (total 9)...\n",
      "Building estimator 9 of 9 for this parallel run (total 9)...\n",
      "Building estimator 1 of 9 for this parallel run (total 9)...\n",
      "Building estimator 2 of 9 for this parallel run (total 9)...\n",
      "Building estimator 3 of 9 for this parallel run (total 9)...\n",
      "Building estimator 4 of 9 for this parallel run (total 9)...\n",
      "Building estimator 5 of 9 for this parallel run (total 9)...\n",
      "Building estimator 6 of 9 for this parallel run (total 9)...\n",
      "Building estimator 7 of 9 for this parallel run (total 9)...\n",
      "Building estimator 8 of 9 for this parallel run (total 9)...\n",
      "Building estimator 9 of 9 for this parallel run (total 9)...\n",
      "Building estimator 1 of 9 for this parallel run (total 9)...\n",
      "Building estimator 2 of 9 for this parallel run (total 9)...\n",
      "Building estimator 3 of 9 for this parallel run (total 9)...\n",
      "Building estimator 4 of 9 for this parallel run (total 9)...\n",
      "Building estimator 5 of 9 for this parallel run (total 9)...\n",
      "Building estimator 6 of 9 for this parallel run (total 9)...\n",
      "Building estimator 7 of 9 for this parallel run (total 9)...\n",
      "Building estimator 8 of 9 for this parallel run (total 9)...\n",
      "Building estimator 9 of 9 for this parallel run (total 9)...\n",
      "Building estimator 1 of 9 for this parallel run (total 9)...\n",
      "Building estimator 2 of 9 for this parallel run (total 9)...\n",
      "Building estimator 3 of 9 for this parallel run (total 9)...\n",
      "Building estimator 4 of 9 for this parallel run (total 9)...\n",
      "Building estimator 5 of 9 for this parallel run (total 9)...\n",
      "Building estimator 6 of 9 for this parallel run (total 9)...\n",
      "Building estimator 7 of 9 for this parallel run (total 9)...\n",
      "Building estimator 8 of 9 for this parallel run (total 9)...\n",
      "Building estimator 9 of 9 for this parallel run (total 9)...\n"
     ]
    },
    {
     "name": "stderr",
     "output_type": "stream",
     "text": [
      "[Parallel(n_jobs=1)]: Done   1 out of   1 | elapsed:    0.0s remaining:    0.0s\n",
      "[Parallel(n_jobs=1)]: Done   1 out of   1 | elapsed:    0.0s finished\n",
      "[Parallel(n_jobs=1)]: Using backend SequentialBackend with 1 concurrent workers.\n",
      "[Parallel(n_jobs=1)]: Done   1 out of   1 | elapsed:    0.0s remaining:    0.0s\n",
      "[Parallel(n_jobs=1)]: Done   1 out of   1 | elapsed:    0.0s finished\n",
      "[Parallel(n_jobs=1)]: Using backend SequentialBackend with 1 concurrent workers.\n",
      "[Parallel(n_jobs=1)]: Done   1 out of   1 | elapsed:    0.0s remaining:    0.0s\n",
      "[Parallel(n_jobs=1)]: Done   1 out of   1 | elapsed:    0.0s finished\n",
      "[Parallel(n_jobs=1)]: Using backend SequentialBackend with 1 concurrent workers.\n",
      "[Parallel(n_jobs=1)]: Done   1 out of   1 | elapsed:    0.0s remaining:    0.0s\n",
      "[Parallel(n_jobs=1)]: Done   1 out of   1 | elapsed:    0.0s finished\n",
      "[Parallel(n_jobs=1)]: Using backend SequentialBackend with 1 concurrent workers.\n",
      "[Parallel(n_jobs=1)]: Done   1 out of   1 | elapsed:    0.0s remaining:    0.0s\n",
      "[Parallel(n_jobs=1)]: Done   1 out of   1 | elapsed:    0.0s finished\n",
      "[Parallel(n_jobs=1)]: Using backend SequentialBackend with 1 concurrent workers.\n",
      "[Parallel(n_jobs=1)]: Done   1 out of   1 | elapsed:    0.0s remaining:    0.0s\n",
      "[Parallel(n_jobs=1)]: Done   1 out of   1 | elapsed:    0.0s finished\n",
      "[Parallel(n_jobs=1)]: Using backend SequentialBackend with 1 concurrent workers.\n",
      "[Parallel(n_jobs=1)]: Done   1 out of   1 | elapsed:    0.0s remaining:    0.0s\n",
      "[Parallel(n_jobs=1)]: Done   1 out of   1 | elapsed:    0.0s finished\n",
      "[Parallel(n_jobs=1)]: Using backend SequentialBackend with 1 concurrent workers.\n",
      "[Parallel(n_jobs=1)]: Done   1 out of   1 | elapsed:    0.0s remaining:    0.0s\n",
      "[Parallel(n_jobs=1)]: Done   1 out of   1 | elapsed:    0.0s finished\n",
      "[Parallel(n_jobs=1)]: Using backend SequentialBackend with 1 concurrent workers.\n",
      "[Parallel(n_jobs=1)]: Done   1 out of   1 | elapsed:    0.0s remaining:    0.0s\n",
      "[Parallel(n_jobs=1)]: Done   1 out of   1 | elapsed:    0.0s finished\n",
      "[Parallel(n_jobs=1)]: Using backend SequentialBackend with 1 concurrent workers.\n",
      "[Parallel(n_jobs=1)]: Done   1 out of   1 | elapsed:    0.0s remaining:    0.0s\n",
      "[Parallel(n_jobs=1)]: Done   1 out of   1 | elapsed:    0.0s finished\n",
      "[Parallel(n_jobs=1)]: Using backend SequentialBackend with 1 concurrent workers.\n",
      "[Parallel(n_jobs=1)]: Done   1 out of   1 | elapsed:    0.0s remaining:    0.0s\n",
      "[Parallel(n_jobs=1)]: Done   1 out of   1 | elapsed:    0.0s finished\n",
      "[Parallel(n_jobs=1)]: Using backend SequentialBackend with 1 concurrent workers.\n",
      "[Parallel(n_jobs=1)]: Done   1 out of   1 | elapsed:    0.0s remaining:    0.0s\n",
      "[Parallel(n_jobs=1)]: Done   1 out of   1 | elapsed:    0.0s finished\n",
      "[Parallel(n_jobs=1)]: Using backend SequentialBackend with 1 concurrent workers.\n",
      "[Parallel(n_jobs=1)]: Done   1 out of   1 | elapsed:    0.0s remaining:    0.0s\n",
      "[Parallel(n_jobs=1)]: Done   1 out of   1 | elapsed:    0.0s finished\n",
      "[Parallel(n_jobs=1)]: Using backend SequentialBackend with 1 concurrent workers.\n",
      "[Parallel(n_jobs=1)]: Done   1 out of   1 | elapsed:    0.0s remaining:    0.0s\n",
      "[Parallel(n_jobs=1)]: Done   1 out of   1 | elapsed:    0.0s finished\n",
      "[Parallel(n_jobs=1)]: Using backend SequentialBackend with 1 concurrent workers.\n",
      "[Parallel(n_jobs=1)]: Done   1 out of   1 | elapsed:    0.0s remaining:    0.0s\n",
      "[Parallel(n_jobs=1)]: Done   1 out of   1 | elapsed:    0.0s finished\n",
      "[Parallel(n_jobs=1)]: Using backend SequentialBackend with 1 concurrent workers.\n",
      "[Parallel(n_jobs=1)]: Done   1 out of   1 | elapsed:    0.0s remaining:    0.0s\n"
     ]
    },
    {
     "name": "stdout",
     "output_type": "stream",
     "text": [
      "Building estimator 1 of 9 for this parallel run (total 9)...\n",
      "Building estimator 2 of 9 for this parallel run (total 9)...\n",
      "Building estimator 3 of 9 for this parallel run (total 9)...\n",
      "Building estimator 4 of 9 for this parallel run (total 9)...\n",
      "Building estimator 5 of 9 for this parallel run (total 9)...\n",
      "Building estimator 6 of 9 for this parallel run (total 9)...\n",
      "Building estimator 7 of 9 for this parallel run (total 9)...\n",
      "Building estimator 8 of 9 for this parallel run (total 9)...\n",
      "Building estimator 9 of 9 for this parallel run (total 9)...\n",
      "Building estimator 1 of 9 for this parallel run (total 9)...\n",
      "Building estimator 2 of 9 for this parallel run (total 9)...\n",
      "Building estimator 3 of 9 for this parallel run (total 9)...\n",
      "Building estimator 4 of 9 for this parallel run (total 9)...\n",
      "Building estimator 5 of 9 for this parallel run (total 9)...\n",
      "Building estimator 6 of 9 for this parallel run (total 9)...\n",
      "Building estimator 7 of 9 for this parallel run (total 9)...\n",
      "Building estimator 8 of 9 for this parallel run (total 9)...\n",
      "Building estimator 9 of 9 for this parallel run (total 9)...\n",
      "Building estimator 1 of 9 for this parallel run (total 9)...\n",
      "Building estimator 2 of 9 for this parallel run (total 9)...\n",
      "Building estimator 3 of 9 for this parallel run (total 9)...\n",
      "Building estimator 4 of 9 for this parallel run (total 9)...\n",
      "Building estimator 5 of 9 for this parallel run (total 9)...\n",
      "Building estimator 6 of 9 for this parallel run (total 9)...\n",
      "Building estimator 7 of 9 for this parallel run (total 9)...\n",
      "Building estimator 8 of 9 for this parallel run (total 9)...\n",
      "Building estimator 9 of 9 for this parallel run (total 9)...\n",
      "Building estimator 1 of 9 for this parallel run (total 9)...\n",
      "Building estimator 2 of 9 for this parallel run (total 9)...\n",
      "Building estimator 3 of 9 for this parallel run (total 9)...\n",
      "Building estimator 4 of 9 for this parallel run (total 9)...\n",
      "Building estimator 5 of 9 for this parallel run (total 9)...\n",
      "Building estimator 6 of 9 for this parallel run (total 9)...\n",
      "Building estimator 7 of 9 for this parallel run (total 9)...\n",
      "Building estimator 8 of 9 for this parallel run (total 9)...\n",
      "Building estimator 9 of 9 for this parallel run (total 9)...\n",
      "Building estimator 1 of 9 for this parallel run (total 9)...\n",
      "Building estimator 2 of 9 for this parallel run (total 9)...\n",
      "Building estimator 3 of 9 for this parallel run (total 9)...\n",
      "Building estimator 4 of 9 for this parallel run (total 9)...\n",
      "Building estimator 5 of 9 for this parallel run (total 9)...\n",
      "Building estimator 6 of 9 for this parallel run (total 9)...\n",
      "Building estimator 7 of 9 for this parallel run (total 9)...\n",
      "Building estimator 8 of 9 for this parallel run (total 9)...\n",
      "Building estimator 9 of 9 for this parallel run (total 9)...\n",
      "Building estimator 1 of 9 for this parallel run (total 9)...\n",
      "Building estimator 2 of 9 for this parallel run (total 9)...\n",
      "Building estimator 3 of 9 for this parallel run (total 9)...\n",
      "Building estimator 4 of 9 for this parallel run (total 9)...\n",
      "Building estimator 5 of 9 for this parallel run (total 9)...\n",
      "Building estimator 6 of 9 for this parallel run (total 9)...\n",
      "Building estimator 7 of 9 for this parallel run (total 9)...\n",
      "Building estimator 8 of 9 for this parallel run (total 9)...\n",
      "Building estimator 9 of 9 for this parallel run (total 9)...\n"
     ]
    },
    {
     "name": "stderr",
     "output_type": "stream",
     "text": [
      "[Parallel(n_jobs=1)]: Done   1 out of   1 | elapsed:    0.0s finished\n",
      "[Parallel(n_jobs=1)]: Using backend SequentialBackend with 1 concurrent workers.\n",
      "[Parallel(n_jobs=1)]: Done   1 out of   1 | elapsed:    0.0s remaining:    0.0s\n",
      "[Parallel(n_jobs=1)]: Done   1 out of   1 | elapsed:    0.0s finished\n",
      "[Parallel(n_jobs=1)]: Using backend SequentialBackend with 1 concurrent workers.\n",
      "[Parallel(n_jobs=1)]: Done   1 out of   1 | elapsed:    0.0s remaining:    0.0s\n",
      "[Parallel(n_jobs=1)]: Done   1 out of   1 | elapsed:    0.0s finished\n",
      "[Parallel(n_jobs=1)]: Using backend SequentialBackend with 1 concurrent workers.\n",
      "[Parallel(n_jobs=1)]: Done   1 out of   1 | elapsed:    0.0s remaining:    0.0s\n",
      "[Parallel(n_jobs=1)]: Done   1 out of   1 | elapsed:    0.0s finished\n",
      "[Parallel(n_jobs=1)]: Using backend SequentialBackend with 1 concurrent workers.\n",
      "[Parallel(n_jobs=1)]: Done   1 out of   1 | elapsed:    0.0s remaining:    0.0s\n",
      "[Parallel(n_jobs=1)]: Done   1 out of   1 | elapsed:    0.0s finished\n",
      "[Parallel(n_jobs=1)]: Using backend SequentialBackend with 1 concurrent workers.\n",
      "[Parallel(n_jobs=1)]: Done   1 out of   1 | elapsed:    0.0s finished\n",
      "[Parallel(n_jobs=1)]: Using backend SequentialBackend with 1 concurrent workers.\n",
      "[Parallel(n_jobs=1)]: Done   1 out of   1 | elapsed:    0.0s finished\n",
      "[Parallel(n_jobs=1)]: Using backend SequentialBackend with 1 concurrent workers.\n",
      "[Parallel(n_jobs=1)]: Done   1 out of   1 | elapsed:    0.0s finished\n",
      "[Parallel(n_jobs=1)]: Using backend SequentialBackend with 1 concurrent workers.\n",
      "[Parallel(n_jobs=1)]: Done   1 out of   1 | elapsed:    0.0s finished\n",
      "[Parallel(n_jobs=1)]: Using backend SequentialBackend with 1 concurrent workers.\n",
      "[Parallel(n_jobs=1)]: Done   1 out of   1 | elapsed:    0.0s finished\n",
      "[Parallel(n_jobs=1)]: Using backend SequentialBackend with 1 concurrent workers.\n",
      "[Parallel(n_jobs=1)]: Done   1 out of   1 | elapsed:    0.0s finished\n",
      "[Parallel(n_jobs=1)]: Using backend SequentialBackend with 1 concurrent workers.\n",
      "[Parallel(n_jobs=1)]: Done   1 out of   1 | elapsed:    0.0s finished\n",
      "[Parallel(n_jobs=1)]: Using backend SequentialBackend with 1 concurrent workers.\n",
      "[Parallel(n_jobs=1)]: Done   1 out of   1 | elapsed:    0.0s finished\n",
      "[Parallel(n_jobs=1)]: Using backend SequentialBackend with 1 concurrent workers.\n",
      "[Parallel(n_jobs=1)]: Done   1 out of   1 | elapsed:    0.0s finished\n",
      "[Parallel(n_jobs=1)]: Using backend SequentialBackend with 1 concurrent workers.\n",
      "[Parallel(n_jobs=1)]: Done   1 out of   1 | elapsed:    0.0s finished\n",
      "[Parallel(n_jobs=1)]: Using backend SequentialBackend with 1 concurrent workers.\n",
      "[Parallel(n_jobs=1)]: Done   1 out of   1 | elapsed:    0.0s remaining:    0.0s\n",
      "[Parallel(n_jobs=1)]: Done   1 out of   1 | elapsed:    0.0s finished\n",
      "[Parallel(n_jobs=1)]: Using backend SequentialBackend with 1 concurrent workers.\n",
      "[Parallel(n_jobs=1)]: Done   1 out of   1 | elapsed:    0.0s remaining:    0.0s\n",
      "[Parallel(n_jobs=1)]: Done   1 out of   1 | elapsed:    0.0s finished\n",
      "[Parallel(n_jobs=1)]: Using backend SequentialBackend with 1 concurrent workers.\n"
     ]
    },
    {
     "name": "stdout",
     "output_type": "stream",
     "text": [
      "Building estimator 1 of 10 for this parallel run (total 10)...\n",
      "Building estimator 2 of 10 for this parallel run (total 10)...\n",
      "Building estimator 3 of 10 for this parallel run (total 10)...\n",
      "Building estimator 4 of 10 for this parallel run (total 10)...\n",
      "Building estimator 5 of 10 for this parallel run (total 10)...\n",
      "Building estimator 6 of 10 for this parallel run (total 10)...\n",
      "Building estimator 7 of 10 for this parallel run (total 10)...\n",
      "Building estimator 8 of 10 for this parallel run (total 10)...\n",
      "Building estimator 9 of 10 for this parallel run (total 10)...\n",
      "Building estimator 10 of 10 for this parallel run (total 10)...\n",
      "Building estimator 1 of 10 for this parallel run (total 10)...\n",
      "Building estimator 2 of 10 for this parallel run (total 10)...\n",
      "Building estimator 3 of 10 for this parallel run (total 10)...\n",
      "Building estimator 4 of 10 for this parallel run (total 10)...\n",
      "Building estimator 5 of 10 for this parallel run (total 10)...\n",
      "Building estimator 6 of 10 for this parallel run (total 10)...\n",
      "Building estimator 7 of 10 for this parallel run (total 10)...\n",
      "Building estimator 8 of 10 for this parallel run (total 10)...\n",
      "Building estimator 9 of 10 for this parallel run (total 10)...\n",
      "Building estimator 10 of 10 for this parallel run (total 10)...\n",
      "Building estimator 1 of 10 for this parallel run (total 10)...\n",
      "Building estimator 2 of 10 for this parallel run (total 10)...\n",
      "Building estimator 3 of 10 for this parallel run (total 10)...\n",
      "Building estimator 4 of 10 for this parallel run (total 10)...\n",
      "Building estimator 5 of 10 for this parallel run (total 10)...\n",
      "Building estimator 6 of 10 for this parallel run (total 10)...\n",
      "Building estimator 7 of 10 for this parallel run (total 10)...\n",
      "Building estimator 8 of 10 for this parallel run (total 10)...\n",
      "Building estimator 9 of 10 for this parallel run (total 10)...\n",
      "Building estimator 10 of 10 for this parallel run (total 10)...\n",
      "Building estimator 1 of 10 for this parallel run (total 10)...\n",
      "Building estimator 2 of 10 for this parallel run (total 10)...\n",
      "Building estimator 3 of 10 for this parallel run (total 10)...\n",
      "Building estimator 4 of 10 for this parallel run (total 10)...\n",
      "Building estimator 5 of 10 for this parallel run (total 10)...\n",
      "Building estimator 6 of 10 for this parallel run (total 10)...\n",
      "Building estimator 7 of 10 for this parallel run (total 10)...\n",
      "Building estimator 8 of 10 for this parallel run (total 10)...\n",
      "Building estimator 9 of 10 for this parallel run (total 10)...\n",
      "Building estimator 10 of 10 for this parallel run (total 10)...\n",
      "Building estimator 1 of 10 for this parallel run (total 10)...\n",
      "Building estimator 2 of 10 for this parallel run (total 10)...\n",
      "Building estimator 3 of 10 for this parallel run (total 10)...\n",
      "Building estimator 4 of 10 for this parallel run (total 10)...\n",
      "Building estimator 5 of 10 for this parallel run (total 10)...\n",
      "Building estimator 6 of 10 for this parallel run (total 10)...\n",
      "Building estimator 7 of 10 for this parallel run (total 10)...\n",
      "Building estimator 8 of 10 for this parallel run (total 10)...\n",
      "Building estimator 9 of 10 for this parallel run (total 10)...\n",
      "Building estimator 10 of 10 for this parallel run (total 10)...\n",
      "Building estimator 1 of 10 for this parallel run (total 10)...\n",
      "Building estimator 2 of 10 for this parallel run (total 10)...\n",
      "Building estimator 3 of 10 for this parallel run (total 10)...\n",
      "Building estimator 4 of 10 for this parallel run (total 10)...\n",
      "Building estimator 5 of 10 for this parallel run (total 10)...\n",
      "Building estimator 6 of 10 for this parallel run (total 10)...\n",
      "Building estimator 7 of 10 for this parallel run (total 10)...\n",
      "Building estimator 8 of 10 for this parallel run (total 10)...\n",
      "Building estimator 9 of 10 for this parallel run (total 10)...\n",
      "Building estimator 10 of 10 for this parallel run (total 10)...\n",
      "Building estimator 1 of 10 for this parallel run (total 10)...\n",
      "Building estimator 2 of 10 for this parallel run (total 10)...\n",
      "Building estimator 3 of 10 for this parallel run (total 10)...\n",
      "Building estimator 4 of 10 for this parallel run (total 10)...\n",
      "Building estimator 5 of 10 for this parallel run (total 10)...\n",
      "Building estimator 6 of 10 for this parallel run (total 10)...\n",
      "Building estimator 7 of 10 for this parallel run (total 10)...\n",
      "Building estimator 8 of 10 for this parallel run (total 10)...\n",
      "Building estimator 9 of 10 for this parallel run (total 10)...\n",
      "Building estimator 10 of 10 for this parallel run (total 10)...\n",
      "Building estimator 1 of 10 for this parallel run (total 10)...\n",
      "Building estimator 2 of 10 for this parallel run (total 10)...\n",
      "Building estimator 3 of 10 for this parallel run (total 10)...\n",
      "Building estimator 4 of 10 for this parallel run (total 10)...\n",
      "Building estimator 5 of 10 for this parallel run (total 10)...\n",
      "Building estimator 6 of 10 for this parallel run (total 10)...\n",
      "Building estimator 7 of 10 for this parallel run (total 10)...\n",
      "Building estimator 8 of 10 for this parallel run (total 10)...\n",
      "Building estimator 9 of 10 for this parallel run (total 10)...\n",
      "Building estimator 10 of 10 for this parallel run (total 10)...\n",
      "Building estimator 1 of 10 for this parallel run (total 10)...\n",
      "Building estimator 2 of 10 for this parallel run (total 10)...\n",
      "Building estimator 3 of 10 for this parallel run (total 10)...\n",
      "Building estimator 4 of 10 for this parallel run (total 10)...\n",
      "Building estimator 5 of 10 for this parallel run (total 10)..."
     ]
    },
    {
     "name": "stderr",
     "output_type": "stream",
     "text": [
      "[Parallel(n_jobs=1)]: Done   1 out of   1 | elapsed:    0.0s remaining:    0.0s\n",
      "[Parallel(n_jobs=1)]: Done   1 out of   1 | elapsed:    0.0s finished\n",
      "[Parallel(n_jobs=1)]: Using backend SequentialBackend with 1 concurrent workers.\n",
      "[Parallel(n_jobs=1)]: Done   1 out of   1 | elapsed:    0.0s remaining:    0.0s\n",
      "[Parallel(n_jobs=1)]: Done   1 out of   1 | elapsed:    0.0s finished\n",
      "[Parallel(n_jobs=1)]: Using backend SequentialBackend with 1 concurrent workers.\n",
      "[Parallel(n_jobs=1)]: Done   1 out of   1 | elapsed:    0.0s remaining:    0.0s\n",
      "[Parallel(n_jobs=1)]: Done   1 out of   1 | elapsed:    0.0s finished\n",
      "[Parallel(n_jobs=1)]: Using backend SequentialBackend with 1 concurrent workers.\n",
      "[Parallel(n_jobs=1)]: Done   1 out of   1 | elapsed:    0.0s remaining:    0.0s\n",
      "[Parallel(n_jobs=1)]: Done   1 out of   1 | elapsed:    0.0s finished\n",
      "[Parallel(n_jobs=1)]: Using backend SequentialBackend with 1 concurrent workers.\n",
      "[Parallel(n_jobs=1)]: Done   1 out of   1 | elapsed:    0.0s remaining:    0.0s\n",
      "[Parallel(n_jobs=1)]: Done   1 out of   1 | elapsed:    0.0s finished\n",
      "[Parallel(n_jobs=1)]: Using backend SequentialBackend with 1 concurrent workers.\n",
      "[Parallel(n_jobs=1)]: Done   1 out of   1 | elapsed:    0.0s remaining:    0.0s\n",
      "[Parallel(n_jobs=1)]: Done   1 out of   1 | elapsed:    0.0s finished\n",
      "[Parallel(n_jobs=1)]: Using backend SequentialBackend with 1 concurrent workers.\n",
      "[Parallel(n_jobs=1)]: Done   1 out of   1 | elapsed:    0.0s remaining:    0.0s\n",
      "[Parallel(n_jobs=1)]: Done   1 out of   1 | elapsed:    0.0s finished\n",
      "[Parallel(n_jobs=1)]: Using backend SequentialBackend with 1 concurrent workers.\n",
      "[Parallel(n_jobs=1)]: Done   1 out of   1 | elapsed:    0.0s remaining:    0.0s\n",
      "[Parallel(n_jobs=1)]: Done   1 out of   1 | elapsed:    0.0s finished\n",
      "[Parallel(n_jobs=1)]: Using backend SequentialBackend with 1 concurrent workers.\n",
      "[Parallel(n_jobs=1)]: Done   1 out of   1 | elapsed:    0.0s remaining:    0.0s\n",
      "[Parallel(n_jobs=1)]: Done   1 out of   1 | elapsed:    0.0s finished\n",
      "[Parallel(n_jobs=1)]: Using backend SequentialBackend with 1 concurrent workers.\n",
      "[Parallel(n_jobs=1)]: Done   1 out of   1 | elapsed:    0.0s remaining:    0.0s\n",
      "[Parallel(n_jobs=1)]: Done   1 out of   1 | elapsed:    0.0s finished\n",
      "[Parallel(n_jobs=1)]: Using backend SequentialBackend with 1 concurrent workers.\n",
      "[Parallel(n_jobs=1)]: Done   1 out of   1 | elapsed:    0.0s remaining:    0.0s\n",
      "[Parallel(n_jobs=1)]: Done   1 out of   1 | elapsed:    0.0s finished\n",
      "[Parallel(n_jobs=1)]: Using backend SequentialBackend with 1 concurrent workers.\n",
      "[Parallel(n_jobs=1)]: Done   1 out of   1 | elapsed:    0.0s remaining:    0.0s\n",
      "[Parallel(n_jobs=1)]: Done   1 out of   1 | elapsed:    0.0s finished\n",
      "[Parallel(n_jobs=1)]: Using backend SequentialBackend with 1 concurrent workers.\n",
      "[Parallel(n_jobs=1)]: Done   1 out of   1 | elapsed:    0.0s remaining:    0.0s\n",
      "[Parallel(n_jobs=1)]: Done   1 out of   1 | elapsed:    0.0s finished\n",
      "[Parallel(n_jobs=1)]: Using backend SequentialBackend with 1 concurrent workers.\n",
      "[Parallel(n_jobs=1)]: Done   1 out of   1 | elapsed:    0.0s remaining:    0.0s\n",
      "[Parallel(n_jobs=1)]: Done   1 out of   1 | elapsed:    0.0s finished\n",
      "[Parallel(n_jobs=1)]: Using backend SequentialBackend with 1 concurrent workers.\n",
      "[Parallel(n_jobs=1)]: Done   1 out of   1 | elapsed:    0.0s remaining:    0.0s\n",
      "[Parallel(n_jobs=1)]: Done   1 out of   1 | elapsed:    0.0s finished\n",
      "[Parallel(n_jobs=1)]: Using backend SequentialBackend with 1 concurrent workers.\n",
      "[Parallel(n_jobs=1)]: Done   1 out of   1 | elapsed:    0.0s remaining:    0.0s\n",
      "[Parallel(n_jobs=1)]: Done   1 out of   1 | elapsed:    0.0s finished\n",
      "[Parallel(n_jobs=1)]: Using backend SequentialBackend with 1 concurrent workers.\n"
     ]
    },
    {
     "name": "stdout",
     "output_type": "stream",
     "text": [
      "\n",
      "Building estimator 6 of 10 for this parallel run (total 10)...\n",
      "Building estimator 7 of 10 for this parallel run (total 10)...\n",
      "Building estimator 8 of 10 for this parallel run (total 10)...\n",
      "Building estimator 9 of 10 for this parallel run (total 10)...\n",
      "Building estimator 10 of 10 for this parallel run (total 10)...\n",
      "Building estimator 1 of 10 for this parallel run (total 10)...\n",
      "Building estimator 2 of 10 for this parallel run (total 10)...\n",
      "Building estimator 3 of 10 for this parallel run (total 10)...\n",
      "Building estimator 4 of 10 for this parallel run (total 10)...\n",
      "Building estimator 5 of 10 for this parallel run (total 10)...\n",
      "Building estimator 6 of 10 for this parallel run (total 10)...\n",
      "Building estimator 7 of 10 for this parallel run (total 10)...\n",
      "Building estimator 8 of 10 for this parallel run (total 10)...\n",
      "Building estimator 9 of 10 for this parallel run (total 10)...\n",
      "Building estimator 10 of 10 for this parallel run (total 10)...\n",
      "Building estimator 1 of 10 for this parallel run (total 10)...\n",
      "Building estimator 2 of 10 for this parallel run (total 10)...\n",
      "Building estimator 3 of 10 for this parallel run (total 10)...\n",
      "Building estimator 4 of 10 for this parallel run (total 10)...\n",
      "Building estimator 5 of 10 for this parallel run (total 10)...\n",
      "Building estimator 6 of 10 for this parallel run (total 10)...\n",
      "Building estimator 7 of 10 for this parallel run (total 10)...\n",
      "Building estimator 8 of 10 for this parallel run (total 10)...\n",
      "Building estimator 9 of 10 for this parallel run (total 10)...\n",
      "Building estimator 10 of 10 for this parallel run (total 10)...\n",
      "Building estimator 1 of 10 for this parallel run (total 10)...\n",
      "Building estimator 2 of 10 for this parallel run (total 10)...\n",
      "Building estimator 3 of 10 for this parallel run (total 10)...\n",
      "Building estimator 4 of 10 for this parallel run (total 10)...\n",
      "Building estimator 5 of 10 for this parallel run (total 10)...\n",
      "Building estimator 6 of 10 for this parallel run (total 10)...\n",
      "Building estimator 7 of 10 for this parallel run (total 10)...\n",
      "Building estimator 8 of 10 for this parallel run (total 10)...\n",
      "Building estimator 9 of 10 for this parallel run (total 10)...\n",
      "Building estimator 10 of 10 for this parallel run (total 10)...\n",
      "Building estimator 1 of 10 for this parallel run (total 10)...\n",
      "Building estimator 2 of 10 for this parallel run (total 10)...\n",
      "Building estimator 3 of 10 for this parallel run (total 10)...\n",
      "Building estimator 4 of 10 for this parallel run (total 10)...\n",
      "Building estimator 5 of 10 for this parallel run (total 10)...\n",
      "Building estimator 6 of 10 for this parallel run (total 10)...\n",
      "Building estimator 7 of 10 for this parallel run (total 10)...\n",
      "Building estimator 8 of 10 for this parallel run (total 10)...\n",
      "Building estimator 9 of 10 for this parallel run (total 10)...\n",
      "Building estimator 10 of 10 for this parallel run (total 10)...\n",
      "Building estimator 1 of 10 for this parallel run (total 10)...\n",
      "Building estimator 2 of 10 for this parallel run (total 10)...\n",
      "Building estimator 3 of 10 for this parallel run (total 10)...\n",
      "Building estimator 4 of 10 for this parallel run (total 10)...\n",
      "Building estimator 5 of 10 for this parallel run (total 10)...\n",
      "Building estimator 6 of 10 for this parallel run (total 10)...\n",
      "Building estimator 7 of 10 for this parallel run (total 10)...\n",
      "Building estimator 8 of 10 for this parallel run (total 10)...\n",
      "Building estimator 9 of 10 for this parallel run (total 10)...\n",
      "Building estimator 10 of 10 for this parallel run (total 10)...\n",
      "Building estimator 1 of 10 for this parallel run (total 10)...\n",
      "Building estimator 2 of 10 for this parallel run (total 10)...\n",
      "Building estimator 3 of 10 for this parallel run (total 10)...\n",
      "Building estimator 4 of 10 for this parallel run (total 10)...\n",
      "Building estimator 5 of 10 for this parallel run (total 10)...\n",
      "Building estimator 6 of 10 for this parallel run (total 10)...\n",
      "Building estimator 7 of 10 for this parallel run (total 10)...\n",
      "Building estimator 8 of 10 for this parallel run (total 10)...\n",
      "Building estimator 9 of 10 for this parallel run (total 10)...\n",
      "Building estimator 10 of 10 for this parallel run (total 10)...\n"
     ]
    },
    {
     "name": "stderr",
     "output_type": "stream",
     "text": [
      "[Parallel(n_jobs=1)]: Done   1 out of   1 | elapsed:    0.0s remaining:    0.0s\n",
      "[Parallel(n_jobs=1)]: Done   1 out of   1 | elapsed:    0.0s finished\n",
      "[Parallel(n_jobs=1)]: Using backend SequentialBackend with 1 concurrent workers.\n",
      "[Parallel(n_jobs=1)]: Done   1 out of   1 | elapsed:    0.0s remaining:    0.0s\n",
      "[Parallel(n_jobs=1)]: Done   1 out of   1 | elapsed:    0.0s finished\n",
      "[Parallel(n_jobs=1)]: Using backend SequentialBackend with 1 concurrent workers.\n",
      "[Parallel(n_jobs=1)]: Done   1 out of   1 | elapsed:    0.0s remaining:    0.0s\n",
      "[Parallel(n_jobs=1)]: Done   1 out of   1 | elapsed:    0.0s finished\n",
      "[Parallel(n_jobs=1)]: Using backend SequentialBackend with 1 concurrent workers.\n",
      "[Parallel(n_jobs=1)]: Done   1 out of   1 | elapsed:    0.0s remaining:    0.0s\n",
      "[Parallel(n_jobs=1)]: Done   1 out of   1 | elapsed:    0.0s finished\n",
      "[Parallel(n_jobs=1)]: Using backend SequentialBackend with 1 concurrent workers.\n",
      "[Parallel(n_jobs=1)]: Done   1 out of   1 | elapsed:    0.0s remaining:    0.0s\n",
      "[Parallel(n_jobs=1)]: Done   1 out of   1 | elapsed:    0.0s finished\n",
      "[Parallel(n_jobs=1)]: Using backend SequentialBackend with 1 concurrent workers.\n",
      "[Parallel(n_jobs=1)]: Done   1 out of   1 | elapsed:    0.0s remaining:    0.0s\n",
      "[Parallel(n_jobs=1)]: Done   1 out of   1 | elapsed:    0.0s finished\n",
      "[Parallel(n_jobs=1)]: Using backend SequentialBackend with 1 concurrent workers.\n",
      "[Parallel(n_jobs=1)]: Done   1 out of   1 | elapsed:    0.0s remaining:    0.0s\n",
      "[Parallel(n_jobs=1)]: Done   1 out of   1 | elapsed:    0.0s finished\n",
      "[Parallel(n_jobs=1)]: Using backend SequentialBackend with 1 concurrent workers.\n",
      "[Parallel(n_jobs=1)]: Done   1 out of   1 | elapsed:    0.0s remaining:    0.0s\n",
      "[Parallel(n_jobs=1)]: Done   1 out of   1 | elapsed:    0.0s finished\n",
      "[Parallel(n_jobs=1)]: Using backend SequentialBackend with 1 concurrent workers.\n",
      "[Parallel(n_jobs=1)]: Done   1 out of   1 | elapsed:    0.0s remaining:    0.0s\n",
      "[Parallel(n_jobs=1)]: Done   1 out of   1 | elapsed:    0.0s finished\n",
      "[Parallel(n_jobs=1)]: Using backend SequentialBackend with 1 concurrent workers.\n",
      "[Parallel(n_jobs=1)]: Done   1 out of   1 | elapsed:    0.0s remaining:    0.0s\n",
      "[Parallel(n_jobs=1)]: Done   1 out of   1 | elapsed:    0.0s finished\n",
      "[Parallel(n_jobs=1)]: Using backend SequentialBackend with 1 concurrent workers.\n",
      "[Parallel(n_jobs=1)]: Done   1 out of   1 | elapsed:    0.0s remaining:    0.0s\n",
      "[Parallel(n_jobs=1)]: Done   1 out of   1 | elapsed:    0.0s finished\n",
      "[Parallel(n_jobs=1)]: Using backend SequentialBackend with 1 concurrent workers.\n",
      "[Parallel(n_jobs=1)]: Done   1 out of   1 | elapsed:    0.0s remaining:    0.0s\n",
      "[Parallel(n_jobs=1)]: Done   1 out of   1 | elapsed:    0.0s finished\n",
      "[Parallel(n_jobs=1)]: Using backend SequentialBackend with 1 concurrent workers.\n",
      "[Parallel(n_jobs=1)]: Done   1 out of   1 | elapsed:    0.0s finished\n",
      "[Parallel(n_jobs=1)]: Using backend SequentialBackend with 1 concurrent workers.\n",
      "[Parallel(n_jobs=1)]: Done   1 out of   1 | elapsed:    0.0s finished\n",
      "[Parallel(n_jobs=1)]: Using backend SequentialBackend with 1 concurrent workers.\n",
      "[Parallel(n_jobs=1)]: Done   1 out of   1 | elapsed:    0.0s finished\n",
      "[Parallel(n_jobs=1)]: Using backend SequentialBackend with 1 concurrent workers.\n",
      "[Parallel(n_jobs=1)]: Done   1 out of   1 | elapsed:    0.0s finished\n",
      "[Parallel(n_jobs=1)]: Using backend SequentialBackend with 1 concurrent workers.\n",
      "[Parallel(n_jobs=1)]: Done   1 out of   1 | elapsed:    0.0s finished\n",
      "[Parallel(n_jobs=1)]: Using backend SequentialBackend with 1 concurrent workers.\n",
      "[Parallel(n_jobs=1)]: Done   1 out of   1 | elapsed:    0.0s finished\n",
      "[Parallel(n_jobs=1)]: Using backend SequentialBackend with 1 concurrent workers.\n",
      "[Parallel(n_jobs=1)]: Done   1 out of   1 | elapsed:    0.0s finished\n",
      "[Parallel(n_jobs=1)]: Using backend SequentialBackend with 1 concurrent workers.\n",
      "[Parallel(n_jobs=1)]: Done   1 out of   1 | elapsed:    0.0s finished\n",
      "[Parallel(n_jobs=1)]: Using backend SequentialBackend with 1 concurrent workers.\n",
      "[Parallel(n_jobs=1)]: Done   1 out of   1 | elapsed:    0.0s finished\n",
      "[Parallel(n_jobs=1)]: Using backend SequentialBackend with 1 concurrent workers.\n",
      "[Parallel(n_jobs=1)]: Done   1 out of   1 | elapsed:    0.0s finished\n",
      "[Parallel(n_jobs=1)]: Using backend SequentialBackend with 1 concurrent workers.\n",
      "[Parallel(n_jobs=1)]: Done   1 out of   1 | elapsed:    0.0s remaining:    0.0s\n",
      "[Parallel(n_jobs=1)]: Done   1 out of   1 | elapsed:    0.0s finished\n",
      "[Parallel(n_jobs=1)]: Using backend SequentialBackend with 1 concurrent workers.\n",
      "[Parallel(n_jobs=1)]: Done   1 out of   1 | elapsed:    0.0s remaining:    0.0s\n",
      "[Parallel(n_jobs=1)]: Done   1 out of   1 | elapsed:    0.0s finished\n",
      "[Parallel(n_jobs=1)]: Using backend SequentialBackend with 1 concurrent workers.\n",
      "[Parallel(n_jobs=1)]: Done   1 out of   1 | elapsed:    0.0s remaining:    0.0s\n",
      "[Parallel(n_jobs=1)]: Done   1 out of   1 | elapsed:    0.0s finished\n",
      "[Parallel(n_jobs=1)]: Using backend SequentialBackend with 1 concurrent workers.\n",
      "[Parallel(n_jobs=1)]: Done   1 out of   1 | elapsed:    0.0s remaining:    0.0s\n",
      "[Parallel(n_jobs=1)]: Done   1 out of   1 | elapsed:    0.0s finished\n",
      "[Parallel(n_jobs=1)]: Using backend SequentialBackend with 1 concurrent workers.\n",
      "[Parallel(n_jobs=1)]: Done   1 out of   1 | elapsed:    0.0s remaining:    0.0s\n",
      "[Parallel(n_jobs=1)]: Done   1 out of   1 | elapsed:    0.0s finished\n",
      "[Parallel(n_jobs=1)]: Using backend SequentialBackend with 1 concurrent workers.\n",
      "[Parallel(n_jobs=1)]: Done   1 out of   1 | elapsed:    0.0s remaining:    0.0s\n",
      "[Parallel(n_jobs=1)]: Done   1 out of   1 | elapsed:    0.0s finished\n",
      "[Parallel(n_jobs=1)]: Using backend SequentialBackend with 1 concurrent workers.\n",
      "[Parallel(n_jobs=1)]: Done   1 out of   1 | elapsed:    0.0s remaining:    0.0s\n",
      "[Parallel(n_jobs=1)]: Done   1 out of   1 | elapsed:    0.0s finished\n",
      "[Parallel(n_jobs=1)]: Using backend SequentialBackend with 1 concurrent workers.\n",
      "[Parallel(n_jobs=1)]: Done   1 out of   1 | elapsed:    0.0s remaining:    0.0s\n",
      "[Parallel(n_jobs=1)]: Done   1 out of   1 | elapsed:    0.0s finished\n",
      "[Parallel(n_jobs=1)]: Using backend SequentialBackend with 1 concurrent workers.\n",
      "[Parallel(n_jobs=1)]: Done   1 out of   1 | elapsed:    0.0s remaining:    0.0s\n",
      "[Parallel(n_jobs=1)]: Done   1 out of   1 | elapsed:    0.0s finished\n"
     ]
    },
    {
     "name": "stdout",
     "output_type": "stream",
     "text": [
      "Building estimator 1 of 11 for this parallel run (total 11)...\n",
      "Building estimator 2 of 11 for this parallel run (total 11)...\n",
      "Building estimator 3 of 11 for this parallel run (total 11)...\n",
      "Building estimator 4 of 11 for this parallel run (total 11)...\n",
      "Building estimator 5 of 11 for this parallel run (total 11)...\n",
      "Building estimator 6 of 11 for this parallel run (total 11)...\n",
      "Building estimator 7 of 11 for this parallel run (total 11)...\n",
      "Building estimator 8 of 11 for this parallel run (total 11)...\n",
      "Building estimator 9 of 11 for this parallel run (total 11)...\n",
      "Building estimator 10 of 11 for this parallel run (total 11)...\n",
      "Building estimator 11 of 11 for this parallel run (total 11)...\n",
      "Building estimator 1 of 11 for this parallel run (total 11)...\n",
      "Building estimator 2 of 11 for this parallel run (total 11)...\n",
      "Building estimator 3 of 11 for this parallel run (total 11)...\n",
      "Building estimator 4 of 11 for this parallel run (total 11)...\n",
      "Building estimator 5 of 11 for this parallel run (total 11)...\n",
      "Building estimator 6 of 11 for this parallel run (total 11)...\n",
      "Building estimator 7 of 11 for this parallel run (total 11)...\n",
      "Building estimator 8 of 11 for this parallel run (total 11)...\n",
      "Building estimator 9 of 11 for this parallel run (total 11)...\n",
      "Building estimator 10 of 11 for this parallel run (total 11)...\n",
      "Building estimator 11 of 11 for this parallel run (total 11)...\n",
      "Building estimator 1 of 11 for this parallel run (total 11)...\n",
      "Building estimator 2 of 11 for this parallel run (total 11)...\n",
      "Building estimator 3 of 11 for this parallel run (total 11)...\n",
      "Building estimator 4 of 11 for this parallel run (total 11)...\n",
      "Building estimator 5 of 11 for this parallel run (total 11)...\n",
      "Building estimator 6 of 11 for this parallel run (total 11)...\n",
      "Building estimator 7 of 11 for this parallel run (total 11)...\n",
      "Building estimator 8 of 11 for this parallel run (total 11)...\n",
      "Building estimator 9 of 11 for this parallel run (total 11)...\n",
      "Building estimator 10 of 11 for this parallel run (total 11)...\n",
      "Building estimator 11 of 11 for this parallel run (total 11)...\n",
      "Building estimator 1 of 11 for this parallel run (total 11)...\n",
      "Building estimator 2 of 11 for this parallel run (total 11)...\n",
      "Building estimator 3 of 11 for this parallel run (total 11)...\n",
      "Building estimator 4 of 11 for this parallel run (total 11)...\n",
      "Building estimator 5 of 11 for this parallel run (total 11)...\n",
      "Building estimator 6 of 11 for this parallel run (total 11)...\n",
      "Building estimator 7 of 11 for this parallel run (total 11)...\n",
      "Building estimator 8 of 11 for this parallel run (total 11)...\n",
      "Building estimator 9 of 11 for this parallel run (total 11)...\n",
      "Building estimator 10 of 11 for this parallel run (total 11)...\n",
      "Building estimator 11 of 11 for this parallel run (total 11)...\n",
      "Building estimator 1 of 11 for this parallel run (total 11)...\n",
      "Building estimator 2 of 11 for this parallel run (total 11)...\n",
      "Building estimator 3 of 11 for this parallel run (total 11)...\n",
      "Building estimator 4 of 11 for this parallel run (total 11)...\n",
      "Building estimator 5 of 11 for this parallel run (total 11)...\n",
      "Building estimator 6 of 11 for this parallel run (total 11)...\n",
      "Building estimator 7 of 11 for this parallel run (total 11)...\n",
      "Building estimator 8 of 11 for this parallel run (total 11)...\n",
      "Building estimator 9 of 11 for this parallel run (total 11)...\n",
      "Building estimator 10 of 11 for this parallel run (total 11)...\n",
      "Building estimator 11 of 11 for this parallel run (total 11)...\n",
      "Building estimator 1 of 11 for this parallel run (total 11)...\n",
      "Building estimator 2 of 11 for this parallel run (total 11)...\n",
      "Building estimator 3 of 11 for this parallel run (total 11)...\n",
      "Building estimator 4 of 11 for this parallel run (total 11)...\n",
      "Building estimator 5 of 11 for this parallel run (total 11)...\n",
      "Building estimator 6 of 11 for this parallel run (total 11)...\n",
      "Building estimator 7 of 11 for this parallel run (total 11)...\n",
      "Building estimator 8 of 11 for this parallel run (total 11)...\n",
      "Building estimator 9 of 11 for this parallel run (total 11)...\n",
      "Building estimator 10 of 11 for this parallel run (total 11)...\n",
      "Building estimator 11 of 11 for this parallel run (total 11)...\n",
      "Building estimator 1 of 11 for this parallel run (total 11)...\n",
      "Building estimator 2 of 11 for this parallel run (total 11)...\n",
      "Building estimator 3 of 11 for this parallel run (total 11)...\n",
      "Building estimator 4 of 11 for this parallel run (total 11)...\n",
      "Building estimator 5 of 11 for this parallel run (total 11)...\n",
      "Building estimator 6 of 11 for this parallel run (total 11)...\n"
     ]
    },
    {
     "name": "stderr",
     "output_type": "stream",
     "text": [
      "[Parallel(n_jobs=1)]: Using backend SequentialBackend with 1 concurrent workers.\n",
      "[Parallel(n_jobs=1)]: Done   1 out of   1 | elapsed:    0.0s remaining:    0.0s\n",
      "[Parallel(n_jobs=1)]: Done   1 out of   1 | elapsed:    0.0s finished\n",
      "[Parallel(n_jobs=1)]: Using backend SequentialBackend with 1 concurrent workers.\n",
      "[Parallel(n_jobs=1)]: Done   1 out of   1 | elapsed:    0.0s remaining:    0.0s\n",
      "[Parallel(n_jobs=1)]: Done   1 out of   1 | elapsed:    0.0s finished\n",
      "[Parallel(n_jobs=1)]: Using backend SequentialBackend with 1 concurrent workers.\n",
      "[Parallel(n_jobs=1)]: Done   1 out of   1 | elapsed:    0.0s remaining:    0.0s\n",
      "[Parallel(n_jobs=1)]: Done   1 out of   1 | elapsed:    0.0s finished\n",
      "[Parallel(n_jobs=1)]: Using backend SequentialBackend with 1 concurrent workers.\n",
      "[Parallel(n_jobs=1)]: Done   1 out of   1 | elapsed:    0.0s remaining:    0.0s\n",
      "[Parallel(n_jobs=1)]: Done   1 out of   1 | elapsed:    0.0s finished\n",
      "[Parallel(n_jobs=1)]: Using backend SequentialBackend with 1 concurrent workers.\n",
      "[Parallel(n_jobs=1)]: Done   1 out of   1 | elapsed:    0.0s remaining:    0.0s\n",
      "[Parallel(n_jobs=1)]: Done   1 out of   1 | elapsed:    0.0s finished\n",
      "[Parallel(n_jobs=1)]: Using backend SequentialBackend with 1 concurrent workers.\n",
      "[Parallel(n_jobs=1)]: Done   1 out of   1 | elapsed:    0.0s remaining:    0.0s\n",
      "[Parallel(n_jobs=1)]: Done   1 out of   1 | elapsed:    0.0s finished\n",
      "[Parallel(n_jobs=1)]: Using backend SequentialBackend with 1 concurrent workers.\n",
      "[Parallel(n_jobs=1)]: Done   1 out of   1 | elapsed:    0.0s remaining:    0.0s\n",
      "[Parallel(n_jobs=1)]: Done   1 out of   1 | elapsed:    0.0s finished\n",
      "[Parallel(n_jobs=1)]: Using backend SequentialBackend with 1 concurrent workers.\n",
      "[Parallel(n_jobs=1)]: Done   1 out of   1 | elapsed:    0.0s remaining:    0.0s\n",
      "[Parallel(n_jobs=1)]: Done   1 out of   1 | elapsed:    0.0s finished\n",
      "[Parallel(n_jobs=1)]: Using backend SequentialBackend with 1 concurrent workers.\n",
      "[Parallel(n_jobs=1)]: Done   1 out of   1 | elapsed:    0.0s remaining:    0.0s\n",
      "[Parallel(n_jobs=1)]: Done   1 out of   1 | elapsed:    0.0s finished\n",
      "[Parallel(n_jobs=1)]: Using backend SequentialBackend with 1 concurrent workers.\n",
      "[Parallel(n_jobs=1)]: Done   1 out of   1 | elapsed:    0.0s remaining:    0.0s\n",
      "[Parallel(n_jobs=1)]: Done   1 out of   1 | elapsed:    0.0s finished\n",
      "[Parallel(n_jobs=1)]: Using backend SequentialBackend with 1 concurrent workers.\n",
      "[Parallel(n_jobs=1)]: Done   1 out of   1 | elapsed:    0.0s remaining:    0.0s\n",
      "[Parallel(n_jobs=1)]: Done   1 out of   1 | elapsed:    0.0s finished\n",
      "[Parallel(n_jobs=1)]: Using backend SequentialBackend with 1 concurrent workers.\n",
      "[Parallel(n_jobs=1)]: Done   1 out of   1 | elapsed:    0.0s remaining:    0.0s\n",
      "[Parallel(n_jobs=1)]: Done   1 out of   1 | elapsed:    0.0s finished\n",
      "[Parallel(n_jobs=1)]: Using backend SequentialBackend with 1 concurrent workers.\n",
      "[Parallel(n_jobs=1)]: Done   1 out of   1 | elapsed:    0.0s remaining:    0.0s\n",
      "[Parallel(n_jobs=1)]: Done   1 out of   1 | elapsed:    0.0s finished\n",
      "[Parallel(n_jobs=1)]: Using backend SequentialBackend with 1 concurrent workers.\n",
      "[Parallel(n_jobs=1)]: Done   1 out of   1 | elapsed:    0.0s remaining:    0.0s\n",
      "[Parallel(n_jobs=1)]: Done   1 out of   1 | elapsed:    0.0s finished\n",
      "[Parallel(n_jobs=1)]: Using backend SequentialBackend with 1 concurrent workers.\n",
      "[Parallel(n_jobs=1)]: Done   1 out of   1 | elapsed:    0.0s remaining:    0.0s\n",
      "[Parallel(n_jobs=1)]: Done   1 out of   1 | elapsed:    0.0s finished\n",
      "[Parallel(n_jobs=1)]: Using backend SequentialBackend with 1 concurrent workers.\n"
     ]
    },
    {
     "name": "stdout",
     "output_type": "stream",
     "text": [
      "Building estimator 7 of 11 for this parallel run (total 11)...\n",
      "Building estimator 8 of 11 for this parallel run (total 11)...\n",
      "Building estimator 9 of 11 for this parallel run (total 11)...\n",
      "Building estimator 10 of 11 for this parallel run (total 11)...\n",
      "Building estimator 11 of 11 for this parallel run (total 11)...\n",
      "Building estimator 1 of 11 for this parallel run (total 11)...\n",
      "Building estimator 2 of 11 for this parallel run (total 11)...\n",
      "Building estimator 3 of 11 for this parallel run (total 11)...\n",
      "Building estimator 4 of 11 for this parallel run (total 11)...\n",
      "Building estimator 5 of 11 for this parallel run (total 11)...\n",
      "Building estimator 6 of 11 for this parallel run (total 11)...\n",
      "Building estimator 7 of 11 for this parallel run (total 11)...\n",
      "Building estimator 8 of 11 for this parallel run (total 11)...\n",
      "Building estimator 9 of 11 for this parallel run (total 11)...\n",
      "Building estimator 10 of 11 for this parallel run (total 11)...\n",
      "Building estimator 11 of 11 for this parallel run (total 11)...\n",
      "Building estimator 1 of 11 for this parallel run (total 11)...\n",
      "Building estimator 2 of 11 for this parallel run (total 11)...\n",
      "Building estimator 3 of 11 for this parallel run (total 11)...\n",
      "Building estimator 4 of 11 for this parallel run (total 11)...\n",
      "Building estimator 5 of 11 for this parallel run (total 11)...\n",
      "Building estimator 6 of 11 for this parallel run (total 11)...\n",
      "Building estimator 7 of 11 for this parallel run (total 11)...\n",
      "Building estimator 8 of 11 for this parallel run (total 11)...\n",
      "Building estimator 9 of 11 for this parallel run (total 11)...\n",
      "Building estimator 10 of 11 for this parallel run (total 11)...\n",
      "Building estimator 11 of 11 for this parallel run (total 11)...\n",
      "Building estimator 1 of 11 for this parallel run (total 11)...\n",
      "Building estimator 2 of 11 for this parallel run (total 11)...\n",
      "Building estimator 3 of 11 for this parallel run (total 11)...\n",
      "Building estimator 4 of 11 for this parallel run (total 11)...\n",
      "Building estimator 5 of 11 for this parallel run (total 11)...\n",
      "Building estimator 6 of 11 for this parallel run (total 11)...\n",
      "Building estimator 7 of 11 for this parallel run (total 11)...\n",
      "Building estimator 8 of 11 for this parallel run (total 11)...\n",
      "Building estimator 9 of 11 for this parallel run (total 11)...\n",
      "Building estimator 10 of 11 for this parallel run (total 11)...\n",
      "Building estimator 11 of 11 for this parallel run (total 11)...\n",
      "Building estimator 1 of 11 for this parallel run (total 11)...\n",
      "Building estimator 2 of 11 for this parallel run (total 11)...\n",
      "Building estimator 3 of 11 for this parallel run (total 11)...\n",
      "Building estimator 4 of 11 for this parallel run (total 11)...\n",
      "Building estimator 5 of 11 for this parallel run (total 11)...\n",
      "Building estimator 6 of 11 for this parallel run (total 11)...\n",
      "Building estimator 7 of 11 for this parallel run (total 11)...\n",
      "Building estimator 8 of 11 for this parallel run (total 11)...\n",
      "Building estimator 9 of 11 for this parallel run (total 11)...\n",
      "Building estimator 10 of 11 for this parallel run (total 11)...\n",
      "Building estimator 11 of 11 for this parallel run (total 11)...\n",
      "Building estimator 1 of 11 for this parallel run (total 11)...\n",
      "Building estimator 2 of 11 for this parallel run (total 11)...\n",
      "Building estimator 3 of 11 for this parallel run (total 11)...\n",
      "Building estimator 4 of 11 for this parallel run (total 11)...\n",
      "Building estimator 5 of 11 for this parallel run (total 11)...\n",
      "Building estimator 6 of 11 for this parallel run (total 11)...\n",
      "Building estimator 7 of 11 for this parallel run (total 11)...\n",
      "Building estimator 8 of 11 for this parallel run (total 11)...\n",
      "Building estimator 9 of 11 for this parallel run (total 11)...\n",
      "Building estimator 10 of 11 for this parallel run (total 11)...\n",
      "Building estimator 11 of 11 for this parallel run (total 11)...\n",
      "Building estimator 1 of 11 for this parallel run (total 11)...\n",
      "Building estimator 2 of 11 for this parallel run (total 11)...\n",
      "Building estimator 3 of 11 for this parallel run (total 11)...\n",
      "Building estimator 4 of 11 for this parallel run (total 11)...\n",
      "Building estimator 5 of 11 for this parallel run (total 11)...\n",
      "Building estimator 6 of 11 for this parallel run (total 11)...\n",
      "Building estimator 7 of 11 for this parallel run (total 11)...\n",
      "Building estimator 8 of 11 for this parallel run (total 11)...\n",
      "Building estimator 9 of 11 for this parallel run (total 11)...\n",
      "Building estimator 10 of 11 for this parallel run (total 11)...\n",
      "Building estimator 11 of 11 for this parallel run (total 11)...\n",
      "Building estimator 1 of 11 for this parallel run (total 11)...\n",
      "Building estimator 2 of 11 for this parallel run (total 11)...\n",
      "Building estimator 3 of 11 for this parallel run (total 11)...\n",
      "Building estimator 4 of 11 for this parallel run (total 11)...\n",
      "Building estimator 5 of 11 for this parallel run (total 11)...\n",
      "Building estimator 6 of 11 for this parallel run (total 11)...\n",
      "Building estimator 7 of 11 for this parallel run (total 11)...\n",
      "Building estimator 8 of 11 for this parallel run (total 11)...\n",
      "Building estimator 9 of 11 for this parallel run (total 11)...\n",
      "Building estimator 10 of 11 for this parallel run (total 11)...\n",
      "Building estimator 11 of 11 for this parallel run (total 11)...\n",
      "Building estimator 1 of 11 for this parallel run (total 11)...\n",
      "Building estimator 2 of 11 for this parallel run (total 11)...\n",
      "Building estimator 3 of 11 for this parallel run (total 11)...\n",
      "Building estimator 4 of 11 for this parallel run (total 11)...\n",
      "Building estimator 5 of 11 for this parallel run (total 11)...\n",
      "Building estimator 6 of 11 for this parallel run (total 11)...\n"
     ]
    },
    {
     "name": "stderr",
     "output_type": "stream",
     "text": [
      "[Parallel(n_jobs=1)]: Done   1 out of   1 | elapsed:    0.0s remaining:    0.0s\n",
      "[Parallel(n_jobs=1)]: Done   1 out of   1 | elapsed:    0.0s finished\n",
      "[Parallel(n_jobs=1)]: Using backend SequentialBackend with 1 concurrent workers.\n",
      "[Parallel(n_jobs=1)]: Done   1 out of   1 | elapsed:    0.0s remaining:    0.0s\n",
      "[Parallel(n_jobs=1)]: Done   1 out of   1 | elapsed:    0.0s finished\n",
      "[Parallel(n_jobs=1)]: Using backend SequentialBackend with 1 concurrent workers.\n",
      "[Parallel(n_jobs=1)]: Done   1 out of   1 | elapsed:    0.0s remaining:    0.0s\n",
      "[Parallel(n_jobs=1)]: Done   1 out of   1 | elapsed:    0.0s finished\n",
      "[Parallel(n_jobs=1)]: Using backend SequentialBackend with 1 concurrent workers.\n",
      "[Parallel(n_jobs=1)]: Done   1 out of   1 | elapsed:    0.0s remaining:    0.0s\n",
      "[Parallel(n_jobs=1)]: Done   1 out of   1 | elapsed:    0.0s finished\n",
      "[Parallel(n_jobs=1)]: Using backend SequentialBackend with 1 concurrent workers.\n",
      "[Parallel(n_jobs=1)]: Done   1 out of   1 | elapsed:    0.0s remaining:    0.0s\n",
      "[Parallel(n_jobs=1)]: Done   1 out of   1 | elapsed:    0.0s finished\n",
      "[Parallel(n_jobs=1)]: Using backend SequentialBackend with 1 concurrent workers.\n",
      "[Parallel(n_jobs=1)]: Done   1 out of   1 | elapsed:    0.0s remaining:    0.0s\n",
      "[Parallel(n_jobs=1)]: Done   1 out of   1 | elapsed:    0.0s finished\n",
      "[Parallel(n_jobs=1)]: Using backend SequentialBackend with 1 concurrent workers.\n",
      "[Parallel(n_jobs=1)]: Done   1 out of   1 | elapsed:    0.0s finished\n",
      "[Parallel(n_jobs=1)]: Using backend SequentialBackend with 1 concurrent workers.\n",
      "[Parallel(n_jobs=1)]: Done   1 out of   1 | elapsed:    0.0s finished\n",
      "[Parallel(n_jobs=1)]: Using backend SequentialBackend with 1 concurrent workers.\n",
      "[Parallel(n_jobs=1)]: Done   1 out of   1 | elapsed:    0.0s finished\n",
      "[Parallel(n_jobs=1)]: Using backend SequentialBackend with 1 concurrent workers.\n",
      "[Parallel(n_jobs=1)]: Done   1 out of   1 | elapsed:    0.0s finished\n",
      "[Parallel(n_jobs=1)]: Using backend SequentialBackend with 1 concurrent workers.\n",
      "[Parallel(n_jobs=1)]: Done   1 out of   1 | elapsed:    0.0s finished\n",
      "[Parallel(n_jobs=1)]: Using backend SequentialBackend with 1 concurrent workers.\n",
      "[Parallel(n_jobs=1)]: Done   1 out of   1 | elapsed:    0.0s finished\n",
      "[Parallel(n_jobs=1)]: Using backend SequentialBackend with 1 concurrent workers.\n",
      "[Parallel(n_jobs=1)]: Done   1 out of   1 | elapsed:    0.0s finished\n",
      "[Parallel(n_jobs=1)]: Using backend SequentialBackend with 1 concurrent workers.\n",
      "[Parallel(n_jobs=1)]: Done   1 out of   1 | elapsed:    0.0s finished\n",
      "[Parallel(n_jobs=1)]: Using backend SequentialBackend with 1 concurrent workers.\n",
      "[Parallel(n_jobs=1)]: Done   1 out of   1 | elapsed:    0.0s finished\n",
      "[Parallel(n_jobs=1)]: Using backend SequentialBackend with 1 concurrent workers.\n",
      "[Parallel(n_jobs=1)]: Done   1 out of   1 | elapsed:    0.0s finished\n",
      "[Parallel(n_jobs=1)]: Using backend SequentialBackend with 1 concurrent workers.\n"
     ]
    },
    {
     "name": "stdout",
     "output_type": "stream",
     "text": [
      "Building estimator 7 of 11 for this parallel run (total 11)...\n",
      "Building estimator 8 of 11 for this parallel run (total 11)...\n",
      "Building estimator 9 of 11 for this parallel run (total 11)...\n",
      "Building estimator 10 of 11 for this parallel run (total 11)...\n",
      "Building estimator 11 of 11 for this parallel run (total 11)...\n",
      "Building estimator 1 of 12 for this parallel run (total 12)...\n",
      "Building estimator 2 of 12 for this parallel run (total 12)...\n",
      "Building estimator 3 of 12 for this parallel run (total 12)...\n",
      "Building estimator 4 of 12 for this parallel run (total 12)...\n",
      "Building estimator 5 of 12 for this parallel run (total 12)...\n",
      "Building estimator 6 of 12 for this parallel run (total 12)...\n",
      "Building estimator 7 of 12 for this parallel run (total 12)...\n",
      "Building estimator 8 of 12 for this parallel run (total 12)...\n",
      "Building estimator 9 of 12 for this parallel run (total 12)...\n",
      "Building estimator 10 of 12 for this parallel run (total 12)...\n",
      "Building estimator 11 of 12 for this parallel run (total 12)...\n",
      "Building estimator 12 of 12 for this parallel run (total 12)...\n",
      "Building estimator 1 of 12 for this parallel run (total 12)...\n",
      "Building estimator 2 of 12 for this parallel run (total 12)...\n",
      "Building estimator 3 of 12 for this parallel run (total 12)...\n",
      "Building estimator 4 of 12 for this parallel run (total 12)...\n",
      "Building estimator 5 of 12 for this parallel run (total 12)...\n",
      "Building estimator 6 of 12 for this parallel run (total 12)...\n",
      "Building estimator 7 of 12 for this parallel run (total 12)...\n",
      "Building estimator 8 of 12 for this parallel run (total 12)...\n",
      "Building estimator 9 of 12 for this parallel run (total 12)...\n"
     ]
    },
    {
     "name": "stderr",
     "output_type": "stream",
     "text": [
      "[Parallel(n_jobs=1)]: Done   1 out of   1 | elapsed:    0.0s remaining:    0.0s\n",
      "[Parallel(n_jobs=1)]: Done   1 out of   1 | elapsed:    0.0s finished\n",
      "[Parallel(n_jobs=1)]: Using backend SequentialBackend with 1 concurrent workers.\n",
      "[Parallel(n_jobs=1)]: Done   1 out of   1 | elapsed:    0.0s remaining:    0.0s\n",
      "[Parallel(n_jobs=1)]: Done   1 out of   1 | elapsed:    0.0s finished\n",
      "[Parallel(n_jobs=1)]: Using backend SequentialBackend with 1 concurrent workers.\n",
      "[Parallel(n_jobs=1)]: Done   1 out of   1 | elapsed:    0.0s remaining:    0.0s\n",
      "[Parallel(n_jobs=1)]: Done   1 out of   1 | elapsed:    0.0s finished\n",
      "[Parallel(n_jobs=1)]: Using backend SequentialBackend with 1 concurrent workers.\n",
      "[Parallel(n_jobs=1)]: Done   1 out of   1 | elapsed:    0.0s remaining:    0.0s\n",
      "[Parallel(n_jobs=1)]: Done   1 out of   1 | elapsed:    0.0s finished\n",
      "[Parallel(n_jobs=1)]: Using backend SequentialBackend with 1 concurrent workers.\n",
      "[Parallel(n_jobs=1)]: Done   1 out of   1 | elapsed:    0.0s remaining:    0.0s\n",
      "[Parallel(n_jobs=1)]: Done   1 out of   1 | elapsed:    0.0s finished\n",
      "[Parallel(n_jobs=1)]: Using backend SequentialBackend with 1 concurrent workers.\n",
      "[Parallel(n_jobs=1)]: Done   1 out of   1 | elapsed:    0.0s remaining:    0.0s\n",
      "[Parallel(n_jobs=1)]: Done   1 out of   1 | elapsed:    0.0s finished\n",
      "[Parallel(n_jobs=1)]: Using backend SequentialBackend with 1 concurrent workers.\n",
      "[Parallel(n_jobs=1)]: Done   1 out of   1 | elapsed:    0.0s remaining:    0.0s\n",
      "[Parallel(n_jobs=1)]: Done   1 out of   1 | elapsed:    0.0s finished\n",
      "[Parallel(n_jobs=1)]: Using backend SequentialBackend with 1 concurrent workers.\n",
      "[Parallel(n_jobs=1)]: Done   1 out of   1 | elapsed:    0.0s remaining:    0.0s\n",
      "[Parallel(n_jobs=1)]: Done   1 out of   1 | elapsed:    0.0s finished\n",
      "[Parallel(n_jobs=1)]: Using backend SequentialBackend with 1 concurrent workers.\n",
      "[Parallel(n_jobs=1)]: Done   1 out of   1 | elapsed:    0.0s remaining:    0.0s\n",
      "[Parallel(n_jobs=1)]: Done   1 out of   1 | elapsed:    0.0s finished\n",
      "[Parallel(n_jobs=1)]: Using backend SequentialBackend with 1 concurrent workers.\n",
      "[Parallel(n_jobs=1)]: Done   1 out of   1 | elapsed:    0.0s remaining:    0.0s\n",
      "[Parallel(n_jobs=1)]: Done   1 out of   1 | elapsed:    0.0s finished\n",
      "[Parallel(n_jobs=1)]: Using backend SequentialBackend with 1 concurrent workers.\n",
      "[Parallel(n_jobs=1)]: Done   1 out of   1 | elapsed:    0.0s remaining:    0.0s\n",
      "[Parallel(n_jobs=1)]: Done   1 out of   1 | elapsed:    0.0s finished\n",
      "[Parallel(n_jobs=1)]: Using backend SequentialBackend with 1 concurrent workers.\n",
      "[Parallel(n_jobs=1)]: Done   1 out of   1 | elapsed:    0.0s remaining:    0.0s\n",
      "[Parallel(n_jobs=1)]: Done   1 out of   1 | elapsed:    0.0s finished\n",
      "[Parallel(n_jobs=1)]: Using backend SequentialBackend with 1 concurrent workers.\n"
     ]
    },
    {
     "name": "stdout",
     "output_type": "stream",
     "text": [
      "Building estimator 10 of 12 for this parallel run (total 12)...\n",
      "Building estimator 11 of 12 for this parallel run (total 12)...\n",
      "Building estimator 12 of 12 for this parallel run (total 12)...\n",
      "Building estimator 1 of 12 for this parallel run (total 12)...\n",
      "Building estimator 2 of 12 for this parallel run (total 12)...\n",
      "Building estimator 3 of 12 for this parallel run (total 12)...\n",
      "Building estimator 4 of 12 for this parallel run (total 12)...\n",
      "Building estimator 5 of 12 for this parallel run (total 12)...\n",
      "Building estimator 6 of 12 for this parallel run (total 12)...\n",
      "Building estimator 7 of 12 for this parallel run (total 12)...\n",
      "Building estimator 8 of 12 for this parallel run (total 12)...\n",
      "Building estimator 9 of 12 for this parallel run (total 12)...\n",
      "Building estimator 10 of 12 for this parallel run (total 12)...\n",
      "Building estimator 11 of 12 for this parallel run (total 12)...\n",
      "Building estimator 12 of 12 for this parallel run (total 12)...\n",
      "Building estimator 1 of 12 for this parallel run (total 12)...\n",
      "Building estimator 2 of 12 for this parallel run (total 12)...\n",
      "Building estimator 3 of 12 for this parallel run (total 12)...\n",
      "Building estimator 4 of 12 for this parallel run (total 12)...\n",
      "Building estimator 5 of 12 for this parallel run (total 12)...\n",
      "Building estimator 6 of 12 for this parallel run (total 12)...\n",
      "Building estimator 7 of 12 for this parallel run (total 12)...\n",
      "Building estimator 8 of 12 for this parallel run (total 12)...\n",
      "Building estimator 9 of 12 for this parallel run (total 12)...\n",
      "Building estimator 10 of 12 for this parallel run (total 12)...\n",
      "Building estimator 11 of 12 for this parallel run (total 12)...\n",
      "Building estimator 12 of 12 for this parallel run (total 12)...\n",
      "Building estimator 1 of 12 for this parallel run (total 12)...\n",
      "Building estimator 2 of 12 for this parallel run (total 12)...\n",
      "Building estimator 3 of 12 for this parallel run (total 12)...\n",
      "Building estimator 4 of 12 for this parallel run (total 12)...\n",
      "Building estimator 5 of 12 for this parallel run (total 12)...\n",
      "Building estimator 6 of 12 for this parallel run (total 12)...\n",
      "Building estimator 7 of 12 for this parallel run (total 12)...\n",
      "Building estimator 8 of 12 for this parallel run (total 12)...\n",
      "Building estimator 9 of 12 for this parallel run (total 12)...\n",
      "Building estimator 10 of 12 for this parallel run (total 12)...\n",
      "Building estimator 11 of 12 for this parallel run (total 12)...\n",
      "Building estimator 12 of 12 for this parallel run (total 12)...\n",
      "Building estimator 1 of 12 for this parallel run (total 12)...\n",
      "Building estimator 2 of 12 for this parallel run (total 12)...\n",
      "Building estimator 3 of 12 for this parallel run (total 12)...\n",
      "Building estimator 4 of 12 for this parallel run (total 12)...\n",
      "Building estimator 5 of 12 for this parallel run (total 12)...\n",
      "Building estimator 6 of 12 for this parallel run (total 12)...\n",
      "Building estimator 7 of 12 for this parallel run (total 12)...\n",
      "Building estimator 8 of 12 for this parallel run (total 12)...\n",
      "Building estimator 9 of 12 for this parallel run (total 12)...\n",
      "Building estimator 10 of 12 for this parallel run (total 12)...\n",
      "Building estimator 11 of 12 for this parallel run (total 12)...\n",
      "Building estimator 12 of 12 for this parallel run (total 12)...\n",
      "Building estimator 1 of 12 for this parallel run (total 12)...\n",
      "Building estimator 2 of 12 for this parallel run (total 12)...\n",
      "Building estimator 3 of 12 for this parallel run (total 12)...\n",
      "Building estimator 4 of 12 for this parallel run (total 12)...\n",
      "Building estimator 5 of 12 for this parallel run (total 12)...\n",
      "Building estimator 6 of 12 for this parallel run (total 12)...\n",
      "Building estimator 7 of 12 for this parallel run (total 12)...\n",
      "Building estimator 8 of 12 for this parallel run (total 12)...\n",
      "Building estimator 9 of 12 for this parallel run (total 12)...\n",
      "Building estimator 10 of 12 for this parallel run (total 12)...\n",
      "Building estimator 11 of 12 for this parallel run (total 12)...\n",
      "Building estimator 12 of 12 for this parallel run (total 12)...\n",
      "Building estimator 1 of 12 for this parallel run (total 12)...\n",
      "Building estimator 2 of 12 for this parallel run (total 12)...\n",
      "Building estimator 3 of 12 for this parallel run (total 12)...\n",
      "Building estimator 4 of 12 for this parallel run (total 12)...\n",
      "Building estimator 5 of 12 for this parallel run (total 12)...\n",
      "Building estimator 6 of 12 for this parallel run (total 12)...\n"
     ]
    },
    {
     "name": "stderr",
     "output_type": "stream",
     "text": [
      "[Parallel(n_jobs=1)]: Done   1 out of   1 | elapsed:    0.0s remaining:    0.0s\n",
      "[Parallel(n_jobs=1)]: Done   1 out of   1 | elapsed:    0.0s finished\n",
      "[Parallel(n_jobs=1)]: Using backend SequentialBackend with 1 concurrent workers.\n",
      "[Parallel(n_jobs=1)]: Done   1 out of   1 | elapsed:    0.0s remaining:    0.0s\n",
      "[Parallel(n_jobs=1)]: Done   1 out of   1 | elapsed:    0.0s finished\n",
      "[Parallel(n_jobs=1)]: Using backend SequentialBackend with 1 concurrent workers.\n",
      "[Parallel(n_jobs=1)]: Done   1 out of   1 | elapsed:    0.0s remaining:    0.0s\n",
      "[Parallel(n_jobs=1)]: Done   1 out of   1 | elapsed:    0.0s finished\n",
      "[Parallel(n_jobs=1)]: Using backend SequentialBackend with 1 concurrent workers.\n",
      "[Parallel(n_jobs=1)]: Done   1 out of   1 | elapsed:    0.0s remaining:    0.0s\n",
      "[Parallel(n_jobs=1)]: Done   1 out of   1 | elapsed:    0.0s finished\n",
      "[Parallel(n_jobs=1)]: Using backend SequentialBackend with 1 concurrent workers.\n",
      "[Parallel(n_jobs=1)]: Done   1 out of   1 | elapsed:    0.0s remaining:    0.0s\n",
      "[Parallel(n_jobs=1)]: Done   1 out of   1 | elapsed:    0.0s finished\n",
      "[Parallel(n_jobs=1)]: Using backend SequentialBackend with 1 concurrent workers.\n",
      "[Parallel(n_jobs=1)]: Done   1 out of   1 | elapsed:    0.0s remaining:    0.0s\n",
      "[Parallel(n_jobs=1)]: Done   1 out of   1 | elapsed:    0.0s finished\n",
      "[Parallel(n_jobs=1)]: Using backend SequentialBackend with 1 concurrent workers.\n",
      "[Parallel(n_jobs=1)]: Done   1 out of   1 | elapsed:    0.0s remaining:    0.0s\n",
      "[Parallel(n_jobs=1)]: Done   1 out of   1 | elapsed:    0.0s finished\n",
      "[Parallel(n_jobs=1)]: Using backend SequentialBackend with 1 concurrent workers.\n",
      "[Parallel(n_jobs=1)]: Done   1 out of   1 | elapsed:    0.0s remaining:    0.0s\n",
      "[Parallel(n_jobs=1)]: Done   1 out of   1 | elapsed:    0.0s finished\n",
      "[Parallel(n_jobs=1)]: Using backend SequentialBackend with 1 concurrent workers.\n",
      "[Parallel(n_jobs=1)]: Done   1 out of   1 | elapsed:    0.0s remaining:    0.0s\n",
      "[Parallel(n_jobs=1)]: Done   1 out of   1 | elapsed:    0.0s finished\n",
      "[Parallel(n_jobs=1)]: Using backend SequentialBackend with 1 concurrent workers.\n",
      "[Parallel(n_jobs=1)]: Done   1 out of   1 | elapsed:    0.0s remaining:    0.0s\n",
      "[Parallel(n_jobs=1)]: Done   1 out of   1 | elapsed:    0.0s finished\n",
      "[Parallel(n_jobs=1)]: Using backend SequentialBackend with 1 concurrent workers.\n",
      "[Parallel(n_jobs=1)]: Done   1 out of   1 | elapsed:    0.0s remaining:    0.0s\n",
      "[Parallel(n_jobs=1)]: Done   1 out of   1 | elapsed:    0.0s finished\n",
      "[Parallel(n_jobs=1)]: Using backend SequentialBackend with 1 concurrent workers.\n",
      "[Parallel(n_jobs=1)]: Done   1 out of   1 | elapsed:    0.0s remaining:    0.0s\n",
      "[Parallel(n_jobs=1)]: Done   1 out of   1 | elapsed:    0.0s finished\n",
      "[Parallel(n_jobs=1)]: Using backend SequentialBackend with 1 concurrent workers.\n",
      "[Parallel(n_jobs=1)]: Done   1 out of   1 | elapsed:    0.0s remaining:    0.0s\n",
      "[Parallel(n_jobs=1)]: Done   1 out of   1 | elapsed:    0.0s finished\n",
      "[Parallel(n_jobs=1)]: Using backend SequentialBackend with 1 concurrent workers.\n",
      "[Parallel(n_jobs=1)]: Done   1 out of   1 | elapsed:    0.0s remaining:    0.0s\n",
      "[Parallel(n_jobs=1)]: Done   1 out of   1 | elapsed:    0.0s finished\n",
      "[Parallel(n_jobs=1)]: Using backend SequentialBackend with 1 concurrent workers.\n"
     ]
    },
    {
     "name": "stdout",
     "output_type": "stream",
     "text": [
      "Building estimator 7 of 12 for this parallel run (total 12)...\n",
      "Building estimator 8 of 12 for this parallel run (total 12)...\n",
      "Building estimator 9 of 12 for this parallel run (total 12)...\n",
      "Building estimator 10 of 12 for this parallel run (total 12)...\n",
      "Building estimator 11 of 12 for this parallel run (total 12)...\n",
      "Building estimator 12 of 12 for this parallel run (total 12)...\n",
      "Building estimator 1 of 12 for this parallel run (total 12)...\n",
      "Building estimator 2 of 12 for this parallel run (total 12)...\n",
      "Building estimator 3 of 12 for this parallel run (total 12)...\n",
      "Building estimator 4 of 12 for this parallel run (total 12)...\n",
      "Building estimator 5 of 12 for this parallel run (total 12)...\n",
      "Building estimator 6 of 12 for this parallel run (total 12)...\n",
      "Building estimator 7 of 12 for this parallel run (total 12)...\n",
      "Building estimator 8 of 12 for this parallel run (total 12)...\n",
      "Building estimator 9 of 12 for this parallel run (total 12)...\n",
      "Building estimator 10 of 12 for this parallel run (total 12)...\n",
      "Building estimator 11 of 12 for this parallel run (total 12)...\n",
      "Building estimator 12 of 12 for this parallel run (total 12)...\n",
      "Building estimator 1 of 12 for this parallel run (total 12)...\n",
      "Building estimator 2 of 12 for this parallel run (total 12)...\n",
      "Building estimator 3 of 12 for this parallel run (total 12)...\n",
      "Building estimator 4 of 12 for this parallel run (total 12)...\n",
      "Building estimator 5 of 12 for this parallel run (total 12)...\n",
      "Building estimator 6 of 12 for this parallel run (total 12)...\n",
      "Building estimator 7 of 12 for this parallel run (total 12)...\n",
      "Building estimator 8 of 12 for this parallel run (total 12)...\n",
      "Building estimator 9 of 12 for this parallel run (total 12)...\n",
      "Building estimator 10 of 12 for this parallel run (total 12)...\n",
      "Building estimator 11 of 12 for this parallel run (total 12)...\n",
      "Building estimator 12 of 12 for this parallel run (total 12)...\n",
      "Building estimator 1 of 12 for this parallel run (total 12)...\n",
      "Building estimator 2 of 12 for this parallel run (total 12)...\n",
      "Building estimator 3 of 12 for this parallel run (total 12)...\n",
      "Building estimator 4 of 12 for this parallel run (total 12)...\n",
      "Building estimator 5 of 12 for this parallel run (total 12)...\n",
      "Building estimator 6 of 12 for this parallel run (total 12)...\n",
      "Building estimator 7 of 12 for this parallel run (total 12)...\n",
      "Building estimator 8 of 12 for this parallel run (total 12)...\n",
      "Building estimator 9 of 12 for this parallel run (total 12)...\n",
      "Building estimator 10 of 12 for this parallel run (total 12)...\n",
      "Building estimator 11 of 12 for this parallel run (total 12)...\n",
      "Building estimator 12 of 12 for this parallel run (total 12)...\n",
      "Building estimator 1 of 12 for this parallel run (total 12)...\n",
      "Building estimator 2 of 12 for this parallel run (total 12)...\n",
      "Building estimator 3 of 12 for this parallel run (total 12)...\n",
      "Building estimator 4 of 12 for this parallel run (total 12)...\n",
      "Building estimator 5 of 12 for this parallel run (total 12)...\n",
      "Building estimator 6 of 12 for this parallel run (total 12)...\n",
      "Building estimator 7 of 12 for this parallel run (total 12)...\n",
      "Building estimator 8 of 12 for this parallel run (total 12)...\n",
      "Building estimator 9 of 12 for this parallel run (total 12)...\n",
      "Building estimator 10 of 12 for this parallel run (total 12)...\n",
      "Building estimator 11 of 12 for this parallel run (total 12)...\n",
      "Building estimator 12 of 12 for this parallel run (total 12)...\n",
      "Building estimator 1 of 12 for this parallel run (total 12)...\n",
      "Building estimator 2 of 12 for this parallel run (total 12)...\n",
      "Building estimator 3 of 12 for this parallel run (total 12)...\n",
      "Building estimator 4 of 12 for this parallel run (total 12)...\n",
      "Building estimator 5 of 12 for this parallel run (total 12)...\n",
      "Building estimator 6 of 12 for this parallel run (total 12)...\n",
      "Building estimator 7 of 12 for this parallel run (total 12)...\n",
      "Building estimator 8 of 12 for this parallel run (total 12)...\n",
      "Building estimator 9 of 12 for this parallel run (total 12)...\n",
      "Building estimator 10 of 12 for this parallel run (total 12)...\n",
      "Building estimator 11 of 12 for this parallel run (total 12)...\n",
      "Building estimator 12 of 12 for this parallel run (total 12)...\n",
      "Building estimator 1 of 12 for this parallel run (total 12)...\n",
      "Building estimator 2 of 12 for this parallel run (total 12)...\n",
      "Building estimator 3 of 12 for this parallel run (total 12)...\n",
      "Building estimator 4 of 12 for this parallel run (total 12)...\n",
      "Building estimator 5 of 12 for this parallel run (total 12)...\n",
      "Building estimator 6 of 12 for this parallel run (total 12)...\n",
      "Building estimator 7 of 12 for this parallel run (total 12)...\n",
      "Building estimator 8 of 12 for this parallel run (total 12)...\n",
      "Building estimator 9 of 12 for this parallel run (total 12)...\n",
      "Building estimator 10 of 12 for this parallel run (total 12)...\n",
      "Building estimator 11 of 12 for this parallel run (total 12)...\n",
      "Building estimator 12 of 12 for this parallel run (total 12)...\n",
      "Building estimator 1 of 12 for this parallel run (total 12)...\n",
      "Building estimator 2 of 12 for this parallel run (total 12)...\n",
      "Building estimator 3 of 12 for this parallel run (total 12)...\n",
      "Building estimator 4 of 12 for this parallel run (total 12)...\n",
      "Building estimator 5 of 12 for this parallel run (total 12)...\n",
      "Building estimator 6 of 12 for this parallel run (total 12)...\n",
      "Building estimator 7 of 12 for this parallel run (total 12)...\n",
      "Building estimator 8 of 12 for this parallel run (total 12)...\n",
      "Building estimator 9 of 12 for this parallel run (total 12)...\n"
     ]
    },
    {
     "name": "stderr",
     "output_type": "stream",
     "text": [
      "[Parallel(n_jobs=1)]: Done   1 out of   1 | elapsed:    0.0s remaining:    0.0s\n",
      "[Parallel(n_jobs=1)]: Done   1 out of   1 | elapsed:    0.0s finished\n",
      "[Parallel(n_jobs=1)]: Using backend SequentialBackend with 1 concurrent workers.\n",
      "[Parallel(n_jobs=1)]: Done   1 out of   1 | elapsed:    0.0s remaining:    0.0s\n",
      "[Parallel(n_jobs=1)]: Done   1 out of   1 | elapsed:    0.0s finished\n",
      "[Parallel(n_jobs=1)]: Using backend SequentialBackend with 1 concurrent workers.\n",
      "[Parallel(n_jobs=1)]: Done   1 out of   1 | elapsed:    0.0s remaining:    0.0s\n",
      "[Parallel(n_jobs=1)]: Done   1 out of   1 | elapsed:    0.0s finished\n",
      "[Parallel(n_jobs=1)]: Using backend SequentialBackend with 1 concurrent workers.\n",
      "[Parallel(n_jobs=1)]: Done   1 out of   1 | elapsed:    0.0s remaining:    0.0s\n",
      "[Parallel(n_jobs=1)]: Done   1 out of   1 | elapsed:    0.0s finished\n",
      "[Parallel(n_jobs=1)]: Using backend SequentialBackend with 1 concurrent workers.\n",
      "[Parallel(n_jobs=1)]: Done   1 out of   1 | elapsed:    0.0s finished\n",
      "[Parallel(n_jobs=1)]: Using backend SequentialBackend with 1 concurrent workers.\n",
      "[Parallel(n_jobs=1)]: Done   1 out of   1 | elapsed:    0.0s finished\n",
      "[Parallel(n_jobs=1)]: Using backend SequentialBackend with 1 concurrent workers.\n",
      "[Parallel(n_jobs=1)]: Done   1 out of   1 | elapsed:    0.0s finished\n",
      "[Parallel(n_jobs=1)]: Using backend SequentialBackend with 1 concurrent workers.\n",
      "[Parallel(n_jobs=1)]: Done   1 out of   1 | elapsed:    0.0s finished\n",
      "[Parallel(n_jobs=1)]: Using backend SequentialBackend with 1 concurrent workers.\n",
      "[Parallel(n_jobs=1)]: Done   1 out of   1 | elapsed:    0.0s finished\n",
      "[Parallel(n_jobs=1)]: Using backend SequentialBackend with 1 concurrent workers.\n",
      "[Parallel(n_jobs=1)]: Done   1 out of   1 | elapsed:    0.0s finished\n",
      "[Parallel(n_jobs=1)]: Using backend SequentialBackend with 1 concurrent workers.\n",
      "[Parallel(n_jobs=1)]: Done   1 out of   1 | elapsed:    0.0s finished\n",
      "[Parallel(n_jobs=1)]: Using backend SequentialBackend with 1 concurrent workers.\n",
      "[Parallel(n_jobs=1)]: Done   1 out of   1 | elapsed:    0.0s finished\n",
      "[Parallel(n_jobs=1)]: Using backend SequentialBackend with 1 concurrent workers.\n",
      "[Parallel(n_jobs=1)]: Done   1 out of   1 | elapsed:    0.0s finished\n",
      "[Parallel(n_jobs=1)]: Using backend SequentialBackend with 1 concurrent workers.\n",
      "[Parallel(n_jobs=1)]: Done   1 out of   1 | elapsed:    0.0s finished\n",
      "[Parallel(n_jobs=1)]: Using backend SequentialBackend with 1 concurrent workers.\n"
     ]
    },
    {
     "name": "stdout",
     "output_type": "stream",
     "text": [
      "Building estimator 10 of 12 for this parallel run (total 12)...\n",
      "Building estimator 11 of 12 for this parallel run (total 12)...\n",
      "Building estimator 12 of 12 for this parallel run (total 12)...\n",
      "Building estimator 1 of 13 for this parallel run (total 13)...\n",
      "Building estimator 2 of 13 for this parallel run (total 13)...\n",
      "Building estimator 3 of 13 for this parallel run (total 13)...\n",
      "Building estimator 4 of 13 for this parallel run (total 13)...\n",
      "Building estimator 5 of 13 for this parallel run (total 13)...\n",
      "Building estimator 6 of 13 for this parallel run (total 13)...\n",
      "Building estimator 7 of 13 for this parallel run (total 13)...\n",
      "Building estimator 8 of 13 for this parallel run (total 13)...\n",
      "Building estimator 9 of 13 for this parallel run (total 13)...\n",
      "Building estimator 10 of 13 for this parallel run (total 13)...\n",
      "Building estimator 11 of 13 for this parallel run (total 13)...\n",
      "Building estimator 12 of 13 for this parallel run (total 13)...\n",
      "Building estimator 13 of 13 for this parallel run (total 13)...\n",
      "Building estimator 1 of 13 for this parallel run (total 13)...\n",
      "Building estimator 2 of 13 for this parallel run (total 13)...\n",
      "Building estimator 3 of 13 for this parallel run (total 13)...\n",
      "Building estimator 4 of 13 for this parallel run (total 13)...\n",
      "Building estimator 5 of 13 for this parallel run (total 13)...\n",
      "Building estimator 6 of 13 for this parallel run (total 13)...\n",
      "Building estimator 7 of 13 for this parallel run (total 13)...\n",
      "Building estimator 8 of 13 for this parallel run (total 13)...\n",
      "Building estimator 9 of 13 for this parallel run (total 13)..."
     ]
    },
    {
     "name": "stderr",
     "output_type": "stream",
     "text": [
      "[Parallel(n_jobs=1)]: Done   1 out of   1 | elapsed:    0.0s remaining:    0.0s\n",
      "[Parallel(n_jobs=1)]: Done   1 out of   1 | elapsed:    0.0s finished\n",
      "[Parallel(n_jobs=1)]: Using backend SequentialBackend with 1 concurrent workers.\n",
      "[Parallel(n_jobs=1)]: Done   1 out of   1 | elapsed:    0.0s remaining:    0.0s\n",
      "[Parallel(n_jobs=1)]: Done   1 out of   1 | elapsed:    0.0s finished\n",
      "[Parallel(n_jobs=1)]: Using backend SequentialBackend with 1 concurrent workers.\n",
      "[Parallel(n_jobs=1)]: Done   1 out of   1 | elapsed:    0.0s remaining:    0.0s\n",
      "[Parallel(n_jobs=1)]: Done   1 out of   1 | elapsed:    0.0s finished\n",
      "[Parallel(n_jobs=1)]: Using backend SequentialBackend with 1 concurrent workers.\n",
      "[Parallel(n_jobs=1)]: Done   1 out of   1 | elapsed:    0.0s remaining:    0.0s\n",
      "[Parallel(n_jobs=1)]: Done   1 out of   1 | elapsed:    0.0s finished\n",
      "[Parallel(n_jobs=1)]: Using backend SequentialBackend with 1 concurrent workers.\n",
      "[Parallel(n_jobs=1)]: Done   1 out of   1 | elapsed:    0.0s remaining:    0.0s\n",
      "[Parallel(n_jobs=1)]: Done   1 out of   1 | elapsed:    0.0s finished\n",
      "[Parallel(n_jobs=1)]: Using backend SequentialBackend with 1 concurrent workers.\n",
      "[Parallel(n_jobs=1)]: Done   1 out of   1 | elapsed:    0.0s remaining:    0.0s\n",
      "[Parallel(n_jobs=1)]: Done   1 out of   1 | elapsed:    0.0s finished\n",
      "[Parallel(n_jobs=1)]: Using backend SequentialBackend with 1 concurrent workers.\n",
      "[Parallel(n_jobs=1)]: Done   1 out of   1 | elapsed:    0.0s remaining:    0.0s\n",
      "[Parallel(n_jobs=1)]: Done   1 out of   1 | elapsed:    0.0s finished\n",
      "[Parallel(n_jobs=1)]: Using backend SequentialBackend with 1 concurrent workers.\n",
      "[Parallel(n_jobs=1)]: Done   1 out of   1 | elapsed:    0.0s remaining:    0.0s\n",
      "[Parallel(n_jobs=1)]: Done   1 out of   1 | elapsed:    0.0s finished\n",
      "[Parallel(n_jobs=1)]: Using backend SequentialBackend with 1 concurrent workers.\n",
      "[Parallel(n_jobs=1)]: Done   1 out of   1 | elapsed:    0.0s remaining:    0.0s\n",
      "[Parallel(n_jobs=1)]: Done   1 out of   1 | elapsed:    0.0s finished\n",
      "[Parallel(n_jobs=1)]: Using backend SequentialBackend with 1 concurrent workers.\n",
      "[Parallel(n_jobs=1)]: Done   1 out of   1 | elapsed:    0.0s remaining:    0.0s\n",
      "[Parallel(n_jobs=1)]: Done   1 out of   1 | elapsed:    0.0s finished\n",
      "[Parallel(n_jobs=1)]: Using backend SequentialBackend with 1 concurrent workers.\n",
      "[Parallel(n_jobs=1)]: Done   1 out of   1 | elapsed:    0.0s remaining:    0.0s\n",
      "[Parallel(n_jobs=1)]: Done   1 out of   1 | elapsed:    0.0s finished\n",
      "[Parallel(n_jobs=1)]: Using backend SequentialBackend with 1 concurrent workers.\n",
      "[Parallel(n_jobs=1)]: Done   1 out of   1 | elapsed:    0.0s remaining:    0.0s\n",
      "[Parallel(n_jobs=1)]: Done   1 out of   1 | elapsed:    0.0s finished\n"
     ]
    },
    {
     "name": "stdout",
     "output_type": "stream",
     "text": [
      "\n",
      "Building estimator 10 of 13 for this parallel run (total 13)...\n",
      "Building estimator 11 of 13 for this parallel run (total 13)...\n",
      "Building estimator 12 of 13 for this parallel run (total 13)...\n",
      "Building estimator 13 of 13 for this parallel run (total 13)...\n",
      "Building estimator 1 of 13 for this parallel run (total 13)...\n",
      "Building estimator 2 of 13 for this parallel run (total 13)...\n",
      "Building estimator 3 of 13 for this parallel run (total 13)...\n",
      "Building estimator 4 of 13 for this parallel run (total 13)...\n",
      "Building estimator 5 of 13 for this parallel run (total 13)...\n",
      "Building estimator 6 of 13 for this parallel run (total 13)...\n",
      "Building estimator 7 of 13 for this parallel run (total 13)...\n",
      "Building estimator 8 of 13 for this parallel run (total 13)...\n",
      "Building estimator 9 of 13 for this parallel run (total 13)...\n",
      "Building estimator 10 of 13 for this parallel run (total 13)...\n",
      "Building estimator 11 of 13 for this parallel run (total 13)...\n",
      "Building estimator 12 of 13 for this parallel run (total 13)...\n",
      "Building estimator 13 of 13 for this parallel run (total 13)...\n",
      "Building estimator 1 of 13 for this parallel run (total 13)...\n",
      "Building estimator 2 of 13 for this parallel run (total 13)...\n",
      "Building estimator 3 of 13 for this parallel run (total 13)...\n",
      "Building estimator 4 of 13 for this parallel run (total 13)...\n",
      "Building estimator 5 of 13 for this parallel run (total 13)...\n",
      "Building estimator 6 of 13 for this parallel run (total 13)...\n",
      "Building estimator 7 of 13 for this parallel run (total 13)...\n",
      "Building estimator 8 of 13 for this parallel run (total 13)...\n",
      "Building estimator 9 of 13 for this parallel run (total 13)...\n",
      "Building estimator 10 of 13 for this parallel run (total 13)...\n",
      "Building estimator 11 of 13 for this parallel run (total 13)...\n",
      "Building estimator 12 of 13 for this parallel run (total 13)...\n",
      "Building estimator 13 of 13 for this parallel run (total 13)...\n",
      "Building estimator 1 of 13 for this parallel run (total 13)...\n",
      "Building estimator 2 of 13 for this parallel run (total 13)...\n",
      "Building estimator 3 of 13 for this parallel run (total 13)...\n",
      "Building estimator 4 of 13 for this parallel run (total 13)...\n",
      "Building estimator 5 of 13 for this parallel run (total 13)...\n",
      "Building estimator 6 of 13 for this parallel run (total 13)...\n",
      "Building estimator 7 of 13 for this parallel run (total 13)...\n",
      "Building estimator 8 of 13 for this parallel run (total 13)...\n",
      "Building estimator 9 of 13 for this parallel run (total 13)...\n",
      "Building estimator 10 of 13 for this parallel run (total 13)...\n",
      "Building estimator 11 of 13 for this parallel run (total 13)...\n",
      "Building estimator 12 of 13 for this parallel run (total 13)...\n",
      "Building estimator 13 of 13 for this parallel run (total 13)...\n",
      "Building estimator 1 of 13 for this parallel run (total 13)...\n",
      "Building estimator 2 of 13 for this parallel run (total 13)...\n",
      "Building estimator 3 of 13 for this parallel run (total 13)...\n",
      "Building estimator 4 of 13 for this parallel run (total 13)...\n",
      "Building estimator 5 of 13 for this parallel run (total 13)...\n",
      "Building estimator 6 of 13 for this parallel run (total 13)...\n",
      "Building estimator 7 of 13 for this parallel run (total 13)...\n",
      "Building estimator 8 of 13 for this parallel run (total 13)...\n",
      "Building estimator 9 of 13 for this parallel run (total 13)...\n",
      "Building estimator 10 of 13 for this parallel run (total 13)...\n",
      "Building estimator 11 of 13 for this parallel run (total 13)...\n",
      "Building estimator 12 of 13 for this parallel run (total 13)...\n",
      "Building estimator 13 of 13 for this parallel run (total 13)...\n",
      "Building estimator 1 of 13 for this parallel run (total 13)...\n",
      "Building estimator 2 of 13 for this parallel run (total 13)...\n",
      "Building estimator 3 of 13 for this parallel run (total 13)...\n",
      "Building estimator 4 of 13 for this parallel run (total 13)...\n",
      "Building estimator 5 of 13 for this parallel run (total 13)...\n",
      "Building estimator 6 of 13 for this parallel run (total 13)...\n",
      "Building estimator 7 of 13 for this parallel run (total 13)...\n",
      "Building estimator 8 of 13 for this parallel run (total 13)...\n",
      "Building estimator 9 of 13 for this parallel run (total 13)...\n",
      "Building estimator 10 of 13 for this parallel run (total 13)...\n",
      "Building estimator 11 of 13 for this parallel run (total 13)...\n",
      "Building estimator 12 of 13 for this parallel run (total 13)...\n",
      "Building estimator 13 of 13 for this parallel run (total 13)...\n"
     ]
    },
    {
     "name": "stderr",
     "output_type": "stream",
     "text": [
      "[Parallel(n_jobs=1)]: Using backend SequentialBackend with 1 concurrent workers.\n",
      "[Parallel(n_jobs=1)]: Done   1 out of   1 | elapsed:    0.0s remaining:    0.0s\n",
      "[Parallel(n_jobs=1)]: Done   1 out of   1 | elapsed:    0.0s finished\n",
      "[Parallel(n_jobs=1)]: Using backend SequentialBackend with 1 concurrent workers.\n",
      "[Parallel(n_jobs=1)]: Done   1 out of   1 | elapsed:    0.0s remaining:    0.0s\n",
      "[Parallel(n_jobs=1)]: Done   1 out of   1 | elapsed:    0.0s finished\n",
      "[Parallel(n_jobs=1)]: Using backend SequentialBackend with 1 concurrent workers.\n",
      "[Parallel(n_jobs=1)]: Done   1 out of   1 | elapsed:    0.0s remaining:    0.0s\n",
      "[Parallel(n_jobs=1)]: Done   1 out of   1 | elapsed:    0.0s finished\n",
      "[Parallel(n_jobs=1)]: Using backend SequentialBackend with 1 concurrent workers.\n",
      "[Parallel(n_jobs=1)]: Done   1 out of   1 | elapsed:    0.0s remaining:    0.0s\n",
      "[Parallel(n_jobs=1)]: Done   1 out of   1 | elapsed:    0.0s finished\n",
      "[Parallel(n_jobs=1)]: Using backend SequentialBackend with 1 concurrent workers.\n",
      "[Parallel(n_jobs=1)]: Done   1 out of   1 | elapsed:    0.0s remaining:    0.0s\n",
      "[Parallel(n_jobs=1)]: Done   1 out of   1 | elapsed:    0.0s finished\n",
      "[Parallel(n_jobs=1)]: Using backend SequentialBackend with 1 concurrent workers.\n",
      "[Parallel(n_jobs=1)]: Done   1 out of   1 | elapsed:    0.0s remaining:    0.0s\n",
      "[Parallel(n_jobs=1)]: Done   1 out of   1 | elapsed:    0.0s finished\n",
      "[Parallel(n_jobs=1)]: Using backend SequentialBackend with 1 concurrent workers.\n",
      "[Parallel(n_jobs=1)]: Done   1 out of   1 | elapsed:    0.0s remaining:    0.0s\n",
      "[Parallel(n_jobs=1)]: Done   1 out of   1 | elapsed:    0.0s finished\n",
      "[Parallel(n_jobs=1)]: Using backend SequentialBackend with 1 concurrent workers.\n",
      "[Parallel(n_jobs=1)]: Done   1 out of   1 | elapsed:    0.0s remaining:    0.0s\n",
      "[Parallel(n_jobs=1)]: Done   1 out of   1 | elapsed:    0.0s finished\n",
      "[Parallel(n_jobs=1)]: Using backend SequentialBackend with 1 concurrent workers.\n",
      "[Parallel(n_jobs=1)]: Done   1 out of   1 | elapsed:    0.0s remaining:    0.0s\n",
      "[Parallel(n_jobs=1)]: Done   1 out of   1 | elapsed:    0.0s finished\n",
      "[Parallel(n_jobs=1)]: Using backend SequentialBackend with 1 concurrent workers.\n",
      "[Parallel(n_jobs=1)]: Done   1 out of   1 | elapsed:    0.0s remaining:    0.0s\n",
      "[Parallel(n_jobs=1)]: Done   1 out of   1 | elapsed:    0.0s finished\n",
      "[Parallel(n_jobs=1)]: Using backend SequentialBackend with 1 concurrent workers.\n"
     ]
    },
    {
     "name": "stdout",
     "output_type": "stream",
     "text": [
      "Building estimator 1 of 13 for this parallel run (total 13)...\n",
      "Building estimator 2 of 13 for this parallel run (total 13)...\n",
      "Building estimator 3 of 13 for this parallel run (total 13)...\n",
      "Building estimator 4 of 13 for this parallel run (total 13)...\n",
      "Building estimator 5 of 13 for this parallel run (total 13)...\n",
      "Building estimator 6 of 13 for this parallel run (total 13)...\n",
      "Building estimator 7 of 13 for this parallel run (total 13)...\n",
      "Building estimator 8 of 13 for this parallel run (total 13)...\n",
      "Building estimator 9 of 13 for this parallel run (total 13)...\n",
      "Building estimator 10 of 13 for this parallel run (total 13)...\n",
      "Building estimator 11 of 13 for this parallel run (total 13)...\n",
      "Building estimator 12 of 13 for this parallel run (total 13)...\n",
      "Building estimator 13 of 13 for this parallel run (total 13)...\n",
      "Building estimator 1 of 13 for this parallel run (total 13)...\n",
      "Building estimator 2 of 13 for this parallel run (total 13)...\n",
      "Building estimator 3 of 13 for this parallel run (total 13)...\n",
      "Building estimator 4 of 13 for this parallel run (total 13)...\n",
      "Building estimator 5 of 13 for this parallel run (total 13)...\n",
      "Building estimator 6 of 13 for this parallel run (total 13)...\n",
      "Building estimator 7 of 13 for this parallel run (total 13)...\n",
      "Building estimator 8 of 13 for this parallel run (total 13)...\n",
      "Building estimator 9 of 13 for this parallel run (total 13)...\n",
      "Building estimator 10 of 13 for this parallel run (total 13)...\n",
      "Building estimator 11 of 13 for this parallel run (total 13)...\n",
      "Building estimator 12 of 13 for this parallel run (total 13)...\n",
      "Building estimator 13 of 13 for this parallel run (total 13)...\n",
      "Building estimator 1 of 13 for this parallel run (total 13)...\n",
      "Building estimator 2 of 13 for this parallel run (total 13)...\n",
      "Building estimator 3 of 13 for this parallel run (total 13)...\n",
      "Building estimator 4 of 13 for this parallel run (total 13)...\n",
      "Building estimator 5 of 13 for this parallel run (total 13)...\n",
      "Building estimator 6 of 13 for this parallel run (total 13)...\n",
      "Building estimator 7 of 13 for this parallel run (total 13)...\n",
      "Building estimator 8 of 13 for this parallel run (total 13)...\n",
      "Building estimator 9 of 13 for this parallel run (total 13)...\n",
      "Building estimator 10 of 13 for this parallel run (total 13)...\n",
      "Building estimator 11 of 13 for this parallel run (total 13)...\n",
      "Building estimator 12 of 13 for this parallel run (total 13)...\n",
      "Building estimator 13 of 13 for this parallel run (total 13)...\n",
      "Building estimator 1 of 13 for this parallel run (total 13)...\n",
      "Building estimator 2 of 13 for this parallel run (total 13)...\n",
      "Building estimator 3 of 13 for this parallel run (total 13)...\n",
      "Building estimator 4 of 13 for this parallel run (total 13)...\n",
      "Building estimator 5 of 13 for this parallel run (total 13)...\n",
      "Building estimator 6 of 13 for this parallel run (total 13)...\n",
      "Building estimator 7 of 13 for this parallel run (total 13)...\n",
      "Building estimator 8 of 13 for this parallel run (total 13)...\n",
      "Building estimator 9 of 13 for this parallel run (total 13)...\n",
      "Building estimator 10 of 13 for this parallel run (total 13)...\n",
      "Building estimator 11 of 13 for this parallel run (total 13)...\n",
      "Building estimator 12 of 13 for this parallel run (total 13)...\n",
      "Building estimator 13 of 13 for this parallel run (total 13)...\n",
      "Building estimator 1 of 13 for this parallel run (total 13)...\n",
      "Building estimator 2 of 13 for this parallel run (total 13)...\n",
      "Building estimator 3 of 13 for this parallel run (total 13)...\n",
      "Building estimator 4 of 13 for this parallel run (total 13)...\n",
      "Building estimator 5 of 13 for this parallel run (total 13)...\n",
      "Building estimator 6 of 13 for this parallel run (total 13)...\n",
      "Building estimator 7 of 13 for this parallel run (total 13)...\n",
      "Building estimator 8 of 13 for this parallel run (total 13)...\n",
      "Building estimator 9 of 13 for this parallel run (total 13)...\n",
      "Building estimator 10 of 13 for this parallel run (total 13)...\n",
      "Building estimator 11 of 13 for this parallel run (total 13)...\n",
      "Building estimator 12 of 13 for this parallel run (total 13)...\n",
      "Building estimator 13 of 13 for this parallel run (total 13)...\n",
      "Building estimator 1 of 13 for this parallel run (total 13)...\n",
      "Building estimator 2 of 13 for this parallel run (total 13)...\n",
      "Building estimator 3 of 13 for this parallel run (total 13)..."
     ]
    },
    {
     "name": "stderr",
     "output_type": "stream",
     "text": [
      "[Parallel(n_jobs=1)]: Done   1 out of   1 | elapsed:    0.0s remaining:    0.0s\n",
      "[Parallel(n_jobs=1)]: Done   1 out of   1 | elapsed:    0.0s finished\n",
      "[Parallel(n_jobs=1)]: Using backend SequentialBackend with 1 concurrent workers.\n",
      "[Parallel(n_jobs=1)]: Done   1 out of   1 | elapsed:    0.0s remaining:    0.0s\n",
      "[Parallel(n_jobs=1)]: Done   1 out of   1 | elapsed:    0.0s finished\n",
      "[Parallel(n_jobs=1)]: Using backend SequentialBackend with 1 concurrent workers.\n",
      "[Parallel(n_jobs=1)]: Done   1 out of   1 | elapsed:    0.0s remaining:    0.0s\n",
      "[Parallel(n_jobs=1)]: Done   1 out of   1 | elapsed:    0.0s finished\n",
      "[Parallel(n_jobs=1)]: Using backend SequentialBackend with 1 concurrent workers.\n",
      "[Parallel(n_jobs=1)]: Done   1 out of   1 | elapsed:    0.0s remaining:    0.0s\n",
      "[Parallel(n_jobs=1)]: Done   1 out of   1 | elapsed:    0.0s finished\n",
      "[Parallel(n_jobs=1)]: Using backend SequentialBackend with 1 concurrent workers.\n",
      "[Parallel(n_jobs=1)]: Done   1 out of   1 | elapsed:    0.0s remaining:    0.0s\n",
      "[Parallel(n_jobs=1)]: Done   1 out of   1 | elapsed:    0.0s finished\n",
      "[Parallel(n_jobs=1)]: Using backend SequentialBackend with 1 concurrent workers.\n",
      "[Parallel(n_jobs=1)]: Done   1 out of   1 | elapsed:    0.0s remaining:    0.0s\n",
      "[Parallel(n_jobs=1)]: Done   1 out of   1 | elapsed:    0.0s finished\n",
      "[Parallel(n_jobs=1)]: Using backend SequentialBackend with 1 concurrent workers.\n",
      "[Parallel(n_jobs=1)]: Done   1 out of   1 | elapsed:    0.0s remaining:    0.0s\n",
      "[Parallel(n_jobs=1)]: Done   1 out of   1 | elapsed:    0.0s finished\n",
      "[Parallel(n_jobs=1)]: Using backend SequentialBackend with 1 concurrent workers.\n",
      "[Parallel(n_jobs=1)]: Done   1 out of   1 | elapsed:    0.0s remaining:    0.0s\n",
      "[Parallel(n_jobs=1)]: Done   1 out of   1 | elapsed:    0.0s finished\n",
      "[Parallel(n_jobs=1)]: Using backend SequentialBackend with 1 concurrent workers.\n",
      "[Parallel(n_jobs=1)]: Done   1 out of   1 | elapsed:    0.0s finished\n",
      "[Parallel(n_jobs=1)]: Using backend SequentialBackend with 1 concurrent workers.\n",
      "[Parallel(n_jobs=1)]: Done   1 out of   1 | elapsed:    0.0s finished\n",
      "[Parallel(n_jobs=1)]: Using backend SequentialBackend with 1 concurrent workers.\n",
      "[Parallel(n_jobs=1)]: Done   1 out of   1 | elapsed:    0.0s finished\n"
     ]
    },
    {
     "name": "stdout",
     "output_type": "stream",
     "text": [
      "\n",
      "Building estimator 4 of 13 for this parallel run (total 13)...\n",
      "Building estimator 5 of 13 for this parallel run (total 13)...\n",
      "Building estimator 6 of 13 for this parallel run (total 13)...\n",
      "Building estimator 7 of 13 for this parallel run (total 13)...\n",
      "Building estimator 8 of 13 for this parallel run (total 13)...\n",
      "Building estimator 9 of 13 for this parallel run (total 13)...\n",
      "Building estimator 10 of 13 for this parallel run (total 13)...\n",
      "Building estimator 11 of 13 for this parallel run (total 13)...\n",
      "Building estimator 12 of 13 for this parallel run (total 13)...\n",
      "Building estimator 13 of 13 for this parallel run (total 13)...\n",
      "Building estimator 1 of 13 for this parallel run (total 13)...\n",
      "Building estimator 2 of 13 for this parallel run (total 13)...\n",
      "Building estimator 3 of 13 for this parallel run (total 13)...\n",
      "Building estimator 4 of 13 for this parallel run (total 13)...\n",
      "Building estimator 5 of 13 for this parallel run (total 13)...\n",
      "Building estimator 6 of 13 for this parallel run (total 13)...\n",
      "Building estimator 7 of 13 for this parallel run (total 13)...\n",
      "Building estimator 8 of 13 for this parallel run (total 13)...\n",
      "Building estimator 9 of 13 for this parallel run (total 13)...\n",
      "Building estimator 10 of 13 for this parallel run (total 13)...\n",
      "Building estimator 11 of 13 for this parallel run (total 13)...\n",
      "Building estimator 12 of 13 for this parallel run (total 13)...\n",
      "Building estimator 13 of 13 for this parallel run (total 13)...\n",
      "Building estimator 1 of 13 for this parallel run (total 13)...\n",
      "Building estimator 2 of 13 for this parallel run (total 13)...\n",
      "Building estimator 3 of 13 for this parallel run (total 13)...\n",
      "Building estimator 4 of 13 for this parallel run (total 13)...\n",
      "Building estimator 5 of 13 for this parallel run (total 13)...\n",
      "Building estimator 6 of 13 for this parallel run (total 13)...\n",
      "Building estimator 7 of 13 for this parallel run (total 13)...\n",
      "Building estimator 8 of 13 for this parallel run (total 13)...\n",
      "Building estimator 9 of 13 for this parallel run (total 13)...\n",
      "Building estimator 10 of 13 for this parallel run (total 13)...\n",
      "Building estimator 11 of 13 for this parallel run (total 13)...\n",
      "Building estimator 12 of 13 for this parallel run (total 13)...\n",
      "Building estimator 13 of 13 for this parallel run (total 13)...\n"
     ]
    },
    {
     "name": "stderr",
     "output_type": "stream",
     "text": [
      "[Parallel(n_jobs=1)]: Using backend SequentialBackend with 1 concurrent workers.\n",
      "[Parallel(n_jobs=1)]: Done   1 out of   1 | elapsed:    0.0s finished\n",
      "[Parallel(n_jobs=1)]: Using backend SequentialBackend with 1 concurrent workers.\n",
      "[Parallel(n_jobs=1)]: Done   1 out of   1 | elapsed:    0.0s finished\n",
      "[Parallel(n_jobs=1)]: Using backend SequentialBackend with 1 concurrent workers.\n",
      "[Parallel(n_jobs=1)]: Done   1 out of   1 | elapsed:    0.0s finished\n",
      "[Parallel(n_jobs=1)]: Using backend SequentialBackend with 1 concurrent workers.\n",
      "[Parallel(n_jobs=1)]: Done   1 out of   1 | elapsed:    0.0s finished\n",
      "[Parallel(n_jobs=1)]: Using backend SequentialBackend with 1 concurrent workers.\n",
      "[Parallel(n_jobs=1)]: Done   1 out of   1 | elapsed:    0.0s finished\n",
      "[Parallel(n_jobs=1)]: Using backend SequentialBackend with 1 concurrent workers.\n",
      "[Parallel(n_jobs=1)]: Done   1 out of   1 | elapsed:    0.0s finished\n",
      "[Parallel(n_jobs=1)]: Using backend SequentialBackend with 1 concurrent workers.\n",
      "[Parallel(n_jobs=1)]: Done   1 out of   1 | elapsed:    0.0s finished\n",
      "[Parallel(n_jobs=1)]: Using backend SequentialBackend with 1 concurrent workers.\n",
      "[Parallel(n_jobs=1)]: Done   1 out of   1 | elapsed:    0.0s remaining:    0.0s\n",
      "[Parallel(n_jobs=1)]: Done   1 out of   1 | elapsed:    0.0s finished\n",
      "[Parallel(n_jobs=1)]: Using backend SequentialBackend with 1 concurrent workers.\n",
      "[Parallel(n_jobs=1)]: Done   1 out of   1 | elapsed:    0.0s remaining:    0.0s\n",
      "[Parallel(n_jobs=1)]: Done   1 out of   1 | elapsed:    0.0s finished\n",
      "[Parallel(n_jobs=1)]: Using backend SequentialBackend with 1 concurrent workers.\n",
      "[Parallel(n_jobs=1)]: Done   1 out of   1 | elapsed:    0.0s remaining:    0.0s\n",
      "[Parallel(n_jobs=1)]: Done   1 out of   1 | elapsed:    0.0s finished\n",
      "[Parallel(n_jobs=1)]: Using backend SequentialBackend with 1 concurrent workers.\n",
      "[Parallel(n_jobs=1)]: Done   1 out of   1 | elapsed:    0.0s remaining:    0.0s\n",
      "[Parallel(n_jobs=1)]: Done   1 out of   1 | elapsed:    0.0s finished\n",
      "[Parallel(n_jobs=1)]: Using backend SequentialBackend with 1 concurrent workers.\n"
     ]
    },
    {
     "name": "stdout",
     "output_type": "stream",
     "text": [
      "Building estimator 1 of 14 for this parallel run (total 14)...\n",
      "Building estimator 2 of 14 for this parallel run (total 14)...\n",
      "Building estimator 3 of 14 for this parallel run (total 14)...\n",
      "Building estimator 4 of 14 for this parallel run (total 14)...\n",
      "Building estimator 5 of 14 for this parallel run (total 14)...\n",
      "Building estimator 6 of 14 for this parallel run (total 14)...\n",
      "Building estimator 7 of 14 for this parallel run (total 14)...\n",
      "Building estimator 8 of 14 for this parallel run (total 14)...\n",
      "Building estimator 9 of 14 for this parallel run (total 14)...\n",
      "Building estimator 10 of 14 for this parallel run (total 14)...\n",
      "Building estimator 11 of 14 for this parallel run (total 14)...\n",
      "Building estimator 12 of 14 for this parallel run (total 14)...\n",
      "Building estimator 13 of 14 for this parallel run (total 14)...\n",
      "Building estimator 14 of 14 for this parallel run (total 14)...\n",
      "Building estimator 1 of 14 for this parallel run (total 14)...\n",
      "Building estimator 2 of 14 for this parallel run (total 14)...\n",
      "Building estimator 3 of 14 for this parallel run (total 14)...\n",
      "Building estimator 4 of 14 for this parallel run (total 14)...\n",
      "Building estimator 5 of 14 for this parallel run (total 14)...\n",
      "Building estimator 6 of 14 for this parallel run (total 14)...\n",
      "Building estimator 7 of 14 for this parallel run (total 14)...\n",
      "Building estimator 8 of 14 for this parallel run (total 14)...\n",
      "Building estimator 9 of 14 for this parallel run (total 14)...\n",
      "Building estimator 10 of 14 for this parallel run (total 14)...\n",
      "Building estimator 11 of 14 for this parallel run (total 14)...\n",
      "Building estimator 12 of 14 for this parallel run (total 14)...\n",
      "Building estimator 13 of 14 for this parallel run (total 14)...\n",
      "Building estimator 14 of 14 for this parallel run (total 14)...\n",
      "Building estimator 1 of 14 for this parallel run (total 14)...\n",
      "Building estimator 2 of 14 for this parallel run (total 14)...\n",
      "Building estimator 3 of 14 for this parallel run (total 14)...\n",
      "Building estimator 4 of 14 for this parallel run (total 14)...\n",
      "Building estimator 5 of 14 for this parallel run (total 14)...\n",
      "Building estimator 6 of 14 for this parallel run (total 14)...\n",
      "Building estimator 7 of 14 for this parallel run (total 14)...\n",
      "Building estimator 8 of 14 for this parallel run (total 14)...\n",
      "Building estimator 9 of 14 for this parallel run (total 14)...\n",
      "Building estimator 10 of 14 for this parallel run (total 14)...\n",
      "Building estimator 11 of 14 for this parallel run (total 14)...\n",
      "Building estimator 12 of 14 for this parallel run (total 14)...\n",
      "Building estimator 13 of 14 for this parallel run (total 14)...\n",
      "Building estimator 14 of 14 for this parallel run (total 14)...\n",
      "Building estimator 1 of 14 for this parallel run (total 14)...\n",
      "Building estimator 2 of 14 for this parallel run (total 14)...\n",
      "Building estimator 3 of 14 for this parallel run (total 14)...\n",
      "Building estimator 4 of 14 for this parallel run (total 14)...\n",
      "Building estimator 5 of 14 for this parallel run (total 14)...\n",
      "Building estimator 6 of 14 for this parallel run (total 14)...\n",
      "Building estimator 7 of 14 for this parallel run (total 14)...\n",
      "Building estimator 8 of 14 for this parallel run (total 14)...\n",
      "Building estimator 9 of 14 for this parallel run (total 14)...\n",
      "Building estimator 10 of 14 for this parallel run (total 14)...\n",
      "Building estimator 11 of 14 for this parallel run (total 14)...\n",
      "Building estimator 12 of 14 for this parallel run (total 14)...\n",
      "Building estimator 13 of 14 for this parallel run (total 14)...\n",
      "Building estimator 14 of 14 for this parallel run (total 14)...\n",
      "Building estimator 1 of 14 for this parallel run (total 14)...\n",
      "Building estimator 2 of 14 for this parallel run (total 14)...\n",
      "Building estimator 3 of 14 for this parallel run (total 14)...\n",
      "Building estimator 4 of 14 for this parallel run (total 14)...\n",
      "Building estimator 5 of 14 for this parallel run (total 14)...\n",
      "Building estimator 6 of 14 for this parallel run (total 14)...\n",
      "Building estimator 7 of 14 for this parallel run (total 14)...\n",
      "Building estimator 8 of 14 for this parallel run (total 14)...\n",
      "Building estimator 9 of 14 for this parallel run (total 14)...\n",
      "Building estimator 10 of 14 for this parallel run (total 14)...\n",
      "Building estimator 11 of 14 for this parallel run (total 14)...\n",
      "Building estimator 12 of 14 for this parallel run (total 14)...\n",
      "Building estimator 13 of 14 for this parallel run (total 14)...\n",
      "Building estimator 14 of 14 for this parallel run (total 14)...\n",
      "Building estimator 1 of 14 for this parallel run (total 14)...\n"
     ]
    },
    {
     "name": "stderr",
     "output_type": "stream",
     "text": [
      "[Parallel(n_jobs=1)]: Done   1 out of   1 | elapsed:    0.0s remaining:    0.0s\n",
      "[Parallel(n_jobs=1)]: Done   1 out of   1 | elapsed:    0.0s finished\n",
      "[Parallel(n_jobs=1)]: Using backend SequentialBackend with 1 concurrent workers.\n",
      "[Parallel(n_jobs=1)]: Done   1 out of   1 | elapsed:    0.0s remaining:    0.0s\n",
      "[Parallel(n_jobs=1)]: Done   1 out of   1 | elapsed:    0.0s finished\n",
      "[Parallel(n_jobs=1)]: Using backend SequentialBackend with 1 concurrent workers.\n",
      "[Parallel(n_jobs=1)]: Done   1 out of   1 | elapsed:    0.0s remaining:    0.0s\n",
      "[Parallel(n_jobs=1)]: Done   1 out of   1 | elapsed:    0.0s finished\n",
      "[Parallel(n_jobs=1)]: Using backend SequentialBackend with 1 concurrent workers.\n",
      "[Parallel(n_jobs=1)]: Done   1 out of   1 | elapsed:    0.0s remaining:    0.0s\n",
      "[Parallel(n_jobs=1)]: Done   1 out of   1 | elapsed:    0.0s finished\n",
      "[Parallel(n_jobs=1)]: Using backend SequentialBackend with 1 concurrent workers.\n",
      "[Parallel(n_jobs=1)]: Done   1 out of   1 | elapsed:    0.0s remaining:    0.0s\n",
      "[Parallel(n_jobs=1)]: Done   1 out of   1 | elapsed:    0.0s finished\n",
      "[Parallel(n_jobs=1)]: Using backend SequentialBackend with 1 concurrent workers.\n",
      "[Parallel(n_jobs=1)]: Done   1 out of   1 | elapsed:    0.0s remaining:    0.0s\n",
      "[Parallel(n_jobs=1)]: Done   1 out of   1 | elapsed:    0.0s finished\n",
      "[Parallel(n_jobs=1)]: Using backend SequentialBackend with 1 concurrent workers.\n",
      "[Parallel(n_jobs=1)]: Done   1 out of   1 | elapsed:    0.0s remaining:    0.0s\n",
      "[Parallel(n_jobs=1)]: Done   1 out of   1 | elapsed:    0.0s finished\n",
      "[Parallel(n_jobs=1)]: Using backend SequentialBackend with 1 concurrent workers.\n",
      "[Parallel(n_jobs=1)]: Done   1 out of   1 | elapsed:    0.0s remaining:    0.0s\n",
      "[Parallel(n_jobs=1)]: Done   1 out of   1 | elapsed:    0.0s finished\n",
      "[Parallel(n_jobs=1)]: Using backend SequentialBackend with 1 concurrent workers.\n",
      "[Parallel(n_jobs=1)]: Done   1 out of   1 | elapsed:    0.0s remaining:    0.0s\n",
      "[Parallel(n_jobs=1)]: Done   1 out of   1 | elapsed:    0.0s finished\n",
      "[Parallel(n_jobs=1)]: Using backend SequentialBackend with 1 concurrent workers.\n",
      "[Parallel(n_jobs=1)]: Done   1 out of   1 | elapsed:    0.0s remaining:    0.0s\n",
      "[Parallel(n_jobs=1)]: Done   1 out of   1 | elapsed:    0.0s finished\n",
      "[Parallel(n_jobs=1)]: Using backend SequentialBackend with 1 concurrent workers.\n"
     ]
    },
    {
     "name": "stdout",
     "output_type": "stream",
     "text": [
      "Building estimator 2 of 14 for this parallel run (total 14)...\n",
      "Building estimator 3 of 14 for this parallel run (total 14)...\n",
      "Building estimator 4 of 14 for this parallel run (total 14)...\n",
      "Building estimator 5 of 14 for this parallel run (total 14)...\n",
      "Building estimator 6 of 14 for this parallel run (total 14)...\n",
      "Building estimator 7 of 14 for this parallel run (total 14)...\n",
      "Building estimator 8 of 14 for this parallel run (total 14)...\n",
      "Building estimator 9 of 14 for this parallel run (total 14)...\n",
      "Building estimator 10 of 14 for this parallel run (total 14)...\n",
      "Building estimator 11 of 14 for this parallel run (total 14)...\n",
      "Building estimator 12 of 14 for this parallel run (total 14)...\n",
      "Building estimator 13 of 14 for this parallel run (total 14)...\n",
      "Building estimator 14 of 14 for this parallel run (total 14)...\n",
      "Building estimator 1 of 14 for this parallel run (total 14)...\n",
      "Building estimator 2 of 14 for this parallel run (total 14)...\n",
      "Building estimator 3 of 14 for this parallel run (total 14)...\n",
      "Building estimator 4 of 14 for this parallel run (total 14)...\n",
      "Building estimator 5 of 14 for this parallel run (total 14)...\n",
      "Building estimator 6 of 14 for this parallel run (total 14)...\n",
      "Building estimator 7 of 14 for this parallel run (total 14)...\n",
      "Building estimator 8 of 14 for this parallel run (total 14)...\n",
      "Building estimator 9 of 14 for this parallel run (total 14)...\n",
      "Building estimator 10 of 14 for this parallel run (total 14)...\n",
      "Building estimator 11 of 14 for this parallel run (total 14)...\n",
      "Building estimator 12 of 14 for this parallel run (total 14)...\n",
      "Building estimator 13 of 14 for this parallel run (total 14)...\n",
      "Building estimator 14 of 14 for this parallel run (total 14)...\n",
      "Building estimator 1 of 14 for this parallel run (total 14)...\n",
      "Building estimator 2 of 14 for this parallel run (total 14)...\n",
      "Building estimator 3 of 14 for this parallel run (total 14)...\n",
      "Building estimator 4 of 14 for this parallel run (total 14)...\n",
      "Building estimator 5 of 14 for this parallel run (total 14)...\n",
      "Building estimator 6 of 14 for this parallel run (total 14)...\n",
      "Building estimator 7 of 14 for this parallel run (total 14)...\n",
      "Building estimator 8 of 14 for this parallel run (total 14)...\n",
      "Building estimator 9 of 14 for this parallel run (total 14)...\n",
      "Building estimator 10 of 14 for this parallel run (total 14)...\n",
      "Building estimator 11 of 14 for this parallel run (total 14)...\n",
      "Building estimator 12 of 14 for this parallel run (total 14)...\n",
      "Building estimator 13 of 14 for this parallel run (total 14)...\n",
      "Building estimator 14 of 14 for this parallel run (total 14)...\n",
      "Building estimator 1 of 14 for this parallel run (total 14)...\n",
      "Building estimator 2 of 14 for this parallel run (total 14)...\n",
      "Building estimator 3 of 14 for this parallel run (total 14)...\n",
      "Building estimator 4 of 14 for this parallel run (total 14)...\n",
      "Building estimator 5 of 14 for this parallel run (total 14)...\n",
      "Building estimator 6 of 14 for this parallel run (total 14)...\n",
      "Building estimator 7 of 14 for this parallel run (total 14)...\n",
      "Building estimator 8 of 14 for this parallel run (total 14)...\n",
      "Building estimator 9 of 14 for this parallel run (total 14)...\n",
      "Building estimator 10 of 14 for this parallel run (total 14)...\n",
      "Building estimator 11 of 14 for this parallel run (total 14)...\n",
      "Building estimator 12 of 14 for this parallel run (total 14)...\n",
      "Building estimator 13 of 14 for this parallel run (total 14)...\n",
      "Building estimator 14 of 14 for this parallel run (total 14)...\n",
      "Building estimator 1 of 14 for this parallel run (total 14)...\n",
      "Building estimator 2 of 14 for this parallel run (total 14)...\n",
      "Building estimator 3 of 14 for this parallel run (total 14)...\n",
      "Building estimator 4 of 14 for this parallel run (total 14)...\n",
      "Building estimator 5 of 14 for this parallel run (total 14)...\n",
      "Building estimator 6 of 14 for this parallel run (total 14)...\n",
      "Building estimator 7 of 14 for this parallel run (total 14)...\n",
      "Building estimator 8 of 14 for this parallel run (total 14)...\n",
      "Building estimator 9 of 14 for this parallel run (total 14)...\n",
      "Building estimator 10 of 14 for this parallel run (total 14)...\n",
      "Building estimator 11 of 14 for this parallel run (total 14)...\n",
      "Building estimator 12 of 14 for this parallel run (total 14)...\n",
      "Building estimator 13 of 14 for this parallel run (total 14)...\n",
      "Building estimator 14 of 14 for this parallel run (total 14)...\n"
     ]
    },
    {
     "name": "stderr",
     "output_type": "stream",
     "text": [
      "[Parallel(n_jobs=1)]: Done   1 out of   1 | elapsed:    0.0s remaining:    0.0s\n",
      "[Parallel(n_jobs=1)]: Done   1 out of   1 | elapsed:    0.0s finished\n",
      "[Parallel(n_jobs=1)]: Using backend SequentialBackend with 1 concurrent workers.\n",
      "[Parallel(n_jobs=1)]: Done   1 out of   1 | elapsed:    0.0s remaining:    0.0s\n",
      "[Parallel(n_jobs=1)]: Done   1 out of   1 | elapsed:    0.0s finished\n",
      "[Parallel(n_jobs=1)]: Using backend SequentialBackend with 1 concurrent workers.\n",
      "[Parallel(n_jobs=1)]: Done   1 out of   1 | elapsed:    0.0s remaining:    0.0s\n",
      "[Parallel(n_jobs=1)]: Done   1 out of   1 | elapsed:    0.0s finished\n",
      "[Parallel(n_jobs=1)]: Using backend SequentialBackend with 1 concurrent workers.\n",
      "[Parallel(n_jobs=1)]: Done   1 out of   1 | elapsed:    0.0s remaining:    0.0s\n",
      "[Parallel(n_jobs=1)]: Done   1 out of   1 | elapsed:    0.0s finished\n",
      "[Parallel(n_jobs=1)]: Using backend SequentialBackend with 1 concurrent workers.\n",
      "[Parallel(n_jobs=1)]: Done   1 out of   1 | elapsed:    0.0s remaining:    0.0s\n",
      "[Parallel(n_jobs=1)]: Done   1 out of   1 | elapsed:    0.0s finished\n",
      "[Parallel(n_jobs=1)]: Using backend SequentialBackend with 1 concurrent workers.\n",
      "[Parallel(n_jobs=1)]: Done   1 out of   1 | elapsed:    0.0s remaining:    0.0s\n",
      "[Parallel(n_jobs=1)]: Done   1 out of   1 | elapsed:    0.0s finished\n",
      "[Parallel(n_jobs=1)]: Using backend SequentialBackend with 1 concurrent workers.\n",
      "[Parallel(n_jobs=1)]: Done   1 out of   1 | elapsed:    0.0s remaining:    0.0s\n",
      "[Parallel(n_jobs=1)]: Done   1 out of   1 | elapsed:    0.0s finished\n",
      "[Parallel(n_jobs=1)]: Using backend SequentialBackend with 1 concurrent workers.\n",
      "[Parallel(n_jobs=1)]: Done   1 out of   1 | elapsed:    0.0s remaining:    0.0s\n",
      "[Parallel(n_jobs=1)]: Done   1 out of   1 | elapsed:    0.0s finished\n",
      "[Parallel(n_jobs=1)]: Using backend SequentialBackend with 1 concurrent workers.\n",
      "[Parallel(n_jobs=1)]: Done   1 out of   1 | elapsed:    0.0s remaining:    0.0s\n",
      "[Parallel(n_jobs=1)]: Done   1 out of   1 | elapsed:    0.0s finished\n",
      "[Parallel(n_jobs=1)]: Using backend SequentialBackend with 1 concurrent workers.\n",
      "[Parallel(n_jobs=1)]: Done   1 out of   1 | elapsed:    0.0s remaining:    0.0s\n",
      "[Parallel(n_jobs=1)]: Done   1 out of   1 | elapsed:    0.0s finished\n",
      "[Parallel(n_jobs=1)]: Using backend SequentialBackend with 1 concurrent workers.\n"
     ]
    },
    {
     "name": "stdout",
     "output_type": "stream",
     "text": [
      "Building estimator 1 of 14 for this parallel run (total 14)...\n",
      "Building estimator 2 of 14 for this parallel run (total 14)...\n",
      "Building estimator 3 of 14 for this parallel run (total 14)...\n",
      "Building estimator 4 of 14 for this parallel run (total 14)...\n",
      "Building estimator 5 of 14 for this parallel run (total 14)...\n",
      "Building estimator 6 of 14 for this parallel run (total 14)...\n",
      "Building estimator 7 of 14 for this parallel run (total 14)...\n",
      "Building estimator 8 of 14 for this parallel run (total 14)...\n",
      "Building estimator 9 of 14 for this parallel run (total 14)...\n",
      "Building estimator 10 of 14 for this parallel run (total 14)...\n",
      "Building estimator 11 of 14 for this parallel run (total 14)...\n",
      "Building estimator 12 of 14 for this parallel run (total 14)...\n",
      "Building estimator 13 of 14 for this parallel run (total 14)...\n",
      "Building estimator 14 of 14 for this parallel run (total 14)...\n",
      "Building estimator 1 of 14 for this parallel run (total 14)...\n",
      "Building estimator 2 of 14 for this parallel run (total 14)...\n",
      "Building estimator 3 of 14 for this parallel run (total 14)...\n",
      "Building estimator 4 of 14 for this parallel run (total 14)...\n",
      "Building estimator 5 of 14 for this parallel run (total 14)...\n",
      "Building estimator 6 of 14 for this parallel run (total 14)...\n",
      "Building estimator 7 of 14 for this parallel run (total 14)...\n",
      "Building estimator 8 of 14 for this parallel run (total 14)...\n",
      "Building estimator 9 of 14 for this parallel run (total 14)...\n",
      "Building estimator 10 of 14 for this parallel run (total 14)...\n",
      "Building estimator 11 of 14 for this parallel run (total 14)...\n",
      "Building estimator 12 of 14 for this parallel run (total 14)...\n",
      "Building estimator 13 of 14 for this parallel run (total 14)...\n",
      "Building estimator 14 of 14 for this parallel run (total 14)...\n",
      "Building estimator 1 of 14 for this parallel run (total 14)...\n",
      "Building estimator 2 of 14 for this parallel run (total 14)...\n",
      "Building estimator 3 of 14 for this parallel run (total 14)...\n",
      "Building estimator 4 of 14 for this parallel run (total 14)...\n",
      "Building estimator 5 of 14 for this parallel run (total 14)...\n",
      "Building estimator 6 of 14 for this parallel run (total 14)...\n",
      "Building estimator 7 of 14 for this parallel run (total 14)...\n",
      "Building estimator 8 of 14 for this parallel run (total 14)...\n",
      "Building estimator 9 of 14 for this parallel run (total 14)...\n",
      "Building estimator 10 of 14 for this parallel run (total 14)...\n",
      "Building estimator 11 of 14 for this parallel run (total 14)...\n",
      "Building estimator 12 of 14 for this parallel run (total 14)...\n",
      "Building estimator 13 of 14 for this parallel run (total 14)...\n",
      "Building estimator 14 of 14 for this parallel run (total 14)...\n",
      "Building estimator 1 of 14 for this parallel run (total 14)...\n",
      "Building estimator 2 of 14 for this parallel run (total 14)...\n",
      "Building estimator 3 of 14 for this parallel run (total 14)...\n",
      "Building estimator 4 of 14 for this parallel run (total 14)...\n",
      "Building estimator 5 of 14 for this parallel run (total 14)...\n",
      "Building estimator 6 of 14 for this parallel run (total 14)...\n",
      "Building estimator 7 of 14 for this parallel run (total 14)...\n",
      "Building estimator 8 of 14 for this parallel run (total 14)...\n",
      "Building estimator 9 of 14 for this parallel run (total 14)...\n",
      "Building estimator 10 of 14 for this parallel run (total 14)...\n",
      "Building estimator 11 of 14 for this parallel run (total 14)...\n",
      "Building estimator 12 of 14 for this parallel run (total 14)...\n",
      "Building estimator 13 of 14 for this parallel run (total 14)...\n",
      "Building estimator 14 of 14 for this parallel run (total 14)...\n",
      "Building estimator 1 of 14 for this parallel run (total 14)...\n",
      "Building estimator 2 of 14 for this parallel run (total 14)...\n",
      "Building estimator 3 of 14 for this parallel run (total 14)...\n",
      "Building estimator 4 of 14 for this parallel run (total 14)...\n",
      "Building estimator 5 of 14 for this parallel run (total 14)...\n",
      "Building estimator 6 of 14 for this parallel run (total 14)...\n",
      "Building estimator 7 of 14 for this parallel run (total 14)...\n",
      "Building estimator 8 of 14 for this parallel run (total 14)...\n",
      "Building estimator 9 of 14 for this parallel run (total 14)...\n",
      "Building estimator 10 of 14 for this parallel run (total 14)...\n",
      "Building estimator 11 of 14 for this parallel run (total 14)...\n",
      "Building estimator 12 of 14 for this parallel run (total 14)...\n",
      "Building estimator 13 of 14 for this parallel run (total 14)...\n",
      "Building estimator 14 of 14 for this parallel run (total 14)...\n"
     ]
    },
    {
     "name": "stderr",
     "output_type": "stream",
     "text": [
      "[Parallel(n_jobs=1)]: Done   1 out of   1 | elapsed:    0.0s remaining:    0.0s\n",
      "[Parallel(n_jobs=1)]: Done   1 out of   1 | elapsed:    0.0s finished\n",
      "[Parallel(n_jobs=1)]: Using backend SequentialBackend with 1 concurrent workers.\n",
      "[Parallel(n_jobs=1)]: Done   1 out of   1 | elapsed:    0.0s remaining:    0.0s\n",
      "[Parallel(n_jobs=1)]: Done   1 out of   1 | elapsed:    0.0s finished\n",
      "[Parallel(n_jobs=1)]: Using backend SequentialBackend with 1 concurrent workers.\n",
      "[Parallel(n_jobs=1)]: Done   1 out of   1 | elapsed:    0.0s remaining:    0.0s\n",
      "[Parallel(n_jobs=1)]: Done   1 out of   1 | elapsed:    0.0s finished\n",
      "[Parallel(n_jobs=1)]: Using backend SequentialBackend with 1 concurrent workers.\n",
      "[Parallel(n_jobs=1)]: Done   1 out of   1 | elapsed:    0.0s remaining:    0.0s\n",
      "[Parallel(n_jobs=1)]: Done   1 out of   1 | elapsed:    0.0s finished\n",
      "[Parallel(n_jobs=1)]: Using backend SequentialBackend with 1 concurrent workers.\n",
      "[Parallel(n_jobs=1)]: Done   1 out of   1 | elapsed:    0.0s remaining:    0.0s\n",
      "[Parallel(n_jobs=1)]: Done   1 out of   1 | elapsed:    0.0s finished\n",
      "[Parallel(n_jobs=1)]: Using backend SequentialBackend with 1 concurrent workers.\n",
      "[Parallel(n_jobs=1)]: Done   1 out of   1 | elapsed:    0.0s remaining:    0.0s\n",
      "[Parallel(n_jobs=1)]: Done   1 out of   1 | elapsed:    0.0s finished\n"
     ]
    },
    {
     "name": "stdout",
     "output_type": "stream",
     "text": [
      "Building estimator 1 of 13 for this parallel run (total 13)...\n",
      "Building estimator 2 of 13 for this parallel run (total 13)...\n",
      "Building estimator 3 of 13 for this parallel run (total 13)...\n",
      "Building estimator 4 of 13 for this parallel run (total 13)...\n",
      "Building estimator 5 of 13 for this parallel run (total 13)...\n",
      "Building estimator 6 of 13 for this parallel run (total 13)...\n",
      "Building estimator 7 of 13 for this parallel run (total 13)...\n",
      "Building estimator 8 of 13 for this parallel run (total 13)...\n",
      "Building estimator 9 of 13 for this parallel run (total 13)...\n",
      "Building estimator 10 of 13 for this parallel run (total 13)...\n",
      "Building estimator 11 of 13 for this parallel run (total 13)...\n",
      "Building estimator 12 of 13 for this parallel run (total 13)...\n",
      "Building estimator 13 of 13 for this parallel run (total 13)...\n"
     ]
    },
    {
     "name": "stderr",
     "output_type": "stream",
     "text": [
      "[Parallel(n_jobs=1)]: Using backend SequentialBackend with 1 concurrent workers.\n",
      "[Parallel(n_jobs=1)]: Done   1 out of   1 | elapsed:    0.0s remaining:    0.0s\n",
      "[Parallel(n_jobs=1)]: Done   1 out of   1 | elapsed:    0.0s finished\n"
     ]
    },
    {
     "data": {
      "text/plain": [
       "GridSearchCV(cv=5, estimator=BaggingClassifier(),\n",
       "             param_grid={'max_features': array([0.01, 1.01, 2.01, 3.01, 4.01]),\n",
       "                         'max_samples': array([0.01, 1.01, 2.01, 3.01, 4.01]),\n",
       "                         'n_estimators': array([ 7,  8,  9, 10, 11, 12, 13, 14]),\n",
       "                         'verbose': array([1, 2, 3, 4])})"
      ]
     },
     "execution_count": 71,
     "metadata": {},
     "output_type": "execute_result"
    }
   ],
   "source": [
    "from sklearn.ensemble import BaggingClassifier\n",
    "\n",
    "paramBG = {\n",
    "    'n_estimators' : np.arange(7, 15),\n",
    "    'max_samples' : np.arange(0.01, 5),\n",
    "    'max_features' : np.arange(0.01, 5),\n",
    "    'verbose' : np.arange(1, 5)\n",
    "}\n",
    "\n",
    "gridBG = GridSearchCV(BaggingClassifier(), paramBG, cv = 5)\n",
    "gridBG.fit(X_train, y_train)"
   ]
  },
  {
   "cell_type": "code",
   "execution_count": 77,
   "metadata": {
    "colab": {
     "base_uri": "https://localhost:8080/"
    },
    "id": "6gTbuFg-DkHM",
    "outputId": "81eae927-7761-4cef-c31b-d5c30aaf6003"
   },
   "outputs": [
    {
     "data": {
      "text/plain": [
       "0.7060083837913368"
      ]
     },
     "execution_count": 77,
     "metadata": {},
     "output_type": "execute_result"
    }
   ],
   "source": [
    "gridBG.best_score_"
   ]
  },
  {
   "cell_type": "code",
   "execution_count": 78,
   "metadata": {
    "colab": {
     "base_uri": "https://localhost:8080/"
    },
    "id": "7Rs18ZvxDkHM",
    "outputId": "24dc81c5-06a0-4d40-ec05-e654f203f75f"
   },
   "outputs": [
    {
     "data": {
      "text/plain": [
       "{'max_features': 0.01, 'max_samples': 0.01, 'n_estimators': 13, 'verbose': 4}"
      ]
     },
     "execution_count": 78,
     "metadata": {},
     "output_type": "execute_result"
    }
   ],
   "source": [
    "gridBG.best_params_"
   ]
  },
  {
   "cell_type": "code",
   "execution_count": 79,
   "metadata": {
    "colab": {
     "base_uri": "https://localhost:8080/"
    },
    "id": "7rWLd7GbDkHN",
    "outputId": "37701cb6-25be-4bcd-ace3-48085173a230"
   },
   "outputs": [
    {
     "name": "stdout",
     "output_type": "stream",
     "text": [
      "Le temps dexecution est de :0.007361900000205424\n",
      "0.7412587412587412\n"
     ]
    },
    {
     "name": "stderr",
     "output_type": "stream",
     "text": [
      "[Parallel(n_jobs=1)]: Using backend SequentialBackend with 1 concurrent workers.\n",
      "[Parallel(n_jobs=1)]: Done   1 out of   1 | elapsed:    0.0s remaining:    0.0s\n",
      "[Parallel(n_jobs=1)]: Done   1 out of   1 | elapsed:    0.0s finished\n",
      "[Parallel(n_jobs=1)]: Using backend SequentialBackend with 1 concurrent workers.\n",
      "[Parallel(n_jobs=1)]: Done   1 out of   1 | elapsed:    0.0s remaining:    0.0s\n",
      "[Parallel(n_jobs=1)]: Done   1 out of   1 | elapsed:    0.0s finished\n"
     ]
    }
   ],
   "source": [
    "start = timeit.default_timer()\n",
    "\n",
    "modelBG = gridBG.best_estimator_\n",
    "modelBG.score(X_test, y_test)\n",
    "\n",
    "stop = timeit.default_timer()\n",
    "execution_time = stop - start\n",
    "print(\"Le temps dexecution est de :\" +str(execution_time))\n",
    "print(modelBG.score(X_test, y_test))\n"
   ]
  },
  {
   "cell_type": "code",
   "execution_count": 389,
   "metadata": {
    "colab": {
     "base_uri": "https://localhost:8080/"
    },
    "id": "QVgoZO0NCD7M",
    "outputId": "c3a39261-8590-4719-fd5d-696f2e917afb",
    "scrolled": false
   },
   "outputs": [
    {
     "name": "stdout",
     "output_type": "stream",
     "text": [
      "0.7762237762237763\n",
      "[[ 10  27]\n",
      " [  5 101]]\n",
      "              precision    recall  f1-score   support\n",
      "\n",
      "           0       0.67      0.27      0.38        37\n",
      "           1       0.79      0.95      0.86       106\n",
      "\n",
      "    accuracy                           0.78       143\n",
      "   macro avg       0.73      0.61      0.62       143\n",
      "weighted avg       0.76      0.78      0.74       143\n",
      "\n"
     ]
    }
   ],
   "source": [
    "BG = BaggingClassifier(base_estimator =KNeighborsClassifier(algorithm= 'ball_tree',\n",
    " metric = 'euclidean',\n",
    " n_neighbors=  30,\n",
    " weights= 'distance'),\n",
    "n_estimators = 13)\n",
    "BG.fit(X_train, y_train)\n",
    "y_pred_BG = BG.predict(X_test)\n",
    "print(accuracy_score(y_pred_BG, y_test))\n",
    "print(confusion_matrix(y_test, y_pred_BG))\n",
    "print(classification_report(y_test, y_pred_BG))"
   ]
  },
  {
   "cell_type": "markdown",
   "metadata": {
    "id": "9ueLqeRbZ47F"
   },
   "source": [
    "# f- Pour NuSVC"
   ]
  },
  {
   "cell_type": "code",
   "execution_count": 121,
   "metadata": {
    "colab": {
     "base_uri": "https://localhost:8080/"
    },
    "id": "u1at_AWjaWMg",
    "outputId": "0abc083e-84d1-4611-eb24-f73ffab11899"
   },
   "outputs": [
    {
     "data": {
      "text/plain": [
       "GridSearchCV(cv=5, estimator=NuSVC(),\n",
       "             param_grid={'decision_function_shape': ['ovo', 'ovr'],\n",
       "                         'gamma': ['scale', 'auto'],\n",
       "                         'kernel': ['linear', 'poly', 'rbf', 'sigmoid']})"
      ]
     },
     "execution_count": 121,
     "metadata": {},
     "output_type": "execute_result"
    }
   ],
   "source": [
    "from sklearn.svm import NuSVC\n",
    "paramNuSVC = {\n",
    "           'kernel' : ['linear', 'poly','rbf', 'sigmoid'],\n",
    "            'gamma' : ['scale', 'auto'],\n",
    "            'decision_function_shape': ['ovo', 'ovr']\n",
    "           }\n",
    "gridNuSVC = GridSearchCV(NuSVC(), paramNuSVC, cv=5)\n",
    "gridNuSVC.fit(X_train, y_train)"
   ]
  },
  {
   "cell_type": "code",
   "execution_count": 122,
   "metadata": {
    "colab": {
     "base_uri": "https://localhost:8080/"
    },
    "id": "N1C3mw-rdjiN",
    "outputId": "d177df98-0aaf-416d-ee5c-32b7849d084f"
   },
   "outputs": [
    {
     "data": {
      "text/plain": [
       "0.7535320602390934"
      ]
     },
     "execution_count": 122,
     "metadata": {},
     "output_type": "execute_result"
    }
   ],
   "source": [
    "gridNuSVC.best_score_"
   ]
  },
  {
   "cell_type": "code",
   "execution_count": 123,
   "metadata": {
    "colab": {
     "base_uri": "https://localhost:8080/"
    },
    "id": "uCy9T8etdrO_",
    "outputId": "ff2e878e-b80c-4e5f-c0dc-f1ee38228ddc"
   },
   "outputs": [
    {
     "data": {
      "text/plain": [
       "{'decision_function_shape': 'ovo', 'gamma': 'scale', 'kernel': 'rbf'}"
      ]
     },
     "execution_count": 123,
     "metadata": {},
     "output_type": "execute_result"
    }
   ],
   "source": [
    "gridNuSVC.best_params_"
   ]
  },
  {
   "cell_type": "code",
   "execution_count": 124,
   "metadata": {
    "colab": {
     "base_uri": "https://localhost:8080/"
    },
    "id": "b4OiYXCYdzKt",
    "outputId": "5fffca54-af8b-4894-c864-be2305bddcc4"
   },
   "outputs": [
    {
     "name": "stdout",
     "output_type": "stream",
     "text": [
      "Le temps dexecution est de :0.006938700000318931\n",
      "0.7132867132867133\n"
     ]
    }
   ],
   "source": [
    "start = timeit.default_timer()\n",
    "\n",
    "modelNuSVC = gridNuSVC.best_estimator_\n",
    "modelNuSVC.score(X_test, y_test)\n",
    "\n",
    "stop = timeit.default_timer()\n",
    "execution_time = stop - start\n",
    "print(\"Le temps dexecution est de :\" +str(execution_time))\n",
    "print(modelNuSVC.score(X_test, y_test))\n"
   ]
  },
  {
   "cell_type": "code",
   "execution_count": 125,
   "metadata": {
    "colab": {
     "base_uri": "https://localhost:8080/"
    },
    "id": "knoD3a_wNvJG",
    "outputId": "089544c0-30db-4922-afe5-8e4b0d39d17f"
   },
   "outputs": [
    {
     "name": "stdout",
     "output_type": "stream",
     "text": [
      "0.7132867132867133\n",
      "[[12 25]\n",
      " [16 90]]\n",
      "              precision    recall  f1-score   support\n",
      "\n",
      "           0       0.43      0.32      0.37        37\n",
      "           1       0.78      0.85      0.81       106\n",
      "\n",
      "    accuracy                           0.71       143\n",
      "   macro avg       0.61      0.59      0.59       143\n",
      "weighted avg       0.69      0.71      0.70       143\n",
      "\n"
     ]
    }
   ],
   "source": [
    "NuSVC = NuSVC(decision_function_shape ='ovo', gamma= 'scale', kernel= 'rbf')\n",
    "\n",
    "NuSVC.fit(X_train, y_train)\n",
    "y_pred_NuSVC = NuSVC.predict(X_test)\n",
    "print(accuracy_score(y_pred_NuSVC, y_test))\n",
    "print(confusion_matrix(y_test, y_pred_NuSVC))\n",
    "print(classification_report(y_test, y_pred_NuSVC))"
   ]
  },
  {
   "cell_type": "code",
   "execution_count": 155,
   "metadata": {
    "id": "8OAK2IlFrocy"
   },
   "outputs": [],
   "source": []
  },
  {
   "cell_type": "markdown",
   "metadata": {
    "id": "wuEltNcTepcW"
   },
   "source": [
    "# g- Pour XGBClassifier"
   ]
  },
  {
   "cell_type": "code",
   "execution_count": 87,
   "metadata": {
    "colab": {
     "base_uri": "https://localhost:8080/"
    },
    "id": "LYUe9ayzexSb",
    "outputId": "496eb989-5bcd-48c9-c901-c936701f1fce"
   },
   "outputs": [
    {
     "name": "stdout",
     "output_type": "stream",
     "text": [
      "[20:32:22] WARNING: ..\\src\\learner.cc:1061: Starting in XGBoost 1.3.0, the default evaluation metric used with the objective 'binary:logistic' was changed from 'error' to 'logloss'. Explicitly set eval_metric if you'd like to restore the old behavior.\n",
      "[20:32:22] WARNING: ..\\src\\learner.cc:1061: Starting in XGBoost 1.3.0, the default evaluation metric used with the objective 'binary:logistic' was changed from 'error' to 'logloss'. Explicitly set eval_metric if you'd like to restore the old behavior.\n",
      "[20:32:22] WARNING: ..\\src\\learner.cc:1061: Starting in XGBoost 1.3.0, the default evaluation metric used with the objective 'binary:logistic' was changed from 'error' to 'logloss'. Explicitly set eval_metric if you'd like to restore the old behavior.\n",
      "[20:32:23] WARNING: ..\\src\\learner.cc:1061: Starting in XGBoost 1.3.0, the default evaluation metric used with the objective 'binary:logistic' was changed from 'error' to 'logloss'. Explicitly set eval_metric if you'd like to restore the old behavior.\n",
      "[20:32:23] WARNING: ..\\src\\learner.cc:1061: Starting in XGBoost 1.3.0, the default evaluation metric used with the objective 'binary:logistic' was changed from 'error' to 'logloss'. Explicitly set eval_metric if you'd like to restore the old behavior.\n",
      "[20:32:23] WARNING: ..\\src\\learner.cc:1061: Starting in XGBoost 1.3.0, the default evaluation metric used with the objective 'binary:logistic' was changed from 'error' to 'logloss'. Explicitly set eval_metric if you'd like to restore the old behavior.\n",
      "[20:32:23] WARNING: ..\\src\\learner.cc:1061: Starting in XGBoost 1.3.0, the default evaluation metric used with the objective 'binary:logistic' was changed from 'error' to 'logloss'. Explicitly set eval_metric if you'd like to restore the old behavior.\n",
      "[20:32:23] WARNING: ..\\src\\learner.cc:1061: Starting in XGBoost 1.3.0, the default evaluation metric used with the objective 'binary:logistic' was changed from 'error' to 'logloss'. Explicitly set eval_metric if you'd like to restore the old behavior.\n",
      "[20:32:24] WARNING: ..\\src\\learner.cc:1061: Starting in XGBoost 1.3.0, the default evaluation metric used with the objective 'binary:logistic' was changed from 'error' to 'logloss'. Explicitly set eval_metric if you'd like to restore the old behavior.\n",
      "[20:32:24] WARNING: ..\\src\\learner.cc:1061: Starting in XGBoost 1.3.0, the default evaluation metric used with the objective 'binary:logistic' was changed from 'error' to 'logloss'. Explicitly set eval_metric if you'd like to restore the old behavior.\n",
      "[20:32:24] WARNING: ..\\src\\learner.cc:1061: Starting in XGBoost 1.3.0, the default evaluation metric used with the objective 'binary:logistic' was changed from 'error' to 'logloss'. Explicitly set eval_metric if you'd like to restore the old behavior.\n",
      "[20:32:24] WARNING: ..\\src\\learner.cc:1061: Starting in XGBoost 1.3.0, the default evaluation metric used with the objective 'binary:logistic' was changed from 'error' to 'logloss'. Explicitly set eval_metric if you'd like to restore the old behavior.\n",
      "[20:32:24] WARNING: ..\\src\\learner.cc:1061: Starting in XGBoost 1.3.0, the default evaluation metric used with the objective 'binary:logistic' was changed from 'error' to 'logloss'. Explicitly set eval_metric if you'd like to restore the old behavior.\n",
      "[20:32:24] WARNING: ..\\src\\learner.cc:1061: Starting in XGBoost 1.3.0, the default evaluation metric used with the objective 'binary:logistic' was changed from 'error' to 'logloss'. Explicitly set eval_metric if you'd like to restore the old behavior.\n",
      "[20:32:25] WARNING: ..\\src\\learner.cc:1061: Starting in XGBoost 1.3.0, the default evaluation metric used with the objective 'binary:logistic' was changed from 'error' to 'logloss'. Explicitly set eval_metric if you'd like to restore the old behavior.\n",
      "[20:32:25] WARNING: ..\\src\\learner.cc:1061: Starting in XGBoost 1.3.0, the default evaluation metric used with the objective 'binary:logistic' was changed from 'error' to 'logloss'. Explicitly set eval_metric if you'd like to restore the old behavior.\n",
      "[20:32:25] WARNING: ..\\src\\learner.cc:1061: Starting in XGBoost 1.3.0, the default evaluation metric used with the objective 'binary:logistic' was changed from 'error' to 'logloss'. Explicitly set eval_metric if you'd like to restore the old behavior.\n",
      "[20:32:25] WARNING: ..\\src\\learner.cc:1061: Starting in XGBoost 1.3.0, the default evaluation metric used with the objective 'binary:logistic' was changed from 'error' to 'logloss'. Explicitly set eval_metric if you'd like to restore the old behavior.\n",
      "[20:32:25] WARNING: ..\\src\\learner.cc:1061: Starting in XGBoost 1.3.0, the default evaluation metric used with the objective 'binary:logistic' was changed from 'error' to 'logloss'. Explicitly set eval_metric if you'd like to restore the old behavior.\n",
      "[20:32:26] WARNING: ..\\src\\learner.cc:1061: Starting in XGBoost 1.3.0, the default evaluation metric used with the objective 'binary:logistic' was changed from 'error' to 'logloss'. Explicitly set eval_metric if you'd like to restore the old behavior.\n",
      "[20:32:26] WARNING: ..\\src\\learner.cc:1061: Starting in XGBoost 1.3.0, the default evaluation metric used with the objective 'binary:logistic' was changed from 'error' to 'logloss'. Explicitly set eval_metric if you'd like to restore the old behavior.\n",
      "[20:32:26] WARNING: ..\\src\\learner.cc:1061: Starting in XGBoost 1.3.0, the default evaluation metric used with the objective 'binary:logistic' was changed from 'error' to 'logloss'. Explicitly set eval_metric if you'd like to restore the old behavior.\n",
      "[20:32:26] WARNING: ..\\src\\learner.cc:1061: Starting in XGBoost 1.3.0, the default evaluation metric used with the objective 'binary:logistic' was changed from 'error' to 'logloss'. Explicitly set eval_metric if you'd like to restore the old behavior.\n",
      "[20:32:26] WARNING: ..\\src\\learner.cc:1061: Starting in XGBoost 1.3.0, the default evaluation metric used with the objective 'binary:logistic' was changed from 'error' to 'logloss'. Explicitly set eval_metric if you'd like to restore the old behavior.\n",
      "[20:32:26] WARNING: ..\\src\\learner.cc:1061: Starting in XGBoost 1.3.0, the default evaluation metric used with the objective 'binary:logistic' was changed from 'error' to 'logloss'. Explicitly set eval_metric if you'd like to restore the old behavior.\n",
      "[20:32:27] WARNING: ..\\src\\learner.cc:1061: Starting in XGBoost 1.3.0, the default evaluation metric used with the objective 'binary:logistic' was changed from 'error' to 'logloss'. Explicitly set eval_metric if you'd like to restore the old behavior.\n",
      "[20:32:27] WARNING: ..\\src\\learner.cc:1061: Starting in XGBoost 1.3.0, the default evaluation metric used with the objective 'binary:logistic' was changed from 'error' to 'logloss'. Explicitly set eval_metric if you'd like to restore the old behavior.\n",
      "[20:32:27] WARNING: ..\\src\\learner.cc:1061: Starting in XGBoost 1.3.0, the default evaluation metric used with the objective 'binary:logistic' was changed from 'error' to 'logloss'. Explicitly set eval_metric if you'd like to restore the old behavior.\n",
      "[20:32:27] WARNING: ..\\src\\learner.cc:1061: Starting in XGBoost 1.3.0, the default evaluation metric used with the objective 'binary:logistic' was changed from 'error' to 'logloss'. Explicitly set eval_metric if you'd like to restore the old behavior.\n",
      "[20:32:27] WARNING: ..\\src\\learner.cc:1061: Starting in XGBoost 1.3.0, the default evaluation metric used with the objective 'binary:logistic' was changed from 'error' to 'logloss'. Explicitly set eval_metric if you'd like to restore the old behavior.\n",
      "[20:32:28] WARNING: ..\\src\\learner.cc:1061: Starting in XGBoost 1.3.0, the default evaluation metric used with the objective 'binary:logistic' was changed from 'error' to 'logloss'. Explicitly set eval_metric if you'd like to restore the old behavior.\n",
      "[20:32:28] WARNING: ..\\src\\learner.cc:1061: Starting in XGBoost 1.3.0, the default evaluation metric used with the objective 'binary:logistic' was changed from 'error' to 'logloss'. Explicitly set eval_metric if you'd like to restore the old behavior.\n",
      "[20:32:28] WARNING: ..\\src\\learner.cc:1061: Starting in XGBoost 1.3.0, the default evaluation metric used with the objective 'binary:logistic' was changed from 'error' to 'logloss'. Explicitly set eval_metric if you'd like to restore the old behavior.\n"
     ]
    },
    {
     "name": "stdout",
     "output_type": "stream",
     "text": [
      "[20:32:28] WARNING: ..\\src\\learner.cc:1061: Starting in XGBoost 1.3.0, the default evaluation metric used with the objective 'binary:logistic' was changed from 'error' to 'logloss'. Explicitly set eval_metric if you'd like to restore the old behavior.\n",
      "[20:32:28] WARNING: ..\\src\\learner.cc:1061: Starting in XGBoost 1.3.0, the default evaluation metric used with the objective 'binary:logistic' was changed from 'error' to 'logloss'. Explicitly set eval_metric if you'd like to restore the old behavior.\n",
      "[20:32:29] WARNING: ..\\src\\learner.cc:1061: Starting in XGBoost 1.3.0, the default evaluation metric used with the objective 'binary:logistic' was changed from 'error' to 'logloss'. Explicitly set eval_metric if you'd like to restore the old behavior.\n",
      "[20:32:29] WARNING: ..\\src\\learner.cc:1061: Starting in XGBoost 1.3.0, the default evaluation metric used with the objective 'binary:logistic' was changed from 'error' to 'logloss'. Explicitly set eval_metric if you'd like to restore the old behavior.\n",
      "[20:32:29] WARNING: ..\\src\\learner.cc:1061: Starting in XGBoost 1.3.0, the default evaluation metric used with the objective 'binary:logistic' was changed from 'error' to 'logloss'. Explicitly set eval_metric if you'd like to restore the old behavior.\n",
      "[20:32:29] WARNING: ..\\src\\learner.cc:1061: Starting in XGBoost 1.3.0, the default evaluation metric used with the objective 'binary:logistic' was changed from 'error' to 'logloss'. Explicitly set eval_metric if you'd like to restore the old behavior.\n",
      "[20:32:29] WARNING: ..\\src\\learner.cc:1061: Starting in XGBoost 1.3.0, the default evaluation metric used with the objective 'binary:logistic' was changed from 'error' to 'logloss'. Explicitly set eval_metric if you'd like to restore the old behavior.\n",
      "[20:32:29] WARNING: ..\\src\\learner.cc:1061: Starting in XGBoost 1.3.0, the default evaluation metric used with the objective 'binary:logistic' was changed from 'error' to 'logloss'. Explicitly set eval_metric if you'd like to restore the old behavior.\n",
      "[20:32:30] WARNING: ..\\src\\learner.cc:1061: Starting in XGBoost 1.3.0, the default evaluation metric used with the objective 'binary:logistic' was changed from 'error' to 'logloss'. Explicitly set eval_metric if you'd like to restore the old behavior.\n",
      "[20:32:30] WARNING: ..\\src\\learner.cc:1061: Starting in XGBoost 1.3.0, the default evaluation metric used with the objective 'binary:logistic' was changed from 'error' to 'logloss'. Explicitly set eval_metric if you'd like to restore the old behavior.\n",
      "[20:32:30] WARNING: ..\\src\\learner.cc:1061: Starting in XGBoost 1.3.0, the default evaluation metric used with the objective 'binary:logistic' was changed from 'error' to 'logloss'. Explicitly set eval_metric if you'd like to restore the old behavior.\n",
      "[20:32:30] WARNING: ..\\src\\learner.cc:1061: Starting in XGBoost 1.3.0, the default evaluation metric used with the objective 'binary:logistic' was changed from 'error' to 'logloss'. Explicitly set eval_metric if you'd like to restore the old behavior.\n",
      "[20:32:30] WARNING: ..\\src\\learner.cc:1061: Starting in XGBoost 1.3.0, the default evaluation metric used with the objective 'binary:logistic' was changed from 'error' to 'logloss'. Explicitly set eval_metric if you'd like to restore the old behavior.\n",
      "[20:32:30] WARNING: ..\\src\\learner.cc:1061: Starting in XGBoost 1.3.0, the default evaluation metric used with the objective 'binary:logistic' was changed from 'error' to 'logloss'. Explicitly set eval_metric if you'd like to restore the old behavior.\n",
      "[20:32:31] WARNING: ..\\src\\learner.cc:1061: Starting in XGBoost 1.3.0, the default evaluation metric used with the objective 'binary:logistic' was changed from 'error' to 'logloss'. Explicitly set eval_metric if you'd like to restore the old behavior.\n",
      "[20:32:31] WARNING: ..\\src\\learner.cc:1061: Starting in XGBoost 1.3.0, the default evaluation metric used with the objective 'binary:logistic' was changed from 'error' to 'logloss'. Explicitly set eval_metric if you'd like to restore the old behavior.\n",
      "[20:32:31] WARNING: ..\\src\\learner.cc:1061: Starting in XGBoost 1.3.0, the default evaluation metric used with the objective 'binary:logistic' was changed from 'error' to 'logloss'. Explicitly set eval_metric if you'd like to restore the old behavior.\n",
      "[20:32:31] WARNING: ..\\src\\learner.cc:1061: Starting in XGBoost 1.3.0, the default evaluation metric used with the objective 'binary:logistic' was changed from 'error' to 'logloss'. Explicitly set eval_metric if you'd like to restore the old behavior.\n",
      "[20:32:31] WARNING: ..\\src\\learner.cc:1061: Starting in XGBoost 1.3.0, the default evaluation metric used with the objective 'binary:logistic' was changed from 'error' to 'logloss'. Explicitly set eval_metric if you'd like to restore the old behavior.\n",
      "[20:32:31] WARNING: ..\\src\\learner.cc:1061: Starting in XGBoost 1.3.0, the default evaluation metric used with the objective 'binary:logistic' was changed from 'error' to 'logloss'. Explicitly set eval_metric if you'd like to restore the old behavior.\n",
      "[20:32:32] WARNING: ..\\src\\learner.cc:1061: Starting in XGBoost 1.3.0, the default evaluation metric used with the objective 'binary:logistic' was changed from 'error' to 'logloss'. Explicitly set eval_metric if you'd like to restore the old behavior.\n",
      "[20:32:32] WARNING: ..\\src\\learner.cc:1061: Starting in XGBoost 1.3.0, the default evaluation metric used with the objective 'binary:logistic' was changed from 'error' to 'logloss'. Explicitly set eval_metric if you'd like to restore the old behavior.\n",
      "[20:32:32] WARNING: ..\\src\\learner.cc:1061: Starting in XGBoost 1.3.0, the default evaluation metric used with the objective 'binary:logistic' was changed from 'error' to 'logloss'. Explicitly set eval_metric if you'd like to restore the old behavior.\n",
      "[20:32:32] WARNING: ..\\src\\learner.cc:1061: Starting in XGBoost 1.3.0, the default evaluation metric used with the objective 'binary:logistic' was changed from 'error' to 'logloss'. Explicitly set eval_metric if you'd like to restore the old behavior.\n",
      "[20:32:32] WARNING: ..\\src\\learner.cc:1061: Starting in XGBoost 1.3.0, the default evaluation metric used with the objective 'binary:logistic' was changed from 'error' to 'logloss'. Explicitly set eval_metric if you'd like to restore the old behavior.\n",
      "[20:32:32] WARNING: ..\\src\\learner.cc:1061: Starting in XGBoost 1.3.0, the default evaluation metric used with the objective 'binary:logistic' was changed from 'error' to 'logloss'. Explicitly set eval_metric if you'd like to restore the old behavior.\n",
      "[20:32:32] WARNING: ..\\src\\learner.cc:1061: Starting in XGBoost 1.3.0, the default evaluation metric used with the objective 'binary:logistic' was changed from 'error' to 'logloss'. Explicitly set eval_metric if you'd like to restore the old behavior.\n",
      "[20:32:32] WARNING: ..\\src\\learner.cc:1061: Starting in XGBoost 1.3.0, the default evaluation metric used with the objective 'binary:logistic' was changed from 'error' to 'logloss'. Explicitly set eval_metric if you'd like to restore the old behavior.\n",
      "[20:32:32] WARNING: ..\\src\\learner.cc:1061: Starting in XGBoost 1.3.0, the default evaluation metric used with the objective 'binary:logistic' was changed from 'error' to 'logloss'. Explicitly set eval_metric if you'd like to restore the old behavior.\n",
      "[20:32:32] WARNING: ..\\src\\learner.cc:1061: Starting in XGBoost 1.3.0, the default evaluation metric used with the objective 'binary:logistic' was changed from 'error' to 'logloss'. Explicitly set eval_metric if you'd like to restore the old behavior.\n",
      "[20:32:32] WARNING: ..\\src\\learner.cc:1061: Starting in XGBoost 1.3.0, the default evaluation metric used with the objective 'binary:logistic' was changed from 'error' to 'logloss'. Explicitly set eval_metric if you'd like to restore the old behavior.\n",
      "[20:32:32] WARNING: ..\\src\\learner.cc:1061: Starting in XGBoost 1.3.0, the default evaluation metric used with the objective 'binary:logistic' was changed from 'error' to 'logloss'. Explicitly set eval_metric if you'd like to restore the old behavior.\n",
      "[20:32:32] WARNING: ..\\src\\learner.cc:1061: Starting in XGBoost 1.3.0, the default evaluation metric used with the objective 'binary:logistic' was changed from 'error' to 'logloss'. Explicitly set eval_metric if you'd like to restore the old behavior.\n",
      "[20:32:32] WARNING: ..\\src\\learner.cc:1061: Starting in XGBoost 1.3.0, the default evaluation metric used with the objective 'binary:logistic' was changed from 'error' to 'logloss'. Explicitly set eval_metric if you'd like to restore the old behavior.\n",
      "[20:32:32] WARNING: ..\\src\\learner.cc:1061: Starting in XGBoost 1.3.0, the default evaluation metric used with the objective 'binary:logistic' was changed from 'error' to 'logloss'. Explicitly set eval_metric if you'd like to restore the old behavior.\n"
     ]
    },
    {
     "name": "stdout",
     "output_type": "stream",
     "text": [
      "[20:32:33] WARNING: ..\\src\\learner.cc:1061: Starting in XGBoost 1.3.0, the default evaluation metric used with the objective 'binary:logistic' was changed from 'error' to 'logloss'. Explicitly set eval_metric if you'd like to restore the old behavior.\n",
      "[20:32:33] WARNING: ..\\src\\learner.cc:1061: Starting in XGBoost 1.3.0, the default evaluation metric used with the objective 'binary:logistic' was changed from 'error' to 'logloss'. Explicitly set eval_metric if you'd like to restore the old behavior.\n",
      "[20:32:33] WARNING: ..\\src\\learner.cc:1061: Starting in XGBoost 1.3.0, the default evaluation metric used with the objective 'binary:logistic' was changed from 'error' to 'logloss'. Explicitly set eval_metric if you'd like to restore the old behavior.\n",
      "[20:32:33] WARNING: ..\\src\\learner.cc:1061: Starting in XGBoost 1.3.0, the default evaluation metric used with the objective 'binary:logistic' was changed from 'error' to 'logloss'. Explicitly set eval_metric if you'd like to restore the old behavior.\n",
      "[20:32:33] WARNING: ..\\src\\learner.cc:1061: Starting in XGBoost 1.3.0, the default evaluation metric used with the objective 'binary:logistic' was changed from 'error' to 'logloss'. Explicitly set eval_metric if you'd like to restore the old behavior.\n",
      "[20:32:33] WARNING: ..\\src\\learner.cc:1061: Starting in XGBoost 1.3.0, the default evaluation metric used with the objective 'binary:logistic' was changed from 'error' to 'logloss'. Explicitly set eval_metric if you'd like to restore the old behavior.\n",
      "[20:32:33] WARNING: ..\\src\\learner.cc:1061: Starting in XGBoost 1.3.0, the default evaluation metric used with the objective 'binary:logistic' was changed from 'error' to 'logloss'. Explicitly set eval_metric if you'd like to restore the old behavior.\n",
      "[20:32:33] WARNING: ..\\src\\learner.cc:1061: Starting in XGBoost 1.3.0, the default evaluation metric used with the objective 'binary:logistic' was changed from 'error' to 'logloss'. Explicitly set eval_metric if you'd like to restore the old behavior.\n",
      "[20:32:33] WARNING: ..\\src\\learner.cc:1061: Starting in XGBoost 1.3.0, the default evaluation metric used with the objective 'binary:logistic' was changed from 'error' to 'logloss'. Explicitly set eval_metric if you'd like to restore the old behavior.\n",
      "[20:32:33] WARNING: ..\\src\\learner.cc:1061: Starting in XGBoost 1.3.0, the default evaluation metric used with the objective 'binary:logistic' was changed from 'error' to 'logloss'. Explicitly set eval_metric if you'd like to restore the old behavior.\n",
      "[20:32:33] WARNING: ..\\src\\learner.cc:1061: Starting in XGBoost 1.3.0, the default evaluation metric used with the objective 'binary:logistic' was changed from 'error' to 'logloss'. Explicitly set eval_metric if you'd like to restore the old behavior.\n",
      "[20:32:33] WARNING: ..\\src\\learner.cc:1061: Starting in XGBoost 1.3.0, the default evaluation metric used with the objective 'binary:logistic' was changed from 'error' to 'logloss'. Explicitly set eval_metric if you'd like to restore the old behavior.\n",
      "[20:32:33] WARNING: ..\\src\\learner.cc:1061: Starting in XGBoost 1.3.0, the default evaluation metric used with the objective 'binary:logistic' was changed from 'error' to 'logloss'. Explicitly set eval_metric if you'd like to restore the old behavior.\n",
      "[20:32:33] WARNING: ..\\src\\learner.cc:1061: Starting in XGBoost 1.3.0, the default evaluation metric used with the objective 'binary:logistic' was changed from 'error' to 'logloss'. Explicitly set eval_metric if you'd like to restore the old behavior.\n",
      "[20:32:33] WARNING: ..\\src\\learner.cc:1061: Starting in XGBoost 1.3.0, the default evaluation metric used with the objective 'binary:logistic' was changed from 'error' to 'logloss'. Explicitly set eval_metric if you'd like to restore the old behavior.\n",
      "[20:32:33] WARNING: ..\\src\\learner.cc:1061: Starting in XGBoost 1.3.0, the default evaluation metric used with the objective 'binary:logistic' was changed from 'error' to 'logloss'. Explicitly set eval_metric if you'd like to restore the old behavior.\n",
      "[20:32:33] WARNING: ..\\src\\learner.cc:1061: Starting in XGBoost 1.3.0, the default evaluation metric used with the objective 'binary:logistic' was changed from 'error' to 'logloss'. Explicitly set eval_metric if you'd like to restore the old behavior.\n",
      "[20:32:33] WARNING: ..\\src\\learner.cc:1061: Starting in XGBoost 1.3.0, the default evaluation metric used with the objective 'binary:logistic' was changed from 'error' to 'logloss'. Explicitly set eval_metric if you'd like to restore the old behavior.\n",
      "[20:32:33] WARNING: ..\\src\\learner.cc:1061: Starting in XGBoost 1.3.0, the default evaluation metric used with the objective 'binary:logistic' was changed from 'error' to 'logloss'. Explicitly set eval_metric if you'd like to restore the old behavior.\n",
      "[20:32:33] WARNING: ..\\src\\learner.cc:1061: Starting in XGBoost 1.3.0, the default evaluation metric used with the objective 'binary:logistic' was changed from 'error' to 'logloss'. Explicitly set eval_metric if you'd like to restore the old behavior.\n",
      "[20:32:33] WARNING: ..\\src\\learner.cc:1061: Starting in XGBoost 1.3.0, the default evaluation metric used with the objective 'binary:logistic' was changed from 'error' to 'logloss'. Explicitly set eval_metric if you'd like to restore the old behavior.\n",
      "[20:32:33] WARNING: ..\\src\\learner.cc:1061: Starting in XGBoost 1.3.0, the default evaluation metric used with the objective 'binary:logistic' was changed from 'error' to 'logloss'. Explicitly set eval_metric if you'd like to restore the old behavior.\n",
      "[20:32:34] WARNING: ..\\src\\learner.cc:1061: Starting in XGBoost 1.3.0, the default evaluation metric used with the objective 'binary:logistic' was changed from 'error' to 'logloss'. Explicitly set eval_metric if you'd like to restore the old behavior.\n",
      "[20:32:34] WARNING: ..\\src\\learner.cc:1061: Starting in XGBoost 1.3.0, the default evaluation metric used with the objective 'binary:logistic' was changed from 'error' to 'logloss'. Explicitly set eval_metric if you'd like to restore the old behavior.\n",
      "[20:32:34] WARNING: ..\\src\\learner.cc:1061: Starting in XGBoost 1.3.0, the default evaluation metric used with the objective 'binary:logistic' was changed from 'error' to 'logloss'. Explicitly set eval_metric if you'd like to restore the old behavior.\n",
      "[20:32:34] WARNING: ..\\src\\learner.cc:1061: Starting in XGBoost 1.3.0, the default evaluation metric used with the objective 'binary:logistic' was changed from 'error' to 'logloss'. Explicitly set eval_metric if you'd like to restore the old behavior.\n",
      "[20:32:34] WARNING: ..\\src\\learner.cc:1061: Starting in XGBoost 1.3.0, the default evaluation metric used with the objective 'binary:logistic' was changed from 'error' to 'logloss'. Explicitly set eval_metric if you'd like to restore the old behavior.\n",
      "[20:32:34] WARNING: ..\\src\\learner.cc:1061: Starting in XGBoost 1.3.0, the default evaluation metric used with the objective 'binary:logistic' was changed from 'error' to 'logloss'. Explicitly set eval_metric if you'd like to restore the old behavior.\n",
      "[20:32:34] WARNING: ..\\src\\learner.cc:1061: Starting in XGBoost 1.3.0, the default evaluation metric used with the objective 'binary:logistic' was changed from 'error' to 'logloss'. Explicitly set eval_metric if you'd like to restore the old behavior.\n",
      "[20:32:34] WARNING: ..\\src\\learner.cc:1061: Starting in XGBoost 1.3.0, the default evaluation metric used with the objective 'binary:logistic' was changed from 'error' to 'logloss'. Explicitly set eval_metric if you'd like to restore the old behavior.\n",
      "[20:32:34] WARNING: ..\\src\\learner.cc:1061: Starting in XGBoost 1.3.0, the default evaluation metric used with the objective 'binary:logistic' was changed from 'error' to 'logloss'. Explicitly set eval_metric if you'd like to restore the old behavior.\n",
      "[20:32:34] WARNING: ..\\src\\learner.cc:1061: Starting in XGBoost 1.3.0, the default evaluation metric used with the objective 'binary:logistic' was changed from 'error' to 'logloss'. Explicitly set eval_metric if you'd like to restore the old behavior.\n"
     ]
    },
    {
     "name": "stdout",
     "output_type": "stream",
     "text": [
      "[20:32:34] WARNING: ..\\src\\learner.cc:1061: Starting in XGBoost 1.3.0, the default evaluation metric used with the objective 'binary:logistic' was changed from 'error' to 'logloss'. Explicitly set eval_metric if you'd like to restore the old behavior.\n",
      "[20:32:34] WARNING: ..\\src\\learner.cc:1061: Starting in XGBoost 1.3.0, the default evaluation metric used with the objective 'binary:logistic' was changed from 'error' to 'logloss'. Explicitly set eval_metric if you'd like to restore the old behavior.\n",
      "[20:32:34] WARNING: ..\\src\\learner.cc:1061: Starting in XGBoost 1.3.0, the default evaluation metric used with the objective 'binary:logistic' was changed from 'error' to 'logloss'. Explicitly set eval_metric if you'd like to restore the old behavior.\n",
      "[20:32:34] WARNING: ..\\src\\learner.cc:1061: Starting in XGBoost 1.3.0, the default evaluation metric used with the objective 'binary:logistic' was changed from 'error' to 'logloss'. Explicitly set eval_metric if you'd like to restore the old behavior.\n",
      "[20:32:34] WARNING: ..\\src\\learner.cc:1061: Starting in XGBoost 1.3.0, the default evaluation metric used with the objective 'binary:logistic' was changed from 'error' to 'logloss'. Explicitly set eval_metric if you'd like to restore the old behavior.\n",
      "[20:32:34] WARNING: ..\\src\\learner.cc:1061: Starting in XGBoost 1.3.0, the default evaluation metric used with the objective 'binary:logistic' was changed from 'error' to 'logloss'. Explicitly set eval_metric if you'd like to restore the old behavior.\n",
      "[20:32:34] WARNING: ..\\src\\learner.cc:1061: Starting in XGBoost 1.3.0, the default evaluation metric used with the objective 'binary:logistic' was changed from 'error' to 'logloss'. Explicitly set eval_metric if you'd like to restore the old behavior.\n",
      "[20:32:34] WARNING: ..\\src\\learner.cc:1061: Starting in XGBoost 1.3.0, the default evaluation metric used with the objective 'binary:logistic' was changed from 'error' to 'logloss'. Explicitly set eval_metric if you'd like to restore the old behavior.\n",
      "[20:32:34] WARNING: ..\\src\\learner.cc:1061: Starting in XGBoost 1.3.0, the default evaluation metric used with the objective 'binary:logistic' was changed from 'error' to 'logloss'. Explicitly set eval_metric if you'd like to restore the old behavior.\n",
      "[20:32:34] WARNING: ..\\src\\learner.cc:1061: Starting in XGBoost 1.3.0, the default evaluation metric used with the objective 'binary:logistic' was changed from 'error' to 'logloss'. Explicitly set eval_metric if you'd like to restore the old behavior.\n",
      "[20:32:35] WARNING: ..\\src\\learner.cc:1061: Starting in XGBoost 1.3.0, the default evaluation metric used with the objective 'binary:logistic' was changed from 'error' to 'logloss'. Explicitly set eval_metric if you'd like to restore the old behavior.\n"
     ]
    },
    {
     "data": {
      "text/plain": [
       "GridSearchCV(cv=5,\n",
       "             estimator=XGBClassifier(base_score=None, booster=None,\n",
       "                                     colsample_bylevel=None,\n",
       "                                     colsample_bynode=None,\n",
       "                                     colsample_bytree=None, gamma=None,\n",
       "                                     gpu_id=None, importance_type='gain',\n",
       "                                     interaction_constraints=None,\n",
       "                                     learning_rate=None, max_delta_step=None,\n",
       "                                     max_depth=None, min_child_weight=None,\n",
       "                                     missing=nan, monotone_constraints=None,\n",
       "                                     n_estimators=100, n_jobs=None,\n",
       "                                     num_parallel_tree=None, random_state=None,\n",
       "                                     reg_alpha=None, reg_lambda=None,\n",
       "                                     scale_pos_weight=None, subsample=None,\n",
       "                                     tree_method=None, validate_parameters=None,\n",
       "                                     verbosity=None),\n",
       "             param_grid={'booster': ['gbtree', 'gblinear'],\n",
       "                         'eta': [0.01, 0.02, 0.03, 0.04, 0.05, 0.06, 0.07, 0.08,\n",
       "                                 0.09, 0.1, 0.2]})"
      ]
     },
     "execution_count": 87,
     "metadata": {},
     "output_type": "execute_result"
    }
   ],
   "source": [
    "from xgboost import XGBClassifier\n",
    "\n",
    "paramXGB = { \n",
    "    'booster': ['gbtree','gblinear'],\n",
    "    'eta' : [0.01, 0.02, 0.03, 0.04, 0.05, 0.06, 0.07, 0.08, 0.09, 0.1, 0.2],\n",
    "}\n",
    "gridXGB = GridSearchCV(XGBClassifier(), paramXGB, cv=5)\n",
    "gridXGB.fit(X_train, y_train)"
   ]
  },
  {
   "cell_type": "code",
   "execution_count": 88,
   "metadata": {
    "colab": {
     "base_uri": "https://localhost:8080/"
    },
    "id": "XInyP6qPe-xr",
    "outputId": "db2e3a9f-5cdb-49b2-af25-a582f4a46e4a"
   },
   "outputs": [
    {
     "data": {
      "text/plain": [
       "0.7729234590902034"
      ]
     },
     "execution_count": 88,
     "metadata": {},
     "output_type": "execute_result"
    }
   ],
   "source": [
    "gridXGB.best_score_"
   ]
  },
  {
   "cell_type": "code",
   "execution_count": 89,
   "metadata": {
    "colab": {
     "base_uri": "https://localhost:8080/"
    },
    "id": "e4cnuVVShQg8",
    "outputId": "c49452c0-5356-49fa-882e-e421ce6195d5"
   },
   "outputs": [
    {
     "data": {
      "text/plain": [
       "{'booster': 'gbtree', 'eta': 0.08}"
      ]
     },
     "execution_count": 89,
     "metadata": {},
     "output_type": "execute_result"
    }
   ],
   "source": [
    "gridXGB.best_params_"
   ]
  },
  {
   "cell_type": "code",
   "execution_count": 90,
   "metadata": {
    "colab": {
     "base_uri": "https://localhost:8080/"
    },
    "id": "AsSOfpnThXXN",
    "outputId": "83b237c9-fc0e-479c-8c24-bab1a45bc1d4"
   },
   "outputs": [
    {
     "name": "stdout",
     "output_type": "stream",
     "text": [
      "Le temps dexecution est de :0.0047932000002219866\n",
      "0.7272727272727273\n"
     ]
    }
   ],
   "source": [
    "start = timeit.default_timer()\n",
    "\n",
    "modelXGB = gridXGB.best_estimator_\n",
    "modelXGB.score(X_test, y_test)\n",
    "\n",
    "stop = timeit.default_timer()\n",
    "execution_time = stop - start\n",
    "print(\"Le temps dexecution est de :\" +str(execution_time))\n",
    "print(modelXGB.score(X_test, y_test))\n"
   ]
  },
  {
   "cell_type": "code",
   "execution_count": 92,
   "metadata": {
    "colab": {
     "base_uri": "https://localhost:8080/"
    },
    "id": "qGNAqGz9Cb61",
    "outputId": "b734addb-2bad-4c41-d552-2b0823b7c71d"
   },
   "outputs": [
    {
     "name": "stdout",
     "output_type": "stream",
     "text": [
      "[20:33:32] WARNING: ..\\src\\learner.cc:1061: Starting in XGBoost 1.3.0, the default evaluation metric used with the objective 'binary:logistic' was changed from 'error' to 'logloss'. Explicitly set eval_metric if you'd like to restore the old behavior.\n",
      "0.7342657342657343\n",
      "[[15 22]\n",
      " [16 90]]\n",
      "              precision    recall  f1-score   support\n",
      "\n",
      "           0       0.48      0.41      0.44        37\n",
      "           1       0.80      0.85      0.83       106\n",
      "\n",
      "    accuracy                           0.73       143\n",
      "   macro avg       0.64      0.63      0.63       143\n",
      "weighted avg       0.72      0.73      0.73       143\n",
      "\n"
     ]
    }
   ],
   "source": [
    "XGB = XGBClassifier()\n",
    "\n",
    "XGB.fit(X_train, y_train)\n",
    "y_pred_XGB = XGB.predict(X_test)\n",
    "print(accuracy_score(y_pred_XGB, y_test))\n",
    "print(confusion_matrix(y_test, y_pred_XGB))\n",
    "print(classification_report(y_test, y_pred_XGB))"
   ]
  },
  {
   "cell_type": "markdown",
   "metadata": {
    "id": "HaKSHQ5yh1FO"
   },
   "source": [
    "## h- Pour AdaBoostClassifier"
   ]
  },
  {
   "cell_type": "code",
   "execution_count": null,
   "metadata": {
    "id": "gwPnmOdMTZiJ"
   },
   "outputs": [],
   "source": []
  },
  {
   "cell_type": "code",
   "execution_count": 312,
   "metadata": {
    "colab": {
     "base_uri": "https://localhost:8080/"
    },
    "id": "GxDc3RFSh52U",
    "outputId": "3a3b67e5-dd46-4686-ad68-7b162ef1023c"
   },
   "outputs": [
    {
     "data": {
      "text/plain": [
       "GridSearchCV(cv=5, estimator=AdaBoostClassifier(),\n",
       "             param_grid={'algorithm': ['SAMME', 'SAMME.R'],\n",
       "                         'n_estimators': array([ 85,  86,  87,  88,  89,  90,  91,  92,  93,  94,  95,  96,  97,\n",
       "        98,  99, 100, 101]),\n",
       "                         'random_state': array([1, 2, 3, 4, 5, 6, 7, 8, 9])},\n",
       "             scoring='accuracy')"
      ]
     },
     "execution_count": 312,
     "metadata": {},
     "output_type": "execute_result"
    }
   ],
   "source": [
    "from sklearn.ensemble import AdaBoostClassifier\n",
    "\n",
    "paramAda = { \n",
    "    'n_estimators': np.arange(85, 102),\n",
    "    'algorithm' : ['SAMME', 'SAMME.R'],\n",
    "    'random_state': np.arange(1, 10)\n",
    "}\n",
    "gridAda = GridSearchCV(AdaBoostClassifier(), paramAda, cv=5, scoring=\"accuracy\")\n",
    "gridAda.fit(X_train, y_train)"
   ]
  },
  {
   "cell_type": "code",
   "execution_count": 98,
   "metadata": {
    "colab": {
     "base_uri": "https://localhost:8080/"
    },
    "id": "c0cX2Ui1jxF-",
    "outputId": "9c248c0c-01c5-42d1-dfbe-a7a7425eb2de"
   },
   "outputs": [
    {
     "data": {
      "text/plain": [
       "0.744822232572582"
      ]
     },
     "execution_count": 98,
     "metadata": {},
     "output_type": "execute_result"
    }
   ],
   "source": [
    "gridAda.best_score_"
   ]
  },
  {
   "cell_type": "code",
   "execution_count": 99,
   "metadata": {
    "colab": {
     "base_uri": "https://localhost:8080/"
    },
    "id": "pnrauq7Uj6Ko",
    "outputId": "bc2291b7-15e1-43c7-95a8-427ec0169810"
   },
   "outputs": [
    {
     "data": {
      "text/plain": [
       "{'algorithm': 'SAMME', 'n_estimators': 57, 'random_state': 1}"
      ]
     },
     "execution_count": 99,
     "metadata": {},
     "output_type": "execute_result"
    }
   ],
   "source": [
    "gridAda.best_params_"
   ]
  },
  {
   "cell_type": "code",
   "execution_count": 100,
   "metadata": {
    "colab": {
     "base_uri": "https://localhost:8080/"
    },
    "id": "ro8Nyy5ikBmG",
    "outputId": "16d694b1-bcd8-402d-c4f4-9bc28b0ea348"
   },
   "outputs": [
    {
     "name": "stdout",
     "output_type": "stream",
     "text": [
      "Le temps dexecution est de :0.009172199999966324\n",
      "0.6923076923076923\n"
     ]
    }
   ],
   "source": [
    "start = timeit.default_timer()\n",
    "\n",
    "modelAda = gridAda.best_estimator_\n",
    "modelAda.score(X_test, y_test)\n",
    "\n",
    "stop = timeit.default_timer()\n",
    "execution_time = stop - start\n",
    "print(\"Le temps dexecution est de :\" +str(execution_time))\n",
    "print(modelAda.score(X_test, y_test))\n"
   ]
  },
  {
   "cell_type": "code",
   "execution_count": 311,
   "metadata": {
    "colab": {
     "base_uri": "https://localhost:8080/"
    },
    "id": "Iu8uvCY5Les5",
    "outputId": "579c4983-671b-4d30-cec0-7ab386c5ed1e"
   },
   "outputs": [
    {
     "name": "stdout",
     "output_type": "stream",
     "text": [
      "0.7272727272727273\n",
      "[[15 22]\n",
      " [17 89]]\n",
      "              precision    recall  f1-score   support\n",
      "\n",
      "           0       0.47      0.41      0.43        37\n",
      "           1       0.80      0.84      0.82       106\n",
      "\n",
      "    accuracy                           0.73       143\n",
      "   macro avg       0.64      0.62      0.63       143\n",
      "weighted avg       0.72      0.73      0.72       143\n",
      "\n"
     ]
    }
   ],
   "source": [
    "Ada = AdaBoostClassifier()\n",
    "\n",
    "Ada.fit(X_train, y_train)\n",
    "y_pred_Ada = Ada.predict(X_test)\n",
    "print(accuracy_score(y_pred_Ada, y_test))\n",
    "print(confusion_matrix(y_test, y_pred_Ada))\n",
    "print(classification_report(y_test, y_pred_Ada))"
   ]
  },
  {
   "cell_type": "markdown",
   "metadata": {
    "id": "kzSnNd16kgkL"
   },
   "source": [
    "# 5- Comparatif des différents modèles et choix du meilleur modèle"
   ]
  },
  {
   "attachments": {
    "compare-2.PNG": {
     "image/png": "[encoded data removed]"
    }
   },
   "cell_type": "markdown",
   "metadata": {
    "id": "TQ3I5os9DkHN"
   },
   "source": [
    "![compare-2.PNG](attachment:compare-2.PNG)"
   ]
  },
  {
   "cell_type": "code",
   "execution_count": null,
   "metadata": {},
   "outputs": [],
   "source": []
  },
  {
   "cell_type": "markdown",
   "metadata": {},
   "source": [
    "Après la visualisation de ce tableau comparatif, nous pouvons dire que le meilleur modèle est le KNeighborsClassifier car il a un meilleur accuracy score qui est de 0.7622 avec un temps d'exécution qui est de 0.013 secondes"
   ]
  },
  {
   "cell_type": "markdown",
   "metadata": {},
   "source": [
    "# 6- Utilisation des méthodes d'ensemble"
   ]
  },
  {
   "cell_type": "markdown",
   "metadata": {},
   "source": [
    "# a- Voting Classifier"
   ]
  },
  {
   "cell_type": "code",
   "execution_count": 194,
   "metadata": {},
   "outputs": [],
   "source": [
    "from sklearn.ensemble import VotingClassifier"
   ]
  },
  {
   "cell_type": "code",
   "execution_count": 343,
   "metadata": {},
   "outputs": [
    {
     "name": "stdout",
     "output_type": "stream",
     "text": [
      "KNeighborsClassifier 0.7622377622377622\n",
      "RandomForestClassifier 0.7342657342657343\n",
      "SVC 0.7342657342657343\n",
      "VotingClassifier 0.7762237762237763\n"
     ]
    }
   ],
   "source": [
    "model_1 = KNeighborsClassifier(algorithm= 'ball_tree',\n",
    " metric = 'euclidean',\n",
    " n_neighbors=  28,\n",
    " weights= 'distance')\n",
    "\n",
    "model_2 =  RandomForestClassifier(criterion = 'entropy',\n",
    " max_depth = 12,\n",
    " max_features = 'sqrt',\n",
    " n_estimators = 37)\n",
    "\n",
    "model_3 = SVC()\n",
    "model_4 = VotingClassifier([('KNN', model_1),\n",
    "                            ('RandomForest', model_2),\n",
    "                            ('SVC', model_3)],\n",
    "                          voting = 'hard')\n",
    "\n",
    "for model in (model_1, model_2, model_3, model_4):\n",
    "    model.fit(X_train, y_train)\n",
    "    print(model.__class__.__name__, model.score(X_test, y_test))"
   ]
  },
  {
   "cell_type": "markdown",
   "metadata": {},
   "source": [
    "# b- Bagging"
   ]
  },
  {
   "cell_type": "code",
   "execution_count": 381,
   "metadata": {},
   "outputs": [
    {
     "data": {
      "text/plain": [
       "0.7832167832167832"
      ]
     },
     "execution_count": 381,
     "metadata": {},
     "output_type": "execute_result"
    }
   ],
   "source": [
    "model = BaggingClassifier(base_estimator =KNeighborsClassifier(algorithm= 'ball_tree',\n",
    " metric = 'euclidean',\n",
    " n_neighbors=  30,\n",
    " weights= 'distance'),\n",
    "n_estimators = 13)\n",
    "\n",
    "model.fit(X_train, y_train)\n",
    "model.score(X_test, y_test)"
   ]
  },
  {
   "cell_type": "markdown",
   "metadata": {},
   "source": [
    "# c- Stacking"
   ]
  },
  {
   "cell_type": "code",
   "execution_count": 295,
   "metadata": {},
   "outputs": [],
   "source": [
    "from sklearn.ensemble import StackingClassifier"
   ]
  },
  {
   "cell_type": "code",
   "execution_count": 309,
   "metadata": {},
   "outputs": [
    {
     "data": {
      "text/plain": [
       "0.7342657342657343"
      ]
     },
     "execution_count": 309,
     "metadata": {},
     "output_type": "execute_result"
    }
   ],
   "source": [
    "model_4 = StackingClassifier([('KNN', model_1),\n",
    "                            ('RandomForest', model_2),\n",
    "                            ('SVC', model_3)],\n",
    "                          final_estimator = KNeighborsClassifier(algorithm= 'ball_tree',\n",
    " metric = 'euclidean',\n",
    " n_neighbors=  28,\n",
    " weights= 'distance'))\n",
    "\n",
    "model.fit(X_train, y_train)\n",
    "model.score(X_test, y_test)"
   ]
  },
  {
   "cell_type": "code",
   "execution_count": null,
   "metadata": {},
   "outputs": [],
   "source": []
  }
 ],
 "metadata": {
  "colab": {
   "collapsed_sections": [],
   "name": "modèle.ipynb",
   "provenance": []
  },
  "kernelspec": {
   "display_name": "Python 3",
   "language": "python",
   "name": "python3"
  },
  "language_info": {
   "codemirror_mode": {
    "name": "ipython",
    "version": 3
   },
   "file_extension": ".py",
   "mimetype": "text/x-python",
   "name": "python",
   "nbconvert_exporter": "python",
   "pygments_lexer": "ipython3",
   "version": "3.8.5"
  }
 },
 "nbformat": 4,
 "nbformat_minor": 1
}
