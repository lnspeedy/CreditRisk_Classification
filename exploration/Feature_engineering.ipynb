{
 "cells": [
  {
   "cell_type": "markdown",
   "metadata": {},
   "source": [
    "# 1- Importation des librairies et du dataset"
   ]
  },
  {
   "cell_type": "code",
   "execution_count": 41,
   "metadata": {},
   "outputs": [],
   "source": [
    "#importer les librairies\n",
    "import pandas as pd\n",
    "import numpy as np\n",
    "import matplotlib as plt"
   ]
  },
  {
   "cell_type": "markdown",
   "metadata": {},
   "source": [
    "# 2- Importation du dataset train, dictionnaire valeurs manquante, indexation et renommer le dataset"
   ]
  },
  {
   "cell_type": "code",
   "execution_count": 9,
   "metadata": {},
   "outputs": [],
   "source": [
    "#impoter le dataset train en créant un dictionnaire de valeurs manquantes\n",
    "missing_values = [\"n/a\", \"na\", \"--\",\"NaN\",\"nan\",\"N/A\"]\n",
    "train = pd.read_csv('train.csv', na_values = missing_values)\n",
    "#renommer la colonne Unnamed en index\n",
    "train.rename(columns={'Unnamed: 0': 'index'}, inplace =True)\n",
    "#indexer la colonne index\n",
    "train.set_index('index',inplace=True)"
   ]
  },
  {
   "cell_type": "markdown",
   "metadata": {},
   "source": [
    "# 3- Visualisation du head"
   ]
  },
  {
   "cell_type": "code",
   "execution_count": 10,
   "metadata": {},
   "outputs": [
    {
     "data": {
      "text/html": [
       "<div>\n",
       "<style scoped>\n",
       "    .dataframe tbody tr th:only-of-type {\n",
       "        vertical-align: middle;\n",
       "    }\n",
       "\n",
       "    .dataframe tbody tr th {\n",
       "        vertical-align: top;\n",
       "    }\n",
       "\n",
       "    .dataframe thead th {\n",
       "        text-align: right;\n",
       "    }\n",
       "</style>\n",
       "<table border=\"1\" class=\"dataframe\">\n",
       "  <thead>\n",
       "    <tr style=\"text-align: right;\">\n",
       "      <th></th>\n",
       "      <th>checking_status</th>\n",
       "      <th>duration</th>\n",
       "      <th>credit_history</th>\n",
       "      <th>purpose</th>\n",
       "      <th>credit_amount</th>\n",
       "      <th>savings_status</th>\n",
       "      <th>employment</th>\n",
       "      <th>installment_commitment</th>\n",
       "      <th>sex</th>\n",
       "      <th>status_matrimonial</th>\n",
       "      <th>...</th>\n",
       "      <th>property_magnitude</th>\n",
       "      <th>age</th>\n",
       "      <th>other_payment_plans</th>\n",
       "      <th>housing</th>\n",
       "      <th>existing_credits</th>\n",
       "      <th>job</th>\n",
       "      <th>num_dependents</th>\n",
       "      <th>own_telephone</th>\n",
       "      <th>foreign_worker</th>\n",
       "      <th>class</th>\n",
       "    </tr>\n",
       "    <tr>\n",
       "      <th>index</th>\n",
       "      <th></th>\n",
       "      <th></th>\n",
       "      <th></th>\n",
       "      <th></th>\n",
       "      <th></th>\n",
       "      <th></th>\n",
       "      <th></th>\n",
       "      <th></th>\n",
       "      <th></th>\n",
       "      <th></th>\n",
       "      <th></th>\n",
       "      <th></th>\n",
       "      <th></th>\n",
       "      <th></th>\n",
       "      <th></th>\n",
       "      <th></th>\n",
       "      <th></th>\n",
       "      <th></th>\n",
       "      <th></th>\n",
       "      <th></th>\n",
       "      <th></th>\n",
       "    </tr>\n",
       "  </thead>\n",
       "  <tbody>\n",
       "    <tr>\n",
       "      <th>942</th>\n",
       "      <td>no checking</td>\n",
       "      <td>18</td>\n",
       "      <td>critical/other existing credit</td>\n",
       "      <td>radio/tv</td>\n",
       "      <td>1169</td>\n",
       "      <td>no known savings</td>\n",
       "      <td>1&lt;=X&lt;4</td>\n",
       "      <td>4</td>\n",
       "      <td>male</td>\n",
       "      <td>single</td>\n",
       "      <td>...</td>\n",
       "      <td>life insurance</td>\n",
       "      <td>29</td>\n",
       "      <td>none</td>\n",
       "      <td>own</td>\n",
       "      <td>2</td>\n",
       "      <td>skilled</td>\n",
       "      <td>1</td>\n",
       "      <td>yes</td>\n",
       "      <td>yes</td>\n",
       "      <td>good</td>\n",
       "    </tr>\n",
       "    <tr>\n",
       "      <th>202</th>\n",
       "      <td>no checking</td>\n",
       "      <td>9</td>\n",
       "      <td>existing paid</td>\n",
       "      <td>furniture/equipment</td>\n",
       "      <td>1980</td>\n",
       "      <td>&lt;100</td>\n",
       "      <td>&lt;1</td>\n",
       "      <td>2</td>\n",
       "      <td>female</td>\n",
       "      <td>div/dep/mar</td>\n",
       "      <td>...</td>\n",
       "      <td>car</td>\n",
       "      <td>19</td>\n",
       "      <td>none</td>\n",
       "      <td>rent</td>\n",
       "      <td>2</td>\n",
       "      <td>skilled</td>\n",
       "      <td>1</td>\n",
       "      <td>none</td>\n",
       "      <td>yes</td>\n",
       "      <td>bad</td>\n",
       "    </tr>\n",
       "    <tr>\n",
       "      <th>141</th>\n",
       "      <td>0&lt;=X&lt;200</td>\n",
       "      <td>12</td>\n",
       "      <td>existing paid</td>\n",
       "      <td>furniture/equipment</td>\n",
       "      <td>3017</td>\n",
       "      <td>&lt;100</td>\n",
       "      <td>&lt;1</td>\n",
       "      <td>3</td>\n",
       "      <td>female</td>\n",
       "      <td>div/dep/mar</td>\n",
       "      <td>...</td>\n",
       "      <td>real estate</td>\n",
       "      <td>34</td>\n",
       "      <td>none</td>\n",
       "      <td>rent</td>\n",
       "      <td>1</td>\n",
       "      <td>high qualif/self emp/mgmt</td>\n",
       "      <td>1</td>\n",
       "      <td>none</td>\n",
       "      <td>yes</td>\n",
       "      <td>good</td>\n",
       "    </tr>\n",
       "  </tbody>\n",
       "</table>\n",
       "<p>3 rows × 22 columns</p>\n",
       "</div>"
      ],
      "text/plain": [
       "      checking_status  duration                  credit_history  \\\n",
       "index                                                             \n",
       "942       no checking        18  critical/other existing credit   \n",
       "202       no checking         9                   existing paid   \n",
       "141          0<=X<200        12                   existing paid   \n",
       "\n",
       "                   purpose  credit_amount    savings_status employment  \\\n",
       "index                                                                    \n",
       "942               radio/tv           1169  no known savings     1<=X<4   \n",
       "202    furniture/equipment           1980              <100         <1   \n",
       "141    furniture/equipment           3017              <100         <1   \n",
       "\n",
       "       installment_commitment     sex status_matrimonial  ...  \\\n",
       "index                                                     ...   \n",
       "942                         4    male             single  ...   \n",
       "202                         2  female        div/dep/mar  ...   \n",
       "141                         3  female        div/dep/mar  ...   \n",
       "\n",
       "      property_magnitude  age other_payment_plans  housing existing_credits  \\\n",
       "index                                                                         \n",
       "942       life insurance   29                none      own                2   \n",
       "202                  car   19                none     rent                2   \n",
       "141          real estate   34                none     rent                1   \n",
       "\n",
       "                             job  num_dependents own_telephone  \\\n",
       "index                                                            \n",
       "942                      skilled               1           yes   \n",
       "202                      skilled               1          none   \n",
       "141    high qualif/self emp/mgmt               1          none   \n",
       "\n",
       "       foreign_worker class  \n",
       "index                        \n",
       "942               yes  good  \n",
       "202               yes   bad  \n",
       "141               yes  good  \n",
       "\n",
       "[3 rows x 22 columns]"
      ]
     },
     "execution_count": 10,
     "metadata": {},
     "output_type": "execute_result"
    }
   ],
   "source": [
    "#afficher les 3 premieres lignes du train\n",
    "train.head(3)"
   ]
  },
  {
   "cell_type": "markdown",
   "metadata": {},
   "source": [
    "# 4- Split du dataset en cat et num et affichage des nouveaux dataframes créés\n",
    "\n",
    "Ici, on fait un split à la main des variables catégorielles et numériques. Après avoir obtenu les deux listes cat et num, on fait de ces listes des nouvelles dataframes qu'on utilisera plus tard"
   ]
  },
  {
   "cell_type": "code",
   "execution_count": 11,
   "metadata": {},
   "outputs": [],
   "source": [
    "#liste des variables catégorielles et numériques\n",
    "#création de deux nouveaux dataframe cat et num\n",
    "\n",
    "cat = train[['checking_status','employment','credit_history','purpose','savings_status','sex','status_matrimonial','other_parties','property_magnitude','other_payment_plans','housing','job','own_telephone','foreign_worker','class']]\n",
    "num = train[['duration','credit_amount','installment_commitment','residence_since','age','existing_credits','num_dependents']]"
   ]
  },
  {
   "cell_type": "code",
   "execution_count": 12,
   "metadata": {},
   "outputs": [
    {
     "data": {
      "text/html": [
       "<div>\n",
       "<style scoped>\n",
       "    .dataframe tbody tr th:only-of-type {\n",
       "        vertical-align: middle;\n",
       "    }\n",
       "\n",
       "    .dataframe tbody tr th {\n",
       "        vertical-align: top;\n",
       "    }\n",
       "\n",
       "    .dataframe thead th {\n",
       "        text-align: right;\n",
       "    }\n",
       "</style>\n",
       "<table border=\"1\" class=\"dataframe\">\n",
       "  <thead>\n",
       "    <tr style=\"text-align: right;\">\n",
       "      <th></th>\n",
       "      <th>checking_status</th>\n",
       "      <th>employment</th>\n",
       "      <th>credit_history</th>\n",
       "      <th>purpose</th>\n",
       "      <th>savings_status</th>\n",
       "      <th>sex</th>\n",
       "      <th>status_matrimonial</th>\n",
       "      <th>other_parties</th>\n",
       "      <th>property_magnitude</th>\n",
       "      <th>other_payment_plans</th>\n",
       "      <th>housing</th>\n",
       "      <th>job</th>\n",
       "      <th>own_telephone</th>\n",
       "      <th>foreign_worker</th>\n",
       "      <th>class</th>\n",
       "    </tr>\n",
       "    <tr>\n",
       "      <th>index</th>\n",
       "      <th></th>\n",
       "      <th></th>\n",
       "      <th></th>\n",
       "      <th></th>\n",
       "      <th></th>\n",
       "      <th></th>\n",
       "      <th></th>\n",
       "      <th></th>\n",
       "      <th></th>\n",
       "      <th></th>\n",
       "      <th></th>\n",
       "      <th></th>\n",
       "      <th></th>\n",
       "      <th></th>\n",
       "      <th></th>\n",
       "    </tr>\n",
       "  </thead>\n",
       "  <tbody>\n",
       "    <tr>\n",
       "      <th>942</th>\n",
       "      <td>no checking</td>\n",
       "      <td>1&lt;=X&lt;4</td>\n",
       "      <td>critical/other existing credit</td>\n",
       "      <td>radio/tv</td>\n",
       "      <td>no known savings</td>\n",
       "      <td>male</td>\n",
       "      <td>single</td>\n",
       "      <td>none</td>\n",
       "      <td>life insurance</td>\n",
       "      <td>none</td>\n",
       "      <td>own</td>\n",
       "      <td>skilled</td>\n",
       "      <td>yes</td>\n",
       "      <td>yes</td>\n",
       "      <td>good</td>\n",
       "    </tr>\n",
       "    <tr>\n",
       "      <th>202</th>\n",
       "      <td>no checking</td>\n",
       "      <td>&lt;1</td>\n",
       "      <td>existing paid</td>\n",
       "      <td>furniture/equipment</td>\n",
       "      <td>&lt;100</td>\n",
       "      <td>female</td>\n",
       "      <td>div/dep/mar</td>\n",
       "      <td>co applicant</td>\n",
       "      <td>car</td>\n",
       "      <td>none</td>\n",
       "      <td>rent</td>\n",
       "      <td>skilled</td>\n",
       "      <td>none</td>\n",
       "      <td>yes</td>\n",
       "      <td>bad</td>\n",
       "    </tr>\n",
       "    <tr>\n",
       "      <th>141</th>\n",
       "      <td>0&lt;=X&lt;200</td>\n",
       "      <td>&lt;1</td>\n",
       "      <td>existing paid</td>\n",
       "      <td>furniture/equipment</td>\n",
       "      <td>&lt;100</td>\n",
       "      <td>female</td>\n",
       "      <td>div/dep/mar</td>\n",
       "      <td>none</td>\n",
       "      <td>real estate</td>\n",
       "      <td>none</td>\n",
       "      <td>rent</td>\n",
       "      <td>high qualif/self emp/mgmt</td>\n",
       "      <td>none</td>\n",
       "      <td>yes</td>\n",
       "      <td>good</td>\n",
       "    </tr>\n",
       "    <tr>\n",
       "      <th>66</th>\n",
       "      <td>&lt;0</td>\n",
       "      <td>&gt;=7</td>\n",
       "      <td>existing paid</td>\n",
       "      <td>new car</td>\n",
       "      <td>no known savings</td>\n",
       "      <td>female</td>\n",
       "      <td>div/dep/mar</td>\n",
       "      <td>none</td>\n",
       "      <td>car</td>\n",
       "      <td>bank</td>\n",
       "      <td>own</td>\n",
       "      <td>skilled</td>\n",
       "      <td>none</td>\n",
       "      <td>yes</td>\n",
       "      <td>bad</td>\n",
       "    </tr>\n",
       "    <tr>\n",
       "      <th>370</th>\n",
       "      <td>0&lt;=X&lt;200</td>\n",
       "      <td>&gt;=7</td>\n",
       "      <td>existing paid</td>\n",
       "      <td>business</td>\n",
       "      <td>500&lt;=X&lt;1000</td>\n",
       "      <td>male</td>\n",
       "      <td>mar/wid</td>\n",
       "      <td>none</td>\n",
       "      <td>real estate</td>\n",
       "      <td>none</td>\n",
       "      <td>own</td>\n",
       "      <td>skilled</td>\n",
       "      <td>yes</td>\n",
       "      <td>yes</td>\n",
       "      <td>good</td>\n",
       "    </tr>\n",
       "    <tr>\n",
       "      <th>...</th>\n",
       "      <td>...</td>\n",
       "      <td>...</td>\n",
       "      <td>...</td>\n",
       "      <td>...</td>\n",
       "      <td>...</td>\n",
       "      <td>...</td>\n",
       "      <td>...</td>\n",
       "      <td>...</td>\n",
       "      <td>...</td>\n",
       "      <td>...</td>\n",
       "      <td>...</td>\n",
       "      <td>...</td>\n",
       "      <td>...</td>\n",
       "      <td>...</td>\n",
       "      <td>...</td>\n",
       "    </tr>\n",
       "    <tr>\n",
       "      <th>913</th>\n",
       "      <td>&lt;0</td>\n",
       "      <td>&gt;=7</td>\n",
       "      <td>existing paid</td>\n",
       "      <td>radio/tv</td>\n",
       "      <td>&lt;100</td>\n",
       "      <td>male</td>\n",
       "      <td>single</td>\n",
       "      <td>none</td>\n",
       "      <td>real estate</td>\n",
       "      <td>stores</td>\n",
       "      <td>own</td>\n",
       "      <td>unskilled resident</td>\n",
       "      <td>none</td>\n",
       "      <td>yes</td>\n",
       "      <td>bad</td>\n",
       "    </tr>\n",
       "    <tr>\n",
       "      <th>967</th>\n",
       "      <td>no checking</td>\n",
       "      <td>1&lt;=X&lt;4</td>\n",
       "      <td>existing paid</td>\n",
       "      <td>new car</td>\n",
       "      <td>&lt;100</td>\n",
       "      <td>male</td>\n",
       "      <td>single</td>\n",
       "      <td>none</td>\n",
       "      <td>real estate</td>\n",
       "      <td>none</td>\n",
       "      <td>own</td>\n",
       "      <td>unskilled resident</td>\n",
       "      <td>none</td>\n",
       "      <td>no</td>\n",
       "      <td>good</td>\n",
       "    </tr>\n",
       "    <tr>\n",
       "      <th>894</th>\n",
       "      <td>&lt;0</td>\n",
       "      <td>4&lt;=X&lt;7</td>\n",
       "      <td>critical/other existing credit</td>\n",
       "      <td>used car</td>\n",
       "      <td>&lt;100</td>\n",
       "      <td>male</td>\n",
       "      <td>single</td>\n",
       "      <td>none</td>\n",
       "      <td>car</td>\n",
       "      <td>none</td>\n",
       "      <td>own</td>\n",
       "      <td>skilled</td>\n",
       "      <td>yes</td>\n",
       "      <td>yes</td>\n",
       "      <td>bad</td>\n",
       "    </tr>\n",
       "    <tr>\n",
       "      <th>656</th>\n",
       "      <td>no checking</td>\n",
       "      <td>4&lt;=X&lt;7</td>\n",
       "      <td>existing paid</td>\n",
       "      <td>business</td>\n",
       "      <td>&lt;100</td>\n",
       "      <td>male</td>\n",
       "      <td>single</td>\n",
       "      <td>none</td>\n",
       "      <td>car</td>\n",
       "      <td>none</td>\n",
       "      <td>own</td>\n",
       "      <td>skilled</td>\n",
       "      <td>yes</td>\n",
       "      <td>yes</td>\n",
       "      <td>good</td>\n",
       "    </tr>\n",
       "    <tr>\n",
       "      <th>735</th>\n",
       "      <td>&gt;=200</td>\n",
       "      <td>4&lt;=X&lt;7</td>\n",
       "      <td>existing paid</td>\n",
       "      <td>business</td>\n",
       "      <td>&lt;100</td>\n",
       "      <td>male</td>\n",
       "      <td>single</td>\n",
       "      <td>none</td>\n",
       "      <td>life insurance</td>\n",
       "      <td>none</td>\n",
       "      <td>rent</td>\n",
       "      <td>skilled</td>\n",
       "      <td>yes</td>\n",
       "      <td>yes</td>\n",
       "      <td>good</td>\n",
       "    </tr>\n",
       "  </tbody>\n",
       "</table>\n",
       "<p>800 rows × 15 columns</p>\n",
       "</div>"
      ],
      "text/plain": [
       "      checking_status employment                  credit_history  \\\n",
       "index                                                              \n",
       "942       no checking     1<=X<4  critical/other existing credit   \n",
       "202       no checking         <1                   existing paid   \n",
       "141          0<=X<200         <1                   existing paid   \n",
       "66                 <0        >=7                   existing paid   \n",
       "370          0<=X<200        >=7                   existing paid   \n",
       "...               ...        ...                             ...   \n",
       "913                <0        >=7                   existing paid   \n",
       "967       no checking     1<=X<4                   existing paid   \n",
       "894                <0     4<=X<7  critical/other existing credit   \n",
       "656       no checking     4<=X<7                   existing paid   \n",
       "735             >=200     4<=X<7                   existing paid   \n",
       "\n",
       "                   purpose    savings_status     sex status_matrimonial  \\\n",
       "index                                                                     \n",
       "942               radio/tv  no known savings    male             single   \n",
       "202    furniture/equipment              <100  female        div/dep/mar   \n",
       "141    furniture/equipment              <100  female        div/dep/mar   \n",
       "66                 new car  no known savings  female        div/dep/mar   \n",
       "370               business       500<=X<1000    male            mar/wid   \n",
       "...                    ...               ...     ...                ...   \n",
       "913               radio/tv              <100    male             single   \n",
       "967                new car              <100    male             single   \n",
       "894               used car              <100    male             single   \n",
       "656               business              <100    male             single   \n",
       "735               business              <100    male             single   \n",
       "\n",
       "      other_parties property_magnitude other_payment_plans housing  \\\n",
       "index                                                                \n",
       "942            none     life insurance                none     own   \n",
       "202    co applicant                car                none    rent   \n",
       "141            none        real estate                none    rent   \n",
       "66             none                car                bank     own   \n",
       "370            none        real estate                none     own   \n",
       "...             ...                ...                 ...     ...   \n",
       "913            none        real estate              stores     own   \n",
       "967            none        real estate                none     own   \n",
       "894            none                car                none     own   \n",
       "656            none                car                none     own   \n",
       "735            none     life insurance                none    rent   \n",
       "\n",
       "                             job own_telephone foreign_worker class  \n",
       "index                                                                \n",
       "942                      skilled           yes            yes  good  \n",
       "202                      skilled          none            yes   bad  \n",
       "141    high qualif/self emp/mgmt          none            yes  good  \n",
       "66                       skilled          none            yes   bad  \n",
       "370                      skilled           yes            yes  good  \n",
       "...                          ...           ...            ...   ...  \n",
       "913           unskilled resident          none            yes   bad  \n",
       "967           unskilled resident          none             no  good  \n",
       "894                      skilled           yes            yes   bad  \n",
       "656                      skilled           yes            yes  good  \n",
       "735                      skilled           yes            yes  good  \n",
       "\n",
       "[800 rows x 15 columns]"
      ]
     },
     "execution_count": 12,
     "metadata": {},
     "output_type": "execute_result"
    }
   ],
   "source": [
    "cat"
   ]
  },
  {
   "cell_type": "code",
   "execution_count": 13,
   "metadata": {},
   "outputs": [
    {
     "data": {
      "text/html": [
       "<div>\n",
       "<style scoped>\n",
       "    .dataframe tbody tr th:only-of-type {\n",
       "        vertical-align: middle;\n",
       "    }\n",
       "\n",
       "    .dataframe tbody tr th {\n",
       "        vertical-align: top;\n",
       "    }\n",
       "\n",
       "    .dataframe thead th {\n",
       "        text-align: right;\n",
       "    }\n",
       "</style>\n",
       "<table border=\"1\" class=\"dataframe\">\n",
       "  <thead>\n",
       "    <tr style=\"text-align: right;\">\n",
       "      <th></th>\n",
       "      <th>duration</th>\n",
       "      <th>credit_amount</th>\n",
       "      <th>installment_commitment</th>\n",
       "      <th>residence_since</th>\n",
       "      <th>age</th>\n",
       "      <th>existing_credits</th>\n",
       "      <th>num_dependents</th>\n",
       "    </tr>\n",
       "    <tr>\n",
       "      <th>index</th>\n",
       "      <th></th>\n",
       "      <th></th>\n",
       "      <th></th>\n",
       "      <th></th>\n",
       "      <th></th>\n",
       "      <th></th>\n",
       "      <th></th>\n",
       "    </tr>\n",
       "  </thead>\n",
       "  <tbody>\n",
       "    <tr>\n",
       "      <th>942</th>\n",
       "      <td>18</td>\n",
       "      <td>1169</td>\n",
       "      <td>4</td>\n",
       "      <td>3</td>\n",
       "      <td>29</td>\n",
       "      <td>2</td>\n",
       "      <td>1</td>\n",
       "    </tr>\n",
       "    <tr>\n",
       "      <th>202</th>\n",
       "      <td>9</td>\n",
       "      <td>1980</td>\n",
       "      <td>2</td>\n",
       "      <td>2</td>\n",
       "      <td>19</td>\n",
       "      <td>2</td>\n",
       "      <td>1</td>\n",
       "    </tr>\n",
       "    <tr>\n",
       "      <th>141</th>\n",
       "      <td>12</td>\n",
       "      <td>3017</td>\n",
       "      <td>3</td>\n",
       "      <td>1</td>\n",
       "      <td>34</td>\n",
       "      <td>1</td>\n",
       "      <td>1</td>\n",
       "    </tr>\n",
       "    <tr>\n",
       "      <th>66</th>\n",
       "      <td>24</td>\n",
       "      <td>915</td>\n",
       "      <td>4</td>\n",
       "      <td>2</td>\n",
       "      <td>29</td>\n",
       "      <td>1</td>\n",
       "      <td>1</td>\n",
       "    </tr>\n",
       "    <tr>\n",
       "      <th>370</th>\n",
       "      <td>14</td>\n",
       "      <td>1410</td>\n",
       "      <td>1</td>\n",
       "      <td>2</td>\n",
       "      <td>35</td>\n",
       "      <td>1</td>\n",
       "      <td>1</td>\n",
       "    </tr>\n",
       "    <tr>\n",
       "      <th>...</th>\n",
       "      <td>...</td>\n",
       "      <td>...</td>\n",
       "      <td>...</td>\n",
       "      <td>...</td>\n",
       "      <td>...</td>\n",
       "      <td>...</td>\n",
       "      <td>...</td>\n",
       "    </tr>\n",
       "    <tr>\n",
       "      <th>913</th>\n",
       "      <td>12</td>\n",
       "      <td>709</td>\n",
       "      <td>4</td>\n",
       "      <td>4</td>\n",
       "      <td>57</td>\n",
       "      <td>1</td>\n",
       "      <td>1</td>\n",
       "    </tr>\n",
       "    <tr>\n",
       "      <th>967</th>\n",
       "      <td>10</td>\n",
       "      <td>1546</td>\n",
       "      <td>3</td>\n",
       "      <td>2</td>\n",
       "      <td>31</td>\n",
       "      <td>1</td>\n",
       "      <td>2</td>\n",
       "    </tr>\n",
       "    <tr>\n",
       "      <th>894</th>\n",
       "      <td>36</td>\n",
       "      <td>9629</td>\n",
       "      <td>4</td>\n",
       "      <td>4</td>\n",
       "      <td>24</td>\n",
       "      <td>2</td>\n",
       "      <td>1</td>\n",
       "    </tr>\n",
       "    <tr>\n",
       "      <th>656</th>\n",
       "      <td>12</td>\n",
       "      <td>1542</td>\n",
       "      <td>2</td>\n",
       "      <td>4</td>\n",
       "      <td>36</td>\n",
       "      <td>1</td>\n",
       "      <td>1</td>\n",
       "    </tr>\n",
       "    <tr>\n",
       "      <th>735</th>\n",
       "      <td>15</td>\n",
       "      <td>2687</td>\n",
       "      <td>2</td>\n",
       "      <td>4</td>\n",
       "      <td>26</td>\n",
       "      <td>1</td>\n",
       "      <td>1</td>\n",
       "    </tr>\n",
       "  </tbody>\n",
       "</table>\n",
       "<p>800 rows × 7 columns</p>\n",
       "</div>"
      ],
      "text/plain": [
       "       duration  credit_amount  installment_commitment  residence_since  age  \\\n",
       "index                                                                          \n",
       "942          18           1169                       4                3   29   \n",
       "202           9           1980                       2                2   19   \n",
       "141          12           3017                       3                1   34   \n",
       "66           24            915                       4                2   29   \n",
       "370          14           1410                       1                2   35   \n",
       "...         ...            ...                     ...              ...  ...   \n",
       "913          12            709                       4                4   57   \n",
       "967          10           1546                       3                2   31   \n",
       "894          36           9629                       4                4   24   \n",
       "656          12           1542                       2                4   36   \n",
       "735          15           2687                       2                4   26   \n",
       "\n",
       "       existing_credits  num_dependents  \n",
       "index                                    \n",
       "942                   2               1  \n",
       "202                   2               1  \n",
       "141                   1               1  \n",
       "66                    1               1  \n",
       "370                   1               1  \n",
       "...                 ...             ...  \n",
       "913                   1               1  \n",
       "967                   1               2  \n",
       "894                   2               1  \n",
       "656                   1               1  \n",
       "735                   1               1  \n",
       "\n",
       "[800 rows x 7 columns]"
      ]
     },
     "execution_count": 13,
     "metadata": {},
     "output_type": "execute_result"
    }
   ],
   "source": [
    "num"
   ]
  },
  {
   "cell_type": "markdown",
   "metadata": {},
   "source": [
    "# 5- Visualisation des valeurs manquantes dans cat puis dans num \n",
    "\n",
    "Dans un premier temps nous visualisera s'il y a des valeurs manquantes dans le cat et le num, c'est variables manquantes sont généralement détectées par NaN.\n",
    "\n",
    "Visualisons les"
   ]
  },
  {
   "cell_type": "code",
   "execution_count": 14,
   "metadata": {},
   "outputs": [
    {
     "name": "stdout",
     "output_type": "stream",
     "text": [
      "<class 'pandas.core.frame.DataFrame'>\n",
      "Int64Index: 800 entries, 942 to 735\n",
      "Data columns (total 15 columns):\n",
      " #   Column               Non-Null Count  Dtype \n",
      "---  ------               --------------  ----- \n",
      " 0   checking_status      800 non-null    object\n",
      " 1   employment           800 non-null    object\n",
      " 2   credit_history       800 non-null    object\n",
      " 3   purpose              800 non-null    object\n",
      " 4   savings_status       800 non-null    object\n",
      " 5   sex                  800 non-null    object\n",
      " 6   status_matrimonial   800 non-null    object\n",
      " 7   other_parties        800 non-null    object\n",
      " 8   property_magnitude   800 non-null    object\n",
      " 9   other_payment_plans  800 non-null    object\n",
      " 10  housing              800 non-null    object\n",
      " 11  job                  800 non-null    object\n",
      " 12  own_telephone        800 non-null    object\n",
      " 13  foreign_worker       800 non-null    object\n",
      " 14  class                800 non-null    object\n",
      "dtypes: object(15)\n",
      "memory usage: 100.0+ KB\n"
     ]
    }
   ],
   "source": [
    "cat.info()"
   ]
  },
  {
   "cell_type": "code",
   "execution_count": 15,
   "metadata": {},
   "outputs": [
    {
     "name": "stdout",
     "output_type": "stream",
     "text": [
      "<class 'pandas.core.frame.DataFrame'>\n",
      "Int64Index: 800 entries, 942 to 735\n",
      "Data columns (total 7 columns):\n",
      " #   Column                  Non-Null Count  Dtype\n",
      "---  ------                  --------------  -----\n",
      " 0   duration                800 non-null    int64\n",
      " 1   credit_amount           800 non-null    int64\n",
      " 2   installment_commitment  800 non-null    int64\n",
      " 3   residence_since         800 non-null    int64\n",
      " 4   age                     800 non-null    int64\n",
      " 5   existing_credits        800 non-null    int64\n",
      " 6   num_dependents          800 non-null    int64\n",
      "dtypes: int64(7)\n",
      "memory usage: 50.0 KB\n"
     ]
    }
   ],
   "source": [
    "num.info()"
   ]
  },
  {
   "cell_type": "markdown",
   "metadata": {},
   "source": [
    "<h3>Etant donne que dans notre dataset nous n'avons pas de valeurs manquantes,cela n'empêche pas que nous devons mettre en place une strategie au cas ou on rencontrerait un cas pareil plus tard</h3>"
   ]
  },
  {
   "cell_type": "markdown",
   "metadata": {},
   "source": [
    "# 6- Imputation des variables manquantes numériques\n",
    "\n",
    "Ici on va remplacer les variables manquantes par la mediane de la colonne ou se trouve cette valeur manquante"
   ]
  },
  {
   "cell_type": "code",
   "execution_count": 16,
   "metadata": {},
   "outputs": [
    {
     "name": "stderr",
     "output_type": "stream",
     "text": [
      "C:\\Users\\HP\\anaconda3\\lib\\site-packages\\pandas\\core\\series.py:4517: SettingWithCopyWarning: \n",
      "A value is trying to be set on a copy of a slice from a DataFrame\n",
      "\n",
      "See the caveats in the documentation: https://pandas.pydata.org/pandas-docs/stable/user_guide/indexing.html#returning-a-view-versus-a-copy\n",
      "  return super().fillna(\n"
     ]
    }
   ],
   "source": [
    "#imputation variables numériques\n",
    "\n",
    "num['duration'].fillna((num['duration'].median()), inplace = True)\n",
    "num['credit_amount'].dropna(inplace = True)\n",
    "num['installment_commitment'].fillna((num['installment_commitment'].mean()), inplace = True)\n",
    "num['residence_since'].fillna((num['residence_since'].median()), inplace = True)\n",
    "num['age'].fillna((num['age'].median()), inplace = True)\n",
    "num['existing_credits'].fillna((num['existing_credits'].median()), inplace = True)\n",
    "num['num_dependents'].fillna((num['num_dependents'].median()), inplace = True)\n",
    "\n"
   ]
  },
  {
   "cell_type": "markdown",
   "metadata": {},
   "source": [
    "# 7- Imputation des variables manquantes catégorielles\n",
    "\n",
    "Ici, on va remplacer le variable catégorielle manquante par la variable qui apparait le plus dans la colonne contenant la variable manquante.\n",
    "\n",
    "Les types de variables manquantes prises en compte sont lister dans la bibliothèque créée \"missing_values\" présente dans le 2- "
   ]
  },
  {
   "cell_type": "code",
   "execution_count": 17,
   "metadata": {},
   "outputs": [],
   "source": [
    "#imputation variables catégorielles\n",
    "cat['credit_history'].fillna((cat['credit_history'].mode()), inplace =True)\n",
    "cat['checking_status'].fillna((cat['checking_status'].mode()), inplace =True)\n",
    "cat['employment'].fillna((cat['employment'].mode()), inplace =True)\n",
    "cat['purpose'].fillna((cat['purpose'].mode()), inplace =True)\n",
    "cat['savings_status'].fillna((cat['savings_status'].mode()), inplace =True)\n",
    "cat['sex'].fillna((cat['sex'].mode()), inplace =True)\n",
    "cat['status_matrimonial'].fillna((cat['status_matrimonial'].mode()), inplace =True)\n",
    "cat['other_parties'].fillna((cat['other_parties'].mode()), inplace =True)\n",
    "cat['property_magnitude'].fillna((cat['property_magnitude'].mode()), inplace =True)\n",
    "cat['other_payment_plans'].fillna((cat['other_payment_plans'].mode()), inplace =True)\n",
    "cat['housing'].fillna((cat['housing'].mode()), inplace =True)\n",
    "cat['job'].fillna((cat['job'].mode()), inplace =True)\n",
    "cat['own_telephone'].fillna((cat['own_telephone'].mode()), inplace =True)\n",
    "cat['foreign_worker'].fillna((cat['foreign_worker'].mode()), inplace =True)\n",
    "\n"
   ]
  },
  {
   "cell_type": "markdown",
   "metadata": {},
   "source": [
    "# 8- Détection des valeurs aberrantes(outliers)\n",
    "\n",
    "\n",
    "Pour visualiser les valeurs aberrantes plus facilement, nous allons utiliser les boxplot.\n",
    "Sur les boxplot, les valeurs qui sont tellement eloignées des autres valeurs du même domaine sont appelées valeurs aberrantes.\n",
    "\n",
    "Sans tarder observons ces valeurs aberrantes"
   ]
  },
  {
   "cell_type": "code",
   "execution_count": 18,
   "metadata": {},
   "outputs": [
    {
     "data": {
      "text/plain": [
       "<AxesSubplot:>"
      ]
     },
     "execution_count": 18,
     "metadata": {},
     "output_type": "execute_result"
    },
    {
     "data": {
      "image/png": "[encoded data removed]",
      "text/plain": [
       "<Figure size 432x288 with 1 Axes>"
      ]
     },
     "metadata": {
      "needs_background": "light"
     },
     "output_type": "display_data"
    }
   ],
   "source": [
    "num.boxplot(column='duration')"
   ]
  },
  {
   "cell_type": "code",
   "execution_count": 19,
   "metadata": {},
   "outputs": [
    {
     "data": {
      "text/plain": [
       "<AxesSubplot:>"
      ]
     },
     "execution_count": 19,
     "metadata": {},
     "output_type": "execute_result"
    },
    {
     "data": {
      "image/png": "[encoded data removed]",
      "text/plain": [
       "<Figure size 432x288 with 1 Axes>"
      ]
     },
     "metadata": {
      "needs_background": "light"
     },
     "output_type": "display_data"
    }
   ],
   "source": [
    "num.boxplot(column='credit_amount')"
   ]
  },
  {
   "cell_type": "code",
   "execution_count": 20,
   "metadata": {},
   "outputs": [
    {
     "data": {
      "text/plain": [
       "<AxesSubplot:>"
      ]
     },
     "execution_count": 20,
     "metadata": {},
     "output_type": "execute_result"
    },
    {
     "data": {
      "image/png": "[encoded data removed]",
      "text/plain": [
       "<Figure size 432x288 with 1 Axes>"
      ]
     },
     "metadata": {
      "needs_background": "light"
     },
     "output_type": "display_data"
    }
   ],
   "source": [
    "num.boxplot(column='installment_commitment')"
   ]
  },
  {
   "cell_type": "code",
   "execution_count": 21,
   "metadata": {},
   "outputs": [
    {
     "data": {
      "text/plain": [
       "<AxesSubplot:>"
      ]
     },
     "execution_count": 21,
     "metadata": {},
     "output_type": "execute_result"
    },
    {
     "data": {
      "image/png": "[encoded data removed]",
      "text/plain": [
       "<Figure size 432x288 with 1 Axes>"
      ]
     },
     "metadata": {
      "needs_background": "light"
     },
     "output_type": "display_data"
    }
   ],
   "source": [
    "num.boxplot(column='residence_since')"
   ]
  },
  {
   "cell_type": "code",
   "execution_count": 22,
   "metadata": {},
   "outputs": [
    {
     "data": {
      "text/plain": [
       "<AxesSubplot:>"
      ]
     },
     "execution_count": 22,
     "metadata": {},
     "output_type": "execute_result"
    },
    {
     "data": {
      "image/png": "[encoded data removed]",
      "text/plain": [
       "<Figure size 432x288 with 1 Axes>"
      ]
     },
     "metadata": {
      "needs_background": "light"
     },
     "output_type": "display_data"
    }
   ],
   "source": [
    "num.boxplot(column='age')"
   ]
  },
  {
   "cell_type": "code",
   "execution_count": 23,
   "metadata": {},
   "outputs": [
    {
     "data": {
      "text/plain": [
       "<AxesSubplot:>"
      ]
     },
     "execution_count": 23,
     "metadata": {},
     "output_type": "execute_result"
    },
    {
     "data": {
      "image/png": "[encoded data removed]",
      "text/plain": [
       "<Figure size 432x288 with 1 Axes>"
      ]
     },
     "metadata": {
      "needs_background": "light"
     },
     "output_type": "display_data"
    }
   ],
   "source": [
    "num.boxplot(column='existing_credits')"
   ]
  },
  {
   "cell_type": "code",
   "execution_count": 24,
   "metadata": {},
   "outputs": [
    {
     "data": {
      "text/plain": [
       "<AxesSubplot:>"
      ]
     },
     "execution_count": 24,
     "metadata": {},
     "output_type": "execute_result"
    },
    {
     "data": {
      "image/png": "[encoded data removed]",
      "text/plain": [
       "<Figure size 432x288 with 1 Axes>"
      ]
     },
     "metadata": {
      "needs_background": "light"
     },
     "output_type": "display_data"
    }
   ],
   "source": [
    "num.boxplot(column='num_dependents')"
   ]
  },
  {
   "cell_type": "markdown",
   "metadata": {},
   "source": [
    "<h3> Après la visualisation des valeurs aberrantes de chaques variables numériques, nous devons étudier la necessité de traiter ces valeurs aberrantes </h3>\n",
    "\n",
    "- Nous allons traiter la variable 'age'.\n",
    "\n",
    "- Nous n'allons pas traiter les valeurs éloignées présentées par le boxplot de 'credit_amount'comme aberrantes car il s'agit ici d'une variable très importante et la supprimer ou la remplacer fausserais le modèle lors de l'apprentissage\n",
    "\n",
    "- Nous n'allons pas traiter les valeurs présentées dans existing_credits comme aberrantes car nous n'avons qu'une très petite quantité de valeurs aberrantes présentes donc elles ne pourront pas impacter significativement le modèle\n",
    "\n",
    "- Nous allons traiter les valeurs présentées dans \"duration\" comme aberrante\n",
    "\n",
    "- Les autres variables illustrées dans les boxplot plus haut ne seront pas traitées car elles ne comportent pas de valeurs aberrantes"
   ]
  },
  {
   "cell_type": "markdown",
   "metadata": {},
   "source": [
    "# 9- Traitement des valeurs aberrantes\n",
    "\n",
    "Ici nous allons traiter les valeurs aberrantes de la variable 'age', 'duration', 'credit_amount' en les supprimant grâce à l'écart IQR\n"
   ]
  },
  {
   "cell_type": "code",
   "execution_count": 27,
   "metadata": {},
   "outputs": [],
   "source": [
    "#On supprime les valeurs aberrantes pour la colonne âge\n",
    "\n",
    "#On calcule Q1\n",
    "\n",
    "q1=num[\"age\"].quantile(q=0.25)\n",
    "\n",
    "#On calcule Q3\n",
    "\n",
    "q3=num[\"age\"].quantile(q=0.75)\n",
    "\n",
    "#On calcule l'écart interquartile (IQR)\n",
    "\n",
    "IQR=q3-q1\n",
    "\n",
    "#On calcule la borne inférieure à l'aide du Q1 et de l'écart interquartile\n",
    "\n",
    "borne_inf = q1-1.5*IQR\n",
    "\n",
    "#On calcule la borne supérieure à l'aide du Q3 et de l'écart interquartile\n",
    "\n",
    "borne_sup = q3 +1.5*IQR\n",
    "\n",
    "#On garde les valeurs à l'intérieur de la borne inférieure et supérieure\n",
    "\n",
    "num= num[num[\"age\"]<borne_sup]\n",
    "num=num[num[\"age\"]>borne_inf]"
   ]
  },
  {
   "cell_type": "code",
   "execution_count": 28,
   "metadata": {},
   "outputs": [
    {
     "data": {
      "text/plain": [
       "<AxesSubplot:>"
      ]
     },
     "execution_count": 28,
     "metadata": {},
     "output_type": "execute_result"
    },
    {
     "data": {
      "image/png": "[encoded data removed]",
      "text/plain": [
       "<Figure size 432x288 with 1 Axes>"
      ]
     },
     "metadata": {
      "needs_background": "light"
     },
     "output_type": "display_data"
    }
   ],
   "source": [
    "num.boxplot(column='age')"
   ]
  },
  {
   "cell_type": "code",
   "execution_count": 29,
   "metadata": {},
   "outputs": [],
   "source": [
    "#On supprime les valeurs aberrantes pour la colonne duration\n",
    "\n",
    "#On calcule Q1\n",
    "\n",
    "q1=num[\"duration\"].quantile(q=0.25)\n",
    "\n",
    "#On calcule Q3\n",
    "\n",
    "q3=num[\"duration\"].quantile(q=0.75)\n",
    "\n",
    "#On calcule l'écart interquartile (IQR)\n",
    "\n",
    "IQR=q3-q1\n",
    "\n",
    "#On calcule la borne inférieure à l'aide du Q1 et de l'écart interquartile\n",
    "\n",
    "borne_inf = q1-1.5*IQR\n",
    "\n",
    "#On calcule la borne supérieure à l'aide du Q3 et de l'écart interquartile\n",
    "\n",
    "borne_sup = q3 +1.5*IQR\n",
    "\n",
    "#On garde les valeurs à l'intérieur de la borne inférieure et supérieure\n",
    "\n",
    "num= num[num[\"duration\"]<borne_sup]\n",
    "num=num[num[\"duration\"]>borne_inf]"
   ]
  },
  {
   "cell_type": "code",
   "execution_count": 30,
   "metadata": {},
   "outputs": [
    {
     "data": {
      "text/plain": [
       "<AxesSubplot:>"
      ]
     },
     "execution_count": 30,
     "metadata": {},
     "output_type": "execute_result"
    },
    {
     "data": {
      "image/png": "[encoded data removed]",
      "text/plain": [
       "<Figure size 432x288 with 1 Axes>"
      ]
     },
     "metadata": {
      "needs_background": "light"
     },
     "output_type": "display_data"
    }
   ],
   "source": [
    "num.boxplot(column='duration')"
   ]
  },
  {
   "cell_type": "code",
   "execution_count": 31,
   "metadata": {},
   "outputs": [
    {
     "data": {
      "text/plain": [
       "(702, 7)"
      ]
     },
     "execution_count": 31,
     "metadata": {},
     "output_type": "execute_result"
    }
   ],
   "source": [
    "num.shape"
   ]
  },
  {
   "cell_type": "markdown",
   "metadata": {},
   "source": [
    "<h3>\n",
    "    Après avoir supprimé les valeurs aberrantes numériques, nous nous rendons compte que notre dataset a diminué en valeurs, il est quitté de 800 lignes à 702 lignes. Et ainsi nous pouvons passer à l'étape suivante qui consiste à mettre les variables numériques à la même échelle (normalisation ou standardisation des données)\n",
    "</h3>"
   ]
  },
  {
   "cell_type": "markdown",
   "metadata": {},
   "source": [
    "# 10- Verification de la normalité des données et choix de l'approche\n",
    "\n",
    "\n",
    "Avant de choisir l'une des deux approches, nous devons d'abord vérifier la normalité des données. Car, pour des données suivant une loi normale, on applique la normalisation et au cas contraire c'est la standardisation qui est à utiliser.\n",
    "Pour la vérification, observons les différents histogrammes et analysons pour tirer une conclusion."
   ]
  },
  {
   "cell_type": "code",
   "execution_count": 32,
   "metadata": {},
   "outputs": [
    {
     "name": "stdout",
     "output_type": "stream",
     "text": [
      "<class 'pandas.core.frame.DataFrame'>\n",
      "Int64Index: 702 entries, 942 to 735\n",
      "Data columns (total 7 columns):\n",
      " #   Column                  Non-Null Count  Dtype\n",
      "---  ------                  --------------  -----\n",
      " 0   duration                702 non-null    int64\n",
      " 1   credit_amount           702 non-null    int64\n",
      " 2   installment_commitment  702 non-null    int64\n",
      " 3   residence_since         702 non-null    int64\n",
      " 4   age                     702 non-null    int64\n",
      " 5   existing_credits        702 non-null    int64\n",
      " 6   num_dependents          702 non-null    int64\n",
      "dtypes: int64(7)\n",
      "memory usage: 43.9 KB\n"
     ]
    }
   ],
   "source": [
    "num.info()"
   ]
  },
  {
   "cell_type": "markdown",
   "metadata": {},
   "source": [
    "<h3>Grâce à pandas-profiling nous pouvons visualiser les différents histogrammes pour notre analyse</h3>"
   ]
  },
  {
   "cell_type": "code",
   "execution_count": null,
   "metadata": {},
   "outputs": [],
   "source": [
    "prof = ProfileReport(num)\n",
    "prof.to_file(output_file='rapport_num.html')"
   ]
  },
  {
   "cell_type": "markdown",
   "metadata": {},
   "source": [
    "<h3> Après l'analyse des différents histogrammes, nous pouvons dire que ces variables suivent une loie normale et par conséquent on utilisera la standardisation à la place de la normalisation</h3>"
   ]
  },
  {
   "cell_type": "markdown",
   "metadata": {},
   "source": [
    "# 11- standardisation(score Z) des variables numériques"
   ]
  },
  {
   "cell_type": "code",
   "execution_count": 35,
   "metadata": {},
   "outputs": [],
   "source": [
    "from sklearn.preprocessing import StandardScaler\n",
    "\n",
    "scaler = StandardScaler().fit(num)\n",
    "row = scaler.transform(num)\n",
    "row = pd.DataFrame(row, index=num.index, columns = num.columns)"
   ]
  },
  {
   "cell_type": "code",
   "execution_count": 36,
   "metadata": {},
   "outputs": [
    {
     "data": {
      "text/html": [
       "<div>\n",
       "<style scoped>\n",
       "    .dataframe tbody tr th:only-of-type {\n",
       "        vertical-align: middle;\n",
       "    }\n",
       "\n",
       "    .dataframe tbody tr th {\n",
       "        vertical-align: top;\n",
       "    }\n",
       "\n",
       "    .dataframe thead th {\n",
       "        text-align: right;\n",
       "    }\n",
       "</style>\n",
       "<table border=\"1\" class=\"dataframe\">\n",
       "  <thead>\n",
       "    <tr style=\"text-align: right;\">\n",
       "      <th></th>\n",
       "      <th>duration</th>\n",
       "      <th>credit_amount</th>\n",
       "      <th>installment_commitment</th>\n",
       "      <th>residence_since</th>\n",
       "      <th>age</th>\n",
       "      <th>existing_credits</th>\n",
       "      <th>num_dependents</th>\n",
       "    </tr>\n",
       "    <tr>\n",
       "      <th>index</th>\n",
       "      <th></th>\n",
       "      <th></th>\n",
       "      <th></th>\n",
       "      <th></th>\n",
       "      <th></th>\n",
       "      <th></th>\n",
       "      <th></th>\n",
       "    </tr>\n",
       "  </thead>\n",
       "  <tbody>\n",
       "    <tr>\n",
       "      <th>942</th>\n",
       "      <td>-0.062240</td>\n",
       "      <td>-0.719668</td>\n",
       "      <td>0.916727</td>\n",
       "      <td>0.180853</td>\n",
       "      <td>-0.538934</td>\n",
       "      <td>1.000541</td>\n",
       "      <td>-0.433379</td>\n",
       "    </tr>\n",
       "    <tr>\n",
       "      <th>202</th>\n",
       "      <td>-1.070525</td>\n",
       "      <td>-0.382279</td>\n",
       "      <td>-0.893518</td>\n",
       "      <td>-0.732519</td>\n",
       "      <td>-1.648086</td>\n",
       "      <td>1.000541</td>\n",
       "      <td>-0.433379</td>\n",
       "    </tr>\n",
       "    <tr>\n",
       "      <th>141</th>\n",
       "      <td>-0.734430</td>\n",
       "      <td>0.049129</td>\n",
       "      <td>0.011604</td>\n",
       "      <td>-1.645890</td>\n",
       "      <td>0.015642</td>\n",
       "      <td>-0.720978</td>\n",
       "      <td>-0.433379</td>\n",
       "    </tr>\n",
       "    <tr>\n",
       "      <th>66</th>\n",
       "      <td>0.609950</td>\n",
       "      <td>-0.825336</td>\n",
       "      <td>0.916727</td>\n",
       "      <td>-0.732519</td>\n",
       "      <td>-0.538934</td>\n",
       "      <td>-0.720978</td>\n",
       "      <td>-0.433379</td>\n",
       "    </tr>\n",
       "    <tr>\n",
       "      <th>370</th>\n",
       "      <td>-0.510367</td>\n",
       "      <td>-0.619408</td>\n",
       "      <td>-1.798641</td>\n",
       "      <td>-0.732519</td>\n",
       "      <td>0.126557</td>\n",
       "      <td>-0.720978</td>\n",
       "      <td>-0.433379</td>\n",
       "    </tr>\n",
       "    <tr>\n",
       "      <th>...</th>\n",
       "      <td>...</td>\n",
       "      <td>...</td>\n",
       "      <td>...</td>\n",
       "      <td>...</td>\n",
       "      <td>...</td>\n",
       "      <td>...</td>\n",
       "      <td>...</td>\n",
       "    </tr>\n",
       "    <tr>\n",
       "      <th>913</th>\n",
       "      <td>-0.734430</td>\n",
       "      <td>-0.911035</td>\n",
       "      <td>0.916727</td>\n",
       "      <td>1.094224</td>\n",
       "      <td>2.566692</td>\n",
       "      <td>-0.720978</td>\n",
       "      <td>-0.433379</td>\n",
       "    </tr>\n",
       "    <tr>\n",
       "      <th>967</th>\n",
       "      <td>-0.958494</td>\n",
       "      <td>-0.562830</td>\n",
       "      <td>0.011604</td>\n",
       "      <td>-0.732519</td>\n",
       "      <td>-0.317104</td>\n",
       "      <td>-0.720978</td>\n",
       "      <td>2.307450</td>\n",
       "    </tr>\n",
       "    <tr>\n",
       "      <th>894</th>\n",
       "      <td>1.954331</td>\n",
       "      <td>2.799824</td>\n",
       "      <td>0.916727</td>\n",
       "      <td>1.094224</td>\n",
       "      <td>-1.093510</td>\n",
       "      <td>1.000541</td>\n",
       "      <td>-0.433379</td>\n",
       "    </tr>\n",
       "    <tr>\n",
       "      <th>656</th>\n",
       "      <td>-0.734430</td>\n",
       "      <td>-0.564494</td>\n",
       "      <td>-0.893518</td>\n",
       "      <td>1.094224</td>\n",
       "      <td>0.237472</td>\n",
       "      <td>-0.720978</td>\n",
       "      <td>-0.433379</td>\n",
       "    </tr>\n",
       "    <tr>\n",
       "      <th>735</th>\n",
       "      <td>-0.398335</td>\n",
       "      <td>-0.088156</td>\n",
       "      <td>-0.893518</td>\n",
       "      <td>1.094224</td>\n",
       "      <td>-0.871680</td>\n",
       "      <td>-0.720978</td>\n",
       "      <td>-0.433379</td>\n",
       "    </tr>\n",
       "  </tbody>\n",
       "</table>\n",
       "<p>702 rows × 7 columns</p>\n",
       "</div>"
      ],
      "text/plain": [
       "       duration  credit_amount  installment_commitment  residence_since  \\\n",
       "index                                                                     \n",
       "942   -0.062240      -0.719668                0.916727         0.180853   \n",
       "202   -1.070525      -0.382279               -0.893518        -0.732519   \n",
       "141   -0.734430       0.049129                0.011604        -1.645890   \n",
       "66     0.609950      -0.825336                0.916727        -0.732519   \n",
       "370   -0.510367      -0.619408               -1.798641        -0.732519   \n",
       "...         ...            ...                     ...              ...   \n",
       "913   -0.734430      -0.911035                0.916727         1.094224   \n",
       "967   -0.958494      -0.562830                0.011604        -0.732519   \n",
       "894    1.954331       2.799824                0.916727         1.094224   \n",
       "656   -0.734430      -0.564494               -0.893518         1.094224   \n",
       "735   -0.398335      -0.088156               -0.893518         1.094224   \n",
       "\n",
       "            age  existing_credits  num_dependents  \n",
       "index                                              \n",
       "942   -0.538934          1.000541       -0.433379  \n",
       "202   -1.648086          1.000541       -0.433379  \n",
       "141    0.015642         -0.720978       -0.433379  \n",
       "66    -0.538934         -0.720978       -0.433379  \n",
       "370    0.126557         -0.720978       -0.433379  \n",
       "...         ...               ...             ...  \n",
       "913    2.566692         -0.720978       -0.433379  \n",
       "967   -0.317104         -0.720978        2.307450  \n",
       "894   -1.093510          1.000541       -0.433379  \n",
       "656    0.237472         -0.720978       -0.433379  \n",
       "735   -0.871680         -0.720978       -0.433379  \n",
       "\n",
       "[702 rows x 7 columns]"
      ]
     },
     "execution_count": 36,
     "metadata": {},
     "output_type": "execute_result"
    }
   ],
   "source": [
    "row"
   ]
  },
  {
   "cell_type": "code",
   "execution_count": 37,
   "metadata": {},
   "outputs": [],
   "source": [
    "#nise à jour de num \n",
    "num = row"
   ]
  },
  {
   "cell_type": "code",
   "execution_count": 40,
   "metadata": {},
   "outputs": [
    {
     "data": {
      "text/html": [
       "<div>\n",
       "<style scoped>\n",
       "    .dataframe tbody tr th:only-of-type {\n",
       "        vertical-align: middle;\n",
       "    }\n",
       "\n",
       "    .dataframe tbody tr th {\n",
       "        vertical-align: top;\n",
       "    }\n",
       "\n",
       "    .dataframe thead th {\n",
       "        text-align: right;\n",
       "    }\n",
       "</style>\n",
       "<table border=\"1\" class=\"dataframe\">\n",
       "  <thead>\n",
       "    <tr style=\"text-align: right;\">\n",
       "      <th></th>\n",
       "      <th>duration</th>\n",
       "      <th>credit_amount</th>\n",
       "      <th>installment_commitment</th>\n",
       "      <th>residence_since</th>\n",
       "      <th>age</th>\n",
       "      <th>existing_credits</th>\n",
       "      <th>num_dependents</th>\n",
       "    </tr>\n",
       "    <tr>\n",
       "      <th>index</th>\n",
       "      <th></th>\n",
       "      <th></th>\n",
       "      <th></th>\n",
       "      <th></th>\n",
       "      <th></th>\n",
       "      <th></th>\n",
       "      <th></th>\n",
       "    </tr>\n",
       "  </thead>\n",
       "  <tbody>\n",
       "    <tr>\n",
       "      <th>942</th>\n",
       "      <td>-0.062240</td>\n",
       "      <td>-0.719668</td>\n",
       "      <td>0.916727</td>\n",
       "      <td>0.180853</td>\n",
       "      <td>-0.538934</td>\n",
       "      <td>1.000541</td>\n",
       "      <td>-0.433379</td>\n",
       "    </tr>\n",
       "    <tr>\n",
       "      <th>202</th>\n",
       "      <td>-1.070525</td>\n",
       "      <td>-0.382279</td>\n",
       "      <td>-0.893518</td>\n",
       "      <td>-0.732519</td>\n",
       "      <td>-1.648086</td>\n",
       "      <td>1.000541</td>\n",
       "      <td>-0.433379</td>\n",
       "    </tr>\n",
       "    <tr>\n",
       "      <th>141</th>\n",
       "      <td>-0.734430</td>\n",
       "      <td>0.049129</td>\n",
       "      <td>0.011604</td>\n",
       "      <td>-1.645890</td>\n",
       "      <td>0.015642</td>\n",
       "      <td>-0.720978</td>\n",
       "      <td>-0.433379</td>\n",
       "    </tr>\n",
       "    <tr>\n",
       "      <th>66</th>\n",
       "      <td>0.609950</td>\n",
       "      <td>-0.825336</td>\n",
       "      <td>0.916727</td>\n",
       "      <td>-0.732519</td>\n",
       "      <td>-0.538934</td>\n",
       "      <td>-0.720978</td>\n",
       "      <td>-0.433379</td>\n",
       "    </tr>\n",
       "    <tr>\n",
       "      <th>370</th>\n",
       "      <td>-0.510367</td>\n",
       "      <td>-0.619408</td>\n",
       "      <td>-1.798641</td>\n",
       "      <td>-0.732519</td>\n",
       "      <td>0.126557</td>\n",
       "      <td>-0.720978</td>\n",
       "      <td>-0.433379</td>\n",
       "    </tr>\n",
       "    <tr>\n",
       "      <th>...</th>\n",
       "      <td>...</td>\n",
       "      <td>...</td>\n",
       "      <td>...</td>\n",
       "      <td>...</td>\n",
       "      <td>...</td>\n",
       "      <td>...</td>\n",
       "      <td>...</td>\n",
       "    </tr>\n",
       "    <tr>\n",
       "      <th>913</th>\n",
       "      <td>-0.734430</td>\n",
       "      <td>-0.911035</td>\n",
       "      <td>0.916727</td>\n",
       "      <td>1.094224</td>\n",
       "      <td>2.566692</td>\n",
       "      <td>-0.720978</td>\n",
       "      <td>-0.433379</td>\n",
       "    </tr>\n",
       "    <tr>\n",
       "      <th>967</th>\n",
       "      <td>-0.958494</td>\n",
       "      <td>-0.562830</td>\n",
       "      <td>0.011604</td>\n",
       "      <td>-0.732519</td>\n",
       "      <td>-0.317104</td>\n",
       "      <td>-0.720978</td>\n",
       "      <td>2.307450</td>\n",
       "    </tr>\n",
       "    <tr>\n",
       "      <th>894</th>\n",
       "      <td>1.954331</td>\n",
       "      <td>2.799824</td>\n",
       "      <td>0.916727</td>\n",
       "      <td>1.094224</td>\n",
       "      <td>-1.093510</td>\n",
       "      <td>1.000541</td>\n",
       "      <td>-0.433379</td>\n",
       "    </tr>\n",
       "    <tr>\n",
       "      <th>656</th>\n",
       "      <td>-0.734430</td>\n",
       "      <td>-0.564494</td>\n",
       "      <td>-0.893518</td>\n",
       "      <td>1.094224</td>\n",
       "      <td>0.237472</td>\n",
       "      <td>-0.720978</td>\n",
       "      <td>-0.433379</td>\n",
       "    </tr>\n",
       "    <tr>\n",
       "      <th>735</th>\n",
       "      <td>-0.398335</td>\n",
       "      <td>-0.088156</td>\n",
       "      <td>-0.893518</td>\n",
       "      <td>1.094224</td>\n",
       "      <td>-0.871680</td>\n",
       "      <td>-0.720978</td>\n",
       "      <td>-0.433379</td>\n",
       "    </tr>\n",
       "  </tbody>\n",
       "</table>\n",
       "<p>702 rows × 7 columns</p>\n",
       "</div>"
      ],
      "text/plain": [
       "       duration  credit_amount  installment_commitment  residence_since  \\\n",
       "index                                                                     \n",
       "942   -0.062240      -0.719668                0.916727         0.180853   \n",
       "202   -1.070525      -0.382279               -0.893518        -0.732519   \n",
       "141   -0.734430       0.049129                0.011604        -1.645890   \n",
       "66     0.609950      -0.825336                0.916727        -0.732519   \n",
       "370   -0.510367      -0.619408               -1.798641        -0.732519   \n",
       "...         ...            ...                     ...              ...   \n",
       "913   -0.734430      -0.911035                0.916727         1.094224   \n",
       "967   -0.958494      -0.562830                0.011604        -0.732519   \n",
       "894    1.954331       2.799824                0.916727         1.094224   \n",
       "656   -0.734430      -0.564494               -0.893518         1.094224   \n",
       "735   -0.398335      -0.088156               -0.893518         1.094224   \n",
       "\n",
       "            age  existing_credits  num_dependents  \n",
       "index                                              \n",
       "942   -0.538934          1.000541       -0.433379  \n",
       "202   -1.648086          1.000541       -0.433379  \n",
       "141    0.015642         -0.720978       -0.433379  \n",
       "66    -0.538934         -0.720978       -0.433379  \n",
       "370    0.126557         -0.720978       -0.433379  \n",
       "...         ...               ...             ...  \n",
       "913    2.566692         -0.720978       -0.433379  \n",
       "967   -0.317104         -0.720978        2.307450  \n",
       "894   -1.093510          1.000541       -0.433379  \n",
       "656    0.237472         -0.720978       -0.433379  \n",
       "735   -0.871680         -0.720978       -0.433379  \n",
       "\n",
       "[702 rows x 7 columns]"
      ]
     },
     "execution_count": 40,
     "metadata": {},
     "output_type": "execute_result"
    }
   ],
   "source": [
    "#on affiche le dataframe num\n",
    "num"
   ]
  },
  {
   "cell_type": "raw",
   "metadata": {},
   "source": [
    "<h3> Après avoir fini le traitement des variables numériques, avec le traitement des valeurs manquantes, aberrantes, la normalisation </h3>"
   ]
  }
 ],
 "metadata": {
  "kernelspec": {
   "display_name": "Python 3",
   "language": "python",
   "name": "python3"
  }
 },
 "nbformat": 4,
 "nbformat_minor": 4
}
