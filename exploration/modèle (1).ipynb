{
  "nbformat": 4,
  "nbformat_minor": 0,
  "metadata": {
    "kernelspec": {
      "display_name": "Python 3",
      "language": "python",
      "name": "python3"
    },
    "language_info": {
      "codemirror_mode": {
        "name": "ipython",
        "version": 3
      },
      "file_extension": ".py",
      "mimetype": "text/x-python",
      "name": "python",
      "nbconvert_exporter": "python",
      "pygments_lexer": "ipython3",
      "version": "3.8.5"
    },
    "colab": {
      "name": "modèle.ipynb",
      "provenance": [],
      "collapsed_sections": []
    }
  },
  "cells": [
    {
      "cell_type": "markdown",
      "metadata": {
        "id": "ykBSVDUGDkGp"
      },
      "source": [
        "# 1- Importation des librairies pour tester les différents modèles"
      ]
    },
    {
      "cell_type": "code",
      "metadata": {
        "id": "1A5N_6lXI5i6"
      },
      "source": [
        "pip install lazypredict"
      ],
      "execution_count": null,
      "outputs": []
    },
    {
      "cell_type": "code",
      "metadata": {
        "id": "M1ArjOFnDkGy"
      },
      "source": [
        "import numpy as np\n",
        "import pandas as pd\n",
        "import seaborn as sns\n",
        "from lazypredict.Supervised import LazyClassifier\n",
        "from sklearn.linear_model import LogisticRegression\n",
        "from sklearn.model_selection import train_test_split\n",
        "from sklearn.naive_bayes import GaussianNB, BernoulliNB\n",
        "import sklearn.metrics as metrics\n",
        "from sklearn.metrics import accuracy_score\n",
        "from sklearn.metrics import classification_report, confusion_matrix\n",
        "import matplotlib.pyplot as plt\n",
        "from timeit import timeit\n",
        "import os"
      ],
      "execution_count": 145,
      "outputs": []
    },
    {
      "cell_type": "code",
      "metadata": {
        "id": "P4Zz01fzDkG1"
      },
      "source": [
        "train = pd.read_csv('train_final.csv')"
      ],
      "execution_count": 40,
      "outputs": []
    },
    {
      "cell_type": "code",
      "metadata": {
        "id": "-4zUl7MkDkG2"
      },
      "source": [
        "train.set_index('id', inplace = True)"
      ],
      "execution_count": 41,
      "outputs": []
    },
    {
      "cell_type": "code",
      "metadata": {
        "colab": {
          "base_uri": "https://localhost:8080/",
          "height": 485
        },
        "id": "ZIVHZmMaDkG3",
        "outputId": "eef17265-1c03-4d85-e7b9-d725f6c150ae"
      },
      "source": [
        "train"
      ],
      "execution_count": 42,
      "outputs": [
        {
          "output_type": "execute_result",
          "data": {
            "text/html": [
              "<div>\n",
              "<style scoped>\n",
              "    .dataframe tbody tr th:only-of-type {\n",
              "        vertical-align: middle;\n",
              "    }\n",
              "\n",
              "    .dataframe tbody tr th {\n",
              "        vertical-align: top;\n",
              "    }\n",
              "\n",
              "    .dataframe thead th {\n",
              "        text-align: right;\n",
              "    }\n",
              "</style>\n",
              "<table border=\"1\" class=\"dataframe\">\n",
              "  <thead>\n",
              "    <tr style=\"text-align: right;\">\n",
              "      <th></th>\n",
              "      <th>duration</th>\n",
              "      <th>credit_amount</th>\n",
              "      <th>installment_commitment</th>\n",
              "      <th>residence_since</th>\n",
              "      <th>age</th>\n",
              "      <th>existing_credits</th>\n",
              "      <th>num_dependents</th>\n",
              "      <th>checking_status</th>\n",
              "      <th>employment</th>\n",
              "      <th>savings_status</th>\n",
              "      <th>sex</th>\n",
              "      <th>other_parties</th>\n",
              "      <th>own_telephone</th>\n",
              "      <th>foreign_worker</th>\n",
              "      <th>class</th>\n",
              "      <th>credit_history_all paid</th>\n",
              "      <th>credit_history_critical/other existing credit</th>\n",
              "      <th>credit_history_delayed previously</th>\n",
              "      <th>credit_history_existing paid</th>\n",
              "      <th>credit_history_no credits/all paid</th>\n",
              "      <th>purpose_business</th>\n",
              "      <th>purpose_domestic appliance</th>\n",
              "      <th>purpose_education</th>\n",
              "      <th>purpose_furniture/equipment</th>\n",
              "      <th>purpose_new car</th>\n",
              "      <th>purpose_other</th>\n",
              "      <th>purpose_radio/tv</th>\n",
              "      <th>purpose_repairs</th>\n",
              "      <th>purpose_retraining</th>\n",
              "      <th>purpose_used car</th>\n",
              "      <th>status_matrimonial_div/dep/mar</th>\n",
              "      <th>status_matrimonial_div/sep</th>\n",
              "      <th>status_matrimonial_mar/wid</th>\n",
              "      <th>status_matrimonial_single</th>\n",
              "      <th>property_magnitude_car</th>\n",
              "      <th>property_magnitude_life insurance</th>\n",
              "      <th>property_magnitude_no known property</th>\n",
              "      <th>property_magnitude_real estate</th>\n",
              "      <th>other_payment_plans_bank</th>\n",
              "      <th>other_payment_plans_none</th>\n",
              "      <th>other_payment_plans_stores</th>\n",
              "      <th>housing_for free</th>\n",
              "      <th>housing_own</th>\n",
              "      <th>housing_rent</th>\n",
              "      <th>job_high qualif/self emp/mgmt</th>\n",
              "      <th>job_skilled</th>\n",
              "      <th>job_unemp/unskilled non res</th>\n",
              "      <th>job_unskilled resident</th>\n",
              "    </tr>\n",
              "    <tr>\n",
              "      <th>id</th>\n",
              "      <th></th>\n",
              "      <th></th>\n",
              "      <th></th>\n",
              "      <th></th>\n",
              "      <th></th>\n",
              "      <th></th>\n",
              "      <th></th>\n",
              "      <th></th>\n",
              "      <th></th>\n",
              "      <th></th>\n",
              "      <th></th>\n",
              "      <th></th>\n",
              "      <th></th>\n",
              "      <th></th>\n",
              "      <th></th>\n",
              "      <th></th>\n",
              "      <th></th>\n",
              "      <th></th>\n",
              "      <th></th>\n",
              "      <th></th>\n",
              "      <th></th>\n",
              "      <th></th>\n",
              "      <th></th>\n",
              "      <th></th>\n",
              "      <th></th>\n",
              "      <th></th>\n",
              "      <th></th>\n",
              "      <th></th>\n",
              "      <th></th>\n",
              "      <th></th>\n",
              "      <th></th>\n",
              "      <th></th>\n",
              "      <th></th>\n",
              "      <th></th>\n",
              "      <th></th>\n",
              "      <th></th>\n",
              "      <th></th>\n",
              "      <th></th>\n",
              "      <th></th>\n",
              "      <th></th>\n",
              "      <th></th>\n",
              "      <th></th>\n",
              "      <th></th>\n",
              "      <th></th>\n",
              "      <th></th>\n",
              "      <th></th>\n",
              "      <th></th>\n",
              "      <th></th>\n",
              "    </tr>\n",
              "  </thead>\n",
              "  <tbody>\n",
              "    <tr>\n",
              "      <th>30</th>\n",
              "      <td>0.62</td>\n",
              "      <td>2.01</td>\n",
              "      <td>-1.75</td>\n",
              "      <td>-0.73</td>\n",
              "      <td>-0.44</td>\n",
              "      <td>-0.70</td>\n",
              "      <td>-0.43</td>\n",
              "      <td>1</td>\n",
              "      <td>1</td>\n",
              "      <td>0</td>\n",
              "      <td>0</td>\n",
              "      <td>0</td>\n",
              "      <td>1</td>\n",
              "      <td>0</td>\n",
              "      <td>1</td>\n",
              "      <td>0</td>\n",
              "      <td>0</td>\n",
              "      <td>0</td>\n",
              "      <td>1</td>\n",
              "      <td>0</td>\n",
              "      <td>0</td>\n",
              "      <td>0</td>\n",
              "      <td>0</td>\n",
              "      <td>1</td>\n",
              "      <td>0</td>\n",
              "      <td>0</td>\n",
              "      <td>0</td>\n",
              "      <td>0</td>\n",
              "      <td>0</td>\n",
              "      <td>0</td>\n",
              "      <td>1</td>\n",
              "      <td>0</td>\n",
              "      <td>0</td>\n",
              "      <td>0</td>\n",
              "      <td>0</td>\n",
              "      <td>1</td>\n",
              "      <td>0</td>\n",
              "      <td>0</td>\n",
              "      <td>0</td>\n",
              "      <td>1</td>\n",
              "      <td>0</td>\n",
              "      <td>0</td>\n",
              "      <td>1</td>\n",
              "      <td>0</td>\n",
              "      <td>0</td>\n",
              "      <td>1</td>\n",
              "      <td>0</td>\n",
              "      <td>0</td>\n",
              "    </tr>\n",
              "    <tr>\n",
              "      <th>536</th>\n",
              "      <td>1.99</td>\n",
              "      <td>1.03</td>\n",
              "      <td>0.02</td>\n",
              "      <td>-0.73</td>\n",
              "      <td>-0.64</td>\n",
              "      <td>1.08</td>\n",
              "      <td>-0.43</td>\n",
              "      <td>1</td>\n",
              "      <td>2</td>\n",
              "      <td>1</td>\n",
              "      <td>1</td>\n",
              "      <td>2</td>\n",
              "      <td>0</td>\n",
              "      <td>1</td>\n",
              "      <td>1</td>\n",
              "      <td>0</td>\n",
              "      <td>1</td>\n",
              "      <td>0</td>\n",
              "      <td>0</td>\n",
              "      <td>0</td>\n",
              "      <td>0</td>\n",
              "      <td>0</td>\n",
              "      <td>0</td>\n",
              "      <td>1</td>\n",
              "      <td>0</td>\n",
              "      <td>0</td>\n",
              "      <td>0</td>\n",
              "      <td>0</td>\n",
              "      <td>0</td>\n",
              "      <td>0</td>\n",
              "      <td>0</td>\n",
              "      <td>0</td>\n",
              "      <td>0</td>\n",
              "      <td>1</td>\n",
              "      <td>0</td>\n",
              "      <td>1</td>\n",
              "      <td>0</td>\n",
              "      <td>0</td>\n",
              "      <td>0</td>\n",
              "      <td>1</td>\n",
              "      <td>0</td>\n",
              "      <td>0</td>\n",
              "      <td>1</td>\n",
              "      <td>0</td>\n",
              "      <td>0</td>\n",
              "      <td>1</td>\n",
              "      <td>0</td>\n",
              "      <td>0</td>\n",
              "    </tr>\n",
              "    <tr>\n",
              "      <th>696</th>\n",
              "      <td>-1.31</td>\n",
              "      <td>-0.13</td>\n",
              "      <td>-0.87</td>\n",
              "      <td>-0.73</td>\n",
              "      <td>0.07</td>\n",
              "      <td>-0.70</td>\n",
              "      <td>-0.43</td>\n",
              "      <td>2</td>\n",
              "      <td>2</td>\n",
              "      <td>1</td>\n",
              "      <td>1</td>\n",
              "      <td>2</td>\n",
              "      <td>0</td>\n",
              "      <td>1</td>\n",
              "      <td>1</td>\n",
              "      <td>0</td>\n",
              "      <td>0</td>\n",
              "      <td>0</td>\n",
              "      <td>1</td>\n",
              "      <td>0</td>\n",
              "      <td>0</td>\n",
              "      <td>0</td>\n",
              "      <td>0</td>\n",
              "      <td>0</td>\n",
              "      <td>0</td>\n",
              "      <td>0</td>\n",
              "      <td>1</td>\n",
              "      <td>0</td>\n",
              "      <td>0</td>\n",
              "      <td>0</td>\n",
              "      <td>0</td>\n",
              "      <td>0</td>\n",
              "      <td>0</td>\n",
              "      <td>1</td>\n",
              "      <td>0</td>\n",
              "      <td>0</td>\n",
              "      <td>0</td>\n",
              "      <td>1</td>\n",
              "      <td>0</td>\n",
              "      <td>1</td>\n",
              "      <td>0</td>\n",
              "      <td>0</td>\n",
              "      <td>1</td>\n",
              "      <td>0</td>\n",
              "      <td>0</td>\n",
              "      <td>1</td>\n",
              "      <td>0</td>\n",
              "      <td>0</td>\n",
              "    </tr>\n",
              "    <tr>\n",
              "      <th>558</th>\n",
              "      <td>-0.06</td>\n",
              "      <td>-0.84</td>\n",
              "      <td>0.90</td>\n",
              "      <td>1.11</td>\n",
              "      <td>0.17</td>\n",
              "      <td>-0.70</td>\n",
              "      <td>2.31</td>\n",
              "      <td>2</td>\n",
              "      <td>4</td>\n",
              "      <td>1</td>\n",
              "      <td>1</td>\n",
              "      <td>0</td>\n",
              "      <td>1</td>\n",
              "      <td>1</td>\n",
              "      <td>0</td>\n",
              "      <td>0</td>\n",
              "      <td>1</td>\n",
              "      <td>0</td>\n",
              "      <td>0</td>\n",
              "      <td>0</td>\n",
              "      <td>0</td>\n",
              "      <td>0</td>\n",
              "      <td>0</td>\n",
              "      <td>0</td>\n",
              "      <td>1</td>\n",
              "      <td>0</td>\n",
              "      <td>0</td>\n",
              "      <td>0</td>\n",
              "      <td>0</td>\n",
              "      <td>0</td>\n",
              "      <td>0</td>\n",
              "      <td>0</td>\n",
              "      <td>0</td>\n",
              "      <td>1</td>\n",
              "      <td>1</td>\n",
              "      <td>0</td>\n",
              "      <td>0</td>\n",
              "      <td>0</td>\n",
              "      <td>1</td>\n",
              "      <td>0</td>\n",
              "      <td>0</td>\n",
              "      <td>0</td>\n",
              "      <td>1</td>\n",
              "      <td>0</td>\n",
              "      <td>0</td>\n",
              "      <td>1</td>\n",
              "      <td>0</td>\n",
              "      <td>0</td>\n",
              "    </tr>\n",
              "    <tr>\n",
              "      <th>837</th>\n",
              "      <td>-0.06</td>\n",
              "      <td>-0.46</td>\n",
              "      <td>0.90</td>\n",
              "      <td>-0.73</td>\n",
              "      <td>-1.05</td>\n",
              "      <td>1.08</td>\n",
              "      <td>-0.43</td>\n",
              "      <td>0</td>\n",
              "      <td>2</td>\n",
              "      <td>1</td>\n",
              "      <td>1</td>\n",
              "      <td>0</td>\n",
              "      <td>0</td>\n",
              "      <td>1</td>\n",
              "      <td>1</td>\n",
              "      <td>0</td>\n",
              "      <td>1</td>\n",
              "      <td>0</td>\n",
              "      <td>0</td>\n",
              "      <td>0</td>\n",
              "      <td>0</td>\n",
              "      <td>0</td>\n",
              "      <td>0</td>\n",
              "      <td>0</td>\n",
              "      <td>0</td>\n",
              "      <td>0</td>\n",
              "      <td>1</td>\n",
              "      <td>0</td>\n",
              "      <td>0</td>\n",
              "      <td>0</td>\n",
              "      <td>0</td>\n",
              "      <td>0</td>\n",
              "      <td>0</td>\n",
              "      <td>1</td>\n",
              "      <td>1</td>\n",
              "      <td>0</td>\n",
              "      <td>0</td>\n",
              "      <td>0</td>\n",
              "      <td>0</td>\n",
              "      <td>1</td>\n",
              "      <td>0</td>\n",
              "      <td>0</td>\n",
              "      <td>1</td>\n",
              "      <td>0</td>\n",
              "      <td>0</td>\n",
              "      <td>1</td>\n",
              "      <td>0</td>\n",
              "      <td>0</td>\n",
              "    </tr>\n",
              "    <tr>\n",
              "      <th>...</th>\n",
              "      <td>...</td>\n",
              "      <td>...</td>\n",
              "      <td>...</td>\n",
              "      <td>...</td>\n",
              "      <td>...</td>\n",
              "      <td>...</td>\n",
              "      <td>...</td>\n",
              "      <td>...</td>\n",
              "      <td>...</td>\n",
              "      <td>...</td>\n",
              "      <td>...</td>\n",
              "      <td>...</td>\n",
              "      <td>...</td>\n",
              "      <td>...</td>\n",
              "      <td>...</td>\n",
              "      <td>...</td>\n",
              "      <td>...</td>\n",
              "      <td>...</td>\n",
              "      <td>...</td>\n",
              "      <td>...</td>\n",
              "      <td>...</td>\n",
              "      <td>...</td>\n",
              "      <td>...</td>\n",
              "      <td>...</td>\n",
              "      <td>...</td>\n",
              "      <td>...</td>\n",
              "      <td>...</td>\n",
              "      <td>...</td>\n",
              "      <td>...</td>\n",
              "      <td>...</td>\n",
              "      <td>...</td>\n",
              "      <td>...</td>\n",
              "      <td>...</td>\n",
              "      <td>...</td>\n",
              "      <td>...</td>\n",
              "      <td>...</td>\n",
              "      <td>...</td>\n",
              "      <td>...</td>\n",
              "      <td>...</td>\n",
              "      <td>...</td>\n",
              "      <td>...</td>\n",
              "      <td>...</td>\n",
              "      <td>...</td>\n",
              "      <td>...</td>\n",
              "      <td>...</td>\n",
              "      <td>...</td>\n",
              "      <td>...</td>\n",
              "      <td>...</td>\n",
              "    </tr>\n",
              "    <tr>\n",
              "      <th>107</th>\n",
              "      <td>1.31</td>\n",
              "      <td>-0.20</td>\n",
              "      <td>0.90</td>\n",
              "      <td>1.11</td>\n",
              "      <td>-1.15</td>\n",
              "      <td>-0.70</td>\n",
              "      <td>-0.43</td>\n",
              "      <td>1</td>\n",
              "      <td>3</td>\n",
              "      <td>1</td>\n",
              "      <td>0</td>\n",
              "      <td>0</td>\n",
              "      <td>0</td>\n",
              "      <td>1</td>\n",
              "      <td>0</td>\n",
              "      <td>0</td>\n",
              "      <td>0</td>\n",
              "      <td>0</td>\n",
              "      <td>1</td>\n",
              "      <td>0</td>\n",
              "      <td>0</td>\n",
              "      <td>0</td>\n",
              "      <td>0</td>\n",
              "      <td>1</td>\n",
              "      <td>0</td>\n",
              "      <td>0</td>\n",
              "      <td>0</td>\n",
              "      <td>0</td>\n",
              "      <td>0</td>\n",
              "      <td>0</td>\n",
              "      <td>1</td>\n",
              "      <td>0</td>\n",
              "      <td>0</td>\n",
              "      <td>0</td>\n",
              "      <td>0</td>\n",
              "      <td>0</td>\n",
              "      <td>0</td>\n",
              "      <td>1</td>\n",
              "      <td>0</td>\n",
              "      <td>1</td>\n",
              "      <td>0</td>\n",
              "      <td>0</td>\n",
              "      <td>0</td>\n",
              "      <td>1</td>\n",
              "      <td>0</td>\n",
              "      <td>1</td>\n",
              "      <td>0</td>\n",
              "      <td>0</td>\n",
              "    </tr>\n",
              "    <tr>\n",
              "      <th>271</th>\n",
              "      <td>0.62</td>\n",
              "      <td>-0.19</td>\n",
              "      <td>0.90</td>\n",
              "      <td>1.11</td>\n",
              "      <td>0.07</td>\n",
              "      <td>-0.70</td>\n",
              "      <td>-0.43</td>\n",
              "      <td>1</td>\n",
              "      <td>1</td>\n",
              "      <td>1</td>\n",
              "      <td>0</td>\n",
              "      <td>0</td>\n",
              "      <td>1</td>\n",
              "      <td>1</td>\n",
              "      <td>0</td>\n",
              "      <td>0</td>\n",
              "      <td>0</td>\n",
              "      <td>0</td>\n",
              "      <td>1</td>\n",
              "      <td>0</td>\n",
              "      <td>0</td>\n",
              "      <td>0</td>\n",
              "      <td>0</td>\n",
              "      <td>0</td>\n",
              "      <td>0</td>\n",
              "      <td>0</td>\n",
              "      <td>1</td>\n",
              "      <td>0</td>\n",
              "      <td>0</td>\n",
              "      <td>0</td>\n",
              "      <td>1</td>\n",
              "      <td>0</td>\n",
              "      <td>0</td>\n",
              "      <td>0</td>\n",
              "      <td>0</td>\n",
              "      <td>0</td>\n",
              "      <td>0</td>\n",
              "      <td>1</td>\n",
              "      <td>0</td>\n",
              "      <td>1</td>\n",
              "      <td>0</td>\n",
              "      <td>0</td>\n",
              "      <td>1</td>\n",
              "      <td>0</td>\n",
              "      <td>0</td>\n",
              "      <td>1</td>\n",
              "      <td>0</td>\n",
              "      <td>0</td>\n",
              "    </tr>\n",
              "    <tr>\n",
              "      <th>861</th>\n",
              "      <td>-0.63</td>\n",
              "      <td>-0.46</td>\n",
              "      <td>0.02</td>\n",
              "      <td>-1.65</td>\n",
              "      <td>-0.64</td>\n",
              "      <td>1.08</td>\n",
              "      <td>-0.43</td>\n",
              "      <td>1</td>\n",
              "      <td>1</td>\n",
              "      <td>1</td>\n",
              "      <td>1</td>\n",
              "      <td>0</td>\n",
              "      <td>0</td>\n",
              "      <td>1</td>\n",
              "      <td>1</td>\n",
              "      <td>0</td>\n",
              "      <td>1</td>\n",
              "      <td>0</td>\n",
              "      <td>0</td>\n",
              "      <td>0</td>\n",
              "      <td>1</td>\n",
              "      <td>0</td>\n",
              "      <td>0</td>\n",
              "      <td>0</td>\n",
              "      <td>0</td>\n",
              "      <td>0</td>\n",
              "      <td>0</td>\n",
              "      <td>0</td>\n",
              "      <td>0</td>\n",
              "      <td>0</td>\n",
              "      <td>0</td>\n",
              "      <td>0</td>\n",
              "      <td>0</td>\n",
              "      <td>1</td>\n",
              "      <td>0</td>\n",
              "      <td>1</td>\n",
              "      <td>0</td>\n",
              "      <td>0</td>\n",
              "      <td>1</td>\n",
              "      <td>0</td>\n",
              "      <td>0</td>\n",
              "      <td>0</td>\n",
              "      <td>1</td>\n",
              "      <td>0</td>\n",
              "      <td>0</td>\n",
              "      <td>0</td>\n",
              "      <td>0</td>\n",
              "      <td>1</td>\n",
              "    </tr>\n",
              "    <tr>\n",
              "      <th>436</th>\n",
              "      <td>-0.74</td>\n",
              "      <td>0.05</td>\n",
              "      <td>0.02</td>\n",
              "      <td>-1.65</td>\n",
              "      <td>-1.05</td>\n",
              "      <td>-0.70</td>\n",
              "      <td>-0.43</td>\n",
              "      <td>3</td>\n",
              "      <td>2</td>\n",
              "      <td>1</td>\n",
              "      <td>1</td>\n",
              "      <td>0</td>\n",
              "      <td>0</td>\n",
              "      <td>1</td>\n",
              "      <td>1</td>\n",
              "      <td>0</td>\n",
              "      <td>0</td>\n",
              "      <td>0</td>\n",
              "      <td>1</td>\n",
              "      <td>0</td>\n",
              "      <td>0</td>\n",
              "      <td>0</td>\n",
              "      <td>0</td>\n",
              "      <td>0</td>\n",
              "      <td>0</td>\n",
              "      <td>0</td>\n",
              "      <td>1</td>\n",
              "      <td>0</td>\n",
              "      <td>0</td>\n",
              "      <td>0</td>\n",
              "      <td>0</td>\n",
              "      <td>0</td>\n",
              "      <td>1</td>\n",
              "      <td>0</td>\n",
              "      <td>1</td>\n",
              "      <td>0</td>\n",
              "      <td>0</td>\n",
              "      <td>0</td>\n",
              "      <td>0</td>\n",
              "      <td>1</td>\n",
              "      <td>0</td>\n",
              "      <td>0</td>\n",
              "      <td>1</td>\n",
              "      <td>0</td>\n",
              "      <td>0</td>\n",
              "      <td>1</td>\n",
              "      <td>0</td>\n",
              "      <td>0</td>\n",
              "    </tr>\n",
              "    <tr>\n",
              "      <th>103</th>\n",
              "      <td>-0.40</td>\n",
              "      <td>-0.60</td>\n",
              "      <td>0.90</td>\n",
              "      <td>-0.73</td>\n",
              "      <td>0.89</td>\n",
              "      <td>-0.70</td>\n",
              "      <td>-0.43</td>\n",
              "      <td>0</td>\n",
              "      <td>2</td>\n",
              "      <td>1</td>\n",
              "      <td>0</td>\n",
              "      <td>0</td>\n",
              "      <td>0</td>\n",
              "      <td>1</td>\n",
              "      <td>1</td>\n",
              "      <td>0</td>\n",
              "      <td>1</td>\n",
              "      <td>0</td>\n",
              "      <td>0</td>\n",
              "      <td>0</td>\n",
              "      <td>0</td>\n",
              "      <td>0</td>\n",
              "      <td>0</td>\n",
              "      <td>0</td>\n",
              "      <td>0</td>\n",
              "      <td>0</td>\n",
              "      <td>1</td>\n",
              "      <td>0</td>\n",
              "      <td>0</td>\n",
              "      <td>0</td>\n",
              "      <td>1</td>\n",
              "      <td>0</td>\n",
              "      <td>0</td>\n",
              "      <td>0</td>\n",
              "      <td>1</td>\n",
              "      <td>0</td>\n",
              "      <td>0</td>\n",
              "      <td>0</td>\n",
              "      <td>0</td>\n",
              "      <td>1</td>\n",
              "      <td>0</td>\n",
              "      <td>0</td>\n",
              "      <td>1</td>\n",
              "      <td>0</td>\n",
              "      <td>0</td>\n",
              "      <td>0</td>\n",
              "      <td>0</td>\n",
              "      <td>1</td>\n",
              "    </tr>\n",
              "  </tbody>\n",
              "</table>\n",
              "<p>711 rows × 48 columns</p>\n",
              "</div>"
            ],
            "text/plain": [
              "     duration  ...  job_unskilled resident\n",
              "id             ...                        \n",
              "30       0.62  ...                       0\n",
              "536      1.99  ...                       0\n",
              "696     -1.31  ...                       0\n",
              "558     -0.06  ...                       0\n",
              "837     -0.06  ...                       0\n",
              "..        ...  ...                     ...\n",
              "107      1.31  ...                       0\n",
              "271      0.62  ...                       0\n",
              "861     -0.63  ...                       1\n",
              "436     -0.74  ...                       0\n",
              "103     -0.40  ...                       1\n",
              "\n",
              "[711 rows x 48 columns]"
            ]
          },
          "metadata": {
            "tags": []
          },
          "execution_count": 42
        }
      ]
    },
    {
      "cell_type": "markdown",
      "metadata": {
        "id": "VTSlNjwFDkG3"
      },
      "source": [
        "# 2- Determination de la target value et split du dataset"
      ]
    },
    {
      "cell_type": "code",
      "metadata": {
        "id": "l6x0mI-IDkG4"
      },
      "source": [
        "y= train['class']\n",
        "del train['class']\n",
        "X = train"
      ],
      "execution_count": 43,
      "outputs": []
    },
    {
      "cell_type": "code",
      "metadata": {
        "id": "ugZOfW_6DkG5"
      },
      "source": [
        "X_train, X_test, y_train, y_test = train_test_split(X, y, test_size=0.2, random_state = 40)"
      ],
      "execution_count": 44,
      "outputs": []
    },
    {
      "cell_type": "code",
      "metadata": {
        "colab": {
          "base_uri": "https://localhost:8080/"
        },
        "id": "GAKAy8gQDkG5",
        "outputId": "834170ee-6ec6-4692-e924-85c181896eab"
      },
      "source": [
        "X_train.shape"
      ],
      "execution_count": 45,
      "outputs": [
        {
          "output_type": "execute_result",
          "data": {
            "text/plain": [
              "(568, 47)"
            ]
          },
          "metadata": {
            "tags": []
          },
          "execution_count": 45
        }
      ]
    },
    {
      "cell_type": "code",
      "metadata": {
        "colab": {
          "base_uri": "https://localhost:8080/"
        },
        "id": "VGphkK_bDkG6",
        "outputId": "522f004c-593b-4db9-e560-678f30973bc5"
      },
      "source": [
        "y_train.shape"
      ],
      "execution_count": 46,
      "outputs": [
        {
          "output_type": "execute_result",
          "data": {
            "text/plain": [
              "(568,)"
            ]
          },
          "metadata": {
            "tags": []
          },
          "execution_count": 46
        }
      ]
    },
    {
      "cell_type": "code",
      "metadata": {
        "colab": {
          "base_uri": "https://localhost:8080/"
        },
        "id": "mjFr9hXmDkG6",
        "outputId": "ea407c2a-8d1e-4a2d-bb6d-4964d88dd13c"
      },
      "source": [
        "X_test.shape"
      ],
      "execution_count": 47,
      "outputs": [
        {
          "output_type": "execute_result",
          "data": {
            "text/plain": [
              "(143, 47)"
            ]
          },
          "metadata": {
            "tags": []
          },
          "execution_count": 47
        }
      ]
    },
    {
      "cell_type": "code",
      "metadata": {
        "colab": {
          "base_uri": "https://localhost:8080/"
        },
        "id": "2InP--lbDkG7",
        "outputId": "421feb2f-48e5-4d2d-867f-ce0f1af0b0b4"
      },
      "source": [
        "y_test.shape"
      ],
      "execution_count": 48,
      "outputs": [
        {
          "output_type": "execute_result",
          "data": {
            "text/plain": [
              "(143,)"
            ]
          },
          "metadata": {
            "tags": []
          },
          "execution_count": 48
        }
      ]
    },
    {
      "cell_type": "markdown",
      "metadata": {
        "id": "JykGfAWxDkG8"
      },
      "source": [
        "# 3- Teste des diiférents algorithmes de façon native"
      ]
    },
    {
      "cell_type": "code",
      "metadata": {
        "colab": {
          "base_uri": "https://localhost:8080/",
          "height": 893
        },
        "id": "9SxV3T57DkG8",
        "outputId": "ed21605b-51f5-4b00-cf6f-0c45db83dcc4"
      },
      "source": [
        "clf = LazyClassifier(verbose=0,ignore_warnings=True)\n",
        "models, predictions = clf.fit(X_train, X_test, y_train, y_test)\n",
        "models"
      ],
      "execution_count": 11,
      "outputs": [
        {
          "output_type": "stream",
          "text": [
            "100%|██████████| 29/29 [00:02<00:00, 13.62it/s]\n"
          ],
          "name": "stderr"
        },
        {
          "output_type": "execute_result",
          "data": {
            "text/html": [
              "<div>\n",
              "<style scoped>\n",
              "    .dataframe tbody tr th:only-of-type {\n",
              "        vertical-align: middle;\n",
              "    }\n",
              "\n",
              "    .dataframe tbody tr th {\n",
              "        vertical-align: top;\n",
              "    }\n",
              "\n",
              "    .dataframe thead th {\n",
              "        text-align: right;\n",
              "    }\n",
              "</style>\n",
              "<table border=\"1\" class=\"dataframe\">\n",
              "  <thead>\n",
              "    <tr style=\"text-align: right;\">\n",
              "      <th></th>\n",
              "      <th>Accuracy</th>\n",
              "      <th>Balanced Accuracy</th>\n",
              "      <th>ROC AUC</th>\n",
              "      <th>F1 Score</th>\n",
              "      <th>Time Taken</th>\n",
              "    </tr>\n",
              "    <tr>\n",
              "      <th>Model</th>\n",
              "      <th></th>\n",
              "      <th></th>\n",
              "      <th></th>\n",
              "      <th></th>\n",
              "      <th></th>\n",
              "    </tr>\n",
              "  </thead>\n",
              "  <tbody>\n",
              "    <tr>\n",
              "      <th>BaggingClassifier</th>\n",
              "      <td>0.73</td>\n",
              "      <td>0.65</td>\n",
              "      <td>0.65</td>\n",
              "      <td>0.73</td>\n",
              "      <td>0.07</td>\n",
              "    </tr>\n",
              "    <tr>\n",
              "      <th>XGBClassifier</th>\n",
              "      <td>0.73</td>\n",
              "      <td>0.63</td>\n",
              "      <td>0.63</td>\n",
              "      <td>0.73</td>\n",
              "      <td>0.18</td>\n",
              "    </tr>\n",
              "    <tr>\n",
              "      <th>LogisticRegression</th>\n",
              "      <td>0.71</td>\n",
              "      <td>0.62</td>\n",
              "      <td>0.62</td>\n",
              "      <td>0.71</td>\n",
              "      <td>0.03</td>\n",
              "    </tr>\n",
              "    <tr>\n",
              "      <th>KNeighborsClassifier</th>\n",
              "      <td>0.73</td>\n",
              "      <td>0.62</td>\n",
              "      <td>0.62</td>\n",
              "      <td>0.72</td>\n",
              "      <td>0.03</td>\n",
              "    </tr>\n",
              "    <tr>\n",
              "      <th>AdaBoostClassifier</th>\n",
              "      <td>0.71</td>\n",
              "      <td>0.62</td>\n",
              "      <td>0.62</td>\n",
              "      <td>0.71</td>\n",
              "      <td>0.13</td>\n",
              "    </tr>\n",
              "    <tr>\n",
              "      <th>RidgeClassifierCV</th>\n",
              "      <td>0.71</td>\n",
              "      <td>0.61</td>\n",
              "      <td>0.61</td>\n",
              "      <td>0.71</td>\n",
              "      <td>0.03</td>\n",
              "    </tr>\n",
              "    <tr>\n",
              "      <th>RidgeClassifier</th>\n",
              "      <td>0.71</td>\n",
              "      <td>0.61</td>\n",
              "      <td>0.61</td>\n",
              "      <td>0.71</td>\n",
              "      <td>0.03</td>\n",
              "    </tr>\n",
              "    <tr>\n",
              "      <th>LinearSVC</th>\n",
              "      <td>0.71</td>\n",
              "      <td>0.61</td>\n",
              "      <td>0.61</td>\n",
              "      <td>0.71</td>\n",
              "      <td>0.12</td>\n",
              "    </tr>\n",
              "    <tr>\n",
              "      <th>LinearDiscriminantAnalysis</th>\n",
              "      <td>0.71</td>\n",
              "      <td>0.61</td>\n",
              "      <td>0.61</td>\n",
              "      <td>0.70</td>\n",
              "      <td>0.04</td>\n",
              "    </tr>\n",
              "    <tr>\n",
              "      <th>BernoulliNB</th>\n",
              "      <td>0.68</td>\n",
              "      <td>0.61</td>\n",
              "      <td>0.61</td>\n",
              "      <td>0.69</td>\n",
              "      <td>0.02</td>\n",
              "    </tr>\n",
              "    <tr>\n",
              "      <th>SGDClassifier</th>\n",
              "      <td>0.62</td>\n",
              "      <td>0.60</td>\n",
              "      <td>0.60</td>\n",
              "      <td>0.64</td>\n",
              "      <td>0.03</td>\n",
              "    </tr>\n",
              "    <tr>\n",
              "      <th>ExtraTreesClassifier</th>\n",
              "      <td>0.71</td>\n",
              "      <td>0.60</td>\n",
              "      <td>0.60</td>\n",
              "      <td>0.70</td>\n",
              "      <td>0.20</td>\n",
              "    </tr>\n",
              "    <tr>\n",
              "      <th>LGBMClassifier</th>\n",
              "      <td>0.70</td>\n",
              "      <td>0.59</td>\n",
              "      <td>0.59</td>\n",
              "      <td>0.70</td>\n",
              "      <td>0.09</td>\n",
              "    </tr>\n",
              "    <tr>\n",
              "      <th>NearestCentroid</th>\n",
              "      <td>0.59</td>\n",
              "      <td>0.59</td>\n",
              "      <td>0.59</td>\n",
              "      <td>0.61</td>\n",
              "      <td>0.03</td>\n",
              "    </tr>\n",
              "    <tr>\n",
              "      <th>PassiveAggressiveClassifier</th>\n",
              "      <td>0.64</td>\n",
              "      <td>0.59</td>\n",
              "      <td>0.59</td>\n",
              "      <td>0.65</td>\n",
              "      <td>0.02</td>\n",
              "    </tr>\n",
              "    <tr>\n",
              "      <th>NuSVC</th>\n",
              "      <td>0.72</td>\n",
              "      <td>0.57</td>\n",
              "      <td>0.57</td>\n",
              "      <td>0.70</td>\n",
              "      <td>0.07</td>\n",
              "    </tr>\n",
              "    <tr>\n",
              "      <th>GaussianNB</th>\n",
              "      <td>0.64</td>\n",
              "      <td>0.57</td>\n",
              "      <td>0.57</td>\n",
              "      <td>0.65</td>\n",
              "      <td>0.03</td>\n",
              "    </tr>\n",
              "    <tr>\n",
              "      <th>SVC</th>\n",
              "      <td>0.73</td>\n",
              "      <td>0.57</td>\n",
              "      <td>0.57</td>\n",
              "      <td>0.70</td>\n",
              "      <td>0.08</td>\n",
              "    </tr>\n",
              "    <tr>\n",
              "      <th>Perceptron</th>\n",
              "      <td>0.69</td>\n",
              "      <td>0.55</td>\n",
              "      <td>0.55</td>\n",
              "      <td>0.67</td>\n",
              "      <td>0.02</td>\n",
              "    </tr>\n",
              "    <tr>\n",
              "      <th>RandomForestClassifier</th>\n",
              "      <td>0.71</td>\n",
              "      <td>0.55</td>\n",
              "      <td>0.55</td>\n",
              "      <td>0.68</td>\n",
              "      <td>0.27</td>\n",
              "    </tr>\n",
              "    <tr>\n",
              "      <th>LabelSpreading</th>\n",
              "      <td>0.59</td>\n",
              "      <td>0.54</td>\n",
              "      <td>0.54</td>\n",
              "      <td>0.61</td>\n",
              "      <td>0.07</td>\n",
              "    </tr>\n",
              "    <tr>\n",
              "      <th>LabelPropagation</th>\n",
              "      <td>0.59</td>\n",
              "      <td>0.54</td>\n",
              "      <td>0.54</td>\n",
              "      <td>0.61</td>\n",
              "      <td>0.05</td>\n",
              "    </tr>\n",
              "    <tr>\n",
              "      <th>ExtraTreeClassifier</th>\n",
              "      <td>0.64</td>\n",
              "      <td>0.53</td>\n",
              "      <td>0.53</td>\n",
              "      <td>0.64</td>\n",
              "      <td>0.02</td>\n",
              "    </tr>\n",
              "    <tr>\n",
              "      <th>DecisionTreeClassifier</th>\n",
              "      <td>0.63</td>\n",
              "      <td>0.52</td>\n",
              "      <td>0.52</td>\n",
              "      <td>0.63</td>\n",
              "      <td>0.02</td>\n",
              "    </tr>\n",
              "    <tr>\n",
              "      <th>CalibratedClassifierCV</th>\n",
              "      <td>0.69</td>\n",
              "      <td>0.52</td>\n",
              "      <td>0.52</td>\n",
              "      <td>0.65</td>\n",
              "      <td>0.34</td>\n",
              "    </tr>\n",
              "    <tr>\n",
              "      <th>QuadraticDiscriminantAnalysis</th>\n",
              "      <td>0.52</td>\n",
              "      <td>0.45</td>\n",
              "      <td>0.45</td>\n",
              "      <td>0.54</td>\n",
              "      <td>0.03</td>\n",
              "    </tr>\n",
              "    <tr>\n",
              "      <th>DummyClassifier</th>\n",
              "      <td>0.55</td>\n",
              "      <td>0.44</td>\n",
              "      <td>0.44</td>\n",
              "      <td>0.56</td>\n",
              "      <td>0.02</td>\n",
              "    </tr>\n",
              "  </tbody>\n",
              "</table>\n",
              "</div>"
            ],
            "text/plain": [
              "                               Accuracy  ...  Time Taken\n",
              "Model                                    ...            \n",
              "BaggingClassifier                  0.73  ...        0.07\n",
              "XGBClassifier                      0.73  ...        0.18\n",
              "LogisticRegression                 0.71  ...        0.03\n",
              "KNeighborsClassifier               0.73  ...        0.03\n",
              "AdaBoostClassifier                 0.71  ...        0.13\n",
              "RidgeClassifierCV                  0.71  ...        0.03\n",
              "RidgeClassifier                    0.71  ...        0.03\n",
              "LinearSVC                          0.71  ...        0.12\n",
              "LinearDiscriminantAnalysis         0.71  ...        0.04\n",
              "BernoulliNB                        0.68  ...        0.02\n",
              "SGDClassifier                      0.62  ...        0.03\n",
              "ExtraTreesClassifier               0.71  ...        0.20\n",
              "LGBMClassifier                     0.70  ...        0.09\n",
              "NearestCentroid                    0.59  ...        0.03\n",
              "PassiveAggressiveClassifier        0.64  ...        0.02\n",
              "NuSVC                              0.72  ...        0.07\n",
              "GaussianNB                         0.64  ...        0.03\n",
              "SVC                                0.73  ...        0.08\n",
              "Perceptron                         0.69  ...        0.02\n",
              "RandomForestClassifier             0.71  ...        0.27\n",
              "LabelSpreading                     0.59  ...        0.07\n",
              "LabelPropagation                   0.59  ...        0.05\n",
              "ExtraTreeClassifier                0.64  ...        0.02\n",
              "DecisionTreeClassifier             0.63  ...        0.02\n",
              "CalibratedClassifierCV             0.69  ...        0.34\n",
              "QuadraticDiscriminantAnalysis      0.52  ...        0.03\n",
              "DummyClassifier                    0.55  ...        0.02\n",
              "\n",
              "[27 rows x 5 columns]"
            ]
          },
          "metadata": {
            "tags": []
          },
          "execution_count": 11
        }
      ]
    },
    {
      "cell_type": "markdown",
      "metadata": {
        "id": "8n1Xghz5DkHB"
      },
      "source": [
        "# 4- Application du GridSearch pour trouver les hyperparamètres optimaux pour les modèles "
      ]
    },
    {
      "cell_type": "code",
      "metadata": {
        "id": "7oPcM_YkDkHB"
      },
      "source": [
        "from sklearn.model_selection import GridSearchCV\n",
        "from sklearn.metrics import confusion_matrix, accuracy_score, auc, f1_score, recall_score,roc_auc_score, roc_curve\n"
      ],
      "execution_count": 148,
      "outputs": []
    },
    {
      "cell_type": "code",
      "metadata": {
        "colab": {
          "base_uri": "https://localhost:8080/"
        },
        "id": "5TOQCi3wWa01",
        "outputId": "52ee0844-a45d-4f64-c078-44c7b8b0fcee"
      },
      "source": [
        "# Pour la RL\n",
        "\n",
        "paramRL = {\n",
        "    'penalty': ['l1','l2','elasticnet','none'],\n",
        "    'C' : [0.01, 0.02, 0.03, 1, 1.01, 1.02, 2.01, 2.02],\n",
        "    'solver': ['newton-cg','lbfgs','liblinear','sag','saga']\n",
        "}\n",
        "\n",
        "gridRL = GridSearchCV(LogisticRegression(), paramRL, cv = 5)\n",
        "gridRL.fit(X_train, y_train)"
      ],
      "execution_count": 134,
      "outputs": [
        {
          "output_type": "execute_result",
          "data": {
            "text/plain": [
              "GridSearchCV(cv=5, estimator=LogisticRegression(),\n",
              "             param_grid={'C': [0.01, 0.02, 0.03, 1, 1.01, 1.02, 2.01, 2.02],\n",
              "                         'penalty': ['l1', 'l2', 'elasticnet', 'none'],\n",
              "                         'solver': ['newton-cg', 'lbfgs', 'liblinear', 'sag',\n",
              "                                    'saga']})"
            ]
          },
          "metadata": {
            "tags": []
          },
          "execution_count": 134
        }
      ]
    },
    {
      "cell_type": "code",
      "metadata": {
        "colab": {
          "base_uri": "https://localhost:8080/"
        },
        "id": "gWxxELjyXe2M",
        "outputId": "0a0f3c23-abdf-4115-de22-bedcd38b89dc"
      },
      "source": [
        "gridRL.best_score_"
      ],
      "execution_count": 135,
      "outputs": [
        {
          "output_type": "execute_result",
          "data": {
            "text/plain": [
              "0.7359416239714329"
            ]
          },
          "metadata": {
            "tags": []
          },
          "execution_count": 135
        }
      ]
    },
    {
      "cell_type": "code",
      "metadata": {
        "colab": {
          "base_uri": "https://localhost:8080/"
        },
        "id": "O9rXTzkhXkOW",
        "outputId": "7aaff40e-62b4-4021-a881-002308a7daec"
      },
      "source": [
        "gridRL.best_params_"
      ],
      "execution_count": 136,
      "outputs": [
        {
          "output_type": "execute_result",
          "data": {
            "text/plain": [
              "{'C': 1, 'penalty': 'l1', 'solver': 'saga'}"
            ]
          },
          "metadata": {
            "tags": []
          },
          "execution_count": 136
        }
      ]
    },
    {
      "cell_type": "code",
      "metadata": {
        "colab": {
          "base_uri": "https://localhost:8080/"
        },
        "id": "vMABV_0wX7UU",
        "outputId": "b2972c77-b98e-4065-eab4-9177fc31963a"
      },
      "source": [
        "modelRL = gridRL.best_estimator_\n",
        "modelRL.score(X_test, y_test)"
      ],
      "execution_count": 137,
      "outputs": [
        {
          "output_type": "execute_result",
          "data": {
            "text/plain": [
              "0.7132867132867133"
            ]
          },
          "metadata": {
            "tags": []
          },
          "execution_count": 137
        }
      ]
    },
    {
      "cell_type": "code",
      "metadata": {
        "colab": {
          "base_uri": "https://localhost:8080/"
        },
        "id": "PvQtK65hYP5F",
        "outputId": "dc8f3545-3698-45bf-b277-bc7288d081a3"
      },
      "source": [
        "RL = LogisticRegression(C = 1, penalty= 'l1', solver='saga')\n",
        "RL.fit(X_train, y_train)\n",
        "y_pred_RL = RL.predict(X_test)\n",
        "print(accuracy_score(y_pred_RL, y_test))\n",
        "print(confusion_matrix(y_test, y_pred_RL))\n",
        "print(classification_report(y_test, y_pred_RL))"
      ],
      "execution_count": 138,
      "outputs": [
        {
          "output_type": "stream",
          "text": [
            "0.7132867132867133\n",
            "[[15 22]\n",
            " [19 87]]\n",
            "              precision    recall  f1-score   support\n",
            "\n",
            "           0       0.44      0.41      0.42        37\n",
            "           1       0.80      0.82      0.81       106\n",
            "\n",
            "    accuracy                           0.71       143\n",
            "   macro avg       0.62      0.61      0.62       143\n",
            "weighted avg       0.71      0.71      0.71       143\n",
            "\n"
          ],
          "name": "stdout"
        }
      ]
    },
    {
      "cell_type": "markdown",
      "metadata": {
        "id": "LVULAEEEDkHB"
      },
      "source": [
        "# a- Pour le KNN"
      ]
    },
    {
      "cell_type": "code",
      "metadata": {
        "colab": {
          "base_uri": "https://localhost:8080/"
        },
        "id": "zrYz15wRDkHC",
        "outputId": "481b0814-6f3c-46e3-e989-07e2d6032bd0"
      },
      "source": [
        "paramKNN = {'n_neighbors': np.arange(2, 33),\n",
        "            'weights': ['uniform','distance'],\n",
        "            'algorithm': ['ball_tree', 'kd_tree', 'brute', 'auto'],\n",
        "            'metric': ['euclidean','manhattan', 'minkowski']}\n",
        "gridKNN = GridSearchCV(KNeighborsClassifier(), paramKNN, cv=5)\n",
        "gridKNN.fit(X_train, y_train)"
      ],
      "execution_count": 50,
      "outputs": [
        {
          "output_type": "execute_result",
          "data": {
            "text/plain": [
              "GridSearchCV(cv=5, estimator=KNeighborsClassifier(),\n",
              "             param_grid={'algorithm': ['ball_tree', 'kd_tree', 'brute', 'auto'],\n",
              "                         'metric': ['euclidean', 'manhattan', 'minkowski'],\n",
              "                         'n_neighbors': array([ 2,  3,  4,  5,  6,  7,  8,  9, 10, 11, 12, 13, 14, 15, 16, 17, 18,\n",
              "       19, 20, 21, 22, 23, 24, 25, 26, 27, 28, 29, 30, 31, 32]),\n",
              "                         'weights': ['uniform', 'distance']})"
            ]
          },
          "metadata": {
            "tags": []
          },
          "execution_count": 50
        }
      ]
    },
    {
      "cell_type": "code",
      "metadata": {
        "colab": {
          "base_uri": "https://localhost:8080/"
        },
        "id": "iC3di1aGDkHC",
        "outputId": "7a6dfec7-6d9c-4122-d67f-cce6520b8a7a"
      },
      "source": [
        "gridKNN.best_score_"
      ],
      "execution_count": 51,
      "outputs": [
        {
          "output_type": "execute_result",
          "data": {
            "text/plain": [
              "0.7412047818661699"
            ]
          },
          "metadata": {
            "tags": []
          },
          "execution_count": 51
        }
      ]
    },
    {
      "cell_type": "code",
      "metadata": {
        "colab": {
          "base_uri": "https://localhost:8080/"
        },
        "id": "Xq0zDJxdDkHC",
        "outputId": "98b927c8-a60d-4613-cfc6-5fccd5d14a49"
      },
      "source": [
        "gridKNN.best_params_"
      ],
      "execution_count": 52,
      "outputs": [
        {
          "output_type": "execute_result",
          "data": {
            "text/plain": [
              "{'algorithm': 'ball_tree',\n",
              " 'metric': 'euclidean',\n",
              " 'n_neighbors': 28,\n",
              " 'weights': 'distance'}"
            ]
          },
          "metadata": {
            "tags": []
          },
          "execution_count": 52
        }
      ]
    },
    {
      "cell_type": "code",
      "metadata": {
        "colab": {
          "base_uri": "https://localhost:8080/"
        },
        "id": "d9bZ_A7RDkHD",
        "outputId": "a0c8b269-97d0-4746-c75b-b19cd9c45aef"
      },
      "source": [
        "modelKNN = gridKNN.best_estimator_\n",
        "modelKNN.score(X_test, y_test)\n"
      ],
      "execution_count": 53,
      "outputs": [
        {
          "output_type": "execute_result",
          "data": {
            "text/plain": [
              "0.7622377622377622"
            ]
          },
          "metadata": {
            "tags": []
          },
          "execution_count": 53
        }
      ]
    },
    {
      "cell_type": "code",
      "metadata": {
        "colab": {
          "base_uri": "https://localhost:8080/"
        },
        "id": "ef_Q653Pvfci",
        "outputId": "c40ea9e4-7f53-4ea6-997f-212e91d8d36d"
      },
      "source": [
        "KNN = KNeighborsClassifier(algorithm= 'ball_tree',\n",
        " metric = 'euclidean',\n",
        " n_neighbors=  28,\n",
        " weights= 'distance')\n",
        "\n",
        "KNN.fit(X_train, y_train)\n",
        "y_pred_KNN = KNN.predict(X_test)\n",
        "print(accuracy_score(y_pred_KNN, y_test))\n",
        "print(confusion_matrix(y_test, y_pred_KNN))\n",
        "print(classification_report(y_test, y_pred_KNN))"
      ],
      "execution_count": 117,
      "outputs": [
        {
          "output_type": "stream",
          "text": [
            "0.7622377622377622\n",
            "[[11 26]\n",
            " [ 8 98]]\n",
            "              precision    recall  f1-score   support\n",
            "\n",
            "           0       0.58      0.30      0.39        37\n",
            "           1       0.79      0.92      0.85       106\n",
            "\n",
            "    accuracy                           0.76       143\n",
            "   macro avg       0.68      0.61      0.62       143\n",
            "weighted avg       0.74      0.76      0.73       143\n",
            "\n"
          ],
          "name": "stdout"
        }
      ]
    },
    {
      "cell_type": "markdown",
      "metadata": {
        "id": "vSyZt1tzDkHG"
      },
      "source": [
        "# b- Pour Naive-Bayes"
      ]
    },
    {
      "cell_type": "code",
      "metadata": {
        "colab": {
          "base_uri": "https://localhost:8080/"
        },
        "id": "T-pzckPTDkHG",
        "outputId": "a930ef17-b4ab-4bd6-a5e3-fb671af77611"
      },
      "source": [
        "paramNB = {'alpha' : np.arange(1e-3, 13),\n",
        "           \n",
        "           }\n",
        "gridNB = GridSearchCV(BernoulliNB(), paramNB, cv=5)\n",
        "gridNB.fit(X_train, y_train)"
      ],
      "execution_count": 69,
      "outputs": [
        {
          "output_type": "execute_result",
          "data": {
            "text/plain": [
              "GridSearchCV(cv=5, estimator=BernoulliNB(),\n",
              "             param_grid={'alpha': array([1.0000e-03, 1.0010e+00, 2.0010e+00, 3.0010e+00, 4.0010e+00,\n",
              "       5.0010e+00, 6.0010e+00, 7.0010e+00, 8.0010e+00, 9.0010e+00,\n",
              "       1.0001e+01, 1.1001e+01, 1.2001e+01])})"
            ]
          },
          "metadata": {
            "tags": []
          },
          "execution_count": 69
        }
      ]
    },
    {
      "cell_type": "code",
      "metadata": {
        "colab": {
          "base_uri": "https://localhost:8080/"
        },
        "id": "-FD1f_GQDkHG",
        "outputId": "b7c3ca9e-bf25-44f9-e2de-7689dff6b87e"
      },
      "source": [
        "gridNB.best_score_"
      ],
      "execution_count": 70,
      "outputs": [
        {
          "output_type": "execute_result",
          "data": {
            "text/plain": [
              "0.7342648657040833"
            ]
          },
          "metadata": {
            "tags": []
          },
          "execution_count": 70
        }
      ]
    },
    {
      "cell_type": "code",
      "metadata": {
        "colab": {
          "base_uri": "https://localhost:8080/"
        },
        "id": "e9kyny62DkHH",
        "outputId": "5f79e569-8588-4080-8528-2e0dcc897097"
      },
      "source": [
        "gridNB.best_params_"
      ],
      "execution_count": 71,
      "outputs": [
        {
          "output_type": "execute_result",
          "data": {
            "text/plain": [
              "{'alpha': 11.000999999999998}"
            ]
          },
          "metadata": {
            "tags": []
          },
          "execution_count": 71
        }
      ]
    },
    {
      "cell_type": "code",
      "metadata": {
        "colab": {
          "base_uri": "https://localhost:8080/"
        },
        "id": "R1T1hNvzDkHH",
        "outputId": "8b695126-392f-41bf-f91b-385c099de29b"
      },
      "source": [
        "modelNB = gridNB.best_estimator_\n",
        "modelNB.score(X_test, y_test)"
      ],
      "execution_count": 72,
      "outputs": [
        {
          "output_type": "execute_result",
          "data": {
            "text/plain": [
              "0.7132867132867133"
            ]
          },
          "metadata": {
            "tags": []
          },
          "execution_count": 72
        }
      ]
    },
    {
      "cell_type": "code",
      "metadata": {
        "colab": {
          "base_uri": "https://localhost:8080/"
        },
        "id": "nXQq87rmQLFi",
        "outputId": "95bc0cc4-8932-4a53-c4f3-37745a33ea2d"
      },
      "source": [
        "NB = BernoulliNB(alpha = 11.000999999999998)\n",
        "\n",
        "NB.fit(X_train, y_train)\n",
        "y_pred_NB = NB.predict(X_test)\n",
        "print(accuracy_score(y_pred_NB, y_test))\n",
        "print(confusion_matrix(y_test, y_pred_NB))\n",
        "print(classification_report(y_test, y_pred_NB))"
      ],
      "execution_count": 115,
      "outputs": [
        {
          "output_type": "stream",
          "text": [
            "0.7132867132867133\n",
            "[[12 25]\n",
            " [16 90]]\n",
            "              precision    recall  f1-score   support\n",
            "\n",
            "           0       0.43      0.32      0.37        37\n",
            "           1       0.78      0.85      0.81       106\n",
            "\n",
            "    accuracy                           0.71       143\n",
            "   macro avg       0.61      0.59      0.59       143\n",
            "weighted avg       0.69      0.71      0.70       143\n",
            "\n"
          ],
          "name": "stdout"
        }
      ]
    },
    {
      "cell_type": "markdown",
      "metadata": {
        "id": "xLhsjYv-DkHI"
      },
      "source": [
        "## c- Pour SVC"
      ]
    },
    {
      "cell_type": "code",
      "metadata": {
        "colab": {
          "base_uri": "https://localhost:8080/"
        },
        "id": "TR_c-AS4DkHI",
        "outputId": "436c71c3-a70a-422f-f589-10067395d94f"
      },
      "source": [
        "from sklearn.svm import SVC\n",
        "paramSVC = {'C' : np.arange(15, 23),\n",
        "           'kernel' : ['linear', 'poly','rbf', 'sigmoid'],\n",
        "            'gamma' : ['scale', 'auto'],\n",
        "            'decision_function_shape': ['ovo', 'ovr']\n",
        "           }\n",
        "gridSVC = GridSearchCV(SVC(), paramSVC, cv=5)\n",
        "gridSVC.fit(X_train, y_train)\n"
      ],
      "execution_count": 75,
      "outputs": [
        {
          "output_type": "execute_result",
          "data": {
            "text/plain": [
              "GridSearchCV(cv=5, estimator=SVC(),\n",
              "             param_grid={'C': array([15, 16, 17, 18, 19, 20, 21, 22]),\n",
              "                         'decision_function_shape': ['ovo', 'ovr'],\n",
              "                         'gamma': ['scale', 'auto'],\n",
              "                         'kernel': ['linear', 'poly', 'rbf', 'sigmoid']})"
            ]
          },
          "metadata": {
            "tags": []
          },
          "execution_count": 75
        }
      ]
    },
    {
      "cell_type": "code",
      "metadata": {
        "colab": {
          "base_uri": "https://localhost:8080/"
        },
        "id": "8Xc0WYJMDkHI",
        "outputId": "21fa4389-ac13-4821-b2f3-a96b5a37c28d"
      },
      "source": [
        "gridSVC.best_score_"
      ],
      "execution_count": 76,
      "outputs": [
        {
          "output_type": "execute_result",
          "data": {
            "text/plain": [
              "0.764089427107592"
            ]
          },
          "metadata": {
            "tags": []
          },
          "execution_count": 76
        }
      ]
    },
    {
      "cell_type": "code",
      "metadata": {
        "colab": {
          "base_uri": "https://localhost:8080/"
        },
        "id": "1FnajJXZDkHJ",
        "outputId": "133cd44b-5b42-4a0b-9ad0-8da562d7105f"
      },
      "source": [
        "gridSVC.best_params_"
      ],
      "execution_count": 77,
      "outputs": [
        {
          "output_type": "execute_result",
          "data": {
            "text/plain": [
              "{'C': 17, 'decision_function_shape': 'ovo', 'gamma': 'auto', 'kernel': 'rbf'}"
            ]
          },
          "metadata": {
            "tags": []
          },
          "execution_count": 77
        }
      ]
    },
    {
      "cell_type": "code",
      "metadata": {
        "colab": {
          "base_uri": "https://localhost:8080/"
        },
        "id": "qawD30dcDkHJ",
        "outputId": "6559ad6a-689d-4738-fb82-9465cab5cc89"
      },
      "source": [
        "modelSVC = gridSVC.best_estimator_\n",
        "modelSVC.score(X_test, y_test)"
      ],
      "execution_count": 79,
      "outputs": [
        {
          "output_type": "execute_result",
          "data": {
            "text/plain": [
              "0.6923076923076923"
            ]
          },
          "metadata": {
            "tags": []
          },
          "execution_count": 79
        }
      ]
    },
    {
      "cell_type": "code",
      "metadata": {
        "colab": {
          "base_uri": "https://localhost:8080/"
        },
        "id": "bLFyix8SPu_B",
        "outputId": "76730f15-f3a9-4fb8-da6f-b386144b403b"
      },
      "source": [
        "SVC = SVC()\n",
        "\n",
        "SVC.fit(X_train, y_train)\n",
        "y_pred_SVC = SVC.predict(X_test)\n",
        "print(accuracy_score(y_pred_SVC, y_test))\n",
        "print(confusion_matrix(y_test, y_pred_SVC))\n",
        "print(classification_report(y_test, y_pred_SVC))"
      ],
      "execution_count": 113,
      "outputs": [
        {
          "output_type": "stream",
          "text": [
            "0.7342657342657343\n",
            "[[ 6 31]\n",
            " [ 7 99]]\n",
            "              precision    recall  f1-score   support\n",
            "\n",
            "           0       0.46      0.16      0.24        37\n",
            "           1       0.76      0.93      0.84       106\n",
            "\n",
            "    accuracy                           0.73       143\n",
            "   macro avg       0.61      0.55      0.54       143\n",
            "weighted avg       0.68      0.73      0.68       143\n",
            "\n"
          ],
          "name": "stdout"
        }
      ]
    },
    {
      "cell_type": "markdown",
      "metadata": {
        "id": "ALzj7KAfDkHK"
      },
      "source": [
        "## d- Pour la foret aléatoire"
      ]
    },
    {
      "cell_type": "code",
      "metadata": {
        "colab": {
          "base_uri": "https://localhost:8080/"
        },
        "id": "KfyL9tGUDkHK",
        "outputId": "8bdd44c5-c223-440c-ce58-f7ffbaf99476"
      },
      "source": [
        "from sklearn.ensemble import RandomForestClassifier\n",
        "\n",
        "paramRF = {'n_estimators' : np.arange(37, 41),\n",
        "           'criterion' : ['gini', 'entropy'],\n",
        "            'max_depth' : np.arange(11, 16),  \n",
        "            'max_features': ['auto', 'sqrt', 'log2']\n",
        "           }\n",
        "gridRF = GridSearchCV(RandomForestClassifier(), paramRF, cv=5)\n",
        "gridRF.fit(X_train, y_train)"
      ],
      "execution_count": 81,
      "outputs": [
        {
          "output_type": "execute_result",
          "data": {
            "text/plain": [
              "GridSearchCV(cv=5, estimator=RandomForestClassifier(),\n",
              "             param_grid={'criterion': ['gini', 'entropy'],\n",
              "                         'max_depth': array([11, 12, 13, 14, 15]),\n",
              "                         'max_features': ['auto', 'sqrt', 'log2'],\n",
              "                         'n_estimators': array([37, 38, 39, 40])})"
            ]
          },
          "metadata": {
            "tags": []
          },
          "execution_count": 81
        }
      ]
    },
    {
      "cell_type": "code",
      "metadata": {
        "colab": {
          "base_uri": "https://localhost:8080/"
        },
        "id": "hUxKS-E3DkHK",
        "outputId": "e8a906aa-0621-4b56-8a1d-28b4fe2cd24d"
      },
      "source": [
        "gridRF.best_score_"
      ],
      "execution_count": 82,
      "outputs": [
        {
          "output_type": "execute_result",
          "data": {
            "text/plain": [
              "0.7710914454277287"
            ]
          },
          "metadata": {
            "tags": []
          },
          "execution_count": 82
        }
      ]
    },
    {
      "cell_type": "code",
      "metadata": {
        "colab": {
          "base_uri": "https://localhost:8080/"
        },
        "id": "8Z7wzr2TDkHK",
        "outputId": "fa611c23-25d3-466b-c665-a1e77192c471"
      },
      "source": [
        "gridRF.best_params_"
      ],
      "execution_count": 83,
      "outputs": [
        {
          "output_type": "execute_result",
          "data": {
            "text/plain": [
              "{'criterion': 'entropy',\n",
              " 'max_depth': 15,\n",
              " 'max_features': 'auto',\n",
              " 'n_estimators': 39}"
            ]
          },
          "metadata": {
            "tags": []
          },
          "execution_count": 83
        }
      ]
    },
    {
      "cell_type": "code",
      "metadata": {
        "colab": {
          "base_uri": "https://localhost:8080/"
        },
        "id": "E7zHV_J0DkHL",
        "outputId": "b5e3c181-ae3a-4662-908d-239be7f5d9d2"
      },
      "source": [
        "modelRF = gridRF.best_estimator_\n",
        "modelRF.score(X_test, y_test)"
      ],
      "execution_count": 84,
      "outputs": [
        {
          "output_type": "execute_result",
          "data": {
            "text/plain": [
              "0.7482517482517482"
            ]
          },
          "metadata": {
            "tags": []
          },
          "execution_count": 84
        }
      ]
    },
    {
      "cell_type": "code",
      "metadata": {
        "colab": {
          "base_uri": "https://localhost:8080/"
        },
        "id": "J6leriyHO6dP",
        "outputId": "99c225ff-9870-4a86-c7d7-799cc06eb079"
      },
      "source": [
        "RF = RandomForestClassifier(criterion = 'entropy',\n",
        " max_depth = 15,\n",
        " max_features = 'auto',\n",
        " n_estimators = 39)\n",
        "\n",
        "RF.fit(X_train, y_train)\n",
        "y_pred_RF = RF.predict(X_test)\n",
        "print(accuracy_score(y_pred_RF, y_test))\n",
        "print(confusion_matrix(y_test, y_pred_RF))\n",
        "print(classification_report(y_test, y_pred_RF))"
      ],
      "execution_count": 112,
      "outputs": [
        {
          "output_type": "stream",
          "text": [
            "0.7272727272727273\n",
            "[[ 9 28]\n",
            " [11 95]]\n",
            "              precision    recall  f1-score   support\n",
            "\n",
            "           0       0.45      0.24      0.32        37\n",
            "           1       0.77      0.90      0.83       106\n",
            "\n",
            "    accuracy                           0.73       143\n",
            "   macro avg       0.61      0.57      0.57       143\n",
            "weighted avg       0.69      0.73      0.70       143\n",
            "\n"
          ],
          "name": "stdout"
        }
      ]
    },
    {
      "cell_type": "markdown",
      "metadata": {
        "id": "Rzdc_gYSDkHL"
      },
      "source": [
        "## e- Pour le Bagging Classifier"
      ]
    },
    {
      "cell_type": "code",
      "metadata": {
        "id": "BV840oJwDkHL"
      },
      "source": [
        "from sklearn.ensemble import BaggingClassifier\n",
        "\n",
        "paramBG = {\n",
        "    'n_estimators' : np.arange(7, 15),\n",
        "    'max_samples' : np.arange(0.01, 5),\n",
        "    'max_features' : np.arange(0.01, 5),\n",
        "    'verbose' : np.arange(1, 5)\n",
        "}\n",
        "\n",
        "gridBG = GridSearchCV(BaggingClassifier(), paramBG, cv = 5)\n",
        "gridBG.fit(X_train, y_train)"
      ],
      "execution_count": null,
      "outputs": []
    },
    {
      "cell_type": "code",
      "metadata": {
        "colab": {
          "base_uri": "https://localhost:8080/"
        },
        "id": "6gTbuFg-DkHM",
        "outputId": "81eae927-7761-4cef-c31b-d5c30aaf6003"
      },
      "source": [
        "gridBG.best_score_"
      ],
      "execution_count": 86,
      "outputs": [
        {
          "output_type": "execute_result",
          "data": {
            "text/plain": [
              "0.7077782952957616"
            ]
          },
          "metadata": {
            "tags": []
          },
          "execution_count": 86
        }
      ]
    },
    {
      "cell_type": "code",
      "metadata": {
        "colab": {
          "base_uri": "https://localhost:8080/"
        },
        "id": "7Rs18ZvxDkHM",
        "outputId": "24dc81c5-06a0-4d40-ec05-e654f203f75f"
      },
      "source": [
        "gridBG.best_params_"
      ],
      "execution_count": 87,
      "outputs": [
        {
          "output_type": "execute_result",
          "data": {
            "text/plain": [
              "{'max_features': 0.01, 'max_samples': 0.01, 'n_estimators': 14, 'verbose': 1}"
            ]
          },
          "metadata": {
            "tags": []
          },
          "execution_count": 87
        }
      ]
    },
    {
      "cell_type": "code",
      "metadata": {
        "colab": {
          "base_uri": "https://localhost:8080/"
        },
        "id": "7rWLd7GbDkHN",
        "outputId": "37701cb6-25be-4bcd-ace3-48085173a230"
      },
      "source": [
        "modelBG = gridBG.best_estimator_\n",
        "modelBG.score(X_test, y_test)"
      ],
      "execution_count": 88,
      "outputs": [
        {
          "output_type": "stream",
          "text": [
            "[Parallel(n_jobs=1)]: Using backend SequentialBackend with 1 concurrent workers.\n",
            "[Parallel(n_jobs=1)]: Done   1 out of   1 | elapsed:    0.0s finished\n"
          ],
          "name": "stderr"
        },
        {
          "output_type": "execute_result",
          "data": {
            "text/plain": [
              "0.7412587412587412"
            ]
          },
          "metadata": {
            "tags": []
          },
          "execution_count": 88
        }
      ]
    },
    {
      "cell_type": "code",
      "metadata": {
        "colab": {
          "base_uri": "https://localhost:8080/"
        },
        "id": "QVgoZO0NCD7M",
        "outputId": "c3a39261-8590-4719-fd5d-696f2e917afb"
      },
      "source": [
        "BG = BaggingClassifier(max_features= 0.01, max_samples= 0.01, n_estimators= 14, verbose= 1)\n",
        "\n",
        "BG.fit(X_train, y_train)\n",
        "y_pred_BG = BG.predict(X_test)\n",
        "print(accuracy_score(y_pred_BG, y_test))\n",
        "print(confusion_matrix(y_test, y_pred_BG))\n",
        "print(classification_report(y_test, y_pred_BG))"
      ],
      "execution_count": 111,
      "outputs": [
        {
          "output_type": "stream",
          "text": [
            "0.6923076923076923\n",
            "[[ 4 33]\n",
            " [11 95]]\n",
            "              precision    recall  f1-score   support\n",
            "\n",
            "           0       0.27      0.11      0.15        37\n",
            "           1       0.74      0.90      0.81       106\n",
            "\n",
            "    accuracy                           0.69       143\n",
            "   macro avg       0.50      0.50      0.48       143\n",
            "weighted avg       0.62      0.69      0.64       143\n",
            "\n"
          ],
          "name": "stdout"
        },
        {
          "output_type": "stream",
          "text": [
            "[Parallel(n_jobs=1)]: Using backend SequentialBackend with 1 concurrent workers.\n",
            "[Parallel(n_jobs=1)]: Done   1 out of   1 | elapsed:    0.0s finished\n",
            "[Parallel(n_jobs=1)]: Using backend SequentialBackend with 1 concurrent workers.\n",
            "[Parallel(n_jobs=1)]: Done   1 out of   1 | elapsed:    0.0s finished\n"
          ],
          "name": "stderr"
        }
      ]
    },
    {
      "cell_type": "code",
      "metadata": {
        "colab": {
          "base_uri": "https://localhost:8080/",
          "height": 329
        },
        "id": "ybheI0N_qmNQ",
        "outputId": "5ffd9a3f-e5e9-4b6c-8b86-d9b9b67d0f4b"
      },
      "source": [
        "y_predBG_prob = modelBG.predict_proba(X_test)[:, 1]\n",
        "\n",
        "fpr, tpr, thresholds = roc_curve(y_test, y_predBG_prob)\n",
        "\n",
        "# Plot ROC curve\n",
        "plt.plot([0, 1], [0, 1], 'k--')\n",
        "plt.plot(fpr, tpr)\n",
        "plt.xlabel('False Positive Rate')\n",
        "plt.ylabel('True Positive Rate')\n",
        "plt.title('ROC Curve')\n",
        "plt.show()"
      ],
      "execution_count": 151,
      "outputs": [
        {
          "output_type": "stream",
          "text": [
            "[Parallel(n_jobs=1)]: Using backend SequentialBackend with 1 concurrent workers.\n",
            "[Parallel(n_jobs=1)]: Done   1 out of   1 | elapsed:    0.0s finished\n"
          ],
          "name": "stderr"
        },
        {
          "output_type": "display_data",
          "data": {
            "image/png": "[encoded data removed]",
            "text/plain": [
              "<Figure size 432x288 with 1 Axes>"
            ]
          },
          "metadata": {
            "tags": [],
            "needs_background": "light"
          }
        }
      ]
    },
    {
      "cell_type": "code",
      "metadata": {
        "id": "lo6a6HOIq3M_"
      },
      "source": [
        ""
      ],
      "execution_count": null,
      "outputs": []
    },
    {
      "cell_type": "markdown",
      "metadata": {
        "id": "9ueLqeRbZ47F"
      },
      "source": [
        "# f- Pour NuSVC"
      ]
    },
    {
      "cell_type": "code",
      "metadata": {
        "colab": {
          "base_uri": "https://localhost:8080/"
        },
        "id": "u1at_AWjaWMg",
        "outputId": "0abc083e-84d1-4611-eb24-f73ffab11899"
      },
      "source": [
        "from sklearn.svm import NuSVC\n",
        "paramNuSVC = {\n",
        "           'kernel' : ['linear', 'poly','rbf', 'sigmoid'],\n",
        "            'gamma' : ['scale', 'auto'],\n",
        "            'decision_function_shape': ['ovo', 'ovr']\n",
        "           }\n",
        "gridNuSVC = GridSearchCV(NuSVC(), paramNuSVC, cv=5)\n",
        "gridNuSVC.fit(X_train, y_train)"
      ],
      "execution_count": 17,
      "outputs": [
        {
          "output_type": "execute_result",
          "data": {
            "text/plain": [
              "GridSearchCV(cv=5, estimator=NuSVC(),\n",
              "             param_grid={'decision_function_shape': ['ovo', 'ovr'],\n",
              "                         'gamma': ['scale', 'auto'],\n",
              "                         'kernel': ['linear', 'poly', 'rbf', 'sigmoid']})"
            ]
          },
          "metadata": {
            "tags": []
          },
          "execution_count": 17
        }
      ]
    },
    {
      "cell_type": "code",
      "metadata": {
        "colab": {
          "base_uri": "https://localhost:8080/"
        },
        "id": "N1C3mw-rdjiN",
        "outputId": "d177df98-0aaf-416d-ee5c-32b7849d084f"
      },
      "source": [
        "gridNuSVC.best_score_"
      ],
      "execution_count": 90,
      "outputs": [
        {
          "output_type": "execute_result",
          "data": {
            "text/plain": [
              "0.7535320602390934"
            ]
          },
          "metadata": {
            "tags": []
          },
          "execution_count": 90
        }
      ]
    },
    {
      "cell_type": "code",
      "metadata": {
        "colab": {
          "base_uri": "https://localhost:8080/"
        },
        "id": "uCy9T8etdrO_",
        "outputId": "ff2e878e-b80c-4e5f-c0dc-f1ee38228ddc"
      },
      "source": [
        "gridNuSVC.best_params_"
      ],
      "execution_count": 91,
      "outputs": [
        {
          "output_type": "execute_result",
          "data": {
            "text/plain": [
              "{'decision_function_shape': 'ovo', 'gamma': 'scale', 'kernel': 'rbf'}"
            ]
          },
          "metadata": {
            "tags": []
          },
          "execution_count": 91
        }
      ]
    },
    {
      "cell_type": "code",
      "metadata": {
        "colab": {
          "base_uri": "https://localhost:8080/"
        },
        "id": "b4OiYXCYdzKt",
        "outputId": "5fffca54-af8b-4894-c864-be2305bddcc4"
      },
      "source": [
        "modelNuSVC = gridNuSVC.best_estimator_\n",
        "modelNuSVC.score(X_test, y_test)"
      ],
      "execution_count": 92,
      "outputs": [
        {
          "output_type": "execute_result",
          "data": {
            "text/plain": [
              "0.7132867132867133"
            ]
          },
          "metadata": {
            "tags": []
          },
          "execution_count": 92
        }
      ]
    },
    {
      "cell_type": "code",
      "metadata": {
        "colab": {
          "base_uri": "https://localhost:8080/"
        },
        "id": "knoD3a_wNvJG",
        "outputId": "089544c0-30db-4922-afe5-8e4b0d39d17f"
      },
      "source": [
        "NuSVC = NuSVC(decision_function_shape ='ovo', gamma= 'scale', kernel= 'rbf')\n",
        "\n",
        "NuSVC.fit(X_train, y_train)\n",
        "y_pred_NuSVC = NuSVC.predict(X_test)\n",
        "print(accuracy_score(y_pred_NuSVC, y_test))\n",
        "print(confusion_matrix(y_test, y_pred_NuSVC))\n",
        "print(classification_report(y_test, y_pred_NuSVC))"
      ],
      "execution_count": 110,
      "outputs": [
        {
          "output_type": "stream",
          "text": [
            "0.7132867132867133\n",
            "[[12 25]\n",
            " [16 90]]\n",
            "              precision    recall  f1-score   support\n",
            "\n",
            "           0       0.43      0.32      0.37        37\n",
            "           1       0.78      0.85      0.81       106\n",
            "\n",
            "    accuracy                           0.71       143\n",
            "   macro avg       0.61      0.59      0.59       143\n",
            "weighted avg       0.69      0.71      0.70       143\n",
            "\n"
          ],
          "name": "stdout"
        }
      ]
    },
    {
      "cell_type": "code",
      "metadata": {
        "id": "8OAK2IlFrocy"
      },
      "source": [
        ""
      ],
      "execution_count": 155,
      "outputs": []
    },
    {
      "cell_type": "markdown",
      "metadata": {
        "id": "wuEltNcTepcW"
      },
      "source": [
        "# g- Pour XGBClassifier"
      ]
    },
    {
      "cell_type": "code",
      "metadata": {
        "colab": {
          "base_uri": "https://localhost:8080/"
        },
        "id": "LYUe9ayzexSb",
        "outputId": "496eb989-5bcd-48c9-c901-c936701f1fce"
      },
      "source": [
        "from xgboost import XGBClassifier\n",
        "\n",
        "paramXGB = { \n",
        "    'booster': ['gbtree','gblinear'],\n",
        "    'eta' : [0.01, 0.02, 0.03, 0.04, 0.05, 0.06, 0.07, 0.08, 0.09, 0.1, 0.2],\n",
        "}\n",
        "gridXGB = GridSearchCV(XGBClassifier(), paramXGB, cv=5)\n",
        "gridXGB.fit(X_train, y_train)"
      ],
      "execution_count": 24,
      "outputs": [
        {
          "output_type": "execute_result",
          "data": {
            "text/plain": [
              "GridSearchCV(cv=5,\n",
              "             estimator=XGBClassifier(base_score=None, booster=None,\n",
              "                                     colsample_bylevel=None,\n",
              "                                     colsample_bynode=None,\n",
              "                                     colsample_bytree=None, gamma=None,\n",
              "                                     gpu_id=None, importance_type='gain',\n",
              "                                     interaction_constraints=None,\n",
              "                                     learning_rate=None, max_delta_step=None,\n",
              "                                     max_depth=None, min_child_weight=None,\n",
              "                                     missing=nan, monotone_constraints=None,\n",
              "                                     n_estimators=100, n_jobs=None,\n",
              "                                     num_parallel_tree=None, random_state=None,\n",
              "                                     reg_alpha=None, reg_lambda=None,\n",
              "                                     scale_pos_weight=None, subsample=None,\n",
              "                                     tree_method=None, validate_parameters=None,\n",
              "                                     verbosity=None),\n",
              "             param_grid={'booster': ['gbtree', 'gblinear'],\n",
              "                         'eta': [0.01, 0.02, 0.03, 0.04, 0.05, 0.06, 0.07, 0.08,\n",
              "                                 0.09, 0.1, 0.2]})"
            ]
          },
          "metadata": {
            "tags": []
          },
          "execution_count": 24
        }
      ]
    },
    {
      "cell_type": "code",
      "metadata": {
        "colab": {
          "base_uri": "https://localhost:8080/"
        },
        "id": "XInyP6qPe-xr",
        "outputId": "db2e3a9f-5cdb-49b2-af25-a582f4a46e4a"
      },
      "source": [
        "gridXGB.best_score_"
      ],
      "execution_count": 94,
      "outputs": [
        {
          "output_type": "execute_result",
          "data": {
            "text/plain": [
              "0.7729234590902034"
            ]
          },
          "metadata": {
            "tags": []
          },
          "execution_count": 94
        }
      ]
    },
    {
      "cell_type": "code",
      "metadata": {
        "colab": {
          "base_uri": "https://localhost:8080/"
        },
        "id": "e4cnuVVShQg8",
        "outputId": "c49452c0-5356-49fa-882e-e421ce6195d5"
      },
      "source": [
        "gridXGB.best_params_"
      ],
      "execution_count": 95,
      "outputs": [
        {
          "output_type": "execute_result",
          "data": {
            "text/plain": [
              "{'booster': 'gbtree', 'eta': 0.08}"
            ]
          },
          "metadata": {
            "tags": []
          },
          "execution_count": 95
        }
      ]
    },
    {
      "cell_type": "code",
      "metadata": {
        "colab": {
          "base_uri": "https://localhost:8080/"
        },
        "id": "AsSOfpnThXXN",
        "outputId": "83b237c9-fc0e-479c-8c24-bab1a45bc1d4"
      },
      "source": [
        "modelXGB = gridXGB.best_estimator_\n",
        "modelXGB.score(X_test, y_test)"
      ],
      "execution_count": 96,
      "outputs": [
        {
          "output_type": "execute_result",
          "data": {
            "text/plain": [
              "0.7272727272727273"
            ]
          },
          "metadata": {
            "tags": []
          },
          "execution_count": 96
        }
      ]
    },
    {
      "cell_type": "code",
      "metadata": {
        "colab": {
          "base_uri": "https://localhost:8080/"
        },
        "id": "qGNAqGz9Cb61",
        "outputId": "b734addb-2bad-4c41-d552-2b0823b7c71d"
      },
      "source": [
        "XGB = XGBClassifier(booster='gbtree', eta= 0.08)\n",
        "\n",
        "XGB.fit(X_train, y_train)\n",
        "y_pred_XGB = XGB.predict(X_test)\n",
        "print(accuracy_score(y_pred_XGB, y_test))\n",
        "print(confusion_matrix(y_test, y_pred_XGB))\n",
        "print(classification_report(y_test, y_pred_XGB))"
      ],
      "execution_count": 109,
      "outputs": [
        {
          "output_type": "stream",
          "text": [
            "0.7272727272727273\n",
            "[[13 24]\n",
            " [15 91]]\n",
            "              precision    recall  f1-score   support\n",
            "\n",
            "           0       0.46      0.35      0.40        37\n",
            "           1       0.79      0.86      0.82       106\n",
            "\n",
            "    accuracy                           0.73       143\n",
            "   macro avg       0.63      0.60      0.61       143\n",
            "weighted avg       0.71      0.73      0.71       143\n",
            "\n"
          ],
          "name": "stdout"
        }
      ]
    },
    {
      "cell_type": "markdown",
      "metadata": {
        "id": "HaKSHQ5yh1FO"
      },
      "source": [
        "## h- Pour AdaBoostClassifier"
      ]
    },
    {
      "cell_type": "code",
      "metadata": {
        "id": "gwPnmOdMTZiJ"
      },
      "source": [
        ""
      ],
      "execution_count": null,
      "outputs": []
    },
    {
      "cell_type": "code",
      "metadata": {
        "colab": {
          "base_uri": "https://localhost:8080/"
        },
        "id": "GxDc3RFSh52U",
        "outputId": "3a3b67e5-dd46-4686-ad68-7b162ef1023c"
      },
      "source": [
        "from sklearn.ensemble import AdaBoostClassifier\n",
        "\n",
        "paramAda = { \n",
        "    'n_estimators': np.arange(44, 62),\n",
        "    'algorithm' : ['SAMME', 'SAMME.R'],\n",
        "    'random_state': np.arange(1, 10)\n",
        "}\n",
        "gridAda = GridSearchCV(AdaBoostClassifier(), paramAda, cv=5, scoring=\"accuracy\")\n",
        "gridAda.fit(X_train, y_train)"
      ],
      "execution_count": 123,
      "outputs": [
        {
          "output_type": "execute_result",
          "data": {
            "text/plain": [
              "GridSearchCV(cv=5, estimator=AdaBoostClassifier(),\n",
              "             param_grid={'algorithm': ['SAMME', 'SAMME.R'],\n",
              "                         'n_estimators': array([44, 45, 46, 47, 48, 49, 50, 51, 52, 53, 54, 55, 56, 57, 58, 59, 60,\n",
              "       61]),\n",
              "                         'random_state': array([1, 2, 3, 4, 5, 6, 7, 8, 9])},\n",
              "             scoring='accuracy')"
            ]
          },
          "metadata": {
            "tags": []
          },
          "execution_count": 123
        }
      ]
    },
    {
      "cell_type": "code",
      "metadata": {
        "colab": {
          "base_uri": "https://localhost:8080/"
        },
        "id": "c0cX2Ui1jxF-",
        "outputId": "9c248c0c-01c5-42d1-dfbe-a7a7425eb2de"
      },
      "source": [
        "gridAda.best_score_"
      ],
      "execution_count": 124,
      "outputs": [
        {
          "output_type": "execute_result",
          "data": {
            "text/plain": [
              "0.744822232572582"
            ]
          },
          "metadata": {
            "tags": []
          },
          "execution_count": 124
        }
      ]
    },
    {
      "cell_type": "code",
      "metadata": {
        "colab": {
          "base_uri": "https://localhost:8080/"
        },
        "id": "pnrauq7Uj6Ko",
        "outputId": "bc2291b7-15e1-43c7-95a8-427ec0169810"
      },
      "source": [
        "gridAda.best_params_"
      ],
      "execution_count": 125,
      "outputs": [
        {
          "output_type": "execute_result",
          "data": {
            "text/plain": [
              "{'algorithm': 'SAMME', 'n_estimators': 57, 'random_state': 1}"
            ]
          },
          "metadata": {
            "tags": []
          },
          "execution_count": 125
        }
      ]
    },
    {
      "cell_type": "code",
      "metadata": {
        "colab": {
          "base_uri": "https://localhost:8080/"
        },
        "id": "ro8Nyy5ikBmG",
        "outputId": "16d694b1-bcd8-402d-c4f4-9bc28b0ea348"
      },
      "source": [
        "modelAda = gridAda.best_estimator_\n",
        "modelAda.score(X_test, y_test)"
      ],
      "execution_count": 126,
      "outputs": [
        {
          "output_type": "execute_result",
          "data": {
            "text/plain": [
              "0.6923076923076923"
            ]
          },
          "metadata": {
            "tags": []
          },
          "execution_count": 126
        }
      ]
    },
    {
      "cell_type": "code",
      "metadata": {
        "colab": {
          "base_uri": "https://localhost:8080/"
        },
        "id": "Iu8uvCY5Les5",
        "outputId": "579c4983-671b-4d30-cec0-7ab386c5ed1e"
      },
      "source": [
        "Ada = AdaBoostClassifier(algorithm= 'SAMME', n_estimators= 57, random_state= 1)\n",
        "\n",
        "Ada.fit(X_train, y_train)\n",
        "y_pred_Ada = Ada.predict(X_test)\n",
        "print(accuracy_score(y_pred_Ada, y_test))\n",
        "print(confusion_matrix(y_test, y_pred_Ada))\n",
        "print(classification_report(y_test, y_pred_Ada))"
      ],
      "execution_count": 127,
      "outputs": [
        {
          "output_type": "stream",
          "text": [
            "0.6923076923076923\n",
            "[[12 25]\n",
            " [19 87]]\n",
            "              precision    recall  f1-score   support\n",
            "\n",
            "           0       0.39      0.32      0.35        37\n",
            "           1       0.78      0.82      0.80       106\n",
            "\n",
            "    accuracy                           0.69       143\n",
            "   macro avg       0.58      0.57      0.58       143\n",
            "weighted avg       0.68      0.69      0.68       143\n",
            "\n"
          ],
          "name": "stdout"
        }
      ]
    },
    {
      "cell_type": "markdown",
      "metadata": {
        "id": "kzSnNd16kgkL"
      },
      "source": [
        "# 5- Validation Curve"
      ]
    },
    {
      "cell_type": "code",
      "metadata": {
        "id": "TQ3I5os9DkHN"
      },
      "source": [
        "from sklearn.model_selection import validation_curve"
      ],
      "execution_count": 144,
      "outputs": []
    },
    {
      "cell_type": "code",
      "metadata": {
        "colab": {
          "base_uri": "https://localhost:8080/",
          "height": 297
        },
        "id": "7YlM3eKPrXKQ",
        "outputId": "61e4ee57-84af-4bf4-81db-5acee255c6c9"
      },
      "source": [
        "from sklearn.neighbors import KNeighborsClassifier\n",
        "model = KNeighborsClassifier()\n",
        "k = np.arange(10, 50)\n",
        "train_score, val_score = validation_curve(model, X_train, y_train, 'n_neighbors', k, cv = 5)\n",
        "\n",
        "plt.plot(k, val_score.mean(axis = 1), label = 'validation')\n",
        "plt.plot(k, train_score.mean(axis = 1), label = 'train')\n",
        "\n",
        "plt.ylabel('score')\n",
        "plt.xlabel('n_neighbors')\n",
        "plt.legend()"
      ],
      "execution_count": 143,
      "outputs": [
        {
          "output_type": "execute_result",
          "data": {
            "text/plain": [
              "<matplotlib.legend.Legend at 0x7f95762fca50>"
            ]
          },
          "metadata": {
            "tags": []
          },
          "execution_count": 143
        },
        {
          "output_type": "display_data",
          "data": {
            "image/png": "[encoded data removed]",
            "text/plain": [
              "<Figure size 432x288 with 1 Axes>"
            ]
          },
          "metadata": {
            "tags": [],
            "needs_background": "light"
          }
        }
      ]
    }
  ]
}