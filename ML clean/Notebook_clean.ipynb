{
 "cells": [
  {
   "cell_type": "markdown",
   "metadata": {
    "toc": true
   },
   "source": [
    "<h1>Sommaire<span class=\"tocSkip\"></span></h1>\n",
    "<div class=\"toc\"><ul class=\"toc-item\"><li><span><a href=\"#Résumé-du-travail\" data-toc-modified-id=\"Résumé-du-travail-1\"><span class=\"toc-item-num\">1&nbsp;&nbsp;</span>Résumé du travail</a></span></li><li><span><a href=\"#Le-but-de-ce-notebook\" data-toc-modified-id=\"Le-but-de-ce-notebook-2\"><span class=\"toc-item-num\">2&nbsp;&nbsp;</span>Le but de ce notebook</a></span></li><li><span><a href=\"#Méthodologie-du-travail\" data-toc-modified-id=\"Méthodologie-du-travail-3\"><span class=\"toc-item-num\">3&nbsp;&nbsp;</span>Méthodologie du travail</a></span><ul class=\"toc-item\"><li><span><a href=\"#Le-choix-du-dataset-et-sa-description\" data-toc-modified-id=\"Le-choix-du-dataset-et-sa-description-3.1\"><span class=\"toc-item-num\">3.1&nbsp;&nbsp;</span>Le choix du dataset et sa description</a></span><ul class=\"toc-item\"><li><span><a href=\"#Choix-du-dataset\" data-toc-modified-id=\"Choix-du-dataset-3.1.1\"><span class=\"toc-item-num\">3.1.1&nbsp;&nbsp;</span>Choix du dataset</a></span></li><li><span><a href=\"#Description-du-dataset\" data-toc-modified-id=\"Description-du-dataset-3.1.2\"><span class=\"toc-item-num\">3.1.2&nbsp;&nbsp;</span>Description du dataset</a></span></li></ul></li><li><span><a href=\"#L'analyse-exploratoire-des-données-(EDA)\" data-toc-modified-id=\"L'analyse-exploratoire-des-données-(EDA)-3.2\"><span class=\"toc-item-num\">3.2&nbsp;&nbsp;</span>L'analyse exploratoire des données (EDA)</a></span></li></ul></li><li><span><a href=\"#Preprocessing\" data-toc-modified-id=\"Preprocessing-4\"><span class=\"toc-item-num\">4&nbsp;&nbsp;</span>Preprocessing</a></span><ul class=\"toc-item\"><li><span><a href=\"#Importation-des-librairies\" data-toc-modified-id=\"Importation-des-librairies-4.1\"><span class=\"toc-item-num\">4.1&nbsp;&nbsp;</span>Importation des librairies</a></span></li><li><span><a href=\"#Importation-du-dataset-et-dictionnaire-des-valeurs-manquantes\" data-toc-modified-id=\"Importation-du-dataset-et-dictionnaire-des-valeurs-manquantes-4.2\"><span class=\"toc-item-num\">4.2&nbsp;&nbsp;</span>Importation du dataset et dictionnaire des valeurs manquantes</a></span></li><li><span><a href=\"#Split-du-dataset-en-dataframe-de-variables-catégorielles-et-variavles-numériques\" data-toc-modified-id=\"Split-du-dataset-en-dataframe-de-variables-catégorielles-et-variavles-numériques-4.3\"><span class=\"toc-item-num\">4.3&nbsp;&nbsp;</span>Split du dataset en dataframe de variables catégorielles et variavles numériques</a></span></li><li><span><a href=\"#Valeurs-manquantes\" data-toc-modified-id=\"Valeurs-manquantes-4.4\"><span class=\"toc-item-num\">4.4&nbsp;&nbsp;</span>Valeurs manquantes</a></span><ul class=\"toc-item\"><li><span><a href=\"#DataFrame-Cat\" data-toc-modified-id=\"DataFrame-Cat-4.4.1\"><span class=\"toc-item-num\">4.4.1&nbsp;&nbsp;</span>DataFrame Cat</a></span></li><li><span><a href=\"#DataFrame-num\" data-toc-modified-id=\"DataFrame-num-4.4.2\"><span class=\"toc-item-num\">4.4.2&nbsp;&nbsp;</span>DataFrame num</a></span></li></ul></li><li><span><a href=\"#Imputation-des-variables-manquantes\" data-toc-modified-id=\"Imputation-des-variables-manquantes-4.5\"><span class=\"toc-item-num\">4.5&nbsp;&nbsp;</span>Imputation des variables manquantes</a></span></li><li><span><a href=\"#Détection-des-outliers-ou-valeurs-aberrantes\" data-toc-modified-id=\"Détection-des-outliers-ou-valeurs-aberrantes-4.6\"><span class=\"toc-item-num\">4.6&nbsp;&nbsp;</span>Détection des outliers ou valeurs aberrantes</a></span></li><li><span><a href=\"#Traitement-des-outliers\" data-toc-modified-id=\"Traitement-des-outliers-4.7\"><span class=\"toc-item-num\">4.7&nbsp;&nbsp;</span>Traitement des outliers</a></span></li><li><span><a href=\"#Normalisation-des-données\" data-toc-modified-id=\"Normalisation-des-données-4.8\"><span class=\"toc-item-num\">4.8&nbsp;&nbsp;</span>Normalisation des données</a></span><ul class=\"toc-item\"><li><span><a href=\"#Encodage-des-variables-ordinales\" data-toc-modified-id=\"Encodage-des-variables-ordinales-4.8.1\"><span class=\"toc-item-num\">4.8.1&nbsp;&nbsp;</span>Encodage des variables ordinales</a></span></li><li><span><a href=\"#Encodage-des-variables-nominales\" data-toc-modified-id=\"Encodage-des-variables-nominales-4.8.2\"><span class=\"toc-item-num\">4.8.2&nbsp;&nbsp;</span>Encodage des variables nominales</a></span></li></ul></li><li><span><a href=\"#Association-des-deux-dataframe-cat-et-num-en-un-seul\" data-toc-modified-id=\"Association-des-deux-dataframe-cat-et-num-en-un-seul-4.9\"><span class=\"toc-item-num\">4.9&nbsp;&nbsp;</span>Association des deux dataframe cat et num en un seul</a></span></li><li><span><a href=\"#Exportation-du-DataFrame-créé\" data-toc-modified-id=\"Exportation-du-DataFrame-créé-4.10\"><span class=\"toc-item-num\">4.10&nbsp;&nbsp;</span>Exportation du DataFrame créé</a></span></li></ul></li><li><span><a href=\"#Modélisation\" data-toc-modified-id=\"Modélisation-5\"><span class=\"toc-item-num\">5&nbsp;&nbsp;</span>Modélisation</a></span><ul class=\"toc-item\"><li><span><a href=\"#Importation-des-librairies\" data-toc-modified-id=\"Importation-des-librairies-5.1\"><span class=\"toc-item-num\">5.1&nbsp;&nbsp;</span>Importation des librairies</a></span></li><li><span><a href=\"#Importation-des-datasets-et-visualisation\" data-toc-modified-id=\"Importation-des-datasets-et-visualisation-5.2\"><span class=\"toc-item-num\">5.2&nbsp;&nbsp;</span>Importation des datasets et visualisation</a></span></li><li><span><a href=\"#Split-des-datasets-en-train-set,-validation-set-et-test-set-et-application-de-la-méthode-SMOTE-pour-le-suréchantillonage-des-données\" data-toc-modified-id=\"Split-des-datasets-en-train-set,-validation-set-et-test-set-et-application-de-la-méthode-SMOTE-pour-le-suréchantillonage-des-données-5.3\"><span class=\"toc-item-num\">5.3&nbsp;&nbsp;</span>Split des datasets en train set, validation set et test set et application de la méthode SMOTE pour le suréchantillonage des données</a></span><ul class=\"toc-item\"><li><span><a href=\"#Suréchantillonage-des-dataset-grâce-à-la-méthode-SMOTE\" data-toc-modified-id=\"Suréchantillonage-des-dataset-grâce-à-la-méthode-SMOTE-5.3.1\"><span class=\"toc-item-num\">5.3.1&nbsp;&nbsp;</span>Suréchantillonage des dataset grâce à la méthode SMOTE</a></span></li><li><span><a href=\"#Split-des-datasets-Scale-et-non-scale-en-train,-validation-et-test\" data-toc-modified-id=\"Split-des-datasets-Scale-et-non-scale-en-train,-validation-et-test-5.3.2\"><span class=\"toc-item-num\">5.3.2&nbsp;&nbsp;</span>Split des datasets Scale et non scale en train, validation et test</a></span></li><li><span><a href=\"#Visualisation-des-dimensions-des-set-créés-précédemment\" data-toc-modified-id=\"Visualisation-des-dimensions-des-set-créés-précédemment-5.3.3\"><span class=\"toc-item-num\">5.3.3&nbsp;&nbsp;</span>Visualisation des dimensions des set créés précédemment</a></span></li></ul></li><li><span><a href=\"#Teste-des-modèles-de-façon-native-et-visualisation-des-cas-d'overfitting-grâce-aux-learning-curve\" data-toc-modified-id=\"Teste-des-modèles-de-façon-native-et-visualisation-des-cas-d'overfitting-grâce-aux-learning-curve-5.4\"><span class=\"toc-item-num\">5.4&nbsp;&nbsp;</span>Teste des modèles de façon native et visualisation des cas d'overfitting grâce aux learning curve</a></span><ul class=\"toc-item\"><li><span><a href=\"#Regression-Logistique\" data-toc-modified-id=\"Regression-Logistique-5.4.1\"><span class=\"toc-item-num\">5.4.1&nbsp;&nbsp;</span>Regression Logistique</a></span></li><li><span><a href=\"#KNeighbors\" data-toc-modified-id=\"KNeighbors-5.4.2\"><span class=\"toc-item-num\">5.4.2&nbsp;&nbsp;</span>KNeighbors</a></span></li><li><span><a href=\"#Naive-Bayes-(-BernoulliNB)\" data-toc-modified-id=\"Naive-Bayes-(-BernoulliNB)-5.4.3\"><span class=\"toc-item-num\">5.4.3&nbsp;&nbsp;</span>Naive Bayes ( BernoulliNB)</a></span></li><li><span><a href=\"#SVC\" data-toc-modified-id=\"SVC-5.4.4\"><span class=\"toc-item-num\">5.4.4&nbsp;&nbsp;</span>SVC</a></span></li><li><span><a href=\"#NuSVC\" data-toc-modified-id=\"NuSVC-5.4.5\"><span class=\"toc-item-num\">5.4.5&nbsp;&nbsp;</span>NuSVC</a></span></li><li><span><a href=\"#RandomForestClassifer\" data-toc-modified-id=\"RandomForestClassifer-5.4.6\"><span class=\"toc-item-num\">5.4.6&nbsp;&nbsp;</span>RandomForestClassifer</a></span></li><li><span><a href=\"#BaggingClassifier\" data-toc-modified-id=\"BaggingClassifier-5.4.7\"><span class=\"toc-item-num\">5.4.7&nbsp;&nbsp;</span>BaggingClassifier</a></span></li><li><span><a href=\"#XGBClassifier\" data-toc-modified-id=\"XGBClassifier-5.4.8\"><span class=\"toc-item-num\">5.4.8&nbsp;&nbsp;</span>XGBClassifier</a></span></li><li><span><a href=\"#AdaBoostClassifier\" data-toc-modified-id=\"AdaBoostClassifier-5.4.9\"><span class=\"toc-item-num\">5.4.9&nbsp;&nbsp;</span>AdaBoostClassifier</a></span></li></ul></li><li><span><a href=\"#Application-du-GridSearch-et-Tunning-des-modèles\" data-toc-modified-id=\"Application-du-GridSearch-et-Tunning-des-modèles-5.5\"><span class=\"toc-item-num\">5.5&nbsp;&nbsp;</span>Application du GridSearch et Tunning des modèles</a></span><ul class=\"toc-item\"><li><span><a href=\"#Regression-Logistique\" data-toc-modified-id=\"Regression-Logistique-5.5.1\"><span class=\"toc-item-num\">5.5.1&nbsp;&nbsp;</span>Regression Logistique</a></span></li><li><span><a href=\"#KNeighbors\" data-toc-modified-id=\"KNeighbors-5.5.2\"><span class=\"toc-item-num\">5.5.2&nbsp;&nbsp;</span>KNeighbors</a></span></li><li><span><a href=\"#Naive-Bayes(BernoulliNB)\" data-toc-modified-id=\"Naive-Bayes(BernoulliNB)-5.5.3\"><span class=\"toc-item-num\">5.5.3&nbsp;&nbsp;</span>Naive Bayes(BernoulliNB)</a></span></li><li><span><a href=\"#SVC\" data-toc-modified-id=\"SVC-5.5.4\"><span class=\"toc-item-num\">5.5.4&nbsp;&nbsp;</span>SVC</a></span></li><li><span><a href=\"#RandomForestClassifier\" data-toc-modified-id=\"RandomForestClassifier-5.5.5\"><span class=\"toc-item-num\">5.5.5&nbsp;&nbsp;</span>RandomForestClassifier</a></span></li><li><span><a href=\"#BaggingClassifier\" data-toc-modified-id=\"BaggingClassifier-5.5.6\"><span class=\"toc-item-num\">5.5.6&nbsp;&nbsp;</span>BaggingClassifier</a></span></li><li><span><a href=\"#XGBClassifier\" data-toc-modified-id=\"XGBClassifier-5.5.7\"><span class=\"toc-item-num\">5.5.7&nbsp;&nbsp;</span>XGBClassifier</a></span></li><li><span><a href=\"#AdaBoostClassifier\" data-toc-modified-id=\"AdaBoostClassifier-5.5.8\"><span class=\"toc-item-num\">5.5.8&nbsp;&nbsp;</span>AdaBoostClassifier</a></span></li></ul></li><li><span><a href=\"#Méthodes-d'ensemble\" data-toc-modified-id=\"Méthodes-d'ensemble-5.6\"><span class=\"toc-item-num\">5.6&nbsp;&nbsp;</span>Méthodes d'ensemble</a></span><ul class=\"toc-item\"><li><span><a href=\"#VotingClassifier\" data-toc-modified-id=\"VotingClassifier-5.6.1\"><span class=\"toc-item-num\">5.6.1&nbsp;&nbsp;</span>VotingClassifier</a></span></li><li><span><a href=\"#Stacking\" data-toc-modified-id=\"Stacking-5.6.2\"><span class=\"toc-item-num\">5.6.2&nbsp;&nbsp;</span>Stacking</a></span></li></ul></li><li><span><a href=\"#Autres-Modèles\" data-toc-modified-id=\"Autres-Modèles-5.7\"><span class=\"toc-item-num\">5.7&nbsp;&nbsp;</span>Autres Modèles</a></span><ul class=\"toc-item\"><li><span><a href=\"#ExtraTreesClassifier\" data-toc-modified-id=\"ExtraTreesClassifier-5.7.1\"><span class=\"toc-item-num\">5.7.1&nbsp;&nbsp;</span>ExtraTreesClassifier</a></span></li><li><span><a href=\"#GradientBoostingClassifier\" data-toc-modified-id=\"GradientBoostingClassifier-5.7.2\"><span class=\"toc-item-num\">5.7.2&nbsp;&nbsp;</span>GradientBoostingClassifier</a></span></li></ul></li></ul></li></ul></div>"
   ]
  },
  {
   "cell_type": "markdown",
   "metadata": {},
   "source": [
    "# Résumé du travail\n",
    "\n",
    "  <p style = 'text-align: justify;'> &emsp;Il est question pour nous de mettre sur pied un système de prédiction de bon et de mauvais client quant au remboursement de leur prêt bancaire et ce système sera basé sur le Machine Learning.  Dans l'état actuel des lieux, et surtout dans le contexte camerounais, de nombreuses banques et microfinances utilisent des méthodes ancienne quand au traitement des informations de leur client demandant un prêt bancaire.  \n",
    "    &emsp;Les informations des clients sont traitées et analysée par des économistes et les banquiers de la banque de façon plutot manuelle, c'est a dire ils analyseront eux memes les comportements financiers de leur client et cela concours a une grande perte en temps. \n",
    "    &emsp;Mais aussi, grace a une méthode traditionnelle, les prises de décision du banquier ne sont pas optimales car il peut être influencé par ses émotions personnelles. Alors comment donc mettre sur pied un système insensible aux émotions et rapide quand a la production de résultat optimaux? La réponse a cette question est l'objectif de notre mémoire.</p>\n",
    "\n",
    "# Le but de ce notebook\n",
    " <p style = 'text-align: justify;'> &emsp;Ce notebook a pour but de présenter notre travali de Machine Learning suivant différentes étapes cohérentes. Grâce a ce Notebook, la comprehension de notre travail se fera plus facilement et permettra de mieux s'aclimater avec le domaine du Machine Learning </p>\n",
    " \n",
    "# Méthodologie du travail\n",
    "\n",
    "Pour mener à bien notre travail, nous avons suivies des étapes clés pour ainsi arriver a notre résultat final. Comme étapes explorer nous avons:\n",
    "\n",
    "- Le choix du dataset et sa description\n",
    "- L'exploration de ce dataset\n",
    "- Le nettoyage et le prétraitement\n",
    "- La modélisation du dataset\n",
    "- L'implémentation du modèle par un API\n",
    "\n",
    "\n",
    "## Le choix du dataset et sa description\n",
    "\n",
    "### Choix du dataset\n",
    "### Description du dataset"
   ]
  },
  {
   "cell_type": "markdown",
   "metadata": {},
   "source": [
    "## L'analyse exploratoire des données (EDA)\n",
    "\n",
    "Pour l'analyse exploratioire, un outil puissant de python nous permet de la faire : Pandas Profiling et nous allons l'utiliser pour explorer nos données"
   ]
  },
  {
   "cell_type": "code",
   "execution_count": 1,
   "metadata": {},
   "outputs": [],
   "source": [
    "from pandas_profiling import ProfileReport"
   ]
  },
  {
   "cell_type": "code",
   "execution_count": 2,
   "metadata": {},
   "outputs": [],
   "source": [
    "import pandas as pd\n",
    "df = pd.read_excel('credit.xlsx')"
   ]
  },
  {
   "cell_type": "code",
   "execution_count": 5,
   "metadata": {},
   "outputs": [
    {
     "data": {
      "application/vnd.jupyter.widget-view+json": {
       "model_id": "55dc42586f974c4c89afb51cfe3ee025",
       "version_major": 2,
       "version_minor": 0
      },
      "text/plain": [
       "HBox(children=(HTML(value='Summarize dataset'), FloatProgress(value=0.0, max=36.0), HTML(value='')))"
      ]
     },
     "metadata": {},
     "output_type": "display_data"
    },
    {
     "name": "stdout",
     "output_type": "stream",
     "text": [
      "\n"
     ]
    },
    {
     "data": {
      "application/vnd.jupyter.widget-view+json": {
       "model_id": "d4dc0b7521b14898bb5404da8a1642a2",
       "version_major": 2,
       "version_minor": 0
      },
      "text/plain": [
       "HBox(children=(HTML(value='Generate report structure'), FloatProgress(value=0.0, max=1.0), HTML(value='')))"
      ]
     },
     "metadata": {},
     "output_type": "display_data"
    },
    {
     "name": "stdout",
     "output_type": "stream",
     "text": [
      "\n"
     ]
    },
    {
     "data": {
      "application/vnd.jupyter.widget-view+json": {
       "model_id": "",
       "version_major": 2,
       "version_minor": 0
      },
      "text/plain": [
       "HBox(children=(HTML(value='Render widgets'), FloatProgress(value=0.0, max=1.0), HTML(value='')))"
      ]
     },
     "metadata": {},
     "output_type": "display_data"
    },
    {
     "data": {
      "application/vnd.jupyter.widget-view+json": {
       "model_id": "5ef9445580cb447b9c1078f7e18aa6ef",
       "version_major": 2,
       "version_minor": 0
      },
      "text/plain": [
       "VBox(children=(Tab(children=(Tab(children=(GridBox(children=(VBox(children=(GridspecLayout(children=(HTML(valu…"
      ]
     },
     "metadata": {},
     "output_type": "display_data"
    }
   ],
   "source": [
    "profile = ProfileReport(df, title=\"EDA_risque_de_crédit\", explorative=True)\n",
    "profile.to_widgets()"
   ]
  },
  {
   "cell_type": "code",
   "execution_count": null,
   "metadata": {},
   "outputs": [],
   "source": []
  },
  {
   "cell_type": "markdown",
   "metadata": {},
   "source": [
    "# Preprocessing\n",
    "\n",
    "## Importation des librairies"
   ]
  },
  {
   "cell_type": "code",
   "execution_count": 15,
   "metadata": {},
   "outputs": [],
   "source": [
    "import pandas as pd\n",
    "import numpy as np\n",
    "import matplotlib as plt\n",
    "from sklearn.preprocessing import RobustScaler"
   ]
  },
  {
   "cell_type": "markdown",
   "metadata": {},
   "source": [
    "## Importation du dataset et dictionnaire des valeurs manquantes"
   ]
  },
  {
   "cell_type": "code",
   "execution_count": 16,
   "metadata": {},
   "outputs": [
    {
     "data": {
      "text/html": [
       "<div>\n",
       "<style scoped>\n",
       "    .dataframe tbody tr th:only-of-type {\n",
       "        vertical-align: middle;\n",
       "    }\n",
       "\n",
       "    .dataframe tbody tr th {\n",
       "        vertical-align: top;\n",
       "    }\n",
       "\n",
       "    .dataframe thead th {\n",
       "        text-align: right;\n",
       "    }\n",
       "</style>\n",
       "<table border=\"1\" class=\"dataframe\">\n",
       "  <thead>\n",
       "    <tr style=\"text-align: right;\">\n",
       "      <th></th>\n",
       "      <th>checking_status</th>\n",
       "      <th>duration</th>\n",
       "      <th>credit_history</th>\n",
       "      <th>purpose</th>\n",
       "      <th>credit_amount</th>\n",
       "      <th>savings_status</th>\n",
       "      <th>employment</th>\n",
       "      <th>installment_commitment</th>\n",
       "      <th>sex</th>\n",
       "      <th>status_matrimonial</th>\n",
       "      <th>...</th>\n",
       "      <th>property_magnitude</th>\n",
       "      <th>age</th>\n",
       "      <th>other_payment_plans</th>\n",
       "      <th>housing</th>\n",
       "      <th>existing_credits</th>\n",
       "      <th>job</th>\n",
       "      <th>num_dependents</th>\n",
       "      <th>own_telephone</th>\n",
       "      <th>foreign_worker</th>\n",
       "      <th>class</th>\n",
       "    </tr>\n",
       "    <tr>\n",
       "      <th>id</th>\n",
       "      <th></th>\n",
       "      <th></th>\n",
       "      <th></th>\n",
       "      <th></th>\n",
       "      <th></th>\n",
       "      <th></th>\n",
       "      <th></th>\n",
       "      <th></th>\n",
       "      <th></th>\n",
       "      <th></th>\n",
       "      <th></th>\n",
       "      <th></th>\n",
       "      <th></th>\n",
       "      <th></th>\n",
       "      <th></th>\n",
       "      <th></th>\n",
       "      <th></th>\n",
       "      <th></th>\n",
       "      <th></th>\n",
       "      <th></th>\n",
       "      <th></th>\n",
       "    </tr>\n",
       "  </thead>\n",
       "  <tbody>\n",
       "    <tr>\n",
       "      <th>1</th>\n",
       "      <td>0&lt;=X&lt;200</td>\n",
       "      <td>48</td>\n",
       "      <td>existing paid</td>\n",
       "      <td>radio/tv</td>\n",
       "      <td>5951</td>\n",
       "      <td>&lt;100</td>\n",
       "      <td>1&lt;=X&lt;4</td>\n",
       "      <td>2</td>\n",
       "      <td>female</td>\n",
       "      <td>div/dep/mar</td>\n",
       "      <td>...</td>\n",
       "      <td>real estate</td>\n",
       "      <td>22</td>\n",
       "      <td>none</td>\n",
       "      <td>own</td>\n",
       "      <td>1</td>\n",
       "      <td>skilled</td>\n",
       "      <td>1</td>\n",
       "      <td>none</td>\n",
       "      <td>yes</td>\n",
       "      <td>bad</td>\n",
       "    </tr>\n",
       "    <tr>\n",
       "      <th>2</th>\n",
       "      <td>0&lt;=X&lt;200</td>\n",
       "      <td>12</td>\n",
       "      <td>existing paid</td>\n",
       "      <td>new car</td>\n",
       "      <td>1295</td>\n",
       "      <td>&lt;100</td>\n",
       "      <td>&lt;1</td>\n",
       "      <td>3</td>\n",
       "      <td>female</td>\n",
       "      <td>div/dep/mar</td>\n",
       "      <td>...</td>\n",
       "      <td>car</td>\n",
       "      <td>25</td>\n",
       "      <td>none</td>\n",
       "      <td>rent</td>\n",
       "      <td>1</td>\n",
       "      <td>skilled</td>\n",
       "      <td>1</td>\n",
       "      <td>none</td>\n",
       "      <td>yes</td>\n",
       "      <td>bad</td>\n",
       "    </tr>\n",
       "    <tr>\n",
       "      <th>3</th>\n",
       "      <td>&lt;0</td>\n",
       "      <td>48</td>\n",
       "      <td>existing paid</td>\n",
       "      <td>business</td>\n",
       "      <td>4308</td>\n",
       "      <td>&lt;100</td>\n",
       "      <td>&lt;1</td>\n",
       "      <td>3</td>\n",
       "      <td>female</td>\n",
       "      <td>div/dep/mar</td>\n",
       "      <td>...</td>\n",
       "      <td>life insurance</td>\n",
       "      <td>24</td>\n",
       "      <td>none</td>\n",
       "      <td>rent</td>\n",
       "      <td>1</td>\n",
       "      <td>skilled</td>\n",
       "      <td>1</td>\n",
       "      <td>none</td>\n",
       "      <td>yes</td>\n",
       "      <td>bad</td>\n",
       "    </tr>\n",
       "  </tbody>\n",
       "</table>\n",
       "<p>3 rows × 22 columns</p>\n",
       "</div>"
      ],
      "text/plain": [
       "   checking_status  duration credit_history   purpose  credit_amount  \\\n",
       "id                                                                     \n",
       "1         0<=X<200        48  existing paid  radio/tv           5951   \n",
       "2         0<=X<200        12  existing paid   new car           1295   \n",
       "3               <0        48  existing paid  business           4308   \n",
       "\n",
       "   savings_status employment  installment_commitment     sex  \\\n",
       "id                                                             \n",
       "1            <100     1<=X<4                       2  female   \n",
       "2            <100         <1                       3  female   \n",
       "3            <100         <1                       3  female   \n",
       "\n",
       "   status_matrimonial  ... property_magnitude  age other_payment_plans  \\\n",
       "id                     ...                                               \n",
       "1         div/dep/mar  ...        real estate   22                none   \n",
       "2         div/dep/mar  ...                car   25                none   \n",
       "3         div/dep/mar  ...     life insurance   24                none   \n",
       "\n",
       "    housing existing_credits      job  num_dependents own_telephone  \\\n",
       "id                                                                    \n",
       "1       own                1  skilled               1          none   \n",
       "2      rent                1  skilled               1          none   \n",
       "3      rent                1  skilled               1          none   \n",
       "\n",
       "    foreign_worker class  \n",
       "id                        \n",
       "1              yes   bad  \n",
       "2              yes   bad  \n",
       "3              yes   bad  \n",
       "\n",
       "[3 rows x 22 columns]"
      ]
     },
     "execution_count": 16,
     "metadata": {},
     "output_type": "execute_result"
    }
   ],
   "source": [
    "df = pd.read_excel('credit.xlsx')\n",
    "df.set_index('id', inplace=True)\n",
    "\n",
    "missing_values = [\"n/a\", \"na\", \"--\", \"NaN\", \"nan\", \"N/A\"]\n",
    "\n",
    "df.head(3)"
   ]
  },
  {
   "cell_type": "markdown",
   "metadata": {},
   "source": [
    "## Split du dataset en dataframe de variables catégorielles et variavles numériques"
   ]
  },
  {
   "cell_type": "code",
   "execution_count": 17,
   "metadata": {},
   "outputs": [],
   "source": [
    "# création de deux nouveaux dataframe cat et num\n",
    "cat = df[[\n",
    "    'checking_status', 'employment', 'credit_history', 'purpose',\n",
    "    'savings_status', 'sex', 'status_matrimonial', 'other_parties',\n",
    "    'property_magnitude', 'other_payment_plans', 'housing', 'job',\n",
    "    'own_telephone', 'foreign_worker', 'class'\n",
    "]]\n",
    "num = df[[\n",
    "    'duration', 'credit_amount', 'installment_commitment', 'residence_since',\n",
    "    'age', 'existing_credits', 'num_dependents'\n",
    "]]"
   ]
  },
  {
   "cell_type": "code",
   "execution_count": 19,
   "metadata": {},
   "outputs": [
    {
     "name": "stdout",
     "output_type": "stream",
     "text": [
      "(990, 15)\n",
      "(990, 7)\n"
     ]
    }
   ],
   "source": [
    "print(cat.shape)\n",
    "print(num.shape)"
   ]
  },
  {
   "cell_type": "markdown",
   "metadata": {},
   "source": [
    "## Valeurs manquantes\n",
    "\n",
    "### DataFrame Cat"
   ]
  },
  {
   "cell_type": "code",
   "execution_count": 20,
   "metadata": {},
   "outputs": [
    {
     "name": "stdout",
     "output_type": "stream",
     "text": [
      "<class 'pandas.core.frame.DataFrame'>\n",
      "Int64Index: 990 entries, 1 to 1000\n",
      "Data columns (total 15 columns):\n",
      " #   Column               Non-Null Count  Dtype \n",
      "---  ------               --------------  ----- \n",
      " 0   checking_status      990 non-null    object\n",
      " 1   employment           990 non-null    object\n",
      " 2   credit_history       990 non-null    object\n",
      " 3   purpose              990 non-null    object\n",
      " 4   savings_status       990 non-null    object\n",
      " 5   sex                  990 non-null    object\n",
      " 6   status_matrimonial   990 non-null    object\n",
      " 7   other_parties        990 non-null    object\n",
      " 8   property_magnitude   990 non-null    object\n",
      " 9   other_payment_plans  990 non-null    object\n",
      " 10  housing              990 non-null    object\n",
      " 11  job                  990 non-null    object\n",
      " 12  own_telephone        990 non-null    object\n",
      " 13  foreign_worker       990 non-null    object\n",
      " 14  class                990 non-null    object\n",
      "dtypes: object(15)\n",
      "memory usage: 123.8+ KB\n"
     ]
    }
   ],
   "source": [
    "cat.info()"
   ]
  },
  {
   "cell_type": "markdown",
   "metadata": {},
   "source": [
    "### DataFrame num"
   ]
  },
  {
   "cell_type": "code",
   "execution_count": 21,
   "metadata": {},
   "outputs": [
    {
     "name": "stdout",
     "output_type": "stream",
     "text": [
      "<class 'pandas.core.frame.DataFrame'>\n",
      "Int64Index: 990 entries, 1 to 1000\n",
      "Data columns (total 7 columns):\n",
      " #   Column                  Non-Null Count  Dtype\n",
      "---  ------                  --------------  -----\n",
      " 0   duration                990 non-null    int64\n",
      " 1   credit_amount           990 non-null    int64\n",
      " 2   installment_commitment  990 non-null    int64\n",
      " 3   residence_since         990 non-null    int64\n",
      " 4   age                     990 non-null    int64\n",
      " 5   existing_credits        990 non-null    int64\n",
      " 6   num_dependents          990 non-null    int64\n",
      "dtypes: int64(7)\n",
      "memory usage: 61.9 KB\n"
     ]
    }
   ],
   "source": [
    "num.info()"
   ]
  },
  {
   "cell_type": "markdown",
   "metadata": {},
   "source": [
    "## Imputation des variables manquantes"
   ]
  },
  {
   "cell_type": "code",
   "execution_count": 22,
   "metadata": {},
   "outputs": [],
   "source": [
    "# imputation variables numériques\n",
    "\n",
    "num['duration'].fillna((num['duration'].median()), inplace=True)\n",
    "num['credit_amount'].dropna(inplace=True)\n",
    "num['installment_commitment'].fillna((num['installment_commitment'].mean()),\n",
    "                                     inplace=True)\n",
    "num['residence_since'].fillna((num['residence_since'].median()), inplace=True)\n",
    "num['age'].fillna((num['age'].median()), inplace=True)\n",
    "num['existing_credits'].fillna((num['existing_credits'].median()),\n",
    "                               inplace=True)\n",
    "num['num_dependents'].fillna((num['num_dependents'].median()), inplace=True)\n",
    "\n",
    "# imputation variables catégorielles\n",
    "cat['credit_history'].fillna((cat['credit_history'].mode()), inplace=True)\n",
    "cat['checking_status'].fillna((cat['checking_status'].mode()), inplace=True)\n",
    "cat['employment'].fillna((cat['employment'].mode()), inplace=True)\n",
    "cat['purpose'].fillna((cat['purpose'].mode()), inplace=True)\n",
    "cat['savings_status'].fillna((cat['savings_status'].mode()), inplace=True)\n",
    "cat['sex'].fillna((cat['sex'].mode()), inplace=True)\n",
    "cat['status_matrimonial'].fillna((cat['status_matrimonial'].mode()),\n",
    "                                 inplace=True)\n",
    "cat['other_parties'].fillna((cat['other_parties'].mode()), inplace=True)\n",
    "cat['property_magnitude'].fillna((cat['property_magnitude'].mode()),\n",
    "                                 inplace=True)\n",
    "cat['other_payment_plans'].fillna((cat['other_payment_plans'].mode()),\n",
    "                                  inplace=True)\n",
    "cat['housing'].fillna((cat['housing'].mode()), inplace=True)\n",
    "cat['job'].fillna((cat['job'].mode()), inplace=True)\n",
    "cat['own_telephone'].fillna((cat['own_telephone'].mode()), inplace=True)\n",
    "cat['foreign_worker'].fillna((cat['foreign_worker'].mode()), inplace=True)"
   ]
  },
  {
   "cell_type": "markdown",
   "metadata": {},
   "source": [
    "## Détection des outliers ou valeurs aberrantes"
   ]
  },
  {
   "cell_type": "code",
   "execution_count": 23,
   "metadata": {},
   "outputs": [
    {
     "data": {
      "text/plain": [
       "<AxesSubplot:>"
      ]
     },
     "execution_count": 23,
     "metadata": {},
     "output_type": "execute_result"
    },
    {
     "data": {
      "image/png": "[encoded data removed]",
      "text/plain": [
       "<Figure size 432x288 with 1 Axes>"
      ]
     },
     "metadata": {
      "needs_background": "light"
     },
     "output_type": "display_data"
    }
   ],
   "source": [
    "num.boxplot(column='duration')"
   ]
  },
  {
   "cell_type": "code",
   "execution_count": 24,
   "metadata": {},
   "outputs": [
    {
     "data": {
      "text/plain": [
       "<AxesSubplot:>"
      ]
     },
     "execution_count": 24,
     "metadata": {},
     "output_type": "execute_result"
    },
    {
     "data": {
      "image/png": "[encoded data removed]",
      "text/plain": [
       "<Figure size 432x288 with 1 Axes>"
      ]
     },
     "metadata": {
      "needs_background": "light"
     },
     "output_type": "display_data"
    }
   ],
   "source": [
    "num.boxplot(column='credit_amount')"
   ]
  },
  {
   "cell_type": "code",
   "execution_count": 25,
   "metadata": {},
   "outputs": [
    {
     "data": {
      "text/plain": [
       "<AxesSubplot:>"
      ]
     },
     "execution_count": 25,
     "metadata": {},
     "output_type": "execute_result"
    },
    {
     "data": {
      "image/png": "[encoded data removed]",
      "text/plain": [
       "<Figure size 432x288 with 1 Axes>"
      ]
     },
     "metadata": {
      "needs_background": "light"
     },
     "output_type": "display_data"
    }
   ],
   "source": [
    "num.boxplot(column='installment_commitment')"
   ]
  },
  {
   "cell_type": "code",
   "execution_count": 26,
   "metadata": {},
   "outputs": [
    {
     "data": {
      "text/plain": [
       "<AxesSubplot:>"
      ]
     },
     "execution_count": 26,
     "metadata": {},
     "output_type": "execute_result"
    },
    {
     "data": {
      "image/png": "[encoded data removed]",
      "text/plain": [
       "<Figure size 432x288 with 1 Axes>"
      ]
     },
     "metadata": {
      "needs_background": "light"
     },
     "output_type": "display_data"
    }
   ],
   "source": [
    "num.boxplot(column='residence_since')"
   ]
  },
  {
   "cell_type": "code",
   "execution_count": 27,
   "metadata": {},
   "outputs": [
    {
     "data": {
      "text/plain": [
       "<AxesSubplot:>"
      ]
     },
     "execution_count": 27,
     "metadata": {},
     "output_type": "execute_result"
    },
    {
     "data": {
      "image/png": "[encoded data removed]",
      "text/plain": [
       "<Figure size 432x288 with 1 Axes>"
      ]
     },
     "metadata": {
      "needs_background": "light"
     },
     "output_type": "display_data"
    }
   ],
   "source": [
    "num.boxplot(column='age')"
   ]
  },
  {
   "cell_type": "code",
   "execution_count": 28,
   "metadata": {},
   "outputs": [
    {
     "data": {
      "text/plain": [
       "<AxesSubplot:>"
      ]
     },
     "execution_count": 28,
     "metadata": {},
     "output_type": "execute_result"
    },
    {
     "data": {
      "image/png": "[encoded data removed]",
      "text/plain": [
       "<Figure size 432x288 with 1 Axes>"
      ]
     },
     "metadata": {
      "needs_background": "light"
     },
     "output_type": "display_data"
    }
   ],
   "source": [
    "num.boxplot(column='existing_credits')"
   ]
  },
  {
   "cell_type": "code",
   "execution_count": 29,
   "metadata": {},
   "outputs": [
    {
     "data": {
      "text/plain": [
       "<AxesSubplot:>"
      ]
     },
     "execution_count": 29,
     "metadata": {},
     "output_type": "execute_result"
    },
    {
     "data": {
      "image/png": "[encoded data removed]",
      "text/plain": [
       "<Figure size 432x288 with 1 Axes>"
      ]
     },
     "metadata": {
      "needs_background": "light"
     },
     "output_type": "display_data"
    }
   ],
   "source": [
    "num.boxplot(column='num_dependents')"
   ]
  },
  {
   "cell_type": "markdown",
   "metadata": {},
   "source": [
    "## Traitement des outliers"
   ]
  },
  {
   "cell_type": "code",
   "execution_count": 30,
   "metadata": {},
   "outputs": [],
   "source": [
    "# On supprime les valeurs aberrantes pour la colonne âge\n",
    "\n",
    "# On calcule Q1\n",
    "\n",
    "# q1=num[\"age\"].quantile(q=0.25)\n",
    "\n",
    "# On calcule Q3\n",
    "\n",
    "# q3=num[\"age\"].quantile(q=0.75)\n",
    "\n",
    "# On calcule l'écart interquartile (IQR)\n",
    "\n",
    "# IQR=q3-q1\n",
    "\n",
    "# On calcule la borne inférieure à l'aide du Q1 et de l'écart interquartile\n",
    "\n",
    "#borne_inf = q1-1.5*IQR\n",
    "\n",
    "# On calcule la borne supérieure à l'aide du Q3 et de l'écart interquartile\n",
    "\n",
    "#borne_sup = q3 +1.5*IQR\n",
    "\n",
    "# On garde les valeurs à l'intérieur de la borne inférieure et supérieure\n",
    "\n",
    "#num= num[num[\"age\"]<borne_sup]\n",
    "# num=num[num[\"age\"]>borne_inf]"
   ]
  },
  {
   "cell_type": "code",
   "execution_count": 31,
   "metadata": {},
   "outputs": [],
   "source": [
    "# On supprime les valeurs aberrantes pour la colonne duration\n",
    "\n",
    "# On calcule Q1\n",
    "\n",
    "# q1=num[\"duration\"].quantile(q=0.25)\n",
    "\n",
    "# On calcule Q3\n",
    "\n",
    "# q3=num[\"duration\"].quantile(q=0.75)\n",
    "\n",
    "# On calcule l'écart interquartile (IQR)\n",
    "\n",
    "# IQR=q3-q1\n",
    "\n",
    "# On calcule la borne inférieure à l'aide du Q1 et de l'écart interquartile\n",
    "\n",
    "#borne_inf = q1-1.5*IQR\n",
    "\n",
    "# On calcule la borne supérieure à l'aide du Q3 et de l'écart interquartile\n",
    "\n",
    "#borne_sup = q3 +1.5*IQR\n",
    "\n",
    "# On garde les valeurs à l'intérieur de la borne inférieure et supérieure\n",
    "\n",
    "#num= num[num[\"duration\"]<borne_sup]\n",
    "# num=num[num[\"duration\"]>borne_inf]"
   ]
  },
  {
   "cell_type": "code",
   "execution_count": 32,
   "metadata": {},
   "outputs": [],
   "source": [
    "# On supprime les valeurs aberrantes pour la colonne credit_amount\n",
    "\n",
    "# On calcule Q1\n",
    "\n",
    "# q1=num[\"credit_amount\"].quantile(q=0.25)\n",
    "\n",
    "# On calcule Q3\n",
    "\n",
    "# q3=num[\"credit_amount\"].quantile(q=0.75)\n",
    "\n",
    "# On calcule l'écart interquartile (IQR)\n",
    "\n",
    "# IQR=q3-q1\n",
    "\n",
    "# On calcule la borne inférieure à l'aide du Q1 et de l'écart interquartile\n",
    "\n",
    "#borne_inf = q1-1.5*IQR\n",
    "\n",
    "# On calcule la borne supérieure à l'aide du Q3 et de l'écart interquartile\n",
    "\n",
    "#borne_sup = q3 +1.5*IQR\n",
    "\n",
    "# On garde les valeurs à l'intérieur de la borne inférieure et supérieure\n",
    "\n",
    "#num= num[num[\"credit_amount\"]<borne_sup]\n",
    "# num=num[num[\"credit_amount\"]>borne_inf]"
   ]
  },
  {
   "cell_type": "markdown",
   "metadata": {},
   "source": [
    "## Normalisation des données"
   ]
  },
  {
   "cell_type": "code",
   "execution_count": 33,
   "metadata": {},
   "outputs": [],
   "source": [
    "scaler = RobustScaler().fit(num)\n",
    "num1 = scaler.transform(num)\n",
    "num1 = pd.DataFrame(num1, index=num.index, columns=num.columns)\n",
    "num = num1"
   ]
  },
  {
   "cell_type": "code",
   "execution_count": 34,
   "metadata": {},
   "outputs": [
    {
     "data": {
      "text/html": [
       "<div>\n",
       "<style scoped>\n",
       "    .dataframe tbody tr th:only-of-type {\n",
       "        vertical-align: middle;\n",
       "    }\n",
       "\n",
       "    .dataframe tbody tr th {\n",
       "        vertical-align: top;\n",
       "    }\n",
       "\n",
       "    .dataframe thead th {\n",
       "        text-align: right;\n",
       "    }\n",
       "</style>\n",
       "<table border=\"1\" class=\"dataframe\">\n",
       "  <thead>\n",
       "    <tr style=\"text-align: right;\">\n",
       "      <th></th>\n",
       "      <th>duration</th>\n",
       "      <th>credit_amount</th>\n",
       "      <th>installment_commitment</th>\n",
       "      <th>residence_since</th>\n",
       "      <th>age</th>\n",
       "      <th>existing_credits</th>\n",
       "      <th>num_dependents</th>\n",
       "    </tr>\n",
       "    <tr>\n",
       "      <th>id</th>\n",
       "      <th></th>\n",
       "      <th></th>\n",
       "      <th></th>\n",
       "      <th></th>\n",
       "      <th></th>\n",
       "      <th></th>\n",
       "      <th></th>\n",
       "    </tr>\n",
       "  </thead>\n",
       "  <tbody>\n",
       "    <tr>\n",
       "      <th>1</th>\n",
       "      <td>2.50</td>\n",
       "      <td>1.393015</td>\n",
       "      <td>-0.5</td>\n",
       "      <td>-0.5</td>\n",
       "      <td>-0.733333</td>\n",
       "      <td>0.0</td>\n",
       "      <td>0.0</td>\n",
       "    </tr>\n",
       "    <tr>\n",
       "      <th>2</th>\n",
       "      <td>-0.50</td>\n",
       "      <td>-0.393974</td>\n",
       "      <td>0.0</td>\n",
       "      <td>-1.0</td>\n",
       "      <td>-0.533333</td>\n",
       "      <td>0.0</td>\n",
       "      <td>0.0</td>\n",
       "    </tr>\n",
       "    <tr>\n",
       "      <th>3</th>\n",
       "      <td>2.50</td>\n",
       "      <td>0.762426</td>\n",
       "      <td>0.0</td>\n",
       "      <td>0.5</td>\n",
       "      <td>-0.600000</td>\n",
       "      <td>0.0</td>\n",
       "      <td>0.0</td>\n",
       "    </tr>\n",
       "    <tr>\n",
       "      <th>4</th>\n",
       "      <td>-0.50</td>\n",
       "      <td>-0.289580</td>\n",
       "      <td>-1.0</td>\n",
       "      <td>-1.0</td>\n",
       "      <td>-0.733333</td>\n",
       "      <td>0.0</td>\n",
       "      <td>0.0</td>\n",
       "    </tr>\n",
       "    <tr>\n",
       "      <th>5</th>\n",
       "      <td>-0.25</td>\n",
       "      <td>-0.352524</td>\n",
       "      <td>-0.5</td>\n",
       "      <td>0.5</td>\n",
       "      <td>-0.333333</td>\n",
       "      <td>0.0</td>\n",
       "      <td>0.0</td>\n",
       "    </tr>\n",
       "    <tr>\n",
       "      <th>...</th>\n",
       "      <td>...</td>\n",
       "      <td>...</td>\n",
       "      <td>...</td>\n",
       "      <td>...</td>\n",
       "      <td>...</td>\n",
       "      <td>...</td>\n",
       "      <td>...</td>\n",
       "    </tr>\n",
       "    <tr>\n",
       "      <th>996</th>\n",
       "      <td>1.50</td>\n",
       "      <td>0.628478</td>\n",
       "      <td>0.5</td>\n",
       "      <td>0.0</td>\n",
       "      <td>-0.200000</td>\n",
       "      <td>0.0</td>\n",
       "      <td>0.0</td>\n",
       "    </tr>\n",
       "    <tr>\n",
       "      <th>997</th>\n",
       "      <td>-0.50</td>\n",
       "      <td>0.026291</td>\n",
       "      <td>0.5</td>\n",
       "      <td>0.0</td>\n",
       "      <td>1.133333</td>\n",
       "      <td>0.0</td>\n",
       "      <td>0.0</td>\n",
       "    </tr>\n",
       "    <tr>\n",
       "      <th>998</th>\n",
       "      <td>-0.50</td>\n",
       "      <td>-0.582422</td>\n",
       "      <td>0.5</td>\n",
       "      <td>0.5</td>\n",
       "      <td>0.333333</td>\n",
       "      <td>0.0</td>\n",
       "      <td>0.0</td>\n",
       "    </tr>\n",
       "    <tr>\n",
       "      <th>999</th>\n",
       "      <td>2.25</td>\n",
       "      <td>-0.182882</td>\n",
       "      <td>0.5</td>\n",
       "      <td>0.5</td>\n",
       "      <td>-0.666667</td>\n",
       "      <td>0.0</td>\n",
       "      <td>0.0</td>\n",
       "    </tr>\n",
       "    <tr>\n",
       "      <th>1000</th>\n",
       "      <td>2.25</td>\n",
       "      <td>0.865285</td>\n",
       "      <td>0.0</td>\n",
       "      <td>0.5</td>\n",
       "      <td>-0.400000</td>\n",
       "      <td>0.0</td>\n",
       "      <td>0.0</td>\n",
       "    </tr>\n",
       "  </tbody>\n",
       "</table>\n",
       "<p>990 rows × 7 columns</p>\n",
       "</div>"
      ],
      "text/plain": [
       "      duration  credit_amount  installment_commitment  residence_since  \\\n",
       "id                                                                       \n",
       "1         2.50       1.393015                    -0.5             -0.5   \n",
       "2        -0.50      -0.393974                     0.0             -1.0   \n",
       "3         2.50       0.762426                     0.0              0.5   \n",
       "4        -0.50      -0.289580                    -1.0             -1.0   \n",
       "5        -0.25      -0.352524                    -0.5              0.5   \n",
       "...        ...            ...                     ...              ...   \n",
       "996       1.50       0.628478                     0.5              0.0   \n",
       "997      -0.50       0.026291                     0.5              0.0   \n",
       "998      -0.50      -0.582422                     0.5              0.5   \n",
       "999       2.25      -0.182882                     0.5              0.5   \n",
       "1000      2.25       0.865285                     0.0              0.5   \n",
       "\n",
       "           age  existing_credits  num_dependents  \n",
       "id                                                \n",
       "1    -0.733333               0.0             0.0  \n",
       "2    -0.533333               0.0             0.0  \n",
       "3    -0.600000               0.0             0.0  \n",
       "4    -0.733333               0.0             0.0  \n",
       "5    -0.333333               0.0             0.0  \n",
       "...        ...               ...             ...  \n",
       "996  -0.200000               0.0             0.0  \n",
       "997   1.133333               0.0             0.0  \n",
       "998   0.333333               0.0             0.0  \n",
       "999  -0.666667               0.0             0.0  \n",
       "1000 -0.400000               0.0             0.0  \n",
       "\n",
       "[990 rows x 7 columns]"
      ]
     },
     "execution_count": 34,
     "metadata": {},
     "output_type": "execute_result"
    }
   ],
   "source": [
    "# Données normalisées grâce au RobustScaler\n",
    "num"
   ]
  },
  {
   "cell_type": "code",
   "execution_count": 35,
   "metadata": {},
   "outputs": [],
   "source": [
    "# Encodage des variables catégorielles"
   ]
  },
  {
   "cell_type": "code",
   "execution_count": 36,
   "metadata": {},
   "outputs": [],
   "source": [
    "# Changement du type des variables objets en category\n",
    "cat = cat.astype('category')"
   ]
  },
  {
   "cell_type": "markdown",
   "metadata": {},
   "source": [
    "### Encodage des variables ordinales"
   ]
  },
  {
   "cell_type": "code",
   "execution_count": 37,
   "metadata": {},
   "outputs": [],
   "source": [
    "cat['own_telephone'].replace({'yes': '1', 'none': '0'}, inplace=True)\n",
    "cat['foreign_worker'].replace({'yes': '1', 'no': '0'}, inplace=True)\n",
    "cat['class'].replace({'good': '1', 'bad': '0'}, inplace=True)\n",
    "cat['other_parties'].replace(\n",
    "    {\n",
    "        'none': '0',\n",
    "        'co applicant': '1',\n",
    "        'guarantor': '2'\n",
    "    }, inplace=True)\n",
    "cat['employment'].replace(\n",
    "    {\n",
    "        'unemployed': '0',\n",
    "        '<1': '1',\n",
    "        '1<=X<4': '2',\n",
    "        '4<=X<7': '3',\n",
    "        '>=7': '4'\n",
    "    },\n",
    "    inplace=True)\n",
    "cat['savings_status'].replace(\n",
    "    {\n",
    "        'no known savings': '0',\n",
    "        '<100': '1',\n",
    "        '100<=X<500': '2',\n",
    "        '500<=X<1000': '3',\n",
    "        '>=1000': '4'\n",
    "    },\n",
    "    inplace=True)\n",
    "cat['sex'].replace({'male': '1', 'female': '0'}, inplace=True)\n",
    "cat['checking_status'].replace(\n",
    "    {\n",
    "        \"no checking\": 0,\n",
    "        '<0': '1',\n",
    "        '0<=X<200': '2',\n",
    "        '>=200': '3'\n",
    "    }, inplace=True)"
   ]
  },
  {
   "cell_type": "code",
   "execution_count": 38,
   "metadata": {},
   "outputs": [
    {
     "data": {
      "text/html": [
       "<div>\n",
       "<style scoped>\n",
       "    .dataframe tbody tr th:only-of-type {\n",
       "        vertical-align: middle;\n",
       "    }\n",
       "\n",
       "    .dataframe tbody tr th {\n",
       "        vertical-align: top;\n",
       "    }\n",
       "\n",
       "    .dataframe thead th {\n",
       "        text-align: right;\n",
       "    }\n",
       "</style>\n",
       "<table border=\"1\" class=\"dataframe\">\n",
       "  <thead>\n",
       "    <tr style=\"text-align: right;\">\n",
       "      <th></th>\n",
       "      <th>checking_status</th>\n",
       "      <th>employment</th>\n",
       "      <th>credit_history</th>\n",
       "      <th>purpose</th>\n",
       "      <th>savings_status</th>\n",
       "      <th>sex</th>\n",
       "      <th>status_matrimonial</th>\n",
       "      <th>other_parties</th>\n",
       "      <th>property_magnitude</th>\n",
       "      <th>other_payment_plans</th>\n",
       "      <th>housing</th>\n",
       "      <th>job</th>\n",
       "      <th>own_telephone</th>\n",
       "      <th>foreign_worker</th>\n",
       "      <th>class</th>\n",
       "    </tr>\n",
       "    <tr>\n",
       "      <th>id</th>\n",
       "      <th></th>\n",
       "      <th></th>\n",
       "      <th></th>\n",
       "      <th></th>\n",
       "      <th></th>\n",
       "      <th></th>\n",
       "      <th></th>\n",
       "      <th></th>\n",
       "      <th></th>\n",
       "      <th></th>\n",
       "      <th></th>\n",
       "      <th></th>\n",
       "      <th></th>\n",
       "      <th></th>\n",
       "      <th></th>\n",
       "    </tr>\n",
       "  </thead>\n",
       "  <tbody>\n",
       "    <tr>\n",
       "      <th>1</th>\n",
       "      <td>2</td>\n",
       "      <td>2</td>\n",
       "      <td>existing paid</td>\n",
       "      <td>radio/tv</td>\n",
       "      <td>1</td>\n",
       "      <td>0</td>\n",
       "      <td>div/dep/mar</td>\n",
       "      <td>0</td>\n",
       "      <td>real estate</td>\n",
       "      <td>none</td>\n",
       "      <td>own</td>\n",
       "      <td>skilled</td>\n",
       "      <td>0</td>\n",
       "      <td>1</td>\n",
       "      <td>0</td>\n",
       "    </tr>\n",
       "    <tr>\n",
       "      <th>2</th>\n",
       "      <td>2</td>\n",
       "      <td>1</td>\n",
       "      <td>existing paid</td>\n",
       "      <td>new car</td>\n",
       "      <td>1</td>\n",
       "      <td>0</td>\n",
       "      <td>div/dep/mar</td>\n",
       "      <td>0</td>\n",
       "      <td>car</td>\n",
       "      <td>none</td>\n",
       "      <td>rent</td>\n",
       "      <td>skilled</td>\n",
       "      <td>0</td>\n",
       "      <td>1</td>\n",
       "      <td>0</td>\n",
       "    </tr>\n",
       "    <tr>\n",
       "      <th>3</th>\n",
       "      <td>1</td>\n",
       "      <td>1</td>\n",
       "      <td>existing paid</td>\n",
       "      <td>business</td>\n",
       "      <td>1</td>\n",
       "      <td>0</td>\n",
       "      <td>div/dep/mar</td>\n",
       "      <td>0</td>\n",
       "      <td>life insurance</td>\n",
       "      <td>none</td>\n",
       "      <td>rent</td>\n",
       "      <td>skilled</td>\n",
       "      <td>0</td>\n",
       "      <td>1</td>\n",
       "      <td>0</td>\n",
       "    </tr>\n",
       "    <tr>\n",
       "      <th>4</th>\n",
       "      <td>2</td>\n",
       "      <td>2</td>\n",
       "      <td>existing paid</td>\n",
       "      <td>radio/tv</td>\n",
       "      <td>1</td>\n",
       "      <td>0</td>\n",
       "      <td>div/dep/mar</td>\n",
       "      <td>0</td>\n",
       "      <td>car</td>\n",
       "      <td>none</td>\n",
       "      <td>own</td>\n",
       "      <td>skilled</td>\n",
       "      <td>1</td>\n",
       "      <td>1</td>\n",
       "      <td>1</td>\n",
       "    </tr>\n",
       "    <tr>\n",
       "      <th>5</th>\n",
       "      <td>1</td>\n",
       "      <td>2</td>\n",
       "      <td>existing paid</td>\n",
       "      <td>new car</td>\n",
       "      <td>1</td>\n",
       "      <td>0</td>\n",
       "      <td>div/dep/mar</td>\n",
       "      <td>0</td>\n",
       "      <td>car</td>\n",
       "      <td>none</td>\n",
       "      <td>rent</td>\n",
       "      <td>skilled</td>\n",
       "      <td>0</td>\n",
       "      <td>1</td>\n",
       "      <td>1</td>\n",
       "    </tr>\n",
       "    <tr>\n",
       "      <th>...</th>\n",
       "      <td>...</td>\n",
       "      <td>...</td>\n",
       "      <td>...</td>\n",
       "      <td>...</td>\n",
       "      <td>...</td>\n",
       "      <td>...</td>\n",
       "      <td>...</td>\n",
       "      <td>...</td>\n",
       "      <td>...</td>\n",
       "      <td>...</td>\n",
       "      <td>...</td>\n",
       "      <td>...</td>\n",
       "      <td>...</td>\n",
       "      <td>...</td>\n",
       "      <td>...</td>\n",
       "    </tr>\n",
       "    <tr>\n",
       "      <th>996</th>\n",
       "      <td>1</td>\n",
       "      <td>0</td>\n",
       "      <td>existing paid</td>\n",
       "      <td>furniture/equipment</td>\n",
       "      <td>1</td>\n",
       "      <td>1</td>\n",
       "      <td>single</td>\n",
       "      <td>0</td>\n",
       "      <td>life insurance</td>\n",
       "      <td>none</td>\n",
       "      <td>own</td>\n",
       "      <td>high qualif/self emp/mgmt</td>\n",
       "      <td>1</td>\n",
       "      <td>1</td>\n",
       "      <td>1</td>\n",
       "    </tr>\n",
       "    <tr>\n",
       "      <th>997</th>\n",
       "      <td>0</td>\n",
       "      <td>4</td>\n",
       "      <td>existing paid</td>\n",
       "      <td>new car</td>\n",
       "      <td>0</td>\n",
       "      <td>1</td>\n",
       "      <td>single</td>\n",
       "      <td>0</td>\n",
       "      <td>car</td>\n",
       "      <td>none</td>\n",
       "      <td>own</td>\n",
       "      <td>skilled</td>\n",
       "      <td>1</td>\n",
       "      <td>1</td>\n",
       "      <td>1</td>\n",
       "    </tr>\n",
       "    <tr>\n",
       "      <th>998</th>\n",
       "      <td>0</td>\n",
       "      <td>4</td>\n",
       "      <td>existing paid</td>\n",
       "      <td>radio/tv</td>\n",
       "      <td>1</td>\n",
       "      <td>1</td>\n",
       "      <td>single</td>\n",
       "      <td>0</td>\n",
       "      <td>car</td>\n",
       "      <td>none</td>\n",
       "      <td>own</td>\n",
       "      <td>skilled</td>\n",
       "      <td>0</td>\n",
       "      <td>1</td>\n",
       "      <td>1</td>\n",
       "    </tr>\n",
       "    <tr>\n",
       "      <th>999</th>\n",
       "      <td>1</td>\n",
       "      <td>2</td>\n",
       "      <td>existing paid</td>\n",
       "      <td>radio/tv</td>\n",
       "      <td>1</td>\n",
       "      <td>1</td>\n",
       "      <td>single</td>\n",
       "      <td>0</td>\n",
       "      <td>no known property</td>\n",
       "      <td>none</td>\n",
       "      <td>for free</td>\n",
       "      <td>skilled</td>\n",
       "      <td>1</td>\n",
       "      <td>1</td>\n",
       "      <td>0</td>\n",
       "    </tr>\n",
       "    <tr>\n",
       "      <th>1000</th>\n",
       "      <td>2</td>\n",
       "      <td>0</td>\n",
       "      <td>critical/other existing credit</td>\n",
       "      <td>used car</td>\n",
       "      <td>2</td>\n",
       "      <td>1</td>\n",
       "      <td>single</td>\n",
       "      <td>0</td>\n",
       "      <td>car</td>\n",
       "      <td>none</td>\n",
       "      <td>own</td>\n",
       "      <td>skilled</td>\n",
       "      <td>0</td>\n",
       "      <td>1</td>\n",
       "      <td>1</td>\n",
       "    </tr>\n",
       "  </tbody>\n",
       "</table>\n",
       "<p>990 rows × 15 columns</p>\n",
       "</div>"
      ],
      "text/plain": [
       "     checking_status employment                  credit_history  \\\n",
       "id                                                                \n",
       "1                  2          2                   existing paid   \n",
       "2                  2          1                   existing paid   \n",
       "3                  1          1                   existing paid   \n",
       "4                  2          2                   existing paid   \n",
       "5                  1          2                   existing paid   \n",
       "...              ...        ...                             ...   \n",
       "996                1          0                   existing paid   \n",
       "997                0          4                   existing paid   \n",
       "998                0          4                   existing paid   \n",
       "999                1          2                   existing paid   \n",
       "1000               2          0  critical/other existing credit   \n",
       "\n",
       "                  purpose savings_status sex status_matrimonial other_parties  \\\n",
       "id                                                                              \n",
       "1                radio/tv              1   0        div/dep/mar             0   \n",
       "2                 new car              1   0        div/dep/mar             0   \n",
       "3                business              1   0        div/dep/mar             0   \n",
       "4                radio/tv              1   0        div/dep/mar             0   \n",
       "5                 new car              1   0        div/dep/mar             0   \n",
       "...                   ...            ...  ..                ...           ...   \n",
       "996   furniture/equipment              1   1             single             0   \n",
       "997               new car              0   1             single             0   \n",
       "998              radio/tv              1   1             single             0   \n",
       "999              radio/tv              1   1             single             0   \n",
       "1000             used car              2   1             single             0   \n",
       "\n",
       "     property_magnitude other_payment_plans   housing  \\\n",
       "id                                                      \n",
       "1           real estate                none       own   \n",
       "2                   car                none      rent   \n",
       "3        life insurance                none      rent   \n",
       "4                   car                none       own   \n",
       "5                   car                none      rent   \n",
       "...                 ...                 ...       ...   \n",
       "996      life insurance                none       own   \n",
       "997                 car                none       own   \n",
       "998                 car                none       own   \n",
       "999   no known property                none  for free   \n",
       "1000                car                none       own   \n",
       "\n",
       "                            job own_telephone foreign_worker class  \n",
       "id                                                                  \n",
       "1                       skilled             0              1     0  \n",
       "2                       skilled             0              1     0  \n",
       "3                       skilled             0              1     0  \n",
       "4                       skilled             1              1     1  \n",
       "5                       skilled             0              1     1  \n",
       "...                         ...           ...            ...   ...  \n",
       "996   high qualif/self emp/mgmt             1              1     1  \n",
       "997                     skilled             1              1     1  \n",
       "998                     skilled             0              1     1  \n",
       "999                     skilled             1              1     0  \n",
       "1000                    skilled             0              1     1  \n",
       "\n",
       "[990 rows x 15 columns]"
      ]
     },
     "execution_count": 38,
     "metadata": {},
     "output_type": "execute_result"
    }
   ],
   "source": [
    "cat"
   ]
  },
  {
   "cell_type": "markdown",
   "metadata": {},
   "source": [
    "### Encodage des variables nominales"
   ]
  },
  {
   "cell_type": "code",
   "execution_count": 39,
   "metadata": {},
   "outputs": [],
   "source": [
    "cat = pd.get_dummies(cat,\n",
    "                     columns=[\n",
    "                         'credit_history', 'purpose', 'status_matrimonial',\n",
    "                         'property_magnitude', 'other_payment_plans',\n",
    "                         'housing', 'job'\n",
    "                     ])"
   ]
  },
  {
   "cell_type": "code",
   "execution_count": 40,
   "metadata": {},
   "outputs": [
    {
     "data": {
      "text/html": [
       "<div>\n",
       "<style scoped>\n",
       "    .dataframe tbody tr th:only-of-type {\n",
       "        vertical-align: middle;\n",
       "    }\n",
       "\n",
       "    .dataframe tbody tr th {\n",
       "        vertical-align: top;\n",
       "    }\n",
       "\n",
       "    .dataframe thead th {\n",
       "        text-align: right;\n",
       "    }\n",
       "</style>\n",
       "<table border=\"1\" class=\"dataframe\">\n",
       "  <thead>\n",
       "    <tr style=\"text-align: right;\">\n",
       "      <th></th>\n",
       "      <th>checking_status</th>\n",
       "      <th>employment</th>\n",
       "      <th>savings_status</th>\n",
       "      <th>sex</th>\n",
       "      <th>other_parties</th>\n",
       "      <th>own_telephone</th>\n",
       "      <th>foreign_worker</th>\n",
       "      <th>class</th>\n",
       "      <th>credit_history_all paid</th>\n",
       "      <th>credit_history_critical/other existing credit</th>\n",
       "      <th>...</th>\n",
       "      <th>other_payment_plans_bank</th>\n",
       "      <th>other_payment_plans_none</th>\n",
       "      <th>other_payment_plans_stores</th>\n",
       "      <th>housing_for free</th>\n",
       "      <th>housing_own</th>\n",
       "      <th>housing_rent</th>\n",
       "      <th>job_high qualif/self emp/mgmt</th>\n",
       "      <th>job_skilled</th>\n",
       "      <th>job_unemp/unskilled non res</th>\n",
       "      <th>job_unskilled resident</th>\n",
       "    </tr>\n",
       "    <tr>\n",
       "      <th>id</th>\n",
       "      <th></th>\n",
       "      <th></th>\n",
       "      <th></th>\n",
       "      <th></th>\n",
       "      <th></th>\n",
       "      <th></th>\n",
       "      <th></th>\n",
       "      <th></th>\n",
       "      <th></th>\n",
       "      <th></th>\n",
       "      <th></th>\n",
       "      <th></th>\n",
       "      <th></th>\n",
       "      <th></th>\n",
       "      <th></th>\n",
       "      <th></th>\n",
       "      <th></th>\n",
       "      <th></th>\n",
       "      <th></th>\n",
       "      <th></th>\n",
       "      <th></th>\n",
       "    </tr>\n",
       "  </thead>\n",
       "  <tbody>\n",
       "    <tr>\n",
       "      <th>1</th>\n",
       "      <td>2</td>\n",
       "      <td>2</td>\n",
       "      <td>1</td>\n",
       "      <td>0</td>\n",
       "      <td>0</td>\n",
       "      <td>0</td>\n",
       "      <td>1</td>\n",
       "      <td>0</td>\n",
       "      <td>0</td>\n",
       "      <td>0</td>\n",
       "      <td>...</td>\n",
       "      <td>0</td>\n",
       "      <td>1</td>\n",
       "      <td>0</td>\n",
       "      <td>0</td>\n",
       "      <td>1</td>\n",
       "      <td>0</td>\n",
       "      <td>0</td>\n",
       "      <td>1</td>\n",
       "      <td>0</td>\n",
       "      <td>0</td>\n",
       "    </tr>\n",
       "    <tr>\n",
       "      <th>2</th>\n",
       "      <td>2</td>\n",
       "      <td>1</td>\n",
       "      <td>1</td>\n",
       "      <td>0</td>\n",
       "      <td>0</td>\n",
       "      <td>0</td>\n",
       "      <td>1</td>\n",
       "      <td>0</td>\n",
       "      <td>0</td>\n",
       "      <td>0</td>\n",
       "      <td>...</td>\n",
       "      <td>0</td>\n",
       "      <td>1</td>\n",
       "      <td>0</td>\n",
       "      <td>0</td>\n",
       "      <td>0</td>\n",
       "      <td>1</td>\n",
       "      <td>0</td>\n",
       "      <td>1</td>\n",
       "      <td>0</td>\n",
       "      <td>0</td>\n",
       "    </tr>\n",
       "    <tr>\n",
       "      <th>3</th>\n",
       "      <td>1</td>\n",
       "      <td>1</td>\n",
       "      <td>1</td>\n",
       "      <td>0</td>\n",
       "      <td>0</td>\n",
       "      <td>0</td>\n",
       "      <td>1</td>\n",
       "      <td>0</td>\n",
       "      <td>0</td>\n",
       "      <td>0</td>\n",
       "      <td>...</td>\n",
       "      <td>0</td>\n",
       "      <td>1</td>\n",
       "      <td>0</td>\n",
       "      <td>0</td>\n",
       "      <td>0</td>\n",
       "      <td>1</td>\n",
       "      <td>0</td>\n",
       "      <td>1</td>\n",
       "      <td>0</td>\n",
       "      <td>0</td>\n",
       "    </tr>\n",
       "    <tr>\n",
       "      <th>4</th>\n",
       "      <td>2</td>\n",
       "      <td>2</td>\n",
       "      <td>1</td>\n",
       "      <td>0</td>\n",
       "      <td>0</td>\n",
       "      <td>1</td>\n",
       "      <td>1</td>\n",
       "      <td>1</td>\n",
       "      <td>0</td>\n",
       "      <td>0</td>\n",
       "      <td>...</td>\n",
       "      <td>0</td>\n",
       "      <td>1</td>\n",
       "      <td>0</td>\n",
       "      <td>0</td>\n",
       "      <td>1</td>\n",
       "      <td>0</td>\n",
       "      <td>0</td>\n",
       "      <td>1</td>\n",
       "      <td>0</td>\n",
       "      <td>0</td>\n",
       "    </tr>\n",
       "    <tr>\n",
       "      <th>5</th>\n",
       "      <td>1</td>\n",
       "      <td>2</td>\n",
       "      <td>1</td>\n",
       "      <td>0</td>\n",
       "      <td>0</td>\n",
       "      <td>0</td>\n",
       "      <td>1</td>\n",
       "      <td>1</td>\n",
       "      <td>0</td>\n",
       "      <td>0</td>\n",
       "      <td>...</td>\n",
       "      <td>0</td>\n",
       "      <td>1</td>\n",
       "      <td>0</td>\n",
       "      <td>0</td>\n",
       "      <td>0</td>\n",
       "      <td>1</td>\n",
       "      <td>0</td>\n",
       "      <td>1</td>\n",
       "      <td>0</td>\n",
       "      <td>0</td>\n",
       "    </tr>\n",
       "    <tr>\n",
       "      <th>...</th>\n",
       "      <td>...</td>\n",
       "      <td>...</td>\n",
       "      <td>...</td>\n",
       "      <td>...</td>\n",
       "      <td>...</td>\n",
       "      <td>...</td>\n",
       "      <td>...</td>\n",
       "      <td>...</td>\n",
       "      <td>...</td>\n",
       "      <td>...</td>\n",
       "      <td>...</td>\n",
       "      <td>...</td>\n",
       "      <td>...</td>\n",
       "      <td>...</td>\n",
       "      <td>...</td>\n",
       "      <td>...</td>\n",
       "      <td>...</td>\n",
       "      <td>...</td>\n",
       "      <td>...</td>\n",
       "      <td>...</td>\n",
       "      <td>...</td>\n",
       "    </tr>\n",
       "    <tr>\n",
       "      <th>996</th>\n",
       "      <td>1</td>\n",
       "      <td>0</td>\n",
       "      <td>1</td>\n",
       "      <td>1</td>\n",
       "      <td>0</td>\n",
       "      <td>1</td>\n",
       "      <td>1</td>\n",
       "      <td>1</td>\n",
       "      <td>0</td>\n",
       "      <td>0</td>\n",
       "      <td>...</td>\n",
       "      <td>0</td>\n",
       "      <td>1</td>\n",
       "      <td>0</td>\n",
       "      <td>0</td>\n",
       "      <td>1</td>\n",
       "      <td>0</td>\n",
       "      <td>1</td>\n",
       "      <td>0</td>\n",
       "      <td>0</td>\n",
       "      <td>0</td>\n",
       "    </tr>\n",
       "    <tr>\n",
       "      <th>997</th>\n",
       "      <td>0</td>\n",
       "      <td>4</td>\n",
       "      <td>0</td>\n",
       "      <td>1</td>\n",
       "      <td>0</td>\n",
       "      <td>1</td>\n",
       "      <td>1</td>\n",
       "      <td>1</td>\n",
       "      <td>0</td>\n",
       "      <td>0</td>\n",
       "      <td>...</td>\n",
       "      <td>0</td>\n",
       "      <td>1</td>\n",
       "      <td>0</td>\n",
       "      <td>0</td>\n",
       "      <td>1</td>\n",
       "      <td>0</td>\n",
       "      <td>0</td>\n",
       "      <td>1</td>\n",
       "      <td>0</td>\n",
       "      <td>0</td>\n",
       "    </tr>\n",
       "    <tr>\n",
       "      <th>998</th>\n",
       "      <td>0</td>\n",
       "      <td>4</td>\n",
       "      <td>1</td>\n",
       "      <td>1</td>\n",
       "      <td>0</td>\n",
       "      <td>0</td>\n",
       "      <td>1</td>\n",
       "      <td>1</td>\n",
       "      <td>0</td>\n",
       "      <td>0</td>\n",
       "      <td>...</td>\n",
       "      <td>0</td>\n",
       "      <td>1</td>\n",
       "      <td>0</td>\n",
       "      <td>0</td>\n",
       "      <td>1</td>\n",
       "      <td>0</td>\n",
       "      <td>0</td>\n",
       "      <td>1</td>\n",
       "      <td>0</td>\n",
       "      <td>0</td>\n",
       "    </tr>\n",
       "    <tr>\n",
       "      <th>999</th>\n",
       "      <td>1</td>\n",
       "      <td>2</td>\n",
       "      <td>1</td>\n",
       "      <td>1</td>\n",
       "      <td>0</td>\n",
       "      <td>1</td>\n",
       "      <td>1</td>\n",
       "      <td>0</td>\n",
       "      <td>0</td>\n",
       "      <td>0</td>\n",
       "      <td>...</td>\n",
       "      <td>0</td>\n",
       "      <td>1</td>\n",
       "      <td>0</td>\n",
       "      <td>1</td>\n",
       "      <td>0</td>\n",
       "      <td>0</td>\n",
       "      <td>0</td>\n",
       "      <td>1</td>\n",
       "      <td>0</td>\n",
       "      <td>0</td>\n",
       "    </tr>\n",
       "    <tr>\n",
       "      <th>1000</th>\n",
       "      <td>2</td>\n",
       "      <td>0</td>\n",
       "      <td>2</td>\n",
       "      <td>1</td>\n",
       "      <td>0</td>\n",
       "      <td>0</td>\n",
       "      <td>1</td>\n",
       "      <td>1</td>\n",
       "      <td>0</td>\n",
       "      <td>1</td>\n",
       "      <td>...</td>\n",
       "      <td>0</td>\n",
       "      <td>1</td>\n",
       "      <td>0</td>\n",
       "      <td>0</td>\n",
       "      <td>1</td>\n",
       "      <td>0</td>\n",
       "      <td>0</td>\n",
       "      <td>1</td>\n",
       "      <td>0</td>\n",
       "      <td>0</td>\n",
       "    </tr>\n",
       "  </tbody>\n",
       "</table>\n",
       "<p>990 rows × 41 columns</p>\n",
       "</div>"
      ],
      "text/plain": [
       "     checking_status employment savings_status sex other_parties  \\\n",
       "id                                                                 \n",
       "1                  2          2              1   0             0   \n",
       "2                  2          1              1   0             0   \n",
       "3                  1          1              1   0             0   \n",
       "4                  2          2              1   0             0   \n",
       "5                  1          2              1   0             0   \n",
       "...              ...        ...            ...  ..           ...   \n",
       "996                1          0              1   1             0   \n",
       "997                0          4              0   1             0   \n",
       "998                0          4              1   1             0   \n",
       "999                1          2              1   1             0   \n",
       "1000               2          0              2   1             0   \n",
       "\n",
       "     own_telephone foreign_worker class  credit_history_all paid  \\\n",
       "id                                                                 \n",
       "1                0              1     0                        0   \n",
       "2                0              1     0                        0   \n",
       "3                0              1     0                        0   \n",
       "4                1              1     1                        0   \n",
       "5                0              1     1                        0   \n",
       "...            ...            ...   ...                      ...   \n",
       "996              1              1     1                        0   \n",
       "997              1              1     1                        0   \n",
       "998              0              1     1                        0   \n",
       "999              1              1     0                        0   \n",
       "1000             0              1     1                        0   \n",
       "\n",
       "      credit_history_critical/other existing credit  ...  \\\n",
       "id                                                   ...   \n",
       "1                                                 0  ...   \n",
       "2                                                 0  ...   \n",
       "3                                                 0  ...   \n",
       "4                                                 0  ...   \n",
       "5                                                 0  ...   \n",
       "...                                             ...  ...   \n",
       "996                                               0  ...   \n",
       "997                                               0  ...   \n",
       "998                                               0  ...   \n",
       "999                                               0  ...   \n",
       "1000                                              1  ...   \n",
       "\n",
       "      other_payment_plans_bank  other_payment_plans_none  \\\n",
       "id                                                         \n",
       "1                            0                         1   \n",
       "2                            0                         1   \n",
       "3                            0                         1   \n",
       "4                            0                         1   \n",
       "5                            0                         1   \n",
       "...                        ...                       ...   \n",
       "996                          0                         1   \n",
       "997                          0                         1   \n",
       "998                          0                         1   \n",
       "999                          0                         1   \n",
       "1000                         0                         1   \n",
       "\n",
       "      other_payment_plans_stores  housing_for free  housing_own  housing_rent  \\\n",
       "id                                                                              \n",
       "1                              0                 0            1             0   \n",
       "2                              0                 0            0             1   \n",
       "3                              0                 0            0             1   \n",
       "4                              0                 0            1             0   \n",
       "5                              0                 0            0             1   \n",
       "...                          ...               ...          ...           ...   \n",
       "996                            0                 0            1             0   \n",
       "997                            0                 0            1             0   \n",
       "998                            0                 0            1             0   \n",
       "999                            0                 1            0             0   \n",
       "1000                           0                 0            1             0   \n",
       "\n",
       "      job_high qualif/self emp/mgmt  job_skilled  job_unemp/unskilled non res  \\\n",
       "id                                                                              \n",
       "1                                 0            1                            0   \n",
       "2                                 0            1                            0   \n",
       "3                                 0            1                            0   \n",
       "4                                 0            1                            0   \n",
       "5                                 0            1                            0   \n",
       "...                             ...          ...                          ...   \n",
       "996                               1            0                            0   \n",
       "997                               0            1                            0   \n",
       "998                               0            1                            0   \n",
       "999                               0            1                            0   \n",
       "1000                              0            1                            0   \n",
       "\n",
       "      job_unskilled resident  \n",
       "id                            \n",
       "1                          0  \n",
       "2                          0  \n",
       "3                          0  \n",
       "4                          0  \n",
       "5                          0  \n",
       "...                      ...  \n",
       "996                        0  \n",
       "997                        0  \n",
       "998                        0  \n",
       "999                        0  \n",
       "1000                       0  \n",
       "\n",
       "[990 rows x 41 columns]"
      ]
     },
     "execution_count": 40,
     "metadata": {},
     "output_type": "execute_result"
    }
   ],
   "source": [
    "cat"
   ]
  },
  {
   "cell_type": "markdown",
   "metadata": {},
   "source": [
    "## Association des deux dataframe cat et num en un seul"
   ]
  },
  {
   "cell_type": "code",
   "execution_count": 41,
   "metadata": {},
   "outputs": [],
   "source": [
    "df_final = num.merge(cat, how='inner', left_index=True, right_index=True)"
   ]
  },
  {
   "cell_type": "markdown",
   "metadata": {},
   "source": [
    "## Exportation du DataFrame créé"
   ]
  },
  {
   "cell_type": "code",
   "execution_count": null,
   "metadata": {},
   "outputs": [],
   "source": [
    "# exporter uniquement celui-ci ou bien se servir de celui déjà généré à l'avance\n",
    "df_final.to_excel('df_scale_final.xlsx')\n",
    "\n",
    "# n'exporter pas celui ci, se servir de celui déjà généré a l'avance\n",
    "# df_final.to_excel('df_no_scale_final.xlsx')"
   ]
  },
  {
   "cell_type": "markdown",
   "metadata": {},
   "source": [
    "# Modélisation"
   ]
  },
  {
   "cell_type": "markdown",
   "metadata": {},
   "source": [
    "## Importation des librairies"
   ]
  },
  {
   "cell_type": "code",
   "execution_count": 42,
   "metadata": {
    "id": "M1ArjOFnDkGy"
   },
   "outputs": [],
   "source": [
    "# importation des différentes librairies utiles pour la réalisation de la modélisation\n",
    "\n",
    "from sklearn.linear_model import LogisticRegression\n",
    "from sklearn.tree import DecisionTreeClassifier\n",
    "from sklearn.model_selection import train_test_split, learning_curve, GridSearchCV\n",
    "from sklearn.naive_bayes import GaussianNB, BernoulliNB, CategoricalNB, ComplementNB\n",
    "from sklearn.neighbors import KNeighborsClassifier\n",
    "from sklearn.ensemble import RandomForestClassifier, BaggingClassifier, GradientBoostingClassifier, AdaBoostClassifier, VotingClassifier, StackingClassifier, ExtraTreesClassifier\n",
    "from xgboost import XGBClassifier\n",
    "from sklearn.neural_network import MLPClassifier, BernoulliRBM\n",
    "from xgboost import XGBClassifier\n",
    "from sklearn.svm import NuSVC, SVC\n",
    "import sklearn.metrics as metrics\n",
    "from sklearn.metrics import accuracy_score, classification_report, confusion_matrix\n",
    "import matplotlib.pyplot as plt\n",
    "import timeit\n",
    "import time\n",
    "from sklearn.pipeline import make_pipeline\n",
    "from sklearn.feature_selection import SelectKBest, VarianceThreshold, f_classif, chi2, SelectFromModel, RFE, RFECV\n",
    "from sklearn.preprocessing import PolynomialFeatures\n",
    "from imblearn.over_sampling import SMOTE\n",
    "import os\n",
    "import warnings\n",
    "warnings.filterwarnings(\"ignore\")"
   ]
  },
  {
   "cell_type": "markdown",
   "metadata": {},
   "source": [
    "## Importation des datasets et visualisation"
   ]
  },
  {
   "cell_type": "code",
   "execution_count": 43,
   "metadata": {
    "id": "P4Zz01fzDkG1"
   },
   "outputs": [],
   "source": [
    "# dataset ayant les variable scaler\n",
    "df_scale = pd.read_excel('df_scale_final.xlsx')\n",
    "\n",
    "# dataset ayant les variables non scaler pour entrainer les modèles d'ensemble\n",
    "df_no_scale = pd.read_excel('df_no_scale_final.xlsx')"
   ]
  },
  {
   "cell_type": "code",
   "execution_count": 44,
   "metadata": {
    "id": "-4zUl7MkDkG2"
   },
   "outputs": [],
   "source": [
    "# assignation de la colonne id en index pour les deux datasets\n",
    "df_scale.set_index('id', inplace=True)\n",
    "df_no_scale.set_index('id', inplace=True)"
   ]
  },
  {
   "cell_type": "code",
   "execution_count": 45,
   "metadata": {
    "colab": {
     "base_uri": "https://localhost:8080/",
     "height": 485
    },
    "id": "ZIVHZmMaDkG3",
    "outputId": "eef17265-1c03-4d85-e7b9-d725f6c150ae"
   },
   "outputs": [
    {
     "data": {
      "text/html": [
       "<div>\n",
       "<style scoped>\n",
       "    .dataframe tbody tr th:only-of-type {\n",
       "        vertical-align: middle;\n",
       "    }\n",
       "\n",
       "    .dataframe tbody tr th {\n",
       "        vertical-align: top;\n",
       "    }\n",
       "\n",
       "    .dataframe thead th {\n",
       "        text-align: right;\n",
       "    }\n",
       "</style>\n",
       "<table border=\"1\" class=\"dataframe\">\n",
       "  <thead>\n",
       "    <tr style=\"text-align: right;\">\n",
       "      <th></th>\n",
       "      <th>duration</th>\n",
       "      <th>credit_amount</th>\n",
       "      <th>installment_commitment</th>\n",
       "      <th>residence_since</th>\n",
       "      <th>age</th>\n",
       "      <th>existing_credits</th>\n",
       "      <th>num_dependents</th>\n",
       "      <th>checking_status</th>\n",
       "      <th>employment</th>\n",
       "      <th>savings_status</th>\n",
       "      <th>...</th>\n",
       "      <th>other_payment_plans_bank</th>\n",
       "      <th>other_payment_plans_none</th>\n",
       "      <th>other_payment_plans_stores</th>\n",
       "      <th>housing_for free</th>\n",
       "      <th>housing_own</th>\n",
       "      <th>housing_rent</th>\n",
       "      <th>job_high qualif/self emp/mgmt</th>\n",
       "      <th>job_skilled</th>\n",
       "      <th>job_unemp/unskilled non res</th>\n",
       "      <th>job_unskilled resident</th>\n",
       "    </tr>\n",
       "    <tr>\n",
       "      <th>id</th>\n",
       "      <th></th>\n",
       "      <th></th>\n",
       "      <th></th>\n",
       "      <th></th>\n",
       "      <th></th>\n",
       "      <th></th>\n",
       "      <th></th>\n",
       "      <th></th>\n",
       "      <th></th>\n",
       "      <th></th>\n",
       "      <th></th>\n",
       "      <th></th>\n",
       "      <th></th>\n",
       "      <th></th>\n",
       "      <th></th>\n",
       "      <th></th>\n",
       "      <th></th>\n",
       "      <th></th>\n",
       "      <th></th>\n",
       "      <th></th>\n",
       "      <th></th>\n",
       "    </tr>\n",
       "  </thead>\n",
       "  <tbody>\n",
       "    <tr>\n",
       "      <th>1</th>\n",
       "      <td>2.50</td>\n",
       "      <td>1.393015</td>\n",
       "      <td>-0.5</td>\n",
       "      <td>-0.5</td>\n",
       "      <td>-0.733333</td>\n",
       "      <td>0</td>\n",
       "      <td>0</td>\n",
       "      <td>2</td>\n",
       "      <td>2</td>\n",
       "      <td>1</td>\n",
       "      <td>...</td>\n",
       "      <td>0</td>\n",
       "      <td>1</td>\n",
       "      <td>0</td>\n",
       "      <td>0</td>\n",
       "      <td>1</td>\n",
       "      <td>0</td>\n",
       "      <td>0</td>\n",
       "      <td>1</td>\n",
       "      <td>0</td>\n",
       "      <td>0</td>\n",
       "    </tr>\n",
       "    <tr>\n",
       "      <th>2</th>\n",
       "      <td>-0.50</td>\n",
       "      <td>-0.393974</td>\n",
       "      <td>0.0</td>\n",
       "      <td>-1.0</td>\n",
       "      <td>-0.533333</td>\n",
       "      <td>0</td>\n",
       "      <td>0</td>\n",
       "      <td>2</td>\n",
       "      <td>1</td>\n",
       "      <td>1</td>\n",
       "      <td>...</td>\n",
       "      <td>0</td>\n",
       "      <td>1</td>\n",
       "      <td>0</td>\n",
       "      <td>0</td>\n",
       "      <td>0</td>\n",
       "      <td>1</td>\n",
       "      <td>0</td>\n",
       "      <td>1</td>\n",
       "      <td>0</td>\n",
       "      <td>0</td>\n",
       "    </tr>\n",
       "    <tr>\n",
       "      <th>3</th>\n",
       "      <td>2.50</td>\n",
       "      <td>0.762426</td>\n",
       "      <td>0.0</td>\n",
       "      <td>0.5</td>\n",
       "      <td>-0.600000</td>\n",
       "      <td>0</td>\n",
       "      <td>0</td>\n",
       "      <td>1</td>\n",
       "      <td>1</td>\n",
       "      <td>1</td>\n",
       "      <td>...</td>\n",
       "      <td>0</td>\n",
       "      <td>1</td>\n",
       "      <td>0</td>\n",
       "      <td>0</td>\n",
       "      <td>0</td>\n",
       "      <td>1</td>\n",
       "      <td>0</td>\n",
       "      <td>1</td>\n",
       "      <td>0</td>\n",
       "      <td>0</td>\n",
       "    </tr>\n",
       "    <tr>\n",
       "      <th>4</th>\n",
       "      <td>-0.50</td>\n",
       "      <td>-0.289580</td>\n",
       "      <td>-1.0</td>\n",
       "      <td>-1.0</td>\n",
       "      <td>-0.733333</td>\n",
       "      <td>0</td>\n",
       "      <td>0</td>\n",
       "      <td>2</td>\n",
       "      <td>2</td>\n",
       "      <td>1</td>\n",
       "      <td>...</td>\n",
       "      <td>0</td>\n",
       "      <td>1</td>\n",
       "      <td>0</td>\n",
       "      <td>0</td>\n",
       "      <td>1</td>\n",
       "      <td>0</td>\n",
       "      <td>0</td>\n",
       "      <td>1</td>\n",
       "      <td>0</td>\n",
       "      <td>0</td>\n",
       "    </tr>\n",
       "    <tr>\n",
       "      <th>5</th>\n",
       "      <td>-0.25</td>\n",
       "      <td>-0.352524</td>\n",
       "      <td>-0.5</td>\n",
       "      <td>0.5</td>\n",
       "      <td>-0.333333</td>\n",
       "      <td>0</td>\n",
       "      <td>0</td>\n",
       "      <td>1</td>\n",
       "      <td>2</td>\n",
       "      <td>1</td>\n",
       "      <td>...</td>\n",
       "      <td>0</td>\n",
       "      <td>1</td>\n",
       "      <td>0</td>\n",
       "      <td>0</td>\n",
       "      <td>0</td>\n",
       "      <td>1</td>\n",
       "      <td>0</td>\n",
       "      <td>1</td>\n",
       "      <td>0</td>\n",
       "      <td>0</td>\n",
       "    </tr>\n",
       "    <tr>\n",
       "      <th>...</th>\n",
       "      <td>...</td>\n",
       "      <td>...</td>\n",
       "      <td>...</td>\n",
       "      <td>...</td>\n",
       "      <td>...</td>\n",
       "      <td>...</td>\n",
       "      <td>...</td>\n",
       "      <td>...</td>\n",
       "      <td>...</td>\n",
       "      <td>...</td>\n",
       "      <td>...</td>\n",
       "      <td>...</td>\n",
       "      <td>...</td>\n",
       "      <td>...</td>\n",
       "      <td>...</td>\n",
       "      <td>...</td>\n",
       "      <td>...</td>\n",
       "      <td>...</td>\n",
       "      <td>...</td>\n",
       "      <td>...</td>\n",
       "      <td>...</td>\n",
       "    </tr>\n",
       "    <tr>\n",
       "      <th>996</th>\n",
       "      <td>1.50</td>\n",
       "      <td>0.628478</td>\n",
       "      <td>0.5</td>\n",
       "      <td>0.0</td>\n",
       "      <td>-0.200000</td>\n",
       "      <td>0</td>\n",
       "      <td>0</td>\n",
       "      <td>1</td>\n",
       "      <td>0</td>\n",
       "      <td>1</td>\n",
       "      <td>...</td>\n",
       "      <td>0</td>\n",
       "      <td>1</td>\n",
       "      <td>0</td>\n",
       "      <td>0</td>\n",
       "      <td>1</td>\n",
       "      <td>0</td>\n",
       "      <td>1</td>\n",
       "      <td>0</td>\n",
       "      <td>0</td>\n",
       "      <td>0</td>\n",
       "    </tr>\n",
       "    <tr>\n",
       "      <th>997</th>\n",
       "      <td>-0.50</td>\n",
       "      <td>0.026291</td>\n",
       "      <td>0.5</td>\n",
       "      <td>0.0</td>\n",
       "      <td>1.133333</td>\n",
       "      <td>0</td>\n",
       "      <td>0</td>\n",
       "      <td>0</td>\n",
       "      <td>4</td>\n",
       "      <td>0</td>\n",
       "      <td>...</td>\n",
       "      <td>0</td>\n",
       "      <td>1</td>\n",
       "      <td>0</td>\n",
       "      <td>0</td>\n",
       "      <td>1</td>\n",
       "      <td>0</td>\n",
       "      <td>0</td>\n",
       "      <td>1</td>\n",
       "      <td>0</td>\n",
       "      <td>0</td>\n",
       "    </tr>\n",
       "    <tr>\n",
       "      <th>998</th>\n",
       "      <td>-0.50</td>\n",
       "      <td>-0.582422</td>\n",
       "      <td>0.5</td>\n",
       "      <td>0.5</td>\n",
       "      <td>0.333333</td>\n",
       "      <td>0</td>\n",
       "      <td>0</td>\n",
       "      <td>0</td>\n",
       "      <td>4</td>\n",
       "      <td>1</td>\n",
       "      <td>...</td>\n",
       "      <td>0</td>\n",
       "      <td>1</td>\n",
       "      <td>0</td>\n",
       "      <td>0</td>\n",
       "      <td>1</td>\n",
       "      <td>0</td>\n",
       "      <td>0</td>\n",
       "      <td>1</td>\n",
       "      <td>0</td>\n",
       "      <td>0</td>\n",
       "    </tr>\n",
       "    <tr>\n",
       "      <th>999</th>\n",
       "      <td>2.25</td>\n",
       "      <td>-0.182882</td>\n",
       "      <td>0.5</td>\n",
       "      <td>0.5</td>\n",
       "      <td>-0.666667</td>\n",
       "      <td>0</td>\n",
       "      <td>0</td>\n",
       "      <td>1</td>\n",
       "      <td>2</td>\n",
       "      <td>1</td>\n",
       "      <td>...</td>\n",
       "      <td>0</td>\n",
       "      <td>1</td>\n",
       "      <td>0</td>\n",
       "      <td>1</td>\n",
       "      <td>0</td>\n",
       "      <td>0</td>\n",
       "      <td>0</td>\n",
       "      <td>1</td>\n",
       "      <td>0</td>\n",
       "      <td>0</td>\n",
       "    </tr>\n",
       "    <tr>\n",
       "      <th>1000</th>\n",
       "      <td>2.25</td>\n",
       "      <td>0.865285</td>\n",
       "      <td>0.0</td>\n",
       "      <td>0.5</td>\n",
       "      <td>-0.400000</td>\n",
       "      <td>0</td>\n",
       "      <td>0</td>\n",
       "      <td>2</td>\n",
       "      <td>0</td>\n",
       "      <td>2</td>\n",
       "      <td>...</td>\n",
       "      <td>0</td>\n",
       "      <td>1</td>\n",
       "      <td>0</td>\n",
       "      <td>0</td>\n",
       "      <td>1</td>\n",
       "      <td>0</td>\n",
       "      <td>0</td>\n",
       "      <td>1</td>\n",
       "      <td>0</td>\n",
       "      <td>0</td>\n",
       "    </tr>\n",
       "  </tbody>\n",
       "</table>\n",
       "<p>990 rows × 48 columns</p>\n",
       "</div>"
      ],
      "text/plain": [
       "      duration  credit_amount  installment_commitment  residence_since  \\\n",
       "id                                                                       \n",
       "1         2.50       1.393015                    -0.5             -0.5   \n",
       "2        -0.50      -0.393974                     0.0             -1.0   \n",
       "3         2.50       0.762426                     0.0              0.5   \n",
       "4        -0.50      -0.289580                    -1.0             -1.0   \n",
       "5        -0.25      -0.352524                    -0.5              0.5   \n",
       "...        ...            ...                     ...              ...   \n",
       "996       1.50       0.628478                     0.5              0.0   \n",
       "997      -0.50       0.026291                     0.5              0.0   \n",
       "998      -0.50      -0.582422                     0.5              0.5   \n",
       "999       2.25      -0.182882                     0.5              0.5   \n",
       "1000      2.25       0.865285                     0.0              0.5   \n",
       "\n",
       "           age  existing_credits  num_dependents  checking_status  employment  \\\n",
       "id                                                                              \n",
       "1    -0.733333                 0               0                2           2   \n",
       "2    -0.533333                 0               0                2           1   \n",
       "3    -0.600000                 0               0                1           1   \n",
       "4    -0.733333                 0               0                2           2   \n",
       "5    -0.333333                 0               0                1           2   \n",
       "...        ...               ...             ...              ...         ...   \n",
       "996  -0.200000                 0               0                1           0   \n",
       "997   1.133333                 0               0                0           4   \n",
       "998   0.333333                 0               0                0           4   \n",
       "999  -0.666667                 0               0                1           2   \n",
       "1000 -0.400000                 0               0                2           0   \n",
       "\n",
       "      savings_status  ...  other_payment_plans_bank  other_payment_plans_none  \\\n",
       "id                    ...                                                       \n",
       "1                  1  ...                         0                         1   \n",
       "2                  1  ...                         0                         1   \n",
       "3                  1  ...                         0                         1   \n",
       "4                  1  ...                         0                         1   \n",
       "5                  1  ...                         0                         1   \n",
       "...              ...  ...                       ...                       ...   \n",
       "996                1  ...                         0                         1   \n",
       "997                0  ...                         0                         1   \n",
       "998                1  ...                         0                         1   \n",
       "999                1  ...                         0                         1   \n",
       "1000               2  ...                         0                         1   \n",
       "\n",
       "      other_payment_plans_stores  housing_for free  housing_own  housing_rent  \\\n",
       "id                                                                              \n",
       "1                              0                 0            1             0   \n",
       "2                              0                 0            0             1   \n",
       "3                              0                 0            0             1   \n",
       "4                              0                 0            1             0   \n",
       "5                              0                 0            0             1   \n",
       "...                          ...               ...          ...           ...   \n",
       "996                            0                 0            1             0   \n",
       "997                            0                 0            1             0   \n",
       "998                            0                 0            1             0   \n",
       "999                            0                 1            0             0   \n",
       "1000                           0                 0            1             0   \n",
       "\n",
       "      job_high qualif/self emp/mgmt  job_skilled  job_unemp/unskilled non res  \\\n",
       "id                                                                              \n",
       "1                                 0            1                            0   \n",
       "2                                 0            1                            0   \n",
       "3                                 0            1                            0   \n",
       "4                                 0            1                            0   \n",
       "5                                 0            1                            0   \n",
       "...                             ...          ...                          ...   \n",
       "996                               1            0                            0   \n",
       "997                               0            1                            0   \n",
       "998                               0            1                            0   \n",
       "999                               0            1                            0   \n",
       "1000                              0            1                            0   \n",
       "\n",
       "      job_unskilled resident  \n",
       "id                            \n",
       "1                          0  \n",
       "2                          0  \n",
       "3                          0  \n",
       "4                          0  \n",
       "5                          0  \n",
       "...                      ...  \n",
       "996                        0  \n",
       "997                        0  \n",
       "998                        0  \n",
       "999                        0  \n",
       "1000                       0  \n",
       "\n",
       "[990 rows x 48 columns]"
      ]
     },
     "execution_count": 45,
     "metadata": {},
     "output_type": "execute_result"
    }
   ],
   "source": [
    "# visualisation du dataset scaler\n",
    "df_scale"
   ]
  },
  {
   "cell_type": "code",
   "execution_count": 46,
   "metadata": {},
   "outputs": [
    {
     "data": {
      "text/html": [
       "<div>\n",
       "<style scoped>\n",
       "    .dataframe tbody tr th:only-of-type {\n",
       "        vertical-align: middle;\n",
       "    }\n",
       "\n",
       "    .dataframe tbody tr th {\n",
       "        vertical-align: top;\n",
       "    }\n",
       "\n",
       "    .dataframe thead th {\n",
       "        text-align: right;\n",
       "    }\n",
       "</style>\n",
       "<table border=\"1\" class=\"dataframe\">\n",
       "  <thead>\n",
       "    <tr style=\"text-align: right;\">\n",
       "      <th></th>\n",
       "      <th>duration</th>\n",
       "      <th>credit_amount</th>\n",
       "      <th>installment_commitment</th>\n",
       "      <th>residence_since</th>\n",
       "      <th>age</th>\n",
       "      <th>existing_credits</th>\n",
       "      <th>num_dependents</th>\n",
       "      <th>checking_status</th>\n",
       "      <th>employment</th>\n",
       "      <th>savings_status</th>\n",
       "      <th>...</th>\n",
       "      <th>other_payment_plans_bank</th>\n",
       "      <th>other_payment_plans_none</th>\n",
       "      <th>other_payment_plans_stores</th>\n",
       "      <th>housing_for free</th>\n",
       "      <th>housing_own</th>\n",
       "      <th>housing_rent</th>\n",
       "      <th>job_high qualif/self emp/mgmt</th>\n",
       "      <th>job_skilled</th>\n",
       "      <th>job_unemp/unskilled non res</th>\n",
       "      <th>job_unskilled resident</th>\n",
       "    </tr>\n",
       "    <tr>\n",
       "      <th>id</th>\n",
       "      <th></th>\n",
       "      <th></th>\n",
       "      <th></th>\n",
       "      <th></th>\n",
       "      <th></th>\n",
       "      <th></th>\n",
       "      <th></th>\n",
       "      <th></th>\n",
       "      <th></th>\n",
       "      <th></th>\n",
       "      <th></th>\n",
       "      <th></th>\n",
       "      <th></th>\n",
       "      <th></th>\n",
       "      <th></th>\n",
       "      <th></th>\n",
       "      <th></th>\n",
       "      <th></th>\n",
       "      <th></th>\n",
       "      <th></th>\n",
       "      <th></th>\n",
       "    </tr>\n",
       "  </thead>\n",
       "  <tbody>\n",
       "    <tr>\n",
       "      <th>1</th>\n",
       "      <td>48</td>\n",
       "      <td>5951</td>\n",
       "      <td>2</td>\n",
       "      <td>2</td>\n",
       "      <td>22</td>\n",
       "      <td>1</td>\n",
       "      <td>1</td>\n",
       "      <td>2</td>\n",
       "      <td>2</td>\n",
       "      <td>1</td>\n",
       "      <td>...</td>\n",
       "      <td>0</td>\n",
       "      <td>1</td>\n",
       "      <td>0</td>\n",
       "      <td>0</td>\n",
       "      <td>1</td>\n",
       "      <td>0</td>\n",
       "      <td>0</td>\n",
       "      <td>1</td>\n",
       "      <td>0</td>\n",
       "      <td>0</td>\n",
       "    </tr>\n",
       "    <tr>\n",
       "      <th>2</th>\n",
       "      <td>12</td>\n",
       "      <td>1295</td>\n",
       "      <td>3</td>\n",
       "      <td>1</td>\n",
       "      <td>25</td>\n",
       "      <td>1</td>\n",
       "      <td>1</td>\n",
       "      <td>2</td>\n",
       "      <td>1</td>\n",
       "      <td>1</td>\n",
       "      <td>...</td>\n",
       "      <td>0</td>\n",
       "      <td>1</td>\n",
       "      <td>0</td>\n",
       "      <td>0</td>\n",
       "      <td>0</td>\n",
       "      <td>1</td>\n",
       "      <td>0</td>\n",
       "      <td>1</td>\n",
       "      <td>0</td>\n",
       "      <td>0</td>\n",
       "    </tr>\n",
       "    <tr>\n",
       "      <th>3</th>\n",
       "      <td>48</td>\n",
       "      <td>4308</td>\n",
       "      <td>3</td>\n",
       "      <td>4</td>\n",
       "      <td>24</td>\n",
       "      <td>1</td>\n",
       "      <td>1</td>\n",
       "      <td>1</td>\n",
       "      <td>1</td>\n",
       "      <td>1</td>\n",
       "      <td>...</td>\n",
       "      <td>0</td>\n",
       "      <td>1</td>\n",
       "      <td>0</td>\n",
       "      <td>0</td>\n",
       "      <td>0</td>\n",
       "      <td>1</td>\n",
       "      <td>0</td>\n",
       "      <td>1</td>\n",
       "      <td>0</td>\n",
       "      <td>0</td>\n",
       "    </tr>\n",
       "    <tr>\n",
       "      <th>4</th>\n",
       "      <td>12</td>\n",
       "      <td>1567</td>\n",
       "      <td>1</td>\n",
       "      <td>1</td>\n",
       "      <td>22</td>\n",
       "      <td>1</td>\n",
       "      <td>1</td>\n",
       "      <td>2</td>\n",
       "      <td>2</td>\n",
       "      <td>1</td>\n",
       "      <td>...</td>\n",
       "      <td>0</td>\n",
       "      <td>1</td>\n",
       "      <td>0</td>\n",
       "      <td>0</td>\n",
       "      <td>1</td>\n",
       "      <td>0</td>\n",
       "      <td>0</td>\n",
       "      <td>1</td>\n",
       "      <td>0</td>\n",
       "      <td>0</td>\n",
       "    </tr>\n",
       "    <tr>\n",
       "      <th>5</th>\n",
       "      <td>15</td>\n",
       "      <td>1403</td>\n",
       "      <td>2</td>\n",
       "      <td>4</td>\n",
       "      <td>28</td>\n",
       "      <td>1</td>\n",
       "      <td>1</td>\n",
       "      <td>1</td>\n",
       "      <td>2</td>\n",
       "      <td>1</td>\n",
       "      <td>...</td>\n",
       "      <td>0</td>\n",
       "      <td>1</td>\n",
       "      <td>0</td>\n",
       "      <td>0</td>\n",
       "      <td>0</td>\n",
       "      <td>1</td>\n",
       "      <td>0</td>\n",
       "      <td>1</td>\n",
       "      <td>0</td>\n",
       "      <td>0</td>\n",
       "    </tr>\n",
       "    <tr>\n",
       "      <th>...</th>\n",
       "      <td>...</td>\n",
       "      <td>...</td>\n",
       "      <td>...</td>\n",
       "      <td>...</td>\n",
       "      <td>...</td>\n",
       "      <td>...</td>\n",
       "      <td>...</td>\n",
       "      <td>...</td>\n",
       "      <td>...</td>\n",
       "      <td>...</td>\n",
       "      <td>...</td>\n",
       "      <td>...</td>\n",
       "      <td>...</td>\n",
       "      <td>...</td>\n",
       "      <td>...</td>\n",
       "      <td>...</td>\n",
       "      <td>...</td>\n",
       "      <td>...</td>\n",
       "      <td>...</td>\n",
       "      <td>...</td>\n",
       "      <td>...</td>\n",
       "    </tr>\n",
       "    <tr>\n",
       "      <th>996</th>\n",
       "      <td>36</td>\n",
       "      <td>3959</td>\n",
       "      <td>4</td>\n",
       "      <td>3</td>\n",
       "      <td>30</td>\n",
       "      <td>1</td>\n",
       "      <td>1</td>\n",
       "      <td>1</td>\n",
       "      <td>0</td>\n",
       "      <td>1</td>\n",
       "      <td>...</td>\n",
       "      <td>0</td>\n",
       "      <td>1</td>\n",
       "      <td>0</td>\n",
       "      <td>0</td>\n",
       "      <td>1</td>\n",
       "      <td>0</td>\n",
       "      <td>1</td>\n",
       "      <td>0</td>\n",
       "      <td>0</td>\n",
       "      <td>0</td>\n",
       "    </tr>\n",
       "    <tr>\n",
       "      <th>997</th>\n",
       "      <td>12</td>\n",
       "      <td>2390</td>\n",
       "      <td>4</td>\n",
       "      <td>3</td>\n",
       "      <td>50</td>\n",
       "      <td>1</td>\n",
       "      <td>1</td>\n",
       "      <td>0</td>\n",
       "      <td>4</td>\n",
       "      <td>0</td>\n",
       "      <td>...</td>\n",
       "      <td>0</td>\n",
       "      <td>1</td>\n",
       "      <td>0</td>\n",
       "      <td>0</td>\n",
       "      <td>1</td>\n",
       "      <td>0</td>\n",
       "      <td>0</td>\n",
       "      <td>1</td>\n",
       "      <td>0</td>\n",
       "      <td>0</td>\n",
       "    </tr>\n",
       "    <tr>\n",
       "      <th>998</th>\n",
       "      <td>12</td>\n",
       "      <td>804</td>\n",
       "      <td>4</td>\n",
       "      <td>4</td>\n",
       "      <td>38</td>\n",
       "      <td>1</td>\n",
       "      <td>1</td>\n",
       "      <td>0</td>\n",
       "      <td>4</td>\n",
       "      <td>1</td>\n",
       "      <td>...</td>\n",
       "      <td>0</td>\n",
       "      <td>1</td>\n",
       "      <td>0</td>\n",
       "      <td>0</td>\n",
       "      <td>1</td>\n",
       "      <td>0</td>\n",
       "      <td>0</td>\n",
       "      <td>1</td>\n",
       "      <td>0</td>\n",
       "      <td>0</td>\n",
       "    </tr>\n",
       "    <tr>\n",
       "      <th>999</th>\n",
       "      <td>45</td>\n",
       "      <td>1845</td>\n",
       "      <td>4</td>\n",
       "      <td>4</td>\n",
       "      <td>23</td>\n",
       "      <td>1</td>\n",
       "      <td>1</td>\n",
       "      <td>1</td>\n",
       "      <td>2</td>\n",
       "      <td>1</td>\n",
       "      <td>...</td>\n",
       "      <td>0</td>\n",
       "      <td>1</td>\n",
       "      <td>0</td>\n",
       "      <td>1</td>\n",
       "      <td>0</td>\n",
       "      <td>0</td>\n",
       "      <td>0</td>\n",
       "      <td>1</td>\n",
       "      <td>0</td>\n",
       "      <td>0</td>\n",
       "    </tr>\n",
       "    <tr>\n",
       "      <th>1000</th>\n",
       "      <td>45</td>\n",
       "      <td>4576</td>\n",
       "      <td>3</td>\n",
       "      <td>4</td>\n",
       "      <td>27</td>\n",
       "      <td>1</td>\n",
       "      <td>1</td>\n",
       "      <td>2</td>\n",
       "      <td>0</td>\n",
       "      <td>2</td>\n",
       "      <td>...</td>\n",
       "      <td>0</td>\n",
       "      <td>1</td>\n",
       "      <td>0</td>\n",
       "      <td>0</td>\n",
       "      <td>1</td>\n",
       "      <td>0</td>\n",
       "      <td>0</td>\n",
       "      <td>1</td>\n",
       "      <td>0</td>\n",
       "      <td>0</td>\n",
       "    </tr>\n",
       "  </tbody>\n",
       "</table>\n",
       "<p>990 rows × 48 columns</p>\n",
       "</div>"
      ],
      "text/plain": [
       "      duration  credit_amount  installment_commitment  residence_since  age  \\\n",
       "id                                                                            \n",
       "1           48           5951                       2                2   22   \n",
       "2           12           1295                       3                1   25   \n",
       "3           48           4308                       3                4   24   \n",
       "4           12           1567                       1                1   22   \n",
       "5           15           1403                       2                4   28   \n",
       "...        ...            ...                     ...              ...  ...   \n",
       "996         36           3959                       4                3   30   \n",
       "997         12           2390                       4                3   50   \n",
       "998         12            804                       4                4   38   \n",
       "999         45           1845                       4                4   23   \n",
       "1000        45           4576                       3                4   27   \n",
       "\n",
       "      existing_credits  num_dependents  checking_status  employment  \\\n",
       "id                                                                    \n",
       "1                    1               1                2           2   \n",
       "2                    1               1                2           1   \n",
       "3                    1               1                1           1   \n",
       "4                    1               1                2           2   \n",
       "5                    1               1                1           2   \n",
       "...                ...             ...              ...         ...   \n",
       "996                  1               1                1           0   \n",
       "997                  1               1                0           4   \n",
       "998                  1               1                0           4   \n",
       "999                  1               1                1           2   \n",
       "1000                 1               1                2           0   \n",
       "\n",
       "      savings_status  ...  other_payment_plans_bank  other_payment_plans_none  \\\n",
       "id                    ...                                                       \n",
       "1                  1  ...                         0                         1   \n",
       "2                  1  ...                         0                         1   \n",
       "3                  1  ...                         0                         1   \n",
       "4                  1  ...                         0                         1   \n",
       "5                  1  ...                         0                         1   \n",
       "...              ...  ...                       ...                       ...   \n",
       "996                1  ...                         0                         1   \n",
       "997                0  ...                         0                         1   \n",
       "998                1  ...                         0                         1   \n",
       "999                1  ...                         0                         1   \n",
       "1000               2  ...                         0                         1   \n",
       "\n",
       "      other_payment_plans_stores  housing_for free  housing_own  housing_rent  \\\n",
       "id                                                                              \n",
       "1                              0                 0            1             0   \n",
       "2                              0                 0            0             1   \n",
       "3                              0                 0            0             1   \n",
       "4                              0                 0            1             0   \n",
       "5                              0                 0            0             1   \n",
       "...                          ...               ...          ...           ...   \n",
       "996                            0                 0            1             0   \n",
       "997                            0                 0            1             0   \n",
       "998                            0                 0            1             0   \n",
       "999                            0                 1            0             0   \n",
       "1000                           0                 0            1             0   \n",
       "\n",
       "      job_high qualif/self emp/mgmt  job_skilled  job_unemp/unskilled non res  \\\n",
       "id                                                                              \n",
       "1                                 0            1                            0   \n",
       "2                                 0            1                            0   \n",
       "3                                 0            1                            0   \n",
       "4                                 0            1                            0   \n",
       "5                                 0            1                            0   \n",
       "...                             ...          ...                          ...   \n",
       "996                               1            0                            0   \n",
       "997                               0            1                            0   \n",
       "998                               0            1                            0   \n",
       "999                               0            1                            0   \n",
       "1000                              0            1                            0   \n",
       "\n",
       "      job_unskilled resident  \n",
       "id                            \n",
       "1                          0  \n",
       "2                          0  \n",
       "3                          0  \n",
       "4                          0  \n",
       "5                          0  \n",
       "...                      ...  \n",
       "996                        0  \n",
       "997                        0  \n",
       "998                        0  \n",
       "999                        0  \n",
       "1000                       0  \n",
       "\n",
       "[990 rows x 48 columns]"
      ]
     },
     "execution_count": 46,
     "metadata": {},
     "output_type": "execute_result"
    }
   ],
   "source": [
    "# visualisation du dataset non scaler\n",
    "df_no_scale"
   ]
  },
  {
   "cell_type": "markdown",
   "metadata": {},
   "source": [
    "## Split des datasets en train set, validation set et test set et application de la méthode SMOTE pour le suréchantillonage des données\n",
    "\n",
    "### Suréchantillonage des dataset grâce à la méthode SMOTE"
   ]
  },
  {
   "cell_type": "code",
   "execution_count": 47,
   "metadata": {},
   "outputs": [],
   "source": [
    "# extraction de la variable cible y_s pour le dataset scaler et de du dataframe X_s\n",
    "y_s = df_scale['class']\n",
    "del df_scale['class']\n",
    "X_s = df_scale\n",
    "\n",
    "# extraction de la variable cible y_no pour le dataset non scaler et de du dataframe X_no\n",
    "y_no = df_no_scale['class']\n",
    "del df_no_scale['class']\n",
    "X_no = df_no_scale\n",
    "\n",
    "# suréchantillonage du dataset df_scale afin d'équilibrer les classes grâce à la méthode SMOTE.\n",
    "sm = SMOTE(sampling_strategy='minority', k_neighbors=2, random_state=42)\n",
    "Xs, ys = sm.fit_sample(X_s, y_s)\n",
    "\n",
    "# suréchantillonage du dataset df_no_scale afin d'équilibrer les classes grâce à la méthode SMOTE.\n",
    "sm2 = SMOTE(sampling_strategy='minority', k_neighbors=2, random_state=42)\n",
    "Xno, yno = sm2.fit_sample(X_no, y_no)"
   ]
  },
  {
   "cell_type": "markdown",
   "metadata": {},
   "source": [
    "### Split des datasets Scale et non scale en train, validation et test"
   ]
  },
  {
   "cell_type": "code",
   "execution_count": 48,
   "metadata": {},
   "outputs": [],
   "source": [
    "# Split du dataset Scale en train et test\n",
    "Xs_train, Xs_test, ys_train, ys_test = train_test_split(Xs,\n",
    "                                                        ys,\n",
    "                                                        test_size=0.2,\n",
    "                                                        random_state=42)\n",
    "\n",
    "# Split du dataset non Scale en train et test\n",
    "Xno_train, Xno_test, yno_train, yno_test = train_test_split(Xno,\n",
    "                                                            yno,\n",
    "                                                            test_size=0.2,\n",
    "                                                            random_state=42)"
   ]
  },
  {
   "cell_type": "code",
   "execution_count": 49,
   "metadata": {},
   "outputs": [],
   "source": [
    "# Split de train scale en train et validation\n",
    "Xs_train, Xs_val, ys_train, ys_val = train_test_split(Xs_train,\n",
    "                                                      ys_train,\n",
    "                                                      test_size=0.2,\n",
    "                                                      random_state=42)\n",
    "\n",
    "# Split de train no scale en train et validation\n",
    "Xno_train, Xno_val, yno_train, yno_val = train_test_split(Xno_train,\n",
    "                                                          yno_train,\n",
    "                                                          test_size=0.2,\n",
    "                                                          random_state=42)"
   ]
  },
  {
   "cell_type": "markdown",
   "metadata": {},
   "source": [
    "### Visualisation des dimensions des set créés précédemment"
   ]
  },
  {
   "cell_type": "code",
   "execution_count": 50,
   "metadata": {
    "colab": {
     "base_uri": "https://localhost:8080/"
    },
    "id": "GAKAy8gQDkG5",
    "outputId": "834170ee-6ec6-4692-e924-85c181896eab"
   },
   "outputs": [
    {
     "data": {
      "text/plain": [
       "(889, 47)"
      ]
     },
     "execution_count": 50,
     "metadata": {},
     "output_type": "execute_result"
    }
   ],
   "source": [
    "Xs_train.shape"
   ]
  },
  {
   "cell_type": "code",
   "execution_count": 51,
   "metadata": {
    "colab": {
     "base_uri": "https://localhost:8080/"
    },
    "id": "VGphkK_bDkG6",
    "outputId": "522f004c-593b-4db9-e560-678f30973bc5"
   },
   "outputs": [
    {
     "data": {
      "text/plain": [
       "(889,)"
      ]
     },
     "execution_count": 51,
     "metadata": {},
     "output_type": "execute_result"
    }
   ],
   "source": [
    "ys_train.shape"
   ]
  },
  {
   "cell_type": "code",
   "execution_count": 52,
   "metadata": {
    "colab": {
     "base_uri": "https://localhost:8080/"
    },
    "id": "mjFr9hXmDkG6",
    "outputId": "ea407c2a-8d1e-4a2d-bb6d-4964d88dd13c"
   },
   "outputs": [
    {
     "data": {
      "text/plain": [
       "(223, 47)"
      ]
     },
     "execution_count": 52,
     "metadata": {},
     "output_type": "execute_result"
    }
   ],
   "source": [
    "Xs_val.shape"
   ]
  },
  {
   "cell_type": "code",
   "execution_count": 53,
   "metadata": {
    "colab": {
     "base_uri": "https://localhost:8080/"
    },
    "id": "2InP--lbDkG7",
    "outputId": "421feb2f-48e5-4d2d-867f-ce0f1af0b0b4"
   },
   "outputs": [
    {
     "data": {
      "text/plain": [
       "(223,)"
      ]
     },
     "execution_count": 53,
     "metadata": {},
     "output_type": "execute_result"
    }
   ],
   "source": [
    "ys_val.shape"
   ]
  },
  {
   "cell_type": "code",
   "execution_count": 54,
   "metadata": {},
   "outputs": [
    {
     "data": {
      "text/plain": [
       "1    447\n",
       "0    442\n",
       "Name: class, dtype: int64"
      ]
     },
     "execution_count": 54,
     "metadata": {},
     "output_type": "execute_result"
    }
   ],
   "source": [
    "yno_train.value_counts()"
   ]
  },
  {
   "cell_type": "markdown",
   "metadata": {
    "id": "JykGfAWxDkG8"
   },
   "source": [
    "## Teste des modèles de façon native et visualisation des cas d'overfitting grâce aux learning curve\n",
    "\n",
    "### Regression Logistique"
   ]
  },
  {
   "cell_type": "code",
   "execution_count": 55,
   "metadata": {
    "colab": {
     "base_uri": "https://localhost:8080/",
     "height": 893
    },
    "id": "9SxV3T57DkG8",
    "outputId": "ed21605b-51f5-4b00-cf6f-0c45db83dcc4"
   },
   "outputs": [
    {
     "name": "stdout",
     "output_type": "stream",
     "text": [
      "Train Score Regression Logistique: 0.8076490438695163\n",
      "Test Score Regression Logistique: 0.7805755395683454\n"
     ]
    },
    {
     "data": {
      "text/plain": [
       "[<matplotlib.lines.Line2D at 0x23bb54b5e20>]"
      ]
     },
     "execution_count": 55,
     "metadata": {},
     "output_type": "execute_result"
    },
    {
     "data": {
      "image/png": "[encoded data removed]",
      "text/plain": [
       "<Figure size 864x576 with 1 Axes>"
      ]
     },
     "metadata": {
      "needs_background": "light"
     },
     "output_type": "display_data"
    }
   ],
   "source": [
    "# définition de du modèle à utiliser\n",
    "log = LogisticRegression()\n",
    "\n",
    "# entrainement du modèle de regression logique grace à la méthode fit\n",
    "log.fit(Xs_train, ys_train)\n",
    "print('Train Score Regression Logistique:', log.score(Xs_train, ys_train))\n",
    "print('Test Score Regression Logistique:', log.score(Xs_test, ys_test))\n",
    "\n",
    "# tracé de la learning curve pour observer l'overfitting ou l'underfitting\n",
    "N, train_score, val_score = learning_curve(log,\n",
    "                                           Xs_train,\n",
    "                                           ys_train,\n",
    "                                           scoring='accuracy',\n",
    "                                           cv=5,\n",
    "                                           train_sizes=np.linspace(0.1, 1, 10))\n",
    "plt.figure(figsize=(12, 8))\n",
    "plt.plot(N, train_score.mean(axis=1), label='train score')\n",
    "plt.plot(N, val_score.mean(axis=1), label='validation score')"
   ]
  },
  {
   "cell_type": "markdown",
   "metadata": {},
   "source": [
    "### KNeighbors"
   ]
  },
  {
   "cell_type": "code",
   "execution_count": 56,
   "metadata": {},
   "outputs": [
    {
     "name": "stdout",
     "output_type": "stream",
     "text": [
      "Train Score KNN: 0.8312710911136107\n",
      "Test ScoreKNN: 0.7949640287769785\n"
     ]
    },
    {
     "data": {
      "text/plain": [
       "[<matplotlib.lines.Line2D at 0x23bb53dc670>]"
      ]
     },
     "execution_count": 56,
     "metadata": {},
     "output_type": "execute_result"
    },
    {
     "data": {
      "image/png": "[encoded data removed]",
      "text/plain": [
       "<Figure size 864x576 with 1 Axes>"
      ]
     },
     "metadata": {
      "needs_background": "light"
     },
     "output_type": "display_data"
    }
   ],
   "source": [
    "# définition de du modèle à utiliser\n",
    "kn = KNeighborsClassifier()\n",
    "\n",
    "# entrainement du modèle de regression logique grace à la méthode fit\n",
    "kn.fit(Xs_train, ys_train)\n",
    "print('Train Score KNN:', kn.score(Xs_train, ys_train))\n",
    "print('Test ScoreKNN:', kn.score(Xs_test, ys_test))\n",
    "\n",
    "# tracé de la learning curve pour observer l'overfitting ou l'underfitting\n",
    "N, train_score, val_score = learning_curve(kn,\n",
    "                                           Xs_train,\n",
    "                                           ys_train,\n",
    "                                           scoring='accuracy',\n",
    "                                           cv=5,\n",
    "                                           train_sizes=np.linspace(0.1, 1, 10))\n",
    "plt.figure(figsize=(12, 8))\n",
    "plt.plot(N, train_score.mean(axis=1), label='train score')\n",
    "plt.plot(N, val_score.mean(axis=1), label='validation score')"
   ]
  },
  {
   "cell_type": "markdown",
   "metadata": {},
   "source": [
    "### Naive Bayes ( BernoulliNB)"
   ]
  },
  {
   "cell_type": "code",
   "execution_count": 57,
   "metadata": {
    "scrolled": false
   },
   "outputs": [
    {
     "name": "stdout",
     "output_type": "stream",
     "text": [
      "Train Score Naive Bayes: 0.7525309336332958\n",
      "Test Score Naive Bayes: 0.6654676258992805\n"
     ]
    },
    {
     "data": {
      "text/plain": [
       "[<matplotlib.lines.Line2D at 0x23bb31fd8b0>]"
      ]
     },
     "execution_count": 57,
     "metadata": {},
     "output_type": "execute_result"
    },
    {
     "data": {
      "image/png": "[encoded data removed]",
      "text/plain": [
       "<Figure size 864x576 with 1 Axes>"
      ]
     },
     "metadata": {
      "needs_background": "light"
     },
     "output_type": "display_data"
    }
   ],
   "source": [
    "nb = BernoulliNB()\n",
    "nb.fit(Xs_train, ys_train)\n",
    "print('Train Score Naive Bayes:', nb.score(Xs_train, ys_train))\n",
    "print('Test Score Naive Bayes:', nb.score(Xs_test, ys_test))\n",
    "\n",
    "N, train_score, val_score = learning_curve(nb,\n",
    "                                           Xs_train,\n",
    "                                           ys_train,\n",
    "                                           scoring='accuracy',\n",
    "                                           cv=5,\n",
    "                                           train_sizes=np.linspace(0.1, 1, 10))\n",
    "plt.figure(figsize=(12, 8))\n",
    "plt.plot(N, train_score.mean(axis=1), label='train score')\n",
    "plt.plot(N, val_score.mean(axis=1), label='validation score')"
   ]
  },
  {
   "cell_type": "markdown",
   "metadata": {},
   "source": [
    "### SVC"
   ]
  },
  {
   "cell_type": "code",
   "execution_count": 58,
   "metadata": {},
   "outputs": [
    {
     "name": "stdout",
     "output_type": "stream",
     "text": [
      "Train Score SVC: 0.875140607424072\n",
      "Test Score SVC: 0.7733812949640287\n"
     ]
    },
    {
     "data": {
      "text/plain": [
       "[<matplotlib.lines.Line2D at 0x23bb593f2e0>]"
      ]
     },
     "execution_count": 58,
     "metadata": {},
     "output_type": "execute_result"
    },
    {
     "data": {
      "image/png": "[encoded data removed]",
      "text/plain": [
       "<Figure size 864x576 with 1 Axes>"
      ]
     },
     "metadata": {
      "needs_background": "light"
     },
     "output_type": "display_data"
    }
   ],
   "source": [
    "svc = SVC()\n",
    "svc.fit(Xs_train, ys_train)\n",
    "print('Train Score SVC:', svc.score(Xs_train, ys_train))\n",
    "print('Test Score SVC:', svc.score(Xs_test, ys_test))\n",
    "\n",
    "N, train_score, val_score = learning_curve(svc,\n",
    "                                           Xs_train,\n",
    "                                           ys_train,\n",
    "                                           scoring='accuracy',\n",
    "                                           cv=5,\n",
    "                                           train_sizes=np.linspace(0.1, 1, 10))\n",
    "plt.figure(figsize=(12, 8))\n",
    "plt.plot(N, train_score.mean(axis=1), label='train score')\n",
    "plt.plot(N, val_score.mean(axis=1), label='validation score')"
   ]
  },
  {
   "cell_type": "markdown",
   "metadata": {},
   "source": [
    "### NuSVC"
   ]
  },
  {
   "cell_type": "code",
   "execution_count": 302,
   "metadata": {},
   "outputs": [
    {
     "name": "stdout",
     "output_type": "stream",
     "text": [
      "Train Score SVC: 0.9201349831271091\n",
      "Test Score SVC: 0.7985611510791367\n"
     ]
    },
    {
     "data": {
      "text/plain": [
       "[<matplotlib.lines.Line2D at 0x26ea3170a60>]"
      ]
     },
     "execution_count": 302,
     "metadata": {},
     "output_type": "execute_result"
    },
    {
     "data": {
      "image/png": "[encoded data removed]",
      "text/plain": [
       "<Figure size 864x576 with 1 Axes>"
      ]
     },
     "metadata": {
      "needs_background": "light"
     },
     "output_type": "display_data"
    }
   ],
   "source": [
    "nusvc = NuSVC()\n",
    "nusvc.fit(Xs_train, ys_train)\n",
    "print('Train Score SVC:', nusvc.score(Xs_train, ys_train))\n",
    "print('Test Score SVC:', nusvc.score(Xs_test, ys_test))\n",
    "\n",
    "N, train_score, val_score = learning_curve(svc,\n",
    "                                           Xs_train,\n",
    "                                           ys_train,\n",
    "                                           scoring='accuracy',\n",
    "                                           cv=5,\n",
    "                                           train_sizes=np.linspace(0.1, 1, 10))\n",
    "plt.figure(figsize=(12, 8))\n",
    "plt.plot(N, train_score.mean(axis=1), label='train score')\n",
    "plt.plot(N, val_score.mean(axis=1), label='validation score')"
   ]
  },
  {
   "cell_type": "markdown",
   "metadata": {},
   "source": [
    "### RandomForestClassifer"
   ]
  },
  {
   "cell_type": "code",
   "execution_count": 76,
   "metadata": {},
   "outputs": [
    {
     "name": "stdout",
     "output_type": "stream",
     "text": [
      "Train Score random forest: 1.0\n",
      "test Score random forest: 0.8201438848920863\n"
     ]
    },
    {
     "data": {
      "text/plain": [
       "[<matplotlib.lines.Line2D at 0x26ea267dac0>]"
      ]
     },
     "execution_count": 76,
     "metadata": {},
     "output_type": "execute_result"
    },
    {
     "data": {
      "image/png": "[encoded data removed]",
      "text/plain": [
       "<Figure size 864x576 with 1 Axes>"
      ]
     },
     "metadata": {
      "needs_background": "light"
     },
     "output_type": "display_data"
    }
   ],
   "source": [
    "rf = RandomForestClassifier()\n",
    "rf.fit(Xno_train, yno_train)\n",
    "print('Train Score random forest:', rf.score(Xno_train, yno_train))\n",
    "print('test Score random forest:', rf.score(Xno_test, yno_test))\n",
    "\n",
    "N, train_score, val_score = learning_curve(rf,\n",
    "                                           Xno_train,\n",
    "                                           yno_train,\n",
    "                                           scoring='accuracy',\n",
    "                                           cv=5,\n",
    "                                           train_sizes=np.linspace(0.1, 1, 10))\n",
    "plt.figure(figsize=(12, 8))\n",
    "plt.plot(N, train_score.mean(axis=1), label='train score')\n",
    "plt.plot(N, val_score.mean(axis=1), label='validation score')"
   ]
  },
  {
   "cell_type": "markdown",
   "metadata": {},
   "source": [
    "### BaggingClassifier"
   ]
  },
  {
   "cell_type": "code",
   "execution_count": 59,
   "metadata": {},
   "outputs": [
    {
     "name": "stdout",
     "output_type": "stream",
     "text": [
      "Train Score Bagging Classifier: 0.9853768278965129\n",
      "test Score Bagging Classifier: 0.7913669064748201\n"
     ]
    },
    {
     "data": {
      "text/plain": [
       "[<matplotlib.lines.Line2D at 0x23bb53f4d60>]"
      ]
     },
     "execution_count": 59,
     "metadata": {},
     "output_type": "execute_result"
    },
    {
     "data": {
      "image/png": "[encoded data removed]",
      "text/plain": [
       "<Figure size 864x576 with 1 Axes>"
      ]
     },
     "metadata": {
      "needs_background": "light"
     },
     "output_type": "display_data"
    }
   ],
   "source": [
    "bg = BaggingClassifier()\n",
    "bg.fit(Xno_train, yno_train)\n",
    "print('Train Score Bagging Classifier:', bg.score(Xno_train, yno_train))\n",
    "print('test Score Bagging Classifier:', bg.score(Xno_test, yno_test))\n",
    "\n",
    "N, train_score, val_score = learning_curve(bg,\n",
    "                                           Xno_train,\n",
    "                                           yno_train,\n",
    "                                           scoring='accuracy',\n",
    "                                           cv=5,\n",
    "                                           train_sizes=np.linspace(0.1, 1, 10))\n",
    "plt.figure(figsize=(12, 8))\n",
    "plt.plot(N, train_score.mean(axis=1), label='validation score')\n",
    "plt.plot(N, val_score.mean(axis=1), label='test score')"
   ]
  },
  {
   "cell_type": "markdown",
   "metadata": {},
   "source": [
    "### XGBClassifier"
   ]
  },
  {
   "cell_type": "code",
   "execution_count": 60,
   "metadata": {
    "scrolled": true
   },
   "outputs": [
    {
     "name": "stdout",
     "output_type": "stream",
     "text": [
      "[23:21:02] WARNING: ..\\src\\learner.cc:1061: Starting in XGBoost 1.3.0, the default evaluation metric used with the objective 'binary:logistic' was changed from 'error' to 'logloss'. Explicitly set eval_metric if you'd like to restore the old behavior.\n",
      "Train Score Classifier: 1.0\n",
      "Test Score Classifier: 0.8309352517985612\n",
      "[23:21:02] WARNING: ..\\src\\learner.cc:1061: Starting in XGBoost 1.3.0, the default evaluation metric used with the objective 'binary:logistic' was changed from 'error' to 'logloss'. Explicitly set eval_metric if you'd like to restore the old behavior.\n",
      "[23:21:02] WARNING: ..\\src\\learner.cc:1061: Starting in XGBoost 1.3.0, the default evaluation metric used with the objective 'binary:logistic' was changed from 'error' to 'logloss'. Explicitly set eval_metric if you'd like to restore the old behavior.\n",
      "[23:21:02] WARNING: ..\\src\\learner.cc:1061: Starting in XGBoost 1.3.0, the default evaluation metric used with the objective 'binary:logistic' was changed from 'error' to 'logloss'. Explicitly set eval_metric if you'd like to restore the old behavior.\n",
      "[23:21:02] WARNING: ..\\src\\learner.cc:1061: Starting in XGBoost 1.3.0, the default evaluation metric used with the objective 'binary:logistic' was changed from 'error' to 'logloss'. Explicitly set eval_metric if you'd like to restore the old behavior.\n",
      "[23:21:02] WARNING: ..\\src\\learner.cc:1061: Starting in XGBoost 1.3.0, the default evaluation metric used with the objective 'binary:logistic' was changed from 'error' to 'logloss'. Explicitly set eval_metric if you'd like to restore the old behavior.\n",
      "[23:21:03] WARNING: ..\\src\\learner.cc:1061: Starting in XGBoost 1.3.0, the default evaluation metric used with the objective 'binary:logistic' was changed from 'error' to 'logloss'. Explicitly set eval_metric if you'd like to restore the old behavior.\n",
      "[23:21:03] WARNING: ..\\src\\learner.cc:1061: Starting in XGBoost 1.3.0, the default evaluation metric used with the objective 'binary:logistic' was changed from 'error' to 'logloss'. Explicitly set eval_metric if you'd like to restore the old behavior.\n",
      "[23:21:03] WARNING: ..\\src\\learner.cc:1061: Starting in XGBoost 1.3.0, the default evaluation metric used with the objective 'binary:logistic' was changed from 'error' to 'logloss'. Explicitly set eval_metric if you'd like to restore the old behavior.\n",
      "[23:21:04] WARNING: ..\\src\\learner.cc:1061: Starting in XGBoost 1.3.0, the default evaluation metric used with the objective 'binary:logistic' was changed from 'error' to 'logloss'. Explicitly set eval_metric if you'd like to restore the old behavior.\n",
      "[23:21:04] WARNING: ..\\src\\learner.cc:1061: Starting in XGBoost 1.3.0, the default evaluation metric used with the objective 'binary:logistic' was changed from 'error' to 'logloss'. Explicitly set eval_metric if you'd like to restore the old behavior.\n",
      "[23:21:04] WARNING: ..\\src\\learner.cc:1061: Starting in XGBoost 1.3.0, the default evaluation metric used with the objective 'binary:logistic' was changed from 'error' to 'logloss'. Explicitly set eval_metric if you'd like to restore the old behavior.\n",
      "[23:21:04] WARNING: ..\\src\\learner.cc:1061: Starting in XGBoost 1.3.0, the default evaluation metric used with the objective 'binary:logistic' was changed from 'error' to 'logloss'. Explicitly set eval_metric if you'd like to restore the old behavior.\n",
      "[23:21:04] WARNING: ..\\src\\learner.cc:1061: Starting in XGBoost 1.3.0, the default evaluation metric used with the objective 'binary:logistic' was changed from 'error' to 'logloss'. Explicitly set eval_metric if you'd like to restore the old behavior.\n",
      "[23:21:05] WARNING: ..\\src\\learner.cc:1061: Starting in XGBoost 1.3.0, the default evaluation metric used with the objective 'binary:logistic' was changed from 'error' to 'logloss'. Explicitly set eval_metric if you'd like to restore the old behavior.\n",
      "[23:21:05] WARNING: ..\\src\\learner.cc:1061: Starting in XGBoost 1.3.0, the default evaluation metric used with the objective 'binary:logistic' was changed from 'error' to 'logloss'. Explicitly set eval_metric if you'd like to restore the old behavior.\n",
      "[23:21:05] WARNING: ..\\src\\learner.cc:1061: Starting in XGBoost 1.3.0, the default evaluation metric used with the objective 'binary:logistic' was changed from 'error' to 'logloss'. Explicitly set eval_metric if you'd like to restore the old behavior.\n",
      "[23:21:05] WARNING: ..\\src\\learner.cc:1061: Starting in XGBoost 1.3.0, the default evaluation metric used with the objective 'binary:logistic' was changed from 'error' to 'logloss'. Explicitly set eval_metric if you'd like to restore the old behavior.\n",
      "[23:21:06] WARNING: ..\\src\\learner.cc:1061: Starting in XGBoost 1.3.0, the default evaluation metric used with the objective 'binary:logistic' was changed from 'error' to 'logloss'. Explicitly set eval_metric if you'd like to restore the old behavior.\n",
      "[23:21:06] WARNING: ..\\src\\learner.cc:1061: Starting in XGBoost 1.3.0, the default evaluation metric used with the objective 'binary:logistic' was changed from 'error' to 'logloss'. Explicitly set eval_metric if you'd like to restore the old behavior.\n",
      "[23:21:06] WARNING: ..\\src\\learner.cc:1061: Starting in XGBoost 1.3.0, the default evaluation metric used with the objective 'binary:logistic' was changed from 'error' to 'logloss'. Explicitly set eval_metric if you'd like to restore the old behavior.\n",
      "[23:21:06] WARNING: ..\\src\\learner.cc:1061: Starting in XGBoost 1.3.0, the default evaluation metric used with the objective 'binary:logistic' was changed from 'error' to 'logloss'. Explicitly set eval_metric if you'd like to restore the old behavior.\n",
      "[23:21:07] WARNING: ..\\src\\learner.cc:1061: Starting in XGBoost 1.3.0, the default evaluation metric used with the objective 'binary:logistic' was changed from 'error' to 'logloss'. Explicitly set eval_metric if you'd like to restore the old behavior.\n",
      "[23:21:07] WARNING: ..\\src\\learner.cc:1061: Starting in XGBoost 1.3.0, the default evaluation metric used with the objective 'binary:logistic' was changed from 'error' to 'logloss'. Explicitly set eval_metric if you'd like to restore the old behavior.\n",
      "[23:21:07] WARNING: ..\\src\\learner.cc:1061: Starting in XGBoost 1.3.0, the default evaluation metric used with the objective 'binary:logistic' was changed from 'error' to 'logloss'. Explicitly set eval_metric if you'd like to restore the old behavior.\n",
      "[23:21:07] WARNING: ..\\src\\learner.cc:1061: Starting in XGBoost 1.3.0, the default evaluation metric used with the objective 'binary:logistic' was changed from 'error' to 'logloss'. Explicitly set eval_metric if you'd like to restore the old behavior.\n",
      "[23:21:08] WARNING: ..\\src\\learner.cc:1061: Starting in XGBoost 1.3.0, the default evaluation metric used with the objective 'binary:logistic' was changed from 'error' to 'logloss'. Explicitly set eval_metric if you'd like to restore the old behavior.\n",
      "[23:21:08] WARNING: ..\\src\\learner.cc:1061: Starting in XGBoost 1.3.0, the default evaluation metric used with the objective 'binary:logistic' was changed from 'error' to 'logloss'. Explicitly set eval_metric if you'd like to restore the old behavior.\n",
      "[23:21:08] WARNING: ..\\src\\learner.cc:1061: Starting in XGBoost 1.3.0, the default evaluation metric used with the objective 'binary:logistic' was changed from 'error' to 'logloss'. Explicitly set eval_metric if you'd like to restore the old behavior.\n",
      "[23:21:08] WARNING: ..\\src\\learner.cc:1061: Starting in XGBoost 1.3.0, the default evaluation metric used with the objective 'binary:logistic' was changed from 'error' to 'logloss'. Explicitly set eval_metric if you'd like to restore the old behavior.\n",
      "[23:21:09] WARNING: ..\\src\\learner.cc:1061: Starting in XGBoost 1.3.0, the default evaluation metric used with the objective 'binary:logistic' was changed from 'error' to 'logloss'. Explicitly set eval_metric if you'd like to restore the old behavior.\n",
      "[23:21:09] WARNING: ..\\src\\learner.cc:1061: Starting in XGBoost 1.3.0, the default evaluation metric used with the objective 'binary:logistic' was changed from 'error' to 'logloss'. Explicitly set eval_metric if you'd like to restore the old behavior.\n",
      "[23:21:09] WARNING: ..\\src\\learner.cc:1061: Starting in XGBoost 1.3.0, the default evaluation metric used with the objective 'binary:logistic' was changed from 'error' to 'logloss'. Explicitly set eval_metric if you'd like to restore the old behavior.\n"
     ]
    },
    {
     "name": "stdout",
     "output_type": "stream",
     "text": [
      "[23:21:09] WARNING: ..\\src\\learner.cc:1061: Starting in XGBoost 1.3.0, the default evaluation metric used with the objective 'binary:logistic' was changed from 'error' to 'logloss'. Explicitly set eval_metric if you'd like to restore the old behavior.\n",
      "[23:21:09] WARNING: ..\\src\\learner.cc:1061: Starting in XGBoost 1.3.0, the default evaluation metric used with the objective 'binary:logistic' was changed from 'error' to 'logloss'. Explicitly set eval_metric if you'd like to restore the old behavior.\n",
      "[23:21:10] WARNING: ..\\src\\learner.cc:1061: Starting in XGBoost 1.3.0, the default evaluation metric used with the objective 'binary:logistic' was changed from 'error' to 'logloss'. Explicitly set eval_metric if you'd like to restore the old behavior.\n",
      "[23:21:10] WARNING: ..\\src\\learner.cc:1061: Starting in XGBoost 1.3.0, the default evaluation metric used with the objective 'binary:logistic' was changed from 'error' to 'logloss'. Explicitly set eval_metric if you'd like to restore the old behavior.\n",
      "[23:21:10] WARNING: ..\\src\\learner.cc:1061: Starting in XGBoost 1.3.0, the default evaluation metric used with the objective 'binary:logistic' was changed from 'error' to 'logloss'. Explicitly set eval_metric if you'd like to restore the old behavior.\n",
      "[23:21:10] WARNING: ..\\src\\learner.cc:1061: Starting in XGBoost 1.3.0, the default evaluation metric used with the objective 'binary:logistic' was changed from 'error' to 'logloss'. Explicitly set eval_metric if you'd like to restore the old behavior.\n",
      "[23:21:11] WARNING: ..\\src\\learner.cc:1061: Starting in XGBoost 1.3.0, the default evaluation metric used with the objective 'binary:logistic' was changed from 'error' to 'logloss'. Explicitly set eval_metric if you'd like to restore the old behavior.\n",
      "[23:21:11] WARNING: ..\\src\\learner.cc:1061: Starting in XGBoost 1.3.0, the default evaluation metric used with the objective 'binary:logistic' was changed from 'error' to 'logloss'. Explicitly set eval_metric if you'd like to restore the old behavior.\n",
      "[23:21:11] WARNING: ..\\src\\learner.cc:1061: Starting in XGBoost 1.3.0, the default evaluation metric used with the objective 'binary:logistic' was changed from 'error' to 'logloss'. Explicitly set eval_metric if you'd like to restore the old behavior.\n",
      "[23:21:11] WARNING: ..\\src\\learner.cc:1061: Starting in XGBoost 1.3.0, the default evaluation metric used with the objective 'binary:logistic' was changed from 'error' to 'logloss'. Explicitly set eval_metric if you'd like to restore the old behavior.\n",
      "[23:21:12] WARNING: ..\\src\\learner.cc:1061: Starting in XGBoost 1.3.0, the default evaluation metric used with the objective 'binary:logistic' was changed from 'error' to 'logloss'. Explicitly set eval_metric if you'd like to restore the old behavior.\n",
      "[23:21:12] WARNING: ..\\src\\learner.cc:1061: Starting in XGBoost 1.3.0, the default evaluation metric used with the objective 'binary:logistic' was changed from 'error' to 'logloss'. Explicitly set eval_metric if you'd like to restore the old behavior.\n",
      "[23:21:12] WARNING: ..\\src\\learner.cc:1061: Starting in XGBoost 1.3.0, the default evaluation metric used with the objective 'binary:logistic' was changed from 'error' to 'logloss'. Explicitly set eval_metric if you'd like to restore the old behavior.\n",
      "[23:21:12] WARNING: ..\\src\\learner.cc:1061: Starting in XGBoost 1.3.0, the default evaluation metric used with the objective 'binary:logistic' was changed from 'error' to 'logloss'. Explicitly set eval_metric if you'd like to restore the old behavior.\n",
      "[23:21:13] WARNING: ..\\src\\learner.cc:1061: Starting in XGBoost 1.3.0, the default evaluation metric used with the objective 'binary:logistic' was changed from 'error' to 'logloss'. Explicitly set eval_metric if you'd like to restore the old behavior.\n",
      "[23:21:13] WARNING: ..\\src\\learner.cc:1061: Starting in XGBoost 1.3.0, the default evaluation metric used with the objective 'binary:logistic' was changed from 'error' to 'logloss'. Explicitly set eval_metric if you'd like to restore the old behavior.\n",
      "[23:21:13] WARNING: ..\\src\\learner.cc:1061: Starting in XGBoost 1.3.0, the default evaluation metric used with the objective 'binary:logistic' was changed from 'error' to 'logloss'. Explicitly set eval_metric if you'd like to restore the old behavior.\n",
      "[23:21:14] WARNING: ..\\src\\learner.cc:1061: Starting in XGBoost 1.3.0, the default evaluation metric used with the objective 'binary:logistic' was changed from 'error' to 'logloss'. Explicitly set eval_metric if you'd like to restore the old behavior.\n"
     ]
    },
    {
     "data": {
      "text/plain": [
       "[<matplotlib.lines.Line2D at 0x23bb54622e0>]"
      ]
     },
     "execution_count": 60,
     "metadata": {},
     "output_type": "execute_result"
    },
    {
     "data": {
      "image/png": "[encoded data removed]",
      "text/plain": [
       "<Figure size 864x576 with 1 Axes>"
      ]
     },
     "metadata": {
      "needs_background": "light"
     },
     "output_type": "display_data"
    }
   ],
   "source": [
    "xgb = XGBClassifier()\n",
    "xgb.fit(Xno_train, yno_train)\n",
    "print('Train Score Classifier:', xgb.score(Xno_train, yno_train))\n",
    "print('Test Score Classifier:', xgb.score(Xno_test, yno_test))\n",
    "N, train_score, val_score = learning_curve(xgb,\n",
    "                                           Xno_train,\n",
    "                                           yno_train,\n",
    "                                           scoring='accuracy',\n",
    "                                           cv=5,\n",
    "                                           train_sizes=np.linspace(0.1, 1, 10))\n",
    "plt.figure(figsize=(12, 8))\n",
    "plt.plot(N, train_score.mean(axis=1), label='train score')\n",
    "plt.plot(N, val_score.mean(axis=1), label='validation score')"
   ]
  },
  {
   "cell_type": "markdown",
   "metadata": {},
   "source": [
    "### AdaBoostClassifier"
   ]
  },
  {
   "cell_type": "code",
   "execution_count": 61,
   "metadata": {},
   "outputs": [
    {
     "name": "stdout",
     "output_type": "stream",
     "text": [
      "Train Score AdaBoostClassifier: 0.8526434195725534\n",
      "test Score AdaBoostClassifier: 0.8093525179856115\n"
     ]
    },
    {
     "data": {
      "text/plain": [
       "[<matplotlib.lines.Line2D at 0x23bb54ac430>]"
      ]
     },
     "execution_count": 61,
     "metadata": {},
     "output_type": "execute_result"
    },
    {
     "data": {
      "image/png": "[encoded data removed]",
      "text/plain": [
       "<Figure size 864x576 with 1 Axes>"
      ]
     },
     "metadata": {
      "needs_background": "light"
     },
     "output_type": "display_data"
    }
   ],
   "source": [
    "ada = AdaBoostClassifier()\n",
    "ada.fit(Xno_train, yno_train)\n",
    "print('Train Score AdaBoostClassifier:', ada.score(Xno_train, yno_train))\n",
    "print('test Score AdaBoostClassifier:', ada.score(Xno_test, yno_test))\n",
    "\n",
    "N, train_score, val_score = learning_curve(ada,\n",
    "                                           Xno_train,\n",
    "                                           yno_train,\n",
    "                                           scoring='accuracy',\n",
    "                                           cv=5,\n",
    "                                           train_sizes=np.linspace(0.1, 1, 10))\n",
    "plt.figure(figsize=(12, 8))\n",
    "plt.plot(N, train_score.mean(axis=1), label='train score')\n",
    "plt.plot(N, val_score.mean(axis=1), label='test score')"
   ]
  },
  {
   "cell_type": "markdown",
   "metadata": {
    "id": "8n1Xghz5DkHB"
   },
   "source": [
    "## Application du GridSearch et Tunning des modèles"
   ]
  },
  {
   "cell_type": "markdown",
   "metadata": {},
   "source": [
    "### Regression Logistique"
   ]
  },
  {
   "cell_type": "code",
   "execution_count": 23,
   "metadata": {
    "colab": {
     "base_uri": "https://localhost:8080/"
    },
    "id": "5TOQCi3wWa01",
    "outputId": "52ee0844-a45d-4f64-c078-44c7b8b0fcee"
   },
   "outputs": [
    {
     "data": {
      "text/plain": [
       "GridSearchCV(cv=5, estimator=LogisticRegression(),\n",
       "             param_grid={'C': [1, 0], 'max_iter': [82], 'penalty': ['none'],\n",
       "                         'solver': ['newton-cg', 'lbfgs', 'liblinear', 'sag',\n",
       "                                    'saga']})"
      ]
     },
     "execution_count": 23,
     "metadata": {},
     "output_type": "execute_result"
    }
   ],
   "source": [
    "# Création d'une bibliothèque d'hyperparamètres qui sera utiliser pour la recherche par grille\n",
    "paramRL = {\n",
    "    'penalty': ['none'],\n",
    "    'C': [1, 0],\n",
    "    'max_iter': [82],\n",
    "    'solver': ['newton-cg', 'lbfgs', 'liblinear', 'sag', 'saga']\n",
    "}\n",
    "\n",
    "# application du GridSearch avec comme paramètres le modèle, la bibliothèque définie précédemment\n",
    "gridRL = GridSearchCV(LogisticRegression(), paramRL, cv=5)\n",
    "\n",
    "# entraitement avec les hyperparamètres optimaux trouvés lors du GridSearch\n",
    "gridRL.fit(Xs_train, ys_train)"
   ]
  },
  {
   "cell_type": "code",
   "execution_count": 21,
   "metadata": {},
   "outputs": [
    {
     "data": {
      "text/plain": [
       "{'C': 1.0,\n",
       " 'class_weight': None,\n",
       " 'dual': False,\n",
       " 'fit_intercept': True,\n",
       " 'intercept_scaling': 1,\n",
       " 'l1_ratio': None,\n",
       " 'max_iter': 100,\n",
       " 'multi_class': 'auto',\n",
       " 'n_jobs': None,\n",
       " 'penalty': 'l2',\n",
       " 'random_state': None,\n",
       " 'solver': 'lbfgs',\n",
       " 'tol': 0.0001,\n",
       " 'verbose': 0,\n",
       " 'warm_start': False}"
      ]
     },
     "execution_count": 21,
     "metadata": {},
     "output_type": "execute_result"
    }
   ],
   "source": [
    "log.get_params()"
   ]
  },
  {
   "cell_type": "code",
   "execution_count": 24,
   "metadata": {
    "colab": {
     "base_uri": "https://localhost:8080/"
    },
    "id": "gWxxELjyXe2M",
    "outputId": "0a0f3c23-abdf-4115-de22-bedcd38b89dc"
   },
   "outputs": [
    {
     "data": {
      "text/plain": [
       "0.7907446200723671"
      ]
     },
     "execution_count": 24,
     "metadata": {},
     "output_type": "execute_result"
    }
   ],
   "source": [
    "gridRL.best_score_"
   ]
  },
  {
   "cell_type": "code",
   "execution_count": 25,
   "metadata": {
    "colab": {
     "base_uri": "https://localhost:8080/"
    },
    "id": "O9rXTzkhXkOW",
    "outputId": "7aaff40e-62b4-4021-a881-002308a7daec"
   },
   "outputs": [
    {
     "data": {
      "text/plain": [
       "{'C': 1, 'max_iter': 82, 'penalty': 'none', 'solver': 'newton-cg'}"
      ]
     },
     "execution_count": 25,
     "metadata": {},
     "output_type": "execute_result"
    }
   ],
   "source": [
    "gridRL.best_params_"
   ]
  },
  {
   "cell_type": "code",
   "execution_count": 26,
   "metadata": {
    "colab": {
     "base_uri": "https://localhost:8080/"
    },
    "id": "vMABV_0wX7UU",
    "outputId": "b2972c77-b98e-4065-eab4-9177fc31963a"
   },
   "outputs": [
    {
     "name": "stdout",
     "output_type": "stream",
     "text": [
      "Le temps dexecution est de :0.004538999999965654\n",
      "train: 0.8278965129358831\n",
      "val 0.7533632286995515\n",
      "test 0.802158273381295\n"
     ]
    }
   ],
   "source": [
    "start = timeit.default_timer()\n",
    "\n",
    "modelRL = gridRL.best_estimator_\n",
    "modelRL.score(Xs_val, ys_val)\n",
    "\n",
    "stop = timeit.default_timer()\n",
    "execution_time = stop - start\n",
    "print(\"Le temps dexecution est de :\" + str(execution_time))\n",
    "print(\"train:\", modelRL.score(Xs_train, ys_train))\n",
    "print(\"val\", modelRL.score(Xs_val, ys_val))\n",
    "print(\"test\", modelRL.score(Xs_test, ys_test))"
   ]
  },
  {
   "cell_type": "code",
   "execution_count": 29,
   "metadata": {
    "colab": {
     "base_uri": "https://localhost:8080/"
    },
    "id": "PvQtK65hYP5F",
    "outputId": "dc8f3545-3698-45bf-b277-bc7288d081a3"
   },
   "outputs": [
    {
     "name": "stdout",
     "output_type": "stream",
     "text": [
      "0.802158273381295\n",
      "[[100  31]\n",
      " [ 24 123]]\n",
      "              precision    recall  f1-score   support\n",
      "\n",
      "           0       0.81      0.76      0.78       131\n",
      "           1       0.80      0.84      0.82       147\n",
      "\n",
      "    accuracy                           0.80       278\n",
      "   macro avg       0.80      0.80      0.80       278\n",
      "weighted avg       0.80      0.80      0.80       278\n",
      "\n"
     ]
    },
    {
     "data": {
      "text/plain": [
       "[<matplotlib.lines.Line2D at 0x26e99670370>]"
      ]
     },
     "execution_count": 29,
     "metadata": {},
     "output_type": "execute_result"
    },
    {
     "data": {
      "image/png": "[encoded data removed]",
      "text/plain": [
       "<Figure size 864x576 with 1 Axes>"
      ]
     },
     "metadata": {
      "needs_background": "light"
     },
     "output_type": "display_data"
    }
   ],
   "source": [
    "RL = LogisticRegression(C=1, max_iter=82, penalty='none', solver='newton-cg')\n",
    "RL.fit(Xs_train, ys_train)\n",
    "y_pred_RL = RL.predict(Xs_test)\n",
    "print(accuracy_score(y_pred_RL, ys_test))\n",
    "print(confusion_matrix(ys_test, y_pred_RL))\n",
    "print(classification_report(ys_test, y_pred_RL))\n",
    "\n",
    "N, train_score, val_score = learning_curve(RL,\n",
    "                                           Xs_train,\n",
    "                                           ys_train,\n",
    "                                           scoring='accuracy',\n",
    "                                           cv=5,\n",
    "                                           train_sizes=np.linspace(0.1, 1, 10))\n",
    "plt.figure(figsize=(12, 8))\n",
    "plt.plot(N, train_score.mean(axis=1), label='train score')\n",
    "plt.plot(N, val_score.mean(axis=1), label='validation score')"
   ]
  },
  {
   "cell_type": "markdown",
   "metadata": {
    "id": "LVULAEEEDkHB"
   },
   "source": [
    "### KNeighbors"
   ]
  },
  {
   "cell_type": "code",
   "execution_count": 31,
   "metadata": {
    "colab": {
     "base_uri": "https://localhost:8080/"
    },
    "id": "zrYz15wRDkHC",
    "outputId": "481b0814-6f3c-46e3-e989-07e2d6032bd0"
   },
   "outputs": [
    {
     "data": {
      "text/plain": [
       "GridSearchCV(cv=5, estimator=KNeighborsClassifier(), n_jobs=-1,\n",
       "             param_grid={'algorithm': ['auto'], 'leaf_size': range(20, 35),\n",
       "                         'metric': ['minkowski'], 'n_neighbors': range(5, 15),\n",
       "                         'p': range(2, 8), 'weights': ['uniform']})"
      ]
     },
     "execution_count": 31,
     "metadata": {},
     "output_type": "execute_result"
    }
   ],
   "source": [
    "# Création d'une bibliothèque d'hyperparamètres qui sera utiliser pour la recherche par grille\n",
    "paramKNN = {\n",
    "    'n_neighbors': range(5, 15),\n",
    "    'algorithm': ['auto'],\n",
    "    'metric': ['minkowski'],\n",
    "    'weights': ['uniform'],\n",
    "    'leaf_size': range(20, 35),\n",
    "    'p': range(2, 8)\n",
    "}\n",
    "\n",
    "# application du GridSearch avec comme paramètres le modèle, la bibliothèque définie précédemment\n",
    "gridKNN = GridSearchCV(KNeighborsClassifier(), paramKNN, cv=5, n_jobs=-1)\n",
    "\n",
    "# entraitement avec les hyperparamètres optimaux trouvés lors du GridSearch\n",
    "gridKNN.fit(Xs_train, ys_train)"
   ]
  },
  {
   "cell_type": "code",
   "execution_count": 623,
   "metadata": {},
   "outputs": [
    {
     "data": {
      "text/plain": [
       "{'algorithm': 'auto',\n",
       " 'leaf_size': 30,\n",
       " 'metric': 'minkowski',\n",
       " 'metric_params': None,\n",
       " 'n_jobs': None,\n",
       " 'n_neighbors': 5,\n",
       " 'p': 2,\n",
       " 'weights': 'uniform'}"
      ]
     },
     "execution_count": 623,
     "metadata": {},
     "output_type": "execute_result"
    }
   ],
   "source": [
    "# hyperparamètres utilisés sur le modèle de base.\n",
    "kn.get_params()"
   ]
  },
  {
   "cell_type": "code",
   "execution_count": 32,
   "metadata": {
    "colab": {
     "base_uri": "https://localhost:8080/"
    },
    "id": "iC3di1aGDkHC",
    "outputId": "7a6dfec7-6d9c-4122-d67f-cce6520b8a7a"
   },
   "outputs": [
    {
     "data": {
      "text/plain": [
       "0.7468863073700247"
      ]
     },
     "execution_count": 32,
     "metadata": {},
     "output_type": "execute_result"
    }
   ],
   "source": [
    "# meilleur score obtenu lors du GridSearch\n",
    "gridKNN.best_score_"
   ]
  },
  {
   "cell_type": "code",
   "execution_count": 34,
   "metadata": {
    "colab": {
     "base_uri": "https://localhost:8080/"
    },
    "id": "Xq0zDJxdDkHC",
    "outputId": "98b927c8-a60d-4613-cfc6-5fccd5d14a49"
   },
   "outputs": [
    {
     "data": {
      "text/plain": [
       "{'algorithm': 'auto',\n",
       " 'leaf_size': 20,\n",
       " 'metric': 'minkowski',\n",
       " 'n_neighbors': 5,\n",
       " 'p': 2,\n",
       " 'weights': 'uniform'}"
      ]
     },
     "execution_count": 34,
     "metadata": {},
     "output_type": "execute_result"
    }
   ],
   "source": [
    "# Les meilleurs hyperparamètres pour le modèle\n",
    "gridKNN.best_params_"
   ]
  },
  {
   "cell_type": "code",
   "execution_count": 35,
   "metadata": {
    "colab": {
     "base_uri": "https://localhost:8080/"
    },
    "id": "d9bZ_A7RDkHD",
    "outputId": "a0c8b269-97d0-4746-c75b-b19cd9c45aef"
   },
   "outputs": [
    {
     "name": "stdout",
     "output_type": "stream",
     "text": [
      "Le temps dexecution est de :0.024519800000007308\n",
      "train: 0.8312710911136107\n",
      "validation: 0.7668161434977578\n",
      "test: 0.7949640287769785\n"
     ]
    }
   ],
   "source": [
    "# different score donnés après l'application des hyperparamètres optimaux\n",
    "\n",
    "start = timeit.default_timer()\n",
    "\n",
    "modelKNN = gridKNN.best_estimator_\n",
    "modelKNN.score(Xs_val, ys_val)\n",
    "\n",
    "stop = timeit.default_timer()\n",
    "execution_time = stop - start\n",
    "print(\"Le temps dexecution est de :\" + str(execution_time))\n",
    "print(\"train:\", modelKNN.score(Xs_train, ys_train))\n",
    "print(\"validation:\", modelKNN.score(Xs_val, ys_val))\n",
    "print(\"test:\", modelKNN.score(Xs_test, ys_test))"
   ]
  },
  {
   "cell_type": "code",
   "execution_count": 62,
   "metadata": {
    "colab": {
     "base_uri": "https://localhost:8080/"
    },
    "id": "ef_Q653Pvfci",
    "outputId": "c40ea9e4-7f53-4ea6-997f-212e91d8d36d"
   },
   "outputs": [
    {
     "name": "stdout",
     "output_type": "stream",
     "text": [
      "test: 0.7668161434977578\n",
      "[[108  14]\n",
      " [ 38  63]]\n",
      "              precision    recall  f1-score   support\n",
      "\n",
      "           0       0.74      0.89      0.81       122\n",
      "           1       0.82      0.62      0.71       101\n",
      "\n",
      "    accuracy                           0.77       223\n",
      "   macro avg       0.78      0.75      0.76       223\n",
      "weighted avg       0.78      0.77      0.76       223\n",
      "\n"
     ]
    },
    {
     "data": {
      "text/plain": [
       "[<matplotlib.lines.Line2D at 0x23bb57afaf0>]"
      ]
     },
     "execution_count": 62,
     "metadata": {},
     "output_type": "execute_result"
    },
    {
     "data": {
      "image/png": "[encoded data removed]",
      "text/plain": [
       "<Figure size 864x576 with 1 Axes>"
      ]
     },
     "metadata": {
      "needs_background": "light"
     },
     "output_type": "display_data"
    }
   ],
   "source": [
    "# plot des score des différentes metrics utilisées pour l'évaluation du modele choisi\n",
    "KNN = KNeighborsClassifier(weights='uniform',\n",
    "                           leaf_size=20,\n",
    "                           p=2,\n",
    "                           algorithm='auto',\n",
    "                           metric='minkowski',\n",
    "                           n_neighbors=5)\n",
    "\n",
    "KNN.fit(Xs_train, ys_train)\n",
    "y_pred_KNN = KNN.predict(Xs_val)\n",
    "print('test:', accuracy_score(y_pred_KNN, ys_val))\n",
    "print(confusion_matrix(ys_val, y_pred_KNN))\n",
    "print(classification_report(ys_val, y_pred_KNN))\n",
    "\n",
    "N, train_score, val_score = learning_curve(KNN,\n",
    "                                           Xs_train,\n",
    "                                           ys_train,\n",
    "                                           scoring='accuracy',\n",
    "                                           cv=5,\n",
    "                                           train_sizes=np.linspace(0.1, 1, 10))\n",
    "plt.figure(figsize=(12, 8))\n",
    "plt.plot(N, train_score.mean(axis=1), label='train score')\n",
    "plt.plot(N, val_score.mean(axis=1), label='validation score')"
   ]
  },
  {
   "cell_type": "markdown",
   "metadata": {
    "id": "vSyZt1tzDkHG"
   },
   "source": [
    "### Naive Bayes(BernoulliNB)"
   ]
  },
  {
   "cell_type": "code",
   "execution_count": 49,
   "metadata": {
    "colab": {
     "base_uri": "https://localhost:8080/"
    },
    "id": "T-pzckPTDkHG",
    "outputId": "a930ef17-b4ab-4bd6-a5e3-fb671af77611"
   },
   "outputs": [
    {
     "data": {
      "text/plain": [
       "GridSearchCV(cv=5, estimator=BernoulliNB(), n_jobs=-1,\n",
       "             param_grid={'alpha': array([ 1.        ,  1.12162162,  1.24324324,  1.36486486,  1.48648649,\n",
       "        1.60810811,  1.72972973,  1.85135135,  1.97297297,  2.09459459,\n",
       "        2.21621622,  2.33783784,  2.45945946,  2.58108108,  2.7027027 ,\n",
       "        2.82432432,  2.94594595,  3.06756757,  3.18918919,  3.31081081,\n",
       "        3.43243243,  3.55405405,  3.67567568,  3.7972973 ,  3.91891892,\n",
       "        4.0405...\n",
       "        7.08108108,  7.2027027 ,  7.32432432,  7.44594595,  7.56756757,\n",
       "        7.68918919,  7.81081081,  7.93243243,  8.05405405,  8.17567568,\n",
       "        8.2972973 ,  8.41891892,  8.54054054,  8.66216216,  8.78378378,\n",
       "        8.90540541,  9.02702703,  9.14864865,  9.27027027,  9.39189189,\n",
       "        9.51351351,  9.63513514,  9.75675676,  9.87837838, 10.        ]),\n",
       "                         'binarize': array([0.9       , 0.91111111, 0.92222222, 0.93333333, 0.94444444,\n",
       "       0.95555556, 0.96666667, 0.97777778, 0.98888889, 1.        ])})"
      ]
     },
     "execution_count": 49,
     "metadata": {},
     "output_type": "execute_result"
    }
   ],
   "source": [
    "paramNB = {\n",
    "    'alpha': np.linspace(1, 10, 75),\n",
    "    'binarize': np.linspace(0.9, 1, 10)\n",
    "}\n",
    "gridNB = GridSearchCV(BernoulliNB(), paramNB, cv=5, n_jobs=-1)\n",
    "gridNB.fit(Xs_train, ys_train)"
   ]
  },
  {
   "cell_type": "code",
   "execution_count": 693,
   "metadata": {},
   "outputs": [
    {
     "data": {
      "text/plain": [
       "{'alpha': 1.0, 'binarize': 0.0, 'class_prior': None, 'fit_prior': True}"
      ]
     },
     "execution_count": 693,
     "metadata": {},
     "output_type": "execute_result"
    }
   ],
   "source": [
    "nb.get_params()"
   ]
  },
  {
   "cell_type": "code",
   "execution_count": 50,
   "metadata": {
    "colab": {
     "base_uri": "https://localhost:8080/"
    },
    "id": "-FD1f_GQDkHG",
    "outputId": "b7c3ca9e-bf25-44f9-e2de-7689dff6b87e"
   },
   "outputs": [
    {
     "data": {
      "text/plain": [
       "0.7378467593474258"
      ]
     },
     "execution_count": 50,
     "metadata": {},
     "output_type": "execute_result"
    }
   ],
   "source": [
    "gridNB.best_score_"
   ]
  },
  {
   "cell_type": "code",
   "execution_count": 51,
   "metadata": {
    "colab": {
     "base_uri": "https://localhost:8080/"
    },
    "id": "e9kyny62DkHH",
    "outputId": "5f79e569-8588-4080-8528-2e0dcc897097"
   },
   "outputs": [
    {
     "data": {
      "text/plain": [
       "{'alpha': 3.9189189189189193, 'binarize': 0.9222222222222223}"
      ]
     },
     "execution_count": 51,
     "metadata": {},
     "output_type": "execute_result"
    }
   ],
   "source": [
    "gridNB.best_params_"
   ]
  },
  {
   "cell_type": "code",
   "execution_count": 52,
   "metadata": {
    "colab": {
     "base_uri": "https://localhost:8080/"
    },
    "id": "R1T1hNvzDkHH",
    "outputId": "8b695126-392f-41bf-f91b-385c099de29b"
   },
   "outputs": [
    {
     "name": "stdout",
     "output_type": "stream",
     "text": [
      "Le temps dexecution est de :0.003526899999997113\n",
      "train: 0.7649043869516311\n",
      "validation: 0.7085201793721974\n",
      "test: 0.6834532374100719\n"
     ]
    }
   ],
   "source": [
    "start = timeit.default_timer()\n",
    "\n",
    "modelNB = gridNB.best_estimator_\n",
    "modelNB.score(Xs_val, ys_val)\n",
    "\n",
    "stop = timeit.default_timer()\n",
    "execution_time = stop - start\n",
    "print(\"Le temps dexecution est de :\" + str(execution_time))\n",
    "print(\"train:\", modelNB.score(Xs_train, ys_train))\n",
    "print(\"validation:\", modelNB.score(Xs_val, ys_val))\n",
    "print(\"test:\", modelNB.score(Xs_test, ys_test))"
   ]
  },
  {
   "cell_type": "code",
   "execution_count": 54,
   "metadata": {
    "colab": {
     "base_uri": "https://localhost:8080/"
    },
    "id": "nXQq87rmQLFi",
    "outputId": "95bc0cc4-8932-4a53-c4f3-37745a33ea2d"
   },
   "outputs": [
    {
     "name": "stdout",
     "output_type": "stream",
     "text": [
      "0.7085201793721974\n",
      "[[91 31]\n",
      " [34 67]]\n",
      "              precision    recall  f1-score   support\n",
      "\n",
      "           0       0.73      0.75      0.74       122\n",
      "           1       0.68      0.66      0.67       101\n",
      "\n",
      "    accuracy                           0.71       223\n",
      "   macro avg       0.71      0.70      0.71       223\n",
      "weighted avg       0.71      0.71      0.71       223\n",
      "\n"
     ]
    },
    {
     "data": {
      "text/plain": [
       "[<matplotlib.lines.Line2D at 0x26ea1f1fc70>]"
      ]
     },
     "execution_count": 54,
     "metadata": {},
     "output_type": "execute_result"
    },
    {
     "data": {
      "image/png": "[encoded data removed]",
      "text/plain": [
       "<Figure size 864x576 with 1 Axes>"
      ]
     },
     "metadata": {
      "needs_background": "light"
     },
     "output_type": "display_data"
    }
   ],
   "source": [
    "NB = BernoulliNB(alpha=4, binarize=0.92)\n",
    "\n",
    "NB.fit(Xs_train, ys_train)\n",
    "y_pred_NB = NB.predict(Xs_val)\n",
    "print(accuracy_score(y_pred_NB, ys_val))\n",
    "print(confusion_matrix(ys_val, y_pred_NB))\n",
    "print(classification_report(ys_val, y_pred_NB))\n",
    "\n",
    "N, train_score, val_score = learning_curve(NB,\n",
    "                                           Xs_train,\n",
    "                                           ys_train,\n",
    "                                           scoring='accuracy',\n",
    "                                           cv=5,\n",
    "                                           train_sizes=np.linspace(0.1, 1, 10))\n",
    "plt.figure(figsize=(12, 8))\n",
    "plt.plot(N, train_score.mean(axis=1), label='validation score')\n",
    "plt.plot(N, val_score.mean(axis=1), label='test score')"
   ]
  },
  {
   "cell_type": "markdown",
   "metadata": {
    "id": "xLhsjYv-DkHI"
   },
   "source": [
    "### SVC"
   ]
  },
  {
   "cell_type": "code",
   "execution_count": 55,
   "metadata": {
    "colab": {
     "base_uri": "https://localhost:8080/"
    },
    "id": "TR_c-AS4DkHI",
    "outputId": "436c71c3-a70a-422f-f589-10067395d94f"
   },
   "outputs": [
    {
     "data": {
      "text/plain": [
       "GridSearchCV(cv=5, estimator=SVC(),\n",
       "             param_grid={'C': array([0.        , 0.22222222, 0.44444444, 0.66666667, 0.88888889,\n",
       "       1.11111111, 1.33333333, 1.55555556, 1.77777778, 2.        ]),\n",
       "                         'degree': [1, 0], 'gamma': ['auto'], 'kernel': ['rbf'],\n",
       "                         'tol': [1, 0]})"
      ]
     },
     "execution_count": 55,
     "metadata": {},
     "output_type": "execute_result"
    }
   ],
   "source": [
    "from sklearn.svm import SVC\n",
    "paramSVC = {\n",
    "    'C': np.linspace(0, 2, 10),\n",
    "    'kernel': ['rbf'],\n",
    "    'degree': [1, 0],\n",
    "    'gamma': ['auto'],\n",
    "    'tol': [1, 0]\n",
    "}\n",
    "gridSVC = GridSearchCV(SVC(), paramSVC, cv=5)\n",
    "gridSVC.fit(Xs_train, ys_train)"
   ]
  },
  {
   "cell_type": "code",
   "execution_count": 721,
   "metadata": {},
   "outputs": [
    {
     "data": {
      "text/plain": [
       "{'C': 1.0,\n",
       " 'break_ties': False,\n",
       " 'cache_size': 200,\n",
       " 'class_weight': None,\n",
       " 'coef0': 0.0,\n",
       " 'decision_function_shape': 'ovr',\n",
       " 'degree': 3,\n",
       " 'gamma': 'scale',\n",
       " 'kernel': 'rbf',\n",
       " 'max_iter': -1,\n",
       " 'probability': False,\n",
       " 'random_state': None,\n",
       " 'shrinking': True,\n",
       " 'tol': 0.001,\n",
       " 'verbose': False}"
      ]
     },
     "execution_count": 721,
     "metadata": {},
     "output_type": "execute_result"
    }
   ],
   "source": [
    "svc.get_params()"
   ]
  },
  {
   "cell_type": "code",
   "execution_count": 56,
   "metadata": {
    "colab": {
     "base_uri": "https://localhost:8080/"
    },
    "id": "8Xc0WYJMDkHI",
    "outputId": "21fa4389-ac13-4821-b2f3-a96b5a37c28d"
   },
   "outputs": [
    {
     "data": {
      "text/plain": [
       "0.7761251825049197"
      ]
     },
     "execution_count": 56,
     "metadata": {},
     "output_type": "execute_result"
    }
   ],
   "source": [
    "gridSVC.best_score_"
   ]
  },
  {
   "cell_type": "code",
   "execution_count": 57,
   "metadata": {
    "colab": {
     "base_uri": "https://localhost:8080/"
    },
    "id": "1FnajJXZDkHJ",
    "outputId": "133cd44b-5b42-4a0b-9ad0-8da562d7105f"
   },
   "outputs": [
    {
     "data": {
      "text/plain": [
       "{'C': 2.0, 'degree': 1, 'gamma': 'auto', 'kernel': 'rbf', 'tol': 1}"
      ]
     },
     "execution_count": 57,
     "metadata": {},
     "output_type": "execute_result"
    }
   ],
   "source": [
    "gridSVC.best_params_"
   ]
  },
  {
   "cell_type": "code",
   "execution_count": 58,
   "metadata": {
    "colab": {
     "base_uri": "https://localhost:8080/"
    },
    "id": "qawD30dcDkHJ",
    "outputId": "6559ad6a-689d-4738-fb82-9465cab5cc89"
   },
   "outputs": [
    {
     "name": "stdout",
     "output_type": "stream",
     "text": [
      "Le temps dexecution est de :0.020276799999919604\n",
      "train: 0.8413948256467941\n",
      "validation: 0.7892376681614349\n",
      "test: 0.7769784172661871\n"
     ]
    }
   ],
   "source": [
    "start = timeit.default_timer()\n",
    "\n",
    "modelSVC = gridSVC.best_estimator_\n",
    "modelSVC.score(Xs_val, ys_val)\n",
    "\n",
    "stop = timeit.default_timer()\n",
    "execution_time = stop - start\n",
    "print(\"Le temps dexecution est de :\" + str(execution_time))\n",
    "print(\"train:\", modelSVC.score(Xs_train, ys_train))\n",
    "print(\"validation:\", modelSVC.score(Xs_val, ys_val))\n",
    "print(\"test:\", modelSVC.score(Xs_test, ys_test))"
   ]
  },
  {
   "cell_type": "code",
   "execution_count": 303,
   "metadata": {
    "colab": {
     "base_uri": "https://localhost:8080/"
    },
    "id": "bLFyix8SPu_B",
    "outputId": "76730f15-f3a9-4fb8-da6f-b386144b403b"
   },
   "outputs": [
    {
     "name": "stdout",
     "output_type": "stream",
     "text": [
      "0.7769784172661871\n",
      "[[104  27]\n",
      " [ 35 112]]\n",
      "              precision    recall  f1-score   support\n",
      "\n",
      "           0       0.75      0.79      0.77       131\n",
      "           1       0.81      0.76      0.78       147\n",
      "\n",
      "    accuracy                           0.78       278\n",
      "   macro avg       0.78      0.78      0.78       278\n",
      "weighted avg       0.78      0.78      0.78       278\n",
      "\n"
     ]
    },
    {
     "data": {
      "text/plain": [
       "[<matplotlib.lines.Line2D at 0x26ea3203b80>]"
      ]
     },
     "execution_count": 303,
     "metadata": {},
     "output_type": "execute_result"
    },
    {
     "data": {
      "image/png": "[encoded data removed]",
      "text/plain": [
       "<Figure size 864x576 with 1 Axes>"
      ]
     },
     "metadata": {
      "needs_background": "light"
     },
     "output_type": "display_data"
    }
   ],
   "source": [
    "SVC = SVC(C=2, degree=1, kernel=\"rbf\", gamma='auto', tol=1)\n",
    "\n",
    "SVC.fit(Xs_train, ys_train)\n",
    "y_pred_SVC = SVC.predict(Xs_test)\n",
    "print(accuracy_score(y_pred_SVC, ys_test))\n",
    "print(confusion_matrix(ys_test, y_pred_SVC))\n",
    "print(classification_report(ys_test, y_pred_SVC))\n",
    "\n",
    "N, train_score, val_score = learning_curve(SVC,\n",
    "                                           Xs_train,\n",
    "                                           ys_train,\n",
    "                                           scoring='accuracy',\n",
    "                                           cv=5,\n",
    "                                           train_sizes=np.linspace(0.1, 1, 10))\n",
    "plt.figure(figsize=(12, 8))\n",
    "plt.plot(N, train_score.mean(axis=1), label='validation score')\n",
    "plt.plot(N, val_score.mean(axis=1), label='test score')"
   ]
  },
  {
   "cell_type": "markdown",
   "metadata": {
    "id": "ALzj7KAfDkHK"
   },
   "source": [
    "### RandomForestClassifier"
   ]
  },
  {
   "cell_type": "code",
   "execution_count": 78,
   "metadata": {
    "colab": {
     "base_uri": "https://localhost:8080/"
    },
    "id": "KfyL9tGUDkHK",
    "outputId": "8bdd44c5-c223-440c-ce58-f7ffbaf99476"
   },
   "outputs": [
    {
     "data": {
      "text/plain": [
       "GridSearchCV(cv=5, estimator=RandomForestClassifier(), n_jobs=-1,\n",
       "             param_grid={'ccp_alpha': array([0.        , 0.22222222, 0.44444444, 0.66666667, 0.88888889,\n",
       "       1.11111111, 1.33333333, 1.55555556, 1.77777778, 2.        ]),\n",
       "                         'min_samples_leaf': [1], 'min_samples_split': [2],\n",
       "                         'min_weight_fraction_leaf': array([0.        , 0.35714286, 0.71428571, 1.07142857, 1.42857143,\n",
       "       1.78571429, 2.14285714, 2.5       , 2.85714286, 3.21428571,\n",
       "       3.57142857, 3.92857143, 4.28571429, 4.64285714, 5.        ]),\n",
       "                         'n_estimators': range(105, 120)})"
      ]
     },
     "execution_count": 78,
     "metadata": {},
     "output_type": "execute_result"
    }
   ],
   "source": [
    "paramRF = {\n",
    "    'n_estimators': range(105, 120),\n",
    "    'ccp_alpha': np.linspace(0, 2, 10),\n",
    "    'min_samples_split': [2],\n",
    "    'min_samples_leaf': [1],\n",
    "    'min_weight_fraction_leaf': np.linspace(0, 5, 15)\n",
    "}\n",
    "gridRF = GridSearchCV(RandomForestClassifier(), paramRF, cv=5, n_jobs=-1)\n",
    "gridRF.fit(Xno_train, yno_train)"
   ]
  },
  {
   "cell_type": "code",
   "execution_count": 1160,
   "metadata": {},
   "outputs": [
    {
     "data": {
      "text/plain": [
       "{'bootstrap': True,\n",
       " 'ccp_alpha': 0.0,\n",
       " 'class_weight': None,\n",
       " 'criterion': 'gini',\n",
       " 'max_depth': None,\n",
       " 'max_features': 'auto',\n",
       " 'max_leaf_nodes': None,\n",
       " 'max_samples': None,\n",
       " 'min_impurity_decrease': 0.0,\n",
       " 'min_impurity_split': None,\n",
       " 'min_samples_leaf': 1,\n",
       " 'min_samples_split': 2,\n",
       " 'min_weight_fraction_leaf': 0.0,\n",
       " 'n_estimators': 100,\n",
       " 'n_jobs': None,\n",
       " 'oob_score': False,\n",
       " 'random_state': None,\n",
       " 'verbose': 0,\n",
       " 'warm_start': False}"
      ]
     },
     "execution_count": 1160,
     "metadata": {},
     "output_type": "execute_result"
    }
   ],
   "source": [
    "rf.get_params()"
   ]
  },
  {
   "cell_type": "code",
   "execution_count": 79,
   "metadata": {
    "colab": {
     "base_uri": "https://localhost:8080/"
    },
    "id": "hUxKS-E3DkHK",
    "outputId": "e8a906aa-0621-4b56-8a1d-28b4fe2cd24d"
   },
   "outputs": [
    {
     "data": {
      "text/plain": [
       "0.8267441122325907"
      ]
     },
     "execution_count": 79,
     "metadata": {},
     "output_type": "execute_result"
    }
   ],
   "source": [
    "gridRF.best_score_"
   ]
  },
  {
   "cell_type": "code",
   "execution_count": 80,
   "metadata": {
    "colab": {
     "base_uri": "https://localhost:8080/"
    },
    "id": "8Z7wzr2TDkHK",
    "outputId": "fa611c23-25d3-466b-c665-a1e77192c471"
   },
   "outputs": [
    {
     "data": {
      "text/plain": [
       "{'ccp_alpha': 0.0,\n",
       " 'min_samples_leaf': 1,\n",
       " 'min_samples_split': 2,\n",
       " 'min_weight_fraction_leaf': 0.0,\n",
       " 'n_estimators': 117}"
      ]
     },
     "execution_count": 80,
     "metadata": {},
     "output_type": "execute_result"
    }
   ],
   "source": [
    "gridRF.best_params_"
   ]
  },
  {
   "cell_type": "code",
   "execution_count": 81,
   "metadata": {
    "colab": {
     "base_uri": "https://localhost:8080/"
    },
    "id": "E7zHV_J0DkHL",
    "outputId": "b5e3c181-ae3a-4662-908d-239be7f5d9d2"
   },
   "outputs": [
    {
     "name": "stdout",
     "output_type": "stream",
     "text": [
      "Le temps dexecution est de :0.02141580000011345\n",
      "train: 1.0\n",
      "validation: 0.8071748878923767\n",
      "test: 0.8309352517985612\n"
     ]
    }
   ],
   "source": [
    "start = timeit.default_timer()\n",
    "\n",
    "modelRF = gridRF.best_estimator_\n",
    "modelRF.score(Xno_val, yno_val)\n",
    "\n",
    "stop = timeit.default_timer()\n",
    "execution_time = stop - start\n",
    "print(\"Le temps dexecution est de :\" + str(execution_time))\n",
    "print('train:', modelRF.score(Xno_train, yno_train))\n",
    "print('validation:', modelRF.score(Xno_val, yno_val))\n",
    "print('test:', modelRF.score(Xno_test, yno_test))"
   ]
  },
  {
   "cell_type": "code",
   "execution_count": 98,
   "metadata": {
    "colab": {
     "base_uri": "https://localhost:8080/"
    },
    "id": "J6leriyHO6dP",
    "outputId": "99c225ff-9870-4a86-c7d7-799cc06eb079"
   },
   "outputs": [
    {
     "name": "stdout",
     "output_type": "stream",
     "text": [
      "0.8453237410071942\n",
      "[[104  27]\n",
      " [ 16 131]]\n",
      "              precision    recall  f1-score   support\n",
      "\n",
      "           0       0.87      0.79      0.83       131\n",
      "           1       0.83      0.89      0.86       147\n",
      "\n",
      "    accuracy                           0.85       278\n",
      "   macro avg       0.85      0.84      0.84       278\n",
      "weighted avg       0.85      0.85      0.84       278\n",
      "\n"
     ]
    }
   ],
   "source": [
    "RF = RandomForestClassifier(ccp_alpha=0.0,\n",
    "                            min_samples_leaf=1,\n",
    "                            min_samples_split=2,\n",
    "                            min_weight_fraction_leaf=0.0,\n",
    "                            n_estimators=117)\n",
    "\n",
    "RF.fit(Xno_train, yno_train)\n",
    "y_pred_RF = RF.predict(Xno_test)\n",
    "print(accuracy_score(y_pred_RF, yno_test))\n",
    "print(confusion_matrix(yno_test, y_pred_RF))\n",
    "print(classification_report(yno_test, y_pred_RF))"
   ]
  },
  {
   "cell_type": "code",
   "execution_count": 99,
   "metadata": {},
   "outputs": [
    {
     "data": {
      "text/plain": [
       "[<matplotlib.lines.Line2D at 0x26ea2f457f0>]"
      ]
     },
     "execution_count": 99,
     "metadata": {},
     "output_type": "execute_result"
    },
    {
     "data": {
      "image/png": "[encoded data removed]",
      "text/plain": [
       "<Figure size 864x576 with 1 Axes>"
      ]
     },
     "metadata": {
      "needs_background": "light"
     },
     "output_type": "display_data"
    }
   ],
   "source": [
    "N, train_score, val_score = learning_curve(RF,\n",
    "                                           Xno_train,\n",
    "                                           yno_train,\n",
    "                                           scoring='accuracy',\n",
    "                                           cv=5,\n",
    "                                           train_sizes=np.linspace(0.1, 1, 10))\n",
    "plt.figure(figsize=(12, 8))\n",
    "plt.plot(N, train_score.mean(axis=1), label='validation score')\n",
    "plt.plot(N, val_score.mean(axis=1), label='test score')"
   ]
  },
  {
   "cell_type": "markdown",
   "metadata": {
    "id": "Rzdc_gYSDkHL"
   },
   "source": [
    "### BaggingClassifier"
   ]
  },
  {
   "cell_type": "code",
   "execution_count": 113,
   "metadata": {
    "collapsed": true,
    "id": "BV840oJwDkHL"
   },
   "outputs": [
    {
     "name": "stdout",
     "output_type": "stream",
     "text": [
      "Building estimator 1 of 22 for this parallel run (total 22)...\n",
      "Building estimator 2 of 22 for this parallel run (total 22)...\n",
      "Building estimator 3 of 22 for this parallel run (total 22)...\n",
      "Building estimator 4 of 22 for this parallel run (total 22)...\n",
      "Building estimator 5 of 22 for this parallel run (total 22)...\n",
      "Building estimator 6 of 22 for this parallel run (total 22)...\n",
      "Building estimator 7 of 22 for this parallel run (total 22)...\n",
      "Building estimator 8 of 22 for this parallel run (total 22)...\n",
      "Building estimator 9 of 22 for this parallel run (total 22)...\n",
      "Building estimator 10 of 22 for this parallel run (total 22)...\n",
      "Building estimator 11 of 22 for this parallel run (total 22)...\n",
      "Building estimator 12 of 22 for this parallel run (total 22)...\n",
      "Building estimator 13 of 22 for this parallel run (total 22)...\n",
      "Building estimator 14 of 22 for this parallel run (total 22)...\n",
      "Building estimator 15 of 22 for this parallel run (total 22)...\n",
      "Building estimator 16 of 22 for this parallel run (total 22)...\n",
      "Building estimator 17 of 22 for this parallel run (total 22)...\n",
      "Building estimator 18 of 22 for this parallel run (total 22)...\n",
      "Building estimator 19 of 22 for this parallel run (total 22)...\n",
      "Building estimator 20 of 22 for this parallel run (total 22)...\n",
      "Building estimator 21 of 22 for this parallel run (total 22)...\n",
      "Building estimator 22 of 22 for this parallel run (total 22)...\n"
     ]
    },
    {
     "name": "stderr",
     "output_type": "stream",
     "text": [
      "[Parallel(n_jobs=1)]: Using backend SequentialBackend with 1 concurrent workers.\n",
      "[Parallel(n_jobs=1)]: Done   1 out of   1 | elapsed:    0.0s remaining:    0.0s\n",
      "[Parallel(n_jobs=1)]: Done   1 out of   1 | elapsed:    0.0s finished\n"
     ]
    },
    {
     "data": {
      "text/plain": [
       "GridSearchCV(cv=5, estimator=BaggingClassifier(), n_jobs=-1,\n",
       "             param_grid={'max_features': range(4, 10),\n",
       "                         'max_samples': range(4, 10),\n",
       "                         'n_estimators': range(16, 26),\n",
       "                         'verbose': range(1, 4)})"
      ]
     },
     "execution_count": 113,
     "metadata": {},
     "output_type": "execute_result"
    }
   ],
   "source": [
    "paramBG = {\n",
    "    'n_estimators': range(16, 26),\n",
    "    'max_samples': range(4, 10),\n",
    "    'max_features': range(4, 10),\n",
    "    'verbose': range(1, 4)\n",
    "}\n",
    "\n",
    "gridBG = GridSearchCV(BaggingClassifier(), paramBG, cv=5, n_jobs=-1)\n",
    "gridBG.fit(Xno_train, yno_train)"
   ]
  },
  {
   "cell_type": "code",
   "execution_count": 203,
   "metadata": {
    "colab": {
     "base_uri": "https://localhost:8080/"
    },
    "id": "6gTbuFg-DkHM",
    "outputId": "81eae927-7761-4cef-c31b-d5c30aaf6003"
   },
   "outputs": [
    {
     "data": {
      "text/plain": [
       "0.7086142322097377"
      ]
     },
     "execution_count": 203,
     "metadata": {},
     "output_type": "execute_result"
    }
   ],
   "source": [
    "gridBG.best_score_"
   ]
  },
  {
   "cell_type": "code",
   "execution_count": 202,
   "metadata": {
    "colab": {
     "base_uri": "https://localhost:8080/"
    },
    "id": "7Rs18ZvxDkHM",
    "outputId": "24dc81c5-06a0-4d40-ec05-e654f203f75f"
   },
   "outputs": [
    {
     "data": {
      "text/plain": [
       "{'max_features': 7, 'max_samples': 9, 'n_estimators': 22, 'verbose': 2}"
      ]
     },
     "execution_count": 202,
     "metadata": {},
     "output_type": "execute_result"
    }
   ],
   "source": [
    "gridBG.best_params_"
   ]
  },
  {
   "cell_type": "code",
   "execution_count": 116,
   "metadata": {
    "colab": {
     "base_uri": "https://localhost:8080/"
    },
    "id": "7rWLd7GbDkHN",
    "outputId": "37701cb6-25be-4bcd-ace3-48085173a230",
    "scrolled": true
   },
   "outputs": [
    {
     "name": "stdout",
     "output_type": "stream",
     "text": [
      "Le temps dexecution est de :0.010063799999898038\n",
      "train: 0.6456692913385826\n",
      "validation: 0.6278026905829597\n",
      "test: 0.6330935251798561\n"
     ]
    },
    {
     "name": "stderr",
     "output_type": "stream",
     "text": [
      "[Parallel(n_jobs=1)]: Using backend SequentialBackend with 1 concurrent workers.\n",
      "[Parallel(n_jobs=1)]: Done   1 out of   1 | elapsed:    0.0s remaining:    0.0s\n",
      "[Parallel(n_jobs=1)]: Done   1 out of   1 | elapsed:    0.0s finished\n",
      "[Parallel(n_jobs=1)]: Using backend SequentialBackend with 1 concurrent workers.\n",
      "[Parallel(n_jobs=1)]: Done   1 out of   1 | elapsed:    0.0s remaining:    0.0s\n",
      "[Parallel(n_jobs=1)]: Done   1 out of   1 | elapsed:    0.0s finished\n",
      "[Parallel(n_jobs=1)]: Using backend SequentialBackend with 1 concurrent workers.\n",
      "[Parallel(n_jobs=1)]: Done   1 out of   1 | elapsed:    0.0s remaining:    0.0s\n",
      "[Parallel(n_jobs=1)]: Done   1 out of   1 | elapsed:    0.0s finished\n",
      "[Parallel(n_jobs=1)]: Using backend SequentialBackend with 1 concurrent workers.\n",
      "[Parallel(n_jobs=1)]: Done   1 out of   1 | elapsed:    0.0s remaining:    0.0s\n",
      "[Parallel(n_jobs=1)]: Done   1 out of   1 | elapsed:    0.0s finished\n"
     ]
    }
   ],
   "source": [
    "start = timeit.default_timer()\n",
    "\n",
    "modelBG = gridBG.best_estimator_\n",
    "modelBG.score(Xno_val, yno_val)\n",
    "\n",
    "stop = timeit.default_timer()\n",
    "execution_time = stop - start\n",
    "print(\"Le temps dexecution est de :\" + str(execution_time))\n",
    "print(\"train:\", modelBG.score(Xno_train, yno_train))\n",
    "print(\"validation:\", modelBG.score(Xno_val, yno_val))\n",
    "print(\"test:\", modelBG.score(Xno_test, yno_test))"
   ]
  },
  {
   "cell_type": "code",
   "execution_count": 205,
   "metadata": {
    "colab": {
     "base_uri": "https://localhost:8080/"
    },
    "id": "QVgoZO0NCD7M",
    "outputId": "c3a39261-8590-4719-fd5d-696f2e917afb"
   },
   "outputs": [
    {
     "name": "stderr",
     "output_type": "stream",
     "text": [
      "[Parallel(n_jobs=1)]: Using backend SequentialBackend with 1 concurrent workers.\n"
     ]
    },
    {
     "name": "stdout",
     "output_type": "stream",
     "text": [
      "Building estimator 1 of 22 for this parallel run (total 22)...\n",
      "Building estimator 2 of 22 for this parallel run (total 22)...\n",
      "Building estimator 3 of 22 for this parallel run (total 22)...\n",
      "Building estimator 4 of 22 for this parallel run (total 22)...\n",
      "Building estimator 5 of 22 for this parallel run (total 22)...\n",
      "Building estimator 6 of 22 for this parallel run (total 22)...\n",
      "Building estimator 7 of 22 for this parallel run (total 22)...\n",
      "Building estimator 8 of 22 for this parallel run (total 22)...\n",
      "Building estimator 9 of 22 for this parallel run (total 22)...\n",
      "Building estimator 10 of 22 for this parallel run (total 22)...\n",
      "Building estimator 11 of 22 for this parallel run (total 22)...\n",
      "Building estimator 12 of 22 for this parallel run (total 22)...\n",
      "Building estimator 13 of 22 for this parallel run (total 22)...\n",
      "Building estimator 14 of 22 for this parallel run (total 22)...\n",
      "Building estimator 15 of 22 for this parallel run (total 22)...\n",
      "Building estimator 16 of 22 for this parallel run (total 22)...\n",
      "Building estimator 17 of 22 for this parallel run (total 22)...\n",
      "Building estimator 18 of 22 for this parallel run (total 22)...\n",
      "Building estimator 19 of 22 for this parallel run (total 22)...\n",
      "Building estimator 20 of 22 for this parallel run (total 22)...\n",
      "Building estimator 21 of 22 for this parallel run (total 22)...\n",
      "Building estimator 22 of 22 for this parallel run (total 22)...\n",
      "0.7014388489208633\n",
      "[[104  27]\n",
      " [ 56  91]]\n",
      "              precision    recall  f1-score   support\n",
      "\n",
      "           0       0.65      0.79      0.71       131\n",
      "           1       0.77      0.62      0.69       147\n",
      "\n",
      "    accuracy                           0.70       278\n",
      "   macro avg       0.71      0.71      0.70       278\n",
      "weighted avg       0.71      0.70      0.70       278\n",
      "\n"
     ]
    },
    {
     "name": "stderr",
     "output_type": "stream",
     "text": [
      "[Parallel(n_jobs=1)]: Done   1 out of   1 | elapsed:    1.0s remaining:    0.0s\n",
      "[Parallel(n_jobs=1)]: Done   1 out of   1 | elapsed:    1.0s finished\n",
      "[Parallel(n_jobs=1)]: Using backend SequentialBackend with 1 concurrent workers.\n",
      "[Parallel(n_jobs=1)]: Done   1 out of   1 | elapsed:    0.0s remaining:    0.0s\n",
      "[Parallel(n_jobs=1)]: Done   1 out of   1 | elapsed:    0.0s finished\n"
     ]
    }
   ],
   "source": [
    "BG = BaggingClassifier(base_estimator=LogisticRegression(C=1,\n",
    "                                                         max_iter=82,\n",
    "                                                         penalty='none',\n",
    "                                                         solver='newton-cg'),\n",
    "                       max_features=7,\n",
    "                       max_samples=9,\n",
    "                       n_estimators=22,\n",
    "                       verbose=2)\n",
    "BG.fit(Xno_train, yno_train)\n",
    "y_pred_BG = BG.predict(Xno_test)\n",
    "print(accuracy_score(y_pred_BG, yno_test))\n",
    "print(confusion_matrix(yno_test, y_pred_BG))\n",
    "print(classification_report(yno_test, y_pred_BG))"
   ]
  },
  {
   "cell_type": "markdown",
   "metadata": {
    "id": "wuEltNcTepcW"
   },
   "source": [
    "### XGBClassifier"
   ]
  },
  {
   "cell_type": "code",
   "execution_count": 120,
   "metadata": {
    "colab": {
     "base_uri": "https://localhost:8080/"
    },
    "collapsed": true,
    "id": "LYUe9ayzexSb",
    "outputId": "496eb989-5bcd-48c9-c901-c936701f1fce"
   },
   "outputs": [
    {
     "name": "stdout",
     "output_type": "stream",
     "text": [
      "[12:33:49] WARNING: ..\\src\\learner.cc:541: \n",
      "Parameters: { n_estimator } might not be used.\n",
      "\n",
      "  This may not be accurate due to some parameters are only used in language bindings but\n",
      "  passed down to XGBoost core.  Or some parameters are not used but slip through this\n",
      "  verification. Please open an issue if you find above cases.\n",
      "\n",
      "\n",
      "[12:33:49] WARNING: ..\\src\\learner.cc:1061: Starting in XGBoost 1.3.0, the default evaluation metric used with the objective 'binary:logistic' was changed from 'error' to 'logloss'. Explicitly set eval_metric if you'd like to restore the old behavior.\n"
     ]
    },
    {
     "data": {
      "text/plain": [
       "GridSearchCV(cv=5,\n",
       "             estimator=XGBClassifier(base_score=None, booster=None,\n",
       "                                     colsample_bylevel=None,\n",
       "                                     colsample_bynode=None,\n",
       "                                     colsample_bytree=None, gamma=None,\n",
       "                                     gpu_id=None, importance_type='gain',\n",
       "                                     interaction_constraints=None,\n",
       "                                     learning_rate=None, max_delta_step=None,\n",
       "                                     max_depth=None, min_child_weight=None,\n",
       "                                     missing=nan, monotone_constraints=None,\n",
       "                                     n_estimators=100, n_jobs=None,\n",
       "                                     num_parallel_tree=None, random_state=None,\n",
       "                                     reg_alpha=None, reg_lambda=None,\n",
       "                                     scale_pos_weight=None, subsample=None,\n",
       "                                     tree_method=None, validate_parameters=None,\n",
       "                                     verbosity=None),\n",
       "             n_jobs=-1,\n",
       "             param_grid={'base_score': array([0.  , 0.25, 0.5 , 0.75, 1.  ]),\n",
       "                         'gamma': range(0, 2),\n",
       "                         'learning_rate': array([0.  , 0.25, 0.5 , 0.75, 1.  ]),\n",
       "                         'max_depth': range(3, 9),\n",
       "                         'n_estimator': range(98, 105)})"
      ]
     },
     "execution_count": 120,
     "metadata": {},
     "output_type": "execute_result"
    }
   ],
   "source": [
    "paramXGB = {\n",
    "    'learning_rate': np.linspace(0, 1, 5),\n",
    "    'base_score': np.linspace(0, 1, 5),\n",
    "    'gamma': range(0, 2),\n",
    "    'max_depth': range(3, 9),\n",
    "    'n_estimator': range(98, 105)\n",
    "}\n",
    "gridXGB = GridSearchCV(XGBClassifier(), paramXGB, cv=5, n_jobs=-1)\n",
    "gridXGB.fit(Xno_train, yno_train)"
   ]
  },
  {
   "cell_type": "code",
   "execution_count": 867,
   "metadata": {},
   "outputs": [
    {
     "data": {
      "text/plain": [
       "{'objective': 'binary:logistic',\n",
       " 'use_label_encoder': True,\n",
       " 'base_score': 0.5,\n",
       " 'booster': 'gbtree',\n",
       " 'colsample_bylevel': 1,\n",
       " 'colsample_bynode': 1,\n",
       " 'colsample_bytree': 1,\n",
       " 'gamma': 0,\n",
       " 'gpu_id': -1,\n",
       " 'importance_type': 'gain',\n",
       " 'interaction_constraints': '',\n",
       " 'learning_rate': 0.300000012,\n",
       " 'max_delta_step': 0,\n",
       " 'max_depth': 6,\n",
       " 'min_child_weight': 1,\n",
       " 'missing': nan,\n",
       " 'monotone_constraints': '()',\n",
       " 'n_estimators': 100,\n",
       " 'n_jobs': 8,\n",
       " 'num_parallel_tree': 1,\n",
       " 'random_state': 0,\n",
       " 'reg_alpha': 0,\n",
       " 'reg_lambda': 1,\n",
       " 'scale_pos_weight': 1,\n",
       " 'subsample': 1,\n",
       " 'tree_method': 'exact',\n",
       " 'validate_parameters': 1,\n",
       " 'verbosity': None}"
      ]
     },
     "execution_count": 867,
     "metadata": {},
     "output_type": "execute_result"
    }
   ],
   "source": [
    "xgb.get_params()"
   ]
  },
  {
   "cell_type": "code",
   "execution_count": 121,
   "metadata": {
    "colab": {
     "base_uri": "https://localhost:8080/"
    },
    "id": "XInyP6qPe-xr",
    "outputId": "db2e3a9f-5cdb-49b2-af25-a582f4a46e4a"
   },
   "outputs": [
    {
     "data": {
      "text/plain": [
       "0.8188789436932649"
      ]
     },
     "execution_count": 121,
     "metadata": {},
     "output_type": "execute_result"
    }
   ],
   "source": [
    "gridXGB.best_score_"
   ]
  },
  {
   "cell_type": "code",
   "execution_count": 132,
   "metadata": {
    "colab": {
     "base_uri": "https://localhost:8080/"
    },
    "id": "e4cnuVVShQg8",
    "outputId": "c49452c0-5356-49fa-882e-e421ce6195d5"
   },
   "outputs": [
    {
     "data": {
      "text/plain": [
       "{'base_score': 0.5,\n",
       " 'gamma': 1,\n",
       " 'learning_rate': 0.25,\n",
       " 'max_depth': 3,\n",
       " 'n_estimator': 98}"
      ]
     },
     "execution_count": 132,
     "metadata": {},
     "output_type": "execute_result"
    }
   ],
   "source": [
    "gridXGB.best_params_"
   ]
  },
  {
   "cell_type": "code",
   "execution_count": 133,
   "metadata": {
    "colab": {
     "base_uri": "https://localhost:8080/"
    },
    "id": "AsSOfpnThXXN",
    "outputId": "83b237c9-fc0e-479c-8c24-bab1a45bc1d4"
   },
   "outputs": [
    {
     "name": "stdout",
     "output_type": "stream",
     "text": [
      "Le temps dexecution est de :0.004603700000188837\n",
      "train: 0.9291338582677166\n",
      "validation: 0.8116591928251121\n",
      "test: 0.8489208633093526\n"
     ]
    }
   ],
   "source": [
    "start = timeit.default_timer()\n",
    "\n",
    "modelXGB = gridXGB.best_estimator_\n",
    "modelXGB.score(Xno_val, yno_val)\n",
    "\n",
    "stop = timeit.default_timer()\n",
    "execution_time = stop - start\n",
    "print(\"Le temps dexecution est de :\" + str(execution_time))\n",
    "print(\"train:\", modelXGB.score(Xno_train, yno_train))\n",
    "print(\"validation:\", modelXGB.score(Xno_val, yno_val))\n",
    "print(\"test:\", modelXGB.score(Xno_test, yno_test))"
   ]
  },
  {
   "cell_type": "code",
   "execution_count": 225,
   "metadata": {
    "colab": {
     "base_uri": "https://localhost:8080/"
    },
    "id": "qGNAqGz9Cb61",
    "outputId": "b734addb-2bad-4c41-d552-2b0823b7c71d"
   },
   "outputs": [
    {
     "name": "stdout",
     "output_type": "stream",
     "text": [
      "[15:00:37] WARNING: ..\\src\\learner.cc:541: \n",
      "Parameters: { base_estimator } might not be used.\n",
      "\n",
      "  This may not be accurate due to some parameters are only used in language bindings but\n",
      "  passed down to XGBoost core.  Or some parameters are not used but slip through this\n",
      "  verification. Please open an issue if you find above cases.\n",
      "\n",
      "\n",
      "[15:00:37] WARNING: ..\\src\\learner.cc:1061: Starting in XGBoost 1.3.0, the default evaluation metric used with the objective 'binary:logistic' was changed from 'error' to 'logloss'. Explicitly set eval_metric if you'd like to restore the old behavior.\n",
      "0.8489208633093526\n",
      "[[109  22]\n",
      " [ 20 127]]\n",
      "              precision    recall  f1-score   support\n",
      "\n",
      "           0       0.84      0.83      0.84       131\n",
      "           1       0.85      0.86      0.86       147\n",
      "\n",
      "    accuracy                           0.85       278\n",
      "   macro avg       0.85      0.85      0.85       278\n",
      "weighted avg       0.85      0.85      0.85       278\n",
      "\n"
     ]
    }
   ],
   "source": [
    "XGB = XGBClassifier(base_estimator=RandomForestClassifier(),\n",
    "                    learning_rate=0.25,\n",
    "                    base_score=0.5,\n",
    "                    n_estimators=98,\n",
    "                    max_depth=3,\n",
    "                    gamma=1)\n",
    "\n",
    "XGB.fit(Xno_train, yno_train)\n",
    "y_pred_XGB = XGB.predict(Xno_test)\n",
    "print(accuracy_score(y_pred_XGB, yno_test))\n",
    "print(confusion_matrix(yno_test, y_pred_XGB))\n",
    "print(classification_report(yno_test, y_pred_XGB))"
   ]
  },
  {
   "cell_type": "markdown",
   "metadata": {
    "id": "HaKSHQ5yh1FO"
   },
   "source": [
    "### AdaBoostClassifier"
   ]
  },
  {
   "cell_type": "code",
   "execution_count": 306,
   "metadata": {},
   "outputs": [
    {
     "data": {
      "text/plain": [
       "{'algorithm': 'SAMME.R',\n",
       " 'base_estimator': None,\n",
       " 'learning_rate': 1.0,\n",
       " 'n_estimators': 50,\n",
       " 'random_state': None}"
      ]
     },
     "execution_count": 306,
     "metadata": {},
     "output_type": "execute_result"
    }
   ],
   "source": [
    "ada.get_params()"
   ]
  },
  {
   "cell_type": "code",
   "execution_count": 320,
   "metadata": {
    "colab": {
     "base_uri": "https://localhost:8080/"
    },
    "id": "GxDc3RFSh52U",
    "outputId": "3a3b67e5-dd46-4686-ad68-7b162ef1023c"
   },
   "outputs": [
    {
     "data": {
      "text/plain": [
       "GridSearchCV(cv=5, estimator=AdaBoostClassifier(), n_jobs=-1,\n",
       "             param_grid={'algorithm': ['SAMME', 'SAMME.R'],\n",
       "                         'learning_rate': array([0.        , 0.14285714, 0.28571429, 0.42857143, 0.57142857,\n",
       "       0.71428571, 0.85714286, 1.        , 1.14285714, 1.28571429,\n",
       "       1.42857143, 1.57142857, 1.71428571, 1.85714286, 2.        ]),\n",
       "                         'n_estimators': range(60, 82)},\n",
       "             scoring='accuracy')"
      ]
     },
     "execution_count": 320,
     "metadata": {},
     "output_type": "execute_result"
    }
   ],
   "source": [
    "paramAda = {\n",
    "    'n_estimators': range(60, 82),\n",
    "    'algorithm': ['SAMME', 'SAMME.R'],\n",
    "    'learning_rate': np.linspace(0, 2, 15)\n",
    "}\n",
    "gridAda = GridSearchCV(AdaBoostClassifier(),\n",
    "                       paramAda,\n",
    "                       cv=5,\n",
    "                       scoring=\"accuracy\",\n",
    "                       n_jobs=-1)\n",
    "gridAda.fit(Xno_train, yno_train)"
   ]
  },
  {
   "cell_type": "code",
   "execution_count": 321,
   "metadata": {
    "colab": {
     "base_uri": "https://localhost:8080/"
    },
    "id": "c0cX2Ui1jxF-",
    "outputId": "9c248c0c-01c5-42d1-dfbe-a7a7425eb2de"
   },
   "outputs": [
    {
     "data": {
      "text/plain": [
       "0.8200025391988828"
      ]
     },
     "execution_count": 321,
     "metadata": {},
     "output_type": "execute_result"
    }
   ],
   "source": [
    "gridAda.best_score_"
   ]
  },
  {
   "cell_type": "code",
   "execution_count": 322,
   "metadata": {
    "colab": {
     "base_uri": "https://localhost:8080/"
    },
    "id": "pnrauq7Uj6Ko",
    "outputId": "bc2291b7-15e1-43c7-95a8-427ec0169810"
   },
   "outputs": [
    {
     "data": {
      "text/plain": [
       "{'algorithm': 'SAMME.R',\n",
       " 'learning_rate': 0.5714285714285714,\n",
       " 'n_estimators': 73}"
      ]
     },
     "execution_count": 322,
     "metadata": {},
     "output_type": "execute_result"
    }
   ],
   "source": [
    "gridAda.best_params_"
   ]
  },
  {
   "cell_type": "code",
   "execution_count": 323,
   "metadata": {
    "colab": {
     "base_uri": "https://localhost:8080/"
    },
    "id": "ro8Nyy5ikBmG",
    "outputId": "16d694b1-bcd8-402d-c4f4-9bc28b0ea348"
   },
   "outputs": [
    {
     "name": "stdout",
     "output_type": "stream",
     "text": [
      "Le temps dexecution est de :0.02297529999850667\n",
      "train: 0.8582677165354331\n",
      "validation: 0.8161434977578476\n",
      "test: 0.8201438848920863\n"
     ]
    }
   ],
   "source": [
    "start = timeit.default_timer()\n",
    "\n",
    "modelAda = gridAda.best_estimator_\n",
    "modelAda.score(Xno_val, yno_val)\n",
    "\n",
    "stop = timeit.default_timer()\n",
    "execution_time = stop - start\n",
    "print(\"Le temps dexecution est de :\" + str(execution_time))\n",
    "print(\"train:\", modelAda.score(Xno_train, yno_train))\n",
    "print(\"validation:\", modelAda.score(Xno_val, yno_val))\n",
    "print(\"test:\", modelAda.score(Xno_test, yno_test))"
   ]
  },
  {
   "cell_type": "code",
   "execution_count": 325,
   "metadata": {
    "colab": {
     "base_uri": "https://localhost:8080/"
    },
    "id": "Iu8uvCY5Les5",
    "outputId": "579c4983-671b-4d30-cec0-7ab386c5ed1e"
   },
   "outputs": [
    {
     "name": "stdout",
     "output_type": "stream",
     "text": [
      "0.8161434977578476\n",
      "[[96 26]\n",
      " [15 86]]\n",
      "              precision    recall  f1-score   support\n",
      "\n",
      "           0       0.86      0.79      0.82       122\n",
      "           1       0.77      0.85      0.81       101\n",
      "\n",
      "    accuracy                           0.82       223\n",
      "   macro avg       0.82      0.82      0.82       223\n",
      "weighted avg       0.82      0.82      0.82       223\n",
      "\n"
     ]
    }
   ],
   "source": [
    "Ada = AdaBoostClassifier(algorithm='SAMME.R',\n",
    "                         n_estimators=73,\n",
    "                         learning_rate=0.5714285714285714)\n",
    "\n",
    "Ada.fit(Xno_train, yno_train)\n",
    "\n",
    "y_pred_Ada = Ada.predict(Xno_val)\n",
    "print(accuracy_score(y_pred_Ada, yno_val))\n",
    "print(confusion_matrix(yno_val, y_pred_Ada))\n",
    "print(classification_report(yno_val, y_pred_Ada))"
   ]
  },
  {
   "cell_type": "markdown",
   "metadata": {},
   "source": [
    "## Méthodes d'ensemble"
   ]
  },
  {
   "cell_type": "markdown",
   "metadata": {},
   "source": [
    "### VotingClassifier"
   ]
  },
  {
   "cell_type": "code",
   "execution_count": 356,
   "metadata": {},
   "outputs": [
    {
     "name": "stdout",
     "output_type": "stream",
     "text": [
      "[17:56:35] WARNING: ..\\src\\learner.cc:1061: Starting in XGBoost 1.3.0, the default evaluation metric used with the objective 'binary:logistic' was changed from 'error' to 'logloss'. Explicitly set eval_metric if you'd like to restore the old behavior.\n",
      "XGBClassifier 0.8489208633093526\n",
      "RandomForestClassifier 0.8345323741007195\n",
      "ExtraTreesClassifier 0.8309352517985612\n",
      "[17:56:36] WARNING: ..\\src\\learner.cc:1061: Starting in XGBoost 1.3.0, the default evaluation metric used with the objective 'binary:logistic' was changed from 'error' to 'logloss'. Explicitly set eval_metric if you'd like to restore the old behavior.\n",
      "VotingClassifier 0.8489208633093526\n"
     ]
    }
   ],
   "source": [
    "model_1 = XGBClassifier(learning_rate=0.25,\n",
    "                        base_score=0.5,\n",
    "                        n_estimators=98,\n",
    "                        max_depth=3,\n",
    "                        gamma=1)\n",
    "\n",
    "model_2 = RandomForestClassifier(ccp_alpha=0.0,\n",
    "                                 min_samples_leaf=1,\n",
    "                                 min_samples_split=2,\n",
    "                                 min_weight_fraction_leaf=0.0,\n",
    "                                 n_estimators=117)\n",
    "\n",
    "model_3 = ExtraTreesClassifier(criterion='entropy',\n",
    "                               max_features=0.5,\n",
    "                               n_estimators=100,\n",
    "                               min_samples_split=2,\n",
    "                               min_samples_leaf=4)\n",
    "\n",
    "model_4 = VotingClassifier([('XGBoost', model_1), ('RandomForest', model_2),\n",
    "                            ('Extra', model_3)],\n",
    "                           voting='soft')\n",
    "\n",
    "for model in (model_1, model_2, model_3, model_4):\n",
    "    model.fit(Xno_train, yno_train)\n",
    "    print(model.__class__.__name__, model.score(Xno_test, yno_test))"
   ]
  },
  {
   "cell_type": "markdown",
   "metadata": {},
   "source": [
    "### Stacking"
   ]
  },
  {
   "cell_type": "code",
   "execution_count": 270,
   "metadata": {},
   "outputs": [
    {
     "name": "stdout",
     "output_type": "stream",
     "text": [
      "[15:13:40] WARNING: ..\\src\\learner.cc:1061: Starting in XGBoost 1.3.0, the default evaluation metric used with the objective 'binary:logistic' was changed from 'error' to 'logloss'. Explicitly set eval_metric if you'd like to restore the old behavior.\n"
     ]
    },
    {
     "data": {
      "text/plain": [
       "0.8525179856115108"
      ]
     },
     "execution_count": 270,
     "metadata": {},
     "output_type": "execute_result"
    }
   ],
   "source": [
    "model_4 = StackingClassifier([('XGBoost', model_1), ('RandomForest', model_2),\n",
    "                              ('Extra', model_3)],\n",
    "                             final_estimator=AdaBoostClassifier())\n",
    "\n",
    "model.fit(Xno_train, yno_train)\n",
    "model.score(Xno_test, yno_test)"
   ]
  },
  {
   "cell_type": "markdown",
   "metadata": {},
   "source": [
    "## Autres Modèles\n",
    "\n",
    "### ExtraTreesClassifier"
   ]
  },
  {
   "cell_type": "code",
   "execution_count": 331,
   "metadata": {
    "scrolled": false
   },
   "outputs": [
    {
     "name": "stdout",
     "output_type": "stream",
     "text": [
      "Train Score : 1.0\n",
      "test Score : 0.8093525179856115\n"
     ]
    },
    {
     "data": {
      "text/plain": [
       "[<matplotlib.lines.Line2D at 0x26ea2a1efa0>]"
      ]
     },
     "execution_count": 331,
     "metadata": {},
     "output_type": "execute_result"
    },
    {
     "data": {
      "image/png": "[encoded data removed]",
      "text/plain": [
       "<Figure size 864x576 with 1 Axes>"
      ]
     },
     "metadata": {
      "needs_background": "light"
     },
     "output_type": "display_data"
    }
   ],
   "source": [
    "extra = ExtraTreesClassifier()\n",
    "extra.fit(Xno_train, yno_train)\n",
    "print('Train Score :', extra.score(Xno_train, yno_train))\n",
    "print('test Score :', extra.score(Xno_test, yno_test))\n",
    "\n",
    "N, train_score, val_score = learning_curve(log,\n",
    "                                           Xno_train,\n",
    "                                           yno_train,\n",
    "                                           scoring='accuracy',\n",
    "                                           cv=5,\n",
    "                                           train_sizes=np.linspace(0.1, 1, 10))\n",
    "plt.figure(figsize=(12, 8))\n",
    "plt.plot(N, train_score.mean(axis=1), label='train score')\n",
    "plt.plot(N, val_score.mean(axis=1), label='validation score')"
   ]
  },
  {
   "cell_type": "code",
   "execution_count": 171,
   "metadata": {},
   "outputs": [
    {
     "data": {
      "text/plain": [
       "{'bootstrap': False,\n",
       " 'ccp_alpha': 0.0,\n",
       " 'class_weight': None,\n",
       " 'criterion': 'gini',\n",
       " 'max_depth': None,\n",
       " 'max_features': 'auto',\n",
       " 'max_leaf_nodes': None,\n",
       " 'max_samples': None,\n",
       " 'min_impurity_decrease': 0.0,\n",
       " 'min_impurity_split': None,\n",
       " 'min_samples_leaf': 1,\n",
       " 'min_samples_split': 2,\n",
       " 'min_weight_fraction_leaf': 0.0,\n",
       " 'n_estimators': 100,\n",
       " 'n_jobs': None,\n",
       " 'oob_score': False,\n",
       " 'random_state': None,\n",
       " 'verbose': 0,\n",
       " 'warm_start': False}"
      ]
     },
     "execution_count": 171,
     "metadata": {},
     "output_type": "execute_result"
    }
   ],
   "source": [
    "extra.get_params()"
   ]
  },
  {
   "cell_type": "code",
   "execution_count": 145,
   "metadata": {},
   "outputs": [
    {
     "data": {
      "text/plain": [
       "GridSearchCV(cv=5, estimator=ExtraTreesClassifier(), n_jobs=-1,\n",
       "             param_grid={'criterion': ['entropy', 'gini'],\n",
       "                         'max_features': array([0. , 0.5, 1. , 1.5, 2. ]),\n",
       "                         'min_samples_leaf': range(1, 5),\n",
       "                         'min_samples_split': range(1, 5),\n",
       "                         'n_estimators': range(97, 103)},\n",
       "             scoring='accuracy')"
      ]
     },
     "execution_count": 145,
     "metadata": {},
     "output_type": "execute_result"
    }
   ],
   "source": [
    "paramextra = {\n",
    "    'criterion': ['entropy', 'gini'],\n",
    "    'n_estimators': range(97, 103),\n",
    "    'min_samples_leaf': range(1, 5),\n",
    "    'min_samples_split': range(1, 5),\n",
    "    'max_features': np.linspace(0, 2, 5)\n",
    "}\n",
    "gridextra = GridSearchCV(ExtraTreesClassifier(),\n",
    "                         paramextra,\n",
    "                         cv=5,\n",
    "                         scoring=\"accuracy\",\n",
    "                         n_jobs=-1)\n",
    "gridextra.fit(Xno_train, yno_train)"
   ]
  },
  {
   "cell_type": "code",
   "execution_count": 146,
   "metadata": {},
   "outputs": [
    {
     "data": {
      "text/plain": [
       "0.7907636640639878"
      ]
     },
     "execution_count": 146,
     "metadata": {},
     "output_type": "execute_result"
    }
   ],
   "source": [
    "gridextra.best_score_"
   ]
  },
  {
   "cell_type": "code",
   "execution_count": 147,
   "metadata": {},
   "outputs": [
    {
     "data": {
      "text/plain": [
       "{'criterion': 'entropy',\n",
       " 'max_features': 0.5,\n",
       " 'min_samples_leaf': 4,\n",
       " 'min_samples_split': 2,\n",
       " 'n_estimators': 100}"
      ]
     },
     "execution_count": 147,
     "metadata": {},
     "output_type": "execute_result"
    }
   ],
   "source": [
    "gridextra.best_params_"
   ]
  },
  {
   "cell_type": "code",
   "execution_count": 148,
   "metadata": {},
   "outputs": [
    {
     "name": "stdout",
     "output_type": "stream",
     "text": [
      "Le temps dexecution est de :0.019032199999855948\n",
      "train: 0.96962879640045\n",
      "Validation: 0.7937219730941704\n",
      "test: 0.8201438848920863\n"
     ]
    }
   ],
   "source": [
    "start = timeit.default_timer()\n",
    "\n",
    "modelextra = gridextra.best_estimator_\n",
    "modelextra.score(Xno_test, yno_test)\n",
    "\n",
    "stop = timeit.default_timer()\n",
    "execution_time = stop - start\n",
    "print(\"Le temps dexecution est de :\" + str(execution_time))\n",
    "print(\"train:\", modelextra.score(Xno_train, yno_train))\n",
    "print(\"Validation:\", modelextra.score(Xno_val, yno_val))\n",
    "print(\"test:\", modelextra.score(Xno_test, yno_test))"
   ]
  },
  {
   "cell_type": "code",
   "execution_count": 158,
   "metadata": {},
   "outputs": [
    {
     "name": "stdout",
     "output_type": "stream",
     "text": [
      "0.841726618705036\n",
      "[[102  29]\n",
      " [ 15 132]]\n",
      "              precision    recall  f1-score   support\n",
      "\n",
      "           0       0.87      0.78      0.82       131\n",
      "           1       0.82      0.90      0.86       147\n",
      "\n",
      "    accuracy                           0.84       278\n",
      "   macro avg       0.85      0.84      0.84       278\n",
      "weighted avg       0.84      0.84      0.84       278\n",
      "\n"
     ]
    }
   ],
   "source": [
    "Extra = ExtraTreesClassifier(criterion='entropy',\n",
    "                             max_features=0.5,\n",
    "                             n_estimators=100,\n",
    "                             min_samples_split=2,\n",
    "                             min_samples_leaf=4)\n",
    "\n",
    "Extra.fit(Xno_train, yno_train)\n",
    "y_pred_Extra = Extra.predict(Xno_test)\n",
    "print(accuracy_score(y_pred_Extra, yno_test))\n",
    "print(confusion_matrix(yno_test, y_pred_Extra))\n",
    "print(classification_report(yno_test, y_pred_Extra))"
   ]
  },
  {
   "cell_type": "markdown",
   "metadata": {},
   "source": [
    "### GradientBoostingClassifier\n"
   ]
  },
  {
   "cell_type": "code",
   "execution_count": 332,
   "metadata": {},
   "outputs": [
    {
     "name": "stdout",
     "output_type": "stream",
     "text": [
      "Train Score: 0.9347581552305961\n",
      "test Score : 0.8489208633093526\n"
     ]
    },
    {
     "data": {
      "text/plain": [
       "[<matplotlib.lines.Line2D at 0x26ea70b2250>]"
      ]
     },
     "execution_count": 332,
     "metadata": {},
     "output_type": "execute_result"
    },
    {
     "data": {
      "image/png": "[encoded data removed]",
      "text/plain": [
       "<Figure size 864x576 with 1 Axes>"
      ]
     },
     "metadata": {
      "needs_background": "light"
     },
     "output_type": "display_data"
    }
   ],
   "source": [
    "grad = GradientBoostingClassifier()\n",
    "grad.fit(Xno_train, yno_train)\n",
    "print('Train Score:', grad.score(Xno_train, yno_train))\n",
    "print('test Score :', grad.score(Xno_test, yno_test))\n",
    "\n",
    "N, train_score, val_score = learning_curve(log,\n",
    "                                           Xno_train,\n",
    "                                           yno_train,\n",
    "                                           scoring='accuracy',\n",
    "                                           cv=5,\n",
    "                                           train_sizes=np.linspace(0.1, 1, 10))\n",
    "plt.figure(figsize=(12, 8))\n",
    "plt.plot(N, train_score.mean(axis=1), label='train score')\n",
    "plt.plot(N, val_score.mean(axis=1), label='validation score')"
   ]
  },
  {
   "cell_type": "code",
   "execution_count": 161,
   "metadata": {},
   "outputs": [
    {
     "data": {
      "text/plain": [
       "{'ccp_alpha': 0.0,\n",
       " 'criterion': 'friedman_mse',\n",
       " 'init': None,\n",
       " 'learning_rate': 0.1,\n",
       " 'loss': 'deviance',\n",
       " 'max_depth': 3,\n",
       " 'max_features': None,\n",
       " 'max_leaf_nodes': None,\n",
       " 'min_impurity_decrease': 0.0,\n",
       " 'min_impurity_split': None,\n",
       " 'min_samples_leaf': 1,\n",
       " 'min_samples_split': 2,\n",
       " 'min_weight_fraction_leaf': 0.0,\n",
       " 'n_estimators': 100,\n",
       " 'n_iter_no_change': None,\n",
       " 'random_state': None,\n",
       " 'subsample': 1.0,\n",
       " 'tol': 0.0001,\n",
       " 'validation_fraction': 0.1,\n",
       " 'verbose': 0,\n",
       " 'warm_start': False}"
      ]
     },
     "execution_count": 161,
     "metadata": {},
     "output_type": "execute_result"
    }
   ],
   "source": [
    "grad.get_params()"
   ]
  },
  {
   "cell_type": "code",
   "execution_count": 335,
   "metadata": {},
   "outputs": [
    {
     "data": {
      "text/plain": [
       "GridSearchCV(cv=5, estimator=GradientBoostingClassifier(), n_jobs=-1,\n",
       "             param_grid={'max_depth': range(5, 15),\n",
       "                         'max_features': array([0.        , 0.35714286, 0.71428571, 1.07142857, 1.42857143,\n",
       "       1.78571429, 2.14285714, 2.5       , 2.85714286, 3.21428571,\n",
       "       3.57142857, 3.92857143, 4.28571429, 4.64285714, 5.        ]),\n",
       "                         'min_samples_leaf': range(1, 5),\n",
       "                         'min_samples_split': range(1, 5),\n",
       "                         'min_weight_fraction_leaf': array([0.  , 0.25, 0.5 , 0.75, 1.  ]),\n",
       "                         'n_estimators': range(96, 100)},\n",
       "             scoring='accuracy')"
      ]
     },
     "execution_count": 335,
     "metadata": {},
     "output_type": "execute_result"
    }
   ],
   "source": [
    "paramgrad = {\n",
    "    'n_estimators': range(96, 100),\n",
    "    'max_depth': range(5, 15),\n",
    "    'max_features': np.linspace(0, 5, 15),\n",
    "    'min_samples_leaf': range(1, 5),\n",
    "    'min_samples_split': range(1, 5),\n",
    "    'min_weight_fraction_leaf': np.linspace(0, 1, 5)\n",
    "}\n",
    "gridgrad = GridSearchCV(GradientBoostingClassifier(),\n",
    "                        paramgrad,\n",
    "                        cv=5,\n",
    "                        scoring=\"accuracy\",\n",
    "                        n_jobs=-1)\n",
    "gridgrad.fit(Xno_train, yno_train)"
   ]
  },
  {
   "cell_type": "code",
   "execution_count": 336,
   "metadata": {},
   "outputs": [
    {
     "data": {
      "text/plain": [
       "0.8233669777185296"
      ]
     },
     "execution_count": 336,
     "metadata": {},
     "output_type": "execute_result"
    }
   ],
   "source": [
    "gridgrad.best_score_"
   ]
  },
  {
   "cell_type": "code",
   "execution_count": 337,
   "metadata": {},
   "outputs": [
    {
     "data": {
      "text/plain": [
       "{'max_depth': 8,\n",
       " 'max_features': 0.35714285714285715,\n",
       " 'min_samples_leaf': 2,\n",
       " 'min_samples_split': 4,\n",
       " 'min_weight_fraction_leaf': 0.0,\n",
       " 'n_estimators': 98}"
      ]
     },
     "execution_count": 337,
     "metadata": {},
     "output_type": "execute_result"
    }
   ],
   "source": [
    "gridgrad.best_params_"
   ]
  },
  {
   "cell_type": "code",
   "execution_count": 338,
   "metadata": {},
   "outputs": [
    {
     "name": "stdout",
     "output_type": "stream",
     "text": [
      "Le temps dexecution est de :0.00897120000081486\n",
      "train: 1.0\n",
      "Validation: 0.8026905829596412\n",
      "test: 0.8453237410071942\n"
     ]
    }
   ],
   "source": [
    "start = timeit.default_timer()\n",
    "\n",
    "modelGrad = gridgrad.best_estimator_\n",
    "modelGrad.score(Xno_test, yno_test)\n",
    "\n",
    "stop = timeit.default_timer()\n",
    "execution_time = stop - start\n",
    "print(\"Le temps dexecution est de :\" + str(execution_time))\n",
    "print(\"train:\", modelGrad.score(Xno_train, yno_train))\n",
    "print(\"Validation:\", modelGrad.score(Xno_val, yno_val))\n",
    "print(\"test:\", modelGrad.score(Xno_test, yno_test))"
   ]
  },
  {
   "cell_type": "code",
   "execution_count": 196,
   "metadata": {},
   "outputs": [
    {
     "name": "stdout",
     "output_type": "stream",
     "text": [
      "0.8345323741007195\n",
      "[[105  26]\n",
      " [ 20 127]]\n",
      "              precision    recall  f1-score   support\n",
      "\n",
      "           0       0.84      0.80      0.82       131\n",
      "           1       0.83      0.86      0.85       147\n",
      "\n",
      "    accuracy                           0.83       278\n",
      "   macro avg       0.84      0.83      0.83       278\n",
      "weighted avg       0.83      0.83      0.83       278\n",
      "\n"
     ]
    }
   ],
   "source": [
    "grad = GradientBoostingClassifier(max_depth=9,\n",
    "                                  max_features=0.36,\n",
    "                                  n_estimators=98)\n",
    "\n",
    "grad.fit(Xno_train, yno_train)\n",
    "y_pred_grad = grad.predict(Xno_test)\n",
    "print(accuracy_score(y_pred_grad, yno_test))\n",
    "print(confusion_matrix(yno_test, y_pred_grad))\n",
    "print(classification_report(yno_test, y_pred_grad))"
   ]
  }
 ],
 "metadata": {
  "colab": {
   "collapsed_sections": [],
   "name": "modèle.ipynb",
   "provenance": []
  },
  "hide_input": false,
  "kernelspec": {
   "display_name": "Python 3",
   "language": "python",
   "name": "python3"
  },
  "language_info": {
   "codemirror_mode": {
    "name": "ipython",
    "version": 3
   },
   "file_extension": ".py",
   "mimetype": "text/x-python",
   "name": "python",
   "nbconvert_exporter": "python",
   "pygments_lexer": "ipython3",
   "version": "3.8.5"
  },
  "toc": {
   "base_numbering": 1,
   "nav_menu": {},
   "number_sections": true,
   "sideBar": true,
   "skip_h1_title": false,
   "title_cell": "Sommaire",
   "title_sidebar": "Contents",
   "toc_cell": true,
   "toc_position": {
    "height": "calc(100% - 180px)",
    "left": "10px",
    "top": "150px",
    "width": "275.867px"
   },
   "toc_section_display": true,
   "toc_window_display": true
  },
  "varInspector": {
   "cols": {
    "lenName": 16,
    "lenType": 16,
    "lenVar": 40
   },
   "kernels_config": {
    "python": {
     "delete_cmd_postfix": "",
     "delete_cmd_prefix": "del ",
     "library": "var_list.py",
     "varRefreshCmd": "print(var_dic_list())"
    },
    "r": {
     "delete_cmd_postfix": ") ",
     "delete_cmd_prefix": "rm(",
     "library": "var_list.r",
     "varRefreshCmd": "cat(var_dic_list()) "
    }
   },
   "types_to_exclude": [
    "module",
    "function",
    "builtin_function_or_method",
    "instance",
    "_Feature"
   ],
   "window_display": false
  }
 },
 "nbformat": 4,
 "nbformat_minor": 1
}
